{
 "cells": [
  {
   "cell_type": "markdown",
   "id": "b77b6a9a",
   "metadata": {},
   "source": [
    "### CÓDIGO COMÚN"
   ]
  },
  {
   "cell_type": "code",
   "execution_count": 1,
   "id": "006afc76",
   "metadata": {},
   "outputs": [
    {
     "name": "stdout",
     "output_type": "stream",
     "text": [
      "Librerías importadas correctamente\n"
     ]
    }
   ],
   "source": [
    "import warnings\n",
    "warnings.filterwarnings('ignore')\n",
    "\n",
    "import pandas as pd\n",
    "import numpy as np\n",
    "import matplotlib.pyplot as plt\n",
    "import seaborn as sns\n",
    "from sklearn.preprocessing import LabelEncoder, OrdinalEncoder, MinMaxScaler\n",
    "import statistics as stat\n",
    "\n",
    "print('Librerías importadas correctamente')"
   ]
  },
  {
   "cell_type": "code",
   "execution_count": 2,
   "id": "3fa09124",
   "metadata": {},
   "outputs": [],
   "source": [
    "bmw = pd.read_csv('/Users/davidlarre/Desktop/PROYECTOS/ENTREGABLE 1/data/bmw_pricing.csv')\n",
    "df_bmw = bmw.copy()"
   ]
  },
  {
   "cell_type": "code",
   "execution_count": 3,
   "id": "ec7351f3",
   "metadata": {},
   "outputs": [
    {
     "name": "stdout",
     "output_type": "stream",
     "text": [
      "fecha_registro    datetime64[ns]\n",
      "fecha_venta       datetime64[ns]\n",
      "dtype: object\n",
      "fecha_registro    datetime64[ns]\n",
      "fecha_venta       datetime64[ns]\n",
      "dtype: object\n"
     ]
    }
   ],
   "source": [
    "# Se modifica el dtype de las columnas 'fecha_registro' y 'fecha_venta' a datetime\n",
    "for i in ['fecha_registro','fecha_venta']:\n",
    "    df_bmw[i]=pd.to_datetime(df_bmw[i])\n",
    "# Comprobamos el cambio de dtype\n",
    "print(df_bmw[['fecha_registro','fecha_venta']].dtypes)\n",
    "\n",
    "# Se modifica el dtype de las columnas 'fecha_registro' y 'fecha_venta' a datetime\n",
    "for i in ['fecha_registro','fecha_venta']:\n",
    "    bmw[i]=pd.to_datetime(df_bmw[i])\n",
    "# Comprobamos el cambio de dtype\n",
    "print(bmw[['fecha_registro','fecha_venta']].dtypes)"
   ]
  },
  {
   "cell_type": "code",
   "execution_count": 4,
   "id": "f19149ff",
   "metadata": {},
   "outputs": [
    {
     "data": {
      "text/html": [
       "<div>\n",
       "<style scoped>\n",
       "    .dataframe tbody tr th:only-of-type {\n",
       "        vertical-align: middle;\n",
       "    }\n",
       "\n",
       "    .dataframe tbody tr th {\n",
       "        vertical-align: top;\n",
       "    }\n",
       "\n",
       "    .dataframe thead th {\n",
       "        text-align: right;\n",
       "    }\n",
       "</style>\n",
       "<table border=\"1\" class=\"dataframe\">\n",
       "  <thead>\n",
       "    <tr style=\"text-align: right;\">\n",
       "      <th></th>\n",
       "      <th>año_registro</th>\n",
       "      <th>año_venta</th>\n",
       "    </tr>\n",
       "  </thead>\n",
       "  <tbody>\n",
       "    <tr>\n",
       "      <th>0</th>\n",
       "      <td>2012.0</td>\n",
       "      <td>2018.0</td>\n",
       "    </tr>\n",
       "    <tr>\n",
       "      <th>1</th>\n",
       "      <td>NaN</td>\n",
       "      <td>2018.0</td>\n",
       "    </tr>\n",
       "    <tr>\n",
       "      <th>2</th>\n",
       "      <td>2012.0</td>\n",
       "      <td>2018.0</td>\n",
       "    </tr>\n",
       "    <tr>\n",
       "      <th>3</th>\n",
       "      <td>NaN</td>\n",
       "      <td>2018.0</td>\n",
       "    </tr>\n",
       "    <tr>\n",
       "      <th>4</th>\n",
       "      <td>NaN</td>\n",
       "      <td>2018.0</td>\n",
       "    </tr>\n",
       "    <tr>\n",
       "      <th>5</th>\n",
       "      <td>2011.0</td>\n",
       "      <td>2018.0</td>\n",
       "    </tr>\n",
       "    <tr>\n",
       "      <th>6</th>\n",
       "      <td>NaN</td>\n",
       "      <td>2018.0</td>\n",
       "    </tr>\n",
       "    <tr>\n",
       "      <th>7</th>\n",
       "      <td>2009.0</td>\n",
       "      <td>2018.0</td>\n",
       "    </tr>\n",
       "    <tr>\n",
       "      <th>8</th>\n",
       "      <td>NaN</td>\n",
       "      <td>2018.0</td>\n",
       "    </tr>\n",
       "    <tr>\n",
       "      <th>9</th>\n",
       "      <td>NaN</td>\n",
       "      <td>2018.0</td>\n",
       "    </tr>\n",
       "  </tbody>\n",
       "</table>\n",
       "</div>"
      ],
      "text/plain": [
       "   año_registro  año_venta\n",
       "0        2012.0     2018.0\n",
       "1           NaN     2018.0\n",
       "2        2012.0     2018.0\n",
       "3           NaN     2018.0\n",
       "4           NaN     2018.0\n",
       "5        2011.0     2018.0\n",
       "6           NaN     2018.0\n",
       "7        2009.0     2018.0\n",
       "8           NaN     2018.0\n",
       "9           NaN     2018.0"
      ]
     },
     "execution_count": 4,
     "metadata": {},
     "output_type": "execute_result"
    }
   ],
   "source": [
    "# Consideramos que las fechas completas no aportan información relevante, por lo que vamos a crear nuevas columnas solo con el año\n",
    "df_bmw['año_registro'] = df_bmw['fecha_registro'].dt.year\n",
    "df_bmw['año_venta'] = df_bmw['fecha_venta'].dt.year\n",
    "# Comprobamos que se han creado correctamente\n",
    "df_bmw[['año_registro','año_venta']].head(10)\n",
    "\n",
    "# Consideramos que las fechas completas no aportan información relevante, por lo que vamos a crear nuevas columnas solo con el año\n",
    "bmw['año_registro'] = bmw['fecha_registro'].dt.year\n",
    "bmw['año_venta'] = bmw['fecha_venta'].dt.year\n",
    "# Comprobamos que se han creado correctamente\n",
    "bmw[['año_registro','año_venta']].head(10)"
   ]
  },
  {
   "cell_type": "code",
   "execution_count": 5,
   "id": "b3e4e80a",
   "metadata": {},
   "outputs": [
    {
     "data": {
      "text/html": [
       "<div>\n",
       "<style scoped>\n",
       "    .dataframe tbody tr th:only-of-type {\n",
       "        vertical-align: middle;\n",
       "    }\n",
       "\n",
       "    .dataframe tbody tr th {\n",
       "        vertical-align: top;\n",
       "    }\n",
       "\n",
       "    .dataframe thead th {\n",
       "        text-align: right;\n",
       "    }\n",
       "</style>\n",
       "<table border=\"1\" class=\"dataframe\">\n",
       "  <thead>\n",
       "    <tr style=\"text-align: right;\">\n",
       "      <th></th>\n",
       "      <th>NULOS</th>\n",
       "      <th>% NULOS</th>\n",
       "      <th>VALORES UNICOS</th>\n",
       "    </tr>\n",
       "  </thead>\n",
       "  <tbody>\n",
       "    <tr>\n",
       "      <th>asientos_traseros_plegables</th>\n",
       "      <td>3391</td>\n",
       "      <td>70.018584</td>\n",
       "      <td>2</td>\n",
       "    </tr>\n",
       "    <tr>\n",
       "      <th>año_registro</th>\n",
       "      <td>2423</td>\n",
       "      <td>50.030973</td>\n",
       "      <td>23</td>\n",
       "    </tr>\n",
       "    <tr>\n",
       "      <th>fecha_registro</th>\n",
       "      <td>2423</td>\n",
       "      <td>50.030973</td>\n",
       "      <td>180</td>\n",
       "    </tr>\n",
       "    <tr>\n",
       "      <th>tipo_coche</th>\n",
       "      <td>1460</td>\n",
       "      <td>30.146603</td>\n",
       "      <td>8</td>\n",
       "    </tr>\n",
       "    <tr>\n",
       "      <th>marca</th>\n",
       "      <td>970</td>\n",
       "      <td>20.028908</td>\n",
       "      <td>1</td>\n",
       "    </tr>\n",
       "    <tr>\n",
       "      <th>bluetooth</th>\n",
       "      <td>728</td>\n",
       "      <td>15.032005</td>\n",
       "      <td>2</td>\n",
       "    </tr>\n",
       "    <tr>\n",
       "      <th>alerta_lim_velocidad</th>\n",
       "      <td>728</td>\n",
       "      <td>15.032005</td>\n",
       "      <td>2</td>\n",
       "    </tr>\n",
       "    <tr>\n",
       "      <th>aire_acondicionado</th>\n",
       "      <td>486</td>\n",
       "      <td>10.035102</td>\n",
       "      <td>2</td>\n",
       "    </tr>\n",
       "    <tr>\n",
       "      <th>color</th>\n",
       "      <td>445</td>\n",
       "      <td>9.188520</td>\n",
       "      <td>10</td>\n",
       "    </tr>\n",
       "    <tr>\n",
       "      <th>precio</th>\n",
       "      <td>6</td>\n",
       "      <td>0.123890</td>\n",
       "      <td>437</td>\n",
       "    </tr>\n",
       "    <tr>\n",
       "      <th>tipo_gasolina</th>\n",
       "      <td>5</td>\n",
       "      <td>0.103242</td>\n",
       "      <td>5</td>\n",
       "    </tr>\n",
       "    <tr>\n",
       "      <th>volante_regulable</th>\n",
       "      <td>4</td>\n",
       "      <td>0.082593</td>\n",
       "      <td>2</td>\n",
       "    </tr>\n",
       "    <tr>\n",
       "      <th>modelo</th>\n",
       "      <td>3</td>\n",
       "      <td>0.061945</td>\n",
       "      <td>76</td>\n",
       "    </tr>\n",
       "    <tr>\n",
       "      <th>camara_trasera</th>\n",
       "      <td>2</td>\n",
       "      <td>0.041297</td>\n",
       "      <td>2</td>\n",
       "    </tr>\n",
       "    <tr>\n",
       "      <th>elevalunas_electrico</th>\n",
       "      <td>2</td>\n",
       "      <td>0.041297</td>\n",
       "      <td>2</td>\n",
       "    </tr>\n",
       "    <tr>\n",
       "      <th>km</th>\n",
       "      <td>2</td>\n",
       "      <td>0.041297</td>\n",
       "      <td>4784</td>\n",
       "    </tr>\n",
       "    <tr>\n",
       "      <th>potencia</th>\n",
       "      <td>1</td>\n",
       "      <td>0.020648</td>\n",
       "      <td>61</td>\n",
       "    </tr>\n",
       "    <tr>\n",
       "      <th>fecha_venta</th>\n",
       "      <td>1</td>\n",
       "      <td>0.020648</td>\n",
       "      <td>13</td>\n",
       "    </tr>\n",
       "    <tr>\n",
       "      <th>año_venta</th>\n",
       "      <td>1</td>\n",
       "      <td>0.020648</td>\n",
       "      <td>5</td>\n",
       "    </tr>\n",
       "    <tr>\n",
       "      <th>gps</th>\n",
       "      <td>0</td>\n",
       "      <td>0.000000</td>\n",
       "      <td>2</td>\n",
       "    </tr>\n",
       "  </tbody>\n",
       "</table>\n",
       "</div>"
      ],
      "text/plain": [
       "                             NULOS    % NULOS  VALORES UNICOS\n",
       "asientos_traseros_plegables   3391  70.018584               2\n",
       "año_registro                  2423  50.030973              23\n",
       "fecha_registro                2423  50.030973             180\n",
       "tipo_coche                    1460  30.146603               8\n",
       "marca                          970  20.028908               1\n",
       "bluetooth                      728  15.032005               2\n",
       "alerta_lim_velocidad           728  15.032005               2\n",
       "aire_acondicionado             486  10.035102               2\n",
       "color                          445   9.188520              10\n",
       "precio                           6   0.123890             437\n",
       "tipo_gasolina                    5   0.103242               5\n",
       "volante_regulable                4   0.082593               2\n",
       "modelo                           3   0.061945              76\n",
       "camara_trasera                   2   0.041297               2\n",
       "elevalunas_electrico             2   0.041297               2\n",
       "km                               2   0.041297            4784\n",
       "potencia                         1   0.020648              61\n",
       "fecha_venta                      1   0.020648              13\n",
       "año_venta                        1   0.020648               5\n",
       "gps                              0   0.000000               2"
      ]
     },
     "execution_count": 5,
     "metadata": {},
     "output_type": "execute_result"
    }
   ],
   "source": [
    "# Creamos una función para crear un DataFrame con la cantidad de nulos, el porcentaje de nulos y los valores únicos de cada columna. Ordenaremos el df por el porcentaje de nulos\n",
    "def tabla_nulos(dataset):\n",
    "    nulos = dataset.isnull().sum()\n",
    "    porcentaje = dataset.isnull().mean() * 100\n",
    "    unicos = dataset.nunique()\n",
    "    \n",
    "    df_nulos = pd.DataFrame({\n",
    "        'NULOS': nulos,\n",
    "        '% NULOS': porcentaje,\n",
    "        'VALORES UNICOS': unicos\n",
    "        }).sort_values(by='% NULOS', ascending=False)\n",
    "    return df_nulos\n",
    "    \n",
    "tabla_nulos(df_bmw)\n",
    "tabla_nulos(bmw)"
   ]
  },
  {
   "cell_type": "code",
   "execution_count": 6,
   "id": "191f7ad3",
   "metadata": {},
   "outputs": [],
   "source": [
    "# Creamos un diccionario para almacenar el porcentaje que tiene cada valor respecto al total de cada columna\n",
    "distribuciones = {}\n",
    "for i in df_bmw:\n",
    "    distribuciones[i] = df_bmw[i].value_counts(normalize=True)"
   ]
  },
  {
   "cell_type": "code",
   "execution_count": 7,
   "id": "5e12f91e",
   "metadata": {},
   "outputs": [],
   "source": [
    "def obtener_moda(x):\n",
    "    moda = x.mode()\n",
    "    if not moda.empty:\n",
    "        return moda.iloc[0]\n",
    "    else:\n",
    "        return np.nan"
   ]
  },
  {
   "cell_type": "code",
   "execution_count": 8,
   "id": "1489e4fc",
   "metadata": {},
   "outputs": [],
   "source": [
    "# 1. Cargar el dataset original\n",
    "df_bmw_original = pd.read_csv('/Users/davidlarre/Desktop/PROYECTOS/ENTREGABLE 1/bmw_original.csv')"
   ]
  },
  {
   "cell_type": "markdown",
   "id": "3dff70ab",
   "metadata": {},
   "source": [
    "## COMPROBACION DE LA IMPUTACIÓN DE TIPO COCHE"
   ]
  },
  {
   "cell_type": "markdown",
   "id": "459fdb77",
   "metadata": {},
   "source": [
    "### VERSIÓN 1 - 72,05% "
   ]
  },
  {
   "cell_type": "code",
   "execution_count": 9,
   "id": "05eb6b62",
   "metadata": {},
   "outputs": [],
   "source": [
    "df_bmw['edad_coche'] = df_bmw['año_venta'] - df_bmw['año_registro']"
   ]
  },
  {
   "cell_type": "code",
   "execution_count": 10,
   "id": "301606c7",
   "metadata": {},
   "outputs": [
    {
     "data": {
      "text/html": [
       "<div>\n",
       "<style scoped>\n",
       "    .dataframe tbody tr th:only-of-type {\n",
       "        vertical-align: middle;\n",
       "    }\n",
       "\n",
       "    .dataframe tbody tr th {\n",
       "        vertical-align: top;\n",
       "    }\n",
       "\n",
       "    .dataframe thead th {\n",
       "        text-align: right;\n",
       "    }\n",
       "</style>\n",
       "<table border=\"1\" class=\"dataframe\">\n",
       "  <thead>\n",
       "    <tr style=\"text-align: right;\">\n",
       "      <th></th>\n",
       "      <th>marca</th>\n",
       "      <th>modelo</th>\n",
       "      <th>km</th>\n",
       "      <th>potencia</th>\n",
       "      <th>fecha_registro</th>\n",
       "      <th>tipo_gasolina</th>\n",
       "      <th>color</th>\n",
       "      <th>tipo_coche</th>\n",
       "      <th>volante_regulable</th>\n",
       "      <th>aire_acondicionado</th>\n",
       "      <th>...</th>\n",
       "      <th>asientos_traseros_plegables</th>\n",
       "      <th>elevalunas_electrico</th>\n",
       "      <th>bluetooth</th>\n",
       "      <th>gps</th>\n",
       "      <th>alerta_lim_velocidad</th>\n",
       "      <th>precio</th>\n",
       "      <th>fecha_venta</th>\n",
       "      <th>año_registro</th>\n",
       "      <th>año_venta</th>\n",
       "      <th>edad_coche</th>\n",
       "    </tr>\n",
       "  </thead>\n",
       "  <tbody>\n",
       "    <tr>\n",
       "      <th>0</th>\n",
       "      <td>NaN</td>\n",
       "      <td>118</td>\n",
       "      <td>140411.0</td>\n",
       "      <td>100.0</td>\n",
       "      <td>2012-02-01</td>\n",
       "      <td>diesel</td>\n",
       "      <td>black</td>\n",
       "      <td>NaN</td>\n",
       "      <td>True</td>\n",
       "      <td>True</td>\n",
       "      <td>...</td>\n",
       "      <td>NaN</td>\n",
       "      <td>True</td>\n",
       "      <td>NaN</td>\n",
       "      <td>True</td>\n",
       "      <td>NaN</td>\n",
       "      <td>11300.0</td>\n",
       "      <td>2018-01-01</td>\n",
       "      <td>2012.0</td>\n",
       "      <td>2018.0</td>\n",
       "      <td>6.0</td>\n",
       "    </tr>\n",
       "    <tr>\n",
       "      <th>1</th>\n",
       "      <td>BMW</td>\n",
       "      <td>M4</td>\n",
       "      <td>13929.0</td>\n",
       "      <td>317.0</td>\n",
       "      <td>NaT</td>\n",
       "      <td>petrol</td>\n",
       "      <td>grey</td>\n",
       "      <td>convertible</td>\n",
       "      <td>True</td>\n",
       "      <td>True</td>\n",
       "      <td>...</td>\n",
       "      <td>NaN</td>\n",
       "      <td>False</td>\n",
       "      <td>True</td>\n",
       "      <td>True</td>\n",
       "      <td>True</td>\n",
       "      <td>69700.0</td>\n",
       "      <td>2018-02-01</td>\n",
       "      <td>NaN</td>\n",
       "      <td>2018.0</td>\n",
       "      <td>NaN</td>\n",
       "    </tr>\n",
       "    <tr>\n",
       "      <th>2</th>\n",
       "      <td>BMW</td>\n",
       "      <td>320</td>\n",
       "      <td>183297.0</td>\n",
       "      <td>120.0</td>\n",
       "      <td>2012-04-01</td>\n",
       "      <td>diesel</td>\n",
       "      <td>white</td>\n",
       "      <td>NaN</td>\n",
       "      <td>False</td>\n",
       "      <td>False</td>\n",
       "      <td>...</td>\n",
       "      <td>NaN</td>\n",
       "      <td>True</td>\n",
       "      <td>False</td>\n",
       "      <td>True</td>\n",
       "      <td>False</td>\n",
       "      <td>10200.0</td>\n",
       "      <td>2018-02-01</td>\n",
       "      <td>2012.0</td>\n",
       "      <td>2018.0</td>\n",
       "      <td>6.0</td>\n",
       "    </tr>\n",
       "    <tr>\n",
       "      <th>3</th>\n",
       "      <td>BMW</td>\n",
       "      <td>420</td>\n",
       "      <td>128035.0</td>\n",
       "      <td>135.0</td>\n",
       "      <td>NaT</td>\n",
       "      <td>diesel</td>\n",
       "      <td>red</td>\n",
       "      <td>convertible</td>\n",
       "      <td>True</td>\n",
       "      <td>True</td>\n",
       "      <td>...</td>\n",
       "      <td>NaN</td>\n",
       "      <td>True</td>\n",
       "      <td>True</td>\n",
       "      <td>True</td>\n",
       "      <td>NaN</td>\n",
       "      <td>25100.0</td>\n",
       "      <td>2018-02-01</td>\n",
       "      <td>NaN</td>\n",
       "      <td>2018.0</td>\n",
       "      <td>NaN</td>\n",
       "    </tr>\n",
       "    <tr>\n",
       "      <th>4</th>\n",
       "      <td>BMW</td>\n",
       "      <td>425</td>\n",
       "      <td>97097.0</td>\n",
       "      <td>160.0</td>\n",
       "      <td>NaT</td>\n",
       "      <td>diesel</td>\n",
       "      <td>silver</td>\n",
       "      <td>NaN</td>\n",
       "      <td>True</td>\n",
       "      <td>True</td>\n",
       "      <td>...</td>\n",
       "      <td>False</td>\n",
       "      <td>False</td>\n",
       "      <td>True</td>\n",
       "      <td>True</td>\n",
       "      <td>True</td>\n",
       "      <td>33400.0</td>\n",
       "      <td>2018-04-01</td>\n",
       "      <td>NaN</td>\n",
       "      <td>2018.0</td>\n",
       "      <td>NaN</td>\n",
       "    </tr>\n",
       "    <tr>\n",
       "      <th>...</th>\n",
       "      <td>...</td>\n",
       "      <td>...</td>\n",
       "      <td>...</td>\n",
       "      <td>...</td>\n",
       "      <td>...</td>\n",
       "      <td>...</td>\n",
       "      <td>...</td>\n",
       "      <td>...</td>\n",
       "      <td>...</td>\n",
       "      <td>...</td>\n",
       "      <td>...</td>\n",
       "      <td>...</td>\n",
       "      <td>...</td>\n",
       "      <td>...</td>\n",
       "      <td>...</td>\n",
       "      <td>...</td>\n",
       "      <td>...</td>\n",
       "      <td>...</td>\n",
       "      <td>...</td>\n",
       "      <td>...</td>\n",
       "      <td>...</td>\n",
       "    </tr>\n",
       "    <tr>\n",
       "      <th>4838</th>\n",
       "      <td>BMW</td>\n",
       "      <td>218 Gran Tourer</td>\n",
       "      <td>39743.0</td>\n",
       "      <td>110.0</td>\n",
       "      <td>NaT</td>\n",
       "      <td>diesel</td>\n",
       "      <td>black</td>\n",
       "      <td>NaN</td>\n",
       "      <td>False</td>\n",
       "      <td>True</td>\n",
       "      <td>...</td>\n",
       "      <td>NaN</td>\n",
       "      <td>False</td>\n",
       "      <td>False</td>\n",
       "      <td>True</td>\n",
       "      <td>False</td>\n",
       "      <td>14600.0</td>\n",
       "      <td>2018-08-01</td>\n",
       "      <td>NaN</td>\n",
       "      <td>2018.0</td>\n",
       "      <td>NaN</td>\n",
       "    </tr>\n",
       "    <tr>\n",
       "      <th>4839</th>\n",
       "      <td>BMW</td>\n",
       "      <td>218 Active Tourer</td>\n",
       "      <td>49832.0</td>\n",
       "      <td>100.0</td>\n",
       "      <td>2015-06-01</td>\n",
       "      <td>diesel</td>\n",
       "      <td>grey</td>\n",
       "      <td>NaN</td>\n",
       "      <td>False</td>\n",
       "      <td>True</td>\n",
       "      <td>...</td>\n",
       "      <td>NaN</td>\n",
       "      <td>False</td>\n",
       "      <td>False</td>\n",
       "      <td>True</td>\n",
       "      <td>True</td>\n",
       "      <td>17500.0</td>\n",
       "      <td>2018-08-01</td>\n",
       "      <td>2015.0</td>\n",
       "      <td>2018.0</td>\n",
       "      <td>3.0</td>\n",
       "    </tr>\n",
       "    <tr>\n",
       "      <th>4840</th>\n",
       "      <td>BMW</td>\n",
       "      <td>218 Gran Tourer</td>\n",
       "      <td>19633.0</td>\n",
       "      <td>110.0</td>\n",
       "      <td>2015-10-01</td>\n",
       "      <td>diesel</td>\n",
       "      <td>grey</td>\n",
       "      <td>van</td>\n",
       "      <td>False</td>\n",
       "      <td>True</td>\n",
       "      <td>...</td>\n",
       "      <td>NaN</td>\n",
       "      <td>False</td>\n",
       "      <td>False</td>\n",
       "      <td>True</td>\n",
       "      <td>True</td>\n",
       "      <td>17000.0</td>\n",
       "      <td>2018-09-01</td>\n",
       "      <td>2015.0</td>\n",
       "      <td>2018.0</td>\n",
       "      <td>3.0</td>\n",
       "    </tr>\n",
       "    <tr>\n",
       "      <th>4841</th>\n",
       "      <td>BMW</td>\n",
       "      <td>218 Active Tourer</td>\n",
       "      <td>27920.0</td>\n",
       "      <td>110.0</td>\n",
       "      <td>2016-04-01</td>\n",
       "      <td>diesel</td>\n",
       "      <td>brown</td>\n",
       "      <td>van</td>\n",
       "      <td>True</td>\n",
       "      <td>True</td>\n",
       "      <td>...</td>\n",
       "      <td>False</td>\n",
       "      <td>False</td>\n",
       "      <td>False</td>\n",
       "      <td>True</td>\n",
       "      <td>True</td>\n",
       "      <td>22700.0</td>\n",
       "      <td>2018-09-01</td>\n",
       "      <td>2016.0</td>\n",
       "      <td>2018.0</td>\n",
       "      <td>2.0</td>\n",
       "    </tr>\n",
       "    <tr>\n",
       "      <th>4842</th>\n",
       "      <td>BMW</td>\n",
       "      <td>525</td>\n",
       "      <td>195840.0</td>\n",
       "      <td>160.0</td>\n",
       "      <td>NaT</td>\n",
       "      <td>diesel</td>\n",
       "      <td>grey</td>\n",
       "      <td>NaN</td>\n",
       "      <td>True</td>\n",
       "      <td>NaN</td>\n",
       "      <td>...</td>\n",
       "      <td>NaN</td>\n",
       "      <td>True</td>\n",
       "      <td>False</td>\n",
       "      <td>True</td>\n",
       "      <td>True</td>\n",
       "      <td>15500.0</td>\n",
       "      <td>2018-09-01</td>\n",
       "      <td>NaN</td>\n",
       "      <td>2018.0</td>\n",
       "      <td>NaN</td>\n",
       "    </tr>\n",
       "  </tbody>\n",
       "</table>\n",
       "<p>4843 rows × 21 columns</p>\n",
       "</div>"
      ],
      "text/plain": [
       "     marca             modelo        km  potencia fecha_registro  \\\n",
       "0      NaN                118  140411.0     100.0     2012-02-01   \n",
       "1      BMW                 M4   13929.0     317.0            NaT   \n",
       "2      BMW                320  183297.0     120.0     2012-04-01   \n",
       "3      BMW                420  128035.0     135.0            NaT   \n",
       "4      BMW                425   97097.0     160.0            NaT   \n",
       "...    ...                ...       ...       ...            ...   \n",
       "4838   BMW    218 Gran Tourer   39743.0     110.0            NaT   \n",
       "4839   BMW  218 Active Tourer   49832.0     100.0     2015-06-01   \n",
       "4840   BMW    218 Gran Tourer   19633.0     110.0     2015-10-01   \n",
       "4841   BMW  218 Active Tourer   27920.0     110.0     2016-04-01   \n",
       "4842   BMW                525  195840.0     160.0            NaT   \n",
       "\n",
       "     tipo_gasolina   color   tipo_coche volante_regulable aire_acondicionado  \\\n",
       "0           diesel   black          NaN              True               True   \n",
       "1           petrol    grey  convertible              True               True   \n",
       "2           diesel   white          NaN             False              False   \n",
       "3           diesel     red  convertible              True               True   \n",
       "4           diesel  silver          NaN              True               True   \n",
       "...            ...     ...          ...               ...                ...   \n",
       "4838        diesel   black          NaN             False               True   \n",
       "4839        diesel    grey          NaN             False               True   \n",
       "4840        diesel    grey          van             False               True   \n",
       "4841        diesel   brown          van              True               True   \n",
       "4842        diesel    grey          NaN              True                NaN   \n",
       "\n",
       "      ... asientos_traseros_plegables elevalunas_electrico bluetooth   gps  \\\n",
       "0     ...                         NaN                 True       NaN  True   \n",
       "1     ...                         NaN                False      True  True   \n",
       "2     ...                         NaN                 True     False  True   \n",
       "3     ...                         NaN                 True      True  True   \n",
       "4     ...                       False                False      True  True   \n",
       "...   ...                         ...                  ...       ...   ...   \n",
       "4838  ...                         NaN                False     False  True   \n",
       "4839  ...                         NaN                False     False  True   \n",
       "4840  ...                         NaN                False     False  True   \n",
       "4841  ...                       False                False     False  True   \n",
       "4842  ...                         NaN                 True     False  True   \n",
       "\n",
       "      alerta_lim_velocidad   precio  fecha_venta año_registro  año_venta  \\\n",
       "0                      NaN  11300.0   2018-01-01       2012.0     2018.0   \n",
       "1                     True  69700.0   2018-02-01          NaN     2018.0   \n",
       "2                    False  10200.0   2018-02-01       2012.0     2018.0   \n",
       "3                      NaN  25100.0   2018-02-01          NaN     2018.0   \n",
       "4                     True  33400.0   2018-04-01          NaN     2018.0   \n",
       "...                    ...      ...          ...          ...        ...   \n",
       "4838                 False  14600.0   2018-08-01          NaN     2018.0   \n",
       "4839                  True  17500.0   2018-08-01       2015.0     2018.0   \n",
       "4840                  True  17000.0   2018-09-01       2015.0     2018.0   \n",
       "4841                  True  22700.0   2018-09-01       2016.0     2018.0   \n",
       "4842                  True  15500.0   2018-09-01          NaN     2018.0   \n",
       "\n",
       "      edad_coche  \n",
       "0            6.0  \n",
       "1            NaN  \n",
       "2            6.0  \n",
       "3            NaN  \n",
       "4            NaN  \n",
       "...          ...  \n",
       "4838         NaN  \n",
       "4839         3.0  \n",
       "4840         3.0  \n",
       "4841         2.0  \n",
       "4842         NaN  \n",
       "\n",
       "[4843 rows x 21 columns]"
      ]
     },
     "execution_count": 10,
     "metadata": {},
     "output_type": "execute_result"
    }
   ],
   "source": [
    "df_bmw"
   ]
  },
  {
   "cell_type": "code",
   "execution_count": 11,
   "id": "b5eb9e70",
   "metadata": {},
   "outputs": [
    {
     "data": {
      "text/html": [
       "<div>\n",
       "<style scoped>\n",
       "    .dataframe tbody tr th:only-of-type {\n",
       "        vertical-align: middle;\n",
       "    }\n",
       "\n",
       "    .dataframe tbody tr th {\n",
       "        vertical-align: top;\n",
       "    }\n",
       "\n",
       "    .dataframe thead th {\n",
       "        text-align: right;\n",
       "    }\n",
       "</style>\n",
       "<table border=\"1\" class=\"dataframe\">\n",
       "  <thead>\n",
       "    <tr style=\"text-align: right;\">\n",
       "      <th></th>\n",
       "      <th>NULOS</th>\n",
       "      <th>% NULOS</th>\n",
       "      <th>VALORES UNICOS</th>\n",
       "    </tr>\n",
       "  </thead>\n",
       "  <tbody>\n",
       "    <tr>\n",
       "      <th>tipo_coche</th>\n",
       "      <td>1460</td>\n",
       "      <td>30.146603</td>\n",
       "      <td>8</td>\n",
       "    </tr>\n",
       "  </tbody>\n",
       "</table>\n",
       "</div>"
      ],
      "text/plain": [
       "            NULOS    % NULOS  VALORES UNICOS\n",
       "tipo_coche   1460  30.146603               8"
      ]
     },
     "execution_count": 11,
     "metadata": {},
     "output_type": "execute_result"
    }
   ],
   "source": [
    "tabla_nulos(bmw).loc[['tipo_coche']]"
   ]
  },
  {
   "cell_type": "code",
   "execution_count": 12,
   "id": "b88bfe71",
   "metadata": {},
   "outputs": [
    {
     "data": {
      "text/plain": [
       "array([nan, 'convertible', 'coupe', 'estate', 'hatchback', 'sedan',\n",
       "       'subcompact', 'suv', 'van'], dtype=object)"
      ]
     },
     "execution_count": 12,
     "metadata": {},
     "output_type": "execute_result"
    }
   ],
   "source": [
    "df_bmw['tipo_coche'].unique()"
   ]
  },
  {
   "cell_type": "code",
   "execution_count": 13,
   "id": "33676aee",
   "metadata": {},
   "outputs": [
    {
     "data": {
      "text/html": [
       "<div>\n",
       "<style scoped>\n",
       "    .dataframe tbody tr th:only-of-type {\n",
       "        vertical-align: middle;\n",
       "    }\n",
       "\n",
       "    .dataframe tbody tr th {\n",
       "        vertical-align: top;\n",
       "    }\n",
       "\n",
       "    .dataframe thead th {\n",
       "        text-align: right;\n",
       "    }\n",
       "</style>\n",
       "<table border=\"1\" class=\"dataframe\">\n",
       "  <thead>\n",
       "    <tr style=\"text-align: right;\">\n",
       "      <th></th>\n",
       "      <th>NULOS</th>\n",
       "      <th>% NULOS</th>\n",
       "      <th>VALORES UNICOS</th>\n",
       "    </tr>\n",
       "  </thead>\n",
       "  <tbody>\n",
       "    <tr>\n",
       "      <th>tipo_coche</th>\n",
       "      <td>0</td>\n",
       "      <td>0.0</td>\n",
       "      <td>8</td>\n",
       "    </tr>\n",
       "  </tbody>\n",
       "</table>\n",
       "</div>"
      ],
      "text/plain": [
       "            NULOS  % NULOS  VALORES UNICOS\n",
       "tipo_coche      0      0.0               8"
      ]
     },
     "execution_count": 13,
     "metadata": {},
     "output_type": "execute_result"
    }
   ],
   "source": [
    "moda_paso_1 = df_bmw.groupby(['modelo', 'potencia', 'edad_coche'])['tipo_coche'].agg(obtener_moda).reset_index()\n",
    "moda_paso_1 = moda_paso_1.rename(columns={'tipo_coche': 'MODA_PASO_1'})\n",
    "df_bmw = df_bmw.merge(moda_paso_1, on=['modelo', 'potencia', 'edad_coche'], how='left')\n",
    "df_bmw['tipo_coche'] = df_bmw['tipo_coche'].fillna(df_bmw['MODA_PASO_1'])\n",
    "df_bmw.drop(columns=['MODA_PASO_1'], inplace=True)\n",
    "tabla_nulos(df_bmw).loc[['tipo_coche']]\n",
    "moda_paso_2 = df_bmw.groupby(['modelo', 'potencia'])['tipo_coche'].agg(obtener_moda).reset_index()\n",
    "moda_paso_2 = moda_paso_2.rename(columns={'tipo_coche': 'MODA_PASO_2'})\n",
    "df_bmw = df_bmw.merge(moda_paso_2, on=['modelo', 'potencia'], how='left')\n",
    "df_bmw['tipo_coche'] = df_bmw['tipo_coche'].fillna(df_bmw['MODA_PASO_2'])\n",
    "df_bmw.drop(columns=['MODA_PASO_2'], inplace=True)\n",
    "tabla_nulos(df_bmw).loc[['tipo_coche']]\n",
    "moda_paso_2 = df_bmw.groupby(['modelo'])['tipo_coche'].agg(obtener_moda).reset_index()\n",
    "moda_paso_2 = moda_paso_2.rename(columns={'tipo_coche': 'MODA_PASO_2'})\n",
    "df_bmw = df_bmw.merge(moda_paso_2, on=['modelo'], how='left')\n",
    "df_bmw['tipo_coche'] = df_bmw['tipo_coche'].fillna(df_bmw['MODA_PASO_2'])\n",
    "df_bmw.drop(columns=['MODA_PASO_2'], inplace=True)\n",
    "moda_general = df_bmw['tipo_coche'].mode().iloc[0]\n",
    "df_bmw['tipo_coche'] = df_bmw['tipo_coche'].fillna(moda_general)\n",
    "tabla_nulos(df_bmw).loc[['tipo_coche']]\n"
   ]
  },
  {
   "cell_type": "code",
   "execution_count": 14,
   "id": "6de14694",
   "metadata": {},
   "outputs": [
    {
     "name": "stdout",
     "output_type": "stream",
     "text": [
      "Aciertos: 1052 de 1460 imputaciones\n",
      "Porcentaje de acierto: 72.05%\n"
     ]
    }
   ],
   "source": [
    "# 2. Asegurarnos de que ambos dataframes tienen el mismo índice (o una columna común para alinear)\n",
    "# Puedes hacer merge si hay un ID único, pero si no, asumimos que el orden es el mismo\n",
    "\n",
    "# 3. Identificar las filas que originalmente tenían nulos en 'tipo_coche'\n",
    "mask_nulos_originales = bmw['tipo_coche'].isnull()\n",
    "\n",
    "# 4. Filtrar solo esas filas para comparar\n",
    "tipo_coche_imputado = df_bmw.loc[mask_nulos_originales, 'tipo_coche']\n",
    "tipo_coche_real = df_bmw_original.loc[mask_nulos_originales, 'tipo_coche']\n",
    "\n",
    "# 5. Calcular aciertos\n",
    "aciertos = (tipo_coche_imputado == tipo_coche_real).sum()\n",
    "total = mask_nulos_originales.sum()\n",
    "porcentaje_acierto = (aciertos / total) * 100 if total > 0 else None\n",
    "\n",
    "# 6. Mostrar resultados\n",
    "print(f\"Aciertos: {aciertos} de {total} imputaciones\")\n",
    "print(f\"Porcentaje de acierto: {porcentaje_acierto:.2f}%\")"
   ]
  },
  {
   "cell_type": "markdown",
   "id": "81dd439b",
   "metadata": {},
   "source": []
  },
  {
   "cell_type": "markdown",
   "id": "bfb78ce0",
   "metadata": {},
   "source": [
    "## COMPROBACION DE LA IMPUTACIÓN COLOR"
   ]
  },
  {
   "cell_type": "markdown",
   "id": "764c359f",
   "metadata": {},
   "source": [
    "### VERSIÓN 3 - 80% ACIERTO"
   ]
  },
  {
   "cell_type": "code",
   "execution_count": 15,
   "id": "695179ee",
   "metadata": {},
   "outputs": [],
   "source": [
    "def obtener_color_binario(x):\n",
    "  if str(x) == 'nan':\n",
    "    return np.nan\n",
    "  elif x in ['black','grey','blue','white']:\n",
    "    return 1\n",
    "  else:\n",
    "    return 0"
   ]
  },
  {
   "cell_type": "code",
   "execution_count": 16,
   "id": "a3ef9ea0",
   "metadata": {},
   "outputs": [],
   "source": [
    "df_bmw['color_estandar'] = df_bmw['color'].map(obtener_color_binario)"
   ]
  },
  {
   "cell_type": "code",
   "execution_count": 17,
   "id": "6f248193",
   "metadata": {},
   "outputs": [],
   "source": [
    "df_bmw_original['color_estandar'] = df_bmw_original['color'].map(obtener_color_binario)"
   ]
  },
  {
   "cell_type": "code",
   "execution_count": 18,
   "id": "ee0411c2",
   "metadata": {},
   "outputs": [
    {
     "data": {
      "text/html": [
       "<div>\n",
       "<style scoped>\n",
       "    .dataframe tbody tr th:only-of-type {\n",
       "        vertical-align: middle;\n",
       "    }\n",
       "\n",
       "    .dataframe tbody tr th {\n",
       "        vertical-align: top;\n",
       "    }\n",
       "\n",
       "    .dataframe thead th {\n",
       "        text-align: right;\n",
       "    }\n",
       "</style>\n",
       "<table border=\"1\" class=\"dataframe\">\n",
       "  <thead>\n",
       "    <tr style=\"text-align: right;\">\n",
       "      <th></th>\n",
       "      <th>color</th>\n",
       "      <th>color_estandar</th>\n",
       "    </tr>\n",
       "  </thead>\n",
       "  <tbody>\n",
       "    <tr>\n",
       "      <th>0</th>\n",
       "      <td>black</td>\n",
       "      <td>1.0</td>\n",
       "    </tr>\n",
       "    <tr>\n",
       "      <th>1</th>\n",
       "      <td>grey</td>\n",
       "      <td>1.0</td>\n",
       "    </tr>\n",
       "    <tr>\n",
       "      <th>2</th>\n",
       "      <td>white</td>\n",
       "      <td>1.0</td>\n",
       "    </tr>\n",
       "    <tr>\n",
       "      <th>3</th>\n",
       "      <td>red</td>\n",
       "      <td>0.0</td>\n",
       "    </tr>\n",
       "    <tr>\n",
       "      <th>4</th>\n",
       "      <td>silver</td>\n",
       "      <td>0.0</td>\n",
       "    </tr>\n",
       "    <tr>\n",
       "      <th>...</th>\n",
       "      <td>...</td>\n",
       "      <td>...</td>\n",
       "    </tr>\n",
       "    <tr>\n",
       "      <th>4838</th>\n",
       "      <td>black</td>\n",
       "      <td>1.0</td>\n",
       "    </tr>\n",
       "    <tr>\n",
       "      <th>4839</th>\n",
       "      <td>grey</td>\n",
       "      <td>1.0</td>\n",
       "    </tr>\n",
       "    <tr>\n",
       "      <th>4840</th>\n",
       "      <td>grey</td>\n",
       "      <td>1.0</td>\n",
       "    </tr>\n",
       "    <tr>\n",
       "      <th>4841</th>\n",
       "      <td>brown</td>\n",
       "      <td>0.0</td>\n",
       "    </tr>\n",
       "    <tr>\n",
       "      <th>4842</th>\n",
       "      <td>grey</td>\n",
       "      <td>1.0</td>\n",
       "    </tr>\n",
       "  </tbody>\n",
       "</table>\n",
       "<p>4843 rows × 2 columns</p>\n",
       "</div>"
      ],
      "text/plain": [
       "       color  color_estandar\n",
       "0      black             1.0\n",
       "1       grey             1.0\n",
       "2      white             1.0\n",
       "3        red             0.0\n",
       "4     silver             0.0\n",
       "...      ...             ...\n",
       "4838   black             1.0\n",
       "4839    grey             1.0\n",
       "4840    grey             1.0\n",
       "4841   brown             0.0\n",
       "4842    grey             1.0\n",
       "\n",
       "[4843 rows x 2 columns]"
      ]
     },
     "execution_count": 18,
     "metadata": {},
     "output_type": "execute_result"
    }
   ],
   "source": [
    "df_bmw[['color','color_estandar']]"
   ]
  },
  {
   "cell_type": "code",
   "execution_count": null,
   "id": "e335cdb5",
   "metadata": {},
   "outputs": [],
   "source": []
  },
  {
   "cell_type": "code",
   "execution_count": 19,
   "id": "51d11cc6",
   "metadata": {},
   "outputs": [],
   "source": [
    "# guardemos los valores de la moda para color_estandar en tablas diferentes por niveles de agrupación\n",
    "tabla_moda_color_estandar = df_bmw[~(df_bmw['color_estandar'].isnull())].groupby(['modelo','tipo_coche','potencia'])['color_estandar'].agg([stat.mode])"
   ]
  },
  {
   "cell_type": "code",
   "execution_count": 20,
   "id": "b98d1cbb",
   "metadata": {},
   "outputs": [],
   "source": [
    "tabla_moda_color_estandar_por_modelo_y_tipo_coche = df_bmw[~(df_bmw['color_estandar'].isnull())].groupby(['modelo','tipo_coche'])['color_estandar'].agg([stat.mode])"
   ]
  },
  {
   "cell_type": "code",
   "execution_count": 21,
   "id": "51c4fdcf",
   "metadata": {},
   "outputs": [],
   "source": [
    "tabla_moda_color_estandar_por_modelo = df_bmw[~(df_bmw['color_estandar'].isnull())].groupby(['modelo'])['color_estandar'].agg([stat.mode])"
   ]
  },
  {
   "cell_type": "code",
   "execution_count": 22,
   "id": "e2e05e87",
   "metadata": {},
   "outputs": [],
   "source": [
    "tabla_moda_color_estandar_por_tipo_coche = df_bmw[~(df_bmw['color_estandar'].isnull())].groupby(['tipo_coche'])['color_estandar'].agg([stat.mode])"
   ]
  },
  {
   "cell_type": "code",
   "execution_count": 23,
   "id": "7a17609e",
   "metadata": {},
   "outputs": [
    {
     "data": {
      "text/plain": [
       "False"
      ]
     },
     "execution_count": 23,
     "metadata": {},
     "output_type": "execute_result"
    }
   ],
   "source": [
    "len(tabla_moda_color_estandar_por_modelo)==len(df_bmw['modelo'].unique())"
   ]
  },
  {
   "cell_type": "code",
   "execution_count": 24,
   "id": "ee6cab30",
   "metadata": {},
   "outputs": [
    {
     "data": {
      "text/plain": [
       "77"
      ]
     },
     "execution_count": 24,
     "metadata": {},
     "output_type": "execute_result"
    }
   ],
   "source": [
    "#falta un modelo que es unico en todo el dataset y tiene color_estandar nulo\n",
    "len(df_bmw['modelo'].unique())"
   ]
  },
  {
   "cell_type": "code",
   "execution_count": 25,
   "id": "5bfdcd27",
   "metadata": {},
   "outputs": [],
   "source": [
    "# reemplacemoslos nulos en color_estandar con la moda por modelo, tipo_coche y potencia. Cuando no es posible usemos la moda solo por modelo y tipo_coche. Si tampoco esta existe\n",
    "# usemos la moda por modelo, e si tampoco esta existe le ponemos la moda de color_estandar para tipo_coche, osea 1\n",
    "\n",
    "for i in df_bmw[df_bmw['color_estandar'].isnull()].index:\n",
    "  modelo = df_bmw.loc[i,'modelo']\n",
    "  tipo_coche = df_bmw.loc[i,'tipo_coche']\n",
    "  potencia = df_bmw.loc[i,'potencia']\n",
    " # existe la moda por modelo, tipo_coche y potencia?\n",
    "  if (modelo,tipo_coche,potencia) in tabla_moda_color_estandar.index:\n",
    "    color_estandar = tabla_moda_color_estandar.loc[(modelo,tipo_coche,potencia)].values[0]\n",
    " # si no, existe la moda solo por modelo y tipo_coche?\n",
    "  elif (modelo,tipo_coche) in tabla_moda_color_estandar_por_modelo_y_tipo_coche.index:\n",
    "    color_estandar = tabla_moda_color_estandar_por_modelo_y_tipo_coche.loc[(modelo,tipo_coche)].values[0]\n",
    " # si no, existe la moda solo por modelo?\n",
    "  elif (modelo) in tabla_moda_color_estandar_por_modelo.index:\n",
    "    color_estandar = tabla_moda_color_estandar_por_modelo.loc[(modelo)].values[0]\n",
    "  else:\n",
    "    color_estandar = tabla_moda_color_estandar_por_tipo_coche.loc[(tipo_coche)].values[0]\n",
    "  df_bmw.loc[i,'color_estandar'] = color_estandar"
   ]
  },
  {
   "cell_type": "code",
   "execution_count": 26,
   "id": "96ba97c6",
   "metadata": {},
   "outputs": [
    {
     "data": {
      "text/html": [
       "<div>\n",
       "<style scoped>\n",
       "    .dataframe tbody tr th:only-of-type {\n",
       "        vertical-align: middle;\n",
       "    }\n",
       "\n",
       "    .dataframe tbody tr th {\n",
       "        vertical-align: top;\n",
       "    }\n",
       "\n",
       "    .dataframe thead th {\n",
       "        text-align: right;\n",
       "    }\n",
       "</style>\n",
       "<table border=\"1\" class=\"dataframe\">\n",
       "  <thead>\n",
       "    <tr style=\"text-align: right;\">\n",
       "      <th></th>\n",
       "      <th>NULOS</th>\n",
       "      <th>% NULOS</th>\n",
       "      <th>VALORES UNICOS</th>\n",
       "    </tr>\n",
       "  </thead>\n",
       "  <tbody>\n",
       "    <tr>\n",
       "      <th>asientos_traseros_plegables</th>\n",
       "      <td>3391</td>\n",
       "      <td>70.018584</td>\n",
       "      <td>2</td>\n",
       "    </tr>\n",
       "    <tr>\n",
       "      <th>fecha_registro</th>\n",
       "      <td>2423</td>\n",
       "      <td>50.030973</td>\n",
       "      <td>180</td>\n",
       "    </tr>\n",
       "    <tr>\n",
       "      <th>edad_coche</th>\n",
       "      <td>2423</td>\n",
       "      <td>50.030973</td>\n",
       "      <td>25</td>\n",
       "    </tr>\n",
       "    <tr>\n",
       "      <th>año_registro</th>\n",
       "      <td>2423</td>\n",
       "      <td>50.030973</td>\n",
       "      <td>23</td>\n",
       "    </tr>\n",
       "    <tr>\n",
       "      <th>marca</th>\n",
       "      <td>970</td>\n",
       "      <td>20.028908</td>\n",
       "      <td>1</td>\n",
       "    </tr>\n",
       "    <tr>\n",
       "      <th>bluetooth</th>\n",
       "      <td>728</td>\n",
       "      <td>15.032005</td>\n",
       "      <td>2</td>\n",
       "    </tr>\n",
       "    <tr>\n",
       "      <th>alerta_lim_velocidad</th>\n",
       "      <td>728</td>\n",
       "      <td>15.032005</td>\n",
       "      <td>2</td>\n",
       "    </tr>\n",
       "    <tr>\n",
       "      <th>aire_acondicionado</th>\n",
       "      <td>486</td>\n",
       "      <td>10.035102</td>\n",
       "      <td>2</td>\n",
       "    </tr>\n",
       "    <tr>\n",
       "      <th>color</th>\n",
       "      <td>445</td>\n",
       "      <td>9.188520</td>\n",
       "      <td>10</td>\n",
       "    </tr>\n",
       "    <tr>\n",
       "      <th>precio</th>\n",
       "      <td>6</td>\n",
       "      <td>0.123890</td>\n",
       "      <td>437</td>\n",
       "    </tr>\n",
       "    <tr>\n",
       "      <th>tipo_gasolina</th>\n",
       "      <td>5</td>\n",
       "      <td>0.103242</td>\n",
       "      <td>5</td>\n",
       "    </tr>\n",
       "    <tr>\n",
       "      <th>volante_regulable</th>\n",
       "      <td>4</td>\n",
       "      <td>0.082593</td>\n",
       "      <td>2</td>\n",
       "    </tr>\n",
       "    <tr>\n",
       "      <th>modelo</th>\n",
       "      <td>3</td>\n",
       "      <td>0.061945</td>\n",
       "      <td>76</td>\n",
       "    </tr>\n",
       "    <tr>\n",
       "      <th>elevalunas_electrico</th>\n",
       "      <td>2</td>\n",
       "      <td>0.041297</td>\n",
       "      <td>2</td>\n",
       "    </tr>\n",
       "    <tr>\n",
       "      <th>camara_trasera</th>\n",
       "      <td>2</td>\n",
       "      <td>0.041297</td>\n",
       "      <td>2</td>\n",
       "    </tr>\n",
       "    <tr>\n",
       "      <th>km</th>\n",
       "      <td>2</td>\n",
       "      <td>0.041297</td>\n",
       "      <td>4784</td>\n",
       "    </tr>\n",
       "    <tr>\n",
       "      <th>fecha_venta</th>\n",
       "      <td>1</td>\n",
       "      <td>0.020648</td>\n",
       "      <td>13</td>\n",
       "    </tr>\n",
       "    <tr>\n",
       "      <th>potencia</th>\n",
       "      <td>1</td>\n",
       "      <td>0.020648</td>\n",
       "      <td>61</td>\n",
       "    </tr>\n",
       "    <tr>\n",
       "      <th>año_venta</th>\n",
       "      <td>1</td>\n",
       "      <td>0.020648</td>\n",
       "      <td>5</td>\n",
       "    </tr>\n",
       "    <tr>\n",
       "      <th>gps</th>\n",
       "      <td>0</td>\n",
       "      <td>0.000000</td>\n",
       "      <td>2</td>\n",
       "    </tr>\n",
       "    <tr>\n",
       "      <th>tipo_coche</th>\n",
       "      <td>0</td>\n",
       "      <td>0.000000</td>\n",
       "      <td>8</td>\n",
       "    </tr>\n",
       "    <tr>\n",
       "      <th>color_estandar</th>\n",
       "      <td>0</td>\n",
       "      <td>0.000000</td>\n",
       "      <td>2</td>\n",
       "    </tr>\n",
       "  </tbody>\n",
       "</table>\n",
       "</div>"
      ],
      "text/plain": [
       "                             NULOS    % NULOS  VALORES UNICOS\n",
       "asientos_traseros_plegables   3391  70.018584               2\n",
       "fecha_registro                2423  50.030973             180\n",
       "edad_coche                    2423  50.030973              25\n",
       "año_registro                  2423  50.030973              23\n",
       "marca                          970  20.028908               1\n",
       "bluetooth                      728  15.032005               2\n",
       "alerta_lim_velocidad           728  15.032005               2\n",
       "aire_acondicionado             486  10.035102               2\n",
       "color                          445   9.188520              10\n",
       "precio                           6   0.123890             437\n",
       "tipo_gasolina                    5   0.103242               5\n",
       "volante_regulable                4   0.082593               2\n",
       "modelo                           3   0.061945              76\n",
       "elevalunas_electrico             2   0.041297               2\n",
       "camara_trasera                   2   0.041297               2\n",
       "km                               2   0.041297            4784\n",
       "fecha_venta                      1   0.020648              13\n",
       "potencia                         1   0.020648              61\n",
       "año_venta                        1   0.020648               5\n",
       "gps                              0   0.000000               2\n",
       "tipo_coche                       0   0.000000               8\n",
       "color_estandar                   0   0.000000               2"
      ]
     },
     "execution_count": 26,
     "metadata": {},
     "output_type": "execute_result"
    }
   ],
   "source": [
    "tabla_nulos(df_bmw)"
   ]
  },
  {
   "cell_type": "code",
   "execution_count": 27,
   "id": "9bf92426",
   "metadata": {},
   "outputs": [
    {
     "data": {
      "text/plain": [
       "color_estandar\n",
       "1    0.837497\n",
       "0    0.162503\n",
       "Name: proportion, dtype: float64"
      ]
     },
     "execution_count": 27,
     "metadata": {},
     "output_type": "execute_result"
    }
   ],
   "source": [
    "df_bmw_original['color_estandar'].value_counts(normalize=True)"
   ]
  },
  {
   "cell_type": "code",
   "execution_count": 28,
   "id": "686d20b8",
   "metadata": {},
   "outputs": [
    {
     "data": {
      "text/html": [
       "<div>\n",
       "<style scoped>\n",
       "    .dataframe tbody tr th:only-of-type {\n",
       "        vertical-align: middle;\n",
       "    }\n",
       "\n",
       "    .dataframe tbody tr th {\n",
       "        vertical-align: top;\n",
       "    }\n",
       "\n",
       "    .dataframe thead th {\n",
       "        text-align: right;\n",
       "    }\n",
       "</style>\n",
       "<table border=\"1\" class=\"dataframe\">\n",
       "  <thead>\n",
       "    <tr style=\"text-align: right;\">\n",
       "      <th></th>\n",
       "      <th>marca</th>\n",
       "      <th>modelo</th>\n",
       "      <th>km</th>\n",
       "      <th>potencia</th>\n",
       "      <th>fecha_registro</th>\n",
       "      <th>tipo_gasolina</th>\n",
       "      <th>color</th>\n",
       "      <th>tipo_coche</th>\n",
       "      <th>volante_regulable</th>\n",
       "      <th>aire_acondicionado</th>\n",
       "      <th>...</th>\n",
       "      <th>elevalunas_electrico</th>\n",
       "      <th>bluetooth</th>\n",
       "      <th>gps</th>\n",
       "      <th>alerta_lim_velocidad</th>\n",
       "      <th>precio</th>\n",
       "      <th>fecha_venta</th>\n",
       "      <th>año_registro</th>\n",
       "      <th>año_venta</th>\n",
       "      <th>edad_coche</th>\n",
       "      <th>color_estandar</th>\n",
       "    </tr>\n",
       "  </thead>\n",
       "  <tbody>\n",
       "    <tr>\n",
       "      <th>0</th>\n",
       "      <td>NaN</td>\n",
       "      <td>118</td>\n",
       "      <td>140411.0</td>\n",
       "      <td>100.0</td>\n",
       "      <td>2012-02-01</td>\n",
       "      <td>diesel</td>\n",
       "      <td>black</td>\n",
       "      <td>coupe</td>\n",
       "      <td>True</td>\n",
       "      <td>True</td>\n",
       "      <td>...</td>\n",
       "      <td>True</td>\n",
       "      <td>NaN</td>\n",
       "      <td>True</td>\n",
       "      <td>NaN</td>\n",
       "      <td>11300.0</td>\n",
       "      <td>2018-01-01</td>\n",
       "      <td>2012.0</td>\n",
       "      <td>2018.0</td>\n",
       "      <td>6.0</td>\n",
       "      <td>1.0</td>\n",
       "    </tr>\n",
       "    <tr>\n",
       "      <th>1</th>\n",
       "      <td>BMW</td>\n",
       "      <td>M4</td>\n",
       "      <td>13929.0</td>\n",
       "      <td>317.0</td>\n",
       "      <td>NaT</td>\n",
       "      <td>petrol</td>\n",
       "      <td>grey</td>\n",
       "      <td>convertible</td>\n",
       "      <td>True</td>\n",
       "      <td>True</td>\n",
       "      <td>...</td>\n",
       "      <td>False</td>\n",
       "      <td>True</td>\n",
       "      <td>True</td>\n",
       "      <td>True</td>\n",
       "      <td>69700.0</td>\n",
       "      <td>2018-02-01</td>\n",
       "      <td>NaN</td>\n",
       "      <td>2018.0</td>\n",
       "      <td>NaN</td>\n",
       "      <td>1.0</td>\n",
       "    </tr>\n",
       "    <tr>\n",
       "      <th>2</th>\n",
       "      <td>BMW</td>\n",
       "      <td>320</td>\n",
       "      <td>183297.0</td>\n",
       "      <td>120.0</td>\n",
       "      <td>2012-04-01</td>\n",
       "      <td>diesel</td>\n",
       "      <td>white</td>\n",
       "      <td>sedan</td>\n",
       "      <td>False</td>\n",
       "      <td>False</td>\n",
       "      <td>...</td>\n",
       "      <td>True</td>\n",
       "      <td>False</td>\n",
       "      <td>True</td>\n",
       "      <td>False</td>\n",
       "      <td>10200.0</td>\n",
       "      <td>2018-02-01</td>\n",
       "      <td>2012.0</td>\n",
       "      <td>2018.0</td>\n",
       "      <td>6.0</td>\n",
       "      <td>1.0</td>\n",
       "    </tr>\n",
       "    <tr>\n",
       "      <th>3</th>\n",
       "      <td>BMW</td>\n",
       "      <td>420</td>\n",
       "      <td>128035.0</td>\n",
       "      <td>135.0</td>\n",
       "      <td>NaT</td>\n",
       "      <td>diesel</td>\n",
       "      <td>red</td>\n",
       "      <td>convertible</td>\n",
       "      <td>True</td>\n",
       "      <td>True</td>\n",
       "      <td>...</td>\n",
       "      <td>True</td>\n",
       "      <td>True</td>\n",
       "      <td>True</td>\n",
       "      <td>NaN</td>\n",
       "      <td>25100.0</td>\n",
       "      <td>2018-02-01</td>\n",
       "      <td>NaN</td>\n",
       "      <td>2018.0</td>\n",
       "      <td>NaN</td>\n",
       "      <td>0.0</td>\n",
       "    </tr>\n",
       "    <tr>\n",
       "      <th>4</th>\n",
       "      <td>BMW</td>\n",
       "      <td>425</td>\n",
       "      <td>97097.0</td>\n",
       "      <td>160.0</td>\n",
       "      <td>NaT</td>\n",
       "      <td>diesel</td>\n",
       "      <td>silver</td>\n",
       "      <td>coupe</td>\n",
       "      <td>True</td>\n",
       "      <td>True</td>\n",
       "      <td>...</td>\n",
       "      <td>False</td>\n",
       "      <td>True</td>\n",
       "      <td>True</td>\n",
       "      <td>True</td>\n",
       "      <td>33400.0</td>\n",
       "      <td>2018-04-01</td>\n",
       "      <td>NaN</td>\n",
       "      <td>2018.0</td>\n",
       "      <td>NaN</td>\n",
       "      <td>0.0</td>\n",
       "    </tr>\n",
       "  </tbody>\n",
       "</table>\n",
       "<p>5 rows × 22 columns</p>\n",
       "</div>"
      ],
      "text/plain": [
       "  marca modelo        km  potencia fecha_registro tipo_gasolina   color  \\\n",
       "0   NaN    118  140411.0     100.0     2012-02-01        diesel   black   \n",
       "1   BMW     M4   13929.0     317.0            NaT        petrol    grey   \n",
       "2   BMW    320  183297.0     120.0     2012-04-01        diesel   white   \n",
       "3   BMW    420  128035.0     135.0            NaT        diesel     red   \n",
       "4   BMW    425   97097.0     160.0            NaT        diesel  silver   \n",
       "\n",
       "    tipo_coche volante_regulable aire_acondicionado  ... elevalunas_electrico  \\\n",
       "0        coupe              True               True  ...                 True   \n",
       "1  convertible              True               True  ...                False   \n",
       "2        sedan             False              False  ...                 True   \n",
       "3  convertible              True               True  ...                 True   \n",
       "4        coupe              True               True  ...                False   \n",
       "\n",
       "  bluetooth   gps alerta_lim_velocidad   precio fecha_venta  año_registro  \\\n",
       "0       NaN  True                  NaN  11300.0  2018-01-01        2012.0   \n",
       "1      True  True                 True  69700.0  2018-02-01           NaN   \n",
       "2     False  True                False  10200.0  2018-02-01        2012.0   \n",
       "3      True  True                  NaN  25100.0  2018-02-01           NaN   \n",
       "4      True  True                 True  33400.0  2018-04-01           NaN   \n",
       "\n",
       "  año_venta  edad_coche  color_estandar  \n",
       "0    2018.0         6.0             1.0  \n",
       "1    2018.0         NaN             1.0  \n",
       "2    2018.0         6.0             1.0  \n",
       "3    2018.0         NaN             0.0  \n",
       "4    2018.0         NaN             0.0  \n",
       "\n",
       "[5 rows x 22 columns]"
      ]
     },
     "execution_count": 28,
     "metadata": {},
     "output_type": "execute_result"
    }
   ],
   "source": [
    "df_bmw.head()"
   ]
  },
  {
   "cell_type": "code",
   "execution_count": 29,
   "id": "9d6ea78c",
   "metadata": {},
   "outputs": [],
   "source": [
    "# despues de la sostitucion de los nulos se ha mantenido la distribucion inicial de los valores ----> OK"
   ]
  },
  {
   "cell_type": "code",
   "execution_count": 30,
   "id": "7f43c2ed",
   "metadata": {},
   "outputs": [
    {
     "name": "stdout",
     "output_type": "stream",
     "text": [
      "Aciertos: 356 de 445 imputaciones\n",
      "Porcentaje de acierto: 80.00%\n"
     ]
    }
   ],
   "source": [
    "# 1. Identificar las filas que originalmente tenían nulos en 'color'\n",
    "nulos_originales = df_bmw['color'].isnull()\n",
    "\n",
    "# 2. Filtrar solo esas filas para comparar\n",
    "color_imputado = df_bmw.loc[nulos_originales, 'color_estandar'] # df donde se han imputado nulos\n",
    "color_real = df_bmw_original.loc[nulos_originales, 'color_estandar'] # copia del df original sin modificaciones\n",
    "\n",
    "# 3. Calcular aciertos\n",
    "aciertos = (color_imputado == color_real).sum()\n",
    "total = nulos_originales.sum()\n",
    "porcentaje_acierto = (aciertos / total) * 100 if total > 0 else None\n",
    "\n",
    "# 4. Mostrar resultados\n",
    "print(f\"Aciertos: {aciertos} de {total} imputaciones\")\n",
    "print(f\"Porcentaje de acierto: {porcentaje_acierto:.2f}%\")"
   ]
  },
  {
   "cell_type": "markdown",
   "id": "bac264a6",
   "metadata": {},
   "source": [
    "## COMPROBACIÓN DE LA IMPUTACIÓN EDAD COCHE"
   ]
  },
  {
   "cell_type": "markdown",
   "id": "345d0a10",
   "metadata": {},
   "source": [
    "### VERSIÓN 2 - 83,37% AHORA 83,24%"
   ]
  },
  {
   "cell_type": "code",
   "execution_count": 31,
   "id": "9899beaf",
   "metadata": {},
   "outputs": [],
   "source": [
    "for i in ['fecha_registro','fecha_venta']:\n",
    "    df_bmw[i]=pd.to_datetime(df_bmw[i])\n",
    "\n",
    "for i in ['fecha_registro','fecha_venta']:\n",
    "    bmw[i]=pd.to_datetime(bmw[i])\n",
    "    \n",
    "for i in ['fecha_registro','fecha_venta']:\n",
    "    df_bmw_original[i]=pd.to_datetime(df_bmw_original[i])\n",
    "\n",
    "# Consideramos que las fechas completas no aportan información relevante, por lo que vamos a crear nuevas columnas solo con el año\n",
    "df_bmw['año_registro'] = df_bmw['fecha_registro'].dt.year\n",
    "df_bmw['año_venta'] = df_bmw['fecha_venta'].dt.year\n",
    "df_bmw['edad'] = df_bmw['año_venta'] - df_bmw['año_registro']\n",
    "\n",
    "bmw['año_registro'] = bmw['fecha_registro'].dt.year\n",
    "bmw['año_venta'] = bmw['fecha_venta'].dt.year\n",
    "bmw['edad'] = bmw['año_venta'] - bmw['año_registro']\n",
    "\n",
    "df_bmw_original['año_registro'] = df_bmw_original['fecha_registro'].dt.year\n",
    "df_bmw_original['año_venta'] = df_bmw_original['fecha_venta'].dt.year\n",
    "df_bmw_original['edad'] = df_bmw_original['año_venta'] - df_bmw_original['año_registro']"
   ]
  },
  {
   "cell_type": "code",
   "execution_count": 32,
   "id": "2a0ea903",
   "metadata": {},
   "outputs": [
    {
     "data": {
      "text/html": [
       "<div>\n",
       "<style scoped>\n",
       "    .dataframe tbody tr th:only-of-type {\n",
       "        vertical-align: middle;\n",
       "    }\n",
       "\n",
       "    .dataframe tbody tr th {\n",
       "        vertical-align: top;\n",
       "    }\n",
       "\n",
       "    .dataframe thead th {\n",
       "        text-align: right;\n",
       "    }\n",
       "</style>\n",
       "<table border=\"1\" class=\"dataframe\">\n",
       "  <thead>\n",
       "    <tr style=\"text-align: right;\">\n",
       "      <th></th>\n",
       "      <th>NULOS</th>\n",
       "      <th>% NULOS</th>\n",
       "      <th>VALORES UNICOS</th>\n",
       "    </tr>\n",
       "  </thead>\n",
       "  <tbody>\n",
       "    <tr>\n",
       "      <th>edad</th>\n",
       "      <td>2423</td>\n",
       "      <td>50.030973</td>\n",
       "      <td>25</td>\n",
       "    </tr>\n",
       "  </tbody>\n",
       "</table>\n",
       "</div>"
      ],
      "text/plain": [
       "      NULOS    % NULOS  VALORES UNICOS\n",
       "edad   2423  50.030973              25"
      ]
     },
     "execution_count": 32,
     "metadata": {},
     "output_type": "execute_result"
    }
   ],
   "source": [
    "tabla_nulos(df_bmw).loc[['edad']]"
   ]
  },
  {
   "cell_type": "code",
   "execution_count": 33,
   "id": "bf835bf6",
   "metadata": {},
   "outputs": [
    {
     "data": {
      "text/plain": [
       "edad\n",
       " 5.0     757\n",
       " 4.0     635\n",
       " 6.0     435\n",
       " 3.0     162\n",
       " 7.0     116\n",
       " 8.0      51\n",
       " 2.0      46\n",
       " 10.0     43\n",
       " 9.0      39\n",
       " 12.0     29\n",
       " 11.0     29\n",
       " 13.0     28\n",
       " 14.0     10\n",
       " 17.0      8\n",
       " 15.0      8\n",
       " 1.0       5\n",
       " 16.0      4\n",
       " 21.0      4\n",
       " 18.0      3\n",
       " 19.0      3\n",
       "-1.0       1\n",
       "-5.0       1\n",
       " 23.0      1\n",
       " 28.0      1\n",
       " 24.0      1\n",
       "Name: count, dtype: int64"
      ]
     },
     "execution_count": 33,
     "metadata": {},
     "output_type": "execute_result"
    }
   ],
   "source": [
    "df_bmw['edad'].value_counts()"
   ]
  },
  {
   "cell_type": "code",
   "execution_count": 34,
   "id": "caf25131",
   "metadata": {},
   "outputs": [],
   "source": [
    "# Definir los rangos de edad y los nuevos valores\n",
    "rangos = [0, 3, 6, 10, 15, 20, 25, 30]\n",
    "nuevos_valores = ['1-3', '4-6', '7-10', '11-15', '16-20', '21-25', '>25']\n",
    "\n",
    "# Aplicar la transformación con pd.cut\n",
    "df_bmw['edad_transformada'] = pd.cut(df_bmw['edad'], bins=rangos, labels=nuevos_valores, right=True)\n",
    "bmw['edad_transformada'] = pd.cut(bmw['edad'], bins=rangos, labels=nuevos_valores, right=True)\n",
    "df_bmw_original['edad_transformada'] = pd.cut(df_bmw_original['edad'], bins=rangos, labels=nuevos_valores, right=True)"
   ]
  },
  {
   "cell_type": "code",
   "execution_count": 35,
   "id": "0c847841",
   "metadata": {},
   "outputs": [
    {
     "data": {
      "text/plain": [
       "\"def get_clase_edad_coche(edad):\\n  if pd.isna(edad):\\n    return edad\\n  elif edad in range(1,4):\\n    return '1-3'\\n  elif edad in range(4,7):\\n    return '4-6'\\n  elif edad in range(7,11):\\n    return '7-10'\\n  elif edad in range(11,16):\\n    return '11-15'\\n  elif edad in range(16,21):\\n    return '16-20'\\n  elif edad in range(21,26):\\n    return '21-25'\\n  else:\\n    return '>25\""
      ]
     },
     "execution_count": 35,
     "metadata": {},
     "output_type": "execute_result"
    }
   ],
   "source": [
    "'''def get_clase_edad_coche(edad):\n",
    "  if pd.isna(edad):\n",
    "    return edad\n",
    "  elif edad in range(1,4):\n",
    "    return '1-3'\n",
    "  elif edad in range(4,7):\n",
    "    return '4-6'\n",
    "  elif edad in range(7,11):\n",
    "    return '7-10'\n",
    "  elif edad in range(11,16):\n",
    "    return '11-15'\n",
    "  elif edad in range(16,21):\n",
    "    return '16-20'\n",
    "  elif edad in range(21,26):\n",
    "    return '21-25'\n",
    "  else:\n",
    "    return '>25'''"
   ]
  },
  {
   "cell_type": "code",
   "execution_count": 36,
   "id": "9aa846b1",
   "metadata": {},
   "outputs": [
    {
     "data": {
      "text/plain": [
       "\"# redefiniendo edad_coche como la clase de edad del coche\\ndf_bmw['edad'] = df_bmw['edad'].map(get_clase_edad_coche)\\ndf_bmw_original['edad'] = df_bmw_original['edad'].map(get_clase_edad_coche)\""
      ]
     },
     "execution_count": 36,
     "metadata": {},
     "output_type": "execute_result"
    }
   ],
   "source": [
    "'''# redefiniendo edad_coche como la clase de edad del coche\n",
    "df_bmw['edad'] = df_bmw['edad'].map(get_clase_edad_coche)\n",
    "df_bmw_original['edad'] = df_bmw_original['edad'].map(get_clase_edad_coche)'''"
   ]
  },
  {
   "cell_type": "code",
   "execution_count": 37,
   "id": "ebb60dbc",
   "metadata": {},
   "outputs": [],
   "source": [
    "# guardemos los valores de la moda para edad_coche en tablas diferentes sugun el nivel de agrupación\n",
    "tabla_moda_edad_coche = df_bmw[~(df_bmw['edad_transformada'].isnull())].groupby(['modelo','tipo_coche','potencia'])['edad_transformada'].agg([stat.mode])"
   ]
  },
  {
   "cell_type": "code",
   "execution_count": 38,
   "id": "b67846f9",
   "metadata": {},
   "outputs": [],
   "source": [
    "tabla_moda_edad_coche_por_modelo_y_tipo_coche = df_bmw[~(df_bmw['edad_transformada'].isnull())].groupby(['modelo','tipo_coche'])['edad_transformada'].agg([stat.mode])"
   ]
  },
  {
   "cell_type": "code",
   "execution_count": 39,
   "id": "c3ccabc9",
   "metadata": {},
   "outputs": [],
   "source": [
    "tabla_moda_edad_coche_por_modelo = df_bmw[~(df_bmw['edad_transformada'].isnull())].groupby(['km'])['edad_transformada'].agg([stat.mode])"
   ]
  },
  {
   "cell_type": "code",
   "execution_count": 40,
   "id": "9a23bdf8",
   "metadata": {},
   "outputs": [],
   "source": [
    "# Reemplazemos los nulos en edad_coche con la moda por modelo, tipo_coche y potencia. Cuando no es posible usemos la moda solo por modelo y tipo_coche. Si tampoco esta existe\n",
    "# usemos la moda por modelo, e si tampoco esta existe le ponemos la moda de edad_coche por el dataset osea '4-6'\n",
    "\n",
    "for i in df_bmw[df_bmw['edad_transformada'].isnull()].index:\n",
    "  modelo = df_bmw.loc[i,'modelo']\n",
    "  tipo_coche = df_bmw.loc[i,'tipo_coche']\n",
    "  potencia = df_bmw.loc[i,'potencia']\n",
    " # existe la moda por modelo, tipo_coche y potencia?\n",
    "  if (modelo,tipo_coche,potencia) in tabla_moda_edad_coche.index:\n",
    "    edad_transformada = tabla_moda_edad_coche.loc[(modelo,tipo_coche,potencia)].values[0]\n",
    " # si no, existe la moda solo por modelo y tipo_coche?\n",
    "  elif (modelo,tipo_coche) in tabla_moda_edad_coche_por_modelo_y_tipo_coche.index:\n",
    "    edad_transformada = tabla_moda_edad_coche_por_modelo_y_tipo_coche.loc[(modelo,tipo_coche)].values[0]\n",
    " # si no, existe la moda solo por modelo?\n",
    "  elif (modelo) in tabla_moda_edad_coche_por_modelo.index:\n",
    "    edad_transformada = tabla_moda_edad_coche_por_modelo.loc[(modelo)].values[0]\n",
    "  else:\n",
    "    edad_transformada = df_bmw['edad_transformada'].mode().values[0]\n",
    "  df_bmw.loc[i,'edad_transformada'] = edad_transformada"
   ]
  },
  {
   "cell_type": "code",
   "execution_count": 41,
   "id": "9fad5309",
   "metadata": {},
   "outputs": [
    {
     "name": "stdout",
     "output_type": "stream",
     "text": [
      "Aciertos: 2017 de 2423 imputaciones\n",
      "Porcentaje de acierto: 83.24%\n"
     ]
    }
   ],
   "source": [
    "# 1. Identificar las filas que originalmente tenían nulos en 'color'\n",
    "nulos_originales = df_bmw['fecha_registro'].isnull()\n",
    "\n",
    "# 2. Filtrar solo esas filas para comparar\n",
    "edad_imputada = df_bmw.loc[nulos_originales, 'edad_transformada'] # df donde se han imputado nulos\n",
    "edad_real = df_bmw_original.loc[nulos_originales, 'edad_transformada'] # copia del df original sin modificaciones\n",
    "\n",
    "# 3. Calcular aciertos\n",
    "aciertos = (edad_imputada == edad_real).sum()\n",
    "total = nulos_originales.sum()\n",
    "porcentaje_acierto = (aciertos / total) * 100 if total > 0 else None\n",
    "\n",
    "# 4. Mostrar resultados\n",
    "print(f\"Aciertos: {aciertos} de {total} imputaciones\")\n",
    "print(f\"Porcentaje de acierto: {porcentaje_acierto:.2f}%\")"
   ]
  },
  {
   "cell_type": "markdown",
   "id": "648f021f",
   "metadata": {},
   "source": [
    "## COMPROBACIÓN DE LA IMPUTACIÓN AIRE ACONDICIONADO"
   ]
  },
  {
   "cell_type": "markdown",
   "id": "29cfc1f7",
   "metadata": {},
   "source": [
    "### VERSIÓN 2 - 81, 07% modelo', 'edad / 'moddelo', potencia / modelo / moda general AHORA 81,07%"
   ]
  },
  {
   "cell_type": "code",
   "execution_count": 42,
   "id": "086bbec7",
   "metadata": {},
   "outputs": [
    {
     "data": {
      "text/html": [
       "<div>\n",
       "<style scoped>\n",
       "    .dataframe tbody tr th:only-of-type {\n",
       "        vertical-align: middle;\n",
       "    }\n",
       "\n",
       "    .dataframe tbody tr th {\n",
       "        vertical-align: top;\n",
       "    }\n",
       "\n",
       "    .dataframe thead th {\n",
       "        text-align: right;\n",
       "    }\n",
       "</style>\n",
       "<table border=\"1\" class=\"dataframe\">\n",
       "  <thead>\n",
       "    <tr style=\"text-align: right;\">\n",
       "      <th></th>\n",
       "      <th>NULOS</th>\n",
       "      <th>% NULOS</th>\n",
       "      <th>VALORES UNICOS</th>\n",
       "    </tr>\n",
       "  </thead>\n",
       "  <tbody>\n",
       "    <tr>\n",
       "      <th>aire_acondicionado</th>\n",
       "      <td>486</td>\n",
       "      <td>10.035102</td>\n",
       "      <td>2</td>\n",
       "    </tr>\n",
       "  </tbody>\n",
       "</table>\n",
       "</div>"
      ],
      "text/plain": [
       "                    NULOS    % NULOS  VALORES UNICOS\n",
       "aire_acondicionado    486  10.035102               2"
      ]
     },
     "execution_count": 42,
     "metadata": {},
     "output_type": "execute_result"
    }
   ],
   "source": [
    "tabla_nulos(df_bmw).loc[['aire_acondicionado']]"
   ]
  },
  {
   "cell_type": "code",
   "execution_count": 43,
   "id": "f56f8b1d",
   "metadata": {},
   "outputs": [],
   "source": [
    "moda_paso_1 = bmw.groupby(['modelo','edad'])['aire_acondicionado'].agg(obtener_moda).reset_index()\n",
    "moda_paso_1 = moda_paso_1.rename(columns={'aire_acondicionado': 'MODA_PASO_1'})\n",
    "df_bmw = df_bmw.merge(moda_paso_1, on=['modelo', 'edad'], how='left')\n",
    "df_bmw['aire_acondicionado'] = df_bmw['aire_acondicionado'].fillna(df_bmw['MODA_PASO_1'])\n",
    "df_bmw.drop(columns=['MODA_PASO_1'], inplace=True)"
   ]
  },
  {
   "cell_type": "code",
   "execution_count": 44,
   "id": "4a13c25e",
   "metadata": {},
   "outputs": [
    {
     "data": {
      "text/html": [
       "<div>\n",
       "<style scoped>\n",
       "    .dataframe tbody tr th:only-of-type {\n",
       "        vertical-align: middle;\n",
       "    }\n",
       "\n",
       "    .dataframe tbody tr th {\n",
       "        vertical-align: top;\n",
       "    }\n",
       "\n",
       "    .dataframe thead th {\n",
       "        text-align: right;\n",
       "    }\n",
       "</style>\n",
       "<table border=\"1\" class=\"dataframe\">\n",
       "  <thead>\n",
       "    <tr style=\"text-align: right;\">\n",
       "      <th></th>\n",
       "      <th>NULOS</th>\n",
       "      <th>% NULOS</th>\n",
       "      <th>VALORES UNICOS</th>\n",
       "    </tr>\n",
       "  </thead>\n",
       "  <tbody>\n",
       "    <tr>\n",
       "      <th>aire_acondicionado</th>\n",
       "      <td>243</td>\n",
       "      <td>5.017551</td>\n",
       "      <td>2</td>\n",
       "    </tr>\n",
       "  </tbody>\n",
       "</table>\n",
       "</div>"
      ],
      "text/plain": [
       "                    NULOS   % NULOS  VALORES UNICOS\n",
       "aire_acondicionado    243  5.017551               2"
      ]
     },
     "execution_count": 44,
     "metadata": {},
     "output_type": "execute_result"
    }
   ],
   "source": [
    "tabla_nulos(df_bmw).loc[['aire_acondicionado']]"
   ]
  },
  {
   "cell_type": "code",
   "execution_count": 45,
   "id": "a0831d57",
   "metadata": {},
   "outputs": [],
   "source": [
    "moda_paso_1 = bmw.groupby(['modelo','potencia'])['aire_acondicionado'].agg(obtener_moda).reset_index()\n",
    "moda_paso_1 = moda_paso_1.rename(columns={'aire_acondicionado': 'MODA_PASO_1'})\n",
    "df_bmw = df_bmw.merge(moda_paso_1, on=['modelo','potencia'], how='left')\n",
    "df_bmw['aire_acondicionado'] = df_bmw['aire_acondicionado'].fillna(df_bmw['MODA_PASO_1'])\n",
    "df_bmw.drop(columns=['MODA_PASO_1'], inplace=True)"
   ]
  },
  {
   "cell_type": "code",
   "execution_count": 46,
   "id": "961ed25e",
   "metadata": {},
   "outputs": [
    {
     "data": {
      "text/html": [
       "<div>\n",
       "<style scoped>\n",
       "    .dataframe tbody tr th:only-of-type {\n",
       "        vertical-align: middle;\n",
       "    }\n",
       "\n",
       "    .dataframe tbody tr th {\n",
       "        vertical-align: top;\n",
       "    }\n",
       "\n",
       "    .dataframe thead th {\n",
       "        text-align: right;\n",
       "    }\n",
       "</style>\n",
       "<table border=\"1\" class=\"dataframe\">\n",
       "  <thead>\n",
       "    <tr style=\"text-align: right;\">\n",
       "      <th></th>\n",
       "      <th>NULOS</th>\n",
       "      <th>% NULOS</th>\n",
       "      <th>VALORES UNICOS</th>\n",
       "    </tr>\n",
       "  </thead>\n",
       "  <tbody>\n",
       "    <tr>\n",
       "      <th>aire_acondicionado</th>\n",
       "      <td>5</td>\n",
       "      <td>0.103242</td>\n",
       "      <td>2</td>\n",
       "    </tr>\n",
       "  </tbody>\n",
       "</table>\n",
       "</div>"
      ],
      "text/plain": [
       "                    NULOS   % NULOS  VALORES UNICOS\n",
       "aire_acondicionado      5  0.103242               2"
      ]
     },
     "execution_count": 46,
     "metadata": {},
     "output_type": "execute_result"
    }
   ],
   "source": [
    "tabla_nulos(df_bmw).loc[['aire_acondicionado']]"
   ]
  },
  {
   "cell_type": "code",
   "execution_count": 47,
   "id": "197e4fea",
   "metadata": {},
   "outputs": [],
   "source": [
    "moda_paso_1 = bmw.groupby(['modelo'])['aire_acondicionado'].agg(obtener_moda).reset_index()\n",
    "moda_paso_1 = moda_paso_1.rename(columns={'aire_acondicionado': 'MODA_PASO_1'})\n",
    "df_bmw = df_bmw.merge(moda_paso_1, on=['modelo'], how='left')\n",
    "df_bmw['aire_acondicionado'] = df_bmw['aire_acondicionado'].fillna(df_bmw['MODA_PASO_1'])\n",
    "df_bmw.drop(columns=['MODA_PASO_1'], inplace=True)"
   ]
  },
  {
   "cell_type": "code",
   "execution_count": 48,
   "id": "ce97035e",
   "metadata": {},
   "outputs": [
    {
     "data": {
      "text/html": [
       "<div>\n",
       "<style scoped>\n",
       "    .dataframe tbody tr th:only-of-type {\n",
       "        vertical-align: middle;\n",
       "    }\n",
       "\n",
       "    .dataframe tbody tr th {\n",
       "        vertical-align: top;\n",
       "    }\n",
       "\n",
       "    .dataframe thead th {\n",
       "        text-align: right;\n",
       "    }\n",
       "</style>\n",
       "<table border=\"1\" class=\"dataframe\">\n",
       "  <thead>\n",
       "    <tr style=\"text-align: right;\">\n",
       "      <th></th>\n",
       "      <th>NULOS</th>\n",
       "      <th>% NULOS</th>\n",
       "      <th>VALORES UNICOS</th>\n",
       "    </tr>\n",
       "  </thead>\n",
       "  <tbody>\n",
       "    <tr>\n",
       "      <th>aire_acondicionado</th>\n",
       "      <td>2</td>\n",
       "      <td>0.041297</td>\n",
       "      <td>2</td>\n",
       "    </tr>\n",
       "  </tbody>\n",
       "</table>\n",
       "</div>"
      ],
      "text/plain": [
       "                    NULOS   % NULOS  VALORES UNICOS\n",
       "aire_acondicionado      2  0.041297               2"
      ]
     },
     "execution_count": 48,
     "metadata": {},
     "output_type": "execute_result"
    }
   ],
   "source": [
    "tabla_nulos(df_bmw).loc[['aire_acondicionado']]"
   ]
  },
  {
   "cell_type": "code",
   "execution_count": 49,
   "id": "ab5184e7",
   "metadata": {},
   "outputs": [
    {
     "data": {
      "text/html": [
       "<div>\n",
       "<style scoped>\n",
       "    .dataframe tbody tr th:only-of-type {\n",
       "        vertical-align: middle;\n",
       "    }\n",
       "\n",
       "    .dataframe tbody tr th {\n",
       "        vertical-align: top;\n",
       "    }\n",
       "\n",
       "    .dataframe thead th {\n",
       "        text-align: right;\n",
       "    }\n",
       "</style>\n",
       "<table border=\"1\" class=\"dataframe\">\n",
       "  <thead>\n",
       "    <tr style=\"text-align: right;\">\n",
       "      <th></th>\n",
       "      <th>NULOS</th>\n",
       "      <th>% NULOS</th>\n",
       "      <th>VALORES UNICOS</th>\n",
       "    </tr>\n",
       "  </thead>\n",
       "  <tbody>\n",
       "    <tr>\n",
       "      <th>aire_acondicionado</th>\n",
       "      <td>0</td>\n",
       "      <td>0.0</td>\n",
       "      <td>2</td>\n",
       "    </tr>\n",
       "  </tbody>\n",
       "</table>\n",
       "</div>"
      ],
      "text/plain": [
       "                    NULOS  % NULOS  VALORES UNICOS\n",
       "aire_acondicionado      0      0.0               2"
      ]
     },
     "execution_count": 49,
     "metadata": {},
     "output_type": "execute_result"
    }
   ],
   "source": [
    "# Calcular la moda de la columna 'bluetooth'\n",
    "moda_bluetooth = bmw['aire_acondicionado'].mode().iloc[0]\n",
    "\n",
    "# Rellenar los valores nulos con la moda\n",
    "df_bmw['aire_acondicionado'] = df_bmw['aire_acondicionado'].fillna(moda_bluetooth)\n",
    "tabla_nulos(df_bmw).loc[['aire_acondicionado']]"
   ]
  },
  {
   "cell_type": "code",
   "execution_count": 50,
   "id": "4a63e0f3",
   "metadata": {},
   "outputs": [
    {
     "name": "stdout",
     "output_type": "stream",
     "text": [
      "Aciertos: 394 de 486 imputaciones\n",
      "Porcentaje de acierto: 81.07%\n"
     ]
    }
   ],
   "source": [
    "# 1. Identificar las filas que originalmente tenían nulos en 'color'\n",
    "nulos_originales = bmw['aire_acondicionado'].isnull()\n",
    "\n",
    "# 2. Filtrar solo esas filas para comparar\n",
    "edad_imputada = df_bmw.loc[nulos_originales, 'aire_acondicionado'] # df donde se han imputado nulos\n",
    "edad_real = df_bmw_original.loc[nulos_originales, 'aire_acondicionado'] # copia del df original sin modificaciones\n",
    "\n",
    "# 3. Calcular aciertos\n",
    "aciertos = (edad_imputada == edad_real).sum()\n",
    "total = nulos_originales.sum()\n",
    "porcentaje_acierto = (aciertos / total) * 100 if total > 0 else None\n",
    "\n",
    "# 4. Mostrar resultados\n",
    "print(f\"Aciertos: {aciertos} de {total} imputaciones\")\n",
    "print(f\"Porcentaje de acierto: {porcentaje_acierto:.2f}%\")"
   ]
  },
  {
   "cell_type": "markdown",
   "id": "22c31176",
   "metadata": {},
   "source": [
    "## COMPROBACIÓN DE LA IMPUTACIÓN BLUETOOTH"
   ]
  },
  {
   "cell_type": "markdown",
   "id": "7d505bb3",
   "metadata": {},
   "source": [
    "### VERSIÓN 2 - 79,26%  AHORA 78,16%"
   ]
  },
  {
   "cell_type": "code",
   "execution_count": 51,
   "id": "c6d17c00",
   "metadata": {},
   "outputs": [],
   "source": [
    "moda_paso_1 = bmw.groupby(['edad','tipo_coche','modelo','potencia', 'asientos_traseros_plegables', 'aire_acondicionado'])['bluetooth'].agg(obtener_moda).reset_index()\n",
    "moda_paso_1 = moda_paso_1.rename(columns={'bluetooth': 'MODA_PASO_1'})\n",
    "\n",
    "df_bmw = df_bmw.merge(moda_paso_1, on=['edad','tipo_coche','modelo','potencia', 'asientos_traseros_plegables', 'aire_acondicionado'], how='left')\n",
    "df_bmw['bluetooth'] = df_bmw['bluetooth'].fillna(df_bmw['MODA_PASO_1'])\n",
    "df_bmw.drop(columns=['MODA_PASO_1'], inplace=True)"
   ]
  },
  {
   "cell_type": "code",
   "execution_count": 52,
   "id": "94652337",
   "metadata": {},
   "outputs": [
    {
     "data": {
      "text/html": [
       "<div>\n",
       "<style scoped>\n",
       "    .dataframe tbody tr th:only-of-type {\n",
       "        vertical-align: middle;\n",
       "    }\n",
       "\n",
       "    .dataframe tbody tr th {\n",
       "        vertical-align: top;\n",
       "    }\n",
       "\n",
       "    .dataframe thead th {\n",
       "        text-align: right;\n",
       "    }\n",
       "</style>\n",
       "<table border=\"1\" class=\"dataframe\">\n",
       "  <thead>\n",
       "    <tr style=\"text-align: right;\">\n",
       "      <th></th>\n",
       "      <th>NULOS</th>\n",
       "      <th>% NULOS</th>\n",
       "      <th>VALORES UNICOS</th>\n",
       "    </tr>\n",
       "  </thead>\n",
       "  <tbody>\n",
       "    <tr>\n",
       "      <th>bluetooth</th>\n",
       "      <td>661</td>\n",
       "      <td>13.648565</td>\n",
       "      <td>2</td>\n",
       "    </tr>\n",
       "  </tbody>\n",
       "</table>\n",
       "</div>"
      ],
      "text/plain": [
       "           NULOS    % NULOS  VALORES UNICOS\n",
       "bluetooth    661  13.648565               2"
      ]
     },
     "execution_count": 52,
     "metadata": {},
     "output_type": "execute_result"
    }
   ],
   "source": [
    "tabla_nulos(df_bmw).loc[['bluetooth']]"
   ]
  },
  {
   "cell_type": "code",
   "execution_count": 53,
   "id": "8199ea3a",
   "metadata": {},
   "outputs": [],
   "source": [
    "moda_paso_1 = bmw.groupby(['modelo', 'asientos_traseros_plegables', 'aire_acondicionado'])['bluetooth'].agg(obtener_moda).reset_index()\n",
    "moda_paso_1 = moda_paso_1.rename(columns={'bluetooth': 'MODA_PASO_1'})\n",
    "\n",
    "df_bmw = df_bmw.merge(moda_paso_1, on=['modelo', 'asientos_traseros_plegables', 'aire_acondicionado'], how='left')\n",
    "df_bmw['bluetooth'] = df_bmw['bluetooth'].fillna(df_bmw['MODA_PASO_1'])\n",
    "df_bmw.drop(columns=['MODA_PASO_1'], inplace=True)"
   ]
  },
  {
   "cell_type": "code",
   "execution_count": 54,
   "id": "f70960c6",
   "metadata": {},
   "outputs": [
    {
     "data": {
      "text/html": [
       "<div>\n",
       "<style scoped>\n",
       "    .dataframe tbody tr th:only-of-type {\n",
       "        vertical-align: middle;\n",
       "    }\n",
       "\n",
       "    .dataframe tbody tr th {\n",
       "        vertical-align: top;\n",
       "    }\n",
       "\n",
       "    .dataframe thead th {\n",
       "        text-align: right;\n",
       "    }\n",
       "</style>\n",
       "<table border=\"1\" class=\"dataframe\">\n",
       "  <thead>\n",
       "    <tr style=\"text-align: right;\">\n",
       "      <th></th>\n",
       "      <th>NULOS</th>\n",
       "      <th>% NULOS</th>\n",
       "      <th>VALORES UNICOS</th>\n",
       "    </tr>\n",
       "  </thead>\n",
       "  <tbody>\n",
       "    <tr>\n",
       "      <th>bluetooth</th>\n",
       "      <td>502</td>\n",
       "      <td>10.365476</td>\n",
       "      <td>2</td>\n",
       "    </tr>\n",
       "  </tbody>\n",
       "</table>\n",
       "</div>"
      ],
      "text/plain": [
       "           NULOS    % NULOS  VALORES UNICOS\n",
       "bluetooth    502  10.365476               2"
      ]
     },
     "execution_count": 54,
     "metadata": {},
     "output_type": "execute_result"
    }
   ],
   "source": [
    "tabla_nulos(df_bmw).loc[['bluetooth']]"
   ]
  },
  {
   "cell_type": "code",
   "execution_count": 55,
   "id": "e0ff968a",
   "metadata": {},
   "outputs": [],
   "source": [
    "moda_paso_1 = bmw.groupby(['modelo','elevalunas_electrico'])['bluetooth'].agg(obtener_moda).reset_index()\n",
    "moda_paso_1 = moda_paso_1.rename(columns={'bluetooth': 'MODA_PASO_1'})\n",
    "df_bmw = df_bmw.merge(moda_paso_1, on=['modelo','elevalunas_electrico'], how='left')\n",
    "df_bmw['bluetooth'] = df_bmw['bluetooth'].fillna(df_bmw['MODA_PASO_1'])\n",
    "df_bmw.drop(columns=['MODA_PASO_1'], inplace=True)"
   ]
  },
  {
   "cell_type": "code",
   "execution_count": 56,
   "id": "501427b9",
   "metadata": {},
   "outputs": [
    {
     "data": {
      "text/html": [
       "<div>\n",
       "<style scoped>\n",
       "    .dataframe tbody tr th:only-of-type {\n",
       "        vertical-align: middle;\n",
       "    }\n",
       "\n",
       "    .dataframe tbody tr th {\n",
       "        vertical-align: top;\n",
       "    }\n",
       "\n",
       "    .dataframe thead th {\n",
       "        text-align: right;\n",
       "    }\n",
       "</style>\n",
       "<table border=\"1\" class=\"dataframe\">\n",
       "  <thead>\n",
       "    <tr style=\"text-align: right;\">\n",
       "      <th></th>\n",
       "      <th>NULOS</th>\n",
       "      <th>% NULOS</th>\n",
       "      <th>VALORES UNICOS</th>\n",
       "    </tr>\n",
       "  </thead>\n",
       "  <tbody>\n",
       "    <tr>\n",
       "      <th>bluetooth</th>\n",
       "      <td>5</td>\n",
       "      <td>0.103242</td>\n",
       "      <td>2</td>\n",
       "    </tr>\n",
       "  </tbody>\n",
       "</table>\n",
       "</div>"
      ],
      "text/plain": [
       "           NULOS   % NULOS  VALORES UNICOS\n",
       "bluetooth      5  0.103242               2"
      ]
     },
     "execution_count": 56,
     "metadata": {},
     "output_type": "execute_result"
    }
   ],
   "source": [
    "tabla_nulos(df_bmw).loc[['bluetooth']]"
   ]
  },
  {
   "cell_type": "code",
   "execution_count": 57,
   "id": "aa1164a5",
   "metadata": {},
   "outputs": [],
   "source": [
    "moda_paso_1 = bmw.groupby(['modelo'])['bluetooth'].agg(obtener_moda).reset_index()\n",
    "moda_paso_1 = moda_paso_1.rename(columns={'bluetooth': 'MODA_PASO_1'})\n",
    "df_bmw = df_bmw.merge(moda_paso_1, on=['modelo'], how='left')\n",
    "df_bmw['bluetooth'] = df_bmw['bluetooth'].fillna(df_bmw['MODA_PASO_1'])\n",
    "df_bmw.drop(columns=['MODA_PASO_1'], inplace=True)"
   ]
  },
  {
   "cell_type": "code",
   "execution_count": 58,
   "id": "79499e41",
   "metadata": {},
   "outputs": [
    {
     "data": {
      "text/html": [
       "<div>\n",
       "<style scoped>\n",
       "    .dataframe tbody tr th:only-of-type {\n",
       "        vertical-align: middle;\n",
       "    }\n",
       "\n",
       "    .dataframe tbody tr th {\n",
       "        vertical-align: top;\n",
       "    }\n",
       "\n",
       "    .dataframe thead th {\n",
       "        text-align: right;\n",
       "    }\n",
       "</style>\n",
       "<table border=\"1\" class=\"dataframe\">\n",
       "  <thead>\n",
       "    <tr style=\"text-align: right;\">\n",
       "      <th></th>\n",
       "      <th>NULOS</th>\n",
       "      <th>% NULOS</th>\n",
       "      <th>VALORES UNICOS</th>\n",
       "    </tr>\n",
       "  </thead>\n",
       "  <tbody>\n",
       "    <tr>\n",
       "      <th>bluetooth</th>\n",
       "      <td>2</td>\n",
       "      <td>0.041297</td>\n",
       "      <td>2</td>\n",
       "    </tr>\n",
       "  </tbody>\n",
       "</table>\n",
       "</div>"
      ],
      "text/plain": [
       "           NULOS   % NULOS  VALORES UNICOS\n",
       "bluetooth      2  0.041297               2"
      ]
     },
     "execution_count": 58,
     "metadata": {},
     "output_type": "execute_result"
    }
   ],
   "source": [
    "tabla_nulos(df_bmw).loc[['bluetooth']]"
   ]
  },
  {
   "cell_type": "code",
   "execution_count": 59,
   "id": "30ab1bd5",
   "metadata": {},
   "outputs": [],
   "source": [
    "# Calcular la moda de la columna 'bluetooth'\n",
    "moda_bluetooth = bmw['bluetooth'].mode().iloc[0]\n",
    "\n",
    "# Rellenar los valores nulos con la moda\n",
    "df_bmw['bluetooth'] = df_bmw['bluetooth'].fillna(moda_bluetooth)"
   ]
  },
  {
   "cell_type": "code",
   "execution_count": 60,
   "id": "c70442f2",
   "metadata": {},
   "outputs": [
    {
     "data": {
      "text/html": [
       "<div>\n",
       "<style scoped>\n",
       "    .dataframe tbody tr th:only-of-type {\n",
       "        vertical-align: middle;\n",
       "    }\n",
       "\n",
       "    .dataframe tbody tr th {\n",
       "        vertical-align: top;\n",
       "    }\n",
       "\n",
       "    .dataframe thead th {\n",
       "        text-align: right;\n",
       "    }\n",
       "</style>\n",
       "<table border=\"1\" class=\"dataframe\">\n",
       "  <thead>\n",
       "    <tr style=\"text-align: right;\">\n",
       "      <th></th>\n",
       "      <th>NULOS</th>\n",
       "      <th>% NULOS</th>\n",
       "      <th>VALORES UNICOS</th>\n",
       "    </tr>\n",
       "  </thead>\n",
       "  <tbody>\n",
       "    <tr>\n",
       "      <th>bluetooth</th>\n",
       "      <td>0</td>\n",
       "      <td>0.0</td>\n",
       "      <td>2</td>\n",
       "    </tr>\n",
       "  </tbody>\n",
       "</table>\n",
       "</div>"
      ],
      "text/plain": [
       "           NULOS  % NULOS  VALORES UNICOS\n",
       "bluetooth      0      0.0               2"
      ]
     },
     "execution_count": 60,
     "metadata": {},
     "output_type": "execute_result"
    }
   ],
   "source": [
    "tabla_nulos(df_bmw).loc[['bluetooth']]"
   ]
  },
  {
   "cell_type": "code",
   "execution_count": 61,
   "id": "c8f02ec0",
   "metadata": {},
   "outputs": [
    {
     "name": "stdout",
     "output_type": "stream",
     "text": [
      "Aciertos: 569 de 728 imputaciones\n",
      "Porcentaje de acierto: 78.16%\n"
     ]
    }
   ],
   "source": [
    "# 1. Identificar las filas que originalmente tenían nulos en 'color'\n",
    "nulos_originales = bmw['bluetooth'].isnull()\n",
    "\n",
    "# 2. Filtrar solo esas filas para comparar\n",
    "edad_imputada = df_bmw.loc[nulos_originales, 'bluetooth'] # df donde se han imputado nulos\n",
    "edad_real = df_bmw_original.loc[nulos_originales, 'bluetooth'] # copia del df original sin modificaciones\n",
    "\n",
    "# 3. Calcular aciertos\n",
    "aciertos = (edad_imputada == edad_real).sum()\n",
    "total = nulos_originales.sum()\n",
    "porcentaje_acierto = (aciertos / total) * 100 if total > 0 else None\n",
    "\n",
    "# 4. Mostrar resultados\n",
    "print(f\"Aciertos: {aciertos} de {total} imputaciones\")\n",
    "print(f\"Porcentaje de acierto: {porcentaje_acierto:.2f}%\")"
   ]
  },
  {
   "cell_type": "markdown",
   "id": "7f081732",
   "metadata": {},
   "source": [
    "## COMPROBACIÓN DE LA IMPUTACIÓN ALERTA LIMITE VELOCIDAD"
   ]
  },
  {
   "cell_type": "markdown",
   "id": "c715ddc6",
   "metadata": {},
   "source": [
    "### VERSIÓN 2 - 72,53% 'potencia', 'km / modelo', 'potencia / moda general"
   ]
  },
  {
   "cell_type": "code",
   "execution_count": 62,
   "id": "e30a0d16",
   "metadata": {},
   "outputs": [
    {
     "data": {
      "text/html": [
       "<div>\n",
       "<style scoped>\n",
       "    .dataframe tbody tr th:only-of-type {\n",
       "        vertical-align: middle;\n",
       "    }\n",
       "\n",
       "    .dataframe tbody tr th {\n",
       "        vertical-align: top;\n",
       "    }\n",
       "\n",
       "    .dataframe thead th {\n",
       "        text-align: right;\n",
       "    }\n",
       "</style>\n",
       "<table border=\"1\" class=\"dataframe\">\n",
       "  <thead>\n",
       "    <tr style=\"text-align: right;\">\n",
       "      <th></th>\n",
       "      <th>NULOS</th>\n",
       "      <th>% NULOS</th>\n",
       "      <th>VALORES UNICOS</th>\n",
       "    </tr>\n",
       "  </thead>\n",
       "  <tbody>\n",
       "    <tr>\n",
       "      <th>alerta_lim_velocidad</th>\n",
       "      <td>728</td>\n",
       "      <td>15.032005</td>\n",
       "      <td>2</td>\n",
       "    </tr>\n",
       "  </tbody>\n",
       "</table>\n",
       "</div>"
      ],
      "text/plain": [
       "                      NULOS    % NULOS  VALORES UNICOS\n",
       "alerta_lim_velocidad    728  15.032005               2"
      ]
     },
     "execution_count": 62,
     "metadata": {},
     "output_type": "execute_result"
    }
   ],
   "source": [
    "tabla_nulos(df_bmw).loc[['alerta_lim_velocidad']]"
   ]
  },
  {
   "cell_type": "code",
   "execution_count": 63,
   "id": "ba7a1601",
   "metadata": {},
   "outputs": [
    {
     "data": {
      "text/plain": [
       "alerta_lim_velocidad\n",
       "True     0.54435\n",
       "False    0.45565\n",
       "Name: proportion, dtype: float64"
      ]
     },
     "execution_count": 63,
     "metadata": {},
     "output_type": "execute_result"
    }
   ],
   "source": [
    "distribuciones['alerta_lim_velocidad']"
   ]
  },
  {
   "cell_type": "code",
   "execution_count": 64,
   "id": "b0190c87",
   "metadata": {},
   "outputs": [
    {
     "name": "stdout",
     "output_type": "stream",
     "text": [
      "<class 'pandas.core.frame.DataFrame'>\n",
      "RangeIndex: 4843 entries, 0 to 4842\n",
      "Data columns (total 24 columns):\n",
      " #   Column                       Non-Null Count  Dtype         \n",
      "---  ------                       --------------  -----         \n",
      " 0   marca                        3873 non-null   object        \n",
      " 1   modelo                       4840 non-null   object        \n",
      " 2   km                           4841 non-null   float64       \n",
      " 3   potencia                     4842 non-null   float64       \n",
      " 4   fecha_registro               2420 non-null   datetime64[ns]\n",
      " 5   tipo_gasolina                4838 non-null   object        \n",
      " 6   color                        4398 non-null   object        \n",
      " 7   tipo_coche                   4843 non-null   object        \n",
      " 8   volante_regulable            4839 non-null   object        \n",
      " 9   aire_acondicionado           4843 non-null   bool          \n",
      " 10  camara_trasera               4841 non-null   object        \n",
      " 11  asientos_traseros_plegables  1452 non-null   object        \n",
      " 12  elevalunas_electrico         4841 non-null   object        \n",
      " 13  bluetooth                    4843 non-null   bool          \n",
      " 14  gps                          4843 non-null   bool          \n",
      " 15  alerta_lim_velocidad         4115 non-null   object        \n",
      " 16  precio                       4837 non-null   float64       \n",
      " 17  fecha_venta                  4842 non-null   datetime64[ns]\n",
      " 18  año_registro                 2420 non-null   float64       \n",
      " 19  año_venta                    4842 non-null   float64       \n",
      " 20  edad_coche                   2420 non-null   float64       \n",
      " 21  color_estandar               4843 non-null   float64       \n",
      " 22  edad                         2420 non-null   float64       \n",
      " 23  edad_transformada            4843 non-null   category      \n",
      "dtypes: bool(3), category(1), datetime64[ns](2), float64(8), object(10)\n",
      "memory usage: 776.1+ KB\n"
     ]
    }
   ],
   "source": [
    "df_bmw.info()"
   ]
  },
  {
   "cell_type": "code",
   "execution_count": 65,
   "id": "bf343af3",
   "metadata": {},
   "outputs": [],
   "source": [
    "moda_paso_1 = df_bmw.groupby(['potencia', 'km'])['alerta_lim_velocidad'].agg(obtener_moda).reset_index()\n",
    "moda_paso_1 = moda_paso_1.rename(columns={'alerta_lim_velocidad': 'MODA_PASO_1'})\n",
    "df_bmw = df_bmw.merge(moda_paso_1, on=['potencia', 'km'], how='left')\n",
    "df_bmw['alerta_lim_velocidad'] = df_bmw['alerta_lim_velocidad'].fillna(df_bmw['MODA_PASO_1'])\n",
    "df_bmw.drop(columns=['MODA_PASO_1'], inplace=True)"
   ]
  },
  {
   "cell_type": "code",
   "execution_count": 66,
   "id": "06fcfce8",
   "metadata": {},
   "outputs": [
    {
     "data": {
      "text/html": [
       "<div>\n",
       "<style scoped>\n",
       "    .dataframe tbody tr th:only-of-type {\n",
       "        vertical-align: middle;\n",
       "    }\n",
       "\n",
       "    .dataframe tbody tr th {\n",
       "        vertical-align: top;\n",
       "    }\n",
       "\n",
       "    .dataframe thead th {\n",
       "        text-align: right;\n",
       "    }\n",
       "</style>\n",
       "<table border=\"1\" class=\"dataframe\">\n",
       "  <thead>\n",
       "    <tr style=\"text-align: right;\">\n",
       "      <th></th>\n",
       "      <th>NULOS</th>\n",
       "      <th>% NULOS</th>\n",
       "      <th>VALORES UNICOS</th>\n",
       "    </tr>\n",
       "  </thead>\n",
       "  <tbody>\n",
       "    <tr>\n",
       "      <th>alerta_lim_velocidad</th>\n",
       "      <td>723</td>\n",
       "      <td>14.928763</td>\n",
       "      <td>2</td>\n",
       "    </tr>\n",
       "  </tbody>\n",
       "</table>\n",
       "</div>"
      ],
      "text/plain": [
       "                      NULOS    % NULOS  VALORES UNICOS\n",
       "alerta_lim_velocidad    723  14.928763               2"
      ]
     },
     "execution_count": 66,
     "metadata": {},
     "output_type": "execute_result"
    }
   ],
   "source": [
    "tabla_nulos(df_bmw).loc[['alerta_lim_velocidad']]"
   ]
  },
  {
   "cell_type": "code",
   "execution_count": 67,
   "id": "47a352df",
   "metadata": {},
   "outputs": [],
   "source": [
    "moda_paso_1 = df_bmw.groupby(['modelo', 'potencia'])['alerta_lim_velocidad'].agg(obtener_moda).reset_index()\n",
    "moda_paso_1 = moda_paso_1.rename(columns={'alerta_lim_velocidad': 'MODA_PASO_1'})\n",
    "df_bmw = df_bmw.merge(moda_paso_1, on=['modelo', 'potencia'], how='left')\n",
    "df_bmw['alerta_lim_velocidad'] = df_bmw['alerta_lim_velocidad'].fillna(df_bmw['MODA_PASO_1'])\n",
    "df_bmw.drop(columns=['MODA_PASO_1'], inplace=True)"
   ]
  },
  {
   "cell_type": "code",
   "execution_count": 68,
   "id": "e47f2d9c",
   "metadata": {},
   "outputs": [
    {
     "data": {
      "text/html": [
       "<div>\n",
       "<style scoped>\n",
       "    .dataframe tbody tr th:only-of-type {\n",
       "        vertical-align: middle;\n",
       "    }\n",
       "\n",
       "    .dataframe tbody tr th {\n",
       "        vertical-align: top;\n",
       "    }\n",
       "\n",
       "    .dataframe thead th {\n",
       "        text-align: right;\n",
       "    }\n",
       "</style>\n",
       "<table border=\"1\" class=\"dataframe\">\n",
       "  <thead>\n",
       "    <tr style=\"text-align: right;\">\n",
       "      <th></th>\n",
       "      <th>NULOS</th>\n",
       "      <th>% NULOS</th>\n",
       "      <th>VALORES UNICOS</th>\n",
       "    </tr>\n",
       "  </thead>\n",
       "  <tbody>\n",
       "    <tr>\n",
       "      <th>alerta_lim_velocidad</th>\n",
       "      <td>13</td>\n",
       "      <td>0.268429</td>\n",
       "      <td>2</td>\n",
       "    </tr>\n",
       "  </tbody>\n",
       "</table>\n",
       "</div>"
      ],
      "text/plain": [
       "                      NULOS   % NULOS  VALORES UNICOS\n",
       "alerta_lim_velocidad     13  0.268429               2"
      ]
     },
     "execution_count": 68,
     "metadata": {},
     "output_type": "execute_result"
    }
   ],
   "source": [
    "tabla_nulos(df_bmw).loc[['alerta_lim_velocidad']]"
   ]
  },
  {
   "cell_type": "code",
   "execution_count": 69,
   "id": "b3c5754c",
   "metadata": {},
   "outputs": [
    {
     "data": {
      "text/html": [
       "<div>\n",
       "<style scoped>\n",
       "    .dataframe tbody tr th:only-of-type {\n",
       "        vertical-align: middle;\n",
       "    }\n",
       "\n",
       "    .dataframe tbody tr th {\n",
       "        vertical-align: top;\n",
       "    }\n",
       "\n",
       "    .dataframe thead th {\n",
       "        text-align: right;\n",
       "    }\n",
       "</style>\n",
       "<table border=\"1\" class=\"dataframe\">\n",
       "  <thead>\n",
       "    <tr style=\"text-align: right;\">\n",
       "      <th></th>\n",
       "      <th>NULOS</th>\n",
       "      <th>% NULOS</th>\n",
       "      <th>VALORES UNICOS</th>\n",
       "    </tr>\n",
       "  </thead>\n",
       "  <tbody>\n",
       "    <tr>\n",
       "      <th>alerta_lim_velocidad</th>\n",
       "      <td>0</td>\n",
       "      <td>0.0</td>\n",
       "      <td>2</td>\n",
       "    </tr>\n",
       "  </tbody>\n",
       "</table>\n",
       "</div>"
      ],
      "text/plain": [
       "                      NULOS  % NULOS  VALORES UNICOS\n",
       "alerta_lim_velocidad      0      0.0               2"
      ]
     },
     "execution_count": 69,
     "metadata": {},
     "output_type": "execute_result"
    }
   ],
   "source": [
    "# Calcular la moda de la columna 'bluetooth'\n",
    "moda_bluetooth = df_bmw['alerta_lim_velocidad'].mode().iloc[0]\n",
    "\n",
    "# Rellenar los valores nulos con la moda\n",
    "df_bmw['alerta_lim_velocidad'] = df_bmw['alerta_lim_velocidad'].fillna(moda_bluetooth)\n",
    "tabla_nulos(df_bmw).loc[['alerta_lim_velocidad']]"
   ]
  },
  {
   "cell_type": "code",
   "execution_count": 70,
   "id": "32377428",
   "metadata": {},
   "outputs": [
    {
     "name": "stdout",
     "output_type": "stream",
     "text": [
      "Aciertos: 528 de 728 imputaciones\n",
      "Porcentaje de acierto: 72.53%\n"
     ]
    }
   ],
   "source": [
    "# 1. Identificar las filas que originalmente tenían nulos en 'color'\n",
    "nulos_originales = bmw['alerta_lim_velocidad'].isnull()\n",
    "\n",
    "# 2. Filtrar solo esas filas para comparar\n",
    "edad_imputada = df_bmw.loc[nulos_originales, 'alerta_lim_velocidad'] # df donde se han imputado nulos\n",
    "edad_real = df_bmw_original.loc[nulos_originales, 'alerta_lim_velocidad'] # copia del df original sin modificaciones\n",
    "\n",
    "# 3. Calcular aciertos\n",
    "aciertos = (edad_imputada == edad_real).sum()\n",
    "total = nulos_originales.sum()\n",
    "porcentaje_acierto = (aciertos / total) * 100 if total > 0 else None\n",
    "\n",
    "# 4. Mostrar resultados\n",
    "print(f\"Aciertos: {aciertos} de {total} imputaciones\")\n",
    "print(f\"Porcentaje de acierto: {porcentaje_acierto:.2f}%\")"
   ]
  }
 ],
 "metadata": {
  "kernelspec": {
   "display_name": "Python 3",
   "language": "python",
   "name": "python3"
  },
  "language_info": {
   "codemirror_mode": {
    "name": "ipython",
    "version": 3
   },
   "file_extension": ".py",
   "mimetype": "text/x-python",
   "name": "python",
   "nbconvert_exporter": "python",
   "pygments_lexer": "ipython3",
   "version": "3.9.6"
  }
 },
 "nbformat": 4,
 "nbformat_minor": 5
}
