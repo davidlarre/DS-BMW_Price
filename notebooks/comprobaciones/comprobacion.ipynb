{
 "cells": [
  {
   "cell_type": "markdown",
   "id": "4b21666f",
   "metadata": {},
   "source": [
    "### CÓDIGO COMÚN"
   ]
  },
  {
   "cell_type": "code",
   "execution_count": 1,
   "id": "006afc76",
   "metadata": {},
   "outputs": [
    {
     "name": "stdout",
     "output_type": "stream",
     "text": [
      "Librerías importadas correctamente\n"
     ]
    }
   ],
   "source": [
    "import warnings\n",
    "warnings.filterwarnings('ignore')\n",
    "\n",
    "import pandas as pd\n",
    "import numpy as np\n",
    "import matplotlib.pyplot as plt\n",
    "import seaborn as sns\n",
    "from sklearn.preprocessing import LabelEncoder, OrdinalEncoder, MinMaxScaler\n",
    "import statistics as stat\n",
    "\n",
    "print('Librerías importadas correctamente')"
   ]
  },
  {
   "cell_type": "code",
   "execution_count": 2,
   "id": "3fa09124",
   "metadata": {},
   "outputs": [],
   "source": [
    "bmw = pd.read_csv('/Users/davidlarre/Desktop/PROYECTOS/M10 - ENTREGABLES/ENTREGABLE 1/data/bmw_pricing.csv')\n",
    "df_bmw = bmw.copy()"
   ]
  },
  {
   "cell_type": "code",
   "execution_count": 3,
   "id": "ec7351f3",
   "metadata": {},
   "outputs": [
    {
     "name": "stdout",
     "output_type": "stream",
     "text": [
      "fecha_registro    datetime64[ns]\n",
      "fecha_venta       datetime64[ns]\n",
      "dtype: object\n"
     ]
    }
   ],
   "source": [
    "# Se modifica el dtype de las columnas 'fecha_registro' y 'fecha_venta' a datetime\n",
    "for i in ['fecha_registro','fecha_venta']:\n",
    "    df_bmw[i]=pd.to_datetime(df_bmw[i])\n",
    "# Comprobamos el cambio de dtype\n",
    "print(df_bmw[['fecha_registro','fecha_venta']].dtypes)"
   ]
  },
  {
   "cell_type": "code",
   "execution_count": 4,
   "id": "f19149ff",
   "metadata": {},
   "outputs": [
    {
     "data": {
      "text/html": [
       "<div>\n",
       "<style scoped>\n",
       "    .dataframe tbody tr th:only-of-type {\n",
       "        vertical-align: middle;\n",
       "    }\n",
       "\n",
       "    .dataframe tbody tr th {\n",
       "        vertical-align: top;\n",
       "    }\n",
       "\n",
       "    .dataframe thead th {\n",
       "        text-align: right;\n",
       "    }\n",
       "</style>\n",
       "<table border=\"1\" class=\"dataframe\">\n",
       "  <thead>\n",
       "    <tr style=\"text-align: right;\">\n",
       "      <th></th>\n",
       "      <th>year_registro</th>\n",
       "      <th>year_venta</th>\n",
       "    </tr>\n",
       "  </thead>\n",
       "  <tbody>\n",
       "    <tr>\n",
       "      <th>0</th>\n",
       "      <td>2012.0</td>\n",
       "      <td>2018.0</td>\n",
       "    </tr>\n",
       "    <tr>\n",
       "      <th>1</th>\n",
       "      <td>NaN</td>\n",
       "      <td>2018.0</td>\n",
       "    </tr>\n",
       "    <tr>\n",
       "      <th>2</th>\n",
       "      <td>2012.0</td>\n",
       "      <td>2018.0</td>\n",
       "    </tr>\n",
       "    <tr>\n",
       "      <th>3</th>\n",
       "      <td>NaN</td>\n",
       "      <td>2018.0</td>\n",
       "    </tr>\n",
       "    <tr>\n",
       "      <th>4</th>\n",
       "      <td>NaN</td>\n",
       "      <td>2018.0</td>\n",
       "    </tr>\n",
       "    <tr>\n",
       "      <th>5</th>\n",
       "      <td>2011.0</td>\n",
       "      <td>2018.0</td>\n",
       "    </tr>\n",
       "    <tr>\n",
       "      <th>6</th>\n",
       "      <td>NaN</td>\n",
       "      <td>2018.0</td>\n",
       "    </tr>\n",
       "    <tr>\n",
       "      <th>7</th>\n",
       "      <td>2009.0</td>\n",
       "      <td>2018.0</td>\n",
       "    </tr>\n",
       "    <tr>\n",
       "      <th>8</th>\n",
       "      <td>NaN</td>\n",
       "      <td>2018.0</td>\n",
       "    </tr>\n",
       "    <tr>\n",
       "      <th>9</th>\n",
       "      <td>NaN</td>\n",
       "      <td>2018.0</td>\n",
       "    </tr>\n",
       "  </tbody>\n",
       "</table>\n",
       "</div>"
      ],
      "text/plain": [
       "   year_registro  year_venta\n",
       "0        2012.0     2018.0\n",
       "1           NaN     2018.0\n",
       "2        2012.0     2018.0\n",
       "3           NaN     2018.0\n",
       "4           NaN     2018.0\n",
       "5        2011.0     2018.0\n",
       "6           NaN     2018.0\n",
       "7        2009.0     2018.0\n",
       "8           NaN     2018.0\n",
       "9           NaN     2018.0"
      ]
     },
     "execution_count": 4,
     "metadata": {},
     "output_type": "execute_result"
    }
   ],
   "source": [
    "# Consideramos que las fechas completas no aportan información relevante, por lo que vamos a crear nuevas columnas solo con el año\n",
    "df_bmw['year_registro'] = df_bmw['fecha_registro'].dt.year\n",
    "df_bmw['year_venta'] = df_bmw['fecha_venta'].dt.year\n",
    "# Comprobamos que se han creado correctamente\n",
    "df_bmw[['year_registro','year_venta']].head(10)"
   ]
  },
  {
   "cell_type": "code",
   "execution_count": 5,
   "id": "b3e4e80a",
   "metadata": {},
   "outputs": [
    {
     "data": {
      "text/html": [
       "<div>\n",
       "<style scoped>\n",
       "    .dataframe tbody tr th:only-of-type {\n",
       "        vertical-align: middle;\n",
       "    }\n",
       "\n",
       "    .dataframe tbody tr th {\n",
       "        vertical-align: top;\n",
       "    }\n",
       "\n",
       "    .dataframe thead th {\n",
       "        text-align: right;\n",
       "    }\n",
       "</style>\n",
       "<table border=\"1\" class=\"dataframe\">\n",
       "  <thead>\n",
       "    <tr style=\"text-align: right;\">\n",
       "      <th></th>\n",
       "      <th>NULOS</th>\n",
       "      <th>% NULOS</th>\n",
       "      <th>VALORES UNICOS</th>\n",
       "    </tr>\n",
       "  </thead>\n",
       "  <tbody>\n",
       "    <tr>\n",
       "      <th>asientos_traseros_plegables</th>\n",
       "      <td>3391</td>\n",
       "      <td>70.018584</td>\n",
       "      <td>2</td>\n",
       "    </tr>\n",
       "    <tr>\n",
       "      <th>year_registro</th>\n",
       "      <td>2423</td>\n",
       "      <td>50.030973</td>\n",
       "      <td>23</td>\n",
       "    </tr>\n",
       "    <tr>\n",
       "      <th>fecha_registro</th>\n",
       "      <td>2423</td>\n",
       "      <td>50.030973</td>\n",
       "      <td>180</td>\n",
       "    </tr>\n",
       "    <tr>\n",
       "      <th>tipo_coche</th>\n",
       "      <td>1460</td>\n",
       "      <td>30.146603</td>\n",
       "      <td>8</td>\n",
       "    </tr>\n",
       "    <tr>\n",
       "      <th>marca</th>\n",
       "      <td>970</td>\n",
       "      <td>20.028908</td>\n",
       "      <td>1</td>\n",
       "    </tr>\n",
       "    <tr>\n",
       "      <th>bluetooth</th>\n",
       "      <td>728</td>\n",
       "      <td>15.032005</td>\n",
       "      <td>2</td>\n",
       "    </tr>\n",
       "    <tr>\n",
       "      <th>alerta_lim_velocidad</th>\n",
       "      <td>728</td>\n",
       "      <td>15.032005</td>\n",
       "      <td>2</td>\n",
       "    </tr>\n",
       "    <tr>\n",
       "      <th>aire_acondicionado</th>\n",
       "      <td>486</td>\n",
       "      <td>10.035102</td>\n",
       "      <td>2</td>\n",
       "    </tr>\n",
       "    <tr>\n",
       "      <th>color</th>\n",
       "      <td>445</td>\n",
       "      <td>9.188520</td>\n",
       "      <td>10</td>\n",
       "    </tr>\n",
       "    <tr>\n",
       "      <th>precio</th>\n",
       "      <td>6</td>\n",
       "      <td>0.123890</td>\n",
       "      <td>437</td>\n",
       "    </tr>\n",
       "    <tr>\n",
       "      <th>tipo_gasolina</th>\n",
       "      <td>5</td>\n",
       "      <td>0.103242</td>\n",
       "      <td>5</td>\n",
       "    </tr>\n",
       "    <tr>\n",
       "      <th>volante_regulable</th>\n",
       "      <td>4</td>\n",
       "      <td>0.082593</td>\n",
       "      <td>2</td>\n",
       "    </tr>\n",
       "    <tr>\n",
       "      <th>modelo</th>\n",
       "      <td>3</td>\n",
       "      <td>0.061945</td>\n",
       "      <td>76</td>\n",
       "    </tr>\n",
       "    <tr>\n",
       "      <th>camara_trasera</th>\n",
       "      <td>2</td>\n",
       "      <td>0.041297</td>\n",
       "      <td>2</td>\n",
       "    </tr>\n",
       "    <tr>\n",
       "      <th>elevalunas_electrico</th>\n",
       "      <td>2</td>\n",
       "      <td>0.041297</td>\n",
       "      <td>2</td>\n",
       "    </tr>\n",
       "    <tr>\n",
       "      <th>km</th>\n",
       "      <td>2</td>\n",
       "      <td>0.041297</td>\n",
       "      <td>4784</td>\n",
       "    </tr>\n",
       "    <tr>\n",
       "      <th>potencia</th>\n",
       "      <td>1</td>\n",
       "      <td>0.020648</td>\n",
       "      <td>61</td>\n",
       "    </tr>\n",
       "    <tr>\n",
       "      <th>fecha_venta</th>\n",
       "      <td>1</td>\n",
       "      <td>0.020648</td>\n",
       "      <td>13</td>\n",
       "    </tr>\n",
       "    <tr>\n",
       "      <th>year_venta</th>\n",
       "      <td>1</td>\n",
       "      <td>0.020648</td>\n",
       "      <td>5</td>\n",
       "    </tr>\n",
       "    <tr>\n",
       "      <th>gps</th>\n",
       "      <td>0</td>\n",
       "      <td>0.000000</td>\n",
       "      <td>2</td>\n",
       "    </tr>\n",
       "  </tbody>\n",
       "</table>\n",
       "</div>"
      ],
      "text/plain": [
       "                             NULOS    % NULOS  VALORES UNICOS\n",
       "asientos_traseros_plegables   3391  70.018584               2\n",
       "year_registro                  2423  50.030973              23\n",
       "fecha_registro                2423  50.030973             180\n",
       "tipo_coche                    1460  30.146603               8\n",
       "marca                          970  20.028908               1\n",
       "bluetooth                      728  15.032005               2\n",
       "alerta_lim_velocidad           728  15.032005               2\n",
       "aire_acondicionado             486  10.035102               2\n",
       "color                          445   9.188520              10\n",
       "precio                           6   0.123890             437\n",
       "tipo_gasolina                    5   0.103242               5\n",
       "volante_regulable                4   0.082593               2\n",
       "modelo                           3   0.061945              76\n",
       "camara_trasera                   2   0.041297               2\n",
       "elevalunas_electrico             2   0.041297               2\n",
       "km                               2   0.041297            4784\n",
       "potencia                         1   0.020648              61\n",
       "fecha_venta                      1   0.020648              13\n",
       "year_venta                        1   0.020648               5\n",
       "gps                              0   0.000000               2"
      ]
     },
     "execution_count": 5,
     "metadata": {},
     "output_type": "execute_result"
    }
   ],
   "source": [
    "# Creamos una función para crear un DataFrame con la cantidad de nulos, el porcentaje de nulos y los valores únicos de cada columna. Ordenaremos el df por el porcentaje de nulos\n",
    "def tabla_nulos(dataset):\n",
    "    nulos = dataset.isnull().sum()\n",
    "    porcentaje = dataset.isnull().mean() * 100\n",
    "    unicos = dataset.nunique()\n",
    "    \n",
    "    df_nulos = pd.DataFrame({\n",
    "        'NULOS': nulos,\n",
    "        '% NULOS': porcentaje,\n",
    "        'VALORES UNICOS': unicos\n",
    "        }).sort_values(by='% NULOS', ascending=False)\n",
    "    return df_nulos\n",
    "    \n",
    "tabla_nulos(df_bmw)"
   ]
  },
  {
   "cell_type": "code",
   "execution_count": 6,
   "id": "191f7ad3",
   "metadata": {},
   "outputs": [],
   "source": [
    "# Creamos un diccionario para almacenar el porcentaje que tiene cada valor respecto al total de cada columna\n",
    "distribuciones = {}\n",
    "for i in df_bmw:\n",
    "    distribuciones[i] = df_bmw[i].value_counts(normalize=True)"
   ]
  },
  {
   "cell_type": "markdown",
   "id": "1a3dd0d2",
   "metadata": {},
   "source": [
    "## COMPROBACION DE LA IMPUTACIÓN DE TIPO COCHE"
   ]
  },
  {
   "cell_type": "markdown",
   "id": "6ef9ca95",
   "metadata": {},
   "source": [
    "### VERSIÓN 1 - 72%"
   ]
  },
  {
   "cell_type": "code",
   "execution_count": 7,
   "id": "2d0d03a5",
   "metadata": {},
   "outputs": [
    {
     "data": {
      "text/html": [
       "<div>\n",
       "<style scoped>\n",
       "    .dataframe tbody tr th:only-of-type {\n",
       "        vertical-align: middle;\n",
       "    }\n",
       "\n",
       "    .dataframe tbody tr th {\n",
       "        vertical-align: top;\n",
       "    }\n",
       "\n",
       "    .dataframe thead th {\n",
       "        text-align: right;\n",
       "    }\n",
       "</style>\n",
       "<table border=\"1\" class=\"dataframe\">\n",
       "  <thead>\n",
       "    <tr style=\"text-align: right;\">\n",
       "      <th></th>\n",
       "      <th>NULOS</th>\n",
       "      <th>% NULOS</th>\n",
       "      <th>VALORES UNICOS</th>\n",
       "    </tr>\n",
       "  </thead>\n",
       "  <tbody>\n",
       "    <tr>\n",
       "      <th>tipo_coche</th>\n",
       "      <td>1460</td>\n",
       "      <td>30.146603</td>\n",
       "      <td>8</td>\n",
       "    </tr>\n",
       "  </tbody>\n",
       "</table>\n",
       "</div>"
      ],
      "text/plain": [
       "            NULOS    % NULOS  VALORES UNICOS\n",
       "tipo_coche   1460  30.146603               8"
      ]
     },
     "execution_count": 7,
     "metadata": {},
     "output_type": "execute_result"
    }
   ],
   "source": [
    "tabla_nulos(bmw).loc[['tipo_coche']]"
   ]
  },
  {
   "cell_type": "code",
   "execution_count": 8,
   "id": "e62b6209",
   "metadata": {},
   "outputs": [
    {
     "data": {
      "text/plain": [
       "array([nan, 'convertible', 'coupe', 'estate', 'hatchback', 'sedan',\n",
       "       'subcompact', 'suv', 'van'], dtype=object)"
      ]
     },
     "execution_count": 8,
     "metadata": {},
     "output_type": "execute_result"
    }
   ],
   "source": [
    "df_bmw['tipo_coche'].unique()"
   ]
  },
  {
   "cell_type": "code",
   "execution_count": 9,
   "id": "6e6329eb",
   "metadata": {},
   "outputs": [],
   "source": [
    "def obtener_moda(x):\n",
    "    moda = x.mode()\n",
    "    if not moda.empty:\n",
    "        return moda.iloc[0]\n",
    "    else:\n",
    "        return np.nan"
   ]
  },
  {
   "cell_type": "code",
   "execution_count": 10,
   "id": "3cede618",
   "metadata": {},
   "outputs": [
    {
     "data": {
      "text/html": [
       "<div>\n",
       "<style scoped>\n",
       "    .dataframe tbody tr th:only-of-type {\n",
       "        vertical-align: middle;\n",
       "    }\n",
       "\n",
       "    .dataframe tbody tr th {\n",
       "        vertical-align: top;\n",
       "    }\n",
       "\n",
       "    .dataframe thead th {\n",
       "        text-align: right;\n",
       "    }\n",
       "</style>\n",
       "<table border=\"1\" class=\"dataframe\">\n",
       "  <thead>\n",
       "    <tr style=\"text-align: right;\">\n",
       "      <th></th>\n",
       "      <th>marca</th>\n",
       "      <th>modelo</th>\n",
       "      <th>km</th>\n",
       "      <th>potencia</th>\n",
       "      <th>fecha_registro</th>\n",
       "      <th>tipo_gasolina</th>\n",
       "      <th>color</th>\n",
       "      <th>tipo_coche</th>\n",
       "      <th>volante_regulable</th>\n",
       "      <th>aire_acondicionado</th>\n",
       "      <th>camara_trasera</th>\n",
       "      <th>asientos_traseros_plegables</th>\n",
       "      <th>elevalunas_electrico</th>\n",
       "      <th>bluetooth</th>\n",
       "      <th>gps</th>\n",
       "      <th>alerta_lim_velocidad</th>\n",
       "      <th>precio</th>\n",
       "      <th>fecha_venta</th>\n",
       "      <th>year_registro</th>\n",
       "      <th>year_venta</th>\n",
       "    </tr>\n",
       "  </thead>\n",
       "  <tbody>\n",
       "    <tr>\n",
       "      <th>0</th>\n",
       "      <td>NaN</td>\n",
       "      <td>118</td>\n",
       "      <td>140411.0</td>\n",
       "      <td>100.0</td>\n",
       "      <td>2012-02-01</td>\n",
       "      <td>diesel</td>\n",
       "      <td>black</td>\n",
       "      <td>NaN</td>\n",
       "      <td>True</td>\n",
       "      <td>True</td>\n",
       "      <td>False</td>\n",
       "      <td>NaN</td>\n",
       "      <td>True</td>\n",
       "      <td>NaN</td>\n",
       "      <td>True</td>\n",
       "      <td>NaN</td>\n",
       "      <td>11300.0</td>\n",
       "      <td>2018-01-01</td>\n",
       "      <td>2012.0</td>\n",
       "      <td>2018.0</td>\n",
       "    </tr>\n",
       "    <tr>\n",
       "      <th>1</th>\n",
       "      <td>BMW</td>\n",
       "      <td>M4</td>\n",
       "      <td>13929.0</td>\n",
       "      <td>317.0</td>\n",
       "      <td>NaT</td>\n",
       "      <td>petrol</td>\n",
       "      <td>grey</td>\n",
       "      <td>convertible</td>\n",
       "      <td>True</td>\n",
       "      <td>True</td>\n",
       "      <td>False</td>\n",
       "      <td>NaN</td>\n",
       "      <td>False</td>\n",
       "      <td>True</td>\n",
       "      <td>True</td>\n",
       "      <td>True</td>\n",
       "      <td>69700.0</td>\n",
       "      <td>2018-02-01</td>\n",
       "      <td>NaN</td>\n",
       "      <td>2018.0</td>\n",
       "    </tr>\n",
       "    <tr>\n",
       "      <th>2</th>\n",
       "      <td>BMW</td>\n",
       "      <td>320</td>\n",
       "      <td>183297.0</td>\n",
       "      <td>120.0</td>\n",
       "      <td>2012-04-01</td>\n",
       "      <td>diesel</td>\n",
       "      <td>white</td>\n",
       "      <td>NaN</td>\n",
       "      <td>False</td>\n",
       "      <td>False</td>\n",
       "      <td>False</td>\n",
       "      <td>NaN</td>\n",
       "      <td>True</td>\n",
       "      <td>False</td>\n",
       "      <td>True</td>\n",
       "      <td>False</td>\n",
       "      <td>10200.0</td>\n",
       "      <td>2018-02-01</td>\n",
       "      <td>2012.0</td>\n",
       "      <td>2018.0</td>\n",
       "    </tr>\n",
       "    <tr>\n",
       "      <th>3</th>\n",
       "      <td>BMW</td>\n",
       "      <td>420</td>\n",
       "      <td>128035.0</td>\n",
       "      <td>135.0</td>\n",
       "      <td>NaT</td>\n",
       "      <td>diesel</td>\n",
       "      <td>red</td>\n",
       "      <td>convertible</td>\n",
       "      <td>True</td>\n",
       "      <td>True</td>\n",
       "      <td>False</td>\n",
       "      <td>NaN</td>\n",
       "      <td>True</td>\n",
       "      <td>True</td>\n",
       "      <td>True</td>\n",
       "      <td>NaN</td>\n",
       "      <td>25100.0</td>\n",
       "      <td>2018-02-01</td>\n",
       "      <td>NaN</td>\n",
       "      <td>2018.0</td>\n",
       "    </tr>\n",
       "    <tr>\n",
       "      <th>4</th>\n",
       "      <td>BMW</td>\n",
       "      <td>425</td>\n",
       "      <td>97097.0</td>\n",
       "      <td>160.0</td>\n",
       "      <td>NaT</td>\n",
       "      <td>diesel</td>\n",
       "      <td>silver</td>\n",
       "      <td>NaN</td>\n",
       "      <td>True</td>\n",
       "      <td>True</td>\n",
       "      <td>False</td>\n",
       "      <td>False</td>\n",
       "      <td>False</td>\n",
       "      <td>True</td>\n",
       "      <td>True</td>\n",
       "      <td>True</td>\n",
       "      <td>33400.0</td>\n",
       "      <td>2018-04-01</td>\n",
       "      <td>NaN</td>\n",
       "      <td>2018.0</td>\n",
       "    </tr>\n",
       "    <tr>\n",
       "      <th>...</th>\n",
       "      <td>...</td>\n",
       "      <td>...</td>\n",
       "      <td>...</td>\n",
       "      <td>...</td>\n",
       "      <td>...</td>\n",
       "      <td>...</td>\n",
       "      <td>...</td>\n",
       "      <td>...</td>\n",
       "      <td>...</td>\n",
       "      <td>...</td>\n",
       "      <td>...</td>\n",
       "      <td>...</td>\n",
       "      <td>...</td>\n",
       "      <td>...</td>\n",
       "      <td>...</td>\n",
       "      <td>...</td>\n",
       "      <td>...</td>\n",
       "      <td>...</td>\n",
       "      <td>...</td>\n",
       "      <td>...</td>\n",
       "    </tr>\n",
       "    <tr>\n",
       "      <th>4838</th>\n",
       "      <td>BMW</td>\n",
       "      <td>218 Gran Tourer</td>\n",
       "      <td>39743.0</td>\n",
       "      <td>110.0</td>\n",
       "      <td>NaT</td>\n",
       "      <td>diesel</td>\n",
       "      <td>black</td>\n",
       "      <td>NaN</td>\n",
       "      <td>False</td>\n",
       "      <td>True</td>\n",
       "      <td>False</td>\n",
       "      <td>NaN</td>\n",
       "      <td>False</td>\n",
       "      <td>False</td>\n",
       "      <td>True</td>\n",
       "      <td>False</td>\n",
       "      <td>14600.0</td>\n",
       "      <td>2018-08-01</td>\n",
       "      <td>NaN</td>\n",
       "      <td>2018.0</td>\n",
       "    </tr>\n",
       "    <tr>\n",
       "      <th>4839</th>\n",
       "      <td>BMW</td>\n",
       "      <td>218 Active Tourer</td>\n",
       "      <td>49832.0</td>\n",
       "      <td>100.0</td>\n",
       "      <td>2015-06-01</td>\n",
       "      <td>diesel</td>\n",
       "      <td>grey</td>\n",
       "      <td>NaN</td>\n",
       "      <td>False</td>\n",
       "      <td>True</td>\n",
       "      <td>False</td>\n",
       "      <td>NaN</td>\n",
       "      <td>False</td>\n",
       "      <td>False</td>\n",
       "      <td>True</td>\n",
       "      <td>True</td>\n",
       "      <td>17500.0</td>\n",
       "      <td>2018-08-01</td>\n",
       "      <td>2015.0</td>\n",
       "      <td>2018.0</td>\n",
       "    </tr>\n",
       "    <tr>\n",
       "      <th>4840</th>\n",
       "      <td>BMW</td>\n",
       "      <td>218 Gran Tourer</td>\n",
       "      <td>19633.0</td>\n",
       "      <td>110.0</td>\n",
       "      <td>2015-10-01</td>\n",
       "      <td>diesel</td>\n",
       "      <td>grey</td>\n",
       "      <td>van</td>\n",
       "      <td>False</td>\n",
       "      <td>True</td>\n",
       "      <td>False</td>\n",
       "      <td>NaN</td>\n",
       "      <td>False</td>\n",
       "      <td>False</td>\n",
       "      <td>True</td>\n",
       "      <td>True</td>\n",
       "      <td>17000.0</td>\n",
       "      <td>2018-09-01</td>\n",
       "      <td>2015.0</td>\n",
       "      <td>2018.0</td>\n",
       "    </tr>\n",
       "    <tr>\n",
       "      <th>4841</th>\n",
       "      <td>BMW</td>\n",
       "      <td>218 Active Tourer</td>\n",
       "      <td>27920.0</td>\n",
       "      <td>110.0</td>\n",
       "      <td>2016-04-01</td>\n",
       "      <td>diesel</td>\n",
       "      <td>brown</td>\n",
       "      <td>van</td>\n",
       "      <td>True</td>\n",
       "      <td>True</td>\n",
       "      <td>False</td>\n",
       "      <td>False</td>\n",
       "      <td>False</td>\n",
       "      <td>False</td>\n",
       "      <td>True</td>\n",
       "      <td>True</td>\n",
       "      <td>22700.0</td>\n",
       "      <td>2018-09-01</td>\n",
       "      <td>2016.0</td>\n",
       "      <td>2018.0</td>\n",
       "    </tr>\n",
       "    <tr>\n",
       "      <th>4842</th>\n",
       "      <td>BMW</td>\n",
       "      <td>525</td>\n",
       "      <td>195840.0</td>\n",
       "      <td>160.0</td>\n",
       "      <td>NaT</td>\n",
       "      <td>diesel</td>\n",
       "      <td>grey</td>\n",
       "      <td>NaN</td>\n",
       "      <td>True</td>\n",
       "      <td>NaN</td>\n",
       "      <td>False</td>\n",
       "      <td>NaN</td>\n",
       "      <td>True</td>\n",
       "      <td>False</td>\n",
       "      <td>True</td>\n",
       "      <td>True</td>\n",
       "      <td>15500.0</td>\n",
       "      <td>2018-09-01</td>\n",
       "      <td>NaN</td>\n",
       "      <td>2018.0</td>\n",
       "    </tr>\n",
       "  </tbody>\n",
       "</table>\n",
       "<p>4843 rows × 20 columns</p>\n",
       "</div>"
      ],
      "text/plain": [
       "     marca             modelo        km  potencia fecha_registro  \\\n",
       "0      NaN                118  140411.0     100.0     2012-02-01   \n",
       "1      BMW                 M4   13929.0     317.0            NaT   \n",
       "2      BMW                320  183297.0     120.0     2012-04-01   \n",
       "3      BMW                420  128035.0     135.0            NaT   \n",
       "4      BMW                425   97097.0     160.0            NaT   \n",
       "...    ...                ...       ...       ...            ...   \n",
       "4838   BMW    218 Gran Tourer   39743.0     110.0            NaT   \n",
       "4839   BMW  218 Active Tourer   49832.0     100.0     2015-06-01   \n",
       "4840   BMW    218 Gran Tourer   19633.0     110.0     2015-10-01   \n",
       "4841   BMW  218 Active Tourer   27920.0     110.0     2016-04-01   \n",
       "4842   BMW                525  195840.0     160.0            NaT   \n",
       "\n",
       "     tipo_gasolina   color   tipo_coche volante_regulable aire_acondicionado  \\\n",
       "0           diesel   black          NaN              True               True   \n",
       "1           petrol    grey  convertible              True               True   \n",
       "2           diesel   white          NaN             False              False   \n",
       "3           diesel     red  convertible              True               True   \n",
       "4           diesel  silver          NaN              True               True   \n",
       "...            ...     ...          ...               ...                ...   \n",
       "4838        diesel   black          NaN             False               True   \n",
       "4839        diesel    grey          NaN             False               True   \n",
       "4840        diesel    grey          van             False               True   \n",
       "4841        diesel   brown          van              True               True   \n",
       "4842        diesel    grey          NaN              True                NaN   \n",
       "\n",
       "     camara_trasera asientos_traseros_plegables elevalunas_electrico  \\\n",
       "0             False                         NaN                 True   \n",
       "1             False                         NaN                False   \n",
       "2             False                         NaN                 True   \n",
       "3             False                         NaN                 True   \n",
       "4             False                       False                False   \n",
       "...             ...                         ...                  ...   \n",
       "4838          False                         NaN                False   \n",
       "4839          False                         NaN                False   \n",
       "4840          False                         NaN                False   \n",
       "4841          False                       False                False   \n",
       "4842          False                         NaN                 True   \n",
       "\n",
       "     bluetooth   gps alerta_lim_velocidad   precio fecha_venta  year_registro  \\\n",
       "0          NaN  True                  NaN  11300.0  2018-01-01        2012.0   \n",
       "1         True  True                 True  69700.0  2018-02-01           NaN   \n",
       "2        False  True                False  10200.0  2018-02-01        2012.0   \n",
       "3         True  True                  NaN  25100.0  2018-02-01           NaN   \n",
       "4         True  True                 True  33400.0  2018-04-01           NaN   \n",
       "...        ...   ...                  ...      ...         ...           ...   \n",
       "4838     False  True                False  14600.0  2018-08-01           NaN   \n",
       "4839     False  True                 True  17500.0  2018-08-01        2015.0   \n",
       "4840     False  True                 True  17000.0  2018-09-01        2015.0   \n",
       "4841     False  True                 True  22700.0  2018-09-01        2016.0   \n",
       "4842     False  True                 True  15500.0  2018-09-01           NaN   \n",
       "\n",
       "      year_venta  \n",
       "0        2018.0  \n",
       "1        2018.0  \n",
       "2        2018.0  \n",
       "3        2018.0  \n",
       "4        2018.0  \n",
       "...         ...  \n",
       "4838     2018.0  \n",
       "4839     2018.0  \n",
       "4840     2018.0  \n",
       "4841     2018.0  \n",
       "4842     2018.0  \n",
       "\n",
       "[4843 rows x 20 columns]"
      ]
     },
     "execution_count": 10,
     "metadata": {},
     "output_type": "execute_result"
    }
   ],
   "source": [
    "df_bmw"
   ]
  },
  {
   "cell_type": "code",
   "execution_count": 11,
   "id": "bc7f99eb",
   "metadata": {},
   "outputs": [],
   "source": [
    "df_bmw['edad_coche'] = df_bmw['year_venta'] - df_bmw['year_registro']"
   ]
  },
  {
   "cell_type": "code",
   "execution_count": 12,
   "id": "3a5c662e",
   "metadata": {},
   "outputs": [
    {
     "data": {
      "text/plain": [
       "'COLUMNS_1 = [\\'modelo\\', \\'potencia\\', \\'year_registro\\']\\ndf_nulls_1 = df_bmw.groupby(COLUMNS_1)[\\'tipo_coche\\'].agg(lambda x: pd.Series.mode(x).iloc[0] if not pd.Series.mode(x).empty else np.nan).reset_index()\\ndf_nulls_1 = df_nulls_1.dropna(subset=[\\'tipo_coche\\'])\\ndf_nulls_1.rename(columns={\"tipo_coche\":\"tipo_coche_1\"},inplace=True)\\n\\nCOLUMNS_2 = [\\'modelo\\', \\'potencia\\']\\ndf_nulls_2 = df_bmw.groupby(COLUMNS_2)[\\'tipo_coche\\'].agg(lambda x: pd.Series.mode(x).iloc[0] if not pd.Series.mode(x).empty else np.nan).reset_index()\\ndf_nulls_2 = df_nulls_2.dropna(subset=[\\'tipo_coche\\'])\\ndf_nulls_2.rename(columns={\"tipo_coche\":\"tipo_coche_2\"},inplace=True)\\n\\nCOLUMNS_3 = [\\'modelo\\']\\ndf_nulls_3 = df_bmw.groupby(COLUMNS_3)[\\'tipo_coche\\'].agg(lambda x: pd.Series.mode(x).iloc[0] if not pd.Series.mode(x).empty else np.nan).reset_index()\\ndf_nulls_3 = df_nulls_3.dropna(subset=[\\'tipo_coche\\'])\\ndf_nulls_3.rename(columns={\"tipo_coche\":\"tipo_coche_3\"},inplace=True)'"
      ]
     },
     "execution_count": 12,
     "metadata": {},
     "output_type": "execute_result"
    }
   ],
   "source": [
    "'''COLUMNS_1 = ['modelo', 'potencia', 'year_registro']\n",
    "df_nulls_1 = df_bmw.groupby(COLUMNS_1)['tipo_coche'].agg(lambda x: pd.Series.mode(x).iloc[0] if not pd.Series.mode(x).empty else np.nan).reset_index()\n",
    "df_nulls_1 = df_nulls_1.dropna(subset=['tipo_coche'])\n",
    "df_nulls_1.rename(columns={\"tipo_coche\":\"tipo_coche_1\"},inplace=True)\n",
    "\n",
    "COLUMNS_2 = ['modelo', 'potencia']\n",
    "df_nulls_2 = df_bmw.groupby(COLUMNS_2)['tipo_coche'].agg(lambda x: pd.Series.mode(x).iloc[0] if not pd.Series.mode(x).empty else np.nan).reset_index()\n",
    "df_nulls_2 = df_nulls_2.dropna(subset=['tipo_coche'])\n",
    "df_nulls_2.rename(columns={\"tipo_coche\":\"tipo_coche_2\"},inplace=True)\n",
    "\n",
    "COLUMNS_3 = ['modelo']\n",
    "df_nulls_3 = df_bmw.groupby(COLUMNS_3)['tipo_coche'].agg(lambda x: pd.Series.mode(x).iloc[0] if not pd.Series.mode(x).empty else np.nan).reset_index()\n",
    "df_nulls_3 = df_nulls_3.dropna(subset=['tipo_coche'])\n",
    "df_nulls_3.rename(columns={\"tipo_coche\":\"tipo_coche_3\"},inplace=True)'''"
   ]
  },
  {
   "cell_type": "code",
   "execution_count": 13,
   "id": "f05e98db",
   "metadata": {},
   "outputs": [
    {
     "data": {
      "text/plain": [
       "\"df_bmw = df_bmw.merge(df_nulls_1,how='left',left_on=COLUMNS_1,right_on=COLUMNS_1)\\ndf_bmw = df_bmw.merge(df_nulls_2,how='left',left_on=COLUMNS_2,right_on=COLUMNS_2)\\ndf_bmw = df_bmw.merge(df_nulls_3,how='left',left_on=COLUMNS_3,right_on=COLUMNS_3)\\n\\ndf_bmw['tipo_coche'] = df_bmw[['tipo_coche','tipo_coche_1','tipo_coche_2','tipo_coche_3']].bfill(axis=1).iloc[:, 0]\\n\\ndf_bmw.drop(columns=['tipo_coche_1','tipo_coche_2','tipo_coche_3'],inplace=True)\""
      ]
     },
     "execution_count": 13,
     "metadata": {},
     "output_type": "execute_result"
    }
   ],
   "source": [
    "'''df_bmw = df_bmw.merge(df_nulls_1,how='left',left_on=COLUMNS_1,right_on=COLUMNS_1)\n",
    "df_bmw = df_bmw.merge(df_nulls_2,how='left',left_on=COLUMNS_2,right_on=COLUMNS_2)\n",
    "df_bmw = df_bmw.merge(df_nulls_3,how='left',left_on=COLUMNS_3,right_on=COLUMNS_3)\n",
    "\n",
    "df_bmw['tipo_coche'] = df_bmw[['tipo_coche','tipo_coche_1','tipo_coche_2','tipo_coche_3']].bfill(axis=1).iloc[:, 0]\n",
    "\n",
    "df_bmw.drop(columns=['tipo_coche_1','tipo_coche_2','tipo_coche_3'],inplace=True)'''"
   ]
  },
  {
   "cell_type": "code",
   "execution_count": 14,
   "id": "4f7fb277",
   "metadata": {},
   "outputs": [
    {
     "data": {
      "text/plain": [
       "\"moda_paso_1 = df_bmw.groupby(['modelo', 'potencia', 'year_registro'])['tipo_coche'].agg(obtener_moda).reset_index()\\nmoda_paso_1 = moda_paso_1.rename(columns={'tipo_coche': 'MODA_PASO_1'})\\ndf_bmw = df_bmw.merge(moda_paso_1, on=['modelo', 'potencia', 'year_registro'], how='left')\\ndf_bmw['tipo_coche'] = df_bmw['tipo_coche'].fillna(df_bmw['MODA_PASO_1'])\\ndf_bmw.drop(columns=['MODA_PASO_1'], inplace=True)\\ntabla_nulos(df_bmw).loc[['tipo_coche']]\\nmoda_paso_2 = df_bmw.groupby(['modelo', 'potencia'])['tipo_coche'].agg(obtener_moda).reset_index()\\nmoda_paso_2 = moda_paso_2.rename(columns={'tipo_coche': 'MODA_PASO_2'})\\ndf_bmw = df_bmw.merge(moda_paso_2, on=['modelo', 'potencia'], how='left')\\ndf_bmw['tipo_coche'] = df_bmw['tipo_coche'].fillna(df_bmw['MODA_PASO_2'])\\ndf_bmw.drop(columns=['MODA_PASO_2'], inplace=True)\\ntabla_nulos(df_bmw).loc[['tipo_coche']]\\nmoda_paso_2 = df_bmw.groupby(['modelo'])['tipo_coche'].agg(obtener_moda).reset_index()\\nmoda_paso_2 = moda_paso_2.rename(columns={'tipo_coche': 'MODA_PASO_2'})\\ndf_bmw = df_bmw.merge(moda_paso_2, on=['modelo'], how='left')\\ndf_bmw['tipo_coche'] = df_bmw['tipo_coche'].fillna(df_bmw['MODA_PASO_2'])\\ndf_bmw.drop(columns=['MODA_PASO_2'], inplace=True)\\nmoda_general = df_bmw['tipo_coche'].mode().iloc[0]\\ndf_bmw['tipo_coche'] = df_bmw['tipo_coche'].fillna(moda_general)\\ntabla_nulos(df_bmw).loc[['tipo_coche']]\\n\""
      ]
     },
     "execution_count": 14,
     "metadata": {},
     "output_type": "execute_result"
    }
   ],
   "source": [
    "'''moda_paso_1 = df_bmw.groupby(['modelo', 'potencia', 'year_registro'])['tipo_coche'].agg(obtener_moda).reset_index()\n",
    "moda_paso_1 = moda_paso_1.rename(columns={'tipo_coche': 'MODA_PASO_1'})\n",
    "df_bmw = df_bmw.merge(moda_paso_1, on=['modelo', 'potencia', 'year_registro'], how='left')\n",
    "df_bmw['tipo_coche'] = df_bmw['tipo_coche'].fillna(df_bmw['MODA_PASO_1'])\n",
    "df_bmw.drop(columns=['MODA_PASO_1'], inplace=True)\n",
    "tabla_nulos(df_bmw).loc[['tipo_coche']]\n",
    "moda_paso_2 = df_bmw.groupby(['modelo', 'potencia'])['tipo_coche'].agg(obtener_moda).reset_index()\n",
    "moda_paso_2 = moda_paso_2.rename(columns={'tipo_coche': 'MODA_PASO_2'})\n",
    "df_bmw = df_bmw.merge(moda_paso_2, on=['modelo', 'potencia'], how='left')\n",
    "df_bmw['tipo_coche'] = df_bmw['tipo_coche'].fillna(df_bmw['MODA_PASO_2'])\n",
    "df_bmw.drop(columns=['MODA_PASO_2'], inplace=True)\n",
    "tabla_nulos(df_bmw).loc[['tipo_coche']]\n",
    "moda_paso_2 = df_bmw.groupby(['modelo'])['tipo_coche'].agg(obtener_moda).reset_index()\n",
    "moda_paso_2 = moda_paso_2.rename(columns={'tipo_coche': 'MODA_PASO_2'})\n",
    "df_bmw = df_bmw.merge(moda_paso_2, on=['modelo'], how='left')\n",
    "df_bmw['tipo_coche'] = df_bmw['tipo_coche'].fillna(df_bmw['MODA_PASO_2'])\n",
    "df_bmw.drop(columns=['MODA_PASO_2'], inplace=True)\n",
    "moda_general = df_bmw['tipo_coche'].mode().iloc[0]\n",
    "df_bmw['tipo_coche'] = df_bmw['tipo_coche'].fillna(moda_general)\n",
    "tabla_nulos(df_bmw).loc[['tipo_coche']]\n",
    "'''"
   ]
  },
  {
   "cell_type": "code",
   "execution_count": 15,
   "id": "5a398929",
   "metadata": {},
   "outputs": [
    {
     "name": "stdout",
     "output_type": "stream",
     "text": [
      "Aciertos: 0 de 1460 imputaciones\n",
      "Porcentaje de acierto: 0.00%\n"
     ]
    }
   ],
   "source": [
    "# 1. Cargar el dataset original\n",
    "df_bmw_original = pd.read_csv('/Users/davidlarre/Desktop/PROYECTOS/M10 - ENTREGABLES/ENTREGABLE 1/data/bmw_original.csv')\n",
    "\n",
    "# 2. Asegurarnos de que ambos dataframes tienen el mismo índice (o una columna común para alinear)\n",
    "# Puedes hacer merge si hay un ID único, pero si no, asumimos que el orden es el mismo\n",
    "\n",
    "# 3. Identificar las filas que originalmente tenían nulos en 'tipo_coche'\n",
    "mask_nulos_originales = bmw['tipo_coche'].isnull()\n",
    "\n",
    "# 4. Filtrar solo esas filas para comparar\n",
    "tipo_coche_imputado = df_bmw.loc[mask_nulos_originales, 'tipo_coche']\n",
    "tipo_coche_real = df_bmw_original.loc[mask_nulos_originales, 'tipo_coche']\n",
    "\n",
    "# 5. Calcular aciertos\n",
    "aciertos = (tipo_coche_imputado == tipo_coche_real).sum()\n",
    "total = mask_nulos_originales.sum()\n",
    "porcentaje_acierto = (aciertos / total) * 100 if total > 0 else None\n",
    "\n",
    "# 6. Mostrar resultados\n",
    "print(f\"Aciertos: {aciertos} de {total} imputaciones\")\n",
    "print(f\"Porcentaje de acierto: {porcentaje_acierto:.2f}%\")"
   ]
  },
  {
   "cell_type": "markdown",
   "id": "5fda1877",
   "metadata": {},
   "source": [
    "### VERSIÓN 2 - MODELO"
   ]
  },
  {
   "cell_type": "code",
   "execution_count": 16,
   "id": "d1c9fd06",
   "metadata": {},
   "outputs": [
    {
     "data": {
      "text/plain": [
       "'import pandas as pd\\nimport statistics as stat\\n\\n# Mostrar info inicial\\nbmw.info()\\n\\n# Asumo que tienes definida esta función para ver nulos:\\ndef get_tabla_nulos(df):\\n    return pd.DataFrame({\\'nulos\\': df.isnull().sum(), \\'porcentaje\\': 100*df.isnull().mean()})\\n\\nprint(get_tabla_nulos(bmw))\\n\\n# Distribución original de tipo_coche\\nprint(bmw[\\'tipo_coche\\'].value_counts(normalize=True))\\n\\n# Mostrar distribución agrupada (puedes descomentar si quieres ver todo)\\n# pd.set_option(\\'display.max_rows\\', None)\\n# print(bmw.groupby([\\'modelo\\'])[\\'tipo_coche\\'].value_counts(normalize=True))\\n# print(bmw.groupby([\\'modelo\\',\\'potencia\\'])[\\'tipo_coche\\'].value_counts(normalize=True))\\n# pd.set_option(\\'display.max_rows\\', 20)\\n\\n# Calcular la moda de tipo_coche por modelo y potencia, y solo por modelo\\ntipo_coche_mode_table = bmw[~bmw[\\'tipo_coche\\'].isnull()].groupby([\\'modelo\\',\\'potencia\\'])[\\'tipo_coche\\'].agg(lambda x: stat.mode(x))\\ntipo_coche_mode_por_modelo = bmw[~bmw[\\'tipo_coche\\'].isnull()].groupby([\\'modelo\\'])[\\'tipo_coche\\'].agg(lambda x: stat.mode(x))\\n\\nprint(f\"Modelos únicos: {len(bmw[\\'modelo\\'].unique())}\")\\nprint(f\"Modas por modelo: {len(tipo_coche_mode_por_modelo)}\")\\n\\n# Imputar nulos con moda por (modelo,potencia), si no existe con moda solo por modelo, sino con moda global\\nfor i in bmw[bmw[\\'tipo_coche\\'].isnull()].index:\\n    modelo = bmw.loc[i, \\'modelo\\']\\n    potencia = bmw.loc[i, \\'potencia\\']\\n    if (modelo, potencia) in tipo_coche_mode_table.index:\\n        tipo_coche = tipo_coche_mode_table.loc[(modelo, potencia)]\\n    elif modelo in tipo_coche_mode_por_modelo.index:\\n        tipo_coche = tipo_coche_mode_por_modelo.loc[modelo]\\n    else:\\n        tipo_coche = bmw[\\'tipo_coche\\'].mode().values[0]\\n    bmw.loc[i, \\'tipo_coche\\'] = tipo_coche\\n\\nprint(get_tabla_nulos(bmw))\\n\\nprint(\"Distribución después de imputar:\")\\nprint(bmw[\\'tipo_coche\\'].value_counts(normalize=True))\\n\\n# Ahora, para medir el acierto con el dataset original\\n\\n# 1. Cargar el dataset original\\ndf_bmw_original = pd.read_csv(\\'/Users/davidlarre/Desktop/PROYECTOS/ENTREGABLE 1/bmw_original.csv\\')\\n\\n# 2. Crear máscara con las filas que originalmente tenían nulos\\nmask_nulos_originales = bmw[\\'tipo_coche\\'].isnull()\\n\\n# 3. Filtrar solo esas filas para comparar\\ntipo_coche_imputado = df_bmw.loc[mask_nulos_originales, \\'tipo_coche\\']\\ntipo_coche_real = df_bmw_original.loc[mask_nulos_originales, \\'tipo_coche\\']\\n\\n# 4. Calcular aciertos\\naciertos = (tipo_coche_imputado == tipo_coche_real).sum()\\ntotal = mask_nulos_originales.sum()\\nporcentaje_acierto = (aciertos / total) * 100 if total > 0 else None\\n\\nprint(f\"Aciertos: {aciertos} de {total} imputaciones\")\\nprint(f\"Porcentaje de acierto: {porcentaje_acierto:.2f}%\")'"
      ]
     },
     "execution_count": 16,
     "metadata": {},
     "output_type": "execute_result"
    }
   ],
   "source": [
    "'''import pandas as pd\n",
    "import statistics as stat\n",
    "\n",
    "# Mostrar info inicial\n",
    "bmw.info()\n",
    "\n",
    "# Asumo que tienes definida esta función para ver nulos:\n",
    "def get_tabla_nulos(df):\n",
    "    return pd.DataFrame({'nulos': df.isnull().sum(), 'porcentaje': 100*df.isnull().mean()})\n",
    "\n",
    "print(get_tabla_nulos(bmw))\n",
    "\n",
    "# Distribución original de tipo_coche\n",
    "print(bmw['tipo_coche'].value_counts(normalize=True))\n",
    "\n",
    "# Mostrar distribución agrupada (puedes descomentar si quieres ver todo)\n",
    "# pd.set_option('display.max_rows', None)\n",
    "# print(bmw.groupby(['modelo'])['tipo_coche'].value_counts(normalize=True))\n",
    "# print(bmw.groupby(['modelo','potencia'])['tipo_coche'].value_counts(normalize=True))\n",
    "# pd.set_option('display.max_rows', 20)\n",
    "\n",
    "# Calcular la moda de tipo_coche por modelo y potencia, y solo por modelo\n",
    "tipo_coche_mode_table = bmw[~bmw['tipo_coche'].isnull()].groupby(['modelo','potencia'])['tipo_coche'].agg(lambda x: stat.mode(x))\n",
    "tipo_coche_mode_por_modelo = bmw[~bmw['tipo_coche'].isnull()].groupby(['modelo'])['tipo_coche'].agg(lambda x: stat.mode(x))\n",
    "\n",
    "print(f\"Modelos únicos: {len(bmw['modelo'].unique())}\")\n",
    "print(f\"Modas por modelo: {len(tipo_coche_mode_por_modelo)}\")\n",
    "\n",
    "# Imputar nulos con moda por (modelo,potencia), si no existe con moda solo por modelo, sino con moda global\n",
    "for i in bmw[bmw['tipo_coche'].isnull()].index:\n",
    "    modelo = bmw.loc[i, 'modelo']\n",
    "    potencia = bmw.loc[i, 'potencia']\n",
    "    if (modelo, potencia) in tipo_coche_mode_table.index:\n",
    "        tipo_coche = tipo_coche_mode_table.loc[(modelo, potencia)]\n",
    "    elif modelo in tipo_coche_mode_por_modelo.index:\n",
    "        tipo_coche = tipo_coche_mode_por_modelo.loc[modelo]\n",
    "    else:\n",
    "        tipo_coche = bmw['tipo_coche'].mode().values[0]\n",
    "    bmw.loc[i, 'tipo_coche'] = tipo_coche\n",
    "\n",
    "print(get_tabla_nulos(bmw))\n",
    "\n",
    "print(\"Distribución después de imputar:\")\n",
    "print(bmw['tipo_coche'].value_counts(normalize=True))\n",
    "\n",
    "# Ahora, para medir el acierto con el dataset original\n",
    "\n",
    "# 1. Cargar el dataset original\n",
    "df_bmw_original = pd.read_csv('/Users/davidlarre/Desktop/PROYECTOS/ENTREGABLE 1/bmw_original.csv')\n",
    "\n",
    "# 2. Crear máscara con las filas que originalmente tenían nulos\n",
    "mask_nulos_originales = bmw['tipo_coche'].isnull()\n",
    "\n",
    "# 3. Filtrar solo esas filas para comparar\n",
    "tipo_coche_imputado = df_bmw.loc[mask_nulos_originales, 'tipo_coche']\n",
    "tipo_coche_real = df_bmw_original.loc[mask_nulos_originales, 'tipo_coche']\n",
    "\n",
    "# 4. Calcular aciertos\n",
    "aciertos = (tipo_coche_imputado == tipo_coche_real).sum()\n",
    "total = mask_nulos_originales.sum()\n",
    "porcentaje_acierto = (aciertos / total) * 100 if total > 0 else None\n",
    "\n",
    "print(f\"Aciertos: {aciertos} de {total} imputaciones\")\n",
    "print(f\"Porcentaje de acierto: {porcentaje_acierto:.2f}%\")'''"
   ]
  },
  {
   "cell_type": "code",
   "execution_count": null,
   "id": "34695212",
   "metadata": {},
   "outputs": [],
   "source": []
  },
  {
   "cell_type": "markdown",
   "id": "f3fbefcd",
   "metadata": {},
   "source": [
    "# VERSIÓN 3"
   ]
  },
  {
   "cell_type": "code",
   "execution_count": 17,
   "id": "c58f217e",
   "metadata": {},
   "outputs": [],
   "source": [
    "modelo_tipo_coche = {\n",
    "    # Hatchbacks / Subcompactos\n",
    "    '114': 'hatchback',\n",
    "    '116': 'hatchback',\n",
    "    '118': 'hatchback',\n",
    "    '120': 'hatchback',\n",
    "    '123': 'hatchback',\n",
    "    '125': 'hatchback',\n",
    "    '135': 'hatchback',\n",
    "    'M135': 'hatchback',\n",
    "\n",
    "    # Coupé\n",
    "    '218': 'coupe',\n",
    "    '220': 'coupe',\n",
    "    '225': 'coupe',\n",
    "    '228': 'coupe',  # Si aparece\n",
    "    '230': 'coupe',  # Si aparece\n",
    "    'M235': 'coupe',\n",
    "    'M240': 'coupe',  # Si aparece\n",
    "    '420': 'coupe',\n",
    "    '425': 'coupe',\n",
    "    '430': 'coupe',\n",
    "    '435': 'coupe',\n",
    "    '440': 'coupe',  # Si aparece\n",
    "    'M4': 'coupe',\n",
    "\n",
    "    # Coupé 4 puertas (clasificados como coupe también)\n",
    "    '640 Gran Coupé': 'coupe',\n",
    "    '435 Gran Coupé': 'coupe',\n",
    "    '430 Gran Coupé': 'coupe',\n",
    "    '420 Gran Coupé': 'coupe',\n",
    "    '418 Gran Coupé': 'coupe',\n",
    "\n",
    "    # Berlina / Sedán\n",
    "    '316': 'sedan',\n",
    "    '318': 'sedan',\n",
    "    '320': 'sedan',\n",
    "    '325': 'sedan',\n",
    "    '328': 'sedan',\n",
    "    '330': 'sedan',\n",
    "    '335': 'sedan',\n",
    "    'M3': 'sedan',\n",
    "    '520': 'sedan',\n",
    "    '523': 'sedan',\n",
    "    '525': 'sedan',\n",
    "    '528': 'sedan',\n",
    "    '530': 'sedan',\n",
    "    '535': 'sedan',\n",
    "    'M5': 'sedan',\n",
    "    '518': 'sedan',\n",
    "    'ActiveHybrid 5': 'sedan',\n",
    "    'M550': 'sedan',\n",
    "    '730': 'sedan',\n",
    "    '735': 'sedan',\n",
    "    '740': 'sedan',\n",
    "    '750': 'sedan',\n",
    "\n",
    "    # Gran Turismo (más cercanos a hatchback grande / fastback)\n",
    "    '320 Gran Turismo': 'hatchback',\n",
    "    '325 Gran Turismo': 'hatchback',\n",
    "    '330 Gran Turismo': 'hatchback',\n",
    "    '335 Gran Turismo': 'hatchback',\n",
    "    '520 Gran Turismo': 'hatchback',\n",
    "    '530 Gran Turismo': 'hatchback',\n",
    "    '535 Gran Turismo': 'hatchback',\n",
    "    '318 Gran Turismo': 'hatchback',\n",
    "\n",
    "    # SUV\n",
    "    'X1': 'suv',\n",
    "    'X3': 'suv',\n",
    "    'X4': 'suv',\n",
    "    'X5': 'suv',\n",
    "    'X5 M': 'suv',\n",
    "    'X5 M50': 'suv',\n",
    "    'X6': 'suv',\n",
    "    'X6 M': 'suv',\n",
    "\n",
    "    # Monovolúmenes / Van\n",
    "    '218 Active Tourer': 'van',\n",
    "    '216 Active Tourer': 'van',\n",
    "    '220 Active Tourer': 'van',\n",
    "    '225 Active Tourer': 'van',\n",
    "    'Active Tourer': 'van',\n",
    "    '218 Gran Tourer': 'van',\n",
    "    '216 Gran Tourer': 'van',\n",
    "    '214 Gran Tourer': 'van',\n",
    "\n",
    "    # Convertible\n",
    "    'Z4': 'convertible',\n",
    "    'i8': 'convertible',  # Híbrido deportivo tipo roadster\n",
    "\n",
    "    # Eléctrico compacto\n",
    "    'i3': 'subcompact',\n",
    "\n",
    "    # Otros posibles\n",
    "    '630': 'coupe',\n",
    "    '635': 'coupe',\n",
    "    '640': 'coupe',\n",
    "}"
   ]
  },
  {
   "cell_type": "code",
   "execution_count": 18,
   "id": "a3df4850",
   "metadata": {},
   "outputs": [],
   "source": [
    "df_bmw['tipo_coche_imputado'] = df_bmw['modelo'].map(modelo_tipo_coche)"
   ]
  },
  {
   "cell_type": "code",
   "execution_count": 19,
   "id": "51abc5f8",
   "metadata": {},
   "outputs": [],
   "source": [
    "df_bmw['tipo_coche'] = df_bmw['tipo_coche'].fillna(df_bmw['tipo_coche_imputado'])"
   ]
  },
  {
   "cell_type": "code",
   "execution_count": 20,
   "id": "67b050b7",
   "metadata": {},
   "outputs": [
    {
     "name": "stdout",
     "output_type": "stream",
     "text": [
      "Aciertos: 835 de 1460 imputaciones\n",
      "Porcentaje de acierto: 57.19%\n"
     ]
    }
   ],
   "source": [
    "# 1. Cargar el dataset original\n",
    "df_bmw_original = pd.read_csv('/Users/davidlarre/Desktop/PROYECTOS/M10 - ENTREGABLES/ENTREGABLE 1/data/bmw_original.csv')\n",
    "\n",
    "# 2. Asegurarnos de que ambos dataframes tienen el mismo índice (o una columna común para alinear)\n",
    "# Puedes hacer merge si hay un ID único, pero si no, asumimos que el orden es el mismo\n",
    "\n",
    "# 3. Identificar las filas que originalmente tenían nulos en 'tipo_coche'\n",
    "mask_nulos_originales = bmw['tipo_coche'].isnull()\n",
    "\n",
    "# 4. Filtrar solo esas filas para comparar\n",
    "tipo_coche_imputado = df_bmw.loc[mask_nulos_originales, 'tipo_coche']\n",
    "tipo_coche_real = df_bmw_original.loc[mask_nulos_originales, 'tipo_coche']\n",
    "\n",
    "# 5. Calcular aciertos\n",
    "aciertos = (tipo_coche_imputado == tipo_coche_real).sum()\n",
    "total = mask_nulos_originales.sum()\n",
    "porcentaje_acierto = (aciertos / total) * 100 if total > 0 else None\n",
    "\n",
    "# 6. Mostrar resultados\n",
    "print(f\"Aciertos: {aciertos} de {total} imputaciones\")\n",
    "print(f\"Porcentaje de acierto: {porcentaje_acierto:.2f}%\")"
   ]
  },
  {
   "cell_type": "markdown",
   "id": "bfb78ce0",
   "metadata": {},
   "source": [
    "## COMPROBACION DE LA IMPUTACIÓN COLOR"
   ]
  },
  {
   "cell_type": "markdown",
   "id": "dd0151cf",
   "metadata": {},
   "source": [
    "### VERSIÓN 1 - 30% ACIERTO"
   ]
  },
  {
   "cell_type": "code",
   "execution_count": 21,
   "id": "ff063bba",
   "metadata": {},
   "outputs": [
    {
     "data": {
      "text/plain": [
       "\" import numpy as np\\n\\n# 1. Imputar primero por moda de color por modelo\\nmoda_color_modelo = df_bmw.groupby('modelo')['color'].agg(obtener_moda).reset_index()\\nmoda_color_modelo = moda_color_modelo.rename(columns={'color': 'MODA_COLOR_MODELO'})\\ndf_bmw = df_bmw.merge(moda_color_modelo, on='modelo', how='left')\\ndf_bmw['color'] = df_bmw['color'].fillna(df_bmw['MODA_COLOR_MODELO'])\\ndf_bmw.drop(columns=['MODA_COLOR_MODELO'], inplace=True)\\n\\n# 2. Imputar lo que quede nulo según la distribución general\\n# (Preserva la distribución original de los colores)\\ndistribucion_colores = df_bmw['color'].value_counts(normalize=True)\\nmask_nulos_color = df_bmw['color'].isnull()\\nn_nulos = mask_nulos_color.sum()\\n\\nif n_nulos > 0:\\n    np.random.seed(42)  # Para reproducibilidad\\n    colores_random = np.random.choice(\\n        distribucion_colores.index,\\n        size=n_nulos,\\n        p=distribucion_colores.values\\n    )\\n    df_bmw.loc[mask_nulos_color, 'color'] = colores_random\\n\\n# 3. Verificamos que no queden nulos\\ntabla_nulos(df_bmw).loc[['color']]\""
      ]
     },
     "execution_count": 21,
     "metadata": {},
     "output_type": "execute_result"
    }
   ],
   "source": [
    "''' import numpy as np\n",
    "\n",
    "# 1. Imputar primero por moda de color por modelo\n",
    "moda_color_modelo = df_bmw.groupby('modelo')['color'].agg(obtener_moda).reset_index()\n",
    "moda_color_modelo = moda_color_modelo.rename(columns={'color': 'MODA_COLOR_MODELO'})\n",
    "df_bmw = df_bmw.merge(moda_color_modelo, on='modelo', how='left')\n",
    "df_bmw['color'] = df_bmw['color'].fillna(df_bmw['MODA_COLOR_MODELO'])\n",
    "df_bmw.drop(columns=['MODA_COLOR_MODELO'], inplace=True)\n",
    "\n",
    "# 2. Imputar lo que quede nulo según la distribución general\n",
    "# (Preserva la distribución original de los colores)\n",
    "distribucion_colores = df_bmw['color'].value_counts(normalize=True)\n",
    "mask_nulos_color = df_bmw['color'].isnull()\n",
    "n_nulos = mask_nulos_color.sum()\n",
    "\n",
    "if n_nulos > 0:\n",
    "    np.random.seed(42)  # Para reproducibilidad\n",
    "    colores_random = np.random.choice(\n",
    "        distribucion_colores.index,\n",
    "        size=n_nulos,\n",
    "        p=distribucion_colores.values\n",
    "    )\n",
    "    df_bmw.loc[mask_nulos_color, 'color'] = colores_random\n",
    "\n",
    "# 3. Verificamos que no queden nulos\n",
    "tabla_nulos(df_bmw).loc[['color']]'''"
   ]
  },
  {
   "cell_type": "code",
   "execution_count": 22,
   "id": "06f6ec06",
   "metadata": {},
   "outputs": [
    {
     "name": "stdout",
     "output_type": "stream",
     "text": [
      "Aciertos: 0 de 445 imputaciones\n",
      "Porcentaje de acierto: 0.00%\n"
     ]
    }
   ],
   "source": [
    "# 3. Identificar las filas que originalmente tenían nulos en 'color'\n",
    "mask_nulos_originales = bmw['color'].isnull()\n",
    "\n",
    "# 4. Filtrar solo esas filas para comparar\n",
    "color_imputado = df_bmw.loc[mask_nulos_originales, 'color']\n",
    "color_real = df_bmw_original.loc[mask_nulos_originales, 'color']\n",
    "\n",
    "# 5. Calcular aciertos\n",
    "aciertos = (color_imputado == color_real).sum()\n",
    "total = mask_nulos_originales.sum()\n",
    "porcentaje_acierto = (aciertos / total) * 100 if total > 0 else None\n",
    "\n",
    "# 6. Mostrar resultados\n",
    "print(f\"Aciertos: {aciertos} de {total} imputaciones\")\n",
    "print(f\"Porcentaje de acierto: {porcentaje_acierto:.2f}%\")"
   ]
  },
  {
   "cell_type": "markdown",
   "id": "10ec4cfb",
   "metadata": {},
   "source": [
    "### VERSIÓN 2 - 32% ACIERTO"
   ]
  },
  {
   "cell_type": "code",
   "execution_count": 23,
   "id": "7a8f2c9f",
   "metadata": {},
   "outputs": [
    {
     "data": {
      "text/plain": [
       "\"def obtener_moda(x):\\n    return x.mode().iloc[0] if not x.mode().empty else np.nan\\n\\nmoda_color_1 = df_bmw.groupby(['modelo', 'tipo_coche'])['color'].agg(obtener_moda).reset_index()\\nmoda_color_1.rename(columns={'color': 'MODA_COLOR_1'}, inplace=True)\\ndf_bmw = df_bmw.merge(moda_color_1, on=['modelo', 'tipo_coche'], how='left')\\ndf_bmw['color'] = df_bmw['color'].fillna(df_bmw['MODA_COLOR_1'])\\ndf_bmw.drop(columns=['MODA_COLOR_1'], inplace=True)\\n\\nmoda_color_2 = df_bmw.groupby(['modelo'])['color'].agg(obtener_moda).reset_index()\\nmoda_color_2.rename(columns={'color': 'MODA_COLOR_2'}, inplace=True)\\ndf_bmw = df_bmw.merge(moda_color_2, on='modelo', how='left')\\ndf_bmw['color'] = df_bmw['color'].fillna(df_bmw['MODA_COLOR_2'])\\ndf_bmw.drop(columns=['MODA_COLOR_2'], inplace=True)\\n\\nmoda_color_3 = df_bmw.groupby(['tipo_coche'])['color'].agg(obtener_moda).reset_index()\\nmoda_color_3.rename(columns={'color': 'MODA_COLOR_3'}, inplace=True)\\ndf_bmw = df_bmw.merge(moda_color_3, on='tipo_coche', how='left')\\ndf_bmw['color'] = df_bmw['color'].fillna(df_bmw['MODA_COLOR_3'])\\ndf_bmw.drop(columns=['MODA_COLOR_3'], inplace=True)\\n\\nmoda_general_color = df_bmw['color'].mode().iloc[0]\\ndf_bmw['color'] = df_bmw['color'].fillna(moda_general_color)\\n\\ntabla_nulos(df_bmw).loc[['color']]\\ndf_bmw['color'].value_counts(normalize=True)\""
      ]
     },
     "execution_count": 23,
     "metadata": {},
     "output_type": "execute_result"
    }
   ],
   "source": [
    "'''def obtener_moda(x):\n",
    "    return x.mode().iloc[0] if not x.mode().empty else np.nan\n",
    "\n",
    "moda_color_1 = df_bmw.groupby(['modelo', 'tipo_coche'])['color'].agg(obtener_moda).reset_index()\n",
    "moda_color_1.rename(columns={'color': 'MODA_COLOR_1'}, inplace=True)\n",
    "df_bmw = df_bmw.merge(moda_color_1, on=['modelo', 'tipo_coche'], how='left')\n",
    "df_bmw['color'] = df_bmw['color'].fillna(df_bmw['MODA_COLOR_1'])\n",
    "df_bmw.drop(columns=['MODA_COLOR_1'], inplace=True)\n",
    "\n",
    "moda_color_2 = df_bmw.groupby(['modelo'])['color'].agg(obtener_moda).reset_index()\n",
    "moda_color_2.rename(columns={'color': 'MODA_COLOR_2'}, inplace=True)\n",
    "df_bmw = df_bmw.merge(moda_color_2, on='modelo', how='left')\n",
    "df_bmw['color'] = df_bmw['color'].fillna(df_bmw['MODA_COLOR_2'])\n",
    "df_bmw.drop(columns=['MODA_COLOR_2'], inplace=True)\n",
    "\n",
    "moda_color_3 = df_bmw.groupby(['tipo_coche'])['color'].agg(obtener_moda).reset_index()\n",
    "moda_color_3.rename(columns={'color': 'MODA_COLOR_3'}, inplace=True)\n",
    "df_bmw = df_bmw.merge(moda_color_3, on='tipo_coche', how='left')\n",
    "df_bmw['color'] = df_bmw['color'].fillna(df_bmw['MODA_COLOR_3'])\n",
    "df_bmw.drop(columns=['MODA_COLOR_3'], inplace=True)\n",
    "\n",
    "moda_general_color = df_bmw['color'].mode().iloc[0]\n",
    "df_bmw['color'] = df_bmw['color'].fillna(moda_general_color)\n",
    "\n",
    "tabla_nulos(df_bmw).loc[['color']]\n",
    "df_bmw['color'].value_counts(normalize=True)'''"
   ]
  },
  {
   "cell_type": "code",
   "execution_count": 24,
   "id": "094ac13b",
   "metadata": {},
   "outputs": [
    {
     "name": "stdout",
     "output_type": "stream",
     "text": [
      "Aciertos: 0 de 445 imputaciones\n",
      "Porcentaje de acierto: 0.00%\n"
     ]
    }
   ],
   "source": [
    "# 3. Identificar las filas que originalmente tenían nulos en 'color'\n",
    "mask_nulos_originales = bmw['color'].isnull()\n",
    "\n",
    "# 4. Filtrar solo esas filas para comparar\n",
    "color_imputado = df_bmw.loc[mask_nulos_originales, 'color']\n",
    "color_real = df_bmw_original.loc[mask_nulos_originales, 'color']\n",
    "\n",
    "# 5. Calcular aciertos\n",
    "aciertos = (color_imputado == color_real).sum()\n",
    "total = mask_nulos_originales.sum()\n",
    "porcentaje_acierto = (aciertos / total) * 100 if total > 0 else None\n",
    "\n",
    "# 6. Mostrar resultados\n",
    "print(f\"Aciertos: {aciertos} de {total} imputaciones\")\n",
    "print(f\"Porcentaje de acierto: {porcentaje_acierto:.2f}%\")"
   ]
  },
  {
   "cell_type": "markdown",
   "id": "764c359f",
   "metadata": {},
   "source": [
    "### VERSIÓN 3 - 80% ACIERTO"
   ]
  },
  {
   "cell_type": "code",
   "execution_count": 25,
   "id": "695179ee",
   "metadata": {},
   "outputs": [],
   "source": [
    "def obtener_color_binario(x):\n",
    "  if str(x) == 'nan':\n",
    "    return np.nan\n",
    "  elif x in ['black','grey','blue','white']:\n",
    "    return 1\n",
    "  else:\n",
    "    return 0"
   ]
  },
  {
   "cell_type": "code",
   "execution_count": 26,
   "id": "a3ef9ea0",
   "metadata": {},
   "outputs": [],
   "source": [
    "df_bmw['color_estandar'] = df_bmw['color'].map(obtener_color_binario)"
   ]
  },
  {
   "cell_type": "code",
   "execution_count": 27,
   "id": "6f248193",
   "metadata": {},
   "outputs": [],
   "source": [
    "df_bmw_original['color_estandar'] = df_bmw_original['color'].map(obtener_color_binario)"
   ]
  },
  {
   "cell_type": "code",
   "execution_count": 28,
   "id": "ee0411c2",
   "metadata": {},
   "outputs": [
    {
     "data": {
      "text/html": [
       "<div>\n",
       "<style scoped>\n",
       "    .dataframe tbody tr th:only-of-type {\n",
       "        vertical-align: middle;\n",
       "    }\n",
       "\n",
       "    .dataframe tbody tr th {\n",
       "        vertical-align: top;\n",
       "    }\n",
       "\n",
       "    .dataframe thead th {\n",
       "        text-align: right;\n",
       "    }\n",
       "</style>\n",
       "<table border=\"1\" class=\"dataframe\">\n",
       "  <thead>\n",
       "    <tr style=\"text-align: right;\">\n",
       "      <th></th>\n",
       "      <th>color</th>\n",
       "      <th>color_estandar</th>\n",
       "    </tr>\n",
       "  </thead>\n",
       "  <tbody>\n",
       "    <tr>\n",
       "      <th>0</th>\n",
       "      <td>black</td>\n",
       "      <td>1.0</td>\n",
       "    </tr>\n",
       "    <tr>\n",
       "      <th>1</th>\n",
       "      <td>grey</td>\n",
       "      <td>1.0</td>\n",
       "    </tr>\n",
       "    <tr>\n",
       "      <th>2</th>\n",
       "      <td>white</td>\n",
       "      <td>1.0</td>\n",
       "    </tr>\n",
       "    <tr>\n",
       "      <th>3</th>\n",
       "      <td>red</td>\n",
       "      <td>0.0</td>\n",
       "    </tr>\n",
       "    <tr>\n",
       "      <th>4</th>\n",
       "      <td>silver</td>\n",
       "      <td>0.0</td>\n",
       "    </tr>\n",
       "    <tr>\n",
       "      <th>...</th>\n",
       "      <td>...</td>\n",
       "      <td>...</td>\n",
       "    </tr>\n",
       "    <tr>\n",
       "      <th>4838</th>\n",
       "      <td>black</td>\n",
       "      <td>1.0</td>\n",
       "    </tr>\n",
       "    <tr>\n",
       "      <th>4839</th>\n",
       "      <td>grey</td>\n",
       "      <td>1.0</td>\n",
       "    </tr>\n",
       "    <tr>\n",
       "      <th>4840</th>\n",
       "      <td>grey</td>\n",
       "      <td>1.0</td>\n",
       "    </tr>\n",
       "    <tr>\n",
       "      <th>4841</th>\n",
       "      <td>brown</td>\n",
       "      <td>0.0</td>\n",
       "    </tr>\n",
       "    <tr>\n",
       "      <th>4842</th>\n",
       "      <td>grey</td>\n",
       "      <td>1.0</td>\n",
       "    </tr>\n",
       "  </tbody>\n",
       "</table>\n",
       "<p>4843 rows × 2 columns</p>\n",
       "</div>"
      ],
      "text/plain": [
       "       color  color_estandar\n",
       "0      black             1.0\n",
       "1       grey             1.0\n",
       "2      white             1.0\n",
       "3        red             0.0\n",
       "4     silver             0.0\n",
       "...      ...             ...\n",
       "4838   black             1.0\n",
       "4839    grey             1.0\n",
       "4840    grey             1.0\n",
       "4841   brown             0.0\n",
       "4842    grey             1.0\n",
       "\n",
       "[4843 rows x 2 columns]"
      ]
     },
     "execution_count": 28,
     "metadata": {},
     "output_type": "execute_result"
    }
   ],
   "source": [
    "df_bmw[['color','color_estandar']]"
   ]
  },
  {
   "cell_type": "code",
   "execution_count": null,
   "id": "e335cdb5",
   "metadata": {},
   "outputs": [],
   "source": []
  },
  {
   "cell_type": "code",
   "execution_count": 29,
   "id": "51d11cc6",
   "metadata": {},
   "outputs": [],
   "source": [
    "# guardemos los valores de la moda para color_estandar en tablas diferentes por niveles de agrupación\n",
    "tabla_moda_color_estandar = df_bmw[~(df_bmw['color_estandar'].isnull())].groupby(['modelo','tipo_coche','potencia'])['color_estandar'].agg([stat.mode])"
   ]
  },
  {
   "cell_type": "code",
   "execution_count": 30,
   "id": "b98d1cbb",
   "metadata": {},
   "outputs": [],
   "source": [
    "tabla_moda_color_estandar_por_modelo_y_tipo_coche = df_bmw[~(df_bmw['color_estandar'].isnull())].groupby(['modelo','tipo_coche'])['color_estandar'].agg([stat.mode])"
   ]
  },
  {
   "cell_type": "code",
   "execution_count": 31,
   "id": "51c4fdcf",
   "metadata": {},
   "outputs": [],
   "source": [
    "tabla_moda_color_estandar_por_modelo = df_bmw[~(df_bmw['color_estandar'].isnull())].groupby(['modelo'])['color_estandar'].agg([stat.mode])"
   ]
  },
  {
   "cell_type": "code",
   "execution_count": 32,
   "id": "e2e05e87",
   "metadata": {},
   "outputs": [],
   "source": [
    "tabla_moda_color_estandar_por_tipo_coche = df_bmw[~(df_bmw['color_estandar'].isnull())].groupby(['tipo_coche'])['color_estandar'].agg([stat.mode])"
   ]
  },
  {
   "cell_type": "code",
   "execution_count": 33,
   "id": "7a17609e",
   "metadata": {},
   "outputs": [
    {
     "data": {
      "text/plain": [
       "False"
      ]
     },
     "execution_count": 33,
     "metadata": {},
     "output_type": "execute_result"
    }
   ],
   "source": [
    "len(tabla_moda_color_estandar_por_modelo)==len(df_bmw['modelo'].unique())"
   ]
  },
  {
   "cell_type": "code",
   "execution_count": 34,
   "id": "ee6cab30",
   "metadata": {},
   "outputs": [
    {
     "data": {
      "text/plain": [
       "77"
      ]
     },
     "execution_count": 34,
     "metadata": {},
     "output_type": "execute_result"
    }
   ],
   "source": [
    "#falta un modelo que es unico en todo el dataset y tiene color_estandar nulo\n",
    "len(df_bmw['modelo'].unique())"
   ]
  },
  {
   "cell_type": "code",
   "execution_count": 35,
   "id": "5bfdcd27",
   "metadata": {},
   "outputs": [],
   "source": [
    "# reemplacemoslos nulos en color_estandar con la moda por modelo, tipo_coche y potencia. Cuando no es posible usemos la moda solo por modelo y tipo_coche. Si tampoco esta existe\n",
    "# usemos la moda por modelo, e si tampoco esta existe le ponemos la moda de color_estandar para tipo_coche, osea 1\n",
    "\n",
    "for i in df_bmw[df_bmw['color_estandar'].isnull()].index:\n",
    "  modelo = df_bmw.loc[i,'modelo']\n",
    "  tipo_coche = df_bmw.loc[i,'tipo_coche']\n",
    "  potencia = df_bmw.loc[i,'potencia']\n",
    " # existe la moda por modelo, tipo_coche y potencia?\n",
    "  if (modelo,tipo_coche,potencia) in tabla_moda_color_estandar.index:\n",
    "    color_estandar = tabla_moda_color_estandar.loc[(modelo,tipo_coche,potencia)].values[0]\n",
    " # si no, existe la moda solo por modelo y tipo_coche?\n",
    "  elif (modelo,tipo_coche) in tabla_moda_color_estandar_por_modelo_y_tipo_coche.index:\n",
    "    color_estandar = tabla_moda_color_estandar_por_modelo_y_tipo_coche.loc[(modelo,tipo_coche)].values[0]\n",
    " # si no, existe la moda solo por modelo?\n",
    "  elif (modelo) in tabla_moda_color_estandar_por_modelo.index:\n",
    "    color_estandar = tabla_moda_color_estandar_por_modelo.loc[(modelo)].values[0]\n",
    "  else:\n",
    "    color_estandar = tabla_moda_color_estandar_por_tipo_coche.loc[(tipo_coche)].values[0]\n",
    "  df_bmw.loc[i,'color_estandar'] = color_estandar"
   ]
  },
  {
   "cell_type": "code",
   "execution_count": 36,
   "id": "96ba97c6",
   "metadata": {},
   "outputs": [
    {
     "data": {
      "text/html": [
       "<div>\n",
       "<style scoped>\n",
       "    .dataframe tbody tr th:only-of-type {\n",
       "        vertical-align: middle;\n",
       "    }\n",
       "\n",
       "    .dataframe tbody tr th {\n",
       "        vertical-align: top;\n",
       "    }\n",
       "\n",
       "    .dataframe thead th {\n",
       "        text-align: right;\n",
       "    }\n",
       "</style>\n",
       "<table border=\"1\" class=\"dataframe\">\n",
       "  <thead>\n",
       "    <tr style=\"text-align: right;\">\n",
       "      <th></th>\n",
       "      <th>NULOS</th>\n",
       "      <th>% NULOS</th>\n",
       "      <th>VALORES UNICOS</th>\n",
       "    </tr>\n",
       "  </thead>\n",
       "  <tbody>\n",
       "    <tr>\n",
       "      <th>asientos_traseros_plegables</th>\n",
       "      <td>3391</td>\n",
       "      <td>70.018584</td>\n",
       "      <td>2</td>\n",
       "    </tr>\n",
       "    <tr>\n",
       "      <th>fecha_registro</th>\n",
       "      <td>2423</td>\n",
       "      <td>50.030973</td>\n",
       "      <td>180</td>\n",
       "    </tr>\n",
       "    <tr>\n",
       "      <th>edad_coche</th>\n",
       "      <td>2423</td>\n",
       "      <td>50.030973</td>\n",
       "      <td>25</td>\n",
       "    </tr>\n",
       "    <tr>\n",
       "      <th>year_registro</th>\n",
       "      <td>2423</td>\n",
       "      <td>50.030973</td>\n",
       "      <td>23</td>\n",
       "    </tr>\n",
       "    <tr>\n",
       "      <th>marca</th>\n",
       "      <td>970</td>\n",
       "      <td>20.028908</td>\n",
       "      <td>1</td>\n",
       "    </tr>\n",
       "    <tr>\n",
       "      <th>bluetooth</th>\n",
       "      <td>728</td>\n",
       "      <td>15.032005</td>\n",
       "      <td>2</td>\n",
       "    </tr>\n",
       "    <tr>\n",
       "      <th>alerta_lim_velocidad</th>\n",
       "      <td>728</td>\n",
       "      <td>15.032005</td>\n",
       "      <td>2</td>\n",
       "    </tr>\n",
       "    <tr>\n",
       "      <th>aire_acondicionado</th>\n",
       "      <td>486</td>\n",
       "      <td>10.035102</td>\n",
       "      <td>2</td>\n",
       "    </tr>\n",
       "    <tr>\n",
       "      <th>color</th>\n",
       "      <td>445</td>\n",
       "      <td>9.188520</td>\n",
       "      <td>10</td>\n",
       "    </tr>\n",
       "    <tr>\n",
       "      <th>tipo_coche_imputado</th>\n",
       "      <td>7</td>\n",
       "      <td>0.144539</td>\n",
       "      <td>7</td>\n",
       "    </tr>\n",
       "    <tr>\n",
       "      <th>precio</th>\n",
       "      <td>6</td>\n",
       "      <td>0.123890</td>\n",
       "      <td>437</td>\n",
       "    </tr>\n",
       "    <tr>\n",
       "      <th>tipo_gasolina</th>\n",
       "      <td>5</td>\n",
       "      <td>0.103242</td>\n",
       "      <td>5</td>\n",
       "    </tr>\n",
       "    <tr>\n",
       "      <th>volante_regulable</th>\n",
       "      <td>4</td>\n",
       "      <td>0.082593</td>\n",
       "      <td>2</td>\n",
       "    </tr>\n",
       "    <tr>\n",
       "      <th>tipo_coche</th>\n",
       "      <td>3</td>\n",
       "      <td>0.061945</td>\n",
       "      <td>8</td>\n",
       "    </tr>\n",
       "    <tr>\n",
       "      <th>modelo</th>\n",
       "      <td>3</td>\n",
       "      <td>0.061945</td>\n",
       "      <td>76</td>\n",
       "    </tr>\n",
       "    <tr>\n",
       "      <th>camara_trasera</th>\n",
       "      <td>2</td>\n",
       "      <td>0.041297</td>\n",
       "      <td>2</td>\n",
       "    </tr>\n",
       "    <tr>\n",
       "      <th>elevalunas_electrico</th>\n",
       "      <td>2</td>\n",
       "      <td>0.041297</td>\n",
       "      <td>2</td>\n",
       "    </tr>\n",
       "    <tr>\n",
       "      <th>km</th>\n",
       "      <td>2</td>\n",
       "      <td>0.041297</td>\n",
       "      <td>4784</td>\n",
       "    </tr>\n",
       "    <tr>\n",
       "      <th>fecha_venta</th>\n",
       "      <td>1</td>\n",
       "      <td>0.020648</td>\n",
       "      <td>13</td>\n",
       "    </tr>\n",
       "    <tr>\n",
       "      <th>potencia</th>\n",
       "      <td>1</td>\n",
       "      <td>0.020648</td>\n",
       "      <td>61</td>\n",
       "    </tr>\n",
       "    <tr>\n",
       "      <th>year_venta</th>\n",
       "      <td>1</td>\n",
       "      <td>0.020648</td>\n",
       "      <td>5</td>\n",
       "    </tr>\n",
       "    <tr>\n",
       "      <th>gps</th>\n",
       "      <td>0</td>\n",
       "      <td>0.000000</td>\n",
       "      <td>2</td>\n",
       "    </tr>\n",
       "    <tr>\n",
       "      <th>color_estandar</th>\n",
       "      <td>0</td>\n",
       "      <td>0.000000</td>\n",
       "      <td>2</td>\n",
       "    </tr>\n",
       "  </tbody>\n",
       "</table>\n",
       "</div>"
      ],
      "text/plain": [
       "                             NULOS    % NULOS  VALORES UNICOS\n",
       "asientos_traseros_plegables   3391  70.018584               2\n",
       "fecha_registro                2423  50.030973             180\n",
       "edad_coche                    2423  50.030973              25\n",
       "year_registro                  2423  50.030973              23\n",
       "marca                          970  20.028908               1\n",
       "bluetooth                      728  15.032005               2\n",
       "alerta_lim_velocidad           728  15.032005               2\n",
       "aire_acondicionado             486  10.035102               2\n",
       "color                          445   9.188520              10\n",
       "tipo_coche_imputado              7   0.144539               7\n",
       "precio                           6   0.123890             437\n",
       "tipo_gasolina                    5   0.103242               5\n",
       "volante_regulable                4   0.082593               2\n",
       "tipo_coche                       3   0.061945               8\n",
       "modelo                           3   0.061945              76\n",
       "camara_trasera                   2   0.041297               2\n",
       "elevalunas_electrico             2   0.041297               2\n",
       "km                               2   0.041297            4784\n",
       "fecha_venta                      1   0.020648              13\n",
       "potencia                         1   0.020648              61\n",
       "year_venta                        1   0.020648               5\n",
       "gps                              0   0.000000               2\n",
       "color_estandar                   0   0.000000               2"
      ]
     },
     "execution_count": 36,
     "metadata": {},
     "output_type": "execute_result"
    }
   ],
   "source": [
    "tabla_nulos(df_bmw)"
   ]
  },
  {
   "cell_type": "code",
   "execution_count": 37,
   "id": "9bf92426",
   "metadata": {},
   "outputs": [
    {
     "data": {
      "text/plain": [
       "color_estandar\n",
       "1    0.837497\n",
       "0    0.162503\n",
       "Name: proportion, dtype: float64"
      ]
     },
     "execution_count": 37,
     "metadata": {},
     "output_type": "execute_result"
    }
   ],
   "source": [
    "df_bmw_original['color_estandar'].value_counts(normalize=True)"
   ]
  },
  {
   "cell_type": "code",
   "execution_count": 38,
   "id": "686d20b8",
   "metadata": {},
   "outputs": [
    {
     "data": {
      "text/html": [
       "<div>\n",
       "<style scoped>\n",
       "    .dataframe tbody tr th:only-of-type {\n",
       "        vertical-align: middle;\n",
       "    }\n",
       "\n",
       "    .dataframe tbody tr th {\n",
       "        vertical-align: top;\n",
       "    }\n",
       "\n",
       "    .dataframe thead th {\n",
       "        text-align: right;\n",
       "    }\n",
       "</style>\n",
       "<table border=\"1\" class=\"dataframe\">\n",
       "  <thead>\n",
       "    <tr style=\"text-align: right;\">\n",
       "      <th></th>\n",
       "      <th>marca</th>\n",
       "      <th>modelo</th>\n",
       "      <th>km</th>\n",
       "      <th>potencia</th>\n",
       "      <th>fecha_registro</th>\n",
       "      <th>tipo_gasolina</th>\n",
       "      <th>color</th>\n",
       "      <th>tipo_coche</th>\n",
       "      <th>volante_regulable</th>\n",
       "      <th>aire_acondicionado</th>\n",
       "      <th>...</th>\n",
       "      <th>bluetooth</th>\n",
       "      <th>gps</th>\n",
       "      <th>alerta_lim_velocidad</th>\n",
       "      <th>precio</th>\n",
       "      <th>fecha_venta</th>\n",
       "      <th>year_registro</th>\n",
       "      <th>year_venta</th>\n",
       "      <th>edad_coche</th>\n",
       "      <th>tipo_coche_imputado</th>\n",
       "      <th>color_estandar</th>\n",
       "    </tr>\n",
       "  </thead>\n",
       "  <tbody>\n",
       "    <tr>\n",
       "      <th>0</th>\n",
       "      <td>NaN</td>\n",
       "      <td>118</td>\n",
       "      <td>140411.0</td>\n",
       "      <td>100.0</td>\n",
       "      <td>2012-02-01</td>\n",
       "      <td>diesel</td>\n",
       "      <td>black</td>\n",
       "      <td>hatchback</td>\n",
       "      <td>True</td>\n",
       "      <td>True</td>\n",
       "      <td>...</td>\n",
       "      <td>NaN</td>\n",
       "      <td>True</td>\n",
       "      <td>NaN</td>\n",
       "      <td>11300.0</td>\n",
       "      <td>2018-01-01</td>\n",
       "      <td>2012.0</td>\n",
       "      <td>2018.0</td>\n",
       "      <td>6.0</td>\n",
       "      <td>hatchback</td>\n",
       "      <td>1.0</td>\n",
       "    </tr>\n",
       "    <tr>\n",
       "      <th>1</th>\n",
       "      <td>BMW</td>\n",
       "      <td>M4</td>\n",
       "      <td>13929.0</td>\n",
       "      <td>317.0</td>\n",
       "      <td>NaT</td>\n",
       "      <td>petrol</td>\n",
       "      <td>grey</td>\n",
       "      <td>convertible</td>\n",
       "      <td>True</td>\n",
       "      <td>True</td>\n",
       "      <td>...</td>\n",
       "      <td>True</td>\n",
       "      <td>True</td>\n",
       "      <td>True</td>\n",
       "      <td>69700.0</td>\n",
       "      <td>2018-02-01</td>\n",
       "      <td>NaN</td>\n",
       "      <td>2018.0</td>\n",
       "      <td>NaN</td>\n",
       "      <td>coupe</td>\n",
       "      <td>1.0</td>\n",
       "    </tr>\n",
       "    <tr>\n",
       "      <th>2</th>\n",
       "      <td>BMW</td>\n",
       "      <td>320</td>\n",
       "      <td>183297.0</td>\n",
       "      <td>120.0</td>\n",
       "      <td>2012-04-01</td>\n",
       "      <td>diesel</td>\n",
       "      <td>white</td>\n",
       "      <td>sedan</td>\n",
       "      <td>False</td>\n",
       "      <td>False</td>\n",
       "      <td>...</td>\n",
       "      <td>False</td>\n",
       "      <td>True</td>\n",
       "      <td>False</td>\n",
       "      <td>10200.0</td>\n",
       "      <td>2018-02-01</td>\n",
       "      <td>2012.0</td>\n",
       "      <td>2018.0</td>\n",
       "      <td>6.0</td>\n",
       "      <td>sedan</td>\n",
       "      <td>1.0</td>\n",
       "    </tr>\n",
       "    <tr>\n",
       "      <th>3</th>\n",
       "      <td>BMW</td>\n",
       "      <td>420</td>\n",
       "      <td>128035.0</td>\n",
       "      <td>135.0</td>\n",
       "      <td>NaT</td>\n",
       "      <td>diesel</td>\n",
       "      <td>red</td>\n",
       "      <td>convertible</td>\n",
       "      <td>True</td>\n",
       "      <td>True</td>\n",
       "      <td>...</td>\n",
       "      <td>True</td>\n",
       "      <td>True</td>\n",
       "      <td>NaN</td>\n",
       "      <td>25100.0</td>\n",
       "      <td>2018-02-01</td>\n",
       "      <td>NaN</td>\n",
       "      <td>2018.0</td>\n",
       "      <td>NaN</td>\n",
       "      <td>coupe</td>\n",
       "      <td>0.0</td>\n",
       "    </tr>\n",
       "    <tr>\n",
       "      <th>4</th>\n",
       "      <td>BMW</td>\n",
       "      <td>425</td>\n",
       "      <td>97097.0</td>\n",
       "      <td>160.0</td>\n",
       "      <td>NaT</td>\n",
       "      <td>diesel</td>\n",
       "      <td>silver</td>\n",
       "      <td>coupe</td>\n",
       "      <td>True</td>\n",
       "      <td>True</td>\n",
       "      <td>...</td>\n",
       "      <td>True</td>\n",
       "      <td>True</td>\n",
       "      <td>True</td>\n",
       "      <td>33400.0</td>\n",
       "      <td>2018-04-01</td>\n",
       "      <td>NaN</td>\n",
       "      <td>2018.0</td>\n",
       "      <td>NaN</td>\n",
       "      <td>coupe</td>\n",
       "      <td>0.0</td>\n",
       "    </tr>\n",
       "  </tbody>\n",
       "</table>\n",
       "<p>5 rows × 23 columns</p>\n",
       "</div>"
      ],
      "text/plain": [
       "  marca modelo        km  potencia fecha_registro tipo_gasolina   color  \\\n",
       "0   NaN    118  140411.0     100.0     2012-02-01        diesel   black   \n",
       "1   BMW     M4   13929.0     317.0            NaT        petrol    grey   \n",
       "2   BMW    320  183297.0     120.0     2012-04-01        diesel   white   \n",
       "3   BMW    420  128035.0     135.0            NaT        diesel     red   \n",
       "4   BMW    425   97097.0     160.0            NaT        diesel  silver   \n",
       "\n",
       "    tipo_coche volante_regulable aire_acondicionado  ... bluetooth   gps  \\\n",
       "0    hatchback              True               True  ...       NaN  True   \n",
       "1  convertible              True               True  ...      True  True   \n",
       "2        sedan             False              False  ...     False  True   \n",
       "3  convertible              True               True  ...      True  True   \n",
       "4        coupe              True               True  ...      True  True   \n",
       "\n",
       "  alerta_lim_velocidad   precio  fecha_venta year_registro  year_venta  \\\n",
       "0                  NaN  11300.0   2018-01-01       2012.0     2018.0   \n",
       "1                 True  69700.0   2018-02-01          NaN     2018.0   \n",
       "2                False  10200.0   2018-02-01       2012.0     2018.0   \n",
       "3                  NaN  25100.0   2018-02-01          NaN     2018.0   \n",
       "4                 True  33400.0   2018-04-01          NaN     2018.0   \n",
       "\n",
       "  edad_coche  tipo_coche_imputado  color_estandar  \n",
       "0        6.0            hatchback             1.0  \n",
       "1        NaN                coupe             1.0  \n",
       "2        6.0                sedan             1.0  \n",
       "3        NaN                coupe             0.0  \n",
       "4        NaN                coupe             0.0  \n",
       "\n",
       "[5 rows x 23 columns]"
      ]
     },
     "execution_count": 38,
     "metadata": {},
     "output_type": "execute_result"
    }
   ],
   "source": [
    "df_bmw.head()"
   ]
  },
  {
   "cell_type": "code",
   "execution_count": 39,
   "id": "9d6ea78c",
   "metadata": {},
   "outputs": [],
   "source": [
    "# despues de la sostitucion de los nulos se ha mantenido la distribucion inicial de los valores ----> OK"
   ]
  },
  {
   "cell_type": "code",
   "execution_count": 40,
   "id": "7f43c2ed",
   "metadata": {},
   "outputs": [
    {
     "name": "stdout",
     "output_type": "stream",
     "text": [
      "Aciertos: 355 de 445 imputaciones\n",
      "Porcentaje de acierto: 79.78%\n"
     ]
    }
   ],
   "source": [
    "# 1. Identificar las filas que originalmente tenían nulos en 'color'\n",
    "nulos_originales = df_bmw['color'].isnull()\n",
    "\n",
    "# 2. Filtrar solo esas filas para comparar\n",
    "color_imputado = df_bmw.loc[nulos_originales, 'color_estandar'] # df donde se han imputado nulos\n",
    "color_real = df_bmw_original.loc[nulos_originales, 'color_estandar'] # copia del df original sin modificaciones\n",
    "\n",
    "# 3. Calcular aciertos\n",
    "aciertos = (color_imputado == color_real).sum()\n",
    "total = nulos_originales.sum()\n",
    "porcentaje_acierto = (aciertos / total) * 100 if total > 0 else None\n",
    "\n",
    "# 4. Mostrar resultados\n",
    "print(f\"Aciertos: {aciertos} de {total} imputaciones\")\n",
    "print(f\"Porcentaje de acierto: {porcentaje_acierto:.2f}%\")"
   ]
  },
  {
   "cell_type": "markdown",
   "id": "bac264a6",
   "metadata": {},
   "source": [
    "## COMPROBACIÓN DE LA IMPUTACIÓN EDAD COCHE"
   ]
  },
  {
   "cell_type": "markdown",
   "id": "a2735ae6",
   "metadata": {},
   "source": [
    "### VERSIÓN 1 - 42%"
   ]
  },
  {
   "cell_type": "code",
   "execution_count": 41,
   "id": "cbe391a4",
   "metadata": {},
   "outputs": [
    {
     "ename": "FileNotFoundError",
     "evalue": "[Errno 2] No such file or directory: '/Users/davidlarre/Desktop/PROYECTOS/ENTREGABLE 1/bmw_original.csv'",
     "output_type": "error",
     "traceback": [
      "\u001b[0;31m---------------------------------------------------------------------------\u001b[0m",
      "\u001b[0;31mFileNotFoundError\u001b[0m                         Traceback (most recent call last)",
      "Cell \u001b[0;32mIn[41], line 1\u001b[0m\n\u001b[0;32m----> 1\u001b[0m df_bmw_original \u001b[38;5;241m=\u001b[39m \u001b[43mpd\u001b[49m\u001b[38;5;241;43m.\u001b[39;49m\u001b[43mread_csv\u001b[49m\u001b[43m(\u001b[49m\u001b[38;5;124;43m'\u001b[39;49m\u001b[38;5;124;43m/Users/davidlarre/Desktop/PROYECTOS/ENTREGABLE 1/bmw_original.csv\u001b[39;49m\u001b[38;5;124;43m'\u001b[39;49m\u001b[43m)\u001b[49m\n",
      "File \u001b[0;32m~/Library/Python/3.9/lib/python/site-packages/pandas/io/parsers/readers.py:1026\u001b[0m, in \u001b[0;36mread_csv\u001b[0;34m(filepath_or_buffer, sep, delimiter, header, names, index_col, usecols, dtype, engine, converters, true_values, false_values, skipinitialspace, skiprows, skipfooter, nrows, na_values, keep_default_na, na_filter, verbose, skip_blank_lines, parse_dates, infer_datetime_format, keep_date_col, date_parser, date_format, dayfirst, cache_dates, iterator, chunksize, compression, thousands, decimal, lineterminator, quotechar, quoting, doublequote, escapechar, comment, encoding, encoding_errors, dialect, on_bad_lines, delim_whitespace, low_memory, memory_map, float_precision, storage_options, dtype_backend)\u001b[0m\n\u001b[1;32m   1013\u001b[0m kwds_defaults \u001b[38;5;241m=\u001b[39m _refine_defaults_read(\n\u001b[1;32m   1014\u001b[0m     dialect,\n\u001b[1;32m   1015\u001b[0m     delimiter,\n\u001b[0;32m   (...)\u001b[0m\n\u001b[1;32m   1022\u001b[0m     dtype_backend\u001b[38;5;241m=\u001b[39mdtype_backend,\n\u001b[1;32m   1023\u001b[0m )\n\u001b[1;32m   1024\u001b[0m kwds\u001b[38;5;241m.\u001b[39mupdate(kwds_defaults)\n\u001b[0;32m-> 1026\u001b[0m \u001b[38;5;28;01mreturn\u001b[39;00m \u001b[43m_read\u001b[49m\u001b[43m(\u001b[49m\u001b[43mfilepath_or_buffer\u001b[49m\u001b[43m,\u001b[49m\u001b[43m \u001b[49m\u001b[43mkwds\u001b[49m\u001b[43m)\u001b[49m\n",
      "File \u001b[0;32m~/Library/Python/3.9/lib/python/site-packages/pandas/io/parsers/readers.py:620\u001b[0m, in \u001b[0;36m_read\u001b[0;34m(filepath_or_buffer, kwds)\u001b[0m\n\u001b[1;32m    617\u001b[0m _validate_names(kwds\u001b[38;5;241m.\u001b[39mget(\u001b[38;5;124m\"\u001b[39m\u001b[38;5;124mnames\u001b[39m\u001b[38;5;124m\"\u001b[39m, \u001b[38;5;28;01mNone\u001b[39;00m))\n\u001b[1;32m    619\u001b[0m \u001b[38;5;66;03m# Create the parser.\u001b[39;00m\n\u001b[0;32m--> 620\u001b[0m parser \u001b[38;5;241m=\u001b[39m \u001b[43mTextFileReader\u001b[49m\u001b[43m(\u001b[49m\u001b[43mfilepath_or_buffer\u001b[49m\u001b[43m,\u001b[49m\u001b[43m \u001b[49m\u001b[38;5;241;43m*\u001b[39;49m\u001b[38;5;241;43m*\u001b[39;49m\u001b[43mkwds\u001b[49m\u001b[43m)\u001b[49m\n\u001b[1;32m    622\u001b[0m \u001b[38;5;28;01mif\u001b[39;00m chunksize \u001b[38;5;129;01mor\u001b[39;00m iterator:\n\u001b[1;32m    623\u001b[0m     \u001b[38;5;28;01mreturn\u001b[39;00m parser\n",
      "File \u001b[0;32m~/Library/Python/3.9/lib/python/site-packages/pandas/io/parsers/readers.py:1620\u001b[0m, in \u001b[0;36mTextFileReader.__init__\u001b[0;34m(self, f, engine, **kwds)\u001b[0m\n\u001b[1;32m   1617\u001b[0m     \u001b[38;5;28mself\u001b[39m\u001b[38;5;241m.\u001b[39moptions[\u001b[38;5;124m\"\u001b[39m\u001b[38;5;124mhas_index_names\u001b[39m\u001b[38;5;124m\"\u001b[39m] \u001b[38;5;241m=\u001b[39m kwds[\u001b[38;5;124m\"\u001b[39m\u001b[38;5;124mhas_index_names\u001b[39m\u001b[38;5;124m\"\u001b[39m]\n\u001b[1;32m   1619\u001b[0m \u001b[38;5;28mself\u001b[39m\u001b[38;5;241m.\u001b[39mhandles: IOHandles \u001b[38;5;241m|\u001b[39m \u001b[38;5;28;01mNone\u001b[39;00m \u001b[38;5;241m=\u001b[39m \u001b[38;5;28;01mNone\u001b[39;00m\n\u001b[0;32m-> 1620\u001b[0m \u001b[38;5;28mself\u001b[39m\u001b[38;5;241m.\u001b[39m_engine \u001b[38;5;241m=\u001b[39m \u001b[38;5;28;43mself\u001b[39;49m\u001b[38;5;241;43m.\u001b[39;49m\u001b[43m_make_engine\u001b[49m\u001b[43m(\u001b[49m\u001b[43mf\u001b[49m\u001b[43m,\u001b[49m\u001b[43m \u001b[49m\u001b[38;5;28;43mself\u001b[39;49m\u001b[38;5;241;43m.\u001b[39;49m\u001b[43mengine\u001b[49m\u001b[43m)\u001b[49m\n",
      "File \u001b[0;32m~/Library/Python/3.9/lib/python/site-packages/pandas/io/parsers/readers.py:1880\u001b[0m, in \u001b[0;36mTextFileReader._make_engine\u001b[0;34m(self, f, engine)\u001b[0m\n\u001b[1;32m   1878\u001b[0m     \u001b[38;5;28;01mif\u001b[39;00m \u001b[38;5;124m\"\u001b[39m\u001b[38;5;124mb\u001b[39m\u001b[38;5;124m\"\u001b[39m \u001b[38;5;129;01mnot\u001b[39;00m \u001b[38;5;129;01min\u001b[39;00m mode:\n\u001b[1;32m   1879\u001b[0m         mode \u001b[38;5;241m+\u001b[39m\u001b[38;5;241m=\u001b[39m \u001b[38;5;124m\"\u001b[39m\u001b[38;5;124mb\u001b[39m\u001b[38;5;124m\"\u001b[39m\n\u001b[0;32m-> 1880\u001b[0m \u001b[38;5;28mself\u001b[39m\u001b[38;5;241m.\u001b[39mhandles \u001b[38;5;241m=\u001b[39m \u001b[43mget_handle\u001b[49m\u001b[43m(\u001b[49m\n\u001b[1;32m   1881\u001b[0m \u001b[43m    \u001b[49m\u001b[43mf\u001b[49m\u001b[43m,\u001b[49m\n\u001b[1;32m   1882\u001b[0m \u001b[43m    \u001b[49m\u001b[43mmode\u001b[49m\u001b[43m,\u001b[49m\n\u001b[1;32m   1883\u001b[0m \u001b[43m    \u001b[49m\u001b[43mencoding\u001b[49m\u001b[38;5;241;43m=\u001b[39;49m\u001b[38;5;28;43mself\u001b[39;49m\u001b[38;5;241;43m.\u001b[39;49m\u001b[43moptions\u001b[49m\u001b[38;5;241;43m.\u001b[39;49m\u001b[43mget\u001b[49m\u001b[43m(\u001b[49m\u001b[38;5;124;43m\"\u001b[39;49m\u001b[38;5;124;43mencoding\u001b[39;49m\u001b[38;5;124;43m\"\u001b[39;49m\u001b[43m,\u001b[49m\u001b[43m \u001b[49m\u001b[38;5;28;43;01mNone\u001b[39;49;00m\u001b[43m)\u001b[49m\u001b[43m,\u001b[49m\n\u001b[1;32m   1884\u001b[0m \u001b[43m    \u001b[49m\u001b[43mcompression\u001b[49m\u001b[38;5;241;43m=\u001b[39;49m\u001b[38;5;28;43mself\u001b[39;49m\u001b[38;5;241;43m.\u001b[39;49m\u001b[43moptions\u001b[49m\u001b[38;5;241;43m.\u001b[39;49m\u001b[43mget\u001b[49m\u001b[43m(\u001b[49m\u001b[38;5;124;43m\"\u001b[39;49m\u001b[38;5;124;43mcompression\u001b[39;49m\u001b[38;5;124;43m\"\u001b[39;49m\u001b[43m,\u001b[49m\u001b[43m \u001b[49m\u001b[38;5;28;43;01mNone\u001b[39;49;00m\u001b[43m)\u001b[49m\u001b[43m,\u001b[49m\n\u001b[1;32m   1885\u001b[0m \u001b[43m    \u001b[49m\u001b[43mmemory_map\u001b[49m\u001b[38;5;241;43m=\u001b[39;49m\u001b[38;5;28;43mself\u001b[39;49m\u001b[38;5;241;43m.\u001b[39;49m\u001b[43moptions\u001b[49m\u001b[38;5;241;43m.\u001b[39;49m\u001b[43mget\u001b[49m\u001b[43m(\u001b[49m\u001b[38;5;124;43m\"\u001b[39;49m\u001b[38;5;124;43mmemory_map\u001b[39;49m\u001b[38;5;124;43m\"\u001b[39;49m\u001b[43m,\u001b[49m\u001b[43m \u001b[49m\u001b[38;5;28;43;01mFalse\u001b[39;49;00m\u001b[43m)\u001b[49m\u001b[43m,\u001b[49m\n\u001b[1;32m   1886\u001b[0m \u001b[43m    \u001b[49m\u001b[43mis_text\u001b[49m\u001b[38;5;241;43m=\u001b[39;49m\u001b[43mis_text\u001b[49m\u001b[43m,\u001b[49m\n\u001b[1;32m   1887\u001b[0m \u001b[43m    \u001b[49m\u001b[43merrors\u001b[49m\u001b[38;5;241;43m=\u001b[39;49m\u001b[38;5;28;43mself\u001b[39;49m\u001b[38;5;241;43m.\u001b[39;49m\u001b[43moptions\u001b[49m\u001b[38;5;241;43m.\u001b[39;49m\u001b[43mget\u001b[49m\u001b[43m(\u001b[49m\u001b[38;5;124;43m\"\u001b[39;49m\u001b[38;5;124;43mencoding_errors\u001b[39;49m\u001b[38;5;124;43m\"\u001b[39;49m\u001b[43m,\u001b[49m\u001b[43m \u001b[49m\u001b[38;5;124;43m\"\u001b[39;49m\u001b[38;5;124;43mstrict\u001b[39;49m\u001b[38;5;124;43m\"\u001b[39;49m\u001b[43m)\u001b[49m\u001b[43m,\u001b[49m\n\u001b[1;32m   1888\u001b[0m \u001b[43m    \u001b[49m\u001b[43mstorage_options\u001b[49m\u001b[38;5;241;43m=\u001b[39;49m\u001b[38;5;28;43mself\u001b[39;49m\u001b[38;5;241;43m.\u001b[39;49m\u001b[43moptions\u001b[49m\u001b[38;5;241;43m.\u001b[39;49m\u001b[43mget\u001b[49m\u001b[43m(\u001b[49m\u001b[38;5;124;43m\"\u001b[39;49m\u001b[38;5;124;43mstorage_options\u001b[39;49m\u001b[38;5;124;43m\"\u001b[39;49m\u001b[43m,\u001b[49m\u001b[43m \u001b[49m\u001b[38;5;28;43;01mNone\u001b[39;49;00m\u001b[43m)\u001b[49m\u001b[43m,\u001b[49m\n\u001b[1;32m   1889\u001b[0m \u001b[43m\u001b[49m\u001b[43m)\u001b[49m\n\u001b[1;32m   1890\u001b[0m \u001b[38;5;28;01massert\u001b[39;00m \u001b[38;5;28mself\u001b[39m\u001b[38;5;241m.\u001b[39mhandles \u001b[38;5;129;01mis\u001b[39;00m \u001b[38;5;129;01mnot\u001b[39;00m \u001b[38;5;28;01mNone\u001b[39;00m\n\u001b[1;32m   1891\u001b[0m f \u001b[38;5;241m=\u001b[39m \u001b[38;5;28mself\u001b[39m\u001b[38;5;241m.\u001b[39mhandles\u001b[38;5;241m.\u001b[39mhandle\n",
      "File \u001b[0;32m~/Library/Python/3.9/lib/python/site-packages/pandas/io/common.py:873\u001b[0m, in \u001b[0;36mget_handle\u001b[0;34m(path_or_buf, mode, encoding, compression, memory_map, is_text, errors, storage_options)\u001b[0m\n\u001b[1;32m    868\u001b[0m \u001b[38;5;28;01melif\u001b[39;00m \u001b[38;5;28misinstance\u001b[39m(handle, \u001b[38;5;28mstr\u001b[39m):\n\u001b[1;32m    869\u001b[0m     \u001b[38;5;66;03m# Check whether the filename is to be opened in binary mode.\u001b[39;00m\n\u001b[1;32m    870\u001b[0m     \u001b[38;5;66;03m# Binary mode does not support 'encoding' and 'newline'.\u001b[39;00m\n\u001b[1;32m    871\u001b[0m     \u001b[38;5;28;01mif\u001b[39;00m ioargs\u001b[38;5;241m.\u001b[39mencoding \u001b[38;5;129;01mand\u001b[39;00m \u001b[38;5;124m\"\u001b[39m\u001b[38;5;124mb\u001b[39m\u001b[38;5;124m\"\u001b[39m \u001b[38;5;129;01mnot\u001b[39;00m \u001b[38;5;129;01min\u001b[39;00m ioargs\u001b[38;5;241m.\u001b[39mmode:\n\u001b[1;32m    872\u001b[0m         \u001b[38;5;66;03m# Encoding\u001b[39;00m\n\u001b[0;32m--> 873\u001b[0m         handle \u001b[38;5;241m=\u001b[39m \u001b[38;5;28;43mopen\u001b[39;49m\u001b[43m(\u001b[49m\n\u001b[1;32m    874\u001b[0m \u001b[43m            \u001b[49m\u001b[43mhandle\u001b[49m\u001b[43m,\u001b[49m\n\u001b[1;32m    875\u001b[0m \u001b[43m            \u001b[49m\u001b[43mioargs\u001b[49m\u001b[38;5;241;43m.\u001b[39;49m\u001b[43mmode\u001b[49m\u001b[43m,\u001b[49m\n\u001b[1;32m    876\u001b[0m \u001b[43m            \u001b[49m\u001b[43mencoding\u001b[49m\u001b[38;5;241;43m=\u001b[39;49m\u001b[43mioargs\u001b[49m\u001b[38;5;241;43m.\u001b[39;49m\u001b[43mencoding\u001b[49m\u001b[43m,\u001b[49m\n\u001b[1;32m    877\u001b[0m \u001b[43m            \u001b[49m\u001b[43merrors\u001b[49m\u001b[38;5;241;43m=\u001b[39;49m\u001b[43merrors\u001b[49m\u001b[43m,\u001b[49m\n\u001b[1;32m    878\u001b[0m \u001b[43m            \u001b[49m\u001b[43mnewline\u001b[49m\u001b[38;5;241;43m=\u001b[39;49m\u001b[38;5;124;43m\"\u001b[39;49m\u001b[38;5;124;43m\"\u001b[39;49m\u001b[43m,\u001b[49m\n\u001b[1;32m    879\u001b[0m \u001b[43m        \u001b[49m\u001b[43m)\u001b[49m\n\u001b[1;32m    880\u001b[0m     \u001b[38;5;28;01melse\u001b[39;00m:\n\u001b[1;32m    881\u001b[0m         \u001b[38;5;66;03m# Binary mode\u001b[39;00m\n\u001b[1;32m    882\u001b[0m         handle \u001b[38;5;241m=\u001b[39m \u001b[38;5;28mopen\u001b[39m(handle, ioargs\u001b[38;5;241m.\u001b[39mmode)\n",
      "\u001b[0;31mFileNotFoundError\u001b[0m: [Errno 2] No such file or directory: '/Users/davidlarre/Desktop/PROYECTOS/ENTREGABLE 1/bmw_original.csv'"
     ]
    }
   ],
   "source": [
    "df_bmw_original = pd.read_csv('/Users/davidlarre/Desktop/PROYECTOS/ENTREGABLE 1/bmw_original.csv')"
   ]
  },
  {
   "cell_type": "code",
   "execution_count": null,
   "id": "92c90a6b",
   "metadata": {},
   "outputs": [],
   "source": [
    "for i in ['fecha_registro','fecha_venta']:\n",
    "    df_bmw[i]=pd.to_datetime(df_bmw[i])\n",
    "\n",
    "for i in ['fecha_registro','fecha_venta']:\n",
    "    df_bmw_original[i]=pd.to_datetime(df_bmw_original[i])"
   ]
  },
  {
   "cell_type": "code",
   "execution_count": null,
   "id": "3c0e4b82",
   "metadata": {},
   "outputs": [],
   "source": [
    "# Consideramos que las fechas completas no aportan información relevante, por lo que vamos a crear nuevas columnas solo con el año\n",
    "df_bmw['year_registro'] = df_bmw['fecha_registro'].dt.year\n",
    "df_bmw['year_venta'] = df_bmw['fecha_venta'].dt.year\n",
    "df_bmw['edad'] = df_bmw['year_venta'] - df_bmw['year_registro']\n",
    "\n",
    "df_bmw_original['year_registro'] = df_bmw_original['fecha_registro'].dt.year\n",
    "df_bmw_original['year_venta'] = df_bmw_original['fecha_venta'].dt.year\n",
    "df_bmw_original['edad'] = df_bmw_original['year_venta'] - df_bmw_original['year_registro']"
   ]
  },
  {
   "cell_type": "code",
   "execution_count": null,
   "id": "569cf71f",
   "metadata": {},
   "outputs": [],
   "source": [
    "df_bmw_original1 = df_bmw_original.copy()\n",
    "df_bmw1 = df_bmw.copy()"
   ]
  },
  {
   "cell_type": "code",
   "execution_count": null,
   "id": "6fe2a947",
   "metadata": {},
   "outputs": [
    {
     "data": {
      "text/html": [
       "<div>\n",
       "<style scoped>\n",
       "    .dataframe tbody tr th:only-of-type {\n",
       "        vertical-align: middle;\n",
       "    }\n",
       "\n",
       "    .dataframe tbody tr th {\n",
       "        vertical-align: top;\n",
       "    }\n",
       "\n",
       "    .dataframe thead th {\n",
       "        text-align: right;\n",
       "    }\n",
       "</style>\n",
       "<table border=\"1\" class=\"dataframe\">\n",
       "  <thead>\n",
       "    <tr style=\"text-align: right;\">\n",
       "      <th></th>\n",
       "      <th>NULOS</th>\n",
       "      <th>% NULOS</th>\n",
       "      <th>VALORES UNICOS</th>\n",
       "    </tr>\n",
       "  </thead>\n",
       "  <tbody>\n",
       "    <tr>\n",
       "      <th>edad</th>\n",
       "      <td>2423</td>\n",
       "      <td>50.030973</td>\n",
       "      <td>25</td>\n",
       "    </tr>\n",
       "  </tbody>\n",
       "</table>\n",
       "</div>"
      ],
      "text/plain": [
       "      NULOS    % NULOS  VALORES UNICOS\n",
       "edad   2423  50.030973              25"
      ]
     },
     "execution_count": 41,
     "metadata": {},
     "output_type": "execute_result"
    }
   ],
   "source": [
    "tabla_nulos(df_bmw).loc[['edad']]"
   ]
  },
  {
   "cell_type": "code",
   "execution_count": null,
   "id": "68563e61",
   "metadata": {},
   "outputs": [
    {
     "data": {
      "text/plain": [
       "\"moda_paso_1 = df_bmw.groupby(['modelo', 'tipo_coche', 'potencia'])['edad'].agg(obtener_moda).reset_index()\\nmoda_paso_1 = moda_paso_1.rename(columns={'edad': 'MODA_PASO_1'})\""
      ]
     },
     "execution_count": 42,
     "metadata": {},
     "output_type": "execute_result"
    }
   ],
   "source": [
    "'''moda_paso_1 = df_bmw.groupby(['modelo', 'tipo_coche', 'potencia'])['edad'].agg(obtener_moda).reset_index()\n",
    "moda_paso_1 = moda_paso_1.rename(columns={'edad': 'MODA_PASO_1'})'''"
   ]
  },
  {
   "cell_type": "code",
   "execution_count": null,
   "id": "e39b0810",
   "metadata": {},
   "outputs": [
    {
     "data": {
      "text/plain": [
       "\"df_bmw = df_bmw.merge(moda_paso_1, on=['modelo', 'tipo_coche', 'potencia'], how='left')\\ndf_bmw['edad'] = df_bmw['edad'].fillna(df_bmw['MODA_PASO_1'])\\ndf_bmw.drop(columns=['MODA_PASO_1'], inplace=True)\""
      ]
     },
     "execution_count": 43,
     "metadata": {},
     "output_type": "execute_result"
    }
   ],
   "source": [
    "'''df_bmw = df_bmw.merge(moda_paso_1, on=['modelo', 'tipo_coche', 'potencia'], how='left')\n",
    "df_bmw['edad'] = df_bmw['edad'].fillna(df_bmw['MODA_PASO_1'])\n",
    "df_bmw.drop(columns=['MODA_PASO_1'], inplace=True)'''"
   ]
  },
  {
   "cell_type": "code",
   "execution_count": null,
   "id": "1199bee4",
   "metadata": {},
   "outputs": [
    {
     "data": {
      "text/html": [
       "<div>\n",
       "<style scoped>\n",
       "    .dataframe tbody tr th:only-of-type {\n",
       "        vertical-align: middle;\n",
       "    }\n",
       "\n",
       "    .dataframe tbody tr th {\n",
       "        vertical-align: top;\n",
       "    }\n",
       "\n",
       "    .dataframe thead th {\n",
       "        text-align: right;\n",
       "    }\n",
       "</style>\n",
       "<table border=\"1\" class=\"dataframe\">\n",
       "  <thead>\n",
       "    <tr style=\"text-align: right;\">\n",
       "      <th></th>\n",
       "      <th>NULOS</th>\n",
       "      <th>% NULOS</th>\n",
       "      <th>VALORES UNICOS</th>\n",
       "    </tr>\n",
       "  </thead>\n",
       "  <tbody>\n",
       "    <tr>\n",
       "      <th>edad</th>\n",
       "      <td>2423</td>\n",
       "      <td>50.030973</td>\n",
       "      <td>25</td>\n",
       "    </tr>\n",
       "  </tbody>\n",
       "</table>\n",
       "</div>"
      ],
      "text/plain": [
       "      NULOS    % NULOS  VALORES UNICOS\n",
       "edad   2423  50.030973              25"
      ]
     },
     "execution_count": 44,
     "metadata": {},
     "output_type": "execute_result"
    }
   ],
   "source": [
    "tabla_nulos(df_bmw).loc[['edad']]"
   ]
  },
  {
   "cell_type": "code",
   "execution_count": null,
   "id": "407839fd",
   "metadata": {},
   "outputs": [
    {
     "data": {
      "text/plain": [
       "\"moda_paso_2 = df_bmw.groupby(['modelo', 'tipo_coche'])['edad'].agg(obtener_moda).reset_index()\\nmoda_paso_2 = moda_paso_2.rename(columns={'edad': 'MODA_PASO_2'})\""
      ]
     },
     "execution_count": 45,
     "metadata": {},
     "output_type": "execute_result"
    }
   ],
   "source": [
    "'''moda_paso_2 = df_bmw.groupby(['modelo', 'tipo_coche'])['edad'].agg(obtener_moda).reset_index()\n",
    "moda_paso_2 = moda_paso_2.rename(columns={'edad': 'MODA_PASO_2'})'''"
   ]
  },
  {
   "cell_type": "code",
   "execution_count": null,
   "id": "81a2d07c",
   "metadata": {},
   "outputs": [
    {
     "data": {
      "text/plain": [
       "\"df_bmw = df_bmw.merge(moda_paso_2, on=['modelo', 'tipo_coche'], how='left')\\ndf_bmw['edad'] = df_bmw['edad'].fillna(df_bmw['MODA_PASO_2'])\\ndf_bmw.drop(columns=['MODA_PASO_2'], inplace=True)\""
      ]
     },
     "execution_count": 46,
     "metadata": {},
     "output_type": "execute_result"
    }
   ],
   "source": [
    "'''df_bmw = df_bmw.merge(moda_paso_2, on=['modelo', 'tipo_coche'], how='left')\n",
    "df_bmw['edad'] = df_bmw['edad'].fillna(df_bmw['MODA_PASO_2'])\n",
    "df_bmw.drop(columns=['MODA_PASO_2'], inplace=True)'''"
   ]
  },
  {
   "cell_type": "code",
   "execution_count": null,
   "id": "749174aa",
   "metadata": {},
   "outputs": [
    {
     "data": {
      "text/html": [
       "<div>\n",
       "<style scoped>\n",
       "    .dataframe tbody tr th:only-of-type {\n",
       "        vertical-align: middle;\n",
       "    }\n",
       "\n",
       "    .dataframe tbody tr th {\n",
       "        vertical-align: top;\n",
       "    }\n",
       "\n",
       "    .dataframe thead th {\n",
       "        text-align: right;\n",
       "    }\n",
       "</style>\n",
       "<table border=\"1\" class=\"dataframe\">\n",
       "  <thead>\n",
       "    <tr style=\"text-align: right;\">\n",
       "      <th></th>\n",
       "      <th>NULOS</th>\n",
       "      <th>% NULOS</th>\n",
       "      <th>VALORES UNICOS</th>\n",
       "    </tr>\n",
       "  </thead>\n",
       "  <tbody>\n",
       "    <tr>\n",
       "      <th>edad</th>\n",
       "      <td>2423</td>\n",
       "      <td>50.030973</td>\n",
       "      <td>25</td>\n",
       "    </tr>\n",
       "  </tbody>\n",
       "</table>\n",
       "</div>"
      ],
      "text/plain": [
       "      NULOS    % NULOS  VALORES UNICOS\n",
       "edad   2423  50.030973              25"
      ]
     },
     "execution_count": 47,
     "metadata": {},
     "output_type": "execute_result"
    }
   ],
   "source": [
    "tabla_nulos(df_bmw).loc[['edad']]"
   ]
  },
  {
   "cell_type": "code",
   "execution_count": null,
   "id": "a44b8c07",
   "metadata": {},
   "outputs": [
    {
     "data": {
      "text/plain": [
       "\"moda_paso_22 = df_bmw.groupby(['modelo', 'potencia'])['edad'].agg(obtener_moda).reset_index()\\nmoda_paso_22 = moda_paso_22.rename(columns={'edad': 'MODA_PASO_22'})\""
      ]
     },
     "execution_count": 48,
     "metadata": {},
     "output_type": "execute_result"
    }
   ],
   "source": [
    "'''moda_paso_22 = df_bmw.groupby(['modelo', 'potencia'])['edad'].agg(obtener_moda).reset_index()\n",
    "moda_paso_22 = moda_paso_22.rename(columns={'edad': 'MODA_PASO_22'})'''"
   ]
  },
  {
   "cell_type": "code",
   "execution_count": null,
   "id": "d0049abe",
   "metadata": {},
   "outputs": [
    {
     "data": {
      "text/plain": [
       "\"df_bmw = df_bmw.merge(moda_paso_22, on=['modelo', 'potencia'], how='left')\\ndf_bmw['edad'] = df_bmw['edad'].fillna(df_bmw['MODA_PASO_22'])\\ndf_bmw.drop(columns=['MODA_PASO_22'], inplace=True)\""
      ]
     },
     "execution_count": 49,
     "metadata": {},
     "output_type": "execute_result"
    }
   ],
   "source": [
    "'''df_bmw = df_bmw.merge(moda_paso_22, on=['modelo', 'potencia'], how='left')\n",
    "df_bmw['edad'] = df_bmw['edad'].fillna(df_bmw['MODA_PASO_22'])\n",
    "df_bmw.drop(columns=['MODA_PASO_22'], inplace=True)'''"
   ]
  },
  {
   "cell_type": "code",
   "execution_count": null,
   "id": "ab7d086d",
   "metadata": {},
   "outputs": [
    {
     "data": {
      "text/html": [
       "<div>\n",
       "<style scoped>\n",
       "    .dataframe tbody tr th:only-of-type {\n",
       "        vertical-align: middle;\n",
       "    }\n",
       "\n",
       "    .dataframe tbody tr th {\n",
       "        vertical-align: top;\n",
       "    }\n",
       "\n",
       "    .dataframe thead th {\n",
       "        text-align: right;\n",
       "    }\n",
       "</style>\n",
       "<table border=\"1\" class=\"dataframe\">\n",
       "  <thead>\n",
       "    <tr style=\"text-align: right;\">\n",
       "      <th></th>\n",
       "      <th>NULOS</th>\n",
       "      <th>% NULOS</th>\n",
       "      <th>VALORES UNICOS</th>\n",
       "    </tr>\n",
       "  </thead>\n",
       "  <tbody>\n",
       "    <tr>\n",
       "      <th>edad</th>\n",
       "      <td>2423</td>\n",
       "      <td>50.030973</td>\n",
       "      <td>25</td>\n",
       "    </tr>\n",
       "  </tbody>\n",
       "</table>\n",
       "</div>"
      ],
      "text/plain": [
       "      NULOS    % NULOS  VALORES UNICOS\n",
       "edad   2423  50.030973              25"
      ]
     },
     "execution_count": 50,
     "metadata": {},
     "output_type": "execute_result"
    }
   ],
   "source": [
    "tabla_nulos(df_bmw).loc[['edad']]"
   ]
  },
  {
   "cell_type": "code",
   "execution_count": null,
   "id": "281e7350",
   "metadata": {},
   "outputs": [
    {
     "data": {
      "text/plain": [
       "\"moda_paso_3 = df_bmw.groupby(['modelo'])['edad'].agg(obtener_moda).reset_index()\\nmoda_paso_3 = moda_paso_3.rename(columns={'edad': 'MODA_PASO_3'})\""
      ]
     },
     "execution_count": 51,
     "metadata": {},
     "output_type": "execute_result"
    }
   ],
   "source": [
    "'''moda_paso_3 = df_bmw.groupby(['modelo'])['edad'].agg(obtener_moda).reset_index()\n",
    "moda_paso_3 = moda_paso_3.rename(columns={'edad': 'MODA_PASO_3'})'''"
   ]
  },
  {
   "cell_type": "code",
   "execution_count": null,
   "id": "840eb1d8",
   "metadata": {},
   "outputs": [
    {
     "data": {
      "text/plain": [
       "\"df_bmw = df_bmw.merge(moda_paso_3, on=['modelo'], how='left')\\ndf_bmw['edad'] = df_bmw['edad'].fillna(df_bmw['MODA_PASO_3'])\\ndf_bmw.drop(columns=['MODA_PASO_3'], inplace=True)\""
      ]
     },
     "execution_count": 52,
     "metadata": {},
     "output_type": "execute_result"
    }
   ],
   "source": [
    "'''df_bmw = df_bmw.merge(moda_paso_3, on=['modelo'], how='left')\n",
    "df_bmw['edad'] = df_bmw['edad'].fillna(df_bmw['MODA_PASO_3'])\n",
    "df_bmw.drop(columns=['MODA_PASO_3'], inplace=True)'''"
   ]
  },
  {
   "cell_type": "code",
   "execution_count": null,
   "id": "2f4965a6",
   "metadata": {},
   "outputs": [
    {
     "data": {
      "text/html": [
       "<div>\n",
       "<style scoped>\n",
       "    .dataframe tbody tr th:only-of-type {\n",
       "        vertical-align: middle;\n",
       "    }\n",
       "\n",
       "    .dataframe tbody tr th {\n",
       "        vertical-align: top;\n",
       "    }\n",
       "\n",
       "    .dataframe thead th {\n",
       "        text-align: right;\n",
       "    }\n",
       "</style>\n",
       "<table border=\"1\" class=\"dataframe\">\n",
       "  <thead>\n",
       "    <tr style=\"text-align: right;\">\n",
       "      <th></th>\n",
       "      <th>NULOS</th>\n",
       "      <th>% NULOS</th>\n",
       "      <th>VALORES UNICOS</th>\n",
       "    </tr>\n",
       "  </thead>\n",
       "  <tbody>\n",
       "    <tr>\n",
       "      <th>edad</th>\n",
       "      <td>2423</td>\n",
       "      <td>50.030973</td>\n",
       "      <td>25</td>\n",
       "    </tr>\n",
       "  </tbody>\n",
       "</table>\n",
       "</div>"
      ],
      "text/plain": [
       "      NULOS    % NULOS  VALORES UNICOS\n",
       "edad   2423  50.030973              25"
      ]
     },
     "execution_count": 53,
     "metadata": {},
     "output_type": "execute_result"
    }
   ],
   "source": [
    "tabla_nulos(df_bmw).loc[['edad']]"
   ]
  },
  {
   "cell_type": "code",
   "execution_count": null,
   "id": "946c474b",
   "metadata": {},
   "outputs": [
    {
     "name": "stdout",
     "output_type": "stream",
     "text": [
      "Aciertos: 0 de 2423 imputaciones\n",
      "Porcentaje de acierto: 0.00%\n"
     ]
    }
   ],
   "source": [
    "# 1. Identificar las filas que originalmente tenían nulos en 'color'\n",
    "nulos_originales = df_bmw['fecha_registro'].isnull()\n",
    "\n",
    "# 2. Filtrar solo esas filas para comparar\n",
    "edad_imputada = df_bmw.loc[nulos_originales, 'edad'] # df donde se han imputado nulos\n",
    "edad_real = df_bmw_original.loc[nulos_originales, 'edad'] # copia del df original sin modificaciones\n",
    "\n",
    "# 3. Calcular aciertos\n",
    "aciertos = (edad_imputada == edad_real).sum()\n",
    "total = nulos_originales.sum()\n",
    "porcentaje_acierto = (aciertos / total) * 100 if total > 0 else None\n",
    "\n",
    "# 4. Mostrar resultados\n",
    "print(f\"Aciertos: {aciertos} de {total} imputaciones\")\n",
    "print(f\"Porcentaje de acierto: {porcentaje_acierto:.2f}%\")"
   ]
  },
  {
   "cell_type": "markdown",
   "id": "345d0a10",
   "metadata": {},
   "source": [
    "### VERSIÓN 2 - 83,37%"
   ]
  },
  {
   "cell_type": "code",
   "execution_count": null,
   "id": "2a0ea903",
   "metadata": {},
   "outputs": [
    {
     "data": {
      "text/html": [
       "<div>\n",
       "<style scoped>\n",
       "    .dataframe tbody tr th:only-of-type {\n",
       "        vertical-align: middle;\n",
       "    }\n",
       "\n",
       "    .dataframe tbody tr th {\n",
       "        vertical-align: top;\n",
       "    }\n",
       "\n",
       "    .dataframe thead th {\n",
       "        text-align: right;\n",
       "    }\n",
       "</style>\n",
       "<table border=\"1\" class=\"dataframe\">\n",
       "  <thead>\n",
       "    <tr style=\"text-align: right;\">\n",
       "      <th></th>\n",
       "      <th>NULOS</th>\n",
       "      <th>% NULOS</th>\n",
       "      <th>VALORES UNICOS</th>\n",
       "    </tr>\n",
       "  </thead>\n",
       "  <tbody>\n",
       "    <tr>\n",
       "      <th>edad</th>\n",
       "      <td>2423</td>\n",
       "      <td>50.030973</td>\n",
       "      <td>25</td>\n",
       "    </tr>\n",
       "  </tbody>\n",
       "</table>\n",
       "</div>"
      ],
      "text/plain": [
       "      NULOS    % NULOS  VALORES UNICOS\n",
       "edad   2423  50.030973              25"
      ]
     },
     "execution_count": 55,
     "metadata": {},
     "output_type": "execute_result"
    }
   ],
   "source": [
    "tabla_nulos(df_bmw).loc[['edad']]"
   ]
  },
  {
   "cell_type": "code",
   "execution_count": null,
   "id": "bf835bf6",
   "metadata": {},
   "outputs": [
    {
     "data": {
      "text/plain": [
       "edad\n",
       " 5.0     757\n",
       " 4.0     635\n",
       " 6.0     435\n",
       " 3.0     162\n",
       " 7.0     116\n",
       " 8.0      51\n",
       " 2.0      46\n",
       " 10.0     43\n",
       " 9.0      39\n",
       " 12.0     29\n",
       " 11.0     29\n",
       " 13.0     28\n",
       " 14.0     10\n",
       " 17.0      8\n",
       " 15.0      8\n",
       " 1.0       5\n",
       " 16.0      4\n",
       " 21.0      4\n",
       " 18.0      3\n",
       " 19.0      3\n",
       "-1.0       1\n",
       "-5.0       1\n",
       " 23.0      1\n",
       " 28.0      1\n",
       " 24.0      1\n",
       "Name: count, dtype: int64"
      ]
     },
     "execution_count": 56,
     "metadata": {},
     "output_type": "execute_result"
    }
   ],
   "source": [
    "df_bmw['edad'].value_counts()"
   ]
  },
  {
   "cell_type": "code",
   "execution_count": null,
   "id": "caf25131",
   "metadata": {},
   "outputs": [],
   "source": [
    "# Definir los rangos de edad y los nuevos valores\n",
    "rangos = [0, 3, 6, 10, 15, 20, 25, 30]\n",
    "nuevos_valores = ['1-3', '4-6', '7-10', '11-15', '16-20', '21-25', '>25']\n",
    "\n",
    "# Aplicar la transformación con pd.cut\n",
    "df_bmw['edad'] = pd.cut(df_bmw['edad'], bins=rangos, labels=nuevos_valores, right=True)\n",
    "df_bmw_original['edad'] = pd.cut(df_bmw_original['edad'], bins=rangos, labels=nuevos_valores, right=True)"
   ]
  },
  {
   "cell_type": "code",
   "execution_count": null,
   "id": "0c847841",
   "metadata": {},
   "outputs": [
    {
     "data": {
      "text/plain": [
       "\"def get_clase_edad_coche(edad):\\n  if pd.isna(edad):\\n    return edad\\n  elif edad in range(1,4):\\n    return '1-3'\\n  elif edad in range(4,7):\\n    return '4-6'\\n  elif edad in range(7,11):\\n    return '7-10'\\n  elif edad in range(11,16):\\n    return '11-15'\\n  elif edad in range(16,21):\\n    return '16-20'\\n  elif edad in range(21,26):\\n    return '21-25'\\n  else:\\n    return '>25\""
      ]
     },
     "execution_count": 58,
     "metadata": {},
     "output_type": "execute_result"
    }
   ],
   "source": [
    "'''def get_clase_edad_coche(edad):\n",
    "  if pd.isna(edad):\n",
    "    return edad\n",
    "  elif edad in range(1,4):\n",
    "    return '1-3'\n",
    "  elif edad in range(4,7):\n",
    "    return '4-6'\n",
    "  elif edad in range(7,11):\n",
    "    return '7-10'\n",
    "  elif edad in range(11,16):\n",
    "    return '11-15'\n",
    "  elif edad in range(16,21):\n",
    "    return '16-20'\n",
    "  elif edad in range(21,26):\n",
    "    return '21-25'\n",
    "  else:\n",
    "    return '>25'''"
   ]
  },
  {
   "cell_type": "code",
   "execution_count": null,
   "id": "9aa846b1",
   "metadata": {},
   "outputs": [
    {
     "data": {
      "text/plain": [
       "\"# redefiniendo edad_coche como la clase de edad del coche\\ndf_bmw['edad'] = df_bmw['edad'].map(get_clase_edad_coche)\\ndf_bmw_original['edad'] = df_bmw_original['edad'].map(get_clase_edad_coche)\""
      ]
     },
     "execution_count": 59,
     "metadata": {},
     "output_type": "execute_result"
    }
   ],
   "source": [
    "'''# redefiniendo edad_coche como la clase de edad del coche\n",
    "df_bmw['edad'] = df_bmw['edad'].map(get_clase_edad_coche)\n",
    "df_bmw_original['edad'] = df_bmw_original['edad'].map(get_clase_edad_coche)'''"
   ]
  },
  {
   "cell_type": "code",
   "execution_count": null,
   "id": "ebb60dbc",
   "metadata": {},
   "outputs": [],
   "source": [
    "# guardemos los valores de la moda para edad_coche en tablas diferentes sugun el nivel de agrupación\n",
    "tabla_moda_edad_coche = df_bmw[~(df_bmw['edad'].isnull())].groupby(['modelo','tipo_coche','potencia'])['edad'].agg([stat.mode])"
   ]
  },
  {
   "cell_type": "code",
   "execution_count": null,
   "id": "b67846f9",
   "metadata": {},
   "outputs": [],
   "source": [
    "tabla_moda_edad_coche_por_modelo_y_tipo_coche = df_bmw[~(df_bmw['edad'].isnull())].groupby(['modelo','tipo_coche'])['edad'].agg([stat.mode])"
   ]
  },
  {
   "cell_type": "code",
   "execution_count": null,
   "id": "c3ccabc9",
   "metadata": {},
   "outputs": [],
   "source": [
    "tabla_moda_edad_coche_por_modelo = df_bmw[~(df_bmw['edad'].isnull())].groupby(['km'])['edad'].agg([stat.mode])"
   ]
  },
  {
   "cell_type": "code",
   "execution_count": null,
   "id": "9a23bdf8",
   "metadata": {},
   "outputs": [],
   "source": [
    "# Reemplazemos los nulos en edad_coche con la moda por modelo, tipo_coche y potencia. Cuando no es posible usemos la moda solo por modelo y tipo_coche. Si tampoco esta existe\n",
    "# usemos la moda por modelo, e si tampoco esta existe le ponemos la moda de edad_coche por el dataset osea '4-6'\n",
    "\n",
    "for i in df_bmw[df_bmw['edad'].isnull()].index:\n",
    "  modelo = df_bmw.loc[i,'modelo']\n",
    "  tipo_coche = df_bmw.loc[i,'tipo_coche']\n",
    "  potencia = df_bmw.loc[i,'potencia']\n",
    " # existe la moda por modelo, tipo_coche y potencia?\n",
    "  if (modelo,tipo_coche,potencia) in tabla_moda_edad_coche.index:\n",
    "    edad = tabla_moda_edad_coche.loc[(modelo,tipo_coche,potencia)].values[0]\n",
    " # si no, existe la moda solo por modelo y tipo_coche?\n",
    "  elif (modelo,tipo_coche) in tabla_moda_edad_coche_por_modelo_y_tipo_coche.index:\n",
    "    edad = tabla_moda_edad_coche_por_modelo_y_tipo_coche.loc[(modelo,tipo_coche)].values[0]\n",
    " # si no, existe la moda solo por modelo?\n",
    "  elif (modelo) in tabla_moda_edad_coche_por_modelo.index:\n",
    "    edad = tabla_moda_edad_coche_por_modelo.loc[(modelo)].values[0]\n",
    "  else:\n",
    "    edad = df_bmw['edad'].mode().values[0]\n",
    "  df_bmw.loc[i,'edad'] = edad"
   ]
  },
  {
   "cell_type": "code",
   "execution_count": null,
   "id": "9fad5309",
   "metadata": {},
   "outputs": [
    {
     "name": "stdout",
     "output_type": "stream",
     "text": [
      "Aciertos: 2015 de 2423 imputaciones\n",
      "Porcentaje de acierto: 83.16%\n"
     ]
    }
   ],
   "source": [
    "# 1. Identificar las filas que originalmente tenían nulos en 'color'\n",
    "nulos_originales = df_bmw['fecha_registro'].isnull()\n",
    "\n",
    "# 2. Filtrar solo esas filas para comparar\n",
    "edad_imputada = df_bmw.loc[nulos_originales, 'edad'] # df donde se han imputado nulos\n",
    "edad_real = df_bmw_original.loc[nulos_originales, 'edad'] # copia del df original sin modificaciones\n",
    "\n",
    "# 3. Calcular aciertos\n",
    "aciertos = (edad_imputada == edad_real).sum()\n",
    "total = nulos_originales.sum()\n",
    "porcentaje_acierto = (aciertos / total) * 100 if total > 0 else None\n",
    "\n",
    "# 4. Mostrar resultados\n",
    "print(f\"Aciertos: {aciertos} de {total} imputaciones\")\n",
    "print(f\"Porcentaje de acierto: {porcentaje_acierto:.2f}%\")"
   ]
  },
  {
   "cell_type": "code",
   "execution_count": null,
   "id": "0e557e11",
   "metadata": {},
   "outputs": [
    {
     "data": {
      "text/html": [
       "<div>\n",
       "<style scoped>\n",
       "    .dataframe tbody tr th:only-of-type {\n",
       "        vertical-align: middle;\n",
       "    }\n",
       "\n",
       "    .dataframe tbody tr th {\n",
       "        vertical-align: top;\n",
       "    }\n",
       "\n",
       "    .dataframe thead th {\n",
       "        text-align: right;\n",
       "    }\n",
       "</style>\n",
       "<table border=\"1\" class=\"dataframe\">\n",
       "  <thead>\n",
       "    <tr style=\"text-align: right;\">\n",
       "      <th></th>\n",
       "      <th>modelo</th>\n",
       "      <th>edad_bmw</th>\n",
       "      <th>edad_original</th>\n",
       "    </tr>\n",
       "  </thead>\n",
       "  <tbody>\n",
       "    <tr>\n",
       "      <th>0</th>\n",
       "      <td>118</td>\n",
       "      <td>4-6</td>\n",
       "      <td>4-6</td>\n",
       "    </tr>\n",
       "    <tr>\n",
       "      <th>1</th>\n",
       "      <td>M4</td>\n",
       "      <td>1-3</td>\n",
       "      <td>1-3</td>\n",
       "    </tr>\n",
       "    <tr>\n",
       "      <th>2</th>\n",
       "      <td>320</td>\n",
       "      <td>4-6</td>\n",
       "      <td>4-6</td>\n",
       "    </tr>\n",
       "    <tr>\n",
       "      <th>3</th>\n",
       "      <td>420</td>\n",
       "      <td>4-6</td>\n",
       "      <td>4-6</td>\n",
       "    </tr>\n",
       "    <tr>\n",
       "      <th>4</th>\n",
       "      <td>425</td>\n",
       "      <td>4-6</td>\n",
       "      <td>4-6</td>\n",
       "    </tr>\n",
       "    <tr>\n",
       "      <th>5</th>\n",
       "      <td>335</td>\n",
       "      <td>7-10</td>\n",
       "      <td>7-10</td>\n",
       "    </tr>\n",
       "    <tr>\n",
       "      <th>6</th>\n",
       "      <td>325</td>\n",
       "      <td>7-10</td>\n",
       "      <td>7-10</td>\n",
       "    </tr>\n",
       "    <tr>\n",
       "      <th>7</th>\n",
       "      <td>118</td>\n",
       "      <td>7-10</td>\n",
       "      <td>7-10</td>\n",
       "    </tr>\n",
       "    <tr>\n",
       "      <th>8</th>\n",
       "      <td>Z4</td>\n",
       "      <td>11-15</td>\n",
       "      <td>11-15</td>\n",
       "    </tr>\n",
       "    <tr>\n",
       "      <th>9</th>\n",
       "      <td>320</td>\n",
       "      <td>7-10</td>\n",
       "      <td>4-6</td>\n",
       "    </tr>\n",
       "    <tr>\n",
       "      <th>10</th>\n",
       "      <td>320</td>\n",
       "      <td>7-10</td>\n",
       "      <td>4-6</td>\n",
       "    </tr>\n",
       "    <tr>\n",
       "      <th>11</th>\n",
       "      <td>325</td>\n",
       "      <td>7-10</td>\n",
       "      <td>7-10</td>\n",
       "    </tr>\n",
       "    <tr>\n",
       "      <th>12</th>\n",
       "      <td>420</td>\n",
       "      <td>4-6</td>\n",
       "      <td>4-6</td>\n",
       "    </tr>\n",
       "    <tr>\n",
       "      <th>13</th>\n",
       "      <td>420</td>\n",
       "      <td>1-3</td>\n",
       "      <td>1-3</td>\n",
       "    </tr>\n",
       "    <tr>\n",
       "      <th>14</th>\n",
       "      <td>120</td>\n",
       "      <td>7-10</td>\n",
       "      <td>7-10</td>\n",
       "    </tr>\n",
       "  </tbody>\n",
       "</table>\n",
       "</div>"
      ],
      "text/plain": [
       "   modelo edad_bmw edad_original\n",
       "0     118      4-6           4-6\n",
       "1      M4      1-3           1-3\n",
       "2     320      4-6           4-6\n",
       "3     420      4-6           4-6\n",
       "4     425      4-6           4-6\n",
       "5     335     7-10          7-10\n",
       "6     325     7-10          7-10\n",
       "7     118     7-10          7-10\n",
       "8      Z4    11-15         11-15\n",
       "9     320     7-10           4-6\n",
       "10    320     7-10           4-6\n",
       "11    325     7-10          7-10\n",
       "12    420      4-6           4-6\n",
       "13    420      1-3           1-3\n",
       "14    120     7-10          7-10"
      ]
     },
     "execution_count": 65,
     "metadata": {},
     "output_type": "execute_result"
    }
   ],
   "source": [
    "df_comparacion = pd.DataFrame({\n",
    "    'modelo': df_bmw['modelo'],\n",
    "    'edad_bmw': df_bmw['edad'],\n",
    "    'edad_original': df_bmw_original['edad']\n",
    "})\n",
    "\n",
    "df_comparacion.head(15)"
   ]
  },
  {
   "cell_type": "markdown",
   "id": "863a2e9b",
   "metadata": {},
   "source": [
    "### VERSIÓN 3 - 80%"
   ]
  },
  {
   "cell_type": "code",
   "execution_count": null,
   "id": "9b18f614",
   "metadata": {},
   "outputs": [],
   "source": [
    "df_bmw_original = df_bmw_original1.copy()\n",
    "df_bmw = df_bmw1.copy()"
   ]
  },
  {
   "cell_type": "code",
   "execution_count": null,
   "id": "c6fb4007",
   "metadata": {},
   "outputs": [],
   "source": [
    "df_antes = df_bmw.copy()"
   ]
  },
  {
   "cell_type": "code",
   "execution_count": null,
   "id": "4771e7f3",
   "metadata": {},
   "outputs": [
    {
     "data": {
      "text/plain": [
       "edad\n",
       " 5.0     757\n",
       " 4.0     635\n",
       " 6.0     435\n",
       " 3.0     162\n",
       " 7.0     116\n",
       " 8.0      51\n",
       " 2.0      46\n",
       " 10.0     43\n",
       " 9.0      39\n",
       " 12.0     29\n",
       " 11.0     29\n",
       " 13.0     28\n",
       " 14.0     10\n",
       " 17.0      8\n",
       " 15.0      8\n",
       " 1.0       5\n",
       " 16.0      4\n",
       " 21.0      4\n",
       " 18.0      3\n",
       " 19.0      3\n",
       "-1.0       1\n",
       "-5.0       1\n",
       " 23.0      1\n",
       " 28.0      1\n",
       " 24.0      1\n",
       "Name: count, dtype: int64"
      ]
     },
     "execution_count": 68,
     "metadata": {},
     "output_type": "execute_result"
    }
   ],
   "source": [
    "df_bmw['edad'].value_counts()"
   ]
  },
  {
   "cell_type": "code",
   "execution_count": null,
   "id": "3c5cfab2",
   "metadata": {},
   "outputs": [],
   "source": [
    "# BORRAR NEGATIVOS"
   ]
  },
  {
   "cell_type": "code",
   "execution_count": null,
   "id": "a1a0f620",
   "metadata": {},
   "outputs": [],
   "source": [
    "moda_paso_1 = df_bmw.groupby(['modelo', 'potencia', 'tipo_coche', 'bluetooth'])['edad'].agg(obtener_moda).reset_index()\n",
    "moda_paso_1 = moda_paso_1.rename(columns={'edad': 'MODA_PASO_1'})"
   ]
  },
  {
   "cell_type": "code",
   "execution_count": null,
   "id": "d3825b55",
   "metadata": {},
   "outputs": [],
   "source": [
    "df_bmw = df_bmw.merge(moda_paso_1, on=['modelo', 'potencia', 'tipo_coche','bluetooth'], how='left')\n",
    "df_bmw['edad'] = df_bmw['edad'].fillna(df_bmw['MODA_PASO_1'])\n",
    "df_bmw.drop(columns=['MODA_PASO_1'], inplace=True)"
   ]
  },
  {
   "cell_type": "code",
   "execution_count": null,
   "id": "8b5741d6",
   "metadata": {},
   "outputs": [
    {
     "data": {
      "text/html": [
       "<div>\n",
       "<style scoped>\n",
       "    .dataframe tbody tr th:only-of-type {\n",
       "        vertical-align: middle;\n",
       "    }\n",
       "\n",
       "    .dataframe tbody tr th {\n",
       "        vertical-align: top;\n",
       "    }\n",
       "\n",
       "    .dataframe thead th {\n",
       "        text-align: right;\n",
       "    }\n",
       "</style>\n",
       "<table border=\"1\" class=\"dataframe\">\n",
       "  <thead>\n",
       "    <tr style=\"text-align: right;\">\n",
       "      <th></th>\n",
       "      <th>NULOS</th>\n",
       "      <th>% NULOS</th>\n",
       "      <th>VALORES UNICOS</th>\n",
       "    </tr>\n",
       "  </thead>\n",
       "  <tbody>\n",
       "    <tr>\n",
       "      <th>edad</th>\n",
       "      <td>532</td>\n",
       "      <td>10.984927</td>\n",
       "      <td>25</td>\n",
       "    </tr>\n",
       "  </tbody>\n",
       "</table>\n",
       "</div>"
      ],
      "text/plain": [
       "      NULOS    % NULOS  VALORES UNICOS\n",
       "edad    532  10.984927              25"
      ]
     },
     "execution_count": 72,
     "metadata": {},
     "output_type": "execute_result"
    }
   ],
   "source": [
    "tabla_nulos(df_bmw).loc[['edad']]"
   ]
  },
  {
   "cell_type": "code",
   "execution_count": null,
   "id": "2dc7b212",
   "metadata": {},
   "outputs": [],
   "source": [
    "moda_paso_2 = df_bmw.groupby(['modelo', 'tipo_coche'])['edad'].agg(obtener_moda).reset_index()\n",
    "moda_paso_2 = moda_paso_2.rename(columns={'edad': 'MODA_PASO_2'})"
   ]
  },
  {
   "cell_type": "code",
   "execution_count": null,
   "id": "808814f5",
   "metadata": {},
   "outputs": [],
   "source": [
    "df_bmw = df_bmw.merge(moda_paso_2, on=['modelo', 'tipo_coche'], how='left')\n",
    "df_bmw['edad'] = df_bmw['edad'].fillna(df_bmw['MODA_PASO_2'])\n",
    "df_bmw.drop(columns=['MODA_PASO_2'], inplace=True)"
   ]
  },
  {
   "cell_type": "code",
   "execution_count": null,
   "id": "6fe5ddc8",
   "metadata": {},
   "outputs": [
    {
     "data": {
      "text/html": [
       "<div>\n",
       "<style scoped>\n",
       "    .dataframe tbody tr th:only-of-type {\n",
       "        vertical-align: middle;\n",
       "    }\n",
       "\n",
       "    .dataframe tbody tr th {\n",
       "        vertical-align: top;\n",
       "    }\n",
       "\n",
       "    .dataframe thead th {\n",
       "        text-align: right;\n",
       "    }\n",
       "</style>\n",
       "<table border=\"1\" class=\"dataframe\">\n",
       "  <thead>\n",
       "    <tr style=\"text-align: right;\">\n",
       "      <th></th>\n",
       "      <th>NULOS</th>\n",
       "      <th>% NULOS</th>\n",
       "      <th>VALORES UNICOS</th>\n",
       "    </tr>\n",
       "  </thead>\n",
       "  <tbody>\n",
       "    <tr>\n",
       "      <th>edad</th>\n",
       "      <td>42</td>\n",
       "      <td>0.867231</td>\n",
       "      <td>25</td>\n",
       "    </tr>\n",
       "  </tbody>\n",
       "</table>\n",
       "</div>"
      ],
      "text/plain": [
       "      NULOS   % NULOS  VALORES UNICOS\n",
       "edad     42  0.867231              25"
      ]
     },
     "execution_count": 75,
     "metadata": {},
     "output_type": "execute_result"
    }
   ],
   "source": [
    "tabla_nulos(df_bmw).loc[['edad']]"
   ]
  },
  {
   "cell_type": "code",
   "execution_count": null,
   "id": "d41e196e",
   "metadata": {},
   "outputs": [],
   "source": [
    "moda_paso_3 = df_bmw.groupby(['modelo'])['edad'].agg(obtener_moda).reset_index()\n",
    "moda_paso_3 = moda_paso_3.rename(columns={'edad': 'MODA_PASO_3'})"
   ]
  },
  {
   "cell_type": "code",
   "execution_count": null,
   "id": "0e424f3c",
   "metadata": {},
   "outputs": [],
   "source": [
    "df_bmw = df_bmw.merge(moda_paso_3, on=['modelo'], how='left')\n",
    "df_bmw['edad'] = df_bmw['edad'].fillna(df_bmw['MODA_PASO_3'])\n",
    "df_bmw.drop(columns=['MODA_PASO_3'], inplace=True)"
   ]
  },
  {
   "cell_type": "code",
   "execution_count": null,
   "id": "576d4949",
   "metadata": {},
   "outputs": [
    {
     "data": {
      "text/html": [
       "<div>\n",
       "<style scoped>\n",
       "    .dataframe tbody tr th:only-of-type {\n",
       "        vertical-align: middle;\n",
       "    }\n",
       "\n",
       "    .dataframe tbody tr th {\n",
       "        vertical-align: top;\n",
       "    }\n",
       "\n",
       "    .dataframe thead th {\n",
       "        text-align: right;\n",
       "    }\n",
       "</style>\n",
       "<table border=\"1\" class=\"dataframe\">\n",
       "  <thead>\n",
       "    <tr style=\"text-align: right;\">\n",
       "      <th></th>\n",
       "      <th>NULOS</th>\n",
       "      <th>% NULOS</th>\n",
       "      <th>VALORES UNICOS</th>\n",
       "    </tr>\n",
       "  </thead>\n",
       "  <tbody>\n",
       "    <tr>\n",
       "      <th>edad</th>\n",
       "      <td>20</td>\n",
       "      <td>0.412967</td>\n",
       "      <td>25</td>\n",
       "    </tr>\n",
       "  </tbody>\n",
       "</table>\n",
       "</div>"
      ],
      "text/plain": [
       "      NULOS   % NULOS  VALORES UNICOS\n",
       "edad     20  0.412967              25"
      ]
     },
     "execution_count": 78,
     "metadata": {},
     "output_type": "execute_result"
    }
   ],
   "source": [
    "tabla_nulos(df_bmw).loc[['edad']]"
   ]
  },
  {
   "cell_type": "code",
   "execution_count": null,
   "id": "49e16a53",
   "metadata": {},
   "outputs": [],
   "source": [
    "moda_paso_4 = df_bmw.groupby(['tipo_coche'])['edad'].agg(obtener_moda).reset_index()\n",
    "moda_paso_4 = moda_paso_4.rename(columns={'edad': 'MODA_PASO_4'})"
   ]
  },
  {
   "cell_type": "code",
   "execution_count": null,
   "id": "47e3085b",
   "metadata": {},
   "outputs": [],
   "source": [
    "df_bmw = df_bmw.merge(moda_paso_4, on=['tipo_coche'], how='left')\n",
    "df_bmw['edad'] = df_bmw['edad'].fillna(df_bmw['MODA_PASO_4'])\n",
    "df_bmw.drop(columns=['MODA_PASO_4'], inplace=True)"
   ]
  },
  {
   "cell_type": "code",
   "execution_count": null,
   "id": "2809a712",
   "metadata": {},
   "outputs": [
    {
     "data": {
      "text/html": [
       "<div>\n",
       "<style scoped>\n",
       "    .dataframe tbody tr th:only-of-type {\n",
       "        vertical-align: middle;\n",
       "    }\n",
       "\n",
       "    .dataframe tbody tr th {\n",
       "        vertical-align: top;\n",
       "    }\n",
       "\n",
       "    .dataframe thead th {\n",
       "        text-align: right;\n",
       "    }\n",
       "</style>\n",
       "<table border=\"1\" class=\"dataframe\">\n",
       "  <thead>\n",
       "    <tr style=\"text-align: right;\">\n",
       "      <th></th>\n",
       "      <th>NULOS</th>\n",
       "      <th>% NULOS</th>\n",
       "      <th>VALORES UNICOS</th>\n",
       "    </tr>\n",
       "  </thead>\n",
       "  <tbody>\n",
       "    <tr>\n",
       "      <th>edad</th>\n",
       "      <td>2</td>\n",
       "      <td>0.041297</td>\n",
       "      <td>25</td>\n",
       "    </tr>\n",
       "  </tbody>\n",
       "</table>\n",
       "</div>"
      ],
      "text/plain": [
       "      NULOS   % NULOS  VALORES UNICOS\n",
       "edad      2  0.041297              25"
      ]
     },
     "execution_count": 81,
     "metadata": {},
     "output_type": "execute_result"
    }
   ],
   "source": [
    "tabla_nulos(df_bmw).loc[['edad']]"
   ]
  },
  {
   "cell_type": "code",
   "execution_count": null,
   "id": "d59898be",
   "metadata": {},
   "outputs": [],
   "source": [
    "# Definir los rangos de edad y los nuevos valores\n",
    "rangos = [0, 3, 6, 10, 15, 20, 25, 30]\n",
    "nuevos_valores = ['1-3', '4-6', '7-10', '11-15', '16-20', '21-25', '>25']\n",
    "\n",
    "# Aplicar la transformación con pd.cut\n",
    "df_bmw['edad'] = pd.cut(df_bmw['edad'], bins=rangos, labels=nuevos_valores, right=True)\n",
    "df_bmw_original['edad'] = pd.cut(df_bmw_original['edad'], bins=rangos, labels=nuevos_valores, right=True)"
   ]
  },
  {
   "cell_type": "code",
   "execution_count": null,
   "id": "91520eb2",
   "metadata": {},
   "outputs": [
    {
     "name": "stdout",
     "output_type": "stream",
     "text": [
      "Aciertos: 1944 de 2423 imputaciones\n",
      "Porcentaje de acierto: 80.23%\n"
     ]
    }
   ],
   "source": [
    "# 1. Identificar las filas que originalmente tenían nulos en 'color'\n",
    "nulos_originales = df_bmw['fecha_registro'].isnull()\n",
    "\n",
    "# 2. Filtrar solo esas filas para comparar\n",
    "edad_imputada = df_bmw.loc[nulos_originales, 'edad'] # df donde se han imputado nulos\n",
    "edad_real = df_bmw_original.loc[nulos_originales, 'edad'] # copia del df original sin modificaciones\n",
    "\n",
    "# 3. Calcular aciertos\n",
    "aciertos = (edad_imputada == edad_real).sum()\n",
    "total = nulos_originales.sum()\n",
    "porcentaje_acierto = (aciertos / total) * 100 if total > 0 else None\n",
    "\n",
    "# 4. Mostrar resultados\n",
    "print(f\"Aciertos: {aciertos} de {total} imputaciones\")\n",
    "print(f\"Porcentaje de acierto: {porcentaje_acierto:.2f}%\")"
   ]
  },
  {
   "cell_type": "markdown",
   "id": "85d8e78b",
   "metadata": {},
   "source": [
    "### VERSIÓN 4 "
   ]
  },
  {
   "cell_type": "code",
   "execution_count": null,
   "id": "743754fc",
   "metadata": {},
   "outputs": [],
   "source": [
    "df_bmw_original = df_bmw_original1.copy()\n",
    "df_bmw = df_bmw1.copy()"
   ]
  },
  {
   "cell_type": "code",
   "execution_count": null,
   "id": "a0d26fbf",
   "metadata": {},
   "outputs": [],
   "source": [
    "df_antes = df_bmw.copy()"
   ]
  },
  {
   "cell_type": "code",
   "execution_count": null,
   "id": "a7789e1a",
   "metadata": {},
   "outputs": [
    {
     "data": {
      "text/html": [
       "<div>\n",
       "<style scoped>\n",
       "    .dataframe tbody tr th:only-of-type {\n",
       "        vertical-align: middle;\n",
       "    }\n",
       "\n",
       "    .dataframe tbody tr th {\n",
       "        vertical-align: top;\n",
       "    }\n",
       "\n",
       "    .dataframe thead th {\n",
       "        text-align: right;\n",
       "    }\n",
       "</style>\n",
       "<table border=\"1\" class=\"dataframe\">\n",
       "  <thead>\n",
       "    <tr style=\"text-align: right;\">\n",
       "      <th></th>\n",
       "      <th>NULOS</th>\n",
       "      <th>% NULOS</th>\n",
       "      <th>VALORES UNICOS</th>\n",
       "    </tr>\n",
       "  </thead>\n",
       "  <tbody>\n",
       "    <tr>\n",
       "      <th>edad</th>\n",
       "      <td>2423</td>\n",
       "      <td>50.030973</td>\n",
       "      <td>25</td>\n",
       "    </tr>\n",
       "  </tbody>\n",
       "</table>\n",
       "</div>"
      ],
      "text/plain": [
       "      NULOS    % NULOS  VALORES UNICOS\n",
       "edad   2423  50.030973              25"
      ]
     },
     "execution_count": 86,
     "metadata": {},
     "output_type": "execute_result"
    }
   ],
   "source": [
    "tabla_nulos(df_bmw).loc[['edad']]"
   ]
  },
  {
   "cell_type": "code",
   "execution_count": null,
   "id": "efaa6710",
   "metadata": {},
   "outputs": [
    {
     "data": {
      "text/plain": [
       "edad\n",
       " 5.0     757\n",
       " 4.0     635\n",
       " 6.0     435\n",
       " 3.0     162\n",
       " 7.0     116\n",
       " 8.0      51\n",
       " 2.0      46\n",
       " 10.0     43\n",
       " 9.0      39\n",
       " 12.0     29\n",
       " 11.0     29\n",
       " 13.0     28\n",
       " 14.0     10\n",
       " 17.0      8\n",
       " 15.0      8\n",
       " 1.0       5\n",
       " 16.0      4\n",
       " 21.0      4\n",
       " 18.0      3\n",
       " 19.0      3\n",
       "-1.0       1\n",
       "-5.0       1\n",
       " 23.0      1\n",
       " 28.0      1\n",
       " 24.0      1\n",
       "Name: count, dtype: int64"
      ]
     },
     "execution_count": 87,
     "metadata": {},
     "output_type": "execute_result"
    }
   ],
   "source": [
    "df_bmw['edad'].value_counts()"
   ]
  },
  {
   "cell_type": "code",
   "execution_count": null,
   "id": "f5370749",
   "metadata": {},
   "outputs": [],
   "source": [
    "# Definir los rangos de edad y los nuevos valores\n",
    "rangos = [0, 3, 6, 10, 15, 20, 25, 30]\n",
    "nuevos_valores = ['1-3', '4-6', '7-10', '11-15', '16-20', '21-25', '>25']\n",
    "\n",
    "# Aplicar la transformación con pd.cut\n",
    "df_bmw['edad'] = pd.cut(df_bmw['edad'], bins=rangos, labels=nuevos_valores, right=True)\n",
    "df_bmw_original['edad'] = pd.cut(df_bmw_original['edad'], bins=rangos, labels=nuevos_valores, right=True)"
   ]
  },
  {
   "cell_type": "code",
   "execution_count": null,
   "id": "54faaa04",
   "metadata": {},
   "outputs": [
    {
     "data": {
      "text/plain": [
       "\"def get_clase_edad_coche(edad):\\n  if pd.isna(edad):\\n    return edad\\n  elif edad in range(1,4):\\n    return '1-3'\\n  elif edad in range(4,7):\\n    return '4-6'\\n  elif edad in range(7,11):\\n    return '7-10'\\n  elif edad in range(11,16):\\n    return '11-15'\\n  elif edad in range(16,21):\\n    return '16-20'\\n  elif edad in range(21,26):\\n    return '21-25'\\n  else:\\n    return '>25\""
      ]
     },
     "execution_count": 89,
     "metadata": {},
     "output_type": "execute_result"
    }
   ],
   "source": [
    "'''def get_clase_edad_coche(edad):\n",
    "  if pd.isna(edad):\n",
    "    return edad\n",
    "  elif edad in range(1,4):\n",
    "    return '1-3'\n",
    "  elif edad in range(4,7):\n",
    "    return '4-6'\n",
    "  elif edad in range(7,11):\n",
    "    return '7-10'\n",
    "  elif edad in range(11,16):\n",
    "    return '11-15'\n",
    "  elif edad in range(16,21):\n",
    "    return '16-20'\n",
    "  elif edad in range(21,26):\n",
    "    return '21-25'\n",
    "  else:\n",
    "    return '>25'''"
   ]
  },
  {
   "cell_type": "code",
   "execution_count": null,
   "id": "02433aaa",
   "metadata": {},
   "outputs": [
    {
     "data": {
      "text/plain": [
       "\"# redefiniendo edad_coche como la clase de edad del coche\\ndf_bmw['edad'] = df_bmw['edad'].map(get_clase_edad_coche)\\ndf_bmw_original['edad'] = df_bmw_original['edad'].map(get_clase_edad_coche)\""
      ]
     },
     "execution_count": 90,
     "metadata": {},
     "output_type": "execute_result"
    }
   ],
   "source": [
    "'''# redefiniendo edad_coche como la clase de edad del coche\n",
    "df_bmw['edad'] = df_bmw['edad'].map(get_clase_edad_coche)\n",
    "df_bmw_original['edad'] = df_bmw_original['edad'].map(get_clase_edad_coche)'''"
   ]
  },
  {
   "cell_type": "code",
   "execution_count": null,
   "id": "99e5bf50",
   "metadata": {},
   "outputs": [],
   "source": [
    "# guardemos los valores de la moda para edad_coche en tablas diferentes sugun el nivel de agrupación\n",
    "tabla_moda_edad_coche = df_bmw[~(df_bmw['edad'].isnull())].groupby(['modelo','tipo_coche','potencia'])['edad'].agg([stat.mode])"
   ]
  },
  {
   "cell_type": "code",
   "execution_count": null,
   "id": "0ee00c83",
   "metadata": {},
   "outputs": [],
   "source": [
    "tabla_moda_edad_coche_por_modelo_y_tipo_coche = df_bmw[~(df_bmw['edad'].isnull())].groupby(['modelo','tipo_coche'])['edad'].agg([stat.mode])"
   ]
  },
  {
   "cell_type": "code",
   "execution_count": null,
   "id": "2fa4b780",
   "metadata": {},
   "outputs": [],
   "source": [
    "tabla_moda_edad_coche_por_modelo = df_bmw[~(df_bmw['edad'].isnull())].groupby(['km'])['edad'].agg([stat.mode])"
   ]
  },
  {
   "cell_type": "code",
   "execution_count": null,
   "id": "f63b873d",
   "metadata": {},
   "outputs": [],
   "source": [
    "# Reemplazemos los nulos en edad_coche con la moda por modelo, tipo_coche y potencia. Cuando no es posible usemos la moda solo por modelo y tipo_coche. Si tampoco esta existe\n",
    "# usemos la moda por modelo, e si tampoco esta existe le ponemos la moda de edad_coche por el dataset osea '4-6'\n",
    "\n",
    "for i in df_bmw[df_bmw['edad'].isnull()].index:\n",
    "  modelo = df_bmw.loc[i,'modelo']\n",
    "  tipo_coche = df_bmw.loc[i,'tipo_coche']\n",
    "  potencia = df_bmw.loc[i,'potencia']\n",
    " # existe la moda por modelo, tipo_coche y potencia?\n",
    "  if (modelo,tipo_coche,potencia) in tabla_moda_edad_coche.index:\n",
    "    edad = tabla_moda_edad_coche.loc[(modelo,tipo_coche,potencia)].values[0]\n",
    " # si no, existe la moda solo por modelo y tipo_coche?\n",
    "  elif (modelo,tipo_coche) in tabla_moda_edad_coche_por_modelo_y_tipo_coche.index:\n",
    "    edad = tabla_moda_edad_coche_por_modelo_y_tipo_coche.loc[(modelo,tipo_coche)].values[0]\n",
    " # si no, existe la moda solo por modelo?\n",
    "  elif (modelo) in tabla_moda_edad_coche_por_modelo.index:\n",
    "    edad = tabla_moda_edad_coche_por_modelo.loc[(modelo)].values[0]\n",
    "  else:\n",
    "    edad = df_bmw['edad'].mode().values[0]\n",
    "  df_bmw.loc[i,'edad'] = edad"
   ]
  },
  {
   "cell_type": "code",
   "execution_count": null,
   "id": "f54eb2a0",
   "metadata": {},
   "outputs": [
    {
     "name": "stdout",
     "output_type": "stream",
     "text": [
      "Aciertos: 2015 de 2423 imputaciones\n",
      "Porcentaje de acierto: 83.16%\n"
     ]
    }
   ],
   "source": [
    "# 1. Identificar las filas que originalmente tenían nulos en 'color'\n",
    "nulos_originales = df_bmw['fecha_registro'].isnull()\n",
    "\n",
    "# 2. Filtrar solo esas filas para comparar\n",
    "edad_imputada = df_bmw.loc[nulos_originales, 'edad'] # df donde se han imputado nulos\n",
    "edad_real = df_bmw_original.loc[nulos_originales, 'edad'] # copia del df original sin modificaciones\n",
    "\n",
    "# 3. Calcular aciertos\n",
    "aciertos = (edad_imputada == edad_real).sum()\n",
    "total = nulos_originales.sum()\n",
    "porcentaje_acierto = (aciertos / total) * 100 if total > 0 else None\n",
    "\n",
    "# 4. Mostrar resultados\n",
    "print(f\"Aciertos: {aciertos} de {total} imputaciones\")\n",
    "print(f\"Porcentaje de acierto: {porcentaje_acierto:.2f}%\")"
   ]
  },
  {
   "cell_type": "code",
   "execution_count": null,
   "id": "7fd4fd9b",
   "metadata": {},
   "outputs": [
    {
     "data": {
      "text/html": [
       "<div>\n",
       "<style scoped>\n",
       "    .dataframe tbody tr th:only-of-type {\n",
       "        vertical-align: middle;\n",
       "    }\n",
       "\n",
       "    .dataframe tbody tr th {\n",
       "        vertical-align: top;\n",
       "    }\n",
       "\n",
       "    .dataframe thead th {\n",
       "        text-align: right;\n",
       "    }\n",
       "</style>\n",
       "<table border=\"1\" class=\"dataframe\">\n",
       "  <thead>\n",
       "    <tr style=\"text-align: right;\">\n",
       "      <th></th>\n",
       "      <th>modelo</th>\n",
       "      <th>edad_bmw</th>\n",
       "      <th>edad_original</th>\n",
       "    </tr>\n",
       "  </thead>\n",
       "  <tbody>\n",
       "    <tr>\n",
       "      <th>0</th>\n",
       "      <td>118</td>\n",
       "      <td>4-6</td>\n",
       "      <td>4-6</td>\n",
       "    </tr>\n",
       "    <tr>\n",
       "      <th>1</th>\n",
       "      <td>M4</td>\n",
       "      <td>1-3</td>\n",
       "      <td>1-3</td>\n",
       "    </tr>\n",
       "    <tr>\n",
       "      <th>2</th>\n",
       "      <td>320</td>\n",
       "      <td>4-6</td>\n",
       "      <td>4-6</td>\n",
       "    </tr>\n",
       "    <tr>\n",
       "      <th>3</th>\n",
       "      <td>420</td>\n",
       "      <td>4-6</td>\n",
       "      <td>4-6</td>\n",
       "    </tr>\n",
       "    <tr>\n",
       "      <th>4</th>\n",
       "      <td>425</td>\n",
       "      <td>4-6</td>\n",
       "      <td>4-6</td>\n",
       "    </tr>\n",
       "    <tr>\n",
       "      <th>5</th>\n",
       "      <td>335</td>\n",
       "      <td>7-10</td>\n",
       "      <td>7-10</td>\n",
       "    </tr>\n",
       "    <tr>\n",
       "      <th>6</th>\n",
       "      <td>325</td>\n",
       "      <td>7-10</td>\n",
       "      <td>7-10</td>\n",
       "    </tr>\n",
       "    <tr>\n",
       "      <th>7</th>\n",
       "      <td>118</td>\n",
       "      <td>7-10</td>\n",
       "      <td>7-10</td>\n",
       "    </tr>\n",
       "    <tr>\n",
       "      <th>8</th>\n",
       "      <td>Z4</td>\n",
       "      <td>11-15</td>\n",
       "      <td>11-15</td>\n",
       "    </tr>\n",
       "    <tr>\n",
       "      <th>9</th>\n",
       "      <td>320</td>\n",
       "      <td>7-10</td>\n",
       "      <td>4-6</td>\n",
       "    </tr>\n",
       "    <tr>\n",
       "      <th>10</th>\n",
       "      <td>320</td>\n",
       "      <td>7-10</td>\n",
       "      <td>4-6</td>\n",
       "    </tr>\n",
       "    <tr>\n",
       "      <th>11</th>\n",
       "      <td>325</td>\n",
       "      <td>7-10</td>\n",
       "      <td>7-10</td>\n",
       "    </tr>\n",
       "    <tr>\n",
       "      <th>12</th>\n",
       "      <td>420</td>\n",
       "      <td>4-6</td>\n",
       "      <td>4-6</td>\n",
       "    </tr>\n",
       "    <tr>\n",
       "      <th>13</th>\n",
       "      <td>420</td>\n",
       "      <td>1-3</td>\n",
       "      <td>1-3</td>\n",
       "    </tr>\n",
       "    <tr>\n",
       "      <th>14</th>\n",
       "      <td>120</td>\n",
       "      <td>7-10</td>\n",
       "      <td>7-10</td>\n",
       "    </tr>\n",
       "  </tbody>\n",
       "</table>\n",
       "</div>"
      ],
      "text/plain": [
       "   modelo edad_bmw edad_original\n",
       "0     118      4-6           4-6\n",
       "1      M4      1-3           1-3\n",
       "2     320      4-6           4-6\n",
       "3     420      4-6           4-6\n",
       "4     425      4-6           4-6\n",
       "5     335     7-10          7-10\n",
       "6     325     7-10          7-10\n",
       "7     118     7-10          7-10\n",
       "8      Z4    11-15         11-15\n",
       "9     320     7-10           4-6\n",
       "10    320     7-10           4-6\n",
       "11    325     7-10          7-10\n",
       "12    420      4-6           4-6\n",
       "13    420      1-3           1-3\n",
       "14    120     7-10          7-10"
      ]
     },
     "execution_count": 96,
     "metadata": {},
     "output_type": "execute_result"
    }
   ],
   "source": [
    "df_comparacion = pd.DataFrame({\n",
    "    'modelo': df_bmw['modelo'],\n",
    "    'edad_bmw': df_bmw['edad'],\n",
    "    'edad_original': df_bmw_original['edad']\n",
    "})\n",
    "\n",
    "df_comparacion.head(15)"
   ]
  },
  {
   "cell_type": "markdown",
   "id": "648f021f",
   "metadata": {},
   "source": [
    "## COMPROBACIÓN DE LA IMPUTACIÓN AIRE ACONDICIONADO"
   ]
  },
  {
   "cell_type": "markdown",
   "id": "564b22da",
   "metadata": {},
   "source": [
    "### VERSIÓN 1 - 74,69%"
   ]
  },
  {
   "cell_type": "code",
   "execution_count": null,
   "id": "a2eaaaea",
   "metadata": {},
   "outputs": [],
   "source": [
    "tabla_moda_aire_acondicionado = df_bmw[~(df_bmw['aire_acondicionado'].isnull())].groupby(['edad','tipo_coche','modelo','potencia'])['aire_acondicionado'].agg([stat.mode])"
   ]
  },
  {
   "cell_type": "code",
   "execution_count": null,
   "id": "ec8ec912",
   "metadata": {},
   "outputs": [],
   "source": [
    "tabla_moda_aire_acondicionado_por_edad_coche_y_tipo_coche = df_bmw[~(df_bmw['aire_acondicionado'].isnull())].groupby(['edad','tipo_coche'])['aire_acondicionado'].agg([stat.mode])"
   ]
  },
  {
   "cell_type": "code",
   "execution_count": null,
   "id": "9ff7d4b5",
   "metadata": {},
   "outputs": [],
   "source": [
    "# Reemplazemos los nulos en aire_acondicionado con la moda por edad_coche, tipo_coche, modelo y potencia.\n",
    "# Cuando no es posible uso la moda solo por edad_coche y tipo_coche.\n",
    "for i in df_bmw[df_bmw['aire_acondicionado'].isnull()].index:\n",
    "  edad_coche = df_bmw.loc[i,'edad']\n",
    "  tipo_coche = df_bmw.loc[i,'tipo_coche']\n",
    "  modelo = df_bmw.loc[i,'modelo']\n",
    "  potencia = df_bmw.loc[i,'potencia']\n",
    " # existe la moda por edad_coche, tipo_coche, modelo y potencia?\n",
    "  if (edad_coche,tipo_coche,modelo,potencia) in tabla_moda_aire_acondicionado.index:\n",
    "    aire_acondicionado = tabla_moda_aire_acondicionado.loc[(edad_coche,tipo_coche,modelo,potencia)].values[0]\n",
    " # si no, existe la moda solo por edad_coche y tipo_coche?\n",
    "  elif (edad_coche,tipo_coche) in tabla_moda_aire_acondicionado_por_edad_coche_y_tipo_coche.index:\n",
    "    aire_acondicionado = tabla_moda_aire_acondicionado_por_edad_coche_y_tipo_coche.loc[(edad_coche,tipo_coche)].values[0]\n",
    "\n",
    "  df_bmw.loc[i,'aire_acondicionado'] = aire_acondicionado"
   ]
  },
  {
   "cell_type": "code",
   "execution_count": null,
   "id": "57c4437a",
   "metadata": {},
   "outputs": [
    {
     "name": "stdout",
     "output_type": "stream",
     "text": [
      "Aciertos: 368 de 486 imputaciones\n",
      "Porcentaje de acierto: 75.72%\n"
     ]
    }
   ],
   "source": [
    "# 1. Identificar las filas que originalmente tenían nulos en 'color'\n",
    "nulos_originales = bmw['aire_acondicionado'].isnull()\n",
    "\n",
    "# 2. Filtrar solo esas filas para comparar\n",
    "edad_imputada = df_bmw.loc[nulos_originales, 'aire_acondicionado'] # df donde se han imputado nulos\n",
    "edad_real = df_bmw_original.loc[nulos_originales, 'aire_acondicionado'] # copia del df original sin modificaciones\n",
    "\n",
    "# 3. Calcular aciertos\n",
    "aciertos = (edad_imputada == edad_real).sum()\n",
    "total = nulos_originales.sum()\n",
    "porcentaje_acierto = (aciertos / total) * 100 if total > 0 else None\n",
    "\n",
    "# 4. Mostrar resultados\n",
    "print(f\"Aciertos: {aciertos} de {total} imputaciones\")\n",
    "print(f\"Porcentaje de acierto: {porcentaje_acierto:.2f}%\")"
   ]
  },
  {
   "cell_type": "markdown",
   "id": "29cfc1f7",
   "metadata": {},
   "source": [
    "### VERSIÓN 2 - 81, 07% modelo', 'edad / 'moddelo', potencia / modelo / moda general"
   ]
  },
  {
   "cell_type": "code",
   "execution_count": null,
   "id": "c7958346",
   "metadata": {},
   "outputs": [],
   "source": [
    "df_bmw_original = df_bmw_original1.copy()\n",
    "df_bmw = df_bmw1.copy()"
   ]
  },
  {
   "cell_type": "code",
   "execution_count": null,
   "id": "63f3a801",
   "metadata": {},
   "outputs": [],
   "source": [
    "# Definir los rangos de edad y los nuevos valores\n",
    "rangos = [0, 3, 6, 10, 15, 20, 25, 30]\n",
    "nuevos_valores = ['1-3', '4-6', '7-10', '11-15', '16-20', '21-25', '>25']\n",
    "\n",
    "# Aplicar la transformación con pd.cut\n",
    "df_bmw['edad'] = pd.cut(df_bmw['edad'], bins=rangos, labels=nuevos_valores, right=True)"
   ]
  },
  {
   "cell_type": "code",
   "execution_count": null,
   "id": "507f94a4",
   "metadata": {},
   "outputs": [
    {
     "data": {
      "text/html": [
       "<div>\n",
       "<style scoped>\n",
       "    .dataframe tbody tr th:only-of-type {\n",
       "        vertical-align: middle;\n",
       "    }\n",
       "\n",
       "    .dataframe tbody tr th {\n",
       "        vertical-align: top;\n",
       "    }\n",
       "\n",
       "    .dataframe thead th {\n",
       "        text-align: right;\n",
       "    }\n",
       "</style>\n",
       "<table border=\"1\" class=\"dataframe\">\n",
       "  <thead>\n",
       "    <tr style=\"text-align: right;\">\n",
       "      <th></th>\n",
       "      <th>marca</th>\n",
       "      <th>modelo</th>\n",
       "      <th>km</th>\n",
       "      <th>potencia</th>\n",
       "      <th>fecha_registro</th>\n",
       "      <th>tipo_gasolina</th>\n",
       "      <th>color</th>\n",
       "      <th>tipo_coche</th>\n",
       "      <th>volante_regulable</th>\n",
       "      <th>aire_acondicionado</th>\n",
       "      <th>...</th>\n",
       "      <th>bluetooth</th>\n",
       "      <th>gps</th>\n",
       "      <th>alerta_lim_velocidad</th>\n",
       "      <th>precio</th>\n",
       "      <th>fecha_venta</th>\n",
       "      <th>year_registro</th>\n",
       "      <th>year_venta</th>\n",
       "      <th>edad_coche</th>\n",
       "      <th>color_estandar</th>\n",
       "      <th>edad</th>\n",
       "    </tr>\n",
       "  </thead>\n",
       "  <tbody>\n",
       "    <tr>\n",
       "      <th>0</th>\n",
       "      <td>NaN</td>\n",
       "      <td>118</td>\n",
       "      <td>140411.0</td>\n",
       "      <td>100.0</td>\n",
       "      <td>2012-02-01</td>\n",
       "      <td>diesel</td>\n",
       "      <td>black</td>\n",
       "      <td>coupe</td>\n",
       "      <td>True</td>\n",
       "      <td>True</td>\n",
       "      <td>...</td>\n",
       "      <td>NaN</td>\n",
       "      <td>True</td>\n",
       "      <td>NaN</td>\n",
       "      <td>11300.0</td>\n",
       "      <td>2018-01-01</td>\n",
       "      <td>2012.0</td>\n",
       "      <td>2018.0</td>\n",
       "      <td>6.0</td>\n",
       "      <td>1.0</td>\n",
       "      <td>4-6</td>\n",
       "    </tr>\n",
       "    <tr>\n",
       "      <th>1</th>\n",
       "      <td>BMW</td>\n",
       "      <td>M4</td>\n",
       "      <td>13929.0</td>\n",
       "      <td>317.0</td>\n",
       "      <td>NaT</td>\n",
       "      <td>petrol</td>\n",
       "      <td>grey</td>\n",
       "      <td>convertible</td>\n",
       "      <td>True</td>\n",
       "      <td>True</td>\n",
       "      <td>...</td>\n",
       "      <td>True</td>\n",
       "      <td>True</td>\n",
       "      <td>True</td>\n",
       "      <td>69700.0</td>\n",
       "      <td>2018-02-01</td>\n",
       "      <td>NaN</td>\n",
       "      <td>2018.0</td>\n",
       "      <td>NaN</td>\n",
       "      <td>1.0</td>\n",
       "      <td>NaN</td>\n",
       "    </tr>\n",
       "    <tr>\n",
       "      <th>2</th>\n",
       "      <td>BMW</td>\n",
       "      <td>320</td>\n",
       "      <td>183297.0</td>\n",
       "      <td>120.0</td>\n",
       "      <td>2012-04-01</td>\n",
       "      <td>diesel</td>\n",
       "      <td>white</td>\n",
       "      <td>sedan</td>\n",
       "      <td>False</td>\n",
       "      <td>False</td>\n",
       "      <td>...</td>\n",
       "      <td>False</td>\n",
       "      <td>True</td>\n",
       "      <td>False</td>\n",
       "      <td>10200.0</td>\n",
       "      <td>2018-02-01</td>\n",
       "      <td>2012.0</td>\n",
       "      <td>2018.0</td>\n",
       "      <td>6.0</td>\n",
       "      <td>1.0</td>\n",
       "      <td>4-6</td>\n",
       "    </tr>\n",
       "    <tr>\n",
       "      <th>3</th>\n",
       "      <td>BMW</td>\n",
       "      <td>420</td>\n",
       "      <td>128035.0</td>\n",
       "      <td>135.0</td>\n",
       "      <td>NaT</td>\n",
       "      <td>diesel</td>\n",
       "      <td>red</td>\n",
       "      <td>convertible</td>\n",
       "      <td>True</td>\n",
       "      <td>True</td>\n",
       "      <td>...</td>\n",
       "      <td>True</td>\n",
       "      <td>True</td>\n",
       "      <td>NaN</td>\n",
       "      <td>25100.0</td>\n",
       "      <td>2018-02-01</td>\n",
       "      <td>NaN</td>\n",
       "      <td>2018.0</td>\n",
       "      <td>NaN</td>\n",
       "      <td>0.0</td>\n",
       "      <td>NaN</td>\n",
       "    </tr>\n",
       "    <tr>\n",
       "      <th>4</th>\n",
       "      <td>BMW</td>\n",
       "      <td>425</td>\n",
       "      <td>97097.0</td>\n",
       "      <td>160.0</td>\n",
       "      <td>NaT</td>\n",
       "      <td>diesel</td>\n",
       "      <td>silver</td>\n",
       "      <td>coupe</td>\n",
       "      <td>True</td>\n",
       "      <td>True</td>\n",
       "      <td>...</td>\n",
       "      <td>True</td>\n",
       "      <td>True</td>\n",
       "      <td>True</td>\n",
       "      <td>33400.0</td>\n",
       "      <td>2018-04-01</td>\n",
       "      <td>NaN</td>\n",
       "      <td>2018.0</td>\n",
       "      <td>NaN</td>\n",
       "      <td>0.0</td>\n",
       "      <td>NaN</td>\n",
       "    </tr>\n",
       "    <tr>\n",
       "      <th>...</th>\n",
       "      <td>...</td>\n",
       "      <td>...</td>\n",
       "      <td>...</td>\n",
       "      <td>...</td>\n",
       "      <td>...</td>\n",
       "      <td>...</td>\n",
       "      <td>...</td>\n",
       "      <td>...</td>\n",
       "      <td>...</td>\n",
       "      <td>...</td>\n",
       "      <td>...</td>\n",
       "      <td>...</td>\n",
       "      <td>...</td>\n",
       "      <td>...</td>\n",
       "      <td>...</td>\n",
       "      <td>...</td>\n",
       "      <td>...</td>\n",
       "      <td>...</td>\n",
       "      <td>...</td>\n",
       "      <td>...</td>\n",
       "      <td>...</td>\n",
       "    </tr>\n",
       "    <tr>\n",
       "      <th>4838</th>\n",
       "      <td>BMW</td>\n",
       "      <td>218 Gran Tourer</td>\n",
       "      <td>39743.0</td>\n",
       "      <td>110.0</td>\n",
       "      <td>NaT</td>\n",
       "      <td>diesel</td>\n",
       "      <td>black</td>\n",
       "      <td>van</td>\n",
       "      <td>False</td>\n",
       "      <td>True</td>\n",
       "      <td>...</td>\n",
       "      <td>False</td>\n",
       "      <td>True</td>\n",
       "      <td>False</td>\n",
       "      <td>14600.0</td>\n",
       "      <td>2018-08-01</td>\n",
       "      <td>NaN</td>\n",
       "      <td>2018.0</td>\n",
       "      <td>NaN</td>\n",
       "      <td>1.0</td>\n",
       "      <td>NaN</td>\n",
       "    </tr>\n",
       "    <tr>\n",
       "      <th>4839</th>\n",
       "      <td>BMW</td>\n",
       "      <td>218 Active Tourer</td>\n",
       "      <td>49832.0</td>\n",
       "      <td>100.0</td>\n",
       "      <td>2015-06-01</td>\n",
       "      <td>diesel</td>\n",
       "      <td>grey</td>\n",
       "      <td>van</td>\n",
       "      <td>False</td>\n",
       "      <td>True</td>\n",
       "      <td>...</td>\n",
       "      <td>False</td>\n",
       "      <td>True</td>\n",
       "      <td>True</td>\n",
       "      <td>17500.0</td>\n",
       "      <td>2018-08-01</td>\n",
       "      <td>2015.0</td>\n",
       "      <td>2018.0</td>\n",
       "      <td>3.0</td>\n",
       "      <td>1.0</td>\n",
       "      <td>1-3</td>\n",
       "    </tr>\n",
       "    <tr>\n",
       "      <th>4840</th>\n",
       "      <td>BMW</td>\n",
       "      <td>218 Gran Tourer</td>\n",
       "      <td>19633.0</td>\n",
       "      <td>110.0</td>\n",
       "      <td>2015-10-01</td>\n",
       "      <td>diesel</td>\n",
       "      <td>grey</td>\n",
       "      <td>van</td>\n",
       "      <td>False</td>\n",
       "      <td>True</td>\n",
       "      <td>...</td>\n",
       "      <td>False</td>\n",
       "      <td>True</td>\n",
       "      <td>True</td>\n",
       "      <td>17000.0</td>\n",
       "      <td>2018-09-01</td>\n",
       "      <td>2015.0</td>\n",
       "      <td>2018.0</td>\n",
       "      <td>3.0</td>\n",
       "      <td>1.0</td>\n",
       "      <td>1-3</td>\n",
       "    </tr>\n",
       "    <tr>\n",
       "      <th>4841</th>\n",
       "      <td>BMW</td>\n",
       "      <td>218 Active Tourer</td>\n",
       "      <td>27920.0</td>\n",
       "      <td>110.0</td>\n",
       "      <td>2016-04-01</td>\n",
       "      <td>diesel</td>\n",
       "      <td>brown</td>\n",
       "      <td>van</td>\n",
       "      <td>True</td>\n",
       "      <td>True</td>\n",
       "      <td>...</td>\n",
       "      <td>False</td>\n",
       "      <td>True</td>\n",
       "      <td>True</td>\n",
       "      <td>22700.0</td>\n",
       "      <td>2018-09-01</td>\n",
       "      <td>2016.0</td>\n",
       "      <td>2018.0</td>\n",
       "      <td>2.0</td>\n",
       "      <td>0.0</td>\n",
       "      <td>1-3</td>\n",
       "    </tr>\n",
       "    <tr>\n",
       "      <th>4842</th>\n",
       "      <td>BMW</td>\n",
       "      <td>525</td>\n",
       "      <td>195840.0</td>\n",
       "      <td>160.0</td>\n",
       "      <td>NaT</td>\n",
       "      <td>diesel</td>\n",
       "      <td>grey</td>\n",
       "      <td>estate</td>\n",
       "      <td>True</td>\n",
       "      <td>NaN</td>\n",
       "      <td>...</td>\n",
       "      <td>False</td>\n",
       "      <td>True</td>\n",
       "      <td>True</td>\n",
       "      <td>15500.0</td>\n",
       "      <td>2018-09-01</td>\n",
       "      <td>NaN</td>\n",
       "      <td>2018.0</td>\n",
       "      <td>NaN</td>\n",
       "      <td>1.0</td>\n",
       "      <td>NaN</td>\n",
       "    </tr>\n",
       "  </tbody>\n",
       "</table>\n",
       "<p>4843 rows × 23 columns</p>\n",
       "</div>"
      ],
      "text/plain": [
       "     marca             modelo        km  potencia fecha_registro  \\\n",
       "0      NaN                118  140411.0     100.0     2012-02-01   \n",
       "1      BMW                 M4   13929.0     317.0            NaT   \n",
       "2      BMW                320  183297.0     120.0     2012-04-01   \n",
       "3      BMW                420  128035.0     135.0            NaT   \n",
       "4      BMW                425   97097.0     160.0            NaT   \n",
       "...    ...                ...       ...       ...            ...   \n",
       "4838   BMW    218 Gran Tourer   39743.0     110.0            NaT   \n",
       "4839   BMW  218 Active Tourer   49832.0     100.0     2015-06-01   \n",
       "4840   BMW    218 Gran Tourer   19633.0     110.0     2015-10-01   \n",
       "4841   BMW  218 Active Tourer   27920.0     110.0     2016-04-01   \n",
       "4842   BMW                525  195840.0     160.0            NaT   \n",
       "\n",
       "     tipo_gasolina   color   tipo_coche volante_regulable aire_acondicionado  \\\n",
       "0           diesel   black        coupe              True               True   \n",
       "1           petrol    grey  convertible              True               True   \n",
       "2           diesel   white        sedan             False              False   \n",
       "3           diesel     red  convertible              True               True   \n",
       "4           diesel  silver        coupe              True               True   \n",
       "...            ...     ...          ...               ...                ...   \n",
       "4838        diesel   black          van             False               True   \n",
       "4839        diesel    grey          van             False               True   \n",
       "4840        diesel    grey          van             False               True   \n",
       "4841        diesel   brown          van              True               True   \n",
       "4842        diesel    grey       estate              True                NaN   \n",
       "\n",
       "      ... bluetooth   gps alerta_lim_velocidad   precio  fecha_venta  \\\n",
       "0     ...       NaN  True                  NaN  11300.0   2018-01-01   \n",
       "1     ...      True  True                 True  69700.0   2018-02-01   \n",
       "2     ...     False  True                False  10200.0   2018-02-01   \n",
       "3     ...      True  True                  NaN  25100.0   2018-02-01   \n",
       "4     ...      True  True                 True  33400.0   2018-04-01   \n",
       "...   ...       ...   ...                  ...      ...          ...   \n",
       "4838  ...     False  True                False  14600.0   2018-08-01   \n",
       "4839  ...     False  True                 True  17500.0   2018-08-01   \n",
       "4840  ...     False  True                 True  17000.0   2018-09-01   \n",
       "4841  ...     False  True                 True  22700.0   2018-09-01   \n",
       "4842  ...     False  True                 True  15500.0   2018-09-01   \n",
       "\n",
       "     year_registro  year_venta edad_coche  color_estandar  edad  \n",
       "0          2012.0     2018.0        6.0             1.0   4-6  \n",
       "1             NaN     2018.0        NaN             1.0   NaN  \n",
       "2          2012.0     2018.0        6.0             1.0   4-6  \n",
       "3             NaN     2018.0        NaN             0.0   NaN  \n",
       "4             NaN     2018.0        NaN             0.0   NaN  \n",
       "...           ...        ...        ...             ...   ...  \n",
       "4838          NaN     2018.0        NaN             1.0   NaN  \n",
       "4839       2015.0     2018.0        3.0             1.0   1-3  \n",
       "4840       2015.0     2018.0        3.0             1.0   1-3  \n",
       "4841       2016.0     2018.0        2.0             0.0   1-3  \n",
       "4842          NaN     2018.0        NaN             1.0   NaN  \n",
       "\n",
       "[4843 rows x 23 columns]"
      ]
     },
     "execution_count": 103,
     "metadata": {},
     "output_type": "execute_result"
    }
   ],
   "source": [
    "df_bmw"
   ]
  },
  {
   "cell_type": "code",
   "execution_count": null,
   "id": "086bbec7",
   "metadata": {},
   "outputs": [
    {
     "data": {
      "text/html": [
       "<div>\n",
       "<style scoped>\n",
       "    .dataframe tbody tr th:only-of-type {\n",
       "        vertical-align: middle;\n",
       "    }\n",
       "\n",
       "    .dataframe tbody tr th {\n",
       "        vertical-align: top;\n",
       "    }\n",
       "\n",
       "    .dataframe thead th {\n",
       "        text-align: right;\n",
       "    }\n",
       "</style>\n",
       "<table border=\"1\" class=\"dataframe\">\n",
       "  <thead>\n",
       "    <tr style=\"text-align: right;\">\n",
       "      <th></th>\n",
       "      <th>NULOS</th>\n",
       "      <th>% NULOS</th>\n",
       "      <th>VALORES UNICOS</th>\n",
       "    </tr>\n",
       "  </thead>\n",
       "  <tbody>\n",
       "    <tr>\n",
       "      <th>aire_acondicionado</th>\n",
       "      <td>486</td>\n",
       "      <td>10.035102</td>\n",
       "      <td>2</td>\n",
       "    </tr>\n",
       "  </tbody>\n",
       "</table>\n",
       "</div>"
      ],
      "text/plain": [
       "                    NULOS    % NULOS  VALORES UNICOS\n",
       "aire_acondicionado    486  10.035102               2"
      ]
     },
     "execution_count": 104,
     "metadata": {},
     "output_type": "execute_result"
    }
   ],
   "source": [
    "tabla_nulos(df_bmw).loc[['aire_acondicionado']]"
   ]
  },
  {
   "cell_type": "code",
   "execution_count": null,
   "id": "f56f8b1d",
   "metadata": {},
   "outputs": [],
   "source": [
    "moda_paso_1 = df_bmw.groupby(['modelo','edad'])['aire_acondicionado'].agg(obtener_moda).reset_index()\n",
    "moda_paso_1 = moda_paso_1.rename(columns={'aire_acondicionado': 'MODA_PASO_1'})\n",
    "df_bmw = df_bmw.merge(moda_paso_1, on=['modelo', 'edad'], how='left')\n",
    "df_bmw['aire_acondicionado'] = df_bmw['aire_acondicionado'].fillna(df_bmw['MODA_PASO_1'])\n",
    "df_bmw.drop(columns=['MODA_PASO_1'], inplace=True)"
   ]
  },
  {
   "cell_type": "code",
   "execution_count": null,
   "id": "4a13c25e",
   "metadata": {},
   "outputs": [
    {
     "data": {
      "text/html": [
       "<div>\n",
       "<style scoped>\n",
       "    .dataframe tbody tr th:only-of-type {\n",
       "        vertical-align: middle;\n",
       "    }\n",
       "\n",
       "    .dataframe tbody tr th {\n",
       "        vertical-align: top;\n",
       "    }\n",
       "\n",
       "    .dataframe thead th {\n",
       "        text-align: right;\n",
       "    }\n",
       "</style>\n",
       "<table border=\"1\" class=\"dataframe\">\n",
       "  <thead>\n",
       "    <tr style=\"text-align: right;\">\n",
       "      <th></th>\n",
       "      <th>NULOS</th>\n",
       "      <th>% NULOS</th>\n",
       "      <th>VALORES UNICOS</th>\n",
       "    </tr>\n",
       "  </thead>\n",
       "  <tbody>\n",
       "    <tr>\n",
       "      <th>aire_acondicionado</th>\n",
       "      <td>236</td>\n",
       "      <td>4.873013</td>\n",
       "      <td>2</td>\n",
       "    </tr>\n",
       "  </tbody>\n",
       "</table>\n",
       "</div>"
      ],
      "text/plain": [
       "                    NULOS   % NULOS  VALORES UNICOS\n",
       "aire_acondicionado    236  4.873013               2"
      ]
     },
     "execution_count": 106,
     "metadata": {},
     "output_type": "execute_result"
    }
   ],
   "source": [
    "tabla_nulos(df_bmw).loc[['aire_acondicionado']]"
   ]
  },
  {
   "cell_type": "code",
   "execution_count": null,
   "id": "a0831d57",
   "metadata": {},
   "outputs": [],
   "source": [
    "moda_paso_1 = df_bmw.groupby(['modelo','potencia'])['aire_acondicionado'].agg(obtener_moda).reset_index()\n",
    "moda_paso_1 = moda_paso_1.rename(columns={'aire_acondicionado': 'MODA_PASO_1'})\n",
    "df_bmw = df_bmw.merge(moda_paso_1, on=['modelo','potencia'], how='left')\n",
    "df_bmw['aire_acondicionado'] = df_bmw['aire_acondicionado'].fillna(df_bmw['MODA_PASO_1'])\n",
    "df_bmw.drop(columns=['MODA_PASO_1'], inplace=True)"
   ]
  },
  {
   "cell_type": "code",
   "execution_count": null,
   "id": "961ed25e",
   "metadata": {},
   "outputs": [
    {
     "data": {
      "text/html": [
       "<div>\n",
       "<style scoped>\n",
       "    .dataframe tbody tr th:only-of-type {\n",
       "        vertical-align: middle;\n",
       "    }\n",
       "\n",
       "    .dataframe tbody tr th {\n",
       "        vertical-align: top;\n",
       "    }\n",
       "\n",
       "    .dataframe thead th {\n",
       "        text-align: right;\n",
       "    }\n",
       "</style>\n",
       "<table border=\"1\" class=\"dataframe\">\n",
       "  <thead>\n",
       "    <tr style=\"text-align: right;\">\n",
       "      <th></th>\n",
       "      <th>NULOS</th>\n",
       "      <th>% NULOS</th>\n",
       "      <th>VALORES UNICOS</th>\n",
       "    </tr>\n",
       "  </thead>\n",
       "  <tbody>\n",
       "    <tr>\n",
       "      <th>aire_acondicionado</th>\n",
       "      <td>5</td>\n",
       "      <td>0.103242</td>\n",
       "      <td>2</td>\n",
       "    </tr>\n",
       "  </tbody>\n",
       "</table>\n",
       "</div>"
      ],
      "text/plain": [
       "                    NULOS   % NULOS  VALORES UNICOS\n",
       "aire_acondicionado      5  0.103242               2"
      ]
     },
     "execution_count": 108,
     "metadata": {},
     "output_type": "execute_result"
    }
   ],
   "source": [
    "tabla_nulos(df_bmw).loc[['aire_acondicionado']]"
   ]
  },
  {
   "cell_type": "code",
   "execution_count": null,
   "id": "197e4fea",
   "metadata": {},
   "outputs": [],
   "source": [
    "moda_paso_1 = df_bmw.groupby(['modelo'])['aire_acondicionado'].agg(obtener_moda).reset_index()\n",
    "moda_paso_1 = moda_paso_1.rename(columns={'aire_acondicionado': 'MODA_PASO_1'})\n",
    "df_bmw = df_bmw.merge(moda_paso_1, on=['modelo'], how='left')\n",
    "df_bmw['aire_acondicionado'] = df_bmw['aire_acondicionado'].fillna(df_bmw['MODA_PASO_1'])\n",
    "df_bmw.drop(columns=['MODA_PASO_1'], inplace=True)"
   ]
  },
  {
   "cell_type": "code",
   "execution_count": null,
   "id": "ce97035e",
   "metadata": {},
   "outputs": [
    {
     "data": {
      "text/html": [
       "<div>\n",
       "<style scoped>\n",
       "    .dataframe tbody tr th:only-of-type {\n",
       "        vertical-align: middle;\n",
       "    }\n",
       "\n",
       "    .dataframe tbody tr th {\n",
       "        vertical-align: top;\n",
       "    }\n",
       "\n",
       "    .dataframe thead th {\n",
       "        text-align: right;\n",
       "    }\n",
       "</style>\n",
       "<table border=\"1\" class=\"dataframe\">\n",
       "  <thead>\n",
       "    <tr style=\"text-align: right;\">\n",
       "      <th></th>\n",
       "      <th>NULOS</th>\n",
       "      <th>% NULOS</th>\n",
       "      <th>VALORES UNICOS</th>\n",
       "    </tr>\n",
       "  </thead>\n",
       "  <tbody>\n",
       "    <tr>\n",
       "      <th>aire_acondicionado</th>\n",
       "      <td>2</td>\n",
       "      <td>0.041297</td>\n",
       "      <td>2</td>\n",
       "    </tr>\n",
       "  </tbody>\n",
       "</table>\n",
       "</div>"
      ],
      "text/plain": [
       "                    NULOS   % NULOS  VALORES UNICOS\n",
       "aire_acondicionado      2  0.041297               2"
      ]
     },
     "execution_count": 110,
     "metadata": {},
     "output_type": "execute_result"
    }
   ],
   "source": [
    "tabla_nulos(df_bmw).loc[['aire_acondicionado']]"
   ]
  },
  {
   "cell_type": "code",
   "execution_count": null,
   "id": "ab5184e7",
   "metadata": {},
   "outputs": [
    {
     "data": {
      "text/html": [
       "<div>\n",
       "<style scoped>\n",
       "    .dataframe tbody tr th:only-of-type {\n",
       "        vertical-align: middle;\n",
       "    }\n",
       "\n",
       "    .dataframe tbody tr th {\n",
       "        vertical-align: top;\n",
       "    }\n",
       "\n",
       "    .dataframe thead th {\n",
       "        text-align: right;\n",
       "    }\n",
       "</style>\n",
       "<table border=\"1\" class=\"dataframe\">\n",
       "  <thead>\n",
       "    <tr style=\"text-align: right;\">\n",
       "      <th></th>\n",
       "      <th>NULOS</th>\n",
       "      <th>% NULOS</th>\n",
       "      <th>VALORES UNICOS</th>\n",
       "    </tr>\n",
       "  </thead>\n",
       "  <tbody>\n",
       "    <tr>\n",
       "      <th>aire_acondicionado</th>\n",
       "      <td>0</td>\n",
       "      <td>0.0</td>\n",
       "      <td>2</td>\n",
       "    </tr>\n",
       "  </tbody>\n",
       "</table>\n",
       "</div>"
      ],
      "text/plain": [
       "                    NULOS  % NULOS  VALORES UNICOS\n",
       "aire_acondicionado      0      0.0               2"
      ]
     },
     "execution_count": 111,
     "metadata": {},
     "output_type": "execute_result"
    }
   ],
   "source": [
    "# Calcular la moda de la columna 'bluetooth'\n",
    "moda_bluetooth = df_bmw['aire_acondicionado'].mode().iloc[0]\n",
    "\n",
    "# Rellenar los valores nulos con la moda\n",
    "df_bmw['aire_acondicionado'] = df_bmw['aire_acondicionado'].fillna(moda_bluetooth)\n",
    "tabla_nulos(df_bmw).loc[['aire_acondicionado']]"
   ]
  },
  {
   "cell_type": "code",
   "execution_count": null,
   "id": "4a63e0f3",
   "metadata": {},
   "outputs": [
    {
     "name": "stdout",
     "output_type": "stream",
     "text": [
      "Aciertos: 394 de 486 imputaciones\n",
      "Porcentaje de acierto: 81.07%\n"
     ]
    }
   ],
   "source": [
    "# 1. Identificar las filas que originalmente tenían nulos en 'color'\n",
    "nulos_originales = bmw['aire_acondicionado'].isnull()\n",
    "\n",
    "# 2. Filtrar solo esas filas para comparar\n",
    "edad_imputada = df_bmw.loc[nulos_originales, 'aire_acondicionado'] # df donde se han imputado nulos\n",
    "edad_real = df_bmw_original.loc[nulos_originales, 'aire_acondicionado'] # copia del df original sin modificaciones\n",
    "\n",
    "# 3. Calcular aciertos\n",
    "aciertos = (edad_imputada == edad_real).sum()\n",
    "total = nulos_originales.sum()\n",
    "porcentaje_acierto = (aciertos / total) * 100 if total > 0 else None\n",
    "\n",
    "# 4. Mostrar resultados\n",
    "print(f\"Aciertos: {aciertos} de {total} imputaciones\")\n",
    "print(f\"Porcentaje de acierto: {porcentaje_acierto:.2f}%\")"
   ]
  },
  {
   "cell_type": "markdown",
   "id": "22c31176",
   "metadata": {},
   "source": [
    "## COMPROBACIÓN DE LA IMPUTACIÓN BLUETOOTH"
   ]
  },
  {
   "cell_type": "markdown",
   "id": "59b9733c",
   "metadata": {},
   "source": [
    "### VERSIÓN 1 - 75,41%"
   ]
  },
  {
   "cell_type": "code",
   "execution_count": null,
   "id": "bfe2bce8",
   "metadata": {},
   "outputs": [
    {
     "data": {
      "text/html": [
       "<div>\n",
       "<style scoped>\n",
       "    .dataframe tbody tr th:only-of-type {\n",
       "        vertical-align: middle;\n",
       "    }\n",
       "\n",
       "    .dataframe tbody tr th {\n",
       "        vertical-align: top;\n",
       "    }\n",
       "\n",
       "    .dataframe thead th {\n",
       "        text-align: right;\n",
       "    }\n",
       "</style>\n",
       "<table border=\"1\" class=\"dataframe\">\n",
       "  <thead>\n",
       "    <tr style=\"text-align: right;\">\n",
       "      <th></th>\n",
       "      <th>marca</th>\n",
       "      <th>modelo</th>\n",
       "      <th>km</th>\n",
       "      <th>potencia</th>\n",
       "      <th>fecha_registro</th>\n",
       "      <th>tipo_gasolina</th>\n",
       "      <th>color</th>\n",
       "      <th>tipo_coche</th>\n",
       "      <th>volante_regulable</th>\n",
       "      <th>aire_acondicionado</th>\n",
       "      <th>...</th>\n",
       "      <th>bluetooth</th>\n",
       "      <th>gps</th>\n",
       "      <th>alerta_lim_velocidad</th>\n",
       "      <th>precio</th>\n",
       "      <th>fecha_venta</th>\n",
       "      <th>year_registro</th>\n",
       "      <th>year_venta</th>\n",
       "      <th>edad_coche</th>\n",
       "      <th>color_estandar</th>\n",
       "      <th>edad</th>\n",
       "    </tr>\n",
       "  </thead>\n",
       "  <tbody>\n",
       "    <tr>\n",
       "      <th>0</th>\n",
       "      <td>NaN</td>\n",
       "      <td>118</td>\n",
       "      <td>140411.0</td>\n",
       "      <td>100.0</td>\n",
       "      <td>2012-02-01</td>\n",
       "      <td>diesel</td>\n",
       "      <td>black</td>\n",
       "      <td>coupe</td>\n",
       "      <td>True</td>\n",
       "      <td>True</td>\n",
       "      <td>...</td>\n",
       "      <td>NaN</td>\n",
       "      <td>True</td>\n",
       "      <td>NaN</td>\n",
       "      <td>11300.0</td>\n",
       "      <td>2018-01-01</td>\n",
       "      <td>2012.0</td>\n",
       "      <td>2018.0</td>\n",
       "      <td>6.0</td>\n",
       "      <td>1.0</td>\n",
       "      <td>4-6</td>\n",
       "    </tr>\n",
       "    <tr>\n",
       "      <th>1</th>\n",
       "      <td>BMW</td>\n",
       "      <td>M4</td>\n",
       "      <td>13929.0</td>\n",
       "      <td>317.0</td>\n",
       "      <td>NaT</td>\n",
       "      <td>petrol</td>\n",
       "      <td>grey</td>\n",
       "      <td>convertible</td>\n",
       "      <td>True</td>\n",
       "      <td>True</td>\n",
       "      <td>...</td>\n",
       "      <td>True</td>\n",
       "      <td>True</td>\n",
       "      <td>True</td>\n",
       "      <td>69700.0</td>\n",
       "      <td>2018-02-01</td>\n",
       "      <td>NaN</td>\n",
       "      <td>2018.0</td>\n",
       "      <td>NaN</td>\n",
       "      <td>1.0</td>\n",
       "      <td>NaN</td>\n",
       "    </tr>\n",
       "    <tr>\n",
       "      <th>2</th>\n",
       "      <td>BMW</td>\n",
       "      <td>320</td>\n",
       "      <td>183297.0</td>\n",
       "      <td>120.0</td>\n",
       "      <td>2012-04-01</td>\n",
       "      <td>diesel</td>\n",
       "      <td>white</td>\n",
       "      <td>sedan</td>\n",
       "      <td>False</td>\n",
       "      <td>False</td>\n",
       "      <td>...</td>\n",
       "      <td>False</td>\n",
       "      <td>True</td>\n",
       "      <td>False</td>\n",
       "      <td>10200.0</td>\n",
       "      <td>2018-02-01</td>\n",
       "      <td>2012.0</td>\n",
       "      <td>2018.0</td>\n",
       "      <td>6.0</td>\n",
       "      <td>1.0</td>\n",
       "      <td>4-6</td>\n",
       "    </tr>\n",
       "    <tr>\n",
       "      <th>3</th>\n",
       "      <td>BMW</td>\n",
       "      <td>420</td>\n",
       "      <td>128035.0</td>\n",
       "      <td>135.0</td>\n",
       "      <td>NaT</td>\n",
       "      <td>diesel</td>\n",
       "      <td>red</td>\n",
       "      <td>convertible</td>\n",
       "      <td>True</td>\n",
       "      <td>True</td>\n",
       "      <td>...</td>\n",
       "      <td>True</td>\n",
       "      <td>True</td>\n",
       "      <td>NaN</td>\n",
       "      <td>25100.0</td>\n",
       "      <td>2018-02-01</td>\n",
       "      <td>NaN</td>\n",
       "      <td>2018.0</td>\n",
       "      <td>NaN</td>\n",
       "      <td>0.0</td>\n",
       "      <td>NaN</td>\n",
       "    </tr>\n",
       "    <tr>\n",
       "      <th>4</th>\n",
       "      <td>BMW</td>\n",
       "      <td>425</td>\n",
       "      <td>97097.0</td>\n",
       "      <td>160.0</td>\n",
       "      <td>NaT</td>\n",
       "      <td>diesel</td>\n",
       "      <td>silver</td>\n",
       "      <td>coupe</td>\n",
       "      <td>True</td>\n",
       "      <td>True</td>\n",
       "      <td>...</td>\n",
       "      <td>True</td>\n",
       "      <td>True</td>\n",
       "      <td>True</td>\n",
       "      <td>33400.0</td>\n",
       "      <td>2018-04-01</td>\n",
       "      <td>NaN</td>\n",
       "      <td>2018.0</td>\n",
       "      <td>NaN</td>\n",
       "      <td>0.0</td>\n",
       "      <td>NaN</td>\n",
       "    </tr>\n",
       "  </tbody>\n",
       "</table>\n",
       "<p>5 rows × 23 columns</p>\n",
       "</div>"
      ],
      "text/plain": [
       "  marca modelo        km  potencia fecha_registro tipo_gasolina   color  \\\n",
       "0   NaN    118  140411.0     100.0     2012-02-01        diesel   black   \n",
       "1   BMW     M4   13929.0     317.0            NaT        petrol    grey   \n",
       "2   BMW    320  183297.0     120.0     2012-04-01        diesel   white   \n",
       "3   BMW    420  128035.0     135.0            NaT        diesel     red   \n",
       "4   BMW    425   97097.0     160.0            NaT        diesel  silver   \n",
       "\n",
       "    tipo_coche volante_regulable  aire_acondicionado  ... bluetooth   gps  \\\n",
       "0        coupe              True                True  ...       NaN  True   \n",
       "1  convertible              True                True  ...      True  True   \n",
       "2        sedan             False               False  ...     False  True   \n",
       "3  convertible              True                True  ...      True  True   \n",
       "4        coupe              True                True  ...      True  True   \n",
       "\n",
       "  alerta_lim_velocidad   precio  fecha_venta year_registro  year_venta  \\\n",
       "0                  NaN  11300.0   2018-01-01       2012.0     2018.0   \n",
       "1                 True  69700.0   2018-02-01          NaN     2018.0   \n",
       "2                False  10200.0   2018-02-01       2012.0     2018.0   \n",
       "3                  NaN  25100.0   2018-02-01          NaN     2018.0   \n",
       "4                 True  33400.0   2018-04-01          NaN     2018.0   \n",
       "\n",
       "  edad_coche  color_estandar  edad  \n",
       "0        6.0             1.0   4-6  \n",
       "1        NaN             1.0   NaN  \n",
       "2        6.0             1.0   4-6  \n",
       "3        NaN             0.0   NaN  \n",
       "4        NaN             0.0   NaN  \n",
       "\n",
       "[5 rows x 23 columns]"
      ]
     },
     "execution_count": 113,
     "metadata": {},
     "output_type": "execute_result"
    }
   ],
   "source": [
    "df_bmw.head()"
   ]
  },
  {
   "cell_type": "code",
   "execution_count": null,
   "id": "4dabab28",
   "metadata": {},
   "outputs": [],
   "source": [
    "tabla_moda_bluetooth = df_bmw[~(df_bmw['bluetooth'].isnull())].groupby(['edad','tipo_coche','modelo','potencia'])['bluetooth'].agg([stat.mode])"
   ]
  },
  {
   "cell_type": "code",
   "execution_count": null,
   "id": "9afa7e81",
   "metadata": {},
   "outputs": [],
   "source": [
    "tabla_moda_bluetooth_por_edad_coche_y_tipo_coche = df_bmw[~(df_bmw['bluetooth'].isnull())].groupby(['edad','tipo_coche'])['bluetooth'].agg([stat.mode])"
   ]
  },
  {
   "cell_type": "code",
   "execution_count": null,
   "id": "4c83964d",
   "metadata": {},
   "outputs": [],
   "source": [
    "# Reemplazemos los nulos en bluetooth con la moda por edad_coche, tipo_coche, modelo y potencia. Cuando no es posible usemos la moda solo por edad_coche y tipo_coche. Si tampoco esta existe\n",
    "# usemos la moda del dateset.\n",
    "for i in df_bmw[df_bmw['bluetooth'].isnull()].index:\n",
    "  edad_coche = df_bmw.loc[i,'edad']\n",
    "  tipo_coche = df_bmw.loc[i,'tipo_coche']\n",
    "  modelo = df_bmw.loc[i,'modelo']\n",
    "  potencia = df_bmw.loc[i,'potencia']\n",
    " # existe la moda por edad_coche, tipo_coche, modelo y potencia?\n",
    "  if (edad_coche,tipo_coche,modelo,potencia) in tabla_moda_bluetooth.index:\n",
    "    bluetooth = tabla_moda_bluetooth.loc[(edad_coche,tipo_coche,modelo,potencia)].values[0]\n",
    " # si no, existe la moda solo por edad_coche y tipo_coche?\n",
    "  elif (edad_coche,tipo_coche) in tabla_moda_bluetooth_por_edad_coche_y_tipo_coche.index:\n",
    "    bluetooth = tabla_moda_bluetooth_por_edad_coche_y_tipo_coche.loc[(edad_coche,tipo_coche)].values[0]\n",
    "  else:\n",
    "    bluetooth = df_bmw['bluetooth'].mode().values[0]\n",
    "  df_bmw.loc[i,'bluetooth'] = bluetooth"
   ]
  },
  {
   "cell_type": "code",
   "execution_count": null,
   "id": "cf9d194b",
   "metadata": {},
   "outputs": [
    {
     "name": "stdout",
     "output_type": "stream",
     "text": [
      "Aciertos: 532 de 728 imputaciones\n",
      "Porcentaje de acierto: 73.08%\n"
     ]
    }
   ],
   "source": [
    "# 1. Identificar las filas que originalmente tenían nulos en 'color'\n",
    "nulos_originales = bmw['bluetooth'].isnull()\n",
    "\n",
    "# 2. Filtrar solo esas filas para comparar\n",
    "edad_imputada = df_bmw.loc[nulos_originales, 'bluetooth'] # df donde se han imputado nulos\n",
    "edad_real = df_bmw_original.loc[nulos_originales, 'bluetooth'] # copia del df original sin modificaciones\n",
    "\n",
    "# 3. Calcular aciertos\n",
    "aciertos = (edad_imputada == edad_real).sum()\n",
    "total = nulos_originales.sum()\n",
    "porcentaje_acierto = (aciertos / total) * 100 if total > 0 else None\n",
    "\n",
    "# 4. Mostrar resultados\n",
    "print(f\"Aciertos: {aciertos} de {total} imputaciones\")\n",
    "print(f\"Porcentaje de acierto: {porcentaje_acierto:.2f}%\")"
   ]
  },
  {
   "cell_type": "markdown",
   "id": "7d505bb3",
   "metadata": {},
   "source": [
    "### VERSIÓN 2 - 79,26%"
   ]
  },
  {
   "cell_type": "code",
   "execution_count": null,
   "id": "d811376e",
   "metadata": {},
   "outputs": [
    {
     "data": {
      "text/html": [
       "<div>\n",
       "<style scoped>\n",
       "    .dataframe tbody tr th:only-of-type {\n",
       "        vertical-align: middle;\n",
       "    }\n",
       "\n",
       "    .dataframe tbody tr th {\n",
       "        vertical-align: top;\n",
       "    }\n",
       "\n",
       "    .dataframe thead th {\n",
       "        text-align: right;\n",
       "    }\n",
       "</style>\n",
       "<table border=\"1\" class=\"dataframe\">\n",
       "  <thead>\n",
       "    <tr style=\"text-align: right;\">\n",
       "      <th></th>\n",
       "      <th>marca</th>\n",
       "      <th>modelo</th>\n",
       "      <th>km</th>\n",
       "      <th>potencia</th>\n",
       "      <th>fecha_registro</th>\n",
       "      <th>tipo_gasolina</th>\n",
       "      <th>color</th>\n",
       "      <th>tipo_coche</th>\n",
       "      <th>volante_regulable</th>\n",
       "      <th>aire_acondicionado</th>\n",
       "      <th>...</th>\n",
       "      <th>bluetooth</th>\n",
       "      <th>gps</th>\n",
       "      <th>alerta_lim_velocidad</th>\n",
       "      <th>precio</th>\n",
       "      <th>fecha_venta</th>\n",
       "      <th>year_registro</th>\n",
       "      <th>year_venta</th>\n",
       "      <th>edad_coche</th>\n",
       "      <th>color_estandar</th>\n",
       "      <th>edad</th>\n",
       "    </tr>\n",
       "  </thead>\n",
       "  <tbody>\n",
       "    <tr>\n",
       "      <th>0</th>\n",
       "      <td>NaN</td>\n",
       "      <td>118</td>\n",
       "      <td>140411.0</td>\n",
       "      <td>100.0</td>\n",
       "      <td>2012-02-01</td>\n",
       "      <td>diesel</td>\n",
       "      <td>black</td>\n",
       "      <td>coupe</td>\n",
       "      <td>True</td>\n",
       "      <td>True</td>\n",
       "      <td>...</td>\n",
       "      <td>True</td>\n",
       "      <td>True</td>\n",
       "      <td>NaN</td>\n",
       "      <td>11300.0</td>\n",
       "      <td>2018-01-01</td>\n",
       "      <td>2012.0</td>\n",
       "      <td>2018.0</td>\n",
       "      <td>6.0</td>\n",
       "      <td>1.0</td>\n",
       "      <td>4-6</td>\n",
       "    </tr>\n",
       "    <tr>\n",
       "      <th>1</th>\n",
       "      <td>BMW</td>\n",
       "      <td>M4</td>\n",
       "      <td>13929.0</td>\n",
       "      <td>317.0</td>\n",
       "      <td>NaT</td>\n",
       "      <td>petrol</td>\n",
       "      <td>grey</td>\n",
       "      <td>convertible</td>\n",
       "      <td>True</td>\n",
       "      <td>True</td>\n",
       "      <td>...</td>\n",
       "      <td>True</td>\n",
       "      <td>True</td>\n",
       "      <td>True</td>\n",
       "      <td>69700.0</td>\n",
       "      <td>2018-02-01</td>\n",
       "      <td>NaN</td>\n",
       "      <td>2018.0</td>\n",
       "      <td>NaN</td>\n",
       "      <td>1.0</td>\n",
       "      <td>NaN</td>\n",
       "    </tr>\n",
       "    <tr>\n",
       "      <th>2</th>\n",
       "      <td>BMW</td>\n",
       "      <td>320</td>\n",
       "      <td>183297.0</td>\n",
       "      <td>120.0</td>\n",
       "      <td>2012-04-01</td>\n",
       "      <td>diesel</td>\n",
       "      <td>white</td>\n",
       "      <td>sedan</td>\n",
       "      <td>False</td>\n",
       "      <td>False</td>\n",
       "      <td>...</td>\n",
       "      <td>False</td>\n",
       "      <td>True</td>\n",
       "      <td>False</td>\n",
       "      <td>10200.0</td>\n",
       "      <td>2018-02-01</td>\n",
       "      <td>2012.0</td>\n",
       "      <td>2018.0</td>\n",
       "      <td>6.0</td>\n",
       "      <td>1.0</td>\n",
       "      <td>4-6</td>\n",
       "    </tr>\n",
       "    <tr>\n",
       "      <th>3</th>\n",
       "      <td>BMW</td>\n",
       "      <td>420</td>\n",
       "      <td>128035.0</td>\n",
       "      <td>135.0</td>\n",
       "      <td>NaT</td>\n",
       "      <td>diesel</td>\n",
       "      <td>red</td>\n",
       "      <td>convertible</td>\n",
       "      <td>True</td>\n",
       "      <td>True</td>\n",
       "      <td>...</td>\n",
       "      <td>True</td>\n",
       "      <td>True</td>\n",
       "      <td>NaN</td>\n",
       "      <td>25100.0</td>\n",
       "      <td>2018-02-01</td>\n",
       "      <td>NaN</td>\n",
       "      <td>2018.0</td>\n",
       "      <td>NaN</td>\n",
       "      <td>0.0</td>\n",
       "      <td>NaN</td>\n",
       "    </tr>\n",
       "    <tr>\n",
       "      <th>4</th>\n",
       "      <td>BMW</td>\n",
       "      <td>425</td>\n",
       "      <td>97097.0</td>\n",
       "      <td>160.0</td>\n",
       "      <td>NaT</td>\n",
       "      <td>diesel</td>\n",
       "      <td>silver</td>\n",
       "      <td>coupe</td>\n",
       "      <td>True</td>\n",
       "      <td>True</td>\n",
       "      <td>...</td>\n",
       "      <td>True</td>\n",
       "      <td>True</td>\n",
       "      <td>True</td>\n",
       "      <td>33400.0</td>\n",
       "      <td>2018-04-01</td>\n",
       "      <td>NaN</td>\n",
       "      <td>2018.0</td>\n",
       "      <td>NaN</td>\n",
       "      <td>0.0</td>\n",
       "      <td>NaN</td>\n",
       "    </tr>\n",
       "    <tr>\n",
       "      <th>...</th>\n",
       "      <td>...</td>\n",
       "      <td>...</td>\n",
       "      <td>...</td>\n",
       "      <td>...</td>\n",
       "      <td>...</td>\n",
       "      <td>...</td>\n",
       "      <td>...</td>\n",
       "      <td>...</td>\n",
       "      <td>...</td>\n",
       "      <td>...</td>\n",
       "      <td>...</td>\n",
       "      <td>...</td>\n",
       "      <td>...</td>\n",
       "      <td>...</td>\n",
       "      <td>...</td>\n",
       "      <td>...</td>\n",
       "      <td>...</td>\n",
       "      <td>...</td>\n",
       "      <td>...</td>\n",
       "      <td>...</td>\n",
       "      <td>...</td>\n",
       "    </tr>\n",
       "    <tr>\n",
       "      <th>4838</th>\n",
       "      <td>BMW</td>\n",
       "      <td>218 Gran Tourer</td>\n",
       "      <td>39743.0</td>\n",
       "      <td>110.0</td>\n",
       "      <td>NaT</td>\n",
       "      <td>diesel</td>\n",
       "      <td>black</td>\n",
       "      <td>van</td>\n",
       "      <td>False</td>\n",
       "      <td>True</td>\n",
       "      <td>...</td>\n",
       "      <td>False</td>\n",
       "      <td>True</td>\n",
       "      <td>False</td>\n",
       "      <td>14600.0</td>\n",
       "      <td>2018-08-01</td>\n",
       "      <td>NaN</td>\n",
       "      <td>2018.0</td>\n",
       "      <td>NaN</td>\n",
       "      <td>1.0</td>\n",
       "      <td>NaN</td>\n",
       "    </tr>\n",
       "    <tr>\n",
       "      <th>4839</th>\n",
       "      <td>BMW</td>\n",
       "      <td>218 Active Tourer</td>\n",
       "      <td>49832.0</td>\n",
       "      <td>100.0</td>\n",
       "      <td>2015-06-01</td>\n",
       "      <td>diesel</td>\n",
       "      <td>grey</td>\n",
       "      <td>van</td>\n",
       "      <td>False</td>\n",
       "      <td>True</td>\n",
       "      <td>...</td>\n",
       "      <td>False</td>\n",
       "      <td>True</td>\n",
       "      <td>True</td>\n",
       "      <td>17500.0</td>\n",
       "      <td>2018-08-01</td>\n",
       "      <td>2015.0</td>\n",
       "      <td>2018.0</td>\n",
       "      <td>3.0</td>\n",
       "      <td>1.0</td>\n",
       "      <td>1-3</td>\n",
       "    </tr>\n",
       "    <tr>\n",
       "      <th>4840</th>\n",
       "      <td>BMW</td>\n",
       "      <td>218 Gran Tourer</td>\n",
       "      <td>19633.0</td>\n",
       "      <td>110.0</td>\n",
       "      <td>2015-10-01</td>\n",
       "      <td>diesel</td>\n",
       "      <td>grey</td>\n",
       "      <td>van</td>\n",
       "      <td>False</td>\n",
       "      <td>True</td>\n",
       "      <td>...</td>\n",
       "      <td>False</td>\n",
       "      <td>True</td>\n",
       "      <td>True</td>\n",
       "      <td>17000.0</td>\n",
       "      <td>2018-09-01</td>\n",
       "      <td>2015.0</td>\n",
       "      <td>2018.0</td>\n",
       "      <td>3.0</td>\n",
       "      <td>1.0</td>\n",
       "      <td>1-3</td>\n",
       "    </tr>\n",
       "    <tr>\n",
       "      <th>4841</th>\n",
       "      <td>BMW</td>\n",
       "      <td>218 Active Tourer</td>\n",
       "      <td>27920.0</td>\n",
       "      <td>110.0</td>\n",
       "      <td>2016-04-01</td>\n",
       "      <td>diesel</td>\n",
       "      <td>brown</td>\n",
       "      <td>van</td>\n",
       "      <td>True</td>\n",
       "      <td>True</td>\n",
       "      <td>...</td>\n",
       "      <td>False</td>\n",
       "      <td>True</td>\n",
       "      <td>True</td>\n",
       "      <td>22700.0</td>\n",
       "      <td>2018-09-01</td>\n",
       "      <td>2016.0</td>\n",
       "      <td>2018.0</td>\n",
       "      <td>2.0</td>\n",
       "      <td>0.0</td>\n",
       "      <td>1-3</td>\n",
       "    </tr>\n",
       "    <tr>\n",
       "      <th>4842</th>\n",
       "      <td>BMW</td>\n",
       "      <td>525</td>\n",
       "      <td>195840.0</td>\n",
       "      <td>160.0</td>\n",
       "      <td>NaT</td>\n",
       "      <td>diesel</td>\n",
       "      <td>grey</td>\n",
       "      <td>estate</td>\n",
       "      <td>True</td>\n",
       "      <td>True</td>\n",
       "      <td>...</td>\n",
       "      <td>False</td>\n",
       "      <td>True</td>\n",
       "      <td>True</td>\n",
       "      <td>15500.0</td>\n",
       "      <td>2018-09-01</td>\n",
       "      <td>NaN</td>\n",
       "      <td>2018.0</td>\n",
       "      <td>NaN</td>\n",
       "      <td>1.0</td>\n",
       "      <td>NaN</td>\n",
       "    </tr>\n",
       "  </tbody>\n",
       "</table>\n",
       "<p>4843 rows × 23 columns</p>\n",
       "</div>"
      ],
      "text/plain": [
       "     marca             modelo        km  potencia fecha_registro  \\\n",
       "0      NaN                118  140411.0     100.0     2012-02-01   \n",
       "1      BMW                 M4   13929.0     317.0            NaT   \n",
       "2      BMW                320  183297.0     120.0     2012-04-01   \n",
       "3      BMW                420  128035.0     135.0            NaT   \n",
       "4      BMW                425   97097.0     160.0            NaT   \n",
       "...    ...                ...       ...       ...            ...   \n",
       "4838   BMW    218 Gran Tourer   39743.0     110.0            NaT   \n",
       "4839   BMW  218 Active Tourer   49832.0     100.0     2015-06-01   \n",
       "4840   BMW    218 Gran Tourer   19633.0     110.0     2015-10-01   \n",
       "4841   BMW  218 Active Tourer   27920.0     110.0     2016-04-01   \n",
       "4842   BMW                525  195840.0     160.0            NaT   \n",
       "\n",
       "     tipo_gasolina   color   tipo_coche volante_regulable  aire_acondicionado  \\\n",
       "0           diesel   black        coupe              True                True   \n",
       "1           petrol    grey  convertible              True                True   \n",
       "2           diesel   white        sedan             False               False   \n",
       "3           diesel     red  convertible              True                True   \n",
       "4           diesel  silver        coupe              True                True   \n",
       "...            ...     ...          ...               ...                 ...   \n",
       "4838        diesel   black          van             False                True   \n",
       "4839        diesel    grey          van             False                True   \n",
       "4840        diesel    grey          van             False                True   \n",
       "4841        diesel   brown          van              True                True   \n",
       "4842        diesel    grey       estate              True                True   \n",
       "\n",
       "      ... bluetooth   gps alerta_lim_velocidad   precio  fecha_venta  \\\n",
       "0     ...      True  True                  NaN  11300.0   2018-01-01   \n",
       "1     ...      True  True                 True  69700.0   2018-02-01   \n",
       "2     ...     False  True                False  10200.0   2018-02-01   \n",
       "3     ...      True  True                  NaN  25100.0   2018-02-01   \n",
       "4     ...      True  True                 True  33400.0   2018-04-01   \n",
       "...   ...       ...   ...                  ...      ...          ...   \n",
       "4838  ...     False  True                False  14600.0   2018-08-01   \n",
       "4839  ...     False  True                 True  17500.0   2018-08-01   \n",
       "4840  ...     False  True                 True  17000.0   2018-09-01   \n",
       "4841  ...     False  True                 True  22700.0   2018-09-01   \n",
       "4842  ...     False  True                 True  15500.0   2018-09-01   \n",
       "\n",
       "     year_registro  year_venta edad_coche  color_estandar  edad  \n",
       "0          2012.0     2018.0        6.0             1.0   4-6  \n",
       "1             NaN     2018.0        NaN             1.0   NaN  \n",
       "2          2012.0     2018.0        6.0             1.0   4-6  \n",
       "3             NaN     2018.0        NaN             0.0   NaN  \n",
       "4             NaN     2018.0        NaN             0.0   NaN  \n",
       "...           ...        ...        ...             ...   ...  \n",
       "4838          NaN     2018.0        NaN             1.0   NaN  \n",
       "4839       2015.0     2018.0        3.0             1.0   1-3  \n",
       "4840       2015.0     2018.0        3.0             1.0   1-3  \n",
       "4841       2016.0     2018.0        2.0             0.0   1-3  \n",
       "4842          NaN     2018.0        NaN             1.0   NaN  \n",
       "\n",
       "[4843 rows x 23 columns]"
      ]
     },
     "execution_count": 118,
     "metadata": {},
     "output_type": "execute_result"
    }
   ],
   "source": [
    "df_bmw"
   ]
  },
  {
   "cell_type": "code",
   "execution_count": null,
   "id": "8f1b1727",
   "metadata": {},
   "outputs": [],
   "source": [
    "df_bmw_original = df_bmw_original1.copy()\n",
    "df_bmw = df_bmw1.copy()"
   ]
  },
  {
   "cell_type": "code",
   "execution_count": null,
   "id": "c6d17c00",
   "metadata": {},
   "outputs": [],
   "source": [
    "moda_paso_1 = df_bmw.groupby(['edad','tipo_coche','modelo','potencia', 'asientos_traseros_plegables', 'aire_acondicionado'])['bluetooth'].agg(obtener_moda).reset_index()\n",
    "moda_paso_1 = moda_paso_1.rename(columns={'bluetooth': 'MODA_PASO_1'})\n",
    "\n",
    "df_bmw = df_bmw.merge(moda_paso_1, on=['edad','tipo_coche','modelo','potencia', 'asientos_traseros_plegables', 'aire_acondicionado'], how='left')\n",
    "df_bmw['bluetooth'] = df_bmw['bluetooth'].fillna(df_bmw['MODA_PASO_1'])\n",
    "df_bmw.drop(columns=['MODA_PASO_1'], inplace=True)"
   ]
  },
  {
   "cell_type": "code",
   "execution_count": null,
   "id": "94652337",
   "metadata": {},
   "outputs": [
    {
     "data": {
      "text/html": [
       "<div>\n",
       "<style scoped>\n",
       "    .dataframe tbody tr th:only-of-type {\n",
       "        vertical-align: middle;\n",
       "    }\n",
       "\n",
       "    .dataframe tbody tr th {\n",
       "        vertical-align: top;\n",
       "    }\n",
       "\n",
       "    .dataframe thead th {\n",
       "        text-align: right;\n",
       "    }\n",
       "</style>\n",
       "<table border=\"1\" class=\"dataframe\">\n",
       "  <thead>\n",
       "    <tr style=\"text-align: right;\">\n",
       "      <th></th>\n",
       "      <th>NULOS</th>\n",
       "      <th>% NULOS</th>\n",
       "      <th>VALORES UNICOS</th>\n",
       "    </tr>\n",
       "  </thead>\n",
       "  <tbody>\n",
       "    <tr>\n",
       "      <th>bluetooth</th>\n",
       "      <td>663</td>\n",
       "      <td>13.689862</td>\n",
       "      <td>2</td>\n",
       "    </tr>\n",
       "  </tbody>\n",
       "</table>\n",
       "</div>"
      ],
      "text/plain": [
       "           NULOS    % NULOS  VALORES UNICOS\n",
       "bluetooth    663  13.689862               2"
      ]
     },
     "execution_count": 121,
     "metadata": {},
     "output_type": "execute_result"
    }
   ],
   "source": [
    "tabla_nulos(df_bmw).loc[['bluetooth']]"
   ]
  },
  {
   "cell_type": "code",
   "execution_count": null,
   "id": "8199ea3a",
   "metadata": {},
   "outputs": [],
   "source": [
    "moda_paso_1 = df_bmw.groupby(['modelo', 'asientos_traseros_plegables', 'aire_acondicionado'])['bluetooth'].agg(obtener_moda).reset_index()\n",
    "moda_paso_1 = moda_paso_1.rename(columns={'bluetooth': 'MODA_PASO_1'})\n",
    "\n",
    "df_bmw = df_bmw.merge(moda_paso_1, on=['modelo', 'asientos_traseros_plegables', 'aire_acondicionado'], how='left')\n",
    "df_bmw['bluetooth'] = df_bmw['bluetooth'].fillna(df_bmw['MODA_PASO_1'])\n",
    "df_bmw.drop(columns=['MODA_PASO_1'], inplace=True)"
   ]
  },
  {
   "cell_type": "code",
   "execution_count": null,
   "id": "f70960c6",
   "metadata": {},
   "outputs": [
    {
     "data": {
      "text/html": [
       "<div>\n",
       "<style scoped>\n",
       "    .dataframe tbody tr th:only-of-type {\n",
       "        vertical-align: middle;\n",
       "    }\n",
       "\n",
       "    .dataframe tbody tr th {\n",
       "        vertical-align: top;\n",
       "    }\n",
       "\n",
       "    .dataframe thead th {\n",
       "        text-align: right;\n",
       "    }\n",
       "</style>\n",
       "<table border=\"1\" class=\"dataframe\">\n",
       "  <thead>\n",
       "    <tr style=\"text-align: right;\">\n",
       "      <th></th>\n",
       "      <th>NULOS</th>\n",
       "      <th>% NULOS</th>\n",
       "      <th>VALORES UNICOS</th>\n",
       "    </tr>\n",
       "  </thead>\n",
       "  <tbody>\n",
       "    <tr>\n",
       "      <th>bluetooth</th>\n",
       "      <td>523</td>\n",
       "      <td>10.799091</td>\n",
       "      <td>2</td>\n",
       "    </tr>\n",
       "  </tbody>\n",
       "</table>\n",
       "</div>"
      ],
      "text/plain": [
       "           NULOS    % NULOS  VALORES UNICOS\n",
       "bluetooth    523  10.799091               2"
      ]
     },
     "execution_count": 123,
     "metadata": {},
     "output_type": "execute_result"
    }
   ],
   "source": [
    "tabla_nulos(df_bmw).loc[['bluetooth']]"
   ]
  },
  {
   "cell_type": "code",
   "execution_count": null,
   "id": "e0ff968a",
   "metadata": {},
   "outputs": [],
   "source": [
    "moda_paso_1 = df_bmw.groupby(['modelo','elevalunas_electrico'])['bluetooth'].agg(obtener_moda).reset_index()\n",
    "moda_paso_1 = moda_paso_1.rename(columns={'bluetooth': 'MODA_PASO_1'})\n",
    "df_bmw = df_bmw.merge(moda_paso_1, on=['modelo','elevalunas_electrico'], how='left')\n",
    "df_bmw['bluetooth'] = df_bmw['bluetooth'].fillna(df_bmw['MODA_PASO_1'])\n",
    "df_bmw.drop(columns=['MODA_PASO_1'], inplace=True)"
   ]
  },
  {
   "cell_type": "code",
   "execution_count": null,
   "id": "501427b9",
   "metadata": {},
   "outputs": [
    {
     "data": {
      "text/html": [
       "<div>\n",
       "<style scoped>\n",
       "    .dataframe tbody tr th:only-of-type {\n",
       "        vertical-align: middle;\n",
       "    }\n",
       "\n",
       "    .dataframe tbody tr th {\n",
       "        vertical-align: top;\n",
       "    }\n",
       "\n",
       "    .dataframe thead th {\n",
       "        text-align: right;\n",
       "    }\n",
       "</style>\n",
       "<table border=\"1\" class=\"dataframe\">\n",
       "  <thead>\n",
       "    <tr style=\"text-align: right;\">\n",
       "      <th></th>\n",
       "      <th>NULOS</th>\n",
       "      <th>% NULOS</th>\n",
       "      <th>VALORES UNICOS</th>\n",
       "    </tr>\n",
       "  </thead>\n",
       "  <tbody>\n",
       "    <tr>\n",
       "      <th>bluetooth</th>\n",
       "      <td>5</td>\n",
       "      <td>0.103242</td>\n",
       "      <td>2</td>\n",
       "    </tr>\n",
       "  </tbody>\n",
       "</table>\n",
       "</div>"
      ],
      "text/plain": [
       "           NULOS   % NULOS  VALORES UNICOS\n",
       "bluetooth      5  0.103242               2"
      ]
     },
     "execution_count": 125,
     "metadata": {},
     "output_type": "execute_result"
    }
   ],
   "source": [
    "tabla_nulos(df_bmw).loc[['bluetooth']]"
   ]
  },
  {
   "cell_type": "code",
   "execution_count": null,
   "id": "aa1164a5",
   "metadata": {},
   "outputs": [],
   "source": [
    "moda_paso_1 = df_bmw.groupby(['modelo'])['bluetooth'].agg(obtener_moda).reset_index()\n",
    "moda_paso_1 = moda_paso_1.rename(columns={'bluetooth': 'MODA_PASO_1'})\n",
    "df_bmw = df_bmw.merge(moda_paso_1, on=['modelo'], how='left')\n",
    "df_bmw['bluetooth'] = df_bmw['bluetooth'].fillna(df_bmw['MODA_PASO_1'])\n",
    "df_bmw.drop(columns=['MODA_PASO_1'], inplace=True)"
   ]
  },
  {
   "cell_type": "code",
   "execution_count": null,
   "id": "79499e41",
   "metadata": {},
   "outputs": [
    {
     "data": {
      "text/html": [
       "<div>\n",
       "<style scoped>\n",
       "    .dataframe tbody tr th:only-of-type {\n",
       "        vertical-align: middle;\n",
       "    }\n",
       "\n",
       "    .dataframe tbody tr th {\n",
       "        vertical-align: top;\n",
       "    }\n",
       "\n",
       "    .dataframe thead th {\n",
       "        text-align: right;\n",
       "    }\n",
       "</style>\n",
       "<table border=\"1\" class=\"dataframe\">\n",
       "  <thead>\n",
       "    <tr style=\"text-align: right;\">\n",
       "      <th></th>\n",
       "      <th>NULOS</th>\n",
       "      <th>% NULOS</th>\n",
       "      <th>VALORES UNICOS</th>\n",
       "    </tr>\n",
       "  </thead>\n",
       "  <tbody>\n",
       "    <tr>\n",
       "      <th>bluetooth</th>\n",
       "      <td>2</td>\n",
       "      <td>0.041297</td>\n",
       "      <td>2</td>\n",
       "    </tr>\n",
       "  </tbody>\n",
       "</table>\n",
       "</div>"
      ],
      "text/plain": [
       "           NULOS   % NULOS  VALORES UNICOS\n",
       "bluetooth      2  0.041297               2"
      ]
     },
     "execution_count": 127,
     "metadata": {},
     "output_type": "execute_result"
    }
   ],
   "source": [
    "tabla_nulos(df_bmw).loc[['bluetooth']]"
   ]
  },
  {
   "cell_type": "code",
   "execution_count": null,
   "id": "30ab1bd5",
   "metadata": {},
   "outputs": [],
   "source": [
    "# Calcular la moda de la columna 'bluetooth'\n",
    "moda_bluetooth = df_bmw['bluetooth'].mode().iloc[0]\n",
    "\n",
    "# Rellenar los valores nulos con la moda\n",
    "df_bmw['bluetooth'] = df_bmw['bluetooth'].fillna(moda_bluetooth)"
   ]
  },
  {
   "cell_type": "code",
   "execution_count": null,
   "id": "c70442f2",
   "metadata": {},
   "outputs": [
    {
     "data": {
      "text/html": [
       "<div>\n",
       "<style scoped>\n",
       "    .dataframe tbody tr th:only-of-type {\n",
       "        vertical-align: middle;\n",
       "    }\n",
       "\n",
       "    .dataframe tbody tr th {\n",
       "        vertical-align: top;\n",
       "    }\n",
       "\n",
       "    .dataframe thead th {\n",
       "        text-align: right;\n",
       "    }\n",
       "</style>\n",
       "<table border=\"1\" class=\"dataframe\">\n",
       "  <thead>\n",
       "    <tr style=\"text-align: right;\">\n",
       "      <th></th>\n",
       "      <th>NULOS</th>\n",
       "      <th>% NULOS</th>\n",
       "      <th>VALORES UNICOS</th>\n",
       "    </tr>\n",
       "  </thead>\n",
       "  <tbody>\n",
       "    <tr>\n",
       "      <th>bluetooth</th>\n",
       "      <td>0</td>\n",
       "      <td>0.0</td>\n",
       "      <td>2</td>\n",
       "    </tr>\n",
       "  </tbody>\n",
       "</table>\n",
       "</div>"
      ],
      "text/plain": [
       "           NULOS  % NULOS  VALORES UNICOS\n",
       "bluetooth      0      0.0               2"
      ]
     },
     "execution_count": 129,
     "metadata": {},
     "output_type": "execute_result"
    }
   ],
   "source": [
    "tabla_nulos(df_bmw).loc[['bluetooth']]"
   ]
  },
  {
   "cell_type": "code",
   "execution_count": null,
   "id": "c8f02ec0",
   "metadata": {},
   "outputs": [
    {
     "name": "stdout",
     "output_type": "stream",
     "text": [
      "Aciertos: 577 de 728 imputaciones\n",
      "Porcentaje de acierto: 79.26%\n"
     ]
    }
   ],
   "source": [
    "# 1. Identificar las filas que originalmente tenían nulos en 'color'\n",
    "nulos_originales = bmw['bluetooth'].isnull()\n",
    "\n",
    "# 2. Filtrar solo esas filas para comparar\n",
    "edad_imputada = df_bmw.loc[nulos_originales, 'bluetooth'] # df donde se han imputado nulos\n",
    "edad_real = df_bmw_original.loc[nulos_originales, 'bluetooth'] # copia del df original sin modificaciones\n",
    "\n",
    "# 3. Calcular aciertos\n",
    "aciertos = (edad_imputada == edad_real).sum()\n",
    "total = nulos_originales.sum()\n",
    "porcentaje_acierto = (aciertos / total) * 100 if total > 0 else None\n",
    "\n",
    "# 4. Mostrar resultados\n",
    "print(f\"Aciertos: {aciertos} de {total} imputaciones\")\n",
    "print(f\"Porcentaje de acierto: {porcentaje_acierto:.2f}%\")"
   ]
  },
  {
   "cell_type": "code",
   "execution_count": 42,
   "id": "9195896e",
   "metadata": {},
   "outputs": [
    {
     "data": {
      "text/plain": [
       "bluetooth\n",
       "False    0.757959\n",
       "True     0.242041\n",
       "Name: proportion, dtype: float64"
      ]
     },
     "execution_count": 42,
     "metadata": {},
     "output_type": "execute_result"
    }
   ],
   "source": [
    "# Ver que distribucion de valores tiene la columna bluetooth\n",
    "df_bmw['bluetooth'].value_counts(normalize=True)"
   ]
  },
  {
   "cell_type": "markdown",
   "id": "7f081732",
   "metadata": {},
   "source": [
    "## COMPROBACIÓN DE LA IMPUTACIÓN ALERTA LIMITE VELOCIDAD"
   ]
  },
  {
   "cell_type": "markdown",
   "id": "f41fcfe4",
   "metadata": {},
   "source": [
    "### VERSIÓN 1 - 65,38%"
   ]
  },
  {
   "cell_type": "code",
   "execution_count": null,
   "id": "8d4f28e6",
   "metadata": {},
   "outputs": [
    {
     "data": {
      "text/html": [
       "<div>\n",
       "<style scoped>\n",
       "    .dataframe tbody tr th:only-of-type {\n",
       "        vertical-align: middle;\n",
       "    }\n",
       "\n",
       "    .dataframe tbody tr th {\n",
       "        vertical-align: top;\n",
       "    }\n",
       "\n",
       "    .dataframe thead th {\n",
       "        text-align: right;\n",
       "    }\n",
       "</style>\n",
       "<table border=\"1\" class=\"dataframe\">\n",
       "  <thead>\n",
       "    <tr style=\"text-align: right;\">\n",
       "      <th></th>\n",
       "      <th>NULOS</th>\n",
       "      <th>% NULOS</th>\n",
       "      <th>VALORES UNICOS</th>\n",
       "    </tr>\n",
       "  </thead>\n",
       "  <tbody>\n",
       "    <tr>\n",
       "      <th>alerta_lim_velocidad</th>\n",
       "      <td>728</td>\n",
       "      <td>15.032005</td>\n",
       "      <td>2</td>\n",
       "    </tr>\n",
       "  </tbody>\n",
       "</table>\n",
       "</div>"
      ],
      "text/plain": [
       "                      NULOS    % NULOS  VALORES UNICOS\n",
       "alerta_lim_velocidad    728  15.032005               2"
      ]
     },
     "execution_count": 131,
     "metadata": {},
     "output_type": "execute_result"
    }
   ],
   "source": [
    "tabla_nulos(df_bmw).loc[['alerta_lim_velocidad']]"
   ]
  },
  {
   "cell_type": "code",
   "execution_count": null,
   "id": "bae4dd1a",
   "metadata": {},
   "outputs": [
    {
     "data": {
      "text/plain": [
       "alerta_lim_velocidad\n",
       "True     0.54435\n",
       "False    0.45565\n",
       "Name: proportion, dtype: float64"
      ]
     },
     "execution_count": 132,
     "metadata": {},
     "output_type": "execute_result"
    }
   ],
   "source": [
    "distribuciones['alerta_lim_velocidad']"
   ]
  },
  {
   "cell_type": "code",
   "execution_count": null,
   "id": "204538ca",
   "metadata": {},
   "outputs": [],
   "source": [
    "tabla_moda_alerta_lim_velocidad = df_bmw[~(df_bmw['alerta_lim_velocidad'].isnull())].groupby(['edad','tipo_coche','modelo','potencia','volante_regulable','elevalunas_electrico'])['alerta_lim_velocidad'].agg([stat.mode])"
   ]
  },
  {
   "cell_type": "code",
   "execution_count": null,
   "id": "0d1f26c4",
   "metadata": {},
   "outputs": [
    {
     "data": {
      "text/html": [
       "<div>\n",
       "<style scoped>\n",
       "    .dataframe tbody tr th:only-of-type {\n",
       "        vertical-align: middle;\n",
       "    }\n",
       "\n",
       "    .dataframe tbody tr th {\n",
       "        vertical-align: top;\n",
       "    }\n",
       "\n",
       "    .dataframe thead th {\n",
       "        text-align: right;\n",
       "    }\n",
       "</style>\n",
       "<table border=\"1\" class=\"dataframe\">\n",
       "  <thead>\n",
       "    <tr style=\"text-align: right;\">\n",
       "      <th></th>\n",
       "      <th>NULOS</th>\n",
       "      <th>% NULOS</th>\n",
       "      <th>VALORES UNICOS</th>\n",
       "    </tr>\n",
       "  </thead>\n",
       "  <tbody>\n",
       "    <tr>\n",
       "      <th>alerta_lim_velocidad</th>\n",
       "      <td>728</td>\n",
       "      <td>15.032005</td>\n",
       "      <td>2</td>\n",
       "    </tr>\n",
       "  </tbody>\n",
       "</table>\n",
       "</div>"
      ],
      "text/plain": [
       "                      NULOS    % NULOS  VALORES UNICOS\n",
       "alerta_lim_velocidad    728  15.032005               2"
      ]
     },
     "execution_count": 134,
     "metadata": {},
     "output_type": "execute_result"
    }
   ],
   "source": [
    "tabla_nulos(df_bmw).loc[['alerta_lim_velocidad']]"
   ]
  },
  {
   "cell_type": "code",
   "execution_count": null,
   "id": "21271055",
   "metadata": {},
   "outputs": [],
   "source": [
    "tabla_moda_alerta_lim_velocidad_mas_general = df_bmw[~(df_bmw['alerta_lim_velocidad'].isnull())].groupby(['edad','tipo_coche','volante_regulable','elevalunas_electrico'])['alerta_lim_velocidad'].agg([stat.mode])"
   ]
  },
  {
   "cell_type": "code",
   "execution_count": null,
   "id": "f424e3e6",
   "metadata": {},
   "outputs": [
    {
     "data": {
      "text/html": [
       "<div>\n",
       "<style scoped>\n",
       "    .dataframe tbody tr th:only-of-type {\n",
       "        vertical-align: middle;\n",
       "    }\n",
       "\n",
       "    .dataframe tbody tr th {\n",
       "        vertical-align: top;\n",
       "    }\n",
       "\n",
       "    .dataframe thead th {\n",
       "        text-align: right;\n",
       "    }\n",
       "</style>\n",
       "<table border=\"1\" class=\"dataframe\">\n",
       "  <thead>\n",
       "    <tr style=\"text-align: right;\">\n",
       "      <th></th>\n",
       "      <th>NULOS</th>\n",
       "      <th>% NULOS</th>\n",
       "      <th>VALORES UNICOS</th>\n",
       "    </tr>\n",
       "  </thead>\n",
       "  <tbody>\n",
       "    <tr>\n",
       "      <th>alerta_lim_velocidad</th>\n",
       "      <td>728</td>\n",
       "      <td>15.032005</td>\n",
       "      <td>2</td>\n",
       "    </tr>\n",
       "  </tbody>\n",
       "</table>\n",
       "</div>"
      ],
      "text/plain": [
       "                      NULOS    % NULOS  VALORES UNICOS\n",
       "alerta_lim_velocidad    728  15.032005               2"
      ]
     },
     "execution_count": 136,
     "metadata": {},
     "output_type": "execute_result"
    }
   ],
   "source": [
    "tabla_nulos(df_bmw).loc[['alerta_lim_velocidad']]"
   ]
  },
  {
   "cell_type": "code",
   "execution_count": null,
   "id": "dbfb8be1",
   "metadata": {},
   "outputs": [],
   "source": [
    "# reemplazemos los nulos en alerta_lim_velocidad con la moda por 'edad_coche', 'tipo_coche','modelo','potencia','volante_regulable' y 'elevalunas_electrico'.\n",
    "# Cuando no es posible usemos la moda por 'edad_coche','tipo_coche','volante_regulable', y 'elevalunas_electrico'\n",
    "\n",
    "for i in df_bmw[df_bmw['alerta_lim_velocidad'].isnull()].index:\n",
    "  edad_coche = df_bmw.loc[i,'edad']\n",
    "  tipo_coche = df_bmw.loc[i,'tipo_coche']\n",
    "  modelo = df_bmw.loc[i,'modelo']\n",
    "  potencia = df_bmw.loc[i,'potencia']\n",
    "  volante_regulable = df_bmw.loc[i,'volante_regulable']\n",
    "  elevalunas_electrico = df_bmw.loc[i,'elevalunas_electrico']\n",
    " # existe la moda por ''edad_coche,'tipo_coche','modelo','potencia','volante_regulable','elevalunas_electrico'?\n",
    "  if (edad_coche,tipo_coche,modelo,potencia,volante_regulable,elevalunas_electrico) in tabla_moda_alerta_lim_velocidad.index:\n",
    "    alerta_lim_velocidad = tabla_moda_alerta_lim_velocidad.loc[(edad_coche,tipo_coche,modelo,potencia,volante_regulable,elevalunas_electrico)].values[0]\n",
    " # si no, existe la moda solo por 'edad_coche','tipo_coche','volante_regulable', y 'elevalunas_electrico'?\n",
    "  elif (edad_coche,tipo_coche,volante_regulable,elevalunas_electrico) in tabla_moda_alerta_lim_velocidad_mas_general.index:\n",
    "    alerta_lim_velocidad = tabla_moda_alerta_lim_velocidad_mas_general.loc[(edad_coche,tipo_coche,volante_regulable,elevalunas_electrico)].values[0]\n",
    "\n",
    "  df_bmw.loc[i,'alerta_lim_velocidad'] = alerta_lim_velocidad"
   ]
  },
  {
   "cell_type": "code",
   "execution_count": null,
   "id": "4a7ee2d3",
   "metadata": {},
   "outputs": [
    {
     "name": "stdout",
     "output_type": "stream",
     "text": [
      "Aciertos: 440 de 728 imputaciones\n",
      "Porcentaje de acierto: 60.44%\n"
     ]
    }
   ],
   "source": [
    "# 1. Identificar las filas que originalmente tenían nulos en 'color'\n",
    "nulos_originales = bmw['alerta_lim_velocidad'].isnull()\n",
    "\n",
    "# 2. Filtrar solo esas filas para comparar\n",
    "edad_imputada = df_bmw.loc[nulos_originales, 'alerta_lim_velocidad'] # df donde se han imputado nulos\n",
    "edad_real = df_bmw_original.loc[nulos_originales, 'alerta_lim_velocidad'] # copia del df original sin modificaciones\n",
    "\n",
    "# 3. Calcular aciertos\n",
    "aciertos = (edad_imputada == edad_real).sum()\n",
    "total = nulos_originales.sum()\n",
    "porcentaje_acierto = (aciertos / total) * 100 if total > 0 else None\n",
    "\n",
    "# 4. Mostrar resultados\n",
    "print(f\"Aciertos: {aciertos} de {total} imputaciones\")\n",
    "print(f\"Porcentaje de acierto: {porcentaje_acierto:.2f}%\")"
   ]
  },
  {
   "cell_type": "markdown",
   "id": "c715ddc6",
   "metadata": {},
   "source": [
    "### VERSIÓN 2 - 72,53% 'potencia', 'km / modelo', 'potencia / moda general"
   ]
  },
  {
   "cell_type": "code",
   "execution_count": null,
   "id": "798932cf",
   "metadata": {},
   "outputs": [],
   "source": [
    "df_bmw_original = df_bmw_original1.copy()\n",
    "df_bmw = df_bmw1.copy()"
   ]
  },
  {
   "cell_type": "code",
   "execution_count": null,
   "id": "6c67676f",
   "metadata": {},
   "outputs": [
    {
     "data": {
      "text/html": [
       "<div>\n",
       "<style scoped>\n",
       "    .dataframe tbody tr th:only-of-type {\n",
       "        vertical-align: middle;\n",
       "    }\n",
       "\n",
       "    .dataframe tbody tr th {\n",
       "        vertical-align: top;\n",
       "    }\n",
       "\n",
       "    .dataframe thead th {\n",
       "        text-align: right;\n",
       "    }\n",
       "</style>\n",
       "<table border=\"1\" class=\"dataframe\">\n",
       "  <thead>\n",
       "    <tr style=\"text-align: right;\">\n",
       "      <th></th>\n",
       "      <th>NULOS</th>\n",
       "      <th>% NULOS</th>\n",
       "      <th>VALORES UNICOS</th>\n",
       "    </tr>\n",
       "  </thead>\n",
       "  <tbody>\n",
       "    <tr>\n",
       "      <th>alerta_lim_velocidad</th>\n",
       "      <td>728</td>\n",
       "      <td>15.032005</td>\n",
       "      <td>2</td>\n",
       "    </tr>\n",
       "  </tbody>\n",
       "</table>\n",
       "</div>"
      ],
      "text/plain": [
       "                      NULOS    % NULOS  VALORES UNICOS\n",
       "alerta_lim_velocidad    728  15.032005               2"
      ]
     },
     "execution_count": 140,
     "metadata": {},
     "output_type": "execute_result"
    }
   ],
   "source": [
    "tabla_nulos(df_bmw).loc[['alerta_lim_velocidad']]"
   ]
  },
  {
   "cell_type": "code",
   "execution_count": null,
   "id": "7beb7a10",
   "metadata": {},
   "outputs": [
    {
     "data": {
      "text/plain": [
       "alerta_lim_velocidad\n",
       "True     0.54435\n",
       "False    0.45565\n",
       "Name: proportion, dtype: float64"
      ]
     },
     "execution_count": 141,
     "metadata": {},
     "output_type": "execute_result"
    }
   ],
   "source": [
    "distribuciones['alerta_lim_velocidad']"
   ]
  },
  {
   "cell_type": "code",
   "execution_count": null,
   "id": "cfef2e87",
   "metadata": {},
   "outputs": [
    {
     "name": "stdout",
     "output_type": "stream",
     "text": [
      "<class 'pandas.core.frame.DataFrame'>\n",
      "RangeIndex: 4843 entries, 0 to 4842\n",
      "Data columns (total 23 columns):\n",
      " #   Column                       Non-Null Count  Dtype         \n",
      "---  ------                       --------------  -----         \n",
      " 0   marca                        3873 non-null   object        \n",
      " 1   modelo                       4840 non-null   object        \n",
      " 2   km                           4841 non-null   float64       \n",
      " 3   potencia                     4842 non-null   float64       \n",
      " 4   fecha_registro               2420 non-null   datetime64[ns]\n",
      " 5   tipo_gasolina                4838 non-null   object        \n",
      " 6   color                        4398 non-null   object        \n",
      " 7   tipo_coche                   4841 non-null   object        \n",
      " 8   volante_regulable            4839 non-null   object        \n",
      " 9   aire_acondicionado           4357 non-null   object        \n",
      " 10  camara_trasera               4841 non-null   object        \n",
      " 11  asientos_traseros_plegables  1452 non-null   object        \n",
      " 12  elevalunas_electrico         4841 non-null   object        \n",
      " 13  bluetooth                    4115 non-null   object        \n",
      " 14  gps                          4843 non-null   bool          \n",
      " 15  alerta_lim_velocidad         4115 non-null   object        \n",
      " 16  precio                       4837 non-null   float64       \n",
      " 17  fecha_venta                  4842 non-null   datetime64[ns]\n",
      " 18  year_registro                 2420 non-null   float64       \n",
      " 19  year_venta                    4842 non-null   float64       \n",
      " 20  edad_coche                   2420 non-null   float64       \n",
      " 21  color_estandar               4843 non-null   float64       \n",
      " 22  edad                         2420 non-null   float64       \n",
      "dtypes: bool(1), datetime64[ns](2), float64(8), object(12)\n",
      "memory usage: 837.2+ KB\n"
     ]
    }
   ],
   "source": [
    "df_bmw.info()"
   ]
  },
  {
   "cell_type": "code",
   "execution_count": null,
   "id": "e56c429f",
   "metadata": {},
   "outputs": [],
   "source": [
    "moda_paso_1 = df_bmw.groupby(['potencia', 'km'])['alerta_lim_velocidad'].agg(obtener_moda).reset_index()\n",
    "moda_paso_1 = moda_paso_1.rename(columns={'alerta_lim_velocidad': 'MODA_PASO_1'})\n",
    "df_bmw = df_bmw.merge(moda_paso_1, on=['potencia', 'km'], how='left')\n",
    "df_bmw['alerta_lim_velocidad'] = df_bmw['alerta_lim_velocidad'].fillna(df_bmw['MODA_PASO_1'])\n",
    "df_bmw.drop(columns=['MODA_PASO_1'], inplace=True)"
   ]
  },
  {
   "cell_type": "code",
   "execution_count": null,
   "id": "1ccd41ad",
   "metadata": {},
   "outputs": [
    {
     "data": {
      "text/html": [
       "<div>\n",
       "<style scoped>\n",
       "    .dataframe tbody tr th:only-of-type {\n",
       "        vertical-align: middle;\n",
       "    }\n",
       "\n",
       "    .dataframe tbody tr th {\n",
       "        vertical-align: top;\n",
       "    }\n",
       "\n",
       "    .dataframe thead th {\n",
       "        text-align: right;\n",
       "    }\n",
       "</style>\n",
       "<table border=\"1\" class=\"dataframe\">\n",
       "  <thead>\n",
       "    <tr style=\"text-align: right;\">\n",
       "      <th></th>\n",
       "      <th>NULOS</th>\n",
       "      <th>% NULOS</th>\n",
       "      <th>VALORES UNICOS</th>\n",
       "    </tr>\n",
       "  </thead>\n",
       "  <tbody>\n",
       "    <tr>\n",
       "      <th>alerta_lim_velocidad</th>\n",
       "      <td>723</td>\n",
       "      <td>14.928763</td>\n",
       "      <td>2</td>\n",
       "    </tr>\n",
       "  </tbody>\n",
       "</table>\n",
       "</div>"
      ],
      "text/plain": [
       "                      NULOS    % NULOS  VALORES UNICOS\n",
       "alerta_lim_velocidad    723  14.928763               2"
      ]
     },
     "execution_count": 144,
     "metadata": {},
     "output_type": "execute_result"
    }
   ],
   "source": [
    "tabla_nulos(df_bmw).loc[['alerta_lim_velocidad']]"
   ]
  },
  {
   "cell_type": "code",
   "execution_count": null,
   "id": "f437fd65",
   "metadata": {},
   "outputs": [],
   "source": [
    "moda_paso_1 = df_bmw.groupby(['modelo', 'potencia'])['alerta_lim_velocidad'].agg(obtener_moda).reset_index()\n",
    "moda_paso_1 = moda_paso_1.rename(columns={'alerta_lim_velocidad': 'MODA_PASO_1'})\n",
    "df_bmw = df_bmw.merge(moda_paso_1, on=['modelo', 'potencia'], how='left')\n",
    "df_bmw['alerta_lim_velocidad'] = df_bmw['alerta_lim_velocidad'].fillna(df_bmw['MODA_PASO_1'])\n",
    "df_bmw.drop(columns=['MODA_PASO_1'], inplace=True)"
   ]
  },
  {
   "cell_type": "code",
   "execution_count": null,
   "id": "1d0efcad",
   "metadata": {},
   "outputs": [
    {
     "data": {
      "text/html": [
       "<div>\n",
       "<style scoped>\n",
       "    .dataframe tbody tr th:only-of-type {\n",
       "        vertical-align: middle;\n",
       "    }\n",
       "\n",
       "    .dataframe tbody tr th {\n",
       "        vertical-align: top;\n",
       "    }\n",
       "\n",
       "    .dataframe thead th {\n",
       "        text-align: right;\n",
       "    }\n",
       "</style>\n",
       "<table border=\"1\" class=\"dataframe\">\n",
       "  <thead>\n",
       "    <tr style=\"text-align: right;\">\n",
       "      <th></th>\n",
       "      <th>NULOS</th>\n",
       "      <th>% NULOS</th>\n",
       "      <th>VALORES UNICOS</th>\n",
       "    </tr>\n",
       "  </thead>\n",
       "  <tbody>\n",
       "    <tr>\n",
       "      <th>alerta_lim_velocidad</th>\n",
       "      <td>13</td>\n",
       "      <td>0.268429</td>\n",
       "      <td>2</td>\n",
       "    </tr>\n",
       "  </tbody>\n",
       "</table>\n",
       "</div>"
      ],
      "text/plain": [
       "                      NULOS   % NULOS  VALORES UNICOS\n",
       "alerta_lim_velocidad     13  0.268429               2"
      ]
     },
     "execution_count": 146,
     "metadata": {},
     "output_type": "execute_result"
    }
   ],
   "source": [
    "tabla_nulos(df_bmw).loc[['alerta_lim_velocidad']]"
   ]
  },
  {
   "cell_type": "code",
   "execution_count": null,
   "id": "d76a0456",
   "metadata": {},
   "outputs": [
    {
     "data": {
      "text/html": [
       "<div>\n",
       "<style scoped>\n",
       "    .dataframe tbody tr th:only-of-type {\n",
       "        vertical-align: middle;\n",
       "    }\n",
       "\n",
       "    .dataframe tbody tr th {\n",
       "        vertical-align: top;\n",
       "    }\n",
       "\n",
       "    .dataframe thead th {\n",
       "        text-align: right;\n",
       "    }\n",
       "</style>\n",
       "<table border=\"1\" class=\"dataframe\">\n",
       "  <thead>\n",
       "    <tr style=\"text-align: right;\">\n",
       "      <th></th>\n",
       "      <th>NULOS</th>\n",
       "      <th>% NULOS</th>\n",
       "      <th>VALORES UNICOS</th>\n",
       "    </tr>\n",
       "  </thead>\n",
       "  <tbody>\n",
       "    <tr>\n",
       "      <th>alerta_lim_velocidad</th>\n",
       "      <td>0</td>\n",
       "      <td>0.0</td>\n",
       "      <td>2</td>\n",
       "    </tr>\n",
       "  </tbody>\n",
       "</table>\n",
       "</div>"
      ],
      "text/plain": [
       "                      NULOS  % NULOS  VALORES UNICOS\n",
       "alerta_lim_velocidad      0      0.0               2"
      ]
     },
     "execution_count": 147,
     "metadata": {},
     "output_type": "execute_result"
    }
   ],
   "source": [
    "# Calcular la moda de la columna 'bluetooth'\n",
    "moda_bluetooth = df_bmw['alerta_lim_velocidad'].mode().iloc[0]\n",
    "\n",
    "# Rellenar los valores nulos con la moda\n",
    "df_bmw['alerta_lim_velocidad'] = df_bmw['alerta_lim_velocidad'].fillna(moda_bluetooth)\n",
    "tabla_nulos(df_bmw).loc[['alerta_lim_velocidad']]"
   ]
  },
  {
   "cell_type": "code",
   "execution_count": null,
   "id": "29f2415a",
   "metadata": {},
   "outputs": [
    {
     "name": "stdout",
     "output_type": "stream",
     "text": [
      "Aciertos: 528 de 728 imputaciones\n",
      "Porcentaje de acierto: 72.53%\n"
     ]
    }
   ],
   "source": [
    "# 1. Identificar las filas que originalmente tenían nulos en 'color'\n",
    "nulos_originales = bmw['alerta_lim_velocidad'].isnull()\n",
    "\n",
    "# 2. Filtrar solo esas filas para comparar\n",
    "edad_imputada = df_bmw.loc[nulos_originales, 'alerta_lim_velocidad'] # df donde se han imputado nulos\n",
    "edad_real = df_bmw_original.loc[nulos_originales, 'alerta_lim_velocidad'] # copia del df original sin modificaciones\n",
    "\n",
    "# 3. Calcular aciertos\n",
    "aciertos = (edad_imputada == edad_real).sum()\n",
    "total = nulos_originales.sum()\n",
    "porcentaje_acierto = (aciertos / total) * 100 if total > 0 else None\n",
    "\n",
    "# 4. Mostrar resultados\n",
    "print(f\"Aciertos: {aciertos} de {total} imputaciones\")\n",
    "print(f\"Porcentaje de acierto: {porcentaje_acierto:.2f}%\")"
   ]
  },
  {
   "cell_type": "markdown",
   "id": "a4f372f4",
   "metadata": {},
   "source": []
  }
 ],
 "metadata": {
  "kernelspec": {
   "display_name": "Python 3",
   "language": "python",
   "name": "python3"
  },
  "language_info": {
   "codemirror_mode": {
    "name": "ipython",
    "version": 3
   },
   "file_extension": ".py",
   "mimetype": "text/x-python",
   "name": "python",
   "nbconvert_exporter": "python",
   "pygments_lexer": "ipython3",
   "version": "3.9.6"
  }
 },
 "nbformat": 4,
 "nbformat_minor": 5
}
