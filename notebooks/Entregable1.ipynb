{
 "cells": [
  {
   "cell_type": "markdown",
   "id": "c3ddeba7",
   "metadata": {},
   "source": [
    "![Nuclio logo](https://nuclio.school/wp-content/uploads/2018/12/nucleoDS-newBlack.png)"
   ]
  },
  {
   "cell_type": "markdown",
   "id": "f79a249b",
   "metadata": {},
   "source": [
    "## **ENTREGABLE 1:** Data Preparation - BMW Pricing\n",
    "## **INTEGRANTES DEL GRUPO:** Lluís Miarnau, Ariadna Rubió, Sergio Vásquez y David Larré\n",
    "\n",
    "____"
   ]
  },
  {
   "cell_type": "markdown",
   "id": "5bd81ac3",
   "metadata": {},
   "source": [
    "## **INTRODUCCIÓN**\n",
    "\n",
    "En este proyecto se trabajará con un dataset de vehículos BMW, el objetivo final es preparar el dataset para predecir el precio de los coches en función de diversas variables disponibles.\n",
    "\n",
    "Se realizará una exploración, limpieza y transformación completa de los datos para prepararlos adecuadamente para el modelo predictivo.\n",
    "\n",
    "## **COLUMNAS**\n",
    "\n",
    " Columna                          | Descripción |\n",
    "|----------------------------------|-------------|\n",
    "| **marca**                        | Marca del vehículo (en este caso, `BMW` o vacíos). |\n",
    "| **modelo**                       | Modelo específico del coche (por ejemplo, `118`, `M4`, `320`...). |\n",
    "| **km**                           | Kilómetros recorridos por el vehículo (indicador del uso). |\n",
    "| **potencia**                     | Potencia del motor en caballos (CV). |\n",
    "| **fecha_registro**               | Fecha en que se matriculó por primera vez el coche. |\n",
    "| **tipo_gasolina**                | Tipo de combustible que utiliza el vehículo (`diesel`, `petrol`, etc.). |\n",
    "| **color**                        | Color del coche (`black`, `white`, etc.). |\n",
    "| **tipo_coche**                   | Tipo de carrocería (`convertible`, `coupe`, etc.). |\n",
    "| **volante_regulable**            | Indica si el coche tiene volante ajustable (`True` / `False`). |\n",
    "| **aire_acondicionado**           | Indica si el coche tiene aire acondicionado (`True` / `False`). |\n",
    "| **camara_trasera**               | Indica si el coche tiene cámara de marcha atrás (`True` / `False`). |\n",
    "| **asientos_traseros_plegables**  | Indica si los asientos traseros pueden plegarse (`True` / `False`). |\n",
    "| **elevalunas_electrico**         | Indica si los elevalunas son eléctricos (`True` / `False`). |\n",
    "| **bluetooth**                    | Indica si el vehículo dispone de conexión Bluetooth (`True` / `False`). |\n",
    "| **gps**                          | Indica si el vehículo incluye sistema de navegación GPS (`True` / `False`). |\n",
    "| **alerta_lim_velocidad**         | Indica si tiene alerta de límite de velocidad (`True` / `False`). |\n",
    "| **precio**                       | Precio de venta en euros (€). Es la variable objetivo (**target**). |\n",
    "| **fecha_venta**                  | Fecha en la que se vendió el coche. |"
   ]
  },
  {
   "cell_type": "markdown",
   "id": "a66a37cd",
   "metadata": {},
   "source": [
    "## **00 - IMPORTACIÓN DE LIBRERÍAS**"
   ]
  },
  {
   "cell_type": "markdown",
   "id": "5cff7c68",
   "metadata": {},
   "source": [
    "Hacemos la importación de las librerías pandas, numpy, matplotlib.pyplot, plotly,graph_objects, seaborn, sklearn y warnings."
   ]
  },
  {
   "cell_type": "code",
   "execution_count": 1,
   "id": "5e980eab",
   "metadata": {},
   "outputs": [
    {
     "name": "stdout",
     "output_type": "stream",
     "text": [
      "Librerías importadas correctamente\n"
     ]
    }
   ],
   "source": [
    "import pandas as pd\n",
    "import numpy as np\n",
    "import matplotlib.pyplot as plt\n",
    "import matplotlib.ticker as mticker\n",
    "import plotly.graph_objects as go\n",
    "import seaborn as sns\n",
    "from sklearn.preprocessing import LabelEncoder, OrdinalEncoder, MinMaxScaler\n",
    "\n",
    "import warnings\n",
    "warnings.filterwarnings('ignore')\n",
    "\n",
    "print('Librerías importadas correctamente')"
   ]
  },
  {
   "cell_type": "markdown",
   "id": "ca4d914f",
   "metadata": {},
   "source": [
    "## **01 - IMPORTACIÓN DE DATOS**\n"
   ]
  },
  {
   "cell_type": "markdown",
   "id": "cd0e4cc4",
   "metadata": {},
   "source": [
    " Importamos los datos, realizamos una copia para guardar una versión original de los datos y mostramos el número de filas y columnas."
   ]
  },
  {
   "cell_type": "code",
   "execution_count": 2,
   "id": "8aaf880b",
   "metadata": {},
   "outputs": [
    {
     "name": "stdout",
     "output_type": "stream",
     "text": [
      "Hay 4843 filas y 18 columnas\n"
     ]
    }
   ],
   "source": [
    "bmw = pd.read_csv('/Users/davidlarre/Desktop/PROYECTOS/M10 - ENTREGABLES/ENTREGABLE 1/data/bmw_pricing.csv')\n",
    "df_bmw = bmw.copy()\n",
    "\n",
    "print(f'Hay {df_bmw.shape[0]} filas y {df_bmw.shape[1]} columnas') "
   ]
  },
  {
   "cell_type": "markdown",
   "id": "c127de47",
   "metadata": {},
   "source": [
    "## **02 - OBSERVACIÓN DE LOS DATOS**"
   ]
  },
  {
   "cell_type": "markdown",
   "id": "0824a673",
   "metadata": {},
   "source": [
    "*Con las siguientes funciones analizo el dataset y concluyo, como visión global del mismo, que:*\n",
    "\n",
    "1. Se trata de un *conjunto de datos de ventas* correspondiente al año **2018**, abarcando desde **enero hasta septiembre** (ambos incluidos), de vehículos de la marca **BMW**.\n",
    "\n",
    "2. El dataset cuenta con **18 columnas**, de las cuales:  \n",
    "   - **1** es de tipo *booleano*  \n",
    "   - **3** son datos *numéricos*  \n",
    "   - **14** son datos *categóricos*\n",
    "\n",
    "3. Contiene un total de **4843 registros**, sin que haya **ningún duplicado**.\n",
    "\n",
    "4. De las 18 columnas, **17 presentan valores nulos**, aunque en **9 de ellas** estos valores faltantes no superan el **1%** del total de registros.  \n",
    "   Por ello, **optamos por aplicar un doble enfoque para tratar los valores nulos**:\n",
    "   - En las columnas con menos del **1%** de valores nulos, eliminaremos directamente las filas incompletas.\n",
    "   - En las columnas con un porcentaje de nulos **igual o superior al 1%**, implementaremos técnicas de **imputación** para conservar la máxima información y enriquecer el análisis."
   ]
  },
  {
   "cell_type": "code",
   "execution_count": 3,
   "id": "461e23c4",
   "metadata": {},
   "outputs": [
    {
     "name": "stdout",
     "output_type": "stream",
     "text": [
      "<class 'pandas.core.frame.DataFrame'>\n",
      "RangeIndex: 4843 entries, 0 to 4842\n",
      "Data columns (total 18 columns):\n",
      " #   Column                       Non-Null Count  Dtype  \n",
      "---  ------                       --------------  -----  \n",
      " 0   marca                        3873 non-null   object \n",
      " 1   modelo                       4840 non-null   object \n",
      " 2   km                           4841 non-null   float64\n",
      " 3   potencia                     4842 non-null   float64\n",
      " 4   fecha_registro               2420 non-null   object \n",
      " 5   tipo_gasolina                4838 non-null   object \n",
      " 6   color                        4398 non-null   object \n",
      " 7   tipo_coche                   3383 non-null   object \n",
      " 8   volante_regulable            4839 non-null   object \n",
      " 9   aire_acondicionado           4357 non-null   object \n",
      " 10  camara_trasera               4841 non-null   object \n",
      " 11  asientos_traseros_plegables  1452 non-null   object \n",
      " 12  elevalunas_electrico         4841 non-null   object \n",
      " 13  bluetooth                    4115 non-null   object \n",
      " 14  gps                          4843 non-null   bool   \n",
      " 15  alerta_lim_velocidad         4115 non-null   object \n",
      " 16  precio                       4837 non-null   float64\n",
      " 17  fecha_venta                  4842 non-null   object \n",
      "dtypes: bool(1), float64(3), object(14)\n",
      "memory usage: 648.1+ KB\n"
     ]
    }
   ],
   "source": [
    "df_bmw.info()"
   ]
  },
  {
   "cell_type": "code",
   "execution_count": 4,
   "id": "b6350b79",
   "metadata": {},
   "outputs": [
    {
     "data": {
      "text/html": [
       "<div>\n",
       "<style scoped>\n",
       "    .dataframe tbody tr th:only-of-type {\n",
       "        vertical-align: middle;\n",
       "    }\n",
       "\n",
       "    .dataframe tbody tr th {\n",
       "        vertical-align: top;\n",
       "    }\n",
       "\n",
       "    .dataframe thead th {\n",
       "        text-align: right;\n",
       "    }\n",
       "</style>\n",
       "<table border=\"1\" class=\"dataframe\">\n",
       "  <thead>\n",
       "    <tr style=\"text-align: right;\">\n",
       "      <th></th>\n",
       "      <th>marca</th>\n",
       "      <th>modelo</th>\n",
       "      <th>km</th>\n",
       "      <th>potencia</th>\n",
       "      <th>fecha_registro</th>\n",
       "      <th>tipo_gasolina</th>\n",
       "      <th>color</th>\n",
       "      <th>tipo_coche</th>\n",
       "      <th>volante_regulable</th>\n",
       "      <th>aire_acondicionado</th>\n",
       "      <th>camara_trasera</th>\n",
       "      <th>asientos_traseros_plegables</th>\n",
       "      <th>elevalunas_electrico</th>\n",
       "      <th>bluetooth</th>\n",
       "      <th>gps</th>\n",
       "      <th>alerta_lim_velocidad</th>\n",
       "      <th>precio</th>\n",
       "      <th>fecha_venta</th>\n",
       "    </tr>\n",
       "  </thead>\n",
       "  <tbody>\n",
       "    <tr>\n",
       "      <th>0</th>\n",
       "      <td>NaN</td>\n",
       "      <td>118</td>\n",
       "      <td>140411.0</td>\n",
       "      <td>100.0</td>\n",
       "      <td>2012-02-01</td>\n",
       "      <td>diesel</td>\n",
       "      <td>black</td>\n",
       "      <td>NaN</td>\n",
       "      <td>True</td>\n",
       "      <td>True</td>\n",
       "      <td>False</td>\n",
       "      <td>NaN</td>\n",
       "      <td>True</td>\n",
       "      <td>NaN</td>\n",
       "      <td>True</td>\n",
       "      <td>NaN</td>\n",
       "      <td>11300.0</td>\n",
       "      <td>2018-01-01</td>\n",
       "    </tr>\n",
       "    <tr>\n",
       "      <th>1</th>\n",
       "      <td>BMW</td>\n",
       "      <td>M4</td>\n",
       "      <td>13929.0</td>\n",
       "      <td>317.0</td>\n",
       "      <td>NaN</td>\n",
       "      <td>petrol</td>\n",
       "      <td>grey</td>\n",
       "      <td>convertible</td>\n",
       "      <td>True</td>\n",
       "      <td>True</td>\n",
       "      <td>False</td>\n",
       "      <td>NaN</td>\n",
       "      <td>False</td>\n",
       "      <td>True</td>\n",
       "      <td>True</td>\n",
       "      <td>True</td>\n",
       "      <td>69700.0</td>\n",
       "      <td>2018-02-01</td>\n",
       "    </tr>\n",
       "    <tr>\n",
       "      <th>2</th>\n",
       "      <td>BMW</td>\n",
       "      <td>320</td>\n",
       "      <td>183297.0</td>\n",
       "      <td>120.0</td>\n",
       "      <td>2012-04-01</td>\n",
       "      <td>diesel</td>\n",
       "      <td>white</td>\n",
       "      <td>NaN</td>\n",
       "      <td>False</td>\n",
       "      <td>False</td>\n",
       "      <td>False</td>\n",
       "      <td>NaN</td>\n",
       "      <td>True</td>\n",
       "      <td>False</td>\n",
       "      <td>True</td>\n",
       "      <td>False</td>\n",
       "      <td>10200.0</td>\n",
       "      <td>2018-02-01</td>\n",
       "    </tr>\n",
       "    <tr>\n",
       "      <th>3</th>\n",
       "      <td>BMW</td>\n",
       "      <td>420</td>\n",
       "      <td>128035.0</td>\n",
       "      <td>135.0</td>\n",
       "      <td>NaN</td>\n",
       "      <td>diesel</td>\n",
       "      <td>red</td>\n",
       "      <td>convertible</td>\n",
       "      <td>True</td>\n",
       "      <td>True</td>\n",
       "      <td>False</td>\n",
       "      <td>NaN</td>\n",
       "      <td>True</td>\n",
       "      <td>True</td>\n",
       "      <td>True</td>\n",
       "      <td>NaN</td>\n",
       "      <td>25100.0</td>\n",
       "      <td>2018-02-01</td>\n",
       "    </tr>\n",
       "    <tr>\n",
       "      <th>4</th>\n",
       "      <td>BMW</td>\n",
       "      <td>425</td>\n",
       "      <td>97097.0</td>\n",
       "      <td>160.0</td>\n",
       "      <td>NaN</td>\n",
       "      <td>diesel</td>\n",
       "      <td>silver</td>\n",
       "      <td>NaN</td>\n",
       "      <td>True</td>\n",
       "      <td>True</td>\n",
       "      <td>False</td>\n",
       "      <td>False</td>\n",
       "      <td>False</td>\n",
       "      <td>True</td>\n",
       "      <td>True</td>\n",
       "      <td>True</td>\n",
       "      <td>33400.0</td>\n",
       "      <td>2018-04-01</td>\n",
       "    </tr>\n",
       "    <tr>\n",
       "      <th>5</th>\n",
       "      <td>BMW</td>\n",
       "      <td>335</td>\n",
       "      <td>152352.0</td>\n",
       "      <td>225.0</td>\n",
       "      <td>2011-05-01</td>\n",
       "      <td>petrol</td>\n",
       "      <td>black</td>\n",
       "      <td>NaN</td>\n",
       "      <td>True</td>\n",
       "      <td>True</td>\n",
       "      <td>False</td>\n",
       "      <td>False</td>\n",
       "      <td>True</td>\n",
       "      <td>True</td>\n",
       "      <td>True</td>\n",
       "      <td>True</td>\n",
       "      <td>17100.0</td>\n",
       "      <td>2018-02-01</td>\n",
       "    </tr>\n",
       "    <tr>\n",
       "      <th>6</th>\n",
       "      <td>BMW</td>\n",
       "      <td>325</td>\n",
       "      <td>205219.0</td>\n",
       "      <td>145.0</td>\n",
       "      <td>NaN</td>\n",
       "      <td>diesel</td>\n",
       "      <td>grey</td>\n",
       "      <td>convertible</td>\n",
       "      <td>True</td>\n",
       "      <td>True</td>\n",
       "      <td>False</td>\n",
       "      <td>NaN</td>\n",
       "      <td>True</td>\n",
       "      <td>True</td>\n",
       "      <td>True</td>\n",
       "      <td>True</td>\n",
       "      <td>12400.0</td>\n",
       "      <td>2018-02-01</td>\n",
       "    </tr>\n",
       "    <tr>\n",
       "      <th>7</th>\n",
       "      <td>BMW</td>\n",
       "      <td>118</td>\n",
       "      <td>115560.0</td>\n",
       "      <td>105.0</td>\n",
       "      <td>2009-08-01</td>\n",
       "      <td>petrol</td>\n",
       "      <td>white</td>\n",
       "      <td>convertible</td>\n",
       "      <td>True</td>\n",
       "      <td>True</td>\n",
       "      <td>False</td>\n",
       "      <td>NaN</td>\n",
       "      <td>False</td>\n",
       "      <td>True</td>\n",
       "      <td>True</td>\n",
       "      <td>False</td>\n",
       "      <td>6100.0</td>\n",
       "      <td>2018-02-01</td>\n",
       "    </tr>\n",
       "    <tr>\n",
       "      <th>8</th>\n",
       "      <td>NaN</td>\n",
       "      <td>Z4</td>\n",
       "      <td>123886.0</td>\n",
       "      <td>125.0</td>\n",
       "      <td>NaN</td>\n",
       "      <td>petrol</td>\n",
       "      <td>black</td>\n",
       "      <td>convertible</td>\n",
       "      <td>True</td>\n",
       "      <td>False</td>\n",
       "      <td>False</td>\n",
       "      <td>False</td>\n",
       "      <td>False</td>\n",
       "      <td>NaN</td>\n",
       "      <td>True</td>\n",
       "      <td>False</td>\n",
       "      <td>6200.0</td>\n",
       "      <td>2018-03-01</td>\n",
       "    </tr>\n",
       "    <tr>\n",
       "      <th>9</th>\n",
       "      <td>BMW</td>\n",
       "      <td>320</td>\n",
       "      <td>139541.0</td>\n",
       "      <td>135.0</td>\n",
       "      <td>NaN</td>\n",
       "      <td>diesel</td>\n",
       "      <td>white</td>\n",
       "      <td>convertible</td>\n",
       "      <td>False</td>\n",
       "      <td>False</td>\n",
       "      <td>False</td>\n",
       "      <td>NaN</td>\n",
       "      <td>True</td>\n",
       "      <td>False</td>\n",
       "      <td>True</td>\n",
       "      <td>False</td>\n",
       "      <td>17300.0</td>\n",
       "      <td>2018-03-01</td>\n",
       "    </tr>\n",
       "  </tbody>\n",
       "</table>\n",
       "</div>"
      ],
      "text/plain": [
       "  marca modelo        km  potencia fecha_registro tipo_gasolina   color  \\\n",
       "0   NaN    118  140411.0     100.0     2012-02-01        diesel   black   \n",
       "1   BMW     M4   13929.0     317.0            NaN        petrol    grey   \n",
       "2   BMW    320  183297.0     120.0     2012-04-01        diesel   white   \n",
       "3   BMW    420  128035.0     135.0            NaN        diesel     red   \n",
       "4   BMW    425   97097.0     160.0            NaN        diesel  silver   \n",
       "5   BMW    335  152352.0     225.0     2011-05-01        petrol   black   \n",
       "6   BMW    325  205219.0     145.0            NaN        diesel    grey   \n",
       "7   BMW    118  115560.0     105.0     2009-08-01        petrol   white   \n",
       "8   NaN     Z4  123886.0     125.0            NaN        petrol   black   \n",
       "9   BMW    320  139541.0     135.0            NaN        diesel   white   \n",
       "\n",
       "    tipo_coche volante_regulable aire_acondicionado camara_trasera  \\\n",
       "0          NaN              True               True          False   \n",
       "1  convertible              True               True          False   \n",
       "2          NaN             False              False          False   \n",
       "3  convertible              True               True          False   \n",
       "4          NaN              True               True          False   \n",
       "5          NaN              True               True          False   \n",
       "6  convertible              True               True          False   \n",
       "7  convertible              True               True          False   \n",
       "8  convertible              True              False          False   \n",
       "9  convertible             False              False          False   \n",
       "\n",
       "  asientos_traseros_plegables elevalunas_electrico bluetooth   gps  \\\n",
       "0                         NaN                 True       NaN  True   \n",
       "1                         NaN                False      True  True   \n",
       "2                         NaN                 True     False  True   \n",
       "3                         NaN                 True      True  True   \n",
       "4                       False                False      True  True   \n",
       "5                       False                 True      True  True   \n",
       "6                         NaN                 True      True  True   \n",
       "7                         NaN                False      True  True   \n",
       "8                       False                False       NaN  True   \n",
       "9                         NaN                 True     False  True   \n",
       "\n",
       "  alerta_lim_velocidad   precio fecha_venta  \n",
       "0                  NaN  11300.0  2018-01-01  \n",
       "1                 True  69700.0  2018-02-01  \n",
       "2                False  10200.0  2018-02-01  \n",
       "3                  NaN  25100.0  2018-02-01  \n",
       "4                 True  33400.0  2018-04-01  \n",
       "5                 True  17100.0  2018-02-01  \n",
       "6                 True  12400.0  2018-02-01  \n",
       "7                False   6100.0  2018-02-01  \n",
       "8                False   6200.0  2018-03-01  \n",
       "9                False  17300.0  2018-03-01  "
      ]
     },
     "execution_count": 4,
     "metadata": {},
     "output_type": "execute_result"
    }
   ],
   "source": [
    "df_bmw.head(10)"
   ]
  },
  {
   "cell_type": "code",
   "execution_count": 5,
   "id": "c8d7e7ae",
   "metadata": {},
   "outputs": [
    {
     "data": {
      "text/html": [
       "<div>\n",
       "<style scoped>\n",
       "    .dataframe tbody tr th:only-of-type {\n",
       "        vertical-align: middle;\n",
       "    }\n",
       "\n",
       "    .dataframe tbody tr th {\n",
       "        vertical-align: top;\n",
       "    }\n",
       "\n",
       "    .dataframe thead th {\n",
       "        text-align: right;\n",
       "    }\n",
       "</style>\n",
       "<table border=\"1\" class=\"dataframe\">\n",
       "  <thead>\n",
       "    <tr style=\"text-align: right;\">\n",
       "      <th></th>\n",
       "      <th>km</th>\n",
       "      <th>potencia</th>\n",
       "      <th>precio</th>\n",
       "    </tr>\n",
       "  </thead>\n",
       "  <tbody>\n",
       "    <tr>\n",
       "      <th>count</th>\n",
       "      <td>4.841000e+03</td>\n",
       "      <td>4842.000000</td>\n",
       "      <td>4837.000000</td>\n",
       "    </tr>\n",
       "    <tr>\n",
       "      <th>mean</th>\n",
       "      <td>1.409593e+05</td>\n",
       "      <td>128.981826</td>\n",
       "      <td>15831.920612</td>\n",
       "    </tr>\n",
       "    <tr>\n",
       "      <th>std</th>\n",
       "      <td>6.020853e+04</td>\n",
       "      <td>38.994839</td>\n",
       "      <td>9222.630708</td>\n",
       "    </tr>\n",
       "    <tr>\n",
       "      <th>min</th>\n",
       "      <td>-6.400000e+01</td>\n",
       "      <td>0.000000</td>\n",
       "      <td>100.000000</td>\n",
       "    </tr>\n",
       "    <tr>\n",
       "      <th>25%</th>\n",
       "      <td>1.028840e+05</td>\n",
       "      <td>100.000000</td>\n",
       "      <td>10800.000000</td>\n",
       "    </tr>\n",
       "    <tr>\n",
       "      <th>50%</th>\n",
       "      <td>1.410800e+05</td>\n",
       "      <td>120.000000</td>\n",
       "      <td>14200.000000</td>\n",
       "    </tr>\n",
       "    <tr>\n",
       "      <th>75%</th>\n",
       "      <td>1.752170e+05</td>\n",
       "      <td>135.000000</td>\n",
       "      <td>18600.000000</td>\n",
       "    </tr>\n",
       "    <tr>\n",
       "      <th>max</th>\n",
       "      <td>1.000376e+06</td>\n",
       "      <td>423.000000</td>\n",
       "      <td>178500.000000</td>\n",
       "    </tr>\n",
       "  </tbody>\n",
       "</table>\n",
       "</div>"
      ],
      "text/plain": [
       "                 km     potencia         precio\n",
       "count  4.841000e+03  4842.000000    4837.000000\n",
       "mean   1.409593e+05   128.981826   15831.920612\n",
       "std    6.020853e+04    38.994839    9222.630708\n",
       "min   -6.400000e+01     0.000000     100.000000\n",
       "25%    1.028840e+05   100.000000   10800.000000\n",
       "50%    1.410800e+05   120.000000   14200.000000\n",
       "75%    1.752170e+05   135.000000   18600.000000\n",
       "max    1.000376e+06   423.000000  178500.000000"
      ]
     },
     "execution_count": 5,
     "metadata": {},
     "output_type": "execute_result"
    }
   ],
   "source": [
    "df_bmw.describe()"
   ]
  },
  {
   "cell_type": "code",
   "execution_count": 6,
   "id": "46a2be87",
   "metadata": {},
   "outputs": [
    {
     "name": "stdout",
     "output_type": "stream",
     "text": [
      "Columnas : ['marca', 'modelo', 'km', 'potencia', 'fecha_registro', 'tipo_gasolina', 'color', 'tipo_coche', 'volante_regulable', 'aire_acondicionado', 'camara_trasera', 'asientos_traseros_plegables', 'elevalunas_electrico', 'bluetooth', 'gps', 'alerta_lim_velocidad', 'precio', 'fecha_venta']\n"
     ]
    }
   ],
   "source": [
    "# Listamos el nombre de todas las columnas\n",
    "print(\"Columnas :\", df_bmw.columns.tolist())"
   ]
  },
  {
   "cell_type": "code",
   "execution_count": 7,
   "id": "6d7c2c97",
   "metadata": {},
   "outputs": [
    {
     "name": "stdout",
     "output_type": "stream",
     "text": [
      "Duplicados: 0 valores duplicados\n"
     ]
    }
   ],
   "source": [
    "# Hacemos print para detectar duplicados\n",
    "print(\"Duplicados:\", df_bmw.duplicated().sum(), \"valores duplicados\")"
   ]
  },
  {
   "cell_type": "code",
   "execution_count": 8,
   "id": "eb8f4fcb",
   "metadata": {},
   "outputs": [
    {
     "data": {
      "text/html": [
       "<div>\n",
       "<style scoped>\n",
       "    .dataframe tbody tr th:only-of-type {\n",
       "        vertical-align: middle;\n",
       "    }\n",
       "\n",
       "    .dataframe tbody tr th {\n",
       "        vertical-align: top;\n",
       "    }\n",
       "\n",
       "    .dataframe thead th {\n",
       "        text-align: right;\n",
       "    }\n",
       "</style>\n",
       "<table border=\"1\" class=\"dataframe\">\n",
       "  <thead>\n",
       "    <tr style=\"text-align: right;\">\n",
       "      <th></th>\n",
       "      <th>NULOS</th>\n",
       "      <th>% NULOS</th>\n",
       "      <th>VALORES UNICOS</th>\n",
       "    </tr>\n",
       "  </thead>\n",
       "  <tbody>\n",
       "    <tr>\n",
       "      <th>asientos_traseros_plegables</th>\n",
       "      <td>3391</td>\n",
       "      <td>70.018584</td>\n",
       "      <td>2</td>\n",
       "    </tr>\n",
       "    <tr>\n",
       "      <th>fecha_registro</th>\n",
       "      <td>2423</td>\n",
       "      <td>50.030973</td>\n",
       "      <td>180</td>\n",
       "    </tr>\n",
       "    <tr>\n",
       "      <th>tipo_coche</th>\n",
       "      <td>1460</td>\n",
       "      <td>30.146603</td>\n",
       "      <td>8</td>\n",
       "    </tr>\n",
       "    <tr>\n",
       "      <th>marca</th>\n",
       "      <td>970</td>\n",
       "      <td>20.028908</td>\n",
       "      <td>1</td>\n",
       "    </tr>\n",
       "    <tr>\n",
       "      <th>alerta_lim_velocidad</th>\n",
       "      <td>728</td>\n",
       "      <td>15.032005</td>\n",
       "      <td>2</td>\n",
       "    </tr>\n",
       "    <tr>\n",
       "      <th>bluetooth</th>\n",
       "      <td>728</td>\n",
       "      <td>15.032005</td>\n",
       "      <td>2</td>\n",
       "    </tr>\n",
       "    <tr>\n",
       "      <th>aire_acondicionado</th>\n",
       "      <td>486</td>\n",
       "      <td>10.035102</td>\n",
       "      <td>2</td>\n",
       "    </tr>\n",
       "    <tr>\n",
       "      <th>color</th>\n",
       "      <td>445</td>\n",
       "      <td>9.188520</td>\n",
       "      <td>10</td>\n",
       "    </tr>\n",
       "    <tr>\n",
       "      <th>precio</th>\n",
       "      <td>6</td>\n",
       "      <td>0.123890</td>\n",
       "      <td>437</td>\n",
       "    </tr>\n",
       "    <tr>\n",
       "      <th>tipo_gasolina</th>\n",
       "      <td>5</td>\n",
       "      <td>0.103242</td>\n",
       "      <td>5</td>\n",
       "    </tr>\n",
       "    <tr>\n",
       "      <th>volante_regulable</th>\n",
       "      <td>4</td>\n",
       "      <td>0.082593</td>\n",
       "      <td>2</td>\n",
       "    </tr>\n",
       "    <tr>\n",
       "      <th>modelo</th>\n",
       "      <td>3</td>\n",
       "      <td>0.061945</td>\n",
       "      <td>76</td>\n",
       "    </tr>\n",
       "    <tr>\n",
       "      <th>camara_trasera</th>\n",
       "      <td>2</td>\n",
       "      <td>0.041297</td>\n",
       "      <td>2</td>\n",
       "    </tr>\n",
       "    <tr>\n",
       "      <th>elevalunas_electrico</th>\n",
       "      <td>2</td>\n",
       "      <td>0.041297</td>\n",
       "      <td>2</td>\n",
       "    </tr>\n",
       "    <tr>\n",
       "      <th>km</th>\n",
       "      <td>2</td>\n",
       "      <td>0.041297</td>\n",
       "      <td>4784</td>\n",
       "    </tr>\n",
       "    <tr>\n",
       "      <th>potencia</th>\n",
       "      <td>1</td>\n",
       "      <td>0.020648</td>\n",
       "      <td>61</td>\n",
       "    </tr>\n",
       "    <tr>\n",
       "      <th>fecha_venta</th>\n",
       "      <td>1</td>\n",
       "      <td>0.020648</td>\n",
       "      <td>13</td>\n",
       "    </tr>\n",
       "    <tr>\n",
       "      <th>gps</th>\n",
       "      <td>0</td>\n",
       "      <td>0.000000</td>\n",
       "      <td>2</td>\n",
       "    </tr>\n",
       "  </tbody>\n",
       "</table>\n",
       "</div>"
      ],
      "text/plain": [
       "                             NULOS    % NULOS  VALORES UNICOS\n",
       "asientos_traseros_plegables   3391  70.018584               2\n",
       "fecha_registro                2423  50.030973             180\n",
       "tipo_coche                    1460  30.146603               8\n",
       "marca                          970  20.028908               1\n",
       "alerta_lim_velocidad           728  15.032005               2\n",
       "bluetooth                      728  15.032005               2\n",
       "aire_acondicionado             486  10.035102               2\n",
       "color                          445   9.188520              10\n",
       "precio                           6   0.123890             437\n",
       "tipo_gasolina                    5   0.103242               5\n",
       "volante_regulable                4   0.082593               2\n",
       "modelo                           3   0.061945              76\n",
       "camara_trasera                   2   0.041297               2\n",
       "elevalunas_electrico             2   0.041297               2\n",
       "km                               2   0.041297            4784\n",
       "potencia                         1   0.020648              61\n",
       "fecha_venta                      1   0.020648              13\n",
       "gps                              0   0.000000               2"
      ]
     },
     "execution_count": 8,
     "metadata": {},
     "output_type": "execute_result"
    }
   ],
   "source": [
    "# Creamos una función para crear un DataFrame con la cantidad de nulos, el porcentaje de nulos y los valores únicos de cada columna. Ordenaremos el df por el porcentaje de nulos.\n",
    "\n",
    "def tabla_nulos(dataset):\n",
    "    nulos = dataset.isnull().sum()\n",
    "    porcentaje = dataset.isnull().mean() * 100\n",
    "    unicos = dataset.nunique()\n",
    "    \n",
    "    df_nulos = pd.DataFrame({\n",
    "        'NULOS': nulos,\n",
    "        '% NULOS': porcentaje,\n",
    "        'VALORES UNICOS': unicos\n",
    "        }).sort_values(by='% NULOS', ascending=False)\n",
    "    return df_nulos\n",
    "    \n",
    "tabla_nulos(df_bmw)"
   ]
  },
  {
   "cell_type": "markdown",
   "id": "350e25d4",
   "metadata": {},
   "source": [
    "## **03 - PREPROCESAMIENTO DE DATOS**"
   ]
  },
  {
   "cell_type": "markdown",
   "id": "209c2a9c",
   "metadata": {},
   "source": [
    "\n",
    "### **CAMBIO DE COLUMNAS OBJECT POR FECHA**"
   ]
  },
  {
   "cell_type": "code",
   "execution_count": 9,
   "id": "8f2fb4ff",
   "metadata": {},
   "outputs": [
    {
     "name": "stdout",
     "output_type": "stream",
     "text": [
      "fecha_registro    datetime64[ns]\n",
      "fecha_venta       datetime64[ns]\n",
      "dtype: object\n"
     ]
    }
   ],
   "source": [
    "# Se modifica el dtype de las columnas 'fecha_registro' y 'fecha_venta' a datetime\n",
    "for i in ['fecha_registro','fecha_venta']:\n",
    "    df_bmw[i]=pd.to_datetime(df_bmw[i])\n",
    "# Comprobamos el cambio de dtype.\n",
    "print(df_bmw[['fecha_registro','fecha_venta']].dtypes)"
   ]
  },
  {
   "cell_type": "markdown",
   "id": "ab1a84a7",
   "metadata": {},
   "source": [
    "### **CREACIÓN FUNCIÓN DISTRIBUCIONES**"
   ]
  },
  {
   "cell_type": "code",
   "execution_count": 10,
   "id": "353db13c",
   "metadata": {},
   "outputs": [],
   "source": [
    "# Creamos una función que devuelve el diccionario 'distribuciones' con el porcentaje de distribución de los valores de cada columna respecto al total\n",
    "\n",
    "def diccionario_distribuciones(dataset):\n",
    "    distribuciones = {}  # Lo creas dentro\n",
    "    for i in dataset:\n",
    "        distribuciones[i] = dataset[i].value_counts(normalize=True, dropna=False)\n",
    "    return distribuciones\n",
    "\n",
    "distribuciones = diccionario_distribuciones(df_bmw)"
   ]
  },
  {
   "cell_type": "markdown",
   "id": "d1e66298",
   "metadata": {},
   "source": [
    "### **CREACIÓN FUNCIÓN OBTENER MODA**"
   ]
  },
  {
   "cell_type": "code",
   "execution_count": 11,
   "id": "62244f96",
   "metadata": {},
   "outputs": [],
   "source": [
    "def obtener_moda(x):\n",
    "    moda = x.mode()\n",
    "    if not moda.empty:\n",
    "        return moda.iloc[0]\n",
    "    else:\n",
    "        return np.nan"
   ]
  },
  {
   "cell_type": "markdown",
   "id": "192e5e77",
   "metadata": {},
   "source": [
    "### **CREACIÓN DE NUEVAS COLUMNAS**"
   ]
  },
  {
   "cell_type": "code",
   "execution_count": 12,
   "id": "eb218bc4",
   "metadata": {},
   "outputs": [
    {
     "data": {
      "text/html": [
       "<div>\n",
       "<style scoped>\n",
       "    .dataframe tbody tr th:only-of-type {\n",
       "        vertical-align: middle;\n",
       "    }\n",
       "\n",
       "    .dataframe tbody tr th {\n",
       "        vertical-align: top;\n",
       "    }\n",
       "\n",
       "    .dataframe thead th {\n",
       "        text-align: right;\n",
       "    }\n",
       "</style>\n",
       "<table border=\"1\" class=\"dataframe\">\n",
       "  <thead>\n",
       "    <tr style=\"text-align: right;\">\n",
       "      <th></th>\n",
       "      <th>año_registro</th>\n",
       "      <th>año_venta</th>\n",
       "      <th>años_coche</th>\n",
       "    </tr>\n",
       "  </thead>\n",
       "  <tbody>\n",
       "    <tr>\n",
       "      <th>0</th>\n",
       "      <td>2012.0</td>\n",
       "      <td>2018.0</td>\n",
       "      <td>6.0</td>\n",
       "    </tr>\n",
       "    <tr>\n",
       "      <th>1</th>\n",
       "      <td>NaN</td>\n",
       "      <td>2018.0</td>\n",
       "      <td>NaN</td>\n",
       "    </tr>\n",
       "    <tr>\n",
       "      <th>2</th>\n",
       "      <td>2012.0</td>\n",
       "      <td>2018.0</td>\n",
       "      <td>6.0</td>\n",
       "    </tr>\n",
       "    <tr>\n",
       "      <th>3</th>\n",
       "      <td>NaN</td>\n",
       "      <td>2018.0</td>\n",
       "      <td>NaN</td>\n",
       "    </tr>\n",
       "    <tr>\n",
       "      <th>4</th>\n",
       "      <td>NaN</td>\n",
       "      <td>2018.0</td>\n",
       "      <td>NaN</td>\n",
       "    </tr>\n",
       "    <tr>\n",
       "      <th>5</th>\n",
       "      <td>2011.0</td>\n",
       "      <td>2018.0</td>\n",
       "      <td>7.0</td>\n",
       "    </tr>\n",
       "    <tr>\n",
       "      <th>6</th>\n",
       "      <td>NaN</td>\n",
       "      <td>2018.0</td>\n",
       "      <td>NaN</td>\n",
       "    </tr>\n",
       "    <tr>\n",
       "      <th>7</th>\n",
       "      <td>2009.0</td>\n",
       "      <td>2018.0</td>\n",
       "      <td>9.0</td>\n",
       "    </tr>\n",
       "    <tr>\n",
       "      <th>8</th>\n",
       "      <td>NaN</td>\n",
       "      <td>2018.0</td>\n",
       "      <td>NaN</td>\n",
       "    </tr>\n",
       "    <tr>\n",
       "      <th>9</th>\n",
       "      <td>NaN</td>\n",
       "      <td>2018.0</td>\n",
       "      <td>NaN</td>\n",
       "    </tr>\n",
       "  </tbody>\n",
       "</table>\n",
       "</div>"
      ],
      "text/plain": [
       "   año_registro  año_venta  años_coche\n",
       "0        2012.0     2018.0         6.0\n",
       "1           NaN     2018.0         NaN\n",
       "2        2012.0     2018.0         6.0\n",
       "3           NaN     2018.0         NaN\n",
       "4           NaN     2018.0         NaN\n",
       "5        2011.0     2018.0         7.0\n",
       "6           NaN     2018.0         NaN\n",
       "7        2009.0     2018.0         9.0\n",
       "8           NaN     2018.0         NaN\n",
       "9           NaN     2018.0         NaN"
      ]
     },
     "execution_count": 12,
     "metadata": {},
     "output_type": "execute_result"
    }
   ],
   "source": [
    "# Consideramos que las fechas completas no aportan información relevante, por lo que vamos a crear nuevas columnas solo con el año\n",
    "df_bmw['año_registro'] = df_bmw['fecha_registro'].dt.year\n",
    "df_bmw['año_venta'] = df_bmw['fecha_venta'].dt.year\n",
    "\n",
    "# Creamos una columna para identificar los años de antigüedad del coche\n",
    "df_bmw['años_coche'] = df_bmw['año_venta'] - df_bmw['año_registro']\n",
    "\n",
    "# Comprobamos que se han creado correctamente\n",
    "df_bmw[['año_registro','año_venta','años_coche']].head(10)"
   ]
  },
  {
   "cell_type": "markdown",
   "id": "c3d57afe",
   "metadata": {},
   "source": [
    "### **CREACIÓN DATAFRAME PARA COMPARACIÓN DE DISTRIBUCIONES**"
   ]
  },
  {
   "cell_type": "code",
   "execution_count": 13,
   "id": "9ca2a2b5",
   "metadata": {},
   "outputs": [],
   "source": [
    "# Creamos una cópia del df para posteriormente hacer comparaciones de las distribuciones de las variables antes de imputar los nulos y después\n",
    "df_antes = df_bmw.copy()"
   ]
  },
  {
   "cell_type": "markdown",
   "id": "2163c4ed",
   "metadata": {},
   "source": [
    "### **ELMINACIÓN DE FILAS/COLUMNAS NO ÚTILES PARA EL MODELO**"
   ]
  },
  {
   "cell_type": "markdown",
   "id": "1be07839",
   "metadata": {},
   "source": [
    "#### **FILAS**"
   ]
  },
  {
   "cell_type": "markdown",
   "id": "76838068",
   "metadata": {},
   "source": [
    "##### **FILAS FECHAS**"
   ]
  },
  {
   "cell_type": "code",
   "execution_count": 14,
   "id": "1f65d1f9",
   "metadata": {},
   "outputs": [
    {
     "data": {
      "text/html": [
       "<div>\n",
       "<style scoped>\n",
       "    .dataframe tbody tr th:only-of-type {\n",
       "        vertical-align: middle;\n",
       "    }\n",
       "\n",
       "    .dataframe tbody tr th {\n",
       "        vertical-align: top;\n",
       "    }\n",
       "\n",
       "    .dataframe thead th {\n",
       "        text-align: right;\n",
       "    }\n",
       "</style>\n",
       "<table border=\"1\" class=\"dataframe\">\n",
       "  <thead>\n",
       "    <tr style=\"text-align: right;\">\n",
       "      <th></th>\n",
       "      <th>marca</th>\n",
       "      <th>modelo</th>\n",
       "      <th>km</th>\n",
       "      <th>potencia</th>\n",
       "      <th>fecha_registro</th>\n",
       "      <th>tipo_gasolina</th>\n",
       "      <th>color</th>\n",
       "      <th>tipo_coche</th>\n",
       "      <th>volante_regulable</th>\n",
       "      <th>aire_acondicionado</th>\n",
       "      <th>...</th>\n",
       "      <th>asientos_traseros_plegables</th>\n",
       "      <th>elevalunas_electrico</th>\n",
       "      <th>bluetooth</th>\n",
       "      <th>gps</th>\n",
       "      <th>alerta_lim_velocidad</th>\n",
       "      <th>precio</th>\n",
       "      <th>fecha_venta</th>\n",
       "      <th>año_registro</th>\n",
       "      <th>año_venta</th>\n",
       "      <th>años_coche</th>\n",
       "    </tr>\n",
       "  </thead>\n",
       "  <tbody>\n",
       "    <tr>\n",
       "      <th>100</th>\n",
       "      <td>BMW</td>\n",
       "      <td>320</td>\n",
       "      <td>342768.0</td>\n",
       "      <td>135.0</td>\n",
       "      <td>2011-12-01</td>\n",
       "      <td>diesel</td>\n",
       "      <td>black</td>\n",
       "      <td>NaN</td>\n",
       "      <td>False</td>\n",
       "      <td>True</td>\n",
       "      <td>...</td>\n",
       "      <td>NaN</td>\n",
       "      <td>True</td>\n",
       "      <td>False</td>\n",
       "      <td>True</td>\n",
       "      <td>NaN</td>\n",
       "      <td>8200.0</td>\n",
       "      <td>2010-04-01</td>\n",
       "      <td>2011.0</td>\n",
       "      <td>2010.0</td>\n",
       "      <td>-1.0</td>\n",
       "    </tr>\n",
       "    <tr>\n",
       "      <th>256</th>\n",
       "      <td>BMW</td>\n",
       "      <td>316</td>\n",
       "      <td>201102.0</td>\n",
       "      <td>85.0</td>\n",
       "      <td>2013-12-01</td>\n",
       "      <td>diesel</td>\n",
       "      <td>black</td>\n",
       "      <td>estate</td>\n",
       "      <td>True</td>\n",
       "      <td>NaN</td>\n",
       "      <td>...</td>\n",
       "      <td>NaN</td>\n",
       "      <td>False</td>\n",
       "      <td>False</td>\n",
       "      <td>True</td>\n",
       "      <td>False</td>\n",
       "      <td>8800.0</td>\n",
       "      <td>2008-06-01</td>\n",
       "      <td>2013.0</td>\n",
       "      <td>2008.0</td>\n",
       "      <td>-5.0</td>\n",
       "    </tr>\n",
       "  </tbody>\n",
       "</table>\n",
       "<p>2 rows × 21 columns</p>\n",
       "</div>"
      ],
      "text/plain": [
       "    marca modelo        km  potencia fecha_registro tipo_gasolina  color  \\\n",
       "100   BMW    320  342768.0     135.0     2011-12-01        diesel  black   \n",
       "256   BMW    316  201102.0      85.0     2013-12-01        diesel  black   \n",
       "\n",
       "    tipo_coche volante_regulable aire_acondicionado  ...  \\\n",
       "100        NaN             False               True  ...   \n",
       "256     estate              True                NaN  ...   \n",
       "\n",
       "    asientos_traseros_plegables elevalunas_electrico bluetooth   gps  \\\n",
       "100                         NaN                 True     False  True   \n",
       "256                         NaN                False     False  True   \n",
       "\n",
       "     alerta_lim_velocidad  precio  fecha_venta año_registro  año_venta  \\\n",
       "100                   NaN  8200.0   2010-04-01       2011.0     2010.0   \n",
       "256                 False  8800.0   2008-06-01       2013.0     2008.0   \n",
       "\n",
       "     años_coche  \n",
       "100        -1.0  \n",
       "256        -5.0  \n",
       "\n",
       "[2 rows x 21 columns]"
      ]
     },
     "execution_count": 14,
     "metadata": {},
     "output_type": "execute_result"
    }
   ],
   "source": [
    "# Buscamos si hay fechas registro que son posteriores a la fecha de venta\n",
    "df_bmw[df_bmw['fecha_registro'] > df_bmw['fecha_venta']]"
   ]
  },
  {
   "cell_type": "code",
   "execution_count": 15,
   "id": "7977814c",
   "metadata": {},
   "outputs": [
    {
     "data": {
      "text/html": [
       "<div>\n",
       "<style scoped>\n",
       "    .dataframe tbody tr th:only-of-type {\n",
       "        vertical-align: middle;\n",
       "    }\n",
       "\n",
       "    .dataframe tbody tr th {\n",
       "        vertical-align: top;\n",
       "    }\n",
       "\n",
       "    .dataframe thead th {\n",
       "        text-align: right;\n",
       "    }\n",
       "</style>\n",
       "<table border=\"1\" class=\"dataframe\">\n",
       "  <thead>\n",
       "    <tr style=\"text-align: right;\">\n",
       "      <th></th>\n",
       "      <th>marca</th>\n",
       "      <th>modelo</th>\n",
       "      <th>km</th>\n",
       "      <th>potencia</th>\n",
       "      <th>fecha_registro</th>\n",
       "      <th>tipo_gasolina</th>\n",
       "      <th>color</th>\n",
       "      <th>tipo_coche</th>\n",
       "      <th>volante_regulable</th>\n",
       "      <th>aire_acondicionado</th>\n",
       "      <th>...</th>\n",
       "      <th>asientos_traseros_plegables</th>\n",
       "      <th>elevalunas_electrico</th>\n",
       "      <th>bluetooth</th>\n",
       "      <th>gps</th>\n",
       "      <th>alerta_lim_velocidad</th>\n",
       "      <th>precio</th>\n",
       "      <th>fecha_venta</th>\n",
       "      <th>año_registro</th>\n",
       "      <th>año_venta</th>\n",
       "      <th>años_coche</th>\n",
       "    </tr>\n",
       "  </thead>\n",
       "  <tbody>\n",
       "  </tbody>\n",
       "</table>\n",
       "<p>0 rows × 21 columns</p>\n",
       "</div>"
      ],
      "text/plain": [
       "Empty DataFrame\n",
       "Columns: [marca, modelo, km, potencia, fecha_registro, tipo_gasolina, color, tipo_coche, volante_regulable, aire_acondicionado, camara_trasera, asientos_traseros_plegables, elevalunas_electrico, bluetooth, gps, alerta_lim_velocidad, precio, fecha_venta, año_registro, año_venta, años_coche]\n",
       "Index: []\n",
       "\n",
       "[0 rows x 21 columns]"
      ]
     },
     "execution_count": 15,
     "metadata": {},
     "output_type": "execute_result"
    }
   ],
   "source": [
    "# Hemos encontrado dos registros con fechas de registro posteriores a la fecha de venta, lo cual no es posible. Guardamos sus índices y eliminamos las filas del dataset\n",
    "indice_fechas = df_bmw[df_bmw['fecha_registro'] > df_bmw['fecha_venta']].index\n",
    "df_bmw = df_bmw.drop(index=indice_fechas)\n",
    "\n",
    "# Comprobamos que hemos eliminado las filas\n",
    "df_bmw[df_bmw['fecha_registro'] > df_bmw['fecha_venta']]"
   ]
  },
  {
   "cell_type": "markdown",
   "id": "af982ad4",
   "metadata": {},
   "source": [
    "##### **FILA KM**"
   ]
  },
  {
   "cell_type": "code",
   "execution_count": 16,
   "id": "d97ef242",
   "metadata": {},
   "outputs": [
    {
     "data": {
      "text/html": [
       "<div>\n",
       "<style scoped>\n",
       "    .dataframe tbody tr th:only-of-type {\n",
       "        vertical-align: middle;\n",
       "    }\n",
       "\n",
       "    .dataframe tbody tr th {\n",
       "        vertical-align: top;\n",
       "    }\n",
       "\n",
       "    .dataframe thead th {\n",
       "        text-align: right;\n",
       "    }\n",
       "</style>\n",
       "<table border=\"1\" class=\"dataframe\">\n",
       "  <thead>\n",
       "    <tr style=\"text-align: right;\">\n",
       "      <th></th>\n",
       "      <th>marca</th>\n",
       "      <th>modelo</th>\n",
       "      <th>km</th>\n",
       "      <th>potencia</th>\n",
       "      <th>fecha_registro</th>\n",
       "      <th>tipo_gasolina</th>\n",
       "      <th>color</th>\n",
       "      <th>tipo_coche</th>\n",
       "      <th>volante_regulable</th>\n",
       "      <th>aire_acondicionado</th>\n",
       "      <th>...</th>\n",
       "      <th>asientos_traseros_plegables</th>\n",
       "      <th>elevalunas_electrico</th>\n",
       "      <th>bluetooth</th>\n",
       "      <th>gps</th>\n",
       "      <th>alerta_lim_velocidad</th>\n",
       "      <th>precio</th>\n",
       "      <th>fecha_venta</th>\n",
       "      <th>año_registro</th>\n",
       "      <th>año_venta</th>\n",
       "      <th>años_coche</th>\n",
       "    </tr>\n",
       "  </thead>\n",
       "  <tbody>\n",
       "    <tr>\n",
       "      <th>2938</th>\n",
       "      <td>NaN</td>\n",
       "      <td>640 Gran Coupé</td>\n",
       "      <td>-64.0</td>\n",
       "      <td>230.0</td>\n",
       "      <td>NaT</td>\n",
       "      <td>diesel</td>\n",
       "      <td>black</td>\n",
       "      <td>sedan</td>\n",
       "      <td>True</td>\n",
       "      <td>True</td>\n",
       "      <td>...</td>\n",
       "      <td>NaN</td>\n",
       "      <td>False</td>\n",
       "      <td>False</td>\n",
       "      <td>True</td>\n",
       "      <td>True</td>\n",
       "      <td>75000.0</td>\n",
       "      <td>2018-04-01</td>\n",
       "      <td>NaN</td>\n",
       "      <td>2018.0</td>\n",
       "      <td>NaN</td>\n",
       "    </tr>\n",
       "  </tbody>\n",
       "</table>\n",
       "<p>1 rows × 21 columns</p>\n",
       "</div>"
      ],
      "text/plain": [
       "     marca          modelo    km  potencia fecha_registro tipo_gasolina  \\\n",
       "2938   NaN  640 Gran Coupé -64.0     230.0            NaT        diesel   \n",
       "\n",
       "      color tipo_coche volante_regulable aire_acondicionado  ...  \\\n",
       "2938  black      sedan              True               True  ...   \n",
       "\n",
       "     asientos_traseros_plegables elevalunas_electrico bluetooth   gps  \\\n",
       "2938                         NaN                False     False  True   \n",
       "\n",
       "      alerta_lim_velocidad   precio  fecha_venta año_registro  año_venta  \\\n",
       "2938                  True  75000.0   2018-04-01          NaN     2018.0   \n",
       "\n",
       "      años_coche  \n",
       "2938         NaN  \n",
       "\n",
       "[1 rows x 21 columns]"
      ]
     },
     "execution_count": 16,
     "metadata": {},
     "output_type": "execute_result"
    }
   ],
   "source": [
    "# Hemos visto con .describe valores negativos en la columna 'km'\n",
    "df_bmw[df_bmw['km'] < 0]"
   ]
  },
  {
   "cell_type": "code",
   "execution_count": 17,
   "id": "1d725062",
   "metadata": {},
   "outputs": [
    {
     "data": {
      "text/html": [
       "<div>\n",
       "<style scoped>\n",
       "    .dataframe tbody tr th:only-of-type {\n",
       "        vertical-align: middle;\n",
       "    }\n",
       "\n",
       "    .dataframe tbody tr th {\n",
       "        vertical-align: top;\n",
       "    }\n",
       "\n",
       "    .dataframe thead th {\n",
       "        text-align: right;\n",
       "    }\n",
       "</style>\n",
       "<table border=\"1\" class=\"dataframe\">\n",
       "  <thead>\n",
       "    <tr style=\"text-align: right;\">\n",
       "      <th></th>\n",
       "      <th>marca</th>\n",
       "      <th>modelo</th>\n",
       "      <th>km</th>\n",
       "      <th>potencia</th>\n",
       "      <th>fecha_registro</th>\n",
       "      <th>tipo_gasolina</th>\n",
       "      <th>color</th>\n",
       "      <th>tipo_coche</th>\n",
       "      <th>volante_regulable</th>\n",
       "      <th>aire_acondicionado</th>\n",
       "      <th>...</th>\n",
       "      <th>asientos_traseros_plegables</th>\n",
       "      <th>elevalunas_electrico</th>\n",
       "      <th>bluetooth</th>\n",
       "      <th>gps</th>\n",
       "      <th>alerta_lim_velocidad</th>\n",
       "      <th>precio</th>\n",
       "      <th>fecha_venta</th>\n",
       "      <th>año_registro</th>\n",
       "      <th>año_venta</th>\n",
       "      <th>años_coche</th>\n",
       "    </tr>\n",
       "  </thead>\n",
       "  <tbody>\n",
       "  </tbody>\n",
       "</table>\n",
       "<p>0 rows × 21 columns</p>\n",
       "</div>"
      ],
      "text/plain": [
       "Empty DataFrame\n",
       "Columns: [marca, modelo, km, potencia, fecha_registro, tipo_gasolina, color, tipo_coche, volante_regulable, aire_acondicionado, camara_trasera, asientos_traseros_plegables, elevalunas_electrico, bluetooth, gps, alerta_lim_velocidad, precio, fecha_venta, año_registro, año_venta, años_coche]\n",
       "Index: []\n",
       "\n",
       "[0 rows x 21 columns]"
      ]
     },
     "execution_count": 17,
     "metadata": {},
     "output_type": "execute_result"
    }
   ],
   "source": [
    "# Hay un registro con km negativos, lo cual no es posible. Guardamos su índice y eliminamos la fila del dataset.\n",
    "indice_negativos = df_bmw[df_bmw['km'] < 0].index\n",
    "df_bmw = df_bmw.drop(index=indice_negativos)\n",
    "\n",
    "# Comprobamos que hemos eliminado las filas\n",
    "df_bmw[df_bmw['km'] < 0]"
   ]
  },
  {
   "cell_type": "markdown",
   "id": "5c29704c",
   "metadata": {},
   "source": [
    "##### **FILAS POTENCIA**"
   ]
  },
  {
   "cell_type": "code",
   "execution_count": 18,
   "id": "352369b0",
   "metadata": {},
   "outputs": [
    {
     "data": {
      "text/html": [
       "<div>\n",
       "<style scoped>\n",
       "    .dataframe tbody tr th:only-of-type {\n",
       "        vertical-align: middle;\n",
       "    }\n",
       "\n",
       "    .dataframe tbody tr th {\n",
       "        vertical-align: top;\n",
       "    }\n",
       "\n",
       "    .dataframe thead th {\n",
       "        text-align: right;\n",
       "    }\n",
       "</style>\n",
       "<table border=\"1\" class=\"dataframe\">\n",
       "  <thead>\n",
       "    <tr style=\"text-align: right;\">\n",
       "      <th></th>\n",
       "      <th>marca</th>\n",
       "      <th>modelo</th>\n",
       "      <th>km</th>\n",
       "      <th>potencia</th>\n",
       "      <th>fecha_registro</th>\n",
       "      <th>tipo_gasolina</th>\n",
       "      <th>color</th>\n",
       "      <th>tipo_coche</th>\n",
       "      <th>volante_regulable</th>\n",
       "      <th>aire_acondicionado</th>\n",
       "      <th>...</th>\n",
       "      <th>asientos_traseros_plegables</th>\n",
       "      <th>elevalunas_electrico</th>\n",
       "      <th>bluetooth</th>\n",
       "      <th>gps</th>\n",
       "      <th>alerta_lim_velocidad</th>\n",
       "      <th>precio</th>\n",
       "      <th>fecha_venta</th>\n",
       "      <th>año_registro</th>\n",
       "      <th>año_venta</th>\n",
       "      <th>años_coche</th>\n",
       "    </tr>\n",
       "  </thead>\n",
       "  <tbody>\n",
       "    <tr>\n",
       "      <th>1796</th>\n",
       "      <td>BMW</td>\n",
       "      <td>i3</td>\n",
       "      <td>152328.0</td>\n",
       "      <td>25.0</td>\n",
       "      <td>NaT</td>\n",
       "      <td>hybrid_petrol</td>\n",
       "      <td>black</td>\n",
       "      <td>NaN</td>\n",
       "      <td>False</td>\n",
       "      <td>True</td>\n",
       "      <td>...</td>\n",
       "      <td>NaN</td>\n",
       "      <td>False</td>\n",
       "      <td>False</td>\n",
       "      <td>True</td>\n",
       "      <td>NaN</td>\n",
       "      <td>20300.0</td>\n",
       "      <td>2018-04-01</td>\n",
       "      <td>NaN</td>\n",
       "      <td>2018.0</td>\n",
       "      <td>NaN</td>\n",
       "    </tr>\n",
       "    <tr>\n",
       "      <th>1925</th>\n",
       "      <td>BMW</td>\n",
       "      <td>i3</td>\n",
       "      <td>152470.0</td>\n",
       "      <td>25.0</td>\n",
       "      <td>NaT</td>\n",
       "      <td>hybrid_petrol</td>\n",
       "      <td>black</td>\n",
       "      <td>hatchback</td>\n",
       "      <td>False</td>\n",
       "      <td>True</td>\n",
       "      <td>...</td>\n",
       "      <td>NaN</td>\n",
       "      <td>False</td>\n",
       "      <td>False</td>\n",
       "      <td>True</td>\n",
       "      <td>True</td>\n",
       "      <td>15500.0</td>\n",
       "      <td>2018-03-01</td>\n",
       "      <td>NaN</td>\n",
       "      <td>2018.0</td>\n",
       "      <td>NaN</td>\n",
       "    </tr>\n",
       "    <tr>\n",
       "      <th>3765</th>\n",
       "      <td>BMW</td>\n",
       "      <td>X1</td>\n",
       "      <td>81770.0</td>\n",
       "      <td>0.0</td>\n",
       "      <td>2014-10-01</td>\n",
       "      <td>diesel</td>\n",
       "      <td>white</td>\n",
       "      <td>suv</td>\n",
       "      <td>False</td>\n",
       "      <td>False</td>\n",
       "      <td>...</td>\n",
       "      <td>False</td>\n",
       "      <td>False</td>\n",
       "      <td>False</td>\n",
       "      <td>False</td>\n",
       "      <td>NaN</td>\n",
       "      <td>11700.0</td>\n",
       "      <td>2018-03-01</td>\n",
       "      <td>2014.0</td>\n",
       "      <td>2018.0</td>\n",
       "      <td>4.0</td>\n",
       "    </tr>\n",
       "  </tbody>\n",
       "</table>\n",
       "<p>3 rows × 21 columns</p>\n",
       "</div>"
      ],
      "text/plain": [
       "     marca modelo        km  potencia fecha_registro  tipo_gasolina  color  \\\n",
       "1796   BMW     i3  152328.0      25.0            NaT  hybrid_petrol  black   \n",
       "1925   BMW     i3  152470.0      25.0            NaT  hybrid_petrol  black   \n",
       "3765   BMW     X1   81770.0       0.0     2014-10-01         diesel  white   \n",
       "\n",
       "     tipo_coche volante_regulable aire_acondicionado  ...  \\\n",
       "1796        NaN             False               True  ...   \n",
       "1925  hatchback             False               True  ...   \n",
       "3765        suv             False              False  ...   \n",
       "\n",
       "     asientos_traseros_plegables elevalunas_electrico bluetooth    gps  \\\n",
       "1796                         NaN                False     False   True   \n",
       "1925                         NaN                False     False   True   \n",
       "3765                       False                False     False  False   \n",
       "\n",
       "      alerta_lim_velocidad   precio  fecha_venta año_registro  año_venta  \\\n",
       "1796                   NaN  20300.0   2018-04-01          NaN     2018.0   \n",
       "1925                  True  15500.0   2018-03-01          NaN     2018.0   \n",
       "3765                   NaN  11700.0   2018-03-01       2014.0     2018.0   \n",
       "\n",
       "      años_coche  \n",
       "1796         NaN  \n",
       "1925         NaN  \n",
       "3765         4.0  \n",
       "\n",
       "[3 rows x 21 columns]"
      ]
     },
     "execution_count": 18,
     "metadata": {},
     "output_type": "execute_result"
    }
   ],
   "source": [
    "# Hemos visto con .describe valores a 0, también buscamos potencias inferiores a 50 cv en la columna 'potencia\n",
    "df_bmw[df_bmw['potencia'] < 50]"
   ]
  },
  {
   "cell_type": "code",
   "execution_count": 19,
   "id": "e7890616",
   "metadata": {},
   "outputs": [
    {
     "data": {
      "text/html": [
       "<div>\n",
       "<style scoped>\n",
       "    .dataframe tbody tr th:only-of-type {\n",
       "        vertical-align: middle;\n",
       "    }\n",
       "\n",
       "    .dataframe tbody tr th {\n",
       "        vertical-align: top;\n",
       "    }\n",
       "\n",
       "    .dataframe thead th {\n",
       "        text-align: right;\n",
       "    }\n",
       "</style>\n",
       "<table border=\"1\" class=\"dataframe\">\n",
       "  <thead>\n",
       "    <tr style=\"text-align: right;\">\n",
       "      <th></th>\n",
       "      <th>marca</th>\n",
       "      <th>modelo</th>\n",
       "      <th>km</th>\n",
       "      <th>potencia</th>\n",
       "      <th>fecha_registro</th>\n",
       "      <th>tipo_gasolina</th>\n",
       "      <th>color</th>\n",
       "      <th>tipo_coche</th>\n",
       "      <th>volante_regulable</th>\n",
       "      <th>aire_acondicionado</th>\n",
       "      <th>...</th>\n",
       "      <th>asientos_traseros_plegables</th>\n",
       "      <th>elevalunas_electrico</th>\n",
       "      <th>bluetooth</th>\n",
       "      <th>gps</th>\n",
       "      <th>alerta_lim_velocidad</th>\n",
       "      <th>precio</th>\n",
       "      <th>fecha_venta</th>\n",
       "      <th>año_registro</th>\n",
       "      <th>año_venta</th>\n",
       "      <th>años_coche</th>\n",
       "    </tr>\n",
       "  </thead>\n",
       "  <tbody>\n",
       "  </tbody>\n",
       "</table>\n",
       "<p>0 rows × 21 columns</p>\n",
       "</div>"
      ],
      "text/plain": [
       "Empty DataFrame\n",
       "Columns: [marca, modelo, km, potencia, fecha_registro, tipo_gasolina, color, tipo_coche, volante_regulable, aire_acondicionado, camara_trasera, asientos_traseros_plegables, elevalunas_electrico, bluetooth, gps, alerta_lim_velocidad, precio, fecha_venta, año_registro, año_venta, años_coche]\n",
       "Index: []\n",
       "\n",
       "[0 rows x 21 columns]"
      ]
     },
     "execution_count": 19,
     "metadata": {},
     "output_type": "execute_result"
    }
   ],
   "source": [
    "# Hay tres registros con potencia 0 o con valores erroneos (comprobado a nivel negocio que no existe el modelo i3 con 25 de potencia, el mínimo son 35 cv de potencia de gasolina). \n",
    "# Guardamos sus índices y eliminamos las filas del dataset.\n",
    "indice_potencia = df_bmw[df_bmw['potencia'] < 50].index\n",
    "df_bmw = df_bmw.drop(index=indice_potencia)\n",
    "\n",
    "# Comprobamos que hemos eliminado las filas\n",
    "df_bmw[df_bmw['potencia'] < 50]"
   ]
  },
  {
   "cell_type": "markdown",
   "id": "34922f65",
   "metadata": {},
   "source": [
    "#### **COLUMNAS**"
   ]
  },
  {
   "cell_type": "code",
   "execution_count": 20,
   "id": "e1588d66",
   "metadata": {},
   "outputs": [
    {
     "name": "stdout",
     "output_type": "stream",
     "text": [
      "tipo_gasolina\n",
      "diesel    0.956225\n",
      "Name: proportion, dtype: float64 \n",
      "\n",
      "gps\n",
      "True    0.932067\n",
      "Name: proportion, dtype: float64 \n",
      "\n"
     ]
    }
   ],
   "source": [
    "# Hacemos un print para mostrar las distribuciones que tienen más del 90% de un mismo valor respecto al total, para valorar si eliminarlas\n",
    "\n",
    "for i in distribuciones:\n",
    "    if (distribuciones[i] > 0.9).any():\n",
    "        print(distribuciones[i][distribuciones[i] > 0.9],\"\\n\")"
   ]
  },
  {
   "cell_type": "markdown",
   "id": "2737cdc6",
   "metadata": {},
   "source": [
    "##### **COLUMNA MARCA**"
   ]
  },
  {
   "cell_type": "markdown",
   "id": "1a767e3a",
   "metadata": {},
   "source": [
    "El dataset se presenta bajo el nombre bmw_pricing, lo que sugiere que todos los registros corresponden a vehículos de la marca BMW, es importante confirmar esta suposición en lugar de asumirla. Por eso, realizaremos un breve análisis para verificar si los modelos que aparecen con la columna de marca vacía también están asociados a la marca BMW en otras filas del dataset."
   ]
  },
  {
   "cell_type": "code",
   "execution_count": 21,
   "id": "8091b005",
   "metadata": {},
   "outputs": [
    {
     "data": {
      "text/html": [
       "<div>\n",
       "<style scoped>\n",
       "    .dataframe tbody tr th:only-of-type {\n",
       "        vertical-align: middle;\n",
       "    }\n",
       "\n",
       "    .dataframe tbody tr th {\n",
       "        vertical-align: top;\n",
       "    }\n",
       "\n",
       "    .dataframe thead th {\n",
       "        text-align: right;\n",
       "    }\n",
       "</style>\n",
       "<table border=\"1\" class=\"dataframe\">\n",
       "  <thead>\n",
       "    <tr style=\"text-align: right;\">\n",
       "      <th></th>\n",
       "      <th>marca</th>\n",
       "      <th>modelo</th>\n",
       "      <th>km</th>\n",
       "      <th>potencia</th>\n",
       "      <th>fecha_registro</th>\n",
       "      <th>tipo_gasolina</th>\n",
       "      <th>color</th>\n",
       "      <th>tipo_coche</th>\n",
       "      <th>volante_regulable</th>\n",
       "      <th>aire_acondicionado</th>\n",
       "      <th>...</th>\n",
       "      <th>asientos_traseros_plegables</th>\n",
       "      <th>elevalunas_electrico</th>\n",
       "      <th>bluetooth</th>\n",
       "      <th>gps</th>\n",
       "      <th>alerta_lim_velocidad</th>\n",
       "      <th>precio</th>\n",
       "      <th>fecha_venta</th>\n",
       "      <th>año_registro</th>\n",
       "      <th>año_venta</th>\n",
       "      <th>años_coche</th>\n",
       "    </tr>\n",
       "  </thead>\n",
       "  <tbody>\n",
       "    <tr>\n",
       "      <th>57</th>\n",
       "      <td>NaN</td>\n",
       "      <td>M235</td>\n",
       "      <td>34082.0</td>\n",
       "      <td>240.0</td>\n",
       "      <td>NaT</td>\n",
       "      <td>petrol</td>\n",
       "      <td>grey</td>\n",
       "      <td>coupe</td>\n",
       "      <td>False</td>\n",
       "      <td>True</td>\n",
       "      <td>...</td>\n",
       "      <td>False</td>\n",
       "      <td>True</td>\n",
       "      <td>True</td>\n",
       "      <td>True</td>\n",
       "      <td>NaN</td>\n",
       "      <td>30200.0</td>\n",
       "      <td>2018-01-01</td>\n",
       "      <td>NaN</td>\n",
       "      <td>2018.0</td>\n",
       "      <td>NaN</td>\n",
       "    </tr>\n",
       "    <tr>\n",
       "      <th>84</th>\n",
       "      <td>NaN</td>\n",
       "      <td>M235</td>\n",
       "      <td>69736.0</td>\n",
       "      <td>240.0</td>\n",
       "      <td>NaT</td>\n",
       "      <td>petrol</td>\n",
       "      <td>grey</td>\n",
       "      <td>NaN</td>\n",
       "      <td>True</td>\n",
       "      <td>True</td>\n",
       "      <td>...</td>\n",
       "      <td>False</td>\n",
       "      <td>True</td>\n",
       "      <td>True</td>\n",
       "      <td>True</td>\n",
       "      <td>False</td>\n",
       "      <td>30000.0</td>\n",
       "      <td>2018-05-01</td>\n",
       "      <td>NaN</td>\n",
       "      <td>2018.0</td>\n",
       "      <td>NaN</td>\n",
       "    </tr>\n",
       "    <tr>\n",
       "      <th>102</th>\n",
       "      <td>NaN</td>\n",
       "      <td>M235</td>\n",
       "      <td>37619.0</td>\n",
       "      <td>240.0</td>\n",
       "      <td>NaT</td>\n",
       "      <td>petrol</td>\n",
       "      <td>black</td>\n",
       "      <td>NaN</td>\n",
       "      <td>True</td>\n",
       "      <td>False</td>\n",
       "      <td>...</td>\n",
       "      <td>NaN</td>\n",
       "      <td>True</td>\n",
       "      <td>True</td>\n",
       "      <td>True</td>\n",
       "      <td>True</td>\n",
       "      <td>27700.0</td>\n",
       "      <td>2018-05-01</td>\n",
       "      <td>NaN</td>\n",
       "      <td>2018.0</td>\n",
       "      <td>NaN</td>\n",
       "    </tr>\n",
       "    <tr>\n",
       "      <th>107</th>\n",
       "      <td>NaN</td>\n",
       "      <td>630</td>\n",
       "      <td>149943.0</td>\n",
       "      <td>190.0</td>\n",
       "      <td>NaT</td>\n",
       "      <td>petrol</td>\n",
       "      <td>black</td>\n",
       "      <td>coupe</td>\n",
       "      <td>True</td>\n",
       "      <td>True</td>\n",
       "      <td>...</td>\n",
       "      <td>False</td>\n",
       "      <td>True</td>\n",
       "      <td>True</td>\n",
       "      <td>True</td>\n",
       "      <td>True</td>\n",
       "      <td>10500.0</td>\n",
       "      <td>2018-05-01</td>\n",
       "      <td>NaN</td>\n",
       "      <td>2018.0</td>\n",
       "      <td>NaN</td>\n",
       "    </tr>\n",
       "    <tr>\n",
       "      <th>4804</th>\n",
       "      <td>NaN</td>\n",
       "      <td>220 Active Tourer</td>\n",
       "      <td>153358.0</td>\n",
       "      <td>140.0</td>\n",
       "      <td>2015-06-01</td>\n",
       "      <td>diesel</td>\n",
       "      <td>grey</td>\n",
       "      <td>van</td>\n",
       "      <td>False</td>\n",
       "      <td>NaN</td>\n",
       "      <td>...</td>\n",
       "      <td>NaN</td>\n",
       "      <td>False</td>\n",
       "      <td>False</td>\n",
       "      <td>True</td>\n",
       "      <td>True</td>\n",
       "      <td>11700.0</td>\n",
       "      <td>2018-02-01</td>\n",
       "      <td>2015.0</td>\n",
       "      <td>2018.0</td>\n",
       "      <td>3.0</td>\n",
       "    </tr>\n",
       "    <tr>\n",
       "      <th>4825</th>\n",
       "      <td>NaN</td>\n",
       "      <td>225 Active Tourer</td>\n",
       "      <td>33300.0</td>\n",
       "      <td>170.0</td>\n",
       "      <td>NaT</td>\n",
       "      <td>petrol</td>\n",
       "      <td>NaN</td>\n",
       "      <td>van</td>\n",
       "      <td>True</td>\n",
       "      <td>True</td>\n",
       "      <td>...</td>\n",
       "      <td>NaN</td>\n",
       "      <td>False</td>\n",
       "      <td>False</td>\n",
       "      <td>False</td>\n",
       "      <td>True</td>\n",
       "      <td>19200.0</td>\n",
       "      <td>2018-05-01</td>\n",
       "      <td>NaN</td>\n",
       "      <td>2018.0</td>\n",
       "      <td>NaN</td>\n",
       "    </tr>\n",
       "  </tbody>\n",
       "</table>\n",
       "<p>6 rows × 21 columns</p>\n",
       "</div>"
      ],
      "text/plain": [
       "     marca             modelo        km  potencia fecha_registro  \\\n",
       "57     NaN               M235   34082.0     240.0            NaT   \n",
       "84     NaN               M235   69736.0     240.0            NaT   \n",
       "102    NaN               M235   37619.0     240.0            NaT   \n",
       "107    NaN                630  149943.0     190.0            NaT   \n",
       "4804   NaN  220 Active Tourer  153358.0     140.0     2015-06-01   \n",
       "4825   NaN  225 Active Tourer   33300.0     170.0            NaT   \n",
       "\n",
       "     tipo_gasolina  color tipo_coche volante_regulable aire_acondicionado  \\\n",
       "57          petrol   grey      coupe             False               True   \n",
       "84          petrol   grey        NaN              True               True   \n",
       "102         petrol  black        NaN              True              False   \n",
       "107         petrol  black      coupe              True               True   \n",
       "4804        diesel   grey        van             False                NaN   \n",
       "4825        petrol    NaN        van              True               True   \n",
       "\n",
       "      ... asientos_traseros_plegables elevalunas_electrico bluetooth    gps  \\\n",
       "57    ...                       False                 True      True   True   \n",
       "84    ...                       False                 True      True   True   \n",
       "102   ...                         NaN                 True      True   True   \n",
       "107   ...                       False                 True      True   True   \n",
       "4804  ...                         NaN                False     False   True   \n",
       "4825  ...                         NaN                False     False  False   \n",
       "\n",
       "      alerta_lim_velocidad   precio  fecha_venta año_registro  año_venta  \\\n",
       "57                     NaN  30200.0   2018-01-01          NaN     2018.0   \n",
       "84                   False  30000.0   2018-05-01          NaN     2018.0   \n",
       "102                   True  27700.0   2018-05-01          NaN     2018.0   \n",
       "107                   True  10500.0   2018-05-01          NaN     2018.0   \n",
       "4804                  True  11700.0   2018-02-01       2015.0     2018.0   \n",
       "4825                  True  19200.0   2018-05-01          NaN     2018.0   \n",
       "\n",
       "      años_coche  \n",
       "57           NaN  \n",
       "84           NaN  \n",
       "102          NaN  \n",
       "107          NaN  \n",
       "4804         3.0  \n",
       "4825         NaN  \n",
       "\n",
       "[6 rows x 21 columns]"
      ]
     },
     "execution_count": 21,
     "metadata": {},
     "output_type": "execute_result"
    }
   ],
   "source": [
    "# Filtramos las filas donde la columna marca está vacía\n",
    "modelos_nulos = df_bmw[df_bmw['marca'].isna()]\n",
    "\n",
    "# Filtramos las filas donde la columna marca no está vacía \n",
    "modelos_nonulos = df_bmw[df_bmw['marca'].notna()]\n",
    "\n",
    "# Comprobamos todos los modelos con marca nula que NO aparecen en los registros con marca no nula\n",
    "modelos_a_comprobar = modelos_nulos[~modelos_nulos['modelo'].isin(modelos_nonulos['modelo'])]\n",
    "\n",
    "modelos_a_comprobar"
   ]
  },
  {
   "cell_type": "code",
   "execution_count": 22,
   "id": "8d92e9bd",
   "metadata": {},
   "outputs": [
    {
     "data": {
      "text/plain": [
       "array(['M235', '630', '220 Active Tourer', '225 Active Tourer'],\n",
       "      dtype=object)"
      ]
     },
     "execution_count": 22,
     "metadata": {},
     "output_type": "execute_result"
    }
   ],
   "source": [
    "# Tenemos 6 registros que no hemos podido comprobar, vamos a observar los modelos únicos\n",
    "modelos_a_comprobar['modelo'].unique()"
   ]
  },
  {
   "cell_type": "markdown",
   "id": "025a16f3",
   "metadata": {},
   "source": [
    "De los 6 registros, se identifican 4 modelos diferentes. Hemos comprobado que estos 4 modelos existen, los hemos encontrado en la página web de la marca. Como todos los registros son BMW, procederemos a eliminar la columna."
   ]
  },
  {
   "cell_type": "code",
   "execution_count": 23,
   "id": "9304fd31",
   "metadata": {},
   "outputs": [
    {
     "name": "stdout",
     "output_type": "stream",
     "text": [
      "<class 'pandas.core.frame.DataFrame'>\n",
      "Index: 4837 entries, 0 to 4842\n",
      "Data columns (total 20 columns):\n",
      " #   Column                       Non-Null Count  Dtype         \n",
      "---  ------                       --------------  -----         \n",
      " 0   modelo                       4834 non-null   object        \n",
      " 1   km                           4835 non-null   float64       \n",
      " 2   potencia                     4836 non-null   float64       \n",
      " 3   fecha_registro               2417 non-null   datetime64[ns]\n",
      " 4   tipo_gasolina                4832 non-null   object        \n",
      " 5   color                        4392 non-null   object        \n",
      " 6   tipo_coche                   3379 non-null   object        \n",
      " 7   volante_regulable            4833 non-null   object        \n",
      " 8   aire_acondicionado           4352 non-null   object        \n",
      " 9   camara_trasera               4835 non-null   object        \n",
      " 10  asientos_traseros_plegables  1451 non-null   object        \n",
      " 11  elevalunas_electrico         4835 non-null   object        \n",
      " 12  bluetooth                    4109 non-null   object        \n",
      " 13  gps                          4837 non-null   bool          \n",
      " 14  alerta_lim_velocidad         4112 non-null   object        \n",
      " 15  precio                       4831 non-null   float64       \n",
      " 16  fecha_venta                  4836 non-null   datetime64[ns]\n",
      " 17  año_registro                 2417 non-null   float64       \n",
      " 18  año_venta                    4836 non-null   float64       \n",
      " 19  años_coche                   2417 non-null   float64       \n",
      "dtypes: bool(1), datetime64[ns](2), float64(6), object(11)\n",
      "memory usage: 760.5+ KB\n"
     ]
    }
   ],
   "source": [
    "# Eliminamos la columna 'marca' ya que no aporta información relevante\n",
    "df_bmw.drop(columns='marca',inplace=True)\n",
    "\n",
    "# Comprobamos que hemos eliminado la columna\n",
    "df_bmw.info()"
   ]
  },
  {
   "cell_type": "markdown",
   "id": "f7a9084a",
   "metadata": {},
   "source": [
    "##### **COLUMNAS FECHAS**"
   ]
  },
  {
   "cell_type": "code",
   "execution_count": 24,
   "id": "772e0a41",
   "metadata": {},
   "outputs": [
    {
     "name": "stdout",
     "output_type": "stream",
     "text": [
      "<class 'pandas.core.frame.DataFrame'>\n",
      "Index: 4837 entries, 0 to 4842\n",
      "Data columns (total 16 columns):\n",
      " #   Column                       Non-Null Count  Dtype  \n",
      "---  ------                       --------------  -----  \n",
      " 0   modelo                       4834 non-null   object \n",
      " 1   km                           4835 non-null   float64\n",
      " 2   potencia                     4836 non-null   float64\n",
      " 3   tipo_gasolina                4832 non-null   object \n",
      " 4   color                        4392 non-null   object \n",
      " 5   tipo_coche                   3379 non-null   object \n",
      " 6   volante_regulable            4833 non-null   object \n",
      " 7   aire_acondicionado           4352 non-null   object \n",
      " 8   camara_trasera               4835 non-null   object \n",
      " 9   asientos_traseros_plegables  1451 non-null   object \n",
      " 10  elevalunas_electrico         4835 non-null   object \n",
      " 11  bluetooth                    4109 non-null   object \n",
      " 12  gps                          4837 non-null   bool   \n",
      " 13  alerta_lim_velocidad         4112 non-null   object \n",
      " 14  precio                       4831 non-null   float64\n",
      " 15  años_coche                   2417 non-null   float64\n",
      "dtypes: bool(1), float64(4), object(11)\n",
      "memory usage: 609.3+ KB\n"
     ]
    }
   ],
   "source": [
    "# Eliminamos las siguiente columnas con fecha, las nueva columna edad consideramos que las engloba a todas\n",
    "df_bmw.drop(columns=['fecha_registro','fecha_venta','año_registro','año_venta'], inplace=True)\n",
    "\n",
    "# Comprobamos que se han eliminado\n",
    "df_bmw.info()"
   ]
  },
  {
   "cell_type": "markdown",
   "id": "c618abe3",
   "metadata": {},
   "source": [
    "##### **COLUMNA TIPO GASOLINA**"
   ]
  },
  {
   "cell_type": "code",
   "execution_count": 25,
   "id": "1383808a",
   "metadata": {},
   "outputs": [
    {
     "data": {
      "text/plain": [
       "tipo_gasolina\n",
       "diesel           0.956225\n",
       "petrol           0.039438\n",
       "hybrid_petrol    0.001652\n",
       "NaN              0.001032\n",
       "Diesel           0.001032\n",
       "electro          0.000619\n",
       "Name: proportion, dtype: float64"
      ]
     },
     "execution_count": 25,
     "metadata": {},
     "output_type": "execute_result"
    }
   ],
   "source": [
    "# Observamos la distribución de 'tipo_gasolina'\n",
    "distribuciones['tipo_gasolina']"
   ]
  },
  {
   "cell_type": "markdown",
   "id": "f79725de",
   "metadata": {},
   "source": [
    "Observamos que la columna `tipo_gasolina` no aporta información relevante, ya que cerca del **96%** de los coches utilizan `diésel`. Podemos asumir que prácticamente todos los vehículos del dataset son diésel. Por lo tanto, al tener tan poca variabilidad decidimos eliminamos la columna."
   ]
  },
  {
   "cell_type": "code",
   "execution_count": 26,
   "id": "ec1bdb26",
   "metadata": {},
   "outputs": [
    {
     "data": {
      "text/html": [
       "<div>\n",
       "<style scoped>\n",
       "    .dataframe tbody tr th:only-of-type {\n",
       "        vertical-align: middle;\n",
       "    }\n",
       "\n",
       "    .dataframe tbody tr th {\n",
       "        vertical-align: top;\n",
       "    }\n",
       "\n",
       "    .dataframe thead th {\n",
       "        text-align: right;\n",
       "    }\n",
       "</style>\n",
       "<table border=\"1\" class=\"dataframe\">\n",
       "  <thead>\n",
       "    <tr style=\"text-align: right;\">\n",
       "      <th></th>\n",
       "      <th>modelo</th>\n",
       "      <th>km</th>\n",
       "      <th>potencia</th>\n",
       "      <th>color</th>\n",
       "      <th>tipo_coche</th>\n",
       "      <th>volante_regulable</th>\n",
       "      <th>aire_acondicionado</th>\n",
       "      <th>camara_trasera</th>\n",
       "      <th>asientos_traseros_plegables</th>\n",
       "      <th>elevalunas_electrico</th>\n",
       "      <th>bluetooth</th>\n",
       "      <th>gps</th>\n",
       "      <th>alerta_lim_velocidad</th>\n",
       "      <th>precio</th>\n",
       "      <th>años_coche</th>\n",
       "    </tr>\n",
       "  </thead>\n",
       "  <tbody>\n",
       "    <tr>\n",
       "      <th>0</th>\n",
       "      <td>118</td>\n",
       "      <td>140411.0</td>\n",
       "      <td>100.0</td>\n",
       "      <td>black</td>\n",
       "      <td>NaN</td>\n",
       "      <td>True</td>\n",
       "      <td>True</td>\n",
       "      <td>False</td>\n",
       "      <td>NaN</td>\n",
       "      <td>True</td>\n",
       "      <td>NaN</td>\n",
       "      <td>True</td>\n",
       "      <td>NaN</td>\n",
       "      <td>11300.0</td>\n",
       "      <td>6.0</td>\n",
       "    </tr>\n",
       "    <tr>\n",
       "      <th>1</th>\n",
       "      <td>M4</td>\n",
       "      <td>13929.0</td>\n",
       "      <td>317.0</td>\n",
       "      <td>grey</td>\n",
       "      <td>convertible</td>\n",
       "      <td>True</td>\n",
       "      <td>True</td>\n",
       "      <td>False</td>\n",
       "      <td>NaN</td>\n",
       "      <td>False</td>\n",
       "      <td>True</td>\n",
       "      <td>True</td>\n",
       "      <td>True</td>\n",
       "      <td>69700.0</td>\n",
       "      <td>NaN</td>\n",
       "    </tr>\n",
       "    <tr>\n",
       "      <th>2</th>\n",
       "      <td>320</td>\n",
       "      <td>183297.0</td>\n",
       "      <td>120.0</td>\n",
       "      <td>white</td>\n",
       "      <td>NaN</td>\n",
       "      <td>False</td>\n",
       "      <td>False</td>\n",
       "      <td>False</td>\n",
       "      <td>NaN</td>\n",
       "      <td>True</td>\n",
       "      <td>False</td>\n",
       "      <td>True</td>\n",
       "      <td>False</td>\n",
       "      <td>10200.0</td>\n",
       "      <td>6.0</td>\n",
       "    </tr>\n",
       "    <tr>\n",
       "      <th>3</th>\n",
       "      <td>420</td>\n",
       "      <td>128035.0</td>\n",
       "      <td>135.0</td>\n",
       "      <td>red</td>\n",
       "      <td>convertible</td>\n",
       "      <td>True</td>\n",
       "      <td>True</td>\n",
       "      <td>False</td>\n",
       "      <td>NaN</td>\n",
       "      <td>True</td>\n",
       "      <td>True</td>\n",
       "      <td>True</td>\n",
       "      <td>NaN</td>\n",
       "      <td>25100.0</td>\n",
       "      <td>NaN</td>\n",
       "    </tr>\n",
       "    <tr>\n",
       "      <th>4</th>\n",
       "      <td>425</td>\n",
       "      <td>97097.0</td>\n",
       "      <td>160.0</td>\n",
       "      <td>silver</td>\n",
       "      <td>NaN</td>\n",
       "      <td>True</td>\n",
       "      <td>True</td>\n",
       "      <td>False</td>\n",
       "      <td>False</td>\n",
       "      <td>False</td>\n",
       "      <td>True</td>\n",
       "      <td>True</td>\n",
       "      <td>True</td>\n",
       "      <td>33400.0</td>\n",
       "      <td>NaN</td>\n",
       "    </tr>\n",
       "  </tbody>\n",
       "</table>\n",
       "</div>"
      ],
      "text/plain": [
       "  modelo        km  potencia   color   tipo_coche volante_regulable  \\\n",
       "0    118  140411.0     100.0   black          NaN              True   \n",
       "1     M4   13929.0     317.0    grey  convertible              True   \n",
       "2    320  183297.0     120.0   white          NaN             False   \n",
       "3    420  128035.0     135.0     red  convertible              True   \n",
       "4    425   97097.0     160.0  silver          NaN              True   \n",
       "\n",
       "  aire_acondicionado camara_trasera asientos_traseros_plegables  \\\n",
       "0               True          False                         NaN   \n",
       "1               True          False                         NaN   \n",
       "2              False          False                         NaN   \n",
       "3               True          False                         NaN   \n",
       "4               True          False                       False   \n",
       "\n",
       "  elevalunas_electrico bluetooth   gps alerta_lim_velocidad   precio  \\\n",
       "0                 True       NaN  True                  NaN  11300.0   \n",
       "1                False      True  True                 True  69700.0   \n",
       "2                 True     False  True                False  10200.0   \n",
       "3                 True      True  True                  NaN  25100.0   \n",
       "4                False      True  True                 True  33400.0   \n",
       "\n",
       "   años_coche  \n",
       "0         6.0  \n",
       "1         NaN  \n",
       "2         6.0  \n",
       "3         NaN  \n",
       "4         NaN  "
      ]
     },
     "execution_count": 26,
     "metadata": {},
     "output_type": "execute_result"
    }
   ],
   "source": [
    "# Eliminamos la columna 'tipo_gasolina'\n",
    "df_bmw.drop(columns='tipo_gasolina', inplace= True)\n",
    "\n",
    "# Comprobamos que hemos eliminado la columna\n",
    "df_bmw.head()"
   ]
  },
  {
   "cell_type": "markdown",
   "id": "827caa77",
   "metadata": {},
   "source": [
    "##### **COLUMNA GPS**"
   ]
  },
  {
   "cell_type": "code",
   "execution_count": 27,
   "id": "eff51b09",
   "metadata": {},
   "outputs": [
    {
     "data": {
      "text/plain": [
       "gps\n",
       "True     0.932067\n",
       "False    0.067933\n",
       "Name: proportion, dtype: float64"
      ]
     },
     "execution_count": 27,
     "metadata": {},
     "output_type": "execute_result"
    }
   ],
   "source": [
    "# Observamos la distribución de 'gps'\n",
    "distribuciones['gps']"
   ]
  },
  {
   "cell_type": "markdown",
   "id": "e8dc8763",
   "metadata": {},
   "source": [
    "También observamos que la columna `gps` tiene un **93%** de valores `True`. Como estamos buscando atributos que aporten información útil para predecir el precio, decidimos eliminar la columna por falta de variabilidad."
   ]
  },
  {
   "cell_type": "code",
   "execution_count": 28,
   "id": "57bb39a2",
   "metadata": {},
   "outputs": [
    {
     "name": "stdout",
     "output_type": "stream",
     "text": [
      "<class 'pandas.core.frame.DataFrame'>\n",
      "Index: 4837 entries, 0 to 4842\n",
      "Data columns (total 14 columns):\n",
      " #   Column                       Non-Null Count  Dtype  \n",
      "---  ------                       --------------  -----  \n",
      " 0   modelo                       4834 non-null   object \n",
      " 1   km                           4835 non-null   float64\n",
      " 2   potencia                     4836 non-null   float64\n",
      " 3   color                        4392 non-null   object \n",
      " 4   tipo_coche                   3379 non-null   object \n",
      " 5   volante_regulable            4833 non-null   object \n",
      " 6   aire_acondicionado           4352 non-null   object \n",
      " 7   camara_trasera               4835 non-null   object \n",
      " 8   asientos_traseros_plegables  1451 non-null   object \n",
      " 9   elevalunas_electrico         4835 non-null   object \n",
      " 10  bluetooth                    4109 non-null   object \n",
      " 11  alerta_lim_velocidad         4112 non-null   object \n",
      " 12  precio                       4831 non-null   float64\n",
      " 13  años_coche                   2417 non-null   float64\n",
      "dtypes: float64(4), object(10)\n",
      "memory usage: 566.8+ KB\n"
     ]
    }
   ],
   "source": [
    "# Eliminamos la columna 'gps'\n",
    "df_bmw.drop(columns='gps', inplace= True)\n",
    "\n",
    "# Comprobamos que hemos eliminado la columna\n",
    "df_bmw.info()"
   ]
  },
  {
   "cell_type": "markdown",
   "id": "8b5d232d",
   "metadata": {},
   "source": [
    "## **04 - TRATAMIENTO DE NULOS**"
   ]
  },
  {
   "cell_type": "markdown",
   "id": "c0123201",
   "metadata": {},
   "source": [
    "### **GENÉRICO**"
   ]
  },
  {
   "cell_type": "code",
   "execution_count": 29,
   "id": "08805208",
   "metadata": {},
   "outputs": [
    {
     "data": {
      "text/html": [
       "<div>\n",
       "<style scoped>\n",
       "    .dataframe tbody tr th:only-of-type {\n",
       "        vertical-align: middle;\n",
       "    }\n",
       "\n",
       "    .dataframe tbody tr th {\n",
       "        vertical-align: top;\n",
       "    }\n",
       "\n",
       "    .dataframe thead th {\n",
       "        text-align: right;\n",
       "    }\n",
       "</style>\n",
       "<table border=\"1\" class=\"dataframe\">\n",
       "  <thead>\n",
       "    <tr style=\"text-align: right;\">\n",
       "      <th></th>\n",
       "      <th>NULOS</th>\n",
       "      <th>% NULOS</th>\n",
       "      <th>VALORES UNICOS</th>\n",
       "    </tr>\n",
       "  </thead>\n",
       "  <tbody>\n",
       "    <tr>\n",
       "      <th>asientos_traseros_plegables</th>\n",
       "      <td>3386</td>\n",
       "      <td>70.002067</td>\n",
       "      <td>2</td>\n",
       "    </tr>\n",
       "    <tr>\n",
       "      <th>años_coche</th>\n",
       "      <td>2420</td>\n",
       "      <td>50.031011</td>\n",
       "      <td>23</td>\n",
       "    </tr>\n",
       "    <tr>\n",
       "      <th>tipo_coche</th>\n",
       "      <td>1458</td>\n",
       "      <td>30.142650</td>\n",
       "      <td>8</td>\n",
       "    </tr>\n",
       "    <tr>\n",
       "      <th>bluetooth</th>\n",
       "      <td>728</td>\n",
       "      <td>15.050651</td>\n",
       "      <td>2</td>\n",
       "    </tr>\n",
       "    <tr>\n",
       "      <th>alerta_lim_velocidad</th>\n",
       "      <td>725</td>\n",
       "      <td>14.988629</td>\n",
       "      <td>2</td>\n",
       "    </tr>\n",
       "    <tr>\n",
       "      <th>aire_acondicionado</th>\n",
       "      <td>485</td>\n",
       "      <td>10.026876</td>\n",
       "      <td>2</td>\n",
       "    </tr>\n",
       "    <tr>\n",
       "      <th>color</th>\n",
       "      <td>445</td>\n",
       "      <td>9.199917</td>\n",
       "      <td>10</td>\n",
       "    </tr>\n",
       "    <tr>\n",
       "      <th>precio</th>\n",
       "      <td>6</td>\n",
       "      <td>0.124044</td>\n",
       "      <td>436</td>\n",
       "    </tr>\n",
       "    <tr>\n",
       "      <th>volante_regulable</th>\n",
       "      <td>4</td>\n",
       "      <td>0.082696</td>\n",
       "      <td>2</td>\n",
       "    </tr>\n",
       "    <tr>\n",
       "      <th>modelo</th>\n",
       "      <td>3</td>\n",
       "      <td>0.062022</td>\n",
       "      <td>76</td>\n",
       "    </tr>\n",
       "    <tr>\n",
       "      <th>km</th>\n",
       "      <td>2</td>\n",
       "      <td>0.041348</td>\n",
       "      <td>4778</td>\n",
       "    </tr>\n",
       "    <tr>\n",
       "      <th>camara_trasera</th>\n",
       "      <td>2</td>\n",
       "      <td>0.041348</td>\n",
       "      <td>2</td>\n",
       "    </tr>\n",
       "    <tr>\n",
       "      <th>elevalunas_electrico</th>\n",
       "      <td>2</td>\n",
       "      <td>0.041348</td>\n",
       "      <td>2</td>\n",
       "    </tr>\n",
       "    <tr>\n",
       "      <th>potencia</th>\n",
       "      <td>1</td>\n",
       "      <td>0.020674</td>\n",
       "      <td>59</td>\n",
       "    </tr>\n",
       "  </tbody>\n",
       "</table>\n",
       "</div>"
      ],
      "text/plain": [
       "                             NULOS    % NULOS  VALORES UNICOS\n",
       "asientos_traseros_plegables   3386  70.002067               2\n",
       "años_coche                    2420  50.031011              23\n",
       "tipo_coche                    1458  30.142650               8\n",
       "bluetooth                      728  15.050651               2\n",
       "alerta_lim_velocidad           725  14.988629               2\n",
       "aire_acondicionado             485  10.026876               2\n",
       "color                          445   9.199917              10\n",
       "precio                           6   0.124044             436\n",
       "volante_regulable                4   0.082696               2\n",
       "modelo                           3   0.062022              76\n",
       "km                               2   0.041348            4778\n",
       "camara_trasera                   2   0.041348               2\n",
       "elevalunas_electrico             2   0.041348               2\n",
       "potencia                         1   0.020674              59"
      ]
     },
     "execution_count": 29,
     "metadata": {},
     "output_type": "execute_result"
    }
   ],
   "source": [
    "tabla_nulos(df_bmw)"
   ]
  },
  {
   "cell_type": "code",
   "execution_count": 30,
   "id": "e4f54879",
   "metadata": {},
   "outputs": [],
   "source": [
    "# Creamos una función para eliminar las filas de las columnas que tengan un umbral de nulos inferior a un valor\n",
    "\n",
    "def elimina_nulos(dataset, umbral):\n",
    "    lista_nulos = tabla_nulos(dataset)\n",
    "    for i in lista_nulos.index:\n",
    "        if lista_nulos['% NULOS'][i] < umbral:\n",
    "            dataset.dropna(subset=[i], inplace=True)\n",
    "    return dataset"
   ]
  },
  {
   "cell_type": "code",
   "execution_count": 31,
   "id": "cb16b48c",
   "metadata": {},
   "outputs": [
    {
     "data": {
      "text/html": [
       "<div>\n",
       "<style scoped>\n",
       "    .dataframe tbody tr th:only-of-type {\n",
       "        vertical-align: middle;\n",
       "    }\n",
       "\n",
       "    .dataframe tbody tr th {\n",
       "        vertical-align: top;\n",
       "    }\n",
       "\n",
       "    .dataframe thead th {\n",
       "        text-align: right;\n",
       "    }\n",
       "</style>\n",
       "<table border=\"1\" class=\"dataframe\">\n",
       "  <thead>\n",
       "    <tr style=\"text-align: right;\">\n",
       "      <th></th>\n",
       "      <th>modelo</th>\n",
       "      <th>km</th>\n",
       "      <th>potencia</th>\n",
       "      <th>color</th>\n",
       "      <th>tipo_coche</th>\n",
       "      <th>volante_regulable</th>\n",
       "      <th>aire_acondicionado</th>\n",
       "      <th>camara_trasera</th>\n",
       "      <th>asientos_traseros_plegables</th>\n",
       "      <th>elevalunas_electrico</th>\n",
       "      <th>bluetooth</th>\n",
       "      <th>alerta_lim_velocidad</th>\n",
       "      <th>precio</th>\n",
       "      <th>años_coche</th>\n",
       "    </tr>\n",
       "  </thead>\n",
       "  <tbody>\n",
       "    <tr>\n",
       "      <th>0</th>\n",
       "      <td>118</td>\n",
       "      <td>140411.0</td>\n",
       "      <td>100.0</td>\n",
       "      <td>black</td>\n",
       "      <td>NaN</td>\n",
       "      <td>True</td>\n",
       "      <td>True</td>\n",
       "      <td>False</td>\n",
       "      <td>NaN</td>\n",
       "      <td>True</td>\n",
       "      <td>NaN</td>\n",
       "      <td>NaN</td>\n",
       "      <td>11300.0</td>\n",
       "      <td>6.0</td>\n",
       "    </tr>\n",
       "    <tr>\n",
       "      <th>1</th>\n",
       "      <td>M4</td>\n",
       "      <td>13929.0</td>\n",
       "      <td>317.0</td>\n",
       "      <td>grey</td>\n",
       "      <td>convertible</td>\n",
       "      <td>True</td>\n",
       "      <td>True</td>\n",
       "      <td>False</td>\n",
       "      <td>NaN</td>\n",
       "      <td>False</td>\n",
       "      <td>True</td>\n",
       "      <td>True</td>\n",
       "      <td>69700.0</td>\n",
       "      <td>NaN</td>\n",
       "    </tr>\n",
       "    <tr>\n",
       "      <th>2</th>\n",
       "      <td>320</td>\n",
       "      <td>183297.0</td>\n",
       "      <td>120.0</td>\n",
       "      <td>white</td>\n",
       "      <td>NaN</td>\n",
       "      <td>False</td>\n",
       "      <td>False</td>\n",
       "      <td>False</td>\n",
       "      <td>NaN</td>\n",
       "      <td>True</td>\n",
       "      <td>False</td>\n",
       "      <td>False</td>\n",
       "      <td>10200.0</td>\n",
       "      <td>6.0</td>\n",
       "    </tr>\n",
       "    <tr>\n",
       "      <th>3</th>\n",
       "      <td>420</td>\n",
       "      <td>128035.0</td>\n",
       "      <td>135.0</td>\n",
       "      <td>red</td>\n",
       "      <td>convertible</td>\n",
       "      <td>True</td>\n",
       "      <td>True</td>\n",
       "      <td>False</td>\n",
       "      <td>NaN</td>\n",
       "      <td>True</td>\n",
       "      <td>True</td>\n",
       "      <td>NaN</td>\n",
       "      <td>25100.0</td>\n",
       "      <td>NaN</td>\n",
       "    </tr>\n",
       "    <tr>\n",
       "      <th>4</th>\n",
       "      <td>425</td>\n",
       "      <td>97097.0</td>\n",
       "      <td>160.0</td>\n",
       "      <td>silver</td>\n",
       "      <td>NaN</td>\n",
       "      <td>True</td>\n",
       "      <td>True</td>\n",
       "      <td>False</td>\n",
       "      <td>False</td>\n",
       "      <td>False</td>\n",
       "      <td>True</td>\n",
       "      <td>True</td>\n",
       "      <td>33400.0</td>\n",
       "      <td>NaN</td>\n",
       "    </tr>\n",
       "    <tr>\n",
       "      <th>...</th>\n",
       "      <td>...</td>\n",
       "      <td>...</td>\n",
       "      <td>...</td>\n",
       "      <td>...</td>\n",
       "      <td>...</td>\n",
       "      <td>...</td>\n",
       "      <td>...</td>\n",
       "      <td>...</td>\n",
       "      <td>...</td>\n",
       "      <td>...</td>\n",
       "      <td>...</td>\n",
       "      <td>...</td>\n",
       "      <td>...</td>\n",
       "      <td>...</td>\n",
       "    </tr>\n",
       "    <tr>\n",
       "      <th>4838</th>\n",
       "      <td>218 Gran Tourer</td>\n",
       "      <td>39743.0</td>\n",
       "      <td>110.0</td>\n",
       "      <td>black</td>\n",
       "      <td>NaN</td>\n",
       "      <td>False</td>\n",
       "      <td>True</td>\n",
       "      <td>False</td>\n",
       "      <td>NaN</td>\n",
       "      <td>False</td>\n",
       "      <td>False</td>\n",
       "      <td>False</td>\n",
       "      <td>14600.0</td>\n",
       "      <td>NaN</td>\n",
       "    </tr>\n",
       "    <tr>\n",
       "      <th>4839</th>\n",
       "      <td>218 Active Tourer</td>\n",
       "      <td>49832.0</td>\n",
       "      <td>100.0</td>\n",
       "      <td>grey</td>\n",
       "      <td>NaN</td>\n",
       "      <td>False</td>\n",
       "      <td>True</td>\n",
       "      <td>False</td>\n",
       "      <td>NaN</td>\n",
       "      <td>False</td>\n",
       "      <td>False</td>\n",
       "      <td>True</td>\n",
       "      <td>17500.0</td>\n",
       "      <td>3.0</td>\n",
       "    </tr>\n",
       "    <tr>\n",
       "      <th>4840</th>\n",
       "      <td>218 Gran Tourer</td>\n",
       "      <td>19633.0</td>\n",
       "      <td>110.0</td>\n",
       "      <td>grey</td>\n",
       "      <td>van</td>\n",
       "      <td>False</td>\n",
       "      <td>True</td>\n",
       "      <td>False</td>\n",
       "      <td>NaN</td>\n",
       "      <td>False</td>\n",
       "      <td>False</td>\n",
       "      <td>True</td>\n",
       "      <td>17000.0</td>\n",
       "      <td>3.0</td>\n",
       "    </tr>\n",
       "    <tr>\n",
       "      <th>4841</th>\n",
       "      <td>218 Active Tourer</td>\n",
       "      <td>27920.0</td>\n",
       "      <td>110.0</td>\n",
       "      <td>brown</td>\n",
       "      <td>van</td>\n",
       "      <td>True</td>\n",
       "      <td>True</td>\n",
       "      <td>False</td>\n",
       "      <td>False</td>\n",
       "      <td>False</td>\n",
       "      <td>False</td>\n",
       "      <td>True</td>\n",
       "      <td>22700.0</td>\n",
       "      <td>2.0</td>\n",
       "    </tr>\n",
       "    <tr>\n",
       "      <th>4842</th>\n",
       "      <td>525</td>\n",
       "      <td>195840.0</td>\n",
       "      <td>160.0</td>\n",
       "      <td>grey</td>\n",
       "      <td>NaN</td>\n",
       "      <td>True</td>\n",
       "      <td>NaN</td>\n",
       "      <td>False</td>\n",
       "      <td>NaN</td>\n",
       "      <td>True</td>\n",
       "      <td>False</td>\n",
       "      <td>True</td>\n",
       "      <td>15500.0</td>\n",
       "      <td>NaN</td>\n",
       "    </tr>\n",
       "  </tbody>\n",
       "</table>\n",
       "<p>4817 rows × 14 columns</p>\n",
       "</div>"
      ],
      "text/plain": [
       "                 modelo        km  potencia   color   tipo_coche  \\\n",
       "0                   118  140411.0     100.0   black          NaN   \n",
       "1                    M4   13929.0     317.0    grey  convertible   \n",
       "2                   320  183297.0     120.0   white          NaN   \n",
       "3                   420  128035.0     135.0     red  convertible   \n",
       "4                   425   97097.0     160.0  silver          NaN   \n",
       "...                 ...       ...       ...     ...          ...   \n",
       "4838    218 Gran Tourer   39743.0     110.0   black          NaN   \n",
       "4839  218 Active Tourer   49832.0     100.0    grey          NaN   \n",
       "4840    218 Gran Tourer   19633.0     110.0    grey          van   \n",
       "4841  218 Active Tourer   27920.0     110.0   brown          van   \n",
       "4842                525  195840.0     160.0    grey          NaN   \n",
       "\n",
       "     volante_regulable aire_acondicionado camara_trasera  \\\n",
       "0                 True               True          False   \n",
       "1                 True               True          False   \n",
       "2                False              False          False   \n",
       "3                 True               True          False   \n",
       "4                 True               True          False   \n",
       "...                ...                ...            ...   \n",
       "4838             False               True          False   \n",
       "4839             False               True          False   \n",
       "4840             False               True          False   \n",
       "4841              True               True          False   \n",
       "4842              True                NaN          False   \n",
       "\n",
       "     asientos_traseros_plegables elevalunas_electrico bluetooth  \\\n",
       "0                            NaN                 True       NaN   \n",
       "1                            NaN                False      True   \n",
       "2                            NaN                 True     False   \n",
       "3                            NaN                 True      True   \n",
       "4                          False                False      True   \n",
       "...                          ...                  ...       ...   \n",
       "4838                         NaN                False     False   \n",
       "4839                         NaN                False     False   \n",
       "4840                         NaN                False     False   \n",
       "4841                       False                False     False   \n",
       "4842                         NaN                 True     False   \n",
       "\n",
       "     alerta_lim_velocidad   precio  años_coche  \n",
       "0                     NaN  11300.0         6.0  \n",
       "1                    True  69700.0         NaN  \n",
       "2                   False  10200.0         6.0  \n",
       "3                     NaN  25100.0         NaN  \n",
       "4                    True  33400.0         NaN  \n",
       "...                   ...      ...         ...  \n",
       "4838                False  14600.0         NaN  \n",
       "4839                 True  17500.0         3.0  \n",
       "4840                 True  17000.0         3.0  \n",
       "4841                 True  22700.0         2.0  \n",
       "4842                 True  15500.0         NaN  \n",
       "\n",
       "[4817 rows x 14 columns]"
      ]
     },
     "execution_count": 31,
     "metadata": {},
     "output_type": "execute_result"
    }
   ],
   "source": [
    "# Ejecutamos la función para eliminar las columnas que tengan un porcentaje de nulos inferior al 1%\n",
    "elimina_nulos(df_bmw, 1)"
   ]
  },
  {
   "cell_type": "code",
   "execution_count": 32,
   "id": "1fd433a7",
   "metadata": {},
   "outputs": [
    {
     "data": {
      "text/html": [
       "<div>\n",
       "<style scoped>\n",
       "    .dataframe tbody tr th:only-of-type {\n",
       "        vertical-align: middle;\n",
       "    }\n",
       "\n",
       "    .dataframe tbody tr th {\n",
       "        vertical-align: top;\n",
       "    }\n",
       "\n",
       "    .dataframe thead th {\n",
       "        text-align: right;\n",
       "    }\n",
       "</style>\n",
       "<table border=\"1\" class=\"dataframe\">\n",
       "  <thead>\n",
       "    <tr style=\"text-align: right;\">\n",
       "      <th></th>\n",
       "      <th>NULOS</th>\n",
       "      <th>% NULOS</th>\n",
       "      <th>VALORES UNICOS</th>\n",
       "    </tr>\n",
       "  </thead>\n",
       "  <tbody>\n",
       "    <tr>\n",
       "      <th>asientos_traseros_plegables</th>\n",
       "      <td>3373</td>\n",
       "      <td>70.022836</td>\n",
       "      <td>2</td>\n",
       "    </tr>\n",
       "    <tr>\n",
       "      <th>años_coche</th>\n",
       "      <td>2409</td>\n",
       "      <td>50.010380</td>\n",
       "      <td>23</td>\n",
       "    </tr>\n",
       "    <tr>\n",
       "      <th>tipo_coche</th>\n",
       "      <td>1450</td>\n",
       "      <td>30.101723</td>\n",
       "      <td>8</td>\n",
       "    </tr>\n",
       "    <tr>\n",
       "      <th>bluetooth</th>\n",
       "      <td>725</td>\n",
       "      <td>15.050862</td>\n",
       "      <td>2</td>\n",
       "    </tr>\n",
       "    <tr>\n",
       "      <th>alerta_lim_velocidad</th>\n",
       "      <td>722</td>\n",
       "      <td>14.988582</td>\n",
       "      <td>2</td>\n",
       "    </tr>\n",
       "    <tr>\n",
       "      <th>aire_acondicionado</th>\n",
       "      <td>482</td>\n",
       "      <td>10.006228</td>\n",
       "      <td>2</td>\n",
       "    </tr>\n",
       "    <tr>\n",
       "      <th>color</th>\n",
       "      <td>442</td>\n",
       "      <td>9.175836</td>\n",
       "      <td>10</td>\n",
       "    </tr>\n",
       "    <tr>\n",
       "      <th>modelo</th>\n",
       "      <td>0</td>\n",
       "      <td>0.000000</td>\n",
       "      <td>76</td>\n",
       "    </tr>\n",
       "    <tr>\n",
       "      <th>km</th>\n",
       "      <td>0</td>\n",
       "      <td>0.000000</td>\n",
       "      <td>4760</td>\n",
       "    </tr>\n",
       "    <tr>\n",
       "      <th>potencia</th>\n",
       "      <td>0</td>\n",
       "      <td>0.000000</td>\n",
       "      <td>59</td>\n",
       "    </tr>\n",
       "    <tr>\n",
       "      <th>volante_regulable</th>\n",
       "      <td>0</td>\n",
       "      <td>0.000000</td>\n",
       "      <td>2</td>\n",
       "    </tr>\n",
       "    <tr>\n",
       "      <th>camara_trasera</th>\n",
       "      <td>0</td>\n",
       "      <td>0.000000</td>\n",
       "      <td>2</td>\n",
       "    </tr>\n",
       "    <tr>\n",
       "      <th>elevalunas_electrico</th>\n",
       "      <td>0</td>\n",
       "      <td>0.000000</td>\n",
       "      <td>2</td>\n",
       "    </tr>\n",
       "    <tr>\n",
       "      <th>precio</th>\n",
       "      <td>0</td>\n",
       "      <td>0.000000</td>\n",
       "      <td>436</td>\n",
       "    </tr>\n",
       "  </tbody>\n",
       "</table>\n",
       "</div>"
      ],
      "text/plain": [
       "                             NULOS    % NULOS  VALORES UNICOS\n",
       "asientos_traseros_plegables   3373  70.022836               2\n",
       "años_coche                    2409  50.010380              23\n",
       "tipo_coche                    1450  30.101723               8\n",
       "bluetooth                      725  15.050862               2\n",
       "alerta_lim_velocidad           722  14.988582               2\n",
       "aire_acondicionado             482  10.006228               2\n",
       "color                          442   9.175836              10\n",
       "modelo                           0   0.000000              76\n",
       "km                               0   0.000000            4760\n",
       "potencia                         0   0.000000              59\n",
       "volante_regulable                0   0.000000               2\n",
       "camara_trasera                   0   0.000000               2\n",
       "elevalunas_electrico             0   0.000000               2\n",
       "precio                           0   0.000000             436"
      ]
     },
     "execution_count": 32,
     "metadata": {},
     "output_type": "execute_result"
    }
   ],
   "source": [
    "tabla_nulos(df_bmw)"
   ]
  },
  {
   "cell_type": "code",
   "execution_count": 33,
   "id": "9468cf7f",
   "metadata": {},
   "outputs": [],
   "source": [
    "# Volvemos a ejectur la función diccionario_distribuciones para obtener las nuevas distribuciones\n",
    "distribuciones = diccionario_distribuciones(df_bmw)"
   ]
  },
  {
   "cell_type": "code",
   "execution_count": 34,
   "id": "b3e7a456",
   "metadata": {},
   "outputs": [
    {
     "data": {
      "text/plain": [
       "2    1852\n",
       "1    1236\n",
       "3    1080\n",
       "4     313\n",
       "0     302\n",
       "5      33\n",
       "6       1\n",
       "Name: count, dtype: int64"
      ]
     },
     "execution_count": 34,
     "metadata": {},
     "output_type": "execute_result"
    }
   ],
   "source": [
    "# Contamos el número de nulos por fila\n",
    "num_nulos = df_bmw.isnull().sum(axis=1)\n",
    "num_nulos.value_counts()"
   ]
  },
  {
   "cell_type": "code",
   "execution_count": 35,
   "id": "34e5e83e",
   "metadata": {},
   "outputs": [
    {
     "data": {
      "text/html": [
       "<div>\n",
       "<style scoped>\n",
       "    .dataframe tbody tr th:only-of-type {\n",
       "        vertical-align: middle;\n",
       "    }\n",
       "\n",
       "    .dataframe tbody tr th {\n",
       "        vertical-align: top;\n",
       "    }\n",
       "\n",
       "    .dataframe thead th {\n",
       "        text-align: right;\n",
       "    }\n",
       "</style>\n",
       "<table border=\"1\" class=\"dataframe\">\n",
       "  <thead>\n",
       "    <tr style=\"text-align: right;\">\n",
       "      <th></th>\n",
       "      <th>modelo</th>\n",
       "      <th>km</th>\n",
       "      <th>potencia</th>\n",
       "      <th>color</th>\n",
       "      <th>tipo_coche</th>\n",
       "      <th>volante_regulable</th>\n",
       "      <th>aire_acondicionado</th>\n",
       "      <th>camara_trasera</th>\n",
       "      <th>asientos_traseros_plegables</th>\n",
       "      <th>elevalunas_electrico</th>\n",
       "      <th>bluetooth</th>\n",
       "      <th>alerta_lim_velocidad</th>\n",
       "      <th>precio</th>\n",
       "      <th>años_coche</th>\n",
       "    </tr>\n",
       "  </thead>\n",
       "  <tbody>\n",
       "    <tr>\n",
       "      <th>1043</th>\n",
       "      <td>520</td>\n",
       "      <td>172414.0</td>\n",
       "      <td>120.0</td>\n",
       "      <td>NaN</td>\n",
       "      <td>NaN</td>\n",
       "      <td>True</td>\n",
       "      <td>True</td>\n",
       "      <td>False</td>\n",
       "      <td>NaN</td>\n",
       "      <td>False</td>\n",
       "      <td>NaN</td>\n",
       "      <td>NaN</td>\n",
       "      <td>15400.0</td>\n",
       "      <td>NaN</td>\n",
       "    </tr>\n",
       "  </tbody>\n",
       "</table>\n",
       "</div>"
      ],
      "text/plain": [
       "     modelo        km  potencia color tipo_coche volante_regulable  \\\n",
       "1043    520  172414.0     120.0   NaN        NaN              True   \n",
       "\n",
       "     aire_acondicionado camara_trasera asientos_traseros_plegables  \\\n",
       "1043               True          False                         NaN   \n",
       "\n",
       "     elevalunas_electrico bluetooth alerta_lim_velocidad   precio  años_coche  \n",
       "1043                False       NaN                  NaN  15400.0         NaN  "
      ]
     },
     "execution_count": 35,
     "metadata": {},
     "output_type": "execute_result"
    }
   ],
   "source": [
    "# Buscamos la fila que tiene 6 nulos\n",
    "filas_mas_nulos = df_bmw[num_nulos > 5]\n",
    "filas_mas_nulos.head()"
   ]
  },
  {
   "cell_type": "code",
   "execution_count": 36,
   "id": "a317234b",
   "metadata": {},
   "outputs": [],
   "source": [
    "# Como tendremos que imputar 6 variables en una misma fila, decidimos eliminarla\n",
    "df_bmw = df_bmw.drop(index=filas_mas_nulos.index)"
   ]
  },
  {
   "cell_type": "markdown",
   "id": "20ffc445",
   "metadata": {},
   "source": [
    "### **COLUMNA TIPO COCHE**"
   ]
  },
  {
   "cell_type": "markdown",
   "id": "6b3dfc91",
   "metadata": {},
   "source": [
    "En la columna `tipo_coche` detectamos que existen valores nulos que vamos a tratar de imputar para obtener el mejor dataset posible para preparar el modelo.\n",
    "\n",
    "El proceso que hemos seguido ha sido el siguiente:\n",
    "\n",
    "1. Corregimos un detalle en los valores de la columna `modelo` donde detectamos un espacio al inicio en algunos registros usando `.str.strip()`, para unificar las categorías y evitar errores en la agrupación.\n",
    "\n",
    "2. Creamos tres tablas auxiliares (`df_nulls_1`, `df_nulls_2` y `df_nulls_3`) agrupando el dataset por diferentes combinaciones de variables (`modelo`, `potencia`, `años_coche`) para obtener el valor más frecuente (moda) de `tipo_coche` en cada grupo.\n",
    "\n",
    "3. Realizamos merges sucesivos del dataset original con estas tablas para disponer de hasta tres posibles imputaciones para cada registro.\n",
    "\n",
    "4. Usamos `bfill(axis=1)` para rellenar los valores nulos en `tipo_coche` con la primera imputación disponible entre las tres.\n",
    "\n",
    "5. Eliminamos las columnas auxiliares usadas para la imputación.\n",
    "\n",
    "6. Finalmente, comprobamos el antes y después del tratamiento con dos gráficos que muestran la distribución de tipos de coche, para validar que la imputación ha enriquecido los datos y sigue manteniendo una distribución similar."
   ]
  },
  {
   "cell_type": "code",
   "execution_count": 37,
   "id": "be348621",
   "metadata": {},
   "outputs": [
    {
     "data": {
      "text/plain": [
       "array(['118', 'M4', '320', '420', '425', '335', '325', 'Z4', '120', '220',\n",
       "       '650', '135', '218', '318', '430', 'M3', '330', '225', 'M235',\n",
       "       '316', '435', '640', '640 Gran Coupé', '435 Gran Coupé', 'i8',\n",
       "       '630', '430 Gran Coupé', '635', '520', '525', '530', '535',\n",
       "       '320 Gran Turismo', '518', '116', '328', '523', 'X3', 'M550',\n",
       "       '528', '325 Gran Turismo', '125', '318 Gran Turismo',\n",
       "       '420 Gran Coupé', '114', '520 Gran Turismo', '530 Gran Turismo',\n",
       "       'i3', 'M135', '418 Gran Coupé', '330 Gran Turismo',\n",
       "       '335 Gran Turismo', '730', '123', '535 Gran Turismo', '740', '750',\n",
       "       'ActiveHybrid 5', '735', 'M5', 'X5', 'X1', 'X4', 'X6', 'X6 M',\n",
       "       'X5 M', 'X5 M50', '218 Active Tourer', '218 Gran Tourer', '216',\n",
       "       '220 Active Tourer', '216 Gran Tourer', '216 Active Tourer',\n",
       "       ' Active Tourer', '225 Active Tourer', '214 Gran Tourer'],\n",
       "      dtype=object)"
      ]
     },
     "execution_count": 37,
     "metadata": {},
     "output_type": "execute_result"
    }
   ],
   "source": [
    "df_bmw['modelo'].unique()"
   ]
  },
  {
   "cell_type": "code",
   "execution_count": 38,
   "id": "e89f83ec",
   "metadata": {},
   "outputs": [],
   "source": [
    "# Detectamos que hay un modelo con un espacio al inicio (' Active Tourer'), lo corregimos con .strip()\n",
    "df_bmw['modelo'] = df_bmw['modelo'].str.strip()"
   ]
  },
  {
   "cell_type": "code",
   "execution_count": 39,
   "id": "b7e423ad",
   "metadata": {},
   "outputs": [
    {
     "data": {
      "text/plain": [
       "array([nan, 'convertible', 'coupe', 'estate', 'hatchback', 'sedan',\n",
       "       'subcompact', 'suv', 'van'], dtype=object)"
      ]
     },
     "execution_count": 39,
     "metadata": {},
     "output_type": "execute_result"
    }
   ],
   "source": [
    "df_bmw['tipo_coche'].unique()"
   ]
  },
  {
   "cell_type": "code",
   "execution_count": 40,
   "id": "b1e7b7e6",
   "metadata": {},
   "outputs": [
    {
     "data": {
      "text/html": [
       "<div>\n",
       "<style scoped>\n",
       "    .dataframe tbody tr th:only-of-type {\n",
       "        vertical-align: middle;\n",
       "    }\n",
       "\n",
       "    .dataframe tbody tr th {\n",
       "        vertical-align: top;\n",
       "    }\n",
       "\n",
       "    .dataframe thead th {\n",
       "        text-align: right;\n",
       "    }\n",
       "</style>\n",
       "<table border=\"1\" class=\"dataframe\">\n",
       "  <thead>\n",
       "    <tr style=\"text-align: right;\">\n",
       "      <th></th>\n",
       "      <th>NULOS</th>\n",
       "      <th>% NULOS</th>\n",
       "      <th>VALORES UNICOS</th>\n",
       "    </tr>\n",
       "  </thead>\n",
       "  <tbody>\n",
       "    <tr>\n",
       "      <th>tipo_coche</th>\n",
       "      <td>1449</td>\n",
       "      <td>30.087209</td>\n",
       "      <td>8</td>\n",
       "    </tr>\n",
       "  </tbody>\n",
       "</table>\n",
       "</div>"
      ],
      "text/plain": [
       "            NULOS    % NULOS  VALORES UNICOS\n",
       "tipo_coche   1449  30.087209               8"
      ]
     },
     "execution_count": 40,
     "metadata": {},
     "output_type": "execute_result"
    }
   ],
   "source": [
    "tabla_nulos(df_bmw).loc[['tipo_coche']]"
   ]
  },
  {
   "cell_type": "code",
   "execution_count": 41,
   "id": "d52f2749",
   "metadata": {},
   "outputs": [
    {
     "data": {
      "text/plain": [
       "tipo_coche\n",
       "NaN            0.301017\n",
       "estate         0.228150\n",
       "sedan          0.170230\n",
       "suv            0.156321\n",
       "hatchback      0.101100\n",
       "subcompact     0.015985\n",
       "coupe          0.015155\n",
       "convertible    0.006228\n",
       "van            0.005813\n",
       "Name: proportion, dtype: float64"
      ]
     },
     "execution_count": 41,
     "metadata": {},
     "output_type": "execute_result"
    }
   ],
   "source": [
    "distribuciones['tipo_coche']"
   ]
  },
  {
   "cell_type": "code",
   "execution_count": 42,
   "id": "a2f0c05e",
   "metadata": {},
   "outputs": [],
   "source": [
    "COLUMNS_1 = ['modelo', 'potencia', 'años_coche']\n",
    "df_nulls_1 = df_bmw.groupby(COLUMNS_1)['tipo_coche'].agg(lambda x: pd.Series.mode(x).iloc[0] if not pd.Series.mode(x).empty else np.nan).reset_index()\n",
    "df_nulls_1 = df_nulls_1.dropna(subset=['tipo_coche'])\n",
    "df_nulls_1.rename(columns={\"tipo_coche\":\"tipo_coche_1\"},inplace=True)\n",
    "\n",
    "COLUMNS_2 = ['modelo', 'potencia']\n",
    "df_nulls_2 = df_bmw.groupby(COLUMNS_2)['tipo_coche'].agg(lambda x: pd.Series.mode(x).iloc[0] if not pd.Series.mode(x).empty else np.nan).reset_index()\n",
    "df_nulls_2 = df_nulls_2.dropna(subset=['tipo_coche'])\n",
    "df_nulls_2.rename(columns={\"tipo_coche\":\"tipo_coche_2\"},inplace=True)\n",
    "\n",
    "COLUMNS_3 = ['modelo']\n",
    "df_nulls_3 = df_bmw.groupby(COLUMNS_3)['tipo_coche'].agg(lambda x: pd.Series.mode(x).iloc[0] if not pd.Series.mode(x).empty else np.nan).reset_index()\n",
    "df_nulls_3 = df_nulls_3.dropna(subset=['tipo_coche'])\n",
    "df_nulls_3.rename(columns={\"tipo_coche\":\"tipo_coche_3\"},inplace=True)"
   ]
  },
  {
   "cell_type": "code",
   "execution_count": 43,
   "id": "07e4565a",
   "metadata": {},
   "outputs": [],
   "source": [
    "df_bmw = df_bmw.merge(df_nulls_1,how='left',left_on=COLUMNS_1,right_on=COLUMNS_1)\n",
    "df_bmw = df_bmw.merge(df_nulls_2,how='left',left_on=COLUMNS_2,right_on=COLUMNS_2)\n",
    "df_bmw = df_bmw.merge(df_nulls_3,how='left',left_on=COLUMNS_3,right_on=COLUMNS_3)\n",
    "\n",
    "df_bmw['tipo_coche'] = df_bmw[['tipo_coche','tipo_coche_1','tipo_coche_2','tipo_coche_3']].bfill(axis=1).iloc[:, 0]\n",
    "\n",
    "df_bmw.drop(columns=['tipo_coche_1','tipo_coche_2','tipo_coche_3'],inplace=True)"
   ]
  },
  {
   "cell_type": "code",
   "execution_count": 44,
   "id": "be2499f7",
   "metadata": {},
   "outputs": [
    {
     "data": {
      "text/html": [
       "<div>\n",
       "<style scoped>\n",
       "    .dataframe tbody tr th:only-of-type {\n",
       "        vertical-align: middle;\n",
       "    }\n",
       "\n",
       "    .dataframe tbody tr th {\n",
       "        vertical-align: top;\n",
       "    }\n",
       "\n",
       "    .dataframe thead th {\n",
       "        text-align: right;\n",
       "    }\n",
       "</style>\n",
       "<table border=\"1\" class=\"dataframe\">\n",
       "  <thead>\n",
       "    <tr style=\"text-align: right;\">\n",
       "      <th></th>\n",
       "      <th>NULOS</th>\n",
       "      <th>% NULOS</th>\n",
       "      <th>VALORES UNICOS</th>\n",
       "    </tr>\n",
       "  </thead>\n",
       "  <tbody>\n",
       "    <tr>\n",
       "      <th>tipo_coche</th>\n",
       "      <td>0</td>\n",
       "      <td>0.0</td>\n",
       "      <td>8</td>\n",
       "    </tr>\n",
       "  </tbody>\n",
       "</table>\n",
       "</div>"
      ],
      "text/plain": [
       "            NULOS  % NULOS  VALORES UNICOS\n",
       "tipo_coche      0      0.0               8"
      ]
     },
     "execution_count": 44,
     "metadata": {},
     "output_type": "execute_result"
    }
   ],
   "source": [
    "tabla_nulos(df_bmw).loc[['tipo_coche']]"
   ]
  },
  {
   "cell_type": "code",
   "execution_count": 45,
   "id": "b4e2ef19",
   "metadata": {},
   "outputs": [
    {
     "data": {
      "application/vnd.plotly.v1+json": {
       "config": {
        "plotlyServerURL": "https://plot.ly"
       },
       "data": [
        {
         "marker": {
          "color": "#373485"
         },
         "name": "Antes",
         "opacity": 1,
         "text": {
          "bdata": "AAAAAAAAPkAAAAAAAABTQAAAAAAATJFAAAAAAACAfkAAAAAAAKiJQAAAAAAAQFNAAAAAAACYh0AAAAAAAAA9QA==",
          "dtype": "f8"
         },
         "textposition": "outside",
         "type": "bar",
         "x": [
          "convertible",
          "coupe",
          "estate",
          "hatchback",
          "sedan",
          "subcompact",
          "suv",
          "van"
         ],
         "y": {
          "bdata": "HgBMAFME6AE1A00A8wIdAA==",
          "dtype": "i2"
         }
        },
        {
         "marker": {
          "color": "#c52b30"
         },
         "name": "Después",
         "opacity": 1,
         "text": {
          "bdata": "AAAAAAAAREAAAAAAAEBZQAAAAAAACJtAAAAAAADohkAAAAAAACSQQAAAAAAAAFRAAAAAAACIkEAAAAAAAIBEQA==",
          "dtype": "f8"
         },
         "textposition": "outside",
         "type": "bar",
         "x": [
          "convertible",
          "coupe",
          "estate",
          "hatchback",
          "sedan",
          "subcompact",
          "suv",
          "van"
         ],
         "y": {
          "bdata": "KABlAMIG3QIJBFAAIgQpAA==",
          "dtype": "i2"
         }
        }
       ],
       "layout": {
        "barmode": "group",
        "height": 470,
        "paper_bgcolor": "#e6e6e7",
        "plot_bgcolor": "#e6e6e7",
        "template": {
         "data": {
          "bar": [
           {
            "error_x": {
             "color": "#2a3f5f"
            },
            "error_y": {
             "color": "#2a3f5f"
            },
            "marker": {
             "line": {
              "color": "white",
              "width": 0.5
             },
             "pattern": {
              "fillmode": "overlay",
              "size": 10,
              "solidity": 0.2
             }
            },
            "type": "bar"
           }
          ],
          "barpolar": [
           {
            "marker": {
             "line": {
              "color": "white",
              "width": 0.5
             },
             "pattern": {
              "fillmode": "overlay",
              "size": 10,
              "solidity": 0.2
             }
            },
            "type": "barpolar"
           }
          ],
          "carpet": [
           {
            "aaxis": {
             "endlinecolor": "#2a3f5f",
             "gridcolor": "#C8D4E3",
             "linecolor": "#C8D4E3",
             "minorgridcolor": "#C8D4E3",
             "startlinecolor": "#2a3f5f"
            },
            "baxis": {
             "endlinecolor": "#2a3f5f",
             "gridcolor": "#C8D4E3",
             "linecolor": "#C8D4E3",
             "minorgridcolor": "#C8D4E3",
             "startlinecolor": "#2a3f5f"
            },
            "type": "carpet"
           }
          ],
          "choropleth": [
           {
            "colorbar": {
             "outlinewidth": 0,
             "ticks": ""
            },
            "type": "choropleth"
           }
          ],
          "contour": [
           {
            "colorbar": {
             "outlinewidth": 0,
             "ticks": ""
            },
            "colorscale": [
             [
              0,
              "#0d0887"
             ],
             [
              0.1111111111111111,
              "#46039f"
             ],
             [
              0.2222222222222222,
              "#7201a8"
             ],
             [
              0.3333333333333333,
              "#9c179e"
             ],
             [
              0.4444444444444444,
              "#bd3786"
             ],
             [
              0.5555555555555556,
              "#d8576b"
             ],
             [
              0.6666666666666666,
              "#ed7953"
             ],
             [
              0.7777777777777778,
              "#fb9f3a"
             ],
             [
              0.8888888888888888,
              "#fdca26"
             ],
             [
              1,
              "#f0f921"
             ]
            ],
            "type": "contour"
           }
          ],
          "contourcarpet": [
           {
            "colorbar": {
             "outlinewidth": 0,
             "ticks": ""
            },
            "type": "contourcarpet"
           }
          ],
          "heatmap": [
           {
            "colorbar": {
             "outlinewidth": 0,
             "ticks": ""
            },
            "colorscale": [
             [
              0,
              "#0d0887"
             ],
             [
              0.1111111111111111,
              "#46039f"
             ],
             [
              0.2222222222222222,
              "#7201a8"
             ],
             [
              0.3333333333333333,
              "#9c179e"
             ],
             [
              0.4444444444444444,
              "#bd3786"
             ],
             [
              0.5555555555555556,
              "#d8576b"
             ],
             [
              0.6666666666666666,
              "#ed7953"
             ],
             [
              0.7777777777777778,
              "#fb9f3a"
             ],
             [
              0.8888888888888888,
              "#fdca26"
             ],
             [
              1,
              "#f0f921"
             ]
            ],
            "type": "heatmap"
           }
          ],
          "histogram": [
           {
            "marker": {
             "pattern": {
              "fillmode": "overlay",
              "size": 10,
              "solidity": 0.2
             }
            },
            "type": "histogram"
           }
          ],
          "histogram2d": [
           {
            "colorbar": {
             "outlinewidth": 0,
             "ticks": ""
            },
            "colorscale": [
             [
              0,
              "#0d0887"
             ],
             [
              0.1111111111111111,
              "#46039f"
             ],
             [
              0.2222222222222222,
              "#7201a8"
             ],
             [
              0.3333333333333333,
              "#9c179e"
             ],
             [
              0.4444444444444444,
              "#bd3786"
             ],
             [
              0.5555555555555556,
              "#d8576b"
             ],
             [
              0.6666666666666666,
              "#ed7953"
             ],
             [
              0.7777777777777778,
              "#fb9f3a"
             ],
             [
              0.8888888888888888,
              "#fdca26"
             ],
             [
              1,
              "#f0f921"
             ]
            ],
            "type": "histogram2d"
           }
          ],
          "histogram2dcontour": [
           {
            "colorbar": {
             "outlinewidth": 0,
             "ticks": ""
            },
            "colorscale": [
             [
              0,
              "#0d0887"
             ],
             [
              0.1111111111111111,
              "#46039f"
             ],
             [
              0.2222222222222222,
              "#7201a8"
             ],
             [
              0.3333333333333333,
              "#9c179e"
             ],
             [
              0.4444444444444444,
              "#bd3786"
             ],
             [
              0.5555555555555556,
              "#d8576b"
             ],
             [
              0.6666666666666666,
              "#ed7953"
             ],
             [
              0.7777777777777778,
              "#fb9f3a"
             ],
             [
              0.8888888888888888,
              "#fdca26"
             ],
             [
              1,
              "#f0f921"
             ]
            ],
            "type": "histogram2dcontour"
           }
          ],
          "mesh3d": [
           {
            "colorbar": {
             "outlinewidth": 0,
             "ticks": ""
            },
            "type": "mesh3d"
           }
          ],
          "parcoords": [
           {
            "line": {
             "colorbar": {
              "outlinewidth": 0,
              "ticks": ""
             }
            },
            "type": "parcoords"
           }
          ],
          "pie": [
           {
            "automargin": true,
            "type": "pie"
           }
          ],
          "scatter": [
           {
            "fillpattern": {
             "fillmode": "overlay",
             "size": 10,
             "solidity": 0.2
            },
            "type": "scatter"
           }
          ],
          "scatter3d": [
           {
            "line": {
             "colorbar": {
              "outlinewidth": 0,
              "ticks": ""
             }
            },
            "marker": {
             "colorbar": {
              "outlinewidth": 0,
              "ticks": ""
             }
            },
            "type": "scatter3d"
           }
          ],
          "scattercarpet": [
           {
            "marker": {
             "colorbar": {
              "outlinewidth": 0,
              "ticks": ""
             }
            },
            "type": "scattercarpet"
           }
          ],
          "scattergeo": [
           {
            "marker": {
             "colorbar": {
              "outlinewidth": 0,
              "ticks": ""
             }
            },
            "type": "scattergeo"
           }
          ],
          "scattergl": [
           {
            "marker": {
             "colorbar": {
              "outlinewidth": 0,
              "ticks": ""
             }
            },
            "type": "scattergl"
           }
          ],
          "scattermap": [
           {
            "marker": {
             "colorbar": {
              "outlinewidth": 0,
              "ticks": ""
             }
            },
            "type": "scattermap"
           }
          ],
          "scattermapbox": [
           {
            "marker": {
             "colorbar": {
              "outlinewidth": 0,
              "ticks": ""
             }
            },
            "type": "scattermapbox"
           }
          ],
          "scatterpolar": [
           {
            "marker": {
             "colorbar": {
              "outlinewidth": 0,
              "ticks": ""
             }
            },
            "type": "scatterpolar"
           }
          ],
          "scatterpolargl": [
           {
            "marker": {
             "colorbar": {
              "outlinewidth": 0,
              "ticks": ""
             }
            },
            "type": "scatterpolargl"
           }
          ],
          "scatterternary": [
           {
            "marker": {
             "colorbar": {
              "outlinewidth": 0,
              "ticks": ""
             }
            },
            "type": "scatterternary"
           }
          ],
          "surface": [
           {
            "colorbar": {
             "outlinewidth": 0,
             "ticks": ""
            },
            "colorscale": [
             [
              0,
              "#0d0887"
             ],
             [
              0.1111111111111111,
              "#46039f"
             ],
             [
              0.2222222222222222,
              "#7201a8"
             ],
             [
              0.3333333333333333,
              "#9c179e"
             ],
             [
              0.4444444444444444,
              "#bd3786"
             ],
             [
              0.5555555555555556,
              "#d8576b"
             ],
             [
              0.6666666666666666,
              "#ed7953"
             ],
             [
              0.7777777777777778,
              "#fb9f3a"
             ],
             [
              0.8888888888888888,
              "#fdca26"
             ],
             [
              1,
              "#f0f921"
             ]
            ],
            "type": "surface"
           }
          ],
          "table": [
           {
            "cells": {
             "fill": {
              "color": "#EBF0F8"
             },
             "line": {
              "color": "white"
             }
            },
            "header": {
             "fill": {
              "color": "#C8D4E3"
             },
             "line": {
              "color": "white"
             }
            },
            "type": "table"
           }
          ]
         },
         "layout": {
          "annotationdefaults": {
           "arrowcolor": "#2a3f5f",
           "arrowhead": 0,
           "arrowwidth": 1
          },
          "autotypenumbers": "strict",
          "coloraxis": {
           "colorbar": {
            "outlinewidth": 0,
            "ticks": ""
           }
          },
          "colorscale": {
           "diverging": [
            [
             0,
             "#8e0152"
            ],
            [
             0.1,
             "#c51b7d"
            ],
            [
             0.2,
             "#de77ae"
            ],
            [
             0.3,
             "#f1b6da"
            ],
            [
             0.4,
             "#fde0ef"
            ],
            [
             0.5,
             "#f7f7f7"
            ],
            [
             0.6,
             "#e6f5d0"
            ],
            [
             0.7,
             "#b8e186"
            ],
            [
             0.8,
             "#7fbc41"
            ],
            [
             0.9,
             "#4d9221"
            ],
            [
             1,
             "#276419"
            ]
           ],
           "sequential": [
            [
             0,
             "#0d0887"
            ],
            [
             0.1111111111111111,
             "#46039f"
            ],
            [
             0.2222222222222222,
             "#7201a8"
            ],
            [
             0.3333333333333333,
             "#9c179e"
            ],
            [
             0.4444444444444444,
             "#bd3786"
            ],
            [
             0.5555555555555556,
             "#d8576b"
            ],
            [
             0.6666666666666666,
             "#ed7953"
            ],
            [
             0.7777777777777778,
             "#fb9f3a"
            ],
            [
             0.8888888888888888,
             "#fdca26"
            ],
            [
             1,
             "#f0f921"
            ]
           ],
           "sequentialminus": [
            [
             0,
             "#0d0887"
            ],
            [
             0.1111111111111111,
             "#46039f"
            ],
            [
             0.2222222222222222,
             "#7201a8"
            ],
            [
             0.3333333333333333,
             "#9c179e"
            ],
            [
             0.4444444444444444,
             "#bd3786"
            ],
            [
             0.5555555555555556,
             "#d8576b"
            ],
            [
             0.6666666666666666,
             "#ed7953"
            ],
            [
             0.7777777777777778,
             "#fb9f3a"
            ],
            [
             0.8888888888888888,
             "#fdca26"
            ],
            [
             1,
             "#f0f921"
            ]
           ]
          },
          "colorway": [
           "#636efa",
           "#EF553B",
           "#00cc96",
           "#ab63fa",
           "#FFA15A",
           "#19d3f3",
           "#FF6692",
           "#B6E880",
           "#FF97FF",
           "#FECB52"
          ],
          "font": {
           "color": "#2a3f5f"
          },
          "geo": {
           "bgcolor": "white",
           "lakecolor": "white",
           "landcolor": "white",
           "showlakes": true,
           "showland": true,
           "subunitcolor": "#C8D4E3"
          },
          "hoverlabel": {
           "align": "left"
          },
          "hovermode": "closest",
          "mapbox": {
           "style": "light"
          },
          "paper_bgcolor": "white",
          "plot_bgcolor": "white",
          "polar": {
           "angularaxis": {
            "gridcolor": "#EBF0F8",
            "linecolor": "#EBF0F8",
            "ticks": ""
           },
           "bgcolor": "white",
           "radialaxis": {
            "gridcolor": "#EBF0F8",
            "linecolor": "#EBF0F8",
            "ticks": ""
           }
          },
          "scene": {
           "xaxis": {
            "backgroundcolor": "white",
            "gridcolor": "#DFE8F3",
            "gridwidth": 2,
            "linecolor": "#EBF0F8",
            "showbackground": true,
            "ticks": "",
            "zerolinecolor": "#EBF0F8"
           },
           "yaxis": {
            "backgroundcolor": "white",
            "gridcolor": "#DFE8F3",
            "gridwidth": 2,
            "linecolor": "#EBF0F8",
            "showbackground": true,
            "ticks": "",
            "zerolinecolor": "#EBF0F8"
           },
           "zaxis": {
            "backgroundcolor": "white",
            "gridcolor": "#DFE8F3",
            "gridwidth": 2,
            "linecolor": "#EBF0F8",
            "showbackground": true,
            "ticks": "",
            "zerolinecolor": "#EBF0F8"
           }
          },
          "shapedefaults": {
           "line": {
            "color": "#2a3f5f"
           }
          },
          "ternary": {
           "aaxis": {
            "gridcolor": "#DFE8F3",
            "linecolor": "#A2B1C6",
            "ticks": ""
           },
           "baxis": {
            "gridcolor": "#DFE8F3",
            "linecolor": "#A2B1C6",
            "ticks": ""
           },
           "bgcolor": "white",
           "caxis": {
            "gridcolor": "#DFE8F3",
            "linecolor": "#A2B1C6",
            "ticks": ""
           }
          },
          "title": {
           "x": 0.05
          },
          "xaxis": {
           "automargin": true,
           "gridcolor": "#EBF0F8",
           "linecolor": "#EBF0F8",
           "ticks": "",
           "title": {
            "standoff": 15
           },
           "zerolinecolor": "#EBF0F8",
           "zerolinewidth": 2
          },
          "yaxis": {
           "automargin": true,
           "gridcolor": "#EBF0F8",
           "linecolor": "#EBF0F8",
           "ticks": "",
           "title": {
            "standoff": 15
           },
           "zerolinecolor": "#EBF0F8",
           "zerolinewidth": 2
          }
         }
        },
        "title": {
         "text": "Distribución TIPO_COCHE antes y después de la imputación"
        },
        "width": 1200,
        "xaxis": {
         "tickfont": {
          "color": "black"
         },
         "title": {
          "standoff": 20,
          "text": "Tipo de coche"
         }
        }
       }
      }
     },
     "metadata": {},
     "output_type": "display_data"
    },
    {
     "data": {
      "application/vnd.plotly.v1+json": {
       "config": {
        "plotlyServerURL": "https://plot.ly"
       },
       "data": [
        {
         "line": {
          "color": "#373485",
          "dash": "dash",
          "width": 3
         },
         "marker": {
          "size": 8,
          "symbol": "circle"
         },
         "mode": "lines+markers",
         "name": "Tendencia Antes",
         "type": "scatter",
         "x": [
          "convertible",
          "coupe",
          "estate",
          "hatchback",
          "sedan",
          "subcompact",
          "suv",
          "van"
         ],
         "y": {
          "bdata": "HgBMAFME6AE1A00A8wIdAA==",
          "dtype": "i2"
         }
        },
        {
         "line": {
          "color": "#c52b30",
          "dash": "dash",
          "width": 3
         },
         "marker": {
          "size": 8,
          "symbol": "circle"
         },
         "mode": "lines+markers",
         "name": "Tendencia Después",
         "type": "scatter",
         "x": [
          "convertible",
          "coupe",
          "estate",
          "hatchback",
          "sedan",
          "subcompact",
          "suv",
          "van"
         ],
         "y": {
          "bdata": "KABlAMIG3QIJBFAAIgQpAA==",
          "dtype": "i2"
         }
        }
       ],
       "layout": {
        "height": 470,
        "paper_bgcolor": "#e6e6e7",
        "plot_bgcolor": "#e6e6e7",
        "template": {
         "data": {
          "bar": [
           {
            "error_x": {
             "color": "#2a3f5f"
            },
            "error_y": {
             "color": "#2a3f5f"
            },
            "marker": {
             "line": {
              "color": "white",
              "width": 0.5
             },
             "pattern": {
              "fillmode": "overlay",
              "size": 10,
              "solidity": 0.2
             }
            },
            "type": "bar"
           }
          ],
          "barpolar": [
           {
            "marker": {
             "line": {
              "color": "white",
              "width": 0.5
             },
             "pattern": {
              "fillmode": "overlay",
              "size": 10,
              "solidity": 0.2
             }
            },
            "type": "barpolar"
           }
          ],
          "carpet": [
           {
            "aaxis": {
             "endlinecolor": "#2a3f5f",
             "gridcolor": "#C8D4E3",
             "linecolor": "#C8D4E3",
             "minorgridcolor": "#C8D4E3",
             "startlinecolor": "#2a3f5f"
            },
            "baxis": {
             "endlinecolor": "#2a3f5f",
             "gridcolor": "#C8D4E3",
             "linecolor": "#C8D4E3",
             "minorgridcolor": "#C8D4E3",
             "startlinecolor": "#2a3f5f"
            },
            "type": "carpet"
           }
          ],
          "choropleth": [
           {
            "colorbar": {
             "outlinewidth": 0,
             "ticks": ""
            },
            "type": "choropleth"
           }
          ],
          "contour": [
           {
            "colorbar": {
             "outlinewidth": 0,
             "ticks": ""
            },
            "colorscale": [
             [
              0,
              "#0d0887"
             ],
             [
              0.1111111111111111,
              "#46039f"
             ],
             [
              0.2222222222222222,
              "#7201a8"
             ],
             [
              0.3333333333333333,
              "#9c179e"
             ],
             [
              0.4444444444444444,
              "#bd3786"
             ],
             [
              0.5555555555555556,
              "#d8576b"
             ],
             [
              0.6666666666666666,
              "#ed7953"
             ],
             [
              0.7777777777777778,
              "#fb9f3a"
             ],
             [
              0.8888888888888888,
              "#fdca26"
             ],
             [
              1,
              "#f0f921"
             ]
            ],
            "type": "contour"
           }
          ],
          "contourcarpet": [
           {
            "colorbar": {
             "outlinewidth": 0,
             "ticks": ""
            },
            "type": "contourcarpet"
           }
          ],
          "heatmap": [
           {
            "colorbar": {
             "outlinewidth": 0,
             "ticks": ""
            },
            "colorscale": [
             [
              0,
              "#0d0887"
             ],
             [
              0.1111111111111111,
              "#46039f"
             ],
             [
              0.2222222222222222,
              "#7201a8"
             ],
             [
              0.3333333333333333,
              "#9c179e"
             ],
             [
              0.4444444444444444,
              "#bd3786"
             ],
             [
              0.5555555555555556,
              "#d8576b"
             ],
             [
              0.6666666666666666,
              "#ed7953"
             ],
             [
              0.7777777777777778,
              "#fb9f3a"
             ],
             [
              0.8888888888888888,
              "#fdca26"
             ],
             [
              1,
              "#f0f921"
             ]
            ],
            "type": "heatmap"
           }
          ],
          "histogram": [
           {
            "marker": {
             "pattern": {
              "fillmode": "overlay",
              "size": 10,
              "solidity": 0.2
             }
            },
            "type": "histogram"
           }
          ],
          "histogram2d": [
           {
            "colorbar": {
             "outlinewidth": 0,
             "ticks": ""
            },
            "colorscale": [
             [
              0,
              "#0d0887"
             ],
             [
              0.1111111111111111,
              "#46039f"
             ],
             [
              0.2222222222222222,
              "#7201a8"
             ],
             [
              0.3333333333333333,
              "#9c179e"
             ],
             [
              0.4444444444444444,
              "#bd3786"
             ],
             [
              0.5555555555555556,
              "#d8576b"
             ],
             [
              0.6666666666666666,
              "#ed7953"
             ],
             [
              0.7777777777777778,
              "#fb9f3a"
             ],
             [
              0.8888888888888888,
              "#fdca26"
             ],
             [
              1,
              "#f0f921"
             ]
            ],
            "type": "histogram2d"
           }
          ],
          "histogram2dcontour": [
           {
            "colorbar": {
             "outlinewidth": 0,
             "ticks": ""
            },
            "colorscale": [
             [
              0,
              "#0d0887"
             ],
             [
              0.1111111111111111,
              "#46039f"
             ],
             [
              0.2222222222222222,
              "#7201a8"
             ],
             [
              0.3333333333333333,
              "#9c179e"
             ],
             [
              0.4444444444444444,
              "#bd3786"
             ],
             [
              0.5555555555555556,
              "#d8576b"
             ],
             [
              0.6666666666666666,
              "#ed7953"
             ],
             [
              0.7777777777777778,
              "#fb9f3a"
             ],
             [
              0.8888888888888888,
              "#fdca26"
             ],
             [
              1,
              "#f0f921"
             ]
            ],
            "type": "histogram2dcontour"
           }
          ],
          "mesh3d": [
           {
            "colorbar": {
             "outlinewidth": 0,
             "ticks": ""
            },
            "type": "mesh3d"
           }
          ],
          "parcoords": [
           {
            "line": {
             "colorbar": {
              "outlinewidth": 0,
              "ticks": ""
             }
            },
            "type": "parcoords"
           }
          ],
          "pie": [
           {
            "automargin": true,
            "type": "pie"
           }
          ],
          "scatter": [
           {
            "fillpattern": {
             "fillmode": "overlay",
             "size": 10,
             "solidity": 0.2
            },
            "type": "scatter"
           }
          ],
          "scatter3d": [
           {
            "line": {
             "colorbar": {
              "outlinewidth": 0,
              "ticks": ""
             }
            },
            "marker": {
             "colorbar": {
              "outlinewidth": 0,
              "ticks": ""
             }
            },
            "type": "scatter3d"
           }
          ],
          "scattercarpet": [
           {
            "marker": {
             "colorbar": {
              "outlinewidth": 0,
              "ticks": ""
             }
            },
            "type": "scattercarpet"
           }
          ],
          "scattergeo": [
           {
            "marker": {
             "colorbar": {
              "outlinewidth": 0,
              "ticks": ""
             }
            },
            "type": "scattergeo"
           }
          ],
          "scattergl": [
           {
            "marker": {
             "colorbar": {
              "outlinewidth": 0,
              "ticks": ""
             }
            },
            "type": "scattergl"
           }
          ],
          "scattermap": [
           {
            "marker": {
             "colorbar": {
              "outlinewidth": 0,
              "ticks": ""
             }
            },
            "type": "scattermap"
           }
          ],
          "scattermapbox": [
           {
            "marker": {
             "colorbar": {
              "outlinewidth": 0,
              "ticks": ""
             }
            },
            "type": "scattermapbox"
           }
          ],
          "scatterpolar": [
           {
            "marker": {
             "colorbar": {
              "outlinewidth": 0,
              "ticks": ""
             }
            },
            "type": "scatterpolar"
           }
          ],
          "scatterpolargl": [
           {
            "marker": {
             "colorbar": {
              "outlinewidth": 0,
              "ticks": ""
             }
            },
            "type": "scatterpolargl"
           }
          ],
          "scatterternary": [
           {
            "marker": {
             "colorbar": {
              "outlinewidth": 0,
              "ticks": ""
             }
            },
            "type": "scatterternary"
           }
          ],
          "surface": [
           {
            "colorbar": {
             "outlinewidth": 0,
             "ticks": ""
            },
            "colorscale": [
             [
              0,
              "#0d0887"
             ],
             [
              0.1111111111111111,
              "#46039f"
             ],
             [
              0.2222222222222222,
              "#7201a8"
             ],
             [
              0.3333333333333333,
              "#9c179e"
             ],
             [
              0.4444444444444444,
              "#bd3786"
             ],
             [
              0.5555555555555556,
              "#d8576b"
             ],
             [
              0.6666666666666666,
              "#ed7953"
             ],
             [
              0.7777777777777778,
              "#fb9f3a"
             ],
             [
              0.8888888888888888,
              "#fdca26"
             ],
             [
              1,
              "#f0f921"
             ]
            ],
            "type": "surface"
           }
          ],
          "table": [
           {
            "cells": {
             "fill": {
              "color": "#EBF0F8"
             },
             "line": {
              "color": "white"
             }
            },
            "header": {
             "fill": {
              "color": "#C8D4E3"
             },
             "line": {
              "color": "white"
             }
            },
            "type": "table"
           }
          ]
         },
         "layout": {
          "annotationdefaults": {
           "arrowcolor": "#2a3f5f",
           "arrowhead": 0,
           "arrowwidth": 1
          },
          "autotypenumbers": "strict",
          "coloraxis": {
           "colorbar": {
            "outlinewidth": 0,
            "ticks": ""
           }
          },
          "colorscale": {
           "diverging": [
            [
             0,
             "#8e0152"
            ],
            [
             0.1,
             "#c51b7d"
            ],
            [
             0.2,
             "#de77ae"
            ],
            [
             0.3,
             "#f1b6da"
            ],
            [
             0.4,
             "#fde0ef"
            ],
            [
             0.5,
             "#f7f7f7"
            ],
            [
             0.6,
             "#e6f5d0"
            ],
            [
             0.7,
             "#b8e186"
            ],
            [
             0.8,
             "#7fbc41"
            ],
            [
             0.9,
             "#4d9221"
            ],
            [
             1,
             "#276419"
            ]
           ],
           "sequential": [
            [
             0,
             "#0d0887"
            ],
            [
             0.1111111111111111,
             "#46039f"
            ],
            [
             0.2222222222222222,
             "#7201a8"
            ],
            [
             0.3333333333333333,
             "#9c179e"
            ],
            [
             0.4444444444444444,
             "#bd3786"
            ],
            [
             0.5555555555555556,
             "#d8576b"
            ],
            [
             0.6666666666666666,
             "#ed7953"
            ],
            [
             0.7777777777777778,
             "#fb9f3a"
            ],
            [
             0.8888888888888888,
             "#fdca26"
            ],
            [
             1,
             "#f0f921"
            ]
           ],
           "sequentialminus": [
            [
             0,
             "#0d0887"
            ],
            [
             0.1111111111111111,
             "#46039f"
            ],
            [
             0.2222222222222222,
             "#7201a8"
            ],
            [
             0.3333333333333333,
             "#9c179e"
            ],
            [
             0.4444444444444444,
             "#bd3786"
            ],
            [
             0.5555555555555556,
             "#d8576b"
            ],
            [
             0.6666666666666666,
             "#ed7953"
            ],
            [
             0.7777777777777778,
             "#fb9f3a"
            ],
            [
             0.8888888888888888,
             "#fdca26"
            ],
            [
             1,
             "#f0f921"
            ]
           ]
          },
          "colorway": [
           "#636efa",
           "#EF553B",
           "#00cc96",
           "#ab63fa",
           "#FFA15A",
           "#19d3f3",
           "#FF6692",
           "#B6E880",
           "#FF97FF",
           "#FECB52"
          ],
          "font": {
           "color": "#2a3f5f"
          },
          "geo": {
           "bgcolor": "white",
           "lakecolor": "white",
           "landcolor": "white",
           "showlakes": true,
           "showland": true,
           "subunitcolor": "#C8D4E3"
          },
          "hoverlabel": {
           "align": "left"
          },
          "hovermode": "closest",
          "mapbox": {
           "style": "light"
          },
          "paper_bgcolor": "white",
          "plot_bgcolor": "white",
          "polar": {
           "angularaxis": {
            "gridcolor": "#EBF0F8",
            "linecolor": "#EBF0F8",
            "ticks": ""
           },
           "bgcolor": "white",
           "radialaxis": {
            "gridcolor": "#EBF0F8",
            "linecolor": "#EBF0F8",
            "ticks": ""
           }
          },
          "scene": {
           "xaxis": {
            "backgroundcolor": "white",
            "gridcolor": "#DFE8F3",
            "gridwidth": 2,
            "linecolor": "#EBF0F8",
            "showbackground": true,
            "ticks": "",
            "zerolinecolor": "#EBF0F8"
           },
           "yaxis": {
            "backgroundcolor": "white",
            "gridcolor": "#DFE8F3",
            "gridwidth": 2,
            "linecolor": "#EBF0F8",
            "showbackground": true,
            "ticks": "",
            "zerolinecolor": "#EBF0F8"
           },
           "zaxis": {
            "backgroundcolor": "white",
            "gridcolor": "#DFE8F3",
            "gridwidth": 2,
            "linecolor": "#EBF0F8",
            "showbackground": true,
            "ticks": "",
            "zerolinecolor": "#EBF0F8"
           }
          },
          "shapedefaults": {
           "line": {
            "color": "#2a3f5f"
           }
          },
          "ternary": {
           "aaxis": {
            "gridcolor": "#DFE8F3",
            "linecolor": "#A2B1C6",
            "ticks": ""
           },
           "baxis": {
            "gridcolor": "#DFE8F3",
            "linecolor": "#A2B1C6",
            "ticks": ""
           },
           "bgcolor": "white",
           "caxis": {
            "gridcolor": "#DFE8F3",
            "linecolor": "#A2B1C6",
            "ticks": ""
           }
          },
          "title": {
           "x": 0.05
          },
          "xaxis": {
           "automargin": true,
           "gridcolor": "#EBF0F8",
           "linecolor": "#EBF0F8",
           "ticks": "",
           "title": {
            "standoff": 15
           },
           "zerolinecolor": "#EBF0F8",
           "zerolinewidth": 2
          },
          "yaxis": {
           "automargin": true,
           "gridcolor": "#EBF0F8",
           "linecolor": "#EBF0F8",
           "ticks": "",
           "title": {
            "standoff": 15
           },
           "zerolinecolor": "#EBF0F8",
           "zerolinewidth": 2
          }
         }
        },
        "title": {
         "text": "Tendencia distribución TIPO_COCHE antes y después de la imputación"
        },
        "width": 1200,
        "xaxis": {
         "tickfont": {
          "color": "black"
         },
         "title": {
          "standoff": 20,
          "text": "Tipo de coche"
         }
        }
       }
      }
     },
     "metadata": {},
     "output_type": "display_data"
    }
   ],
   "source": [
    "# Conteos por tipo de coche (ordenados)\n",
    "antes_counts = df_antes['tipo_coche'].value_counts().sort_index()\n",
    "despues_counts = df_bmw['tipo_coche'].value_counts().sort_index()\n",
    "\n",
    "# Etiquetas combinadas para X: antes y después (intercalado)\n",
    "x_vals = list(antes_counts.index) + list(despues_counts.index)\n",
    "y_vals = list(antes_counts.values) + list(despues_counts.values)\n",
    "\n",
    "# Colores: ejemplo con un color para antes y otro para después\n",
    "colors = ['#373485'] * len(antes_counts) + ['#c52b30'] * len(despues_counts)\n",
    "\n",
    "fig = go.Figure()\n",
    "\n",
    "# Añadimos barras para antes\n",
    "fig.add_trace(go.Bar(\n",
    "    x=[str(i) for i in antes_counts.index],\n",
    "    y=antes_counts.values,\n",
    "    marker_color='#373485',\n",
    "    name='Antes',\n",
    "    text=antes_counts.values,\n",
    "    textposition='outside',\n",
    "    opacity=1,\n",
    "))\n",
    "\n",
    "# Añadimos barras para después\n",
    "fig.add_trace(go.Bar(\n",
    "    x=[str(i) for i in despues_counts.index],\n",
    "    y=despues_counts.values,\n",
    "    marker_color='#c52b30',\n",
    "    name='Después',\n",
    "    text=despues_counts.values,\n",
    "    textposition='outside',\n",
    "    opacity=1,\n",
    "))\n",
    "\n",
    "# Configuramos el layout para que sea similar\n",
    "fig.update_layout(\n",
    "    title=\"Distribución TIPO_COCHE antes y después de la imputación\",\n",
    "    xaxis_title=\"Tipo de coche\",\n",
    "    barmode='group',\n",
    "    template='plotly_white',\n",
    "    width=1200,\n",
    "    height=470,\n",
    "    plot_bgcolor='#e6e6e7',\n",
    "    paper_bgcolor='#e6e6e7',\n",
    "    xaxis=dict(\n",
    "        tickfont=dict(color='black'),\n",
    "        title_standoff=20\n",
    "    )\n",
    ")\n",
    "\n",
    "fig.show()\n",
    "\n",
    "x_labels = [str(i) for i in antes_counts.index]\n",
    "\n",
    "fig = go.Figure()\n",
    "\n",
    "# Línea de tendencia 'Antes'\n",
    "fig.add_trace(go.Scatter(\n",
    "    x=x_labels,\n",
    "    y=antes_counts.values,\n",
    "    mode='lines+markers',\n",
    "    name='Tendencia Antes',\n",
    "    line=dict(color='#373485', width=3, dash='dash'),\n",
    "    marker=dict(symbol='circle', size=8)\n",
    "))\n",
    "\n",
    "# Línea de tendencia 'Después'\n",
    "fig.add_trace(go.Scatter(\n",
    "    x=x_labels,\n",
    "    y=despues_counts.values,\n",
    "    mode='lines+markers',\n",
    "    name='Tendencia Después',\n",
    "    line=dict(color='#c52b30', width=3, dash='dash'),\n",
    "    marker=dict(symbol='circle', size=8)\n",
    "))\n",
    "\n",
    "fig.update_layout(\n",
    "    title=\"Tendencia distribución TIPO_COCHE antes y después de la imputación\",\n",
    "    xaxis_title=\"Tipo de coche\",\n",
    "    template='plotly_white',\n",
    "    width=1200,\n",
    "    height=470,\n",
    "    plot_bgcolor='#e6e6e7',\n",
    "    paper_bgcolor='#e6e6e7',\n",
    "    xaxis=dict(tickfont=dict(color='black'), title_standoff=20)\n",
    ")\n",
    "\n",
    "fig.show()"
   ]
  },
  {
   "cell_type": "markdown",
   "id": "502ae21b",
   "metadata": {},
   "source": [
    "### **COLUMNA COLOR** "
   ]
  },
  {
   "cell_type": "markdown",
   "id": "27b14b7d",
   "metadata": {},
   "source": [
    "En esta columna observamos que el color, aunque presente en la mayoría de registros, no aporta información relevante para la predicción del precio, por lo que se plantea su posible simplificación tras un análisis preliminar.\n",
    "\n",
    "El proceso realizado ha sido el siguiente:\n",
    "\n",
    "1. Inspeccionamos los valores nulos de la columna `color` y visualizamos su distribución mediante un gráfico de dispersión (`scatter plot`) para evaluar su relación con el precio.\n",
    "\n",
    "2. Creamos una nueva variable binaria `color_estandar` que clasifica los colores en dos grupos:  \n",
    "   - `1` para colores considerados comunes (negro, gris, azul y blanco).  \n",
    "   - `0` para el resto de colores.  \n",
    "\n",
    "3. Para imputar los valores nulos en `color_estandar`, generamos cuatro tablas auxiliares agrupadas por diferentes combinaciones de variables (`modelo`, `tipo_coche`, `potencia`), con el objetivo de obtener el valor más frecuente (moda) y así completar los valores faltantes.\n",
    "\n",
    "4. Realizamos varios merges para añadir estas imputaciones al dataframe original y, con `bfill(axis=1)`, rellenamos los valores nulos de izquierda a derecha según la disponibilidad de la imputación más específica a la más general.\n",
    "\n",
    "5. Tras completar la imputación de `color_estandar`, eliminamos la columna original `color` para quedarnos con esta nueva variable que simplifica la información sobre color.\n",
    "\n",
    "6. Comprobamos la cantidad de valores nulos tras la imputación y validamos el resultado mediante un gráfico de barras comparativo que muestra la distribución de `color_estandar` antes y después del tratamiento."
   ]
  },
  {
   "cell_type": "code",
   "execution_count": 46,
   "id": "0af052e0",
   "metadata": {},
   "outputs": [
    {
     "data": {
      "text/html": [
       "<div>\n",
       "<style scoped>\n",
       "    .dataframe tbody tr th:only-of-type {\n",
       "        vertical-align: middle;\n",
       "    }\n",
       "\n",
       "    .dataframe tbody tr th {\n",
       "        vertical-align: top;\n",
       "    }\n",
       "\n",
       "    .dataframe thead th {\n",
       "        text-align: right;\n",
       "    }\n",
       "</style>\n",
       "<table border=\"1\" class=\"dataframe\">\n",
       "  <thead>\n",
       "    <tr style=\"text-align: right;\">\n",
       "      <th></th>\n",
       "      <th>NULOS</th>\n",
       "      <th>% NULOS</th>\n",
       "      <th>VALORES UNICOS</th>\n",
       "    </tr>\n",
       "  </thead>\n",
       "  <tbody>\n",
       "    <tr>\n",
       "      <th>color</th>\n",
       "      <td>441</td>\n",
       "      <td>9.156977</td>\n",
       "      <td>10</td>\n",
       "    </tr>\n",
       "  </tbody>\n",
       "</table>\n",
       "</div>"
      ],
      "text/plain": [
       "       NULOS   % NULOS  VALORES UNICOS\n",
       "color    441  9.156977              10"
      ]
     },
     "execution_count": 46,
     "metadata": {},
     "output_type": "execute_result"
    }
   ],
   "source": [
    "tabla_nulos(df_bmw).loc[['color']]"
   ]
  },
  {
   "cell_type": "code",
   "execution_count": 47,
   "id": "b9c608e1",
   "metadata": {},
   "outputs": [
    {
     "data": {
      "text/plain": [
       "color\n",
       "black     0.308491\n",
       "grey      0.221507\n",
       "blue      0.133486\n",
       "white     0.100062\n",
       "NaN       0.091758\n",
       "brown     0.062695\n",
       "silver    0.060411\n",
       "red       0.009757\n",
       "beige     0.007681\n",
       "green     0.002906\n",
       "orange    0.001246\n",
       "Name: proportion, dtype: float64"
      ]
     },
     "execution_count": 47,
     "metadata": {},
     "output_type": "execute_result"
    }
   ],
   "source": [
    "distribuciones['color']"
   ]
  },
  {
   "cell_type": "code",
   "execution_count": 48,
   "id": "58e74fbc",
   "metadata": {},
   "outputs": [
    {
     "data": {
      "text/plain": [
       "<seaborn.axisgrid.FacetGrid at 0x14a6df7f0>"
      ]
     },
     "execution_count": 48,
     "metadata": {},
     "output_type": "execute_result"
    },
    {
     "data": {
      "image/png": "[encoded data removed]",
      "text/plain": [
       "<Figure size 599x500 with 1 Axes>"
      ]
     },
     "metadata": {},
     "output_type": "display_data"
    }
   ],
   "source": [
    "# Hacemos un scatter plot para anaalizar la relación entre el precio y el color del coche\n",
    "sns.relplot(x=\"precio\", y=\"color\", hue=\"color\", data=bmw)"
   ]
  },
  {
   "cell_type": "code",
   "execution_count": 49,
   "id": "1ce5e466",
   "metadata": {},
   "outputs": [],
   "source": [
    "def obtener_color_binario(x):\n",
    "  if str(x) == 'nan':\n",
    "    return np.nan\n",
    "  elif x in ['black','grey','blue','white']:\n",
    "    return 1\n",
    "  else:\n",
    "    return 0"
   ]
  },
  {
   "cell_type": "code",
   "execution_count": 50,
   "id": "222d6c7d",
   "metadata": {},
   "outputs": [],
   "source": [
    "df_bmw['color_estandar'] = df_bmw['color'].map(obtener_color_binario)\n",
    "df_antes['color_estandar'] = df_antes['color'].map(obtener_color_binario)"
   ]
  },
  {
   "cell_type": "code",
   "execution_count": 51,
   "id": "c2a4c4a4",
   "metadata": {},
   "outputs": [],
   "source": [
    "COLUMNS_1 = ['modelo', 'tipo_coche', 'potencia']\n",
    "df_nulls_1 = df_bmw.groupby(COLUMNS_1)['color_estandar'].agg(lambda x: pd.Series.mode(x).iloc[0] if not pd.Series.mode(x).empty else np.nan).reset_index()\n",
    "df_nulls_1 = df_nulls_1.dropna(subset=['color_estandar'])\n",
    "df_nulls_1.rename(columns={\"color_estandar\":\"color_estandar_1\"},inplace=True)\n",
    "\n",
    "COLUMNS_2 = ['modelo', 'tipo_coche']\n",
    "df_nulls_2 = df_bmw.groupby(COLUMNS_2)['color_estandar'].agg(lambda x: pd.Series.mode(x).iloc[0] if not pd.Series.mode(x).empty else np.nan).reset_index()\n",
    "df_nulls_2 = df_nulls_2.dropna(subset=['color_estandar'])\n",
    "df_nulls_2.rename(columns={\"color_estandar\":\"color_estandar_2\"},inplace=True)\n",
    "\n",
    "COLUMNS_3 = ['modelo']\n",
    "df_nulls_3 = df_bmw.groupby(COLUMNS_3)['color_estandar'].agg(lambda x: pd.Series.mode(x).iloc[0] if not pd.Series.mode(x).empty else np.nan).reset_index()\n",
    "df_nulls_3 = df_nulls_3.dropna(subset=['color_estandar'])\n",
    "df_nulls_3.rename(columns={\"color_estandar\":\"color_estandar_3\"},inplace=True)\n",
    "\n",
    "COLUMNS_4 = ['tipo_coche']\n",
    "df_nulls_4 = df_bmw.groupby(COLUMNS_4)['color_estandar'].agg(lambda x: pd.Series.mode(x).iloc[0] if not pd.Series.mode(x).empty else np.nan).reset_index()\n",
    "df_nulls_4 = df_nulls_4.dropna(subset=['color_estandar'])\n",
    "df_nulls_4.rename(columns={\"color_estandar\":\"color_estandar_4\"},inplace=True)\n"
   ]
  },
  {
   "cell_type": "code",
   "execution_count": 52,
   "id": "f6d87812",
   "metadata": {},
   "outputs": [],
   "source": [
    "df_bmw = df_bmw.merge(df_nulls_1,how='left',left_on=COLUMNS_1,right_on=COLUMNS_1)\n",
    "df_bmw = df_bmw.merge(df_nulls_2,how='left',left_on=COLUMNS_2,right_on=COLUMNS_2)\n",
    "df_bmw = df_bmw.merge(df_nulls_3,how='left',left_on=COLUMNS_3,right_on=COLUMNS_3)\n",
    "df_bmw = df_bmw.merge(df_nulls_4,how='left',left_on=COLUMNS_4,right_on=COLUMNS_4)\n",
    "\n",
    "df_bmw['color_estandar'] = df_bmw[['color_estandar','color_estandar_1','color_estandar_2','color_estandar_3','color_estandar_4']].bfill(axis=1).iloc[:, 0]\n",
    "\n",
    "df_bmw.drop(columns=['color_estandar_1','color_estandar_2','color_estandar_3','color_estandar_4'],inplace=True)"
   ]
  },
  {
   "cell_type": "code",
   "execution_count": 53,
   "id": "4a426d74",
   "metadata": {},
   "outputs": [
    {
     "data": {
      "text/html": [
       "<div>\n",
       "<style scoped>\n",
       "    .dataframe tbody tr th:only-of-type {\n",
       "        vertical-align: middle;\n",
       "    }\n",
       "\n",
       "    .dataframe tbody tr th {\n",
       "        vertical-align: top;\n",
       "    }\n",
       "\n",
       "    .dataframe thead th {\n",
       "        text-align: right;\n",
       "    }\n",
       "</style>\n",
       "<table border=\"1\" class=\"dataframe\">\n",
       "  <thead>\n",
       "    <tr style=\"text-align: right;\">\n",
       "      <th></th>\n",
       "      <th>NULOS</th>\n",
       "      <th>% NULOS</th>\n",
       "      <th>VALORES UNICOS</th>\n",
       "    </tr>\n",
       "  </thead>\n",
       "  <tbody>\n",
       "    <tr>\n",
       "      <th>color_estandar</th>\n",
       "      <td>0</td>\n",
       "      <td>0.0</td>\n",
       "      <td>2</td>\n",
       "    </tr>\n",
       "  </tbody>\n",
       "</table>\n",
       "</div>"
      ],
      "text/plain": [
       "                NULOS  % NULOS  VALORES UNICOS\n",
       "color_estandar      0      0.0               2"
      ]
     },
     "execution_count": 53,
     "metadata": {},
     "output_type": "execute_result"
    }
   ],
   "source": [
    "tabla_nulos(df_bmw).loc[['color_estandar']]"
   ]
  },
  {
   "cell_type": "code",
   "execution_count": 54,
   "id": "598f8797",
   "metadata": {},
   "outputs": [
    {
     "name": "stdout",
     "output_type": "stream",
     "text": [
      "<class 'pandas.core.frame.DataFrame'>\n",
      "RangeIndex: 4816 entries, 0 to 4815\n",
      "Data columns (total 14 columns):\n",
      " #   Column                       Non-Null Count  Dtype  \n",
      "---  ------                       --------------  -----  \n",
      " 0   modelo                       4816 non-null   object \n",
      " 1   km                           4816 non-null   float64\n",
      " 2   potencia                     4816 non-null   float64\n",
      " 3   tipo_coche                   4816 non-null   object \n",
      " 4   volante_regulable            4816 non-null   object \n",
      " 5   aire_acondicionado           4334 non-null   object \n",
      " 6   camara_trasera               4816 non-null   object \n",
      " 7   asientos_traseros_plegables  1444 non-null   object \n",
      " 8   elevalunas_electrico         4816 non-null   object \n",
      " 9   bluetooth                    4092 non-null   object \n",
      " 10  alerta_lim_velocidad         4095 non-null   object \n",
      " 11  precio                       4816 non-null   float64\n",
      " 12  años_coche                   2408 non-null   float64\n",
      " 13  color_estandar               4816 non-null   float64\n",
      "dtypes: float64(5), object(9)\n",
      "memory usage: 526.9+ KB\n"
     ]
    }
   ],
   "source": [
    "# Una vez imputados los nulos en la nueva variable, borramos la columna color\n",
    "df_bmw.drop(columns='color', inplace=True)\n",
    "\n",
    "# Comprobamos que la hemos eliminado\n",
    "df_bmw.info()"
   ]
  },
  {
   "cell_type": "code",
   "execution_count": 55,
   "id": "50738409",
   "metadata": {},
   "outputs": [
    {
     "data": {
      "application/vnd.plotly.v1+json": {
       "config": {
        "plotlyServerURL": "https://plot.ly"
       },
       "data": [
        {
         "marker": {
          "color": "#373485"
         },
         "name": "Antes",
         "opacity": 1,
         "text": {
          "bdata": "AAAAAADQhUAAAAAAAOisQA==",
          "dtype": "f8"
         },
         "textposition": "outside",
         "type": "bar",
         "x": [
          "0: Otros",
          "1: Black / Grey / Blue / White"
         ],
         "y": {
          "bdata": "ugJ0Dg==",
          "dtype": "i2"
         }
        },
        {
         "marker": {
          "color": "#c52b30"
         },
         "name": "Después",
         "opacity": 1,
         "text": {
          "bdata": "AAAAAAD4hUAAAAAAABGwQA==",
          "dtype": "f8"
         },
         "textposition": "outside",
         "type": "bar",
         "x": [
          "0: Otros",
          "1: Black / Grey / Blue / White"
         ],
         "y": {
          "bdata": "vwIREA==",
          "dtype": "i2"
         }
        }
       ],
       "layout": {
        "barmode": "group",
        "height": 470,
        "paper_bgcolor": "#e6e6e7",
        "plot_bgcolor": "#e6e6e7",
        "template": {
         "data": {
          "bar": [
           {
            "error_x": {
             "color": "#2a3f5f"
            },
            "error_y": {
             "color": "#2a3f5f"
            },
            "marker": {
             "line": {
              "color": "white",
              "width": 0.5
             },
             "pattern": {
              "fillmode": "overlay",
              "size": 10,
              "solidity": 0.2
             }
            },
            "type": "bar"
           }
          ],
          "barpolar": [
           {
            "marker": {
             "line": {
              "color": "white",
              "width": 0.5
             },
             "pattern": {
              "fillmode": "overlay",
              "size": 10,
              "solidity": 0.2
             }
            },
            "type": "barpolar"
           }
          ],
          "carpet": [
           {
            "aaxis": {
             "endlinecolor": "#2a3f5f",
             "gridcolor": "#C8D4E3",
             "linecolor": "#C8D4E3",
             "minorgridcolor": "#C8D4E3",
             "startlinecolor": "#2a3f5f"
            },
            "baxis": {
             "endlinecolor": "#2a3f5f",
             "gridcolor": "#C8D4E3",
             "linecolor": "#C8D4E3",
             "minorgridcolor": "#C8D4E3",
             "startlinecolor": "#2a3f5f"
            },
            "type": "carpet"
           }
          ],
          "choropleth": [
           {
            "colorbar": {
             "outlinewidth": 0,
             "ticks": ""
            },
            "type": "choropleth"
           }
          ],
          "contour": [
           {
            "colorbar": {
             "outlinewidth": 0,
             "ticks": ""
            },
            "colorscale": [
             [
              0,
              "#0d0887"
             ],
             [
              0.1111111111111111,
              "#46039f"
             ],
             [
              0.2222222222222222,
              "#7201a8"
             ],
             [
              0.3333333333333333,
              "#9c179e"
             ],
             [
              0.4444444444444444,
              "#bd3786"
             ],
             [
              0.5555555555555556,
              "#d8576b"
             ],
             [
              0.6666666666666666,
              "#ed7953"
             ],
             [
              0.7777777777777778,
              "#fb9f3a"
             ],
             [
              0.8888888888888888,
              "#fdca26"
             ],
             [
              1,
              "#f0f921"
             ]
            ],
            "type": "contour"
           }
          ],
          "contourcarpet": [
           {
            "colorbar": {
             "outlinewidth": 0,
             "ticks": ""
            },
            "type": "contourcarpet"
           }
          ],
          "heatmap": [
           {
            "colorbar": {
             "outlinewidth": 0,
             "ticks": ""
            },
            "colorscale": [
             [
              0,
              "#0d0887"
             ],
             [
              0.1111111111111111,
              "#46039f"
             ],
             [
              0.2222222222222222,
              "#7201a8"
             ],
             [
              0.3333333333333333,
              "#9c179e"
             ],
             [
              0.4444444444444444,
              "#bd3786"
             ],
             [
              0.5555555555555556,
              "#d8576b"
             ],
             [
              0.6666666666666666,
              "#ed7953"
             ],
             [
              0.7777777777777778,
              "#fb9f3a"
             ],
             [
              0.8888888888888888,
              "#fdca26"
             ],
             [
              1,
              "#f0f921"
             ]
            ],
            "type": "heatmap"
           }
          ],
          "histogram": [
           {
            "marker": {
             "pattern": {
              "fillmode": "overlay",
              "size": 10,
              "solidity": 0.2
             }
            },
            "type": "histogram"
           }
          ],
          "histogram2d": [
           {
            "colorbar": {
             "outlinewidth": 0,
             "ticks": ""
            },
            "colorscale": [
             [
              0,
              "#0d0887"
             ],
             [
              0.1111111111111111,
              "#46039f"
             ],
             [
              0.2222222222222222,
              "#7201a8"
             ],
             [
              0.3333333333333333,
              "#9c179e"
             ],
             [
              0.4444444444444444,
              "#bd3786"
             ],
             [
              0.5555555555555556,
              "#d8576b"
             ],
             [
              0.6666666666666666,
              "#ed7953"
             ],
             [
              0.7777777777777778,
              "#fb9f3a"
             ],
             [
              0.8888888888888888,
              "#fdca26"
             ],
             [
              1,
              "#f0f921"
             ]
            ],
            "type": "histogram2d"
           }
          ],
          "histogram2dcontour": [
           {
            "colorbar": {
             "outlinewidth": 0,
             "ticks": ""
            },
            "colorscale": [
             [
              0,
              "#0d0887"
             ],
             [
              0.1111111111111111,
              "#46039f"
             ],
             [
              0.2222222222222222,
              "#7201a8"
             ],
             [
              0.3333333333333333,
              "#9c179e"
             ],
             [
              0.4444444444444444,
              "#bd3786"
             ],
             [
              0.5555555555555556,
              "#d8576b"
             ],
             [
              0.6666666666666666,
              "#ed7953"
             ],
             [
              0.7777777777777778,
              "#fb9f3a"
             ],
             [
              0.8888888888888888,
              "#fdca26"
             ],
             [
              1,
              "#f0f921"
             ]
            ],
            "type": "histogram2dcontour"
           }
          ],
          "mesh3d": [
           {
            "colorbar": {
             "outlinewidth": 0,
             "ticks": ""
            },
            "type": "mesh3d"
           }
          ],
          "parcoords": [
           {
            "line": {
             "colorbar": {
              "outlinewidth": 0,
              "ticks": ""
             }
            },
            "type": "parcoords"
           }
          ],
          "pie": [
           {
            "automargin": true,
            "type": "pie"
           }
          ],
          "scatter": [
           {
            "fillpattern": {
             "fillmode": "overlay",
             "size": 10,
             "solidity": 0.2
            },
            "type": "scatter"
           }
          ],
          "scatter3d": [
           {
            "line": {
             "colorbar": {
              "outlinewidth": 0,
              "ticks": ""
             }
            },
            "marker": {
             "colorbar": {
              "outlinewidth": 0,
              "ticks": ""
             }
            },
            "type": "scatter3d"
           }
          ],
          "scattercarpet": [
           {
            "marker": {
             "colorbar": {
              "outlinewidth": 0,
              "ticks": ""
             }
            },
            "type": "scattercarpet"
           }
          ],
          "scattergeo": [
           {
            "marker": {
             "colorbar": {
              "outlinewidth": 0,
              "ticks": ""
             }
            },
            "type": "scattergeo"
           }
          ],
          "scattergl": [
           {
            "marker": {
             "colorbar": {
              "outlinewidth": 0,
              "ticks": ""
             }
            },
            "type": "scattergl"
           }
          ],
          "scattermap": [
           {
            "marker": {
             "colorbar": {
              "outlinewidth": 0,
              "ticks": ""
             }
            },
            "type": "scattermap"
           }
          ],
          "scattermapbox": [
           {
            "marker": {
             "colorbar": {
              "outlinewidth": 0,
              "ticks": ""
             }
            },
            "type": "scattermapbox"
           }
          ],
          "scatterpolar": [
           {
            "marker": {
             "colorbar": {
              "outlinewidth": 0,
              "ticks": ""
             }
            },
            "type": "scatterpolar"
           }
          ],
          "scatterpolargl": [
           {
            "marker": {
             "colorbar": {
              "outlinewidth": 0,
              "ticks": ""
             }
            },
            "type": "scatterpolargl"
           }
          ],
          "scatterternary": [
           {
            "marker": {
             "colorbar": {
              "outlinewidth": 0,
              "ticks": ""
             }
            },
            "type": "scatterternary"
           }
          ],
          "surface": [
           {
            "colorbar": {
             "outlinewidth": 0,
             "ticks": ""
            },
            "colorscale": [
             [
              0,
              "#0d0887"
             ],
             [
              0.1111111111111111,
              "#46039f"
             ],
             [
              0.2222222222222222,
              "#7201a8"
             ],
             [
              0.3333333333333333,
              "#9c179e"
             ],
             [
              0.4444444444444444,
              "#bd3786"
             ],
             [
              0.5555555555555556,
              "#d8576b"
             ],
             [
              0.6666666666666666,
              "#ed7953"
             ],
             [
              0.7777777777777778,
              "#fb9f3a"
             ],
             [
              0.8888888888888888,
              "#fdca26"
             ],
             [
              1,
              "#f0f921"
             ]
            ],
            "type": "surface"
           }
          ],
          "table": [
           {
            "cells": {
             "fill": {
              "color": "#EBF0F8"
             },
             "line": {
              "color": "white"
             }
            },
            "header": {
             "fill": {
              "color": "#C8D4E3"
             },
             "line": {
              "color": "white"
             }
            },
            "type": "table"
           }
          ]
         },
         "layout": {
          "annotationdefaults": {
           "arrowcolor": "#2a3f5f",
           "arrowhead": 0,
           "arrowwidth": 1
          },
          "autotypenumbers": "strict",
          "coloraxis": {
           "colorbar": {
            "outlinewidth": 0,
            "ticks": ""
           }
          },
          "colorscale": {
           "diverging": [
            [
             0,
             "#8e0152"
            ],
            [
             0.1,
             "#c51b7d"
            ],
            [
             0.2,
             "#de77ae"
            ],
            [
             0.3,
             "#f1b6da"
            ],
            [
             0.4,
             "#fde0ef"
            ],
            [
             0.5,
             "#f7f7f7"
            ],
            [
             0.6,
             "#e6f5d0"
            ],
            [
             0.7,
             "#b8e186"
            ],
            [
             0.8,
             "#7fbc41"
            ],
            [
             0.9,
             "#4d9221"
            ],
            [
             1,
             "#276419"
            ]
           ],
           "sequential": [
            [
             0,
             "#0d0887"
            ],
            [
             0.1111111111111111,
             "#46039f"
            ],
            [
             0.2222222222222222,
             "#7201a8"
            ],
            [
             0.3333333333333333,
             "#9c179e"
            ],
            [
             0.4444444444444444,
             "#bd3786"
            ],
            [
             0.5555555555555556,
             "#d8576b"
            ],
            [
             0.6666666666666666,
             "#ed7953"
            ],
            [
             0.7777777777777778,
             "#fb9f3a"
            ],
            [
             0.8888888888888888,
             "#fdca26"
            ],
            [
             1,
             "#f0f921"
            ]
           ],
           "sequentialminus": [
            [
             0,
             "#0d0887"
            ],
            [
             0.1111111111111111,
             "#46039f"
            ],
            [
             0.2222222222222222,
             "#7201a8"
            ],
            [
             0.3333333333333333,
             "#9c179e"
            ],
            [
             0.4444444444444444,
             "#bd3786"
            ],
            [
             0.5555555555555556,
             "#d8576b"
            ],
            [
             0.6666666666666666,
             "#ed7953"
            ],
            [
             0.7777777777777778,
             "#fb9f3a"
            ],
            [
             0.8888888888888888,
             "#fdca26"
            ],
            [
             1,
             "#f0f921"
            ]
           ]
          },
          "colorway": [
           "#636efa",
           "#EF553B",
           "#00cc96",
           "#ab63fa",
           "#FFA15A",
           "#19d3f3",
           "#FF6692",
           "#B6E880",
           "#FF97FF",
           "#FECB52"
          ],
          "font": {
           "color": "#2a3f5f"
          },
          "geo": {
           "bgcolor": "white",
           "lakecolor": "white",
           "landcolor": "white",
           "showlakes": true,
           "showland": true,
           "subunitcolor": "#C8D4E3"
          },
          "hoverlabel": {
           "align": "left"
          },
          "hovermode": "closest",
          "mapbox": {
           "style": "light"
          },
          "paper_bgcolor": "white",
          "plot_bgcolor": "white",
          "polar": {
           "angularaxis": {
            "gridcolor": "#EBF0F8",
            "linecolor": "#EBF0F8",
            "ticks": ""
           },
           "bgcolor": "white",
           "radialaxis": {
            "gridcolor": "#EBF0F8",
            "linecolor": "#EBF0F8",
            "ticks": ""
           }
          },
          "scene": {
           "xaxis": {
            "backgroundcolor": "white",
            "gridcolor": "#DFE8F3",
            "gridwidth": 2,
            "linecolor": "#EBF0F8",
            "showbackground": true,
            "ticks": "",
            "zerolinecolor": "#EBF0F8"
           },
           "yaxis": {
            "backgroundcolor": "white",
            "gridcolor": "#DFE8F3",
            "gridwidth": 2,
            "linecolor": "#EBF0F8",
            "showbackground": true,
            "ticks": "",
            "zerolinecolor": "#EBF0F8"
           },
           "zaxis": {
            "backgroundcolor": "white",
            "gridcolor": "#DFE8F3",
            "gridwidth": 2,
            "linecolor": "#EBF0F8",
            "showbackground": true,
            "ticks": "",
            "zerolinecolor": "#EBF0F8"
           }
          },
          "shapedefaults": {
           "line": {
            "color": "#2a3f5f"
           }
          },
          "ternary": {
           "aaxis": {
            "gridcolor": "#DFE8F3",
            "linecolor": "#A2B1C6",
            "ticks": ""
           },
           "baxis": {
            "gridcolor": "#DFE8F3",
            "linecolor": "#A2B1C6",
            "ticks": ""
           },
           "bgcolor": "white",
           "caxis": {
            "gridcolor": "#DFE8F3",
            "linecolor": "#A2B1C6",
            "ticks": ""
           }
          },
          "title": {
           "x": 0.05
          },
          "xaxis": {
           "automargin": true,
           "gridcolor": "#EBF0F8",
           "linecolor": "#EBF0F8",
           "ticks": "",
           "title": {
            "standoff": 15
           },
           "zerolinecolor": "#EBF0F8",
           "zerolinewidth": 2
          },
          "yaxis": {
           "automargin": true,
           "gridcolor": "#EBF0F8",
           "linecolor": "#EBF0F8",
           "ticks": "",
           "title": {
            "standoff": 15
           },
           "zerolinecolor": "#EBF0F8",
           "zerolinewidth": 2
          }
         }
        },
        "title": {
         "text": "Distribución de COLOR antes y después de la imputación"
        },
        "width": 1200,
        "xaxis": {
         "tickfont": {
          "color": "black"
         },
         "title": {
          "standoff": 20,
          "text": "Tipo de color"
         }
        }
       }
      }
     },
     "metadata": {},
     "output_type": "display_data"
    }
   ],
   "source": [
    "# Conteos por color (ordenados)\n",
    "antes_color = df_antes['color_estandar'].value_counts().sort_index()\n",
    "despues_color = df_bmw['color_estandar'].value_counts().sort_index()\n",
    "\n",
    "# Etiquetas personalizadas para el eje X\n",
    "etiquetas = {0: '0: Otros', 1: '1: Black / Grey / Blue / White'}\n",
    "x_labels = [etiquetas.get(i, str(i)) for i in antes_color.index]\n",
    "\n",
    "fig = go.Figure()\n",
    "\n",
    "# Añadimos barras para antes\n",
    "fig.add_trace(go.Bar(\n",
    "    x=x_labels,\n",
    "    y=antes_color.values,\n",
    "    marker_color='#373485',\n",
    "    name='Antes',\n",
    "    text=antes_color.values,\n",
    "    textposition='outside',\n",
    "    opacity=1,\n",
    "))\n",
    "\n",
    "# Añadimos barras para después\n",
    "fig.add_trace(go.Bar(\n",
    "    x=x_labels,\n",
    "    y=despues_color.reindex(antes_color.index, fill_value=0).values,\n",
    "    marker_color='#c52b30',\n",
    "    name='Después',\n",
    "    text=despues_color.reindex(antes_color.index, fill_value=0).values,\n",
    "    textposition='outside',\n",
    "    opacity=1,\n",
    "))\n",
    "\n",
    "# Configuramos el layout\n",
    "fig.update_layout(\n",
    "    title=\"Distribución de COLOR antes y después de la imputación\",\n",
    "    xaxis_title=\"Tipo de color\",\n",
    "    barmode='group',  # Barras en paralelo\n",
    "    template='plotly_white',\n",
    "    width=1200,\n",
    "    height=470,\n",
    "    plot_bgcolor='#e6e6e7',\n",
    "    paper_bgcolor='#e6e6e7',\n",
    "    xaxis=dict(\n",
    "        tickfont=dict(color='black'),\n",
    "        title_standoff=20\n",
    "    )\n",
    ")\n",
    "\n",
    "fig.show()"
   ]
  },
  {
   "cell_type": "markdown",
   "id": "4f868aae",
   "metadata": {},
   "source": [
    "### **COLUMNA AÑOS COCHE**"
   ]
  },
  {
   "cell_type": "markdown",
   "id": "b3d7ae7b",
   "metadata": {},
   "source": [
    "En esta columna observamos que representa la antigüedad del vehículo, una variable que sí puede aportar valor en la predicción del precio. Sin embargo, presenta valores continuos y algunos nulos, por lo que se decide agrupar en rangos categóricos y realizar una imputación estructurada.\n",
    "\n",
    "El proceso realizado ha sido el siguiente:\n",
    "\n",
    "1. Inspeccionamos los valores nulos de la columna `años_coche` y analizamos su distribución, agrupándola visualmente para entender mejor los intervalos más frecuentes.\n",
    "\n",
    "2. Transformamos la variable continua en una variable categórica utilizando `pd.cut`, dividiendo en los siguientes rangos:\n",
    "   - `1-3`: vehículos muy nuevos  \n",
    "   - `4-6`: seminuevos  \n",
    "   - `7-10`: usados en buen estado  \n",
    "   - `11-15`: usados con más desgaste  \n",
    "   - `16-20`: antiguos  \n",
    "   - `21-25`: muy antiguos  \n",
    "   - `>25`: clásicos o muy antiguos  \n",
    "\n",
    "3. Para imputar los valores nulos en `años_coche`, generamos cuatro tablas auxiliares agrupadas por diferentes combinaciones de variables (`modelo`, `tipo_coche`, `potencia`), obteniendo el valor más frecuente (moda) dentro de cada grupo.\n",
    "\n",
    "4. Realizamos varios merges para añadir estas imputaciones al dataframe original y, mediante `bfill(axis=1)`, rellenamos los valores nulos desde la imputación más específica a la más general.\n",
    "\n",
    "5. Tras completar la imputación, eliminamos las columnas auxiliares utilizadas durante el proceso.\n",
    "\n",
    "6. Comprobamos la cantidad de valores nulos tras la imputación y validamos el resultado con un gráfico de barras comparativo que muestra la distribución de `años_coche` antes y después del tratamiento. Observamos que el rango `4-6` ha aumentado más que las demás ya que este agrupaba más del **50 %** de los registros totales sin nulos."
   ]
  },
  {
   "cell_type": "code",
   "execution_count": 56,
   "id": "19d71ca3",
   "metadata": {},
   "outputs": [
    {
     "data": {
      "text/html": [
       "<div>\n",
       "<style scoped>\n",
       "    .dataframe tbody tr th:only-of-type {\n",
       "        vertical-align: middle;\n",
       "    }\n",
       "\n",
       "    .dataframe tbody tr th {\n",
       "        vertical-align: top;\n",
       "    }\n",
       "\n",
       "    .dataframe thead th {\n",
       "        text-align: right;\n",
       "    }\n",
       "</style>\n",
       "<table border=\"1\" class=\"dataframe\">\n",
       "  <thead>\n",
       "    <tr style=\"text-align: right;\">\n",
       "      <th></th>\n",
       "      <th>NULOS</th>\n",
       "      <th>% NULOS</th>\n",
       "      <th>VALORES UNICOS</th>\n",
       "    </tr>\n",
       "  </thead>\n",
       "  <tbody>\n",
       "    <tr>\n",
       "      <th>años_coche</th>\n",
       "      <td>2408</td>\n",
       "      <td>50.0</td>\n",
       "      <td>23</td>\n",
       "    </tr>\n",
       "  </tbody>\n",
       "</table>\n",
       "</div>"
      ],
      "text/plain": [
       "            NULOS  % NULOS  VALORES UNICOS\n",
       "años_coche   2408     50.0              23"
      ]
     },
     "execution_count": 56,
     "metadata": {},
     "output_type": "execute_result"
    }
   ],
   "source": [
    "tabla_nulos(df_bmw).loc[['años_coche']]"
   ]
  },
  {
   "cell_type": "code",
   "execution_count": 57,
   "id": "9f2ba080",
   "metadata": {},
   "outputs": [
    {
     "data": {
      "text/plain": [
       "años_coche\n",
       "1.0     0.001038\n",
       "2.0     0.009550\n",
       "3.0     0.033631\n",
       "4.0     0.131202\n",
       "5.0     0.156529\n",
       "6.0     0.089890\n",
       "7.0     0.023874\n",
       "8.0     0.010588\n",
       "9.0     0.008096\n",
       "10.0    0.008719\n",
       "11.0    0.006020\n",
       "12.0    0.006020\n",
       "13.0    0.005813\n",
       "14.0    0.002076\n",
       "15.0    0.001661\n",
       "16.0    0.000830\n",
       "17.0    0.001661\n",
       "18.0    0.000623\n",
       "19.0    0.000623\n",
       "21.0    0.000830\n",
       "23.0    0.000208\n",
       "24.0    0.000208\n",
       "28.0    0.000208\n",
       "NaN     0.500104\n",
       "Name: proportion, dtype: float64"
      ]
     },
     "execution_count": 57,
     "metadata": {},
     "output_type": "execute_result"
    }
   ],
   "source": [
    "distribuciones['años_coche'].sort_index()"
   ]
  },
  {
   "cell_type": "code",
   "execution_count": 58,
   "id": "a5807801",
   "metadata": {},
   "outputs": [],
   "source": [
    "# Definir los rangos de edad y los nuevos valores\n",
    "rangos = [0, 3, 6, 10, 15, 20, 25, 30]\n",
    "nuevos_valores = ['1-3', '4-6', '7-10', '11-15', '16-20', '21-25', '>25']\n",
    "\n",
    "# Aplicar la transformación con pd.cut\n",
    "df_bmw['años_coche'] = pd.cut(df_bmw['años_coche'], bins=rangos, labels=nuevos_valores, right=True)\n",
    "df_antes['edad_coche'] = pd.cut(df_antes['años_coche'], bins=rangos, labels=nuevos_valores, right=True)"
   ]
  },
  {
   "cell_type": "code",
   "execution_count": 59,
   "id": "b0a24cac",
   "metadata": {},
   "outputs": [],
   "source": [
    "COLUMNS_1 = ['modelo', 'tipo_coche', 'potencia']\n",
    "df_nulls_1 = df_bmw.groupby(COLUMNS_1)['años_coche'].agg(lambda x: pd.Series.mode(x).iloc[0] if not pd.Series.mode(x).empty else np.nan).reset_index()\n",
    "df_nulls_1 = df_nulls_1.dropna(subset=['años_coche'])\n",
    "df_nulls_1.rename(columns={\"años_coche\":\"años_coche_1\"},inplace=True)\n",
    "\n",
    "COLUMNS_2 = ['modelo', 'tipo_coche']\n",
    "df_nulls_2 = df_bmw.groupby(COLUMNS_2)['años_coche'].agg(lambda x: pd.Series.mode(x).iloc[0] if not pd.Series.mode(x).empty else np.nan).reset_index()\n",
    "df_nulls_2 = df_nulls_2.dropna(subset=['años_coche'])\n",
    "df_nulls_2.rename(columns={\"años_coche\":\"años_coche_2\"},inplace=True)\n",
    "\n",
    "COLUMNS_3 = ['modelo']\n",
    "df_nulls_3 = df_bmw.groupby(COLUMNS_3)['años_coche'].agg(lambda x: pd.Series.mode(x).iloc[0] if not pd.Series.mode(x).empty else np.nan).reset_index()\n",
    "df_nulls_3 = df_nulls_3.dropna(subset=['años_coche'])\n",
    "df_nulls_3.rename(columns={\"años_coche\":\"años_coche_3\"},inplace=True)\n",
    "\n",
    "COLUMNS_4 = ['tipo_coche']\n",
    "df_nulls_4 = df_bmw.groupby(COLUMNS_4)['años_coche'].agg(lambda x: pd.Series.mode(x).iloc[0] if not pd.Series.mode(x).empty else np.nan).reset_index()\n",
    "df_nulls_4 = df_nulls_4.dropna(subset=['años_coche'])\n",
    "df_nulls_4.rename(columns={\"años_coche\":\"años_coche_4\"},inplace=True)"
   ]
  },
  {
   "cell_type": "code",
   "execution_count": 60,
   "id": "3d5d5f93",
   "metadata": {},
   "outputs": [],
   "source": [
    "df_bmw = df_bmw.merge(df_nulls_1,how='left',left_on=COLUMNS_1,right_on=COLUMNS_1)\n",
    "df_bmw = df_bmw.merge(df_nulls_2,how='left',left_on=COLUMNS_2,right_on=COLUMNS_2)\n",
    "df_bmw = df_bmw.merge(df_nulls_3,how='left',left_on=COLUMNS_3,right_on=COLUMNS_3)\n",
    "df_bmw = df_bmw.merge(df_nulls_4,how='left',left_on=COLUMNS_4,right_on=COLUMNS_4)\n",
    "\n",
    "df_bmw['años_coche'] = df_bmw[['años_coche','años_coche_1','años_coche_2','años_coche_3','años_coche_4']].bfill(axis=1).iloc[:, 0]\n",
    "\n",
    "df_bmw.drop(columns=['años_coche_1','años_coche_2','años_coche_3','años_coche_4'],inplace=True)"
   ]
  },
  {
   "cell_type": "code",
   "execution_count": 61,
   "id": "f02c9f76",
   "metadata": {},
   "outputs": [
    {
     "data": {
      "text/html": [
       "<div>\n",
       "<style scoped>\n",
       "    .dataframe tbody tr th:only-of-type {\n",
       "        vertical-align: middle;\n",
       "    }\n",
       "\n",
       "    .dataframe tbody tr th {\n",
       "        vertical-align: top;\n",
       "    }\n",
       "\n",
       "    .dataframe thead th {\n",
       "        text-align: right;\n",
       "    }\n",
       "</style>\n",
       "<table border=\"1\" class=\"dataframe\">\n",
       "  <thead>\n",
       "    <tr style=\"text-align: right;\">\n",
       "      <th></th>\n",
       "      <th>NULOS</th>\n",
       "      <th>% NULOS</th>\n",
       "      <th>VALORES UNICOS</th>\n",
       "    </tr>\n",
       "  </thead>\n",
       "  <tbody>\n",
       "    <tr>\n",
       "      <th>años_coche</th>\n",
       "      <td>0</td>\n",
       "      <td>0.0</td>\n",
       "      <td>7</td>\n",
       "    </tr>\n",
       "  </tbody>\n",
       "</table>\n",
       "</div>"
      ],
      "text/plain": [
       "            NULOS  % NULOS  VALORES UNICOS\n",
       "años_coche      0      0.0               7"
      ]
     },
     "execution_count": 61,
     "metadata": {},
     "output_type": "execute_result"
    }
   ],
   "source": [
    "tabla_nulos(df_bmw).loc[['años_coche']]"
   ]
  },
  {
   "cell_type": "code",
   "execution_count": 62,
   "id": "f020c03f",
   "metadata": {},
   "outputs": [
    {
     "data": {
      "application/vnd.plotly.v1+json": {
       "config": {
        "plotlyServerURL": "https://plot.ly"
       },
       "data": [
        {
         "marker": {
          "color": "#373485"
         },
         "name": "Antes",
         "opacity": 1,
         "text": {
          "bdata": "AAAAAACgakAAAAAAAIycQAAAAAAAIG9AAAAAAAAAWkAAAAAAAAAyQAAAAAAAABhAAAAAAAAA8D8=",
          "dtype": "f8"
         },
         "textposition": "outside",
         "type": "bar",
         "x": [
          "1-3",
          "4-6",
          "7-10",
          "11-15",
          "16-20",
          "21-25",
          ">25"
         ],
         "y": {
          "bdata": "1QAjB/kAaAASAAYAAQA=",
          "dtype": "i2"
         }
        },
        {
         "marker": {
          "color": "#c52b30"
         },
         "name": "Después",
         "opacity": 1,
         "text": {
          "bdata": "AAAAAADAdUAAAAAAAGiuQAAAAAAA8HRAAAAAAAAgaEAAAAAAAABEQAAAAAAAABxAAAAAAAAA8D8=",
          "dtype": "f8"
         },
         "textposition": "outside",
         "type": "bar",
         "x": [
          "1-3",
          "4-6",
          "7-10",
          "11-15",
          "16-20",
          "21-25",
          ">25"
         ],
         "y": {
          "bdata": "XAE0D08BwQAoAAcAAQA=",
          "dtype": "i2"
         }
        }
       ],
       "layout": {
        "barmode": "group",
        "height": 470,
        "paper_bgcolor": "#e6e6e7",
        "plot_bgcolor": "#e6e6e7",
        "template": {
         "data": {
          "bar": [
           {
            "error_x": {
             "color": "#2a3f5f"
            },
            "error_y": {
             "color": "#2a3f5f"
            },
            "marker": {
             "line": {
              "color": "white",
              "width": 0.5
             },
             "pattern": {
              "fillmode": "overlay",
              "size": 10,
              "solidity": 0.2
             }
            },
            "type": "bar"
           }
          ],
          "barpolar": [
           {
            "marker": {
             "line": {
              "color": "white",
              "width": 0.5
             },
             "pattern": {
              "fillmode": "overlay",
              "size": 10,
              "solidity": 0.2
             }
            },
            "type": "barpolar"
           }
          ],
          "carpet": [
           {
            "aaxis": {
             "endlinecolor": "#2a3f5f",
             "gridcolor": "#C8D4E3",
             "linecolor": "#C8D4E3",
             "minorgridcolor": "#C8D4E3",
             "startlinecolor": "#2a3f5f"
            },
            "baxis": {
             "endlinecolor": "#2a3f5f",
             "gridcolor": "#C8D4E3",
             "linecolor": "#C8D4E3",
             "minorgridcolor": "#C8D4E3",
             "startlinecolor": "#2a3f5f"
            },
            "type": "carpet"
           }
          ],
          "choropleth": [
           {
            "colorbar": {
             "outlinewidth": 0,
             "ticks": ""
            },
            "type": "choropleth"
           }
          ],
          "contour": [
           {
            "colorbar": {
             "outlinewidth": 0,
             "ticks": ""
            },
            "colorscale": [
             [
              0,
              "#0d0887"
             ],
             [
              0.1111111111111111,
              "#46039f"
             ],
             [
              0.2222222222222222,
              "#7201a8"
             ],
             [
              0.3333333333333333,
              "#9c179e"
             ],
             [
              0.4444444444444444,
              "#bd3786"
             ],
             [
              0.5555555555555556,
              "#d8576b"
             ],
             [
              0.6666666666666666,
              "#ed7953"
             ],
             [
              0.7777777777777778,
              "#fb9f3a"
             ],
             [
              0.8888888888888888,
              "#fdca26"
             ],
             [
              1,
              "#f0f921"
             ]
            ],
            "type": "contour"
           }
          ],
          "contourcarpet": [
           {
            "colorbar": {
             "outlinewidth": 0,
             "ticks": ""
            },
            "type": "contourcarpet"
           }
          ],
          "heatmap": [
           {
            "colorbar": {
             "outlinewidth": 0,
             "ticks": ""
            },
            "colorscale": [
             [
              0,
              "#0d0887"
             ],
             [
              0.1111111111111111,
              "#46039f"
             ],
             [
              0.2222222222222222,
              "#7201a8"
             ],
             [
              0.3333333333333333,
              "#9c179e"
             ],
             [
              0.4444444444444444,
              "#bd3786"
             ],
             [
              0.5555555555555556,
              "#d8576b"
             ],
             [
              0.6666666666666666,
              "#ed7953"
             ],
             [
              0.7777777777777778,
              "#fb9f3a"
             ],
             [
              0.8888888888888888,
              "#fdca26"
             ],
             [
              1,
              "#f0f921"
             ]
            ],
            "type": "heatmap"
           }
          ],
          "histogram": [
           {
            "marker": {
             "pattern": {
              "fillmode": "overlay",
              "size": 10,
              "solidity": 0.2
             }
            },
            "type": "histogram"
           }
          ],
          "histogram2d": [
           {
            "colorbar": {
             "outlinewidth": 0,
             "ticks": ""
            },
            "colorscale": [
             [
              0,
              "#0d0887"
             ],
             [
              0.1111111111111111,
              "#46039f"
             ],
             [
              0.2222222222222222,
              "#7201a8"
             ],
             [
              0.3333333333333333,
              "#9c179e"
             ],
             [
              0.4444444444444444,
              "#bd3786"
             ],
             [
              0.5555555555555556,
              "#d8576b"
             ],
             [
              0.6666666666666666,
              "#ed7953"
             ],
             [
              0.7777777777777778,
              "#fb9f3a"
             ],
             [
              0.8888888888888888,
              "#fdca26"
             ],
             [
              1,
              "#f0f921"
             ]
            ],
            "type": "histogram2d"
           }
          ],
          "histogram2dcontour": [
           {
            "colorbar": {
             "outlinewidth": 0,
             "ticks": ""
            },
            "colorscale": [
             [
              0,
              "#0d0887"
             ],
             [
              0.1111111111111111,
              "#46039f"
             ],
             [
              0.2222222222222222,
              "#7201a8"
             ],
             [
              0.3333333333333333,
              "#9c179e"
             ],
             [
              0.4444444444444444,
              "#bd3786"
             ],
             [
              0.5555555555555556,
              "#d8576b"
             ],
             [
              0.6666666666666666,
              "#ed7953"
             ],
             [
              0.7777777777777778,
              "#fb9f3a"
             ],
             [
              0.8888888888888888,
              "#fdca26"
             ],
             [
              1,
              "#f0f921"
             ]
            ],
            "type": "histogram2dcontour"
           }
          ],
          "mesh3d": [
           {
            "colorbar": {
             "outlinewidth": 0,
             "ticks": ""
            },
            "type": "mesh3d"
           }
          ],
          "parcoords": [
           {
            "line": {
             "colorbar": {
              "outlinewidth": 0,
              "ticks": ""
             }
            },
            "type": "parcoords"
           }
          ],
          "pie": [
           {
            "automargin": true,
            "type": "pie"
           }
          ],
          "scatter": [
           {
            "fillpattern": {
             "fillmode": "overlay",
             "size": 10,
             "solidity": 0.2
            },
            "type": "scatter"
           }
          ],
          "scatter3d": [
           {
            "line": {
             "colorbar": {
              "outlinewidth": 0,
              "ticks": ""
             }
            },
            "marker": {
             "colorbar": {
              "outlinewidth": 0,
              "ticks": ""
             }
            },
            "type": "scatter3d"
           }
          ],
          "scattercarpet": [
           {
            "marker": {
             "colorbar": {
              "outlinewidth": 0,
              "ticks": ""
             }
            },
            "type": "scattercarpet"
           }
          ],
          "scattergeo": [
           {
            "marker": {
             "colorbar": {
              "outlinewidth": 0,
              "ticks": ""
             }
            },
            "type": "scattergeo"
           }
          ],
          "scattergl": [
           {
            "marker": {
             "colorbar": {
              "outlinewidth": 0,
              "ticks": ""
             }
            },
            "type": "scattergl"
           }
          ],
          "scattermap": [
           {
            "marker": {
             "colorbar": {
              "outlinewidth": 0,
              "ticks": ""
             }
            },
            "type": "scattermap"
           }
          ],
          "scattermapbox": [
           {
            "marker": {
             "colorbar": {
              "outlinewidth": 0,
              "ticks": ""
             }
            },
            "type": "scattermapbox"
           }
          ],
          "scatterpolar": [
           {
            "marker": {
             "colorbar": {
              "outlinewidth": 0,
              "ticks": ""
             }
            },
            "type": "scatterpolar"
           }
          ],
          "scatterpolargl": [
           {
            "marker": {
             "colorbar": {
              "outlinewidth": 0,
              "ticks": ""
             }
            },
            "type": "scatterpolargl"
           }
          ],
          "scatterternary": [
           {
            "marker": {
             "colorbar": {
              "outlinewidth": 0,
              "ticks": ""
             }
            },
            "type": "scatterternary"
           }
          ],
          "surface": [
           {
            "colorbar": {
             "outlinewidth": 0,
             "ticks": ""
            },
            "colorscale": [
             [
              0,
              "#0d0887"
             ],
             [
              0.1111111111111111,
              "#46039f"
             ],
             [
              0.2222222222222222,
              "#7201a8"
             ],
             [
              0.3333333333333333,
              "#9c179e"
             ],
             [
              0.4444444444444444,
              "#bd3786"
             ],
             [
              0.5555555555555556,
              "#d8576b"
             ],
             [
              0.6666666666666666,
              "#ed7953"
             ],
             [
              0.7777777777777778,
              "#fb9f3a"
             ],
             [
              0.8888888888888888,
              "#fdca26"
             ],
             [
              1,
              "#f0f921"
             ]
            ],
            "type": "surface"
           }
          ],
          "table": [
           {
            "cells": {
             "fill": {
              "color": "#EBF0F8"
             },
             "line": {
              "color": "white"
             }
            },
            "header": {
             "fill": {
              "color": "#C8D4E3"
             },
             "line": {
              "color": "white"
             }
            },
            "type": "table"
           }
          ]
         },
         "layout": {
          "annotationdefaults": {
           "arrowcolor": "#2a3f5f",
           "arrowhead": 0,
           "arrowwidth": 1
          },
          "autotypenumbers": "strict",
          "coloraxis": {
           "colorbar": {
            "outlinewidth": 0,
            "ticks": ""
           }
          },
          "colorscale": {
           "diverging": [
            [
             0,
             "#8e0152"
            ],
            [
             0.1,
             "#c51b7d"
            ],
            [
             0.2,
             "#de77ae"
            ],
            [
             0.3,
             "#f1b6da"
            ],
            [
             0.4,
             "#fde0ef"
            ],
            [
             0.5,
             "#f7f7f7"
            ],
            [
             0.6,
             "#e6f5d0"
            ],
            [
             0.7,
             "#b8e186"
            ],
            [
             0.8,
             "#7fbc41"
            ],
            [
             0.9,
             "#4d9221"
            ],
            [
             1,
             "#276419"
            ]
           ],
           "sequential": [
            [
             0,
             "#0d0887"
            ],
            [
             0.1111111111111111,
             "#46039f"
            ],
            [
             0.2222222222222222,
             "#7201a8"
            ],
            [
             0.3333333333333333,
             "#9c179e"
            ],
            [
             0.4444444444444444,
             "#bd3786"
            ],
            [
             0.5555555555555556,
             "#d8576b"
            ],
            [
             0.6666666666666666,
             "#ed7953"
            ],
            [
             0.7777777777777778,
             "#fb9f3a"
            ],
            [
             0.8888888888888888,
             "#fdca26"
            ],
            [
             1,
             "#f0f921"
            ]
           ],
           "sequentialminus": [
            [
             0,
             "#0d0887"
            ],
            [
             0.1111111111111111,
             "#46039f"
            ],
            [
             0.2222222222222222,
             "#7201a8"
            ],
            [
             0.3333333333333333,
             "#9c179e"
            ],
            [
             0.4444444444444444,
             "#bd3786"
            ],
            [
             0.5555555555555556,
             "#d8576b"
            ],
            [
             0.6666666666666666,
             "#ed7953"
            ],
            [
             0.7777777777777778,
             "#fb9f3a"
            ],
            [
             0.8888888888888888,
             "#fdca26"
            ],
            [
             1,
             "#f0f921"
            ]
           ]
          },
          "colorway": [
           "#636efa",
           "#EF553B",
           "#00cc96",
           "#ab63fa",
           "#FFA15A",
           "#19d3f3",
           "#FF6692",
           "#B6E880",
           "#FF97FF",
           "#FECB52"
          ],
          "font": {
           "color": "#2a3f5f"
          },
          "geo": {
           "bgcolor": "white",
           "lakecolor": "white",
           "landcolor": "white",
           "showlakes": true,
           "showland": true,
           "subunitcolor": "#C8D4E3"
          },
          "hoverlabel": {
           "align": "left"
          },
          "hovermode": "closest",
          "mapbox": {
           "style": "light"
          },
          "paper_bgcolor": "white",
          "plot_bgcolor": "white",
          "polar": {
           "angularaxis": {
            "gridcolor": "#EBF0F8",
            "linecolor": "#EBF0F8",
            "ticks": ""
           },
           "bgcolor": "white",
           "radialaxis": {
            "gridcolor": "#EBF0F8",
            "linecolor": "#EBF0F8",
            "ticks": ""
           }
          },
          "scene": {
           "xaxis": {
            "backgroundcolor": "white",
            "gridcolor": "#DFE8F3",
            "gridwidth": 2,
            "linecolor": "#EBF0F8",
            "showbackground": true,
            "ticks": "",
            "zerolinecolor": "#EBF0F8"
           },
           "yaxis": {
            "backgroundcolor": "white",
            "gridcolor": "#DFE8F3",
            "gridwidth": 2,
            "linecolor": "#EBF0F8",
            "showbackground": true,
            "ticks": "",
            "zerolinecolor": "#EBF0F8"
           },
           "zaxis": {
            "backgroundcolor": "white",
            "gridcolor": "#DFE8F3",
            "gridwidth": 2,
            "linecolor": "#EBF0F8",
            "showbackground": true,
            "ticks": "",
            "zerolinecolor": "#EBF0F8"
           }
          },
          "shapedefaults": {
           "line": {
            "color": "#2a3f5f"
           }
          },
          "ternary": {
           "aaxis": {
            "gridcolor": "#DFE8F3",
            "linecolor": "#A2B1C6",
            "ticks": ""
           },
           "baxis": {
            "gridcolor": "#DFE8F3",
            "linecolor": "#A2B1C6",
            "ticks": ""
           },
           "bgcolor": "white",
           "caxis": {
            "gridcolor": "#DFE8F3",
            "linecolor": "#A2B1C6",
            "ticks": ""
           }
          },
          "title": {
           "x": 0.05
          },
          "xaxis": {
           "automargin": true,
           "gridcolor": "#EBF0F8",
           "linecolor": "#EBF0F8",
           "ticks": "",
           "title": {
            "standoff": 15
           },
           "zerolinecolor": "#EBF0F8",
           "zerolinewidth": 2
          },
          "yaxis": {
           "automargin": true,
           "gridcolor": "#EBF0F8",
           "linecolor": "#EBF0F8",
           "ticks": "",
           "title": {
            "standoff": 15
           },
           "zerolinecolor": "#EBF0F8",
           "zerolinewidth": 2
          }
         }
        },
        "title": {
         "text": "Distribución de AÑOS DE COCHE antes y después de la imputación"
        },
        "width": 1000,
        "xaxis": {
         "tickfont": {
          "color": "black"
         },
         "title": {
          "standoff": 20,
          "text": "Categorías de edad del coche"
         }
        },
        "yaxis": {
         "title": {
          "text": "Frecuencia"
         }
        }
       }
      }
     },
     "metadata": {},
     "output_type": "display_data"
    }
   ],
   "source": [
    "# Valores agrupados por edad/años de coche (ordenados)\n",
    "antes_vals = df_antes['edad_coche'].value_counts().sort_index()\n",
    "despues_vals = df_bmw['años_coche'].value_counts().sort_index()\n",
    "\n",
    "# Convertir índices en cadenas si es necesario (para evitar problemas en el eje X)\n",
    "x_labels = [str(i) for i in antes_vals.index]\n",
    "\n",
    "fig = go.Figure()\n",
    "\n",
    "# Añadir barras para Antes\n",
    "fig.add_trace(go.Bar(\n",
    "    x=x_labels,\n",
    "    y=antes_vals.values,\n",
    "    name='Antes',\n",
    "    marker_color='#373485',\n",
    "    text=antes_vals.values,\n",
    "    textposition='outside',\n",
    "    opacity=1,\n",
    "))\n",
    "\n",
    "# Añadir barras para Después\n",
    "fig.add_trace(go.Bar(\n",
    "    x=x_labels,\n",
    "    y=despues_vals.reindex(antes_vals.index, fill_value=0).values,\n",
    "    name='Después',\n",
    "    marker_color='#c52b30',\n",
    "    text=despues_vals.reindex(antes_vals.index, fill_value=0).values,\n",
    "    textposition='outside',\n",
    "    opacity=1,\n",
    "))\n",
    "\n",
    "# Layout\n",
    "fig.update_layout(\n",
    "    title=\"Distribución de AÑOS DE COCHE antes y después de la imputación\",\n",
    "    xaxis_title=\"Categorías de edad del coche\",\n",
    "    yaxis_title=\"Frecuencia\",\n",
    "    barmode='group',\n",
    "    template='plotly_white',\n",
    "    width=1000,\n",
    "    height=470,\n",
    "    plot_bgcolor='#e6e6e7',\n",
    "    paper_bgcolor='#e6e6e7',\n",
    "    xaxis=dict(\n",
    "        tickfont=dict(color='black'),\n",
    "        title_standoff=20\n",
    "    )\n",
    ")\n",
    "\n",
    "fig.show()"
   ]
  },
  {
   "cell_type": "markdown",
   "id": "bafe1601",
   "metadata": {},
   "source": [
    "### **COLUMNA AIRE ACONDICIONADO**"
   ]
  },
  {
   "cell_type": "markdown",
   "id": "ebe8b3b1",
   "metadata": {},
   "source": [
    "La presencia de aire acondicionado en un vehículo puede tener un impacto directo en su valoración económica, por lo que resulta relevante conservar esta variable. Sin embargo, la columna presenta algunos valores nulos que deben ser tratados para no afectar al modelo predictivo.\n",
    "\n",
    "El proceso realizado ha sido el siguiente:\n",
    "\n",
    "1. Inspeccionamos los valores nulos de la columna `aire_acondicionado` y analizamos su distribución para determinar la proporción de datos ausentes y valorar la necesidad de imputación.\n",
    "\n",
    "2. Para completar los valores nulos, creamos varias tablas auxiliares agrupadas por diferentes combinaciones de variables (`modelo`, `años_coche`, `potencia`, `tipo_coche`), con el objetivo de obtener el valor más frecuente (moda) en cada grupo.\n",
    "\n",
    "3. En los casos en los que no se pudo obtener un valor representativo a partir del agrupamiento, utilizamos la moda global de la columna como último recurso.\n",
    "\n",
    "4. Realizamos varios merges para añadir estas imputaciones al dataframe original y aplicamos `bfill(axis=1)` para rellenar los valores nulos con la imputación más específica disponible en cada fila.\n",
    "\n",
    "5. Una vez finalizada la imputación, eliminamos las columnas auxiliares utilizadas durante el proceso.\n",
    "\n",
    "6. Finalmente, validamos el tratamiento comprobando los valores nulos restantes y generamos un gráfico comparativo de barras que muestra la distribución de `aire_acondicionado` antes y después de la imputación."
   ]
  },
  {
   "cell_type": "code",
   "execution_count": 63,
   "id": "a6436f8d",
   "metadata": {},
   "outputs": [
    {
     "data": {
      "text/html": [
       "<div>\n",
       "<style scoped>\n",
       "    .dataframe tbody tr th:only-of-type {\n",
       "        vertical-align: middle;\n",
       "    }\n",
       "\n",
       "    .dataframe tbody tr th {\n",
       "        vertical-align: top;\n",
       "    }\n",
       "\n",
       "    .dataframe thead th {\n",
       "        text-align: right;\n",
       "    }\n",
       "</style>\n",
       "<table border=\"1\" class=\"dataframe\">\n",
       "  <thead>\n",
       "    <tr style=\"text-align: right;\">\n",
       "      <th></th>\n",
       "      <th>NULOS</th>\n",
       "      <th>% NULOS</th>\n",
       "      <th>VALORES UNICOS</th>\n",
       "    </tr>\n",
       "  </thead>\n",
       "  <tbody>\n",
       "    <tr>\n",
       "      <th>aire_acondicionado</th>\n",
       "      <td>482</td>\n",
       "      <td>10.008306</td>\n",
       "      <td>2</td>\n",
       "    </tr>\n",
       "  </tbody>\n",
       "</table>\n",
       "</div>"
      ],
      "text/plain": [
       "                    NULOS    % NULOS  VALORES UNICOS\n",
       "aire_acondicionado    482  10.008306               2"
      ]
     },
     "execution_count": 63,
     "metadata": {},
     "output_type": "execute_result"
    }
   ],
   "source": [
    "tabla_nulos(df_bmw).loc[['aire_acondicionado']]"
   ]
  },
  {
   "cell_type": "code",
   "execution_count": 64,
   "id": "b1df5d91",
   "metadata": {},
   "outputs": [
    {
     "data": {
      "text/plain": [
       "aire_acondicionado\n",
       "True     0.715591\n",
       "False    0.184347\n",
       "NaN      0.100062\n",
       "Name: proportion, dtype: float64"
      ]
     },
     "execution_count": 64,
     "metadata": {},
     "output_type": "execute_result"
    }
   ],
   "source": [
    "distribuciones['aire_acondicionado']"
   ]
  },
  {
   "cell_type": "code",
   "execution_count": 65,
   "id": "7a160280",
   "metadata": {},
   "outputs": [],
   "source": [
    "COLUMNS_1 = ['modelo','años_coche']\n",
    "df_nulls_1 = df_bmw.groupby(COLUMNS_1)['aire_acondicionado'].agg(lambda x: pd.Series.mode(x).iloc[0] if not pd.Series.mode(x).empty else np.nan).reset_index()\n",
    "df_nulls_1 = df_nulls_1.dropna(subset=['aire_acondicionado'])\n",
    "df_nulls_1.rename(columns={\"aire_acondicionado\":\"aire_acondicionado_1\"},inplace=True)\n",
    "\n",
    "COLUMNS_2 = ['modelo','potencia']\n",
    "df_nulls_2 = df_bmw.groupby(COLUMNS_2)['aire_acondicionado'].agg(lambda x: pd.Series.mode(x).iloc[0] if not pd.Series.mode(x).empty else np.nan).reset_index()\n",
    "df_nulls_2 = df_nulls_2.dropna(subset=['aire_acondicionado'])\n",
    "df_nulls_2.rename(columns={\"aire_acondicionado\":\"aire_acondicionado_2\"},inplace=True)\n",
    "\n",
    "COLUMNS_3 = ['modelo']\n",
    "df_nulls_3 = df_bmw.groupby(COLUMNS_3)['aire_acondicionado'].agg(lambda x: pd.Series.mode(x).iloc[0] if not pd.Series.mode(x).empty else np.nan).reset_index()\n",
    "df_nulls_3 = df_nulls_3.dropna(subset=['aire_acondicionado'])\n",
    "df_nulls_3.rename(columns={\"aire_acondicionado\":\"aire_acondicionado_3\"},inplace=True)\n",
    "\n",
    "COLUMNS_4 = ['tipo_coche']\n",
    "moda_global = df_bmw['aire_acondicionado'].mode().iloc[0]\n",
    "df_nulls_4 = df_bmw[df_bmw['aire_acondicionado'].isna()][['tipo_coche']].dropna().drop_duplicates()\n",
    "df_nulls_4['aire_acondicionado_4'] = moda_global"
   ]
  },
  {
   "cell_type": "code",
   "execution_count": 66,
   "id": "eb1f70f7",
   "metadata": {},
   "outputs": [],
   "source": [
    "df_bmw = df_bmw.merge(df_nulls_1,how='left',left_on=COLUMNS_1,right_on=COLUMNS_1)\n",
    "df_bmw = df_bmw.merge(df_nulls_2,how='left',left_on=COLUMNS_2,right_on=COLUMNS_2)\n",
    "df_bmw = df_bmw.merge(df_nulls_3,how='left',left_on=COLUMNS_3,right_on=COLUMNS_3)\n",
    "df_bmw = df_bmw.merge(df_nulls_4,how='left',left_on=COLUMNS_4,right_on=COLUMNS_4)\n",
    "\n",
    "df_bmw['aire_acondicionado'] = df_bmw[['aire_acondicionado','aire_acondicionado_1','aire_acondicionado_2','aire_acondicionado_3','aire_acondicionado_4']].bfill(axis=1).iloc[:, 0]\n",
    "\n",
    "df_bmw.drop(columns=['aire_acondicionado_1','aire_acondicionado_2','aire_acondicionado_3','aire_acondicionado_4'],inplace=True)"
   ]
  },
  {
   "cell_type": "code",
   "execution_count": 67,
   "id": "1dd9d250",
   "metadata": {},
   "outputs": [
    {
     "data": {
      "text/html": [
       "<div>\n",
       "<style scoped>\n",
       "    .dataframe tbody tr th:only-of-type {\n",
       "        vertical-align: middle;\n",
       "    }\n",
       "\n",
       "    .dataframe tbody tr th {\n",
       "        vertical-align: top;\n",
       "    }\n",
       "\n",
       "    .dataframe thead th {\n",
       "        text-align: right;\n",
       "    }\n",
       "</style>\n",
       "<table border=\"1\" class=\"dataframe\">\n",
       "  <thead>\n",
       "    <tr style=\"text-align: right;\">\n",
       "      <th></th>\n",
       "      <th>NULOS</th>\n",
       "      <th>% NULOS</th>\n",
       "      <th>VALORES UNICOS</th>\n",
       "    </tr>\n",
       "  </thead>\n",
       "  <tbody>\n",
       "    <tr>\n",
       "      <th>aire_acondicionado</th>\n",
       "      <td>0</td>\n",
       "      <td>0.0</td>\n",
       "      <td>2</td>\n",
       "    </tr>\n",
       "  </tbody>\n",
       "</table>\n",
       "</div>"
      ],
      "text/plain": [
       "                    NULOS  % NULOS  VALORES UNICOS\n",
       "aire_acondicionado      0      0.0               2"
      ]
     },
     "execution_count": 67,
     "metadata": {},
     "output_type": "execute_result"
    }
   ],
   "source": [
    "tabla_nulos(df_bmw).loc[['aire_acondicionado']]"
   ]
  },
  {
   "cell_type": "code",
   "execution_count": 68,
   "id": "c1a0c4d6",
   "metadata": {},
   "outputs": [
    {
     "data": {
      "application/vnd.plotly.v1+json": {
       "config": {
        "plotlyServerURL": "https://plot.ly"
       },
       "data": [
        {
         "marker": {
          "color": "#373485"
         },
         "name": "Antes",
         "opacity": 1,
         "text": {
          "bdata": "AAAAAADgi0AAAAAAABKrQA==",
          "dtype": "f8"
         },
         "textposition": "outside",
         "type": "bar",
         "x": [
          "No",
          "Sí"
         ],
         "y": {
          "bdata": "fAOJDQ==",
          "dtype": "i2"
         }
        },
        {
         "marker": {
          "color": "#c52b30"
         },
         "name": "Después",
         "opacity": 1,
         "text": {
          "bdata": "AAAAAADIjEAAAAAAAG6uQA==",
          "dtype": "f8"
         },
         "textposition": "outside",
         "type": "bar",
         "x": [
          "No",
          "Sí"
         ],
         "y": {
          "bdata": "mQM3Dw==",
          "dtype": "i2"
         }
        }
       ],
       "layout": {
        "barmode": "group",
        "height": 470,
        "paper_bgcolor": "#e6e6e7",
        "plot_bgcolor": "#e6e6e7",
        "template": {
         "data": {
          "bar": [
           {
            "error_x": {
             "color": "#2a3f5f"
            },
            "error_y": {
             "color": "#2a3f5f"
            },
            "marker": {
             "line": {
              "color": "white",
              "width": 0.5
             },
             "pattern": {
              "fillmode": "overlay",
              "size": 10,
              "solidity": 0.2
             }
            },
            "type": "bar"
           }
          ],
          "barpolar": [
           {
            "marker": {
             "line": {
              "color": "white",
              "width": 0.5
             },
             "pattern": {
              "fillmode": "overlay",
              "size": 10,
              "solidity": 0.2
             }
            },
            "type": "barpolar"
           }
          ],
          "carpet": [
           {
            "aaxis": {
             "endlinecolor": "#2a3f5f",
             "gridcolor": "#C8D4E3",
             "linecolor": "#C8D4E3",
             "minorgridcolor": "#C8D4E3",
             "startlinecolor": "#2a3f5f"
            },
            "baxis": {
             "endlinecolor": "#2a3f5f",
             "gridcolor": "#C8D4E3",
             "linecolor": "#C8D4E3",
             "minorgridcolor": "#C8D4E3",
             "startlinecolor": "#2a3f5f"
            },
            "type": "carpet"
           }
          ],
          "choropleth": [
           {
            "colorbar": {
             "outlinewidth": 0,
             "ticks": ""
            },
            "type": "choropleth"
           }
          ],
          "contour": [
           {
            "colorbar": {
             "outlinewidth": 0,
             "ticks": ""
            },
            "colorscale": [
             [
              0,
              "#0d0887"
             ],
             [
              0.1111111111111111,
              "#46039f"
             ],
             [
              0.2222222222222222,
              "#7201a8"
             ],
             [
              0.3333333333333333,
              "#9c179e"
             ],
             [
              0.4444444444444444,
              "#bd3786"
             ],
             [
              0.5555555555555556,
              "#d8576b"
             ],
             [
              0.6666666666666666,
              "#ed7953"
             ],
             [
              0.7777777777777778,
              "#fb9f3a"
             ],
             [
              0.8888888888888888,
              "#fdca26"
             ],
             [
              1,
              "#f0f921"
             ]
            ],
            "type": "contour"
           }
          ],
          "contourcarpet": [
           {
            "colorbar": {
             "outlinewidth": 0,
             "ticks": ""
            },
            "type": "contourcarpet"
           }
          ],
          "heatmap": [
           {
            "colorbar": {
             "outlinewidth": 0,
             "ticks": ""
            },
            "colorscale": [
             [
              0,
              "#0d0887"
             ],
             [
              0.1111111111111111,
              "#46039f"
             ],
             [
              0.2222222222222222,
              "#7201a8"
             ],
             [
              0.3333333333333333,
              "#9c179e"
             ],
             [
              0.4444444444444444,
              "#bd3786"
             ],
             [
              0.5555555555555556,
              "#d8576b"
             ],
             [
              0.6666666666666666,
              "#ed7953"
             ],
             [
              0.7777777777777778,
              "#fb9f3a"
             ],
             [
              0.8888888888888888,
              "#fdca26"
             ],
             [
              1,
              "#f0f921"
             ]
            ],
            "type": "heatmap"
           }
          ],
          "histogram": [
           {
            "marker": {
             "pattern": {
              "fillmode": "overlay",
              "size": 10,
              "solidity": 0.2
             }
            },
            "type": "histogram"
           }
          ],
          "histogram2d": [
           {
            "colorbar": {
             "outlinewidth": 0,
             "ticks": ""
            },
            "colorscale": [
             [
              0,
              "#0d0887"
             ],
             [
              0.1111111111111111,
              "#46039f"
             ],
             [
              0.2222222222222222,
              "#7201a8"
             ],
             [
              0.3333333333333333,
              "#9c179e"
             ],
             [
              0.4444444444444444,
              "#bd3786"
             ],
             [
              0.5555555555555556,
              "#d8576b"
             ],
             [
              0.6666666666666666,
              "#ed7953"
             ],
             [
              0.7777777777777778,
              "#fb9f3a"
             ],
             [
              0.8888888888888888,
              "#fdca26"
             ],
             [
              1,
              "#f0f921"
             ]
            ],
            "type": "histogram2d"
           }
          ],
          "histogram2dcontour": [
           {
            "colorbar": {
             "outlinewidth": 0,
             "ticks": ""
            },
            "colorscale": [
             [
              0,
              "#0d0887"
             ],
             [
              0.1111111111111111,
              "#46039f"
             ],
             [
              0.2222222222222222,
              "#7201a8"
             ],
             [
              0.3333333333333333,
              "#9c179e"
             ],
             [
              0.4444444444444444,
              "#bd3786"
             ],
             [
              0.5555555555555556,
              "#d8576b"
             ],
             [
              0.6666666666666666,
              "#ed7953"
             ],
             [
              0.7777777777777778,
              "#fb9f3a"
             ],
             [
              0.8888888888888888,
              "#fdca26"
             ],
             [
              1,
              "#f0f921"
             ]
            ],
            "type": "histogram2dcontour"
           }
          ],
          "mesh3d": [
           {
            "colorbar": {
             "outlinewidth": 0,
             "ticks": ""
            },
            "type": "mesh3d"
           }
          ],
          "parcoords": [
           {
            "line": {
             "colorbar": {
              "outlinewidth": 0,
              "ticks": ""
             }
            },
            "type": "parcoords"
           }
          ],
          "pie": [
           {
            "automargin": true,
            "type": "pie"
           }
          ],
          "scatter": [
           {
            "fillpattern": {
             "fillmode": "overlay",
             "size": 10,
             "solidity": 0.2
            },
            "type": "scatter"
           }
          ],
          "scatter3d": [
           {
            "line": {
             "colorbar": {
              "outlinewidth": 0,
              "ticks": ""
             }
            },
            "marker": {
             "colorbar": {
              "outlinewidth": 0,
              "ticks": ""
             }
            },
            "type": "scatter3d"
           }
          ],
          "scattercarpet": [
           {
            "marker": {
             "colorbar": {
              "outlinewidth": 0,
              "ticks": ""
             }
            },
            "type": "scattercarpet"
           }
          ],
          "scattergeo": [
           {
            "marker": {
             "colorbar": {
              "outlinewidth": 0,
              "ticks": ""
             }
            },
            "type": "scattergeo"
           }
          ],
          "scattergl": [
           {
            "marker": {
             "colorbar": {
              "outlinewidth": 0,
              "ticks": ""
             }
            },
            "type": "scattergl"
           }
          ],
          "scattermap": [
           {
            "marker": {
             "colorbar": {
              "outlinewidth": 0,
              "ticks": ""
             }
            },
            "type": "scattermap"
           }
          ],
          "scattermapbox": [
           {
            "marker": {
             "colorbar": {
              "outlinewidth": 0,
              "ticks": ""
             }
            },
            "type": "scattermapbox"
           }
          ],
          "scatterpolar": [
           {
            "marker": {
             "colorbar": {
              "outlinewidth": 0,
              "ticks": ""
             }
            },
            "type": "scatterpolar"
           }
          ],
          "scatterpolargl": [
           {
            "marker": {
             "colorbar": {
              "outlinewidth": 0,
              "ticks": ""
             }
            },
            "type": "scatterpolargl"
           }
          ],
          "scatterternary": [
           {
            "marker": {
             "colorbar": {
              "outlinewidth": 0,
              "ticks": ""
             }
            },
            "type": "scatterternary"
           }
          ],
          "surface": [
           {
            "colorbar": {
             "outlinewidth": 0,
             "ticks": ""
            },
            "colorscale": [
             [
              0,
              "#0d0887"
             ],
             [
              0.1111111111111111,
              "#46039f"
             ],
             [
              0.2222222222222222,
              "#7201a8"
             ],
             [
              0.3333333333333333,
              "#9c179e"
             ],
             [
              0.4444444444444444,
              "#bd3786"
             ],
             [
              0.5555555555555556,
              "#d8576b"
             ],
             [
              0.6666666666666666,
              "#ed7953"
             ],
             [
              0.7777777777777778,
              "#fb9f3a"
             ],
             [
              0.8888888888888888,
              "#fdca26"
             ],
             [
              1,
              "#f0f921"
             ]
            ],
            "type": "surface"
           }
          ],
          "table": [
           {
            "cells": {
             "fill": {
              "color": "#EBF0F8"
             },
             "line": {
              "color": "white"
             }
            },
            "header": {
             "fill": {
              "color": "#C8D4E3"
             },
             "line": {
              "color": "white"
             }
            },
            "type": "table"
           }
          ]
         },
         "layout": {
          "annotationdefaults": {
           "arrowcolor": "#2a3f5f",
           "arrowhead": 0,
           "arrowwidth": 1
          },
          "autotypenumbers": "strict",
          "coloraxis": {
           "colorbar": {
            "outlinewidth": 0,
            "ticks": ""
           }
          },
          "colorscale": {
           "diverging": [
            [
             0,
             "#8e0152"
            ],
            [
             0.1,
             "#c51b7d"
            ],
            [
             0.2,
             "#de77ae"
            ],
            [
             0.3,
             "#f1b6da"
            ],
            [
             0.4,
             "#fde0ef"
            ],
            [
             0.5,
             "#f7f7f7"
            ],
            [
             0.6,
             "#e6f5d0"
            ],
            [
             0.7,
             "#b8e186"
            ],
            [
             0.8,
             "#7fbc41"
            ],
            [
             0.9,
             "#4d9221"
            ],
            [
             1,
             "#276419"
            ]
           ],
           "sequential": [
            [
             0,
             "#0d0887"
            ],
            [
             0.1111111111111111,
             "#46039f"
            ],
            [
             0.2222222222222222,
             "#7201a8"
            ],
            [
             0.3333333333333333,
             "#9c179e"
            ],
            [
             0.4444444444444444,
             "#bd3786"
            ],
            [
             0.5555555555555556,
             "#d8576b"
            ],
            [
             0.6666666666666666,
             "#ed7953"
            ],
            [
             0.7777777777777778,
             "#fb9f3a"
            ],
            [
             0.8888888888888888,
             "#fdca26"
            ],
            [
             1,
             "#f0f921"
            ]
           ],
           "sequentialminus": [
            [
             0,
             "#0d0887"
            ],
            [
             0.1111111111111111,
             "#46039f"
            ],
            [
             0.2222222222222222,
             "#7201a8"
            ],
            [
             0.3333333333333333,
             "#9c179e"
            ],
            [
             0.4444444444444444,
             "#bd3786"
            ],
            [
             0.5555555555555556,
             "#d8576b"
            ],
            [
             0.6666666666666666,
             "#ed7953"
            ],
            [
             0.7777777777777778,
             "#fb9f3a"
            ],
            [
             0.8888888888888888,
             "#fdca26"
            ],
            [
             1,
             "#f0f921"
            ]
           ]
          },
          "colorway": [
           "#636efa",
           "#EF553B",
           "#00cc96",
           "#ab63fa",
           "#FFA15A",
           "#19d3f3",
           "#FF6692",
           "#B6E880",
           "#FF97FF",
           "#FECB52"
          ],
          "font": {
           "color": "#2a3f5f"
          },
          "geo": {
           "bgcolor": "white",
           "lakecolor": "white",
           "landcolor": "white",
           "showlakes": true,
           "showland": true,
           "subunitcolor": "#C8D4E3"
          },
          "hoverlabel": {
           "align": "left"
          },
          "hovermode": "closest",
          "mapbox": {
           "style": "light"
          },
          "paper_bgcolor": "white",
          "plot_bgcolor": "white",
          "polar": {
           "angularaxis": {
            "gridcolor": "#EBF0F8",
            "linecolor": "#EBF0F8",
            "ticks": ""
           },
           "bgcolor": "white",
           "radialaxis": {
            "gridcolor": "#EBF0F8",
            "linecolor": "#EBF0F8",
            "ticks": ""
           }
          },
          "scene": {
           "xaxis": {
            "backgroundcolor": "white",
            "gridcolor": "#DFE8F3",
            "gridwidth": 2,
            "linecolor": "#EBF0F8",
            "showbackground": true,
            "ticks": "",
            "zerolinecolor": "#EBF0F8"
           },
           "yaxis": {
            "backgroundcolor": "white",
            "gridcolor": "#DFE8F3",
            "gridwidth": 2,
            "linecolor": "#EBF0F8",
            "showbackground": true,
            "ticks": "",
            "zerolinecolor": "#EBF0F8"
           },
           "zaxis": {
            "backgroundcolor": "white",
            "gridcolor": "#DFE8F3",
            "gridwidth": 2,
            "linecolor": "#EBF0F8",
            "showbackground": true,
            "ticks": "",
            "zerolinecolor": "#EBF0F8"
           }
          },
          "shapedefaults": {
           "line": {
            "color": "#2a3f5f"
           }
          },
          "ternary": {
           "aaxis": {
            "gridcolor": "#DFE8F3",
            "linecolor": "#A2B1C6",
            "ticks": ""
           },
           "baxis": {
            "gridcolor": "#DFE8F3",
            "linecolor": "#A2B1C6",
            "ticks": ""
           },
           "bgcolor": "white",
           "caxis": {
            "gridcolor": "#DFE8F3",
            "linecolor": "#A2B1C6",
            "ticks": ""
           }
          },
          "title": {
           "x": 0.05
          },
          "xaxis": {
           "automargin": true,
           "gridcolor": "#EBF0F8",
           "linecolor": "#EBF0F8",
           "ticks": "",
           "title": {
            "standoff": 15
           },
           "zerolinecolor": "#EBF0F8",
           "zerolinewidth": 2
          },
          "yaxis": {
           "automargin": true,
           "gridcolor": "#EBF0F8",
           "linecolor": "#EBF0F8",
           "ticks": "",
           "title": {
            "standoff": 15
           },
           "zerolinecolor": "#EBF0F8",
           "zerolinewidth": 2
          }
         }
        },
        "title": {
         "text": "Distribución de AIRE ACONDICIONADO antes y después de la imputación"
        },
        "width": 1200,
        "xaxis": {
         "tickfont": {
          "color": "black"
         },
         "title": {
          "standoff": 20,
          "text": "Aire acondicionado"
         }
        },
        "yaxis": {
         "title": {
          "text": "Frecuencia"
         }
        }
       }
      }
     },
     "metadata": {},
     "output_type": "display_data"
    }
   ],
   "source": [
    "# Conteo antes y después\n",
    "antes_ac = df_antes['aire_acondicionado'].value_counts().sort_index()\n",
    "despues_ac = df_bmw['aire_acondicionado'].value_counts().sort_index()\n",
    "\n",
    "# Diccionario para etiquetas personalizadas\n",
    "etiquetas = {False: 'No', True: 'Sí'}\n",
    "\n",
    "# Etiquetas del eje X ordenadas como en 'antes_ac'\n",
    "x_labels = [etiquetas.get(i, str(i)) for i in antes_ac.index]\n",
    "\n",
    "# Asegurar que los valores de después están en el mismo orden\n",
    "despues_vals = despues_ac.reindex(antes_ac.index, fill_value=0).values\n",
    "\n",
    "fig = go.Figure()\n",
    "\n",
    "# Antes\n",
    "fig.add_trace(go.Bar(\n",
    "    x=x_labels,\n",
    "    y=antes_ac.values,\n",
    "    name='Antes',\n",
    "    marker_color='#373485',\n",
    "    text=antes_ac.values,\n",
    "    textposition='outside',\n",
    "    opacity=1\n",
    "))\n",
    "\n",
    "# Después\n",
    "fig.add_trace(go.Bar(\n",
    "    x=x_labels,\n",
    "    y=despues_vals,\n",
    "    name='Después',\n",
    "    marker_color='#c52b30',\n",
    "    text=despues_vals,\n",
    "    textposition='outside',\n",
    "    opacity=1\n",
    "))\n",
    "\n",
    "fig.update_layout(\n",
    "    title=\"Distribución de AIRE ACONDICIONADO antes y después de la imputación\",\n",
    "    xaxis_title=\"Aire acondicionado\",\n",
    "    yaxis_title=\"Frecuencia\",\n",
    "    barmode='group',\n",
    "    template='plotly_white',\n",
    "    width=1200,\n",
    "    height=470,\n",
    "    plot_bgcolor='#e6e6e7',\n",
    "    paper_bgcolor='#e6e6e7',\n",
    "    xaxis=dict(\n",
    "        tickfont=dict(color='black'),\n",
    "        title_standoff=20\n",
    "    )\n",
    ")\n",
    "\n",
    "fig.show()"
   ]
  },
  {
   "cell_type": "markdown",
   "id": "87812116",
   "metadata": {},
   "source": [
    "### **COLUMNA BLUETOOTH**"
   ]
  },
  {
   "cell_type": "markdown",
   "id": "adc4ea69",
   "metadata": {},
   "source": [
    "La disponibilidad de conexión Bluetooth en un vehículo representa una funcionalidad tecnológica valorada por los usuarios y, por tanto, puede influir en el precio final. Sin embargo, esta variable contiene valores nulos que es necesario imputar para no comprometer la calidad del modelo.\n",
    "\n",
    "El proceso realizado ha sido el siguiente:\n",
    "\n",
    "1. Inspeccionamos los valores nulos de la columna `bluetooth` y visualizamos su distribución para comprender la magnitud del problema y determinar si el patrón de ausencia tenía alguna relación con otras variables.\n",
    "\n",
    "2. Creamos cinco tablas auxiliares agrupadas por diferentes combinaciones de variables que podían estar asociadas a la presencia de Bluetooth (`modelo`, `potencia`, `tipo_coche`, `aire_acondicionado`, `asientos_traseros_plegables`, `elevalunas_electrico`, `años_coche`), extrayendo en cada caso la moda como valor representativo.\n",
    "\n",
    "3. Para los registros en los que no se pudo imputar el valor con ninguna de las combinaciones anteriores, asignamos la moda global de la columna como imputación final.\n",
    "\n",
    "4. Unimos progresivamente las tablas auxiliares al dataset original mediante `merge`, y utilizamos la función `bfill(axis=1)` para completar los valores nulos en la columna `bluetooth`, comenzando por la imputación más específica y terminando con la más general.\n",
    "\n",
    "5. Eliminamos las columnas auxiliares generadas para dejar únicamente la variable `bluetooth` ya imputada en el dataframe final.\n",
    "\n",
    "6. Finalmente, validamos el proceso comprobando que no quedaban valores nulos y generamos un gráfico de barras comparativo que muestra la distribución de `bluetooth` antes y después de la imputación, permitiendo verificar visualmente la coherencia del tratamiento realizado."
   ]
  },
  {
   "cell_type": "code",
   "execution_count": 69,
   "id": "fdec678d",
   "metadata": {},
   "outputs": [
    {
     "data": {
      "text/html": [
       "<div>\n",
       "<style scoped>\n",
       "    .dataframe tbody tr th:only-of-type {\n",
       "        vertical-align: middle;\n",
       "    }\n",
       "\n",
       "    .dataframe tbody tr th {\n",
       "        vertical-align: top;\n",
       "    }\n",
       "\n",
       "    .dataframe thead th {\n",
       "        text-align: right;\n",
       "    }\n",
       "</style>\n",
       "<table border=\"1\" class=\"dataframe\">\n",
       "  <thead>\n",
       "    <tr style=\"text-align: right;\">\n",
       "      <th></th>\n",
       "      <th>NULOS</th>\n",
       "      <th>% NULOS</th>\n",
       "      <th>VALORES UNICOS</th>\n",
       "    </tr>\n",
       "  </thead>\n",
       "  <tbody>\n",
       "    <tr>\n",
       "      <th>bluetooth</th>\n",
       "      <td>724</td>\n",
       "      <td>15.033223</td>\n",
       "      <td>2</td>\n",
       "    </tr>\n",
       "  </tbody>\n",
       "</table>\n",
       "</div>"
      ],
      "text/plain": [
       "           NULOS    % NULOS  VALORES UNICOS\n",
       "bluetooth    724  15.033223               2"
      ]
     },
     "execution_count": 69,
     "metadata": {},
     "output_type": "execute_result"
    }
   ],
   "source": [
    "tabla_nulos(df_bmw).loc[['bluetooth']]"
   ]
  },
  {
   "cell_type": "code",
   "execution_count": 70,
   "id": "1af35570",
   "metadata": {},
   "outputs": [
    {
     "data": {
      "text/plain": [
       "bluetooth\n",
       "False    0.643762\n",
       "True     0.205730\n",
       "NaN      0.150509\n",
       "Name: proportion, dtype: float64"
      ]
     },
     "execution_count": 70,
     "metadata": {},
     "output_type": "execute_result"
    }
   ],
   "source": [
    "distribuciones['bluetooth']"
   ]
  },
  {
   "cell_type": "code",
   "execution_count": 71,
   "id": "81a34809",
   "metadata": {},
   "outputs": [],
   "source": [
    "COLUMNS_1 = ['años_coche','tipo_coche','modelo','potencia', 'asientos_traseros_plegables', 'aire_acondicionado']\n",
    "df_nulls_1 = df_bmw.groupby(COLUMNS_1)['bluetooth'].agg(lambda x: pd.Series.mode(x).iloc[0] if not pd.Series.mode(x).empty else np.nan).reset_index()\n",
    "df_nulls_1 = df_nulls_1.dropna(subset=['bluetooth'])\n",
    "df_nulls_1.rename(columns={\"bluetooth\":\"bluetooth_1\"},inplace=True)\n",
    "\n",
    "COLUMNS_2 = ['modelo', 'asientos_traseros_plegables', 'aire_acondicionado']\n",
    "df_nulls_2 = df_bmw.groupby(COLUMNS_2)['bluetooth'].agg(lambda x: pd.Series.mode(x).iloc[0] if not pd.Series.mode(x).empty else np.nan).reset_index()\n",
    "df_nulls_2 = df_nulls_2.dropna(subset=['bluetooth'])\n",
    "df_nulls_2.rename(columns={\"bluetooth\":\"bluetooth_2\"},inplace=True)\n",
    "\n",
    "COLUMNS_3 = ['modelo','elevalunas_electrico']\n",
    "df_nulls_3 = df_bmw.groupby(COLUMNS_3)['bluetooth'].agg(lambda x: pd.Series.mode(x).iloc[0] if not pd.Series.mode(x).empty else np.nan).reset_index()\n",
    "df_nulls_3 = df_nulls_3.dropna(subset=['bluetooth'])\n",
    "df_nulls_3.rename(columns={\"bluetooth\":\"bluetooth_3\"},inplace=True)\n",
    "\n",
    "COLUMNS_4 = ['modelo']\n",
    "df_nulls_4 = df_bmw.groupby(COLUMNS_4)['bluetooth'].agg(lambda x: pd.Series.mode(x).iloc[0] if not pd.Series.mode(x).empty else np.nan).reset_index()\n",
    "df_nulls_4 = df_nulls_4.dropna(subset=['bluetooth'])\n",
    "df_nulls_4.rename(columns={\"bluetooth\":\"bluetooth_4\"},inplace=True)\n",
    "\n",
    "COLUMNS_5 = ['tipo_coche']\n",
    "moda_global = df_bmw['bluetooth'].mode().iloc[0]\n",
    "df_nulls_5 = df_bmw[df_bmw['bluetooth'].isna()][['tipo_coche']].dropna().drop_duplicates()\n",
    "df_nulls_5['bluetooth_5'] = moda_global"
   ]
  },
  {
   "cell_type": "code",
   "execution_count": 72,
   "id": "bc19a172",
   "metadata": {},
   "outputs": [],
   "source": [
    "assert not df_nulls_1.duplicated(subset=COLUMNS_1).any(), \"Duplicados en df_nulls_1\"\n",
    "assert not df_nulls_2.duplicated(subset=COLUMNS_2).any(), \"Duplicados en df_nulls_2\"\n",
    "assert not df_nulls_3.duplicated(subset=COLUMNS_3).any(), \"Duplicados en df_nulls_3\"\n",
    "assert not df_nulls_4.duplicated(subset=COLUMNS_4).any(), \"Duplicados en df_nulls_4\"\n",
    "assert not df_nulls_5.duplicated(subset=COLUMNS_5).any(), \"Duplicados en df_nulls_5\""
   ]
  },
  {
   "cell_type": "code",
   "execution_count": 73,
   "id": "d2f6e5e9",
   "metadata": {},
   "outputs": [],
   "source": [
    "df_bmw = df_bmw.merge(df_nulls_1,how='left',left_on=COLUMNS_1,right_on=COLUMNS_1)\n",
    "df_bmw = df_bmw.merge(df_nulls_2,how='left',left_on=COLUMNS_2,right_on=COLUMNS_2)\n",
    "df_bmw = df_bmw.merge(df_nulls_3,how='left',left_on=COLUMNS_3,right_on=COLUMNS_3)\n",
    "df_bmw = df_bmw.merge(df_nulls_4,how='left',left_on=COLUMNS_4,right_on=COLUMNS_4)\n",
    "df_bmw = df_bmw.merge(df_nulls_5,how='left',left_on=COLUMNS_5,right_on=COLUMNS_5)\n",
    "\n",
    "df_bmw['bluetooth'] = df_bmw[['bluetooth','bluetooth_1','bluetooth_2','bluetooth_3','bluetooth_4','bluetooth_5']].bfill(axis=1).iloc[:, 0]\n",
    "\n",
    "df_bmw.drop(columns=['bluetooth_1','bluetooth_2','bluetooth_3','bluetooth_4','bluetooth_5'],inplace=True)"
   ]
  },
  {
   "cell_type": "code",
   "execution_count": 74,
   "id": "aee9b39e",
   "metadata": {},
   "outputs": [
    {
     "data": {
      "text/html": [
       "<div>\n",
       "<style scoped>\n",
       "    .dataframe tbody tr th:only-of-type {\n",
       "        vertical-align: middle;\n",
       "    }\n",
       "\n",
       "    .dataframe tbody tr th {\n",
       "        vertical-align: top;\n",
       "    }\n",
       "\n",
       "    .dataframe thead th {\n",
       "        text-align: right;\n",
       "    }\n",
       "</style>\n",
       "<table border=\"1\" class=\"dataframe\">\n",
       "  <thead>\n",
       "    <tr style=\"text-align: right;\">\n",
       "      <th></th>\n",
       "      <th>NULOS</th>\n",
       "      <th>% NULOS</th>\n",
       "      <th>VALORES UNICOS</th>\n",
       "    </tr>\n",
       "  </thead>\n",
       "  <tbody>\n",
       "    <tr>\n",
       "      <th>bluetooth</th>\n",
       "      <td>0</td>\n",
       "      <td>0.0</td>\n",
       "      <td>2</td>\n",
       "    </tr>\n",
       "  </tbody>\n",
       "</table>\n",
       "</div>"
      ],
      "text/plain": [
       "           NULOS  % NULOS  VALORES UNICOS\n",
       "bluetooth      0      0.0               2"
      ]
     },
     "execution_count": 74,
     "metadata": {},
     "output_type": "execute_result"
    }
   ],
   "source": [
    "tabla_nulos(df_bmw).loc[['bluetooth']]"
   ]
  },
  {
   "cell_type": "code",
   "execution_count": 75,
   "id": "f4b3cd07",
   "metadata": {},
   "outputs": [
    {
     "data": {
      "application/vnd.plotly.v1+json": {
       "config": {
        "plotlyServerURL": "https://plot.ly"
       },
       "data": [
        {
         "marker": {
          "color": "#373485"
         },
         "name": "Antes",
         "opacity": 1,
         "text": {
          "bdata": "AAAAAABeqEAAAAAAACCPQA==",
          "dtype": "f8"
         },
         "textposition": "outside",
         "type": "bar",
         "x": [
          "No",
          "Sí"
         ],
         "y": {
          "bdata": "LwzkAw==",
          "dtype": "i2"
         }
        },
        {
         "marker": {
          "color": "#c52b30"
         },
         "name": "Después",
         "opacity": 1,
         "text": {
          "bdata": "AAAAAACCrUAAAAAAADyQQA==",
          "dtype": "f8"
         },
         "textposition": "outside",
         "type": "bar",
         "x": [
          "No",
          "Sí"
         ],
         "y": {
          "bdata": "wQ4PBA==",
          "dtype": "i2"
         }
        }
       ],
       "layout": {
        "barmode": "group",
        "height": 470,
        "paper_bgcolor": "#e6e6e7",
        "plot_bgcolor": "#e6e6e7",
        "template": {
         "data": {
          "bar": [
           {
            "error_x": {
             "color": "#2a3f5f"
            },
            "error_y": {
             "color": "#2a3f5f"
            },
            "marker": {
             "line": {
              "color": "white",
              "width": 0.5
             },
             "pattern": {
              "fillmode": "overlay",
              "size": 10,
              "solidity": 0.2
             }
            },
            "type": "bar"
           }
          ],
          "barpolar": [
           {
            "marker": {
             "line": {
              "color": "white",
              "width": 0.5
             },
             "pattern": {
              "fillmode": "overlay",
              "size": 10,
              "solidity": 0.2
             }
            },
            "type": "barpolar"
           }
          ],
          "carpet": [
           {
            "aaxis": {
             "endlinecolor": "#2a3f5f",
             "gridcolor": "#C8D4E3",
             "linecolor": "#C8D4E3",
             "minorgridcolor": "#C8D4E3",
             "startlinecolor": "#2a3f5f"
            },
            "baxis": {
             "endlinecolor": "#2a3f5f",
             "gridcolor": "#C8D4E3",
             "linecolor": "#C8D4E3",
             "minorgridcolor": "#C8D4E3",
             "startlinecolor": "#2a3f5f"
            },
            "type": "carpet"
           }
          ],
          "choropleth": [
           {
            "colorbar": {
             "outlinewidth": 0,
             "ticks": ""
            },
            "type": "choropleth"
           }
          ],
          "contour": [
           {
            "colorbar": {
             "outlinewidth": 0,
             "ticks": ""
            },
            "colorscale": [
             [
              0,
              "#0d0887"
             ],
             [
              0.1111111111111111,
              "#46039f"
             ],
             [
              0.2222222222222222,
              "#7201a8"
             ],
             [
              0.3333333333333333,
              "#9c179e"
             ],
             [
              0.4444444444444444,
              "#bd3786"
             ],
             [
              0.5555555555555556,
              "#d8576b"
             ],
             [
              0.6666666666666666,
              "#ed7953"
             ],
             [
              0.7777777777777778,
              "#fb9f3a"
             ],
             [
              0.8888888888888888,
              "#fdca26"
             ],
             [
              1,
              "#f0f921"
             ]
            ],
            "type": "contour"
           }
          ],
          "contourcarpet": [
           {
            "colorbar": {
             "outlinewidth": 0,
             "ticks": ""
            },
            "type": "contourcarpet"
           }
          ],
          "heatmap": [
           {
            "colorbar": {
             "outlinewidth": 0,
             "ticks": ""
            },
            "colorscale": [
             [
              0,
              "#0d0887"
             ],
             [
              0.1111111111111111,
              "#46039f"
             ],
             [
              0.2222222222222222,
              "#7201a8"
             ],
             [
              0.3333333333333333,
              "#9c179e"
             ],
             [
              0.4444444444444444,
              "#bd3786"
             ],
             [
              0.5555555555555556,
              "#d8576b"
             ],
             [
              0.6666666666666666,
              "#ed7953"
             ],
             [
              0.7777777777777778,
              "#fb9f3a"
             ],
             [
              0.8888888888888888,
              "#fdca26"
             ],
             [
              1,
              "#f0f921"
             ]
            ],
            "type": "heatmap"
           }
          ],
          "histogram": [
           {
            "marker": {
             "pattern": {
              "fillmode": "overlay",
              "size": 10,
              "solidity": 0.2
             }
            },
            "type": "histogram"
           }
          ],
          "histogram2d": [
           {
            "colorbar": {
             "outlinewidth": 0,
             "ticks": ""
            },
            "colorscale": [
             [
              0,
              "#0d0887"
             ],
             [
              0.1111111111111111,
              "#46039f"
             ],
             [
              0.2222222222222222,
              "#7201a8"
             ],
             [
              0.3333333333333333,
              "#9c179e"
             ],
             [
              0.4444444444444444,
              "#bd3786"
             ],
             [
              0.5555555555555556,
              "#d8576b"
             ],
             [
              0.6666666666666666,
              "#ed7953"
             ],
             [
              0.7777777777777778,
              "#fb9f3a"
             ],
             [
              0.8888888888888888,
              "#fdca26"
             ],
             [
              1,
              "#f0f921"
             ]
            ],
            "type": "histogram2d"
           }
          ],
          "histogram2dcontour": [
           {
            "colorbar": {
             "outlinewidth": 0,
             "ticks": ""
            },
            "colorscale": [
             [
              0,
              "#0d0887"
             ],
             [
              0.1111111111111111,
              "#46039f"
             ],
             [
              0.2222222222222222,
              "#7201a8"
             ],
             [
              0.3333333333333333,
              "#9c179e"
             ],
             [
              0.4444444444444444,
              "#bd3786"
             ],
             [
              0.5555555555555556,
              "#d8576b"
             ],
             [
              0.6666666666666666,
              "#ed7953"
             ],
             [
              0.7777777777777778,
              "#fb9f3a"
             ],
             [
              0.8888888888888888,
              "#fdca26"
             ],
             [
              1,
              "#f0f921"
             ]
            ],
            "type": "histogram2dcontour"
           }
          ],
          "mesh3d": [
           {
            "colorbar": {
             "outlinewidth": 0,
             "ticks": ""
            },
            "type": "mesh3d"
           }
          ],
          "parcoords": [
           {
            "line": {
             "colorbar": {
              "outlinewidth": 0,
              "ticks": ""
             }
            },
            "type": "parcoords"
           }
          ],
          "pie": [
           {
            "automargin": true,
            "type": "pie"
           }
          ],
          "scatter": [
           {
            "fillpattern": {
             "fillmode": "overlay",
             "size": 10,
             "solidity": 0.2
            },
            "type": "scatter"
           }
          ],
          "scatter3d": [
           {
            "line": {
             "colorbar": {
              "outlinewidth": 0,
              "ticks": ""
             }
            },
            "marker": {
             "colorbar": {
              "outlinewidth": 0,
              "ticks": ""
             }
            },
            "type": "scatter3d"
           }
          ],
          "scattercarpet": [
           {
            "marker": {
             "colorbar": {
              "outlinewidth": 0,
              "ticks": ""
             }
            },
            "type": "scattercarpet"
           }
          ],
          "scattergeo": [
           {
            "marker": {
             "colorbar": {
              "outlinewidth": 0,
              "ticks": ""
             }
            },
            "type": "scattergeo"
           }
          ],
          "scattergl": [
           {
            "marker": {
             "colorbar": {
              "outlinewidth": 0,
              "ticks": ""
             }
            },
            "type": "scattergl"
           }
          ],
          "scattermap": [
           {
            "marker": {
             "colorbar": {
              "outlinewidth": 0,
              "ticks": ""
             }
            },
            "type": "scattermap"
           }
          ],
          "scattermapbox": [
           {
            "marker": {
             "colorbar": {
              "outlinewidth": 0,
              "ticks": ""
             }
            },
            "type": "scattermapbox"
           }
          ],
          "scatterpolar": [
           {
            "marker": {
             "colorbar": {
              "outlinewidth": 0,
              "ticks": ""
             }
            },
            "type": "scatterpolar"
           }
          ],
          "scatterpolargl": [
           {
            "marker": {
             "colorbar": {
              "outlinewidth": 0,
              "ticks": ""
             }
            },
            "type": "scatterpolargl"
           }
          ],
          "scatterternary": [
           {
            "marker": {
             "colorbar": {
              "outlinewidth": 0,
              "ticks": ""
             }
            },
            "type": "scatterternary"
           }
          ],
          "surface": [
           {
            "colorbar": {
             "outlinewidth": 0,
             "ticks": ""
            },
            "colorscale": [
             [
              0,
              "#0d0887"
             ],
             [
              0.1111111111111111,
              "#46039f"
             ],
             [
              0.2222222222222222,
              "#7201a8"
             ],
             [
              0.3333333333333333,
              "#9c179e"
             ],
             [
              0.4444444444444444,
              "#bd3786"
             ],
             [
              0.5555555555555556,
              "#d8576b"
             ],
             [
              0.6666666666666666,
              "#ed7953"
             ],
             [
              0.7777777777777778,
              "#fb9f3a"
             ],
             [
              0.8888888888888888,
              "#fdca26"
             ],
             [
              1,
              "#f0f921"
             ]
            ],
            "type": "surface"
           }
          ],
          "table": [
           {
            "cells": {
             "fill": {
              "color": "#EBF0F8"
             },
             "line": {
              "color": "white"
             }
            },
            "header": {
             "fill": {
              "color": "#C8D4E3"
             },
             "line": {
              "color": "white"
             }
            },
            "type": "table"
           }
          ]
         },
         "layout": {
          "annotationdefaults": {
           "arrowcolor": "#2a3f5f",
           "arrowhead": 0,
           "arrowwidth": 1
          },
          "autotypenumbers": "strict",
          "coloraxis": {
           "colorbar": {
            "outlinewidth": 0,
            "ticks": ""
           }
          },
          "colorscale": {
           "diverging": [
            [
             0,
             "#8e0152"
            ],
            [
             0.1,
             "#c51b7d"
            ],
            [
             0.2,
             "#de77ae"
            ],
            [
             0.3,
             "#f1b6da"
            ],
            [
             0.4,
             "#fde0ef"
            ],
            [
             0.5,
             "#f7f7f7"
            ],
            [
             0.6,
             "#e6f5d0"
            ],
            [
             0.7,
             "#b8e186"
            ],
            [
             0.8,
             "#7fbc41"
            ],
            [
             0.9,
             "#4d9221"
            ],
            [
             1,
             "#276419"
            ]
           ],
           "sequential": [
            [
             0,
             "#0d0887"
            ],
            [
             0.1111111111111111,
             "#46039f"
            ],
            [
             0.2222222222222222,
             "#7201a8"
            ],
            [
             0.3333333333333333,
             "#9c179e"
            ],
            [
             0.4444444444444444,
             "#bd3786"
            ],
            [
             0.5555555555555556,
             "#d8576b"
            ],
            [
             0.6666666666666666,
             "#ed7953"
            ],
            [
             0.7777777777777778,
             "#fb9f3a"
            ],
            [
             0.8888888888888888,
             "#fdca26"
            ],
            [
             1,
             "#f0f921"
            ]
           ],
           "sequentialminus": [
            [
             0,
             "#0d0887"
            ],
            [
             0.1111111111111111,
             "#46039f"
            ],
            [
             0.2222222222222222,
             "#7201a8"
            ],
            [
             0.3333333333333333,
             "#9c179e"
            ],
            [
             0.4444444444444444,
             "#bd3786"
            ],
            [
             0.5555555555555556,
             "#d8576b"
            ],
            [
             0.6666666666666666,
             "#ed7953"
            ],
            [
             0.7777777777777778,
             "#fb9f3a"
            ],
            [
             0.8888888888888888,
             "#fdca26"
            ],
            [
             1,
             "#f0f921"
            ]
           ]
          },
          "colorway": [
           "#636efa",
           "#EF553B",
           "#00cc96",
           "#ab63fa",
           "#FFA15A",
           "#19d3f3",
           "#FF6692",
           "#B6E880",
           "#FF97FF",
           "#FECB52"
          ],
          "font": {
           "color": "#2a3f5f"
          },
          "geo": {
           "bgcolor": "white",
           "lakecolor": "white",
           "landcolor": "white",
           "showlakes": true,
           "showland": true,
           "subunitcolor": "#C8D4E3"
          },
          "hoverlabel": {
           "align": "left"
          },
          "hovermode": "closest",
          "mapbox": {
           "style": "light"
          },
          "paper_bgcolor": "white",
          "plot_bgcolor": "white",
          "polar": {
           "angularaxis": {
            "gridcolor": "#EBF0F8",
            "linecolor": "#EBF0F8",
            "ticks": ""
           },
           "bgcolor": "white",
           "radialaxis": {
            "gridcolor": "#EBF0F8",
            "linecolor": "#EBF0F8",
            "ticks": ""
           }
          },
          "scene": {
           "xaxis": {
            "backgroundcolor": "white",
            "gridcolor": "#DFE8F3",
            "gridwidth": 2,
            "linecolor": "#EBF0F8",
            "showbackground": true,
            "ticks": "",
            "zerolinecolor": "#EBF0F8"
           },
           "yaxis": {
            "backgroundcolor": "white",
            "gridcolor": "#DFE8F3",
            "gridwidth": 2,
            "linecolor": "#EBF0F8",
            "showbackground": true,
            "ticks": "",
            "zerolinecolor": "#EBF0F8"
           },
           "zaxis": {
            "backgroundcolor": "white",
            "gridcolor": "#DFE8F3",
            "gridwidth": 2,
            "linecolor": "#EBF0F8",
            "showbackground": true,
            "ticks": "",
            "zerolinecolor": "#EBF0F8"
           }
          },
          "shapedefaults": {
           "line": {
            "color": "#2a3f5f"
           }
          },
          "ternary": {
           "aaxis": {
            "gridcolor": "#DFE8F3",
            "linecolor": "#A2B1C6",
            "ticks": ""
           },
           "baxis": {
            "gridcolor": "#DFE8F3",
            "linecolor": "#A2B1C6",
            "ticks": ""
           },
           "bgcolor": "white",
           "caxis": {
            "gridcolor": "#DFE8F3",
            "linecolor": "#A2B1C6",
            "ticks": ""
           }
          },
          "title": {
           "x": 0.05
          },
          "xaxis": {
           "automargin": true,
           "gridcolor": "#EBF0F8",
           "linecolor": "#EBF0F8",
           "ticks": "",
           "title": {
            "standoff": 15
           },
           "zerolinecolor": "#EBF0F8",
           "zerolinewidth": 2
          },
          "yaxis": {
           "automargin": true,
           "gridcolor": "#EBF0F8",
           "linecolor": "#EBF0F8",
           "ticks": "",
           "title": {
            "standoff": 15
           },
           "zerolinecolor": "#EBF0F8",
           "zerolinewidth": 2
          }
         }
        },
        "title": {
         "text": "Distribución de BLUETOOTH antes y después de la imputación"
        },
        "width": 1200,
        "xaxis": {
         "tickfont": {
          "color": "black"
         },
         "title": {
          "standoff": 20,
          "text": "Bluetooth"
         }
        },
        "yaxis": {
         "title": {
          "text": "Frecuencia"
         }
        }
       }
      }
     },
     "metadata": {},
     "output_type": "display_data"
    }
   ],
   "source": [
    "import plotly.graph_objects as go\n",
    "\n",
    "# Conteo antes y después\n",
    "antes_bt = df_antes['bluetooth'].value_counts().sort_index()\n",
    "despues_bt = df_bmw['bluetooth'].value_counts().sort_index()\n",
    "\n",
    "# Diccionario para etiquetas personalizadas\n",
    "etiquetas = {False: 'No', True: 'Sí'}\n",
    "\n",
    "# Etiquetas del eje X ordenadas igual que en antes_bt\n",
    "x_labels = [etiquetas.get(i, str(i)) for i in antes_bt.index]\n",
    "\n",
    "# Valores de después en el mismo orden que antes\n",
    "despues_vals = despues_bt.reindex(antes_bt.index, fill_value=0).values\n",
    "\n",
    "fig = go.Figure()\n",
    "\n",
    "# Antes\n",
    "fig.add_trace(go.Bar(\n",
    "    x=x_labels,\n",
    "    y=antes_bt.values,\n",
    "    name='Antes',\n",
    "    marker_color='#373485',\n",
    "    text=antes_bt.values,\n",
    "    textposition='outside',\n",
    "    opacity=1\n",
    "))\n",
    "\n",
    "# Después\n",
    "fig.add_trace(go.Bar(\n",
    "    x=x_labels,\n",
    "    y=despues_vals,\n",
    "    name='Después',\n",
    "    marker_color='#c52b30',\n",
    "    text=despues_vals,\n",
    "    textposition='outside',\n",
    "    opacity=1\n",
    "))\n",
    "\n",
    "fig.update_layout(\n",
    "    title=\"Distribución de BLUETOOTH antes y después de la imputación\",\n",
    "    xaxis_title=\"Bluetooth\",\n",
    "    yaxis_title=\"Frecuencia\",\n",
    "    barmode='group',\n",
    "    template='plotly_white',\n",
    "    width=1200,\n",
    "    height=470,\n",
    "    plot_bgcolor='#e6e6e7',\n",
    "    paper_bgcolor='#e6e6e7',\n",
    "    xaxis=dict(\n",
    "        tickfont=dict(color='black'),\n",
    "        title_standoff=20\n",
    "    )\n",
    ")\n",
    "\n",
    "fig.show()"
   ]
  },
  {
   "cell_type": "markdown",
   "id": "87aa0305",
   "metadata": {},
   "source": [
    "### **COLUMNA ALERTA LIMITE VELOCIDAD**"
   ]
  },
  {
   "cell_type": "markdown",
   "id": "5b5f4215",
   "metadata": {},
   "source": [
    "La presencia del sistema de alerta de límite de velocidad es una característica de asistencia a la conducción que puede incidir en el precio del coche. Dado que esta variable contiene valores nulos, hemos decidido imputarlos de forma coherente con el comportamiento del resto del dataset.\n",
    "\n",
    "El proceso que hemos llevado a cabo es el siguiente:\n",
    "\n",
    "1. Revisamos el porcentaje de valores ausentes en la columna y consultamos su distribución para entender el contexto.\n",
    "\n",
    "2. Creamos tres tablas auxiliares con imputaciones por moda según distintos niveles de agrupación:\n",
    "   - La primera agrupa por `potencia` y `km`, para captar similitudes mecánicas y de uso.\n",
    "   - La segunda agrupa por `modelo` y `potencia`, teniendo en cuenta la gama del vehículo.\n",
    "   - La tercera agrupa por `tipo_coche` y asigna la moda global como último recurso.\n",
    "\n",
    "3. Unimos estas imputaciones al dataframe original utilizando la función `bfill(axis=1)`, asignamos a cada fila con valor nulo el primer valor disponible.\n",
    "\n",
    "4. Eliminamos las columnas auxiliares que hemos creado para dejar limpia la estructura final del dataframe.\n",
    "\n",
    "5. Comprobamos que ya no quedan valores nulos y generamos una visualización que compara la distribución de la variable antes y después de la imputación, asegurándonos de que el reparto original se mantiene sin grandes alteraciones."
   ]
  },
  {
   "cell_type": "code",
   "execution_count": 76,
   "id": "ab6df65a",
   "metadata": {},
   "outputs": [
    {
     "data": {
      "text/html": [
       "<div>\n",
       "<style scoped>\n",
       "    .dataframe tbody tr th:only-of-type {\n",
       "        vertical-align: middle;\n",
       "    }\n",
       "\n",
       "    .dataframe tbody tr th {\n",
       "        vertical-align: top;\n",
       "    }\n",
       "\n",
       "    .dataframe thead th {\n",
       "        text-align: right;\n",
       "    }\n",
       "</style>\n",
       "<table border=\"1\" class=\"dataframe\">\n",
       "  <thead>\n",
       "    <tr style=\"text-align: right;\">\n",
       "      <th></th>\n",
       "      <th>NULOS</th>\n",
       "      <th>% NULOS</th>\n",
       "      <th>VALORES UNICOS</th>\n",
       "    </tr>\n",
       "  </thead>\n",
       "  <tbody>\n",
       "    <tr>\n",
       "      <th>alerta_lim_velocidad</th>\n",
       "      <td>721</td>\n",
       "      <td>14.97093</td>\n",
       "      <td>2</td>\n",
       "    </tr>\n",
       "  </tbody>\n",
       "</table>\n",
       "</div>"
      ],
      "text/plain": [
       "                      NULOS   % NULOS  VALORES UNICOS\n",
       "alerta_lim_velocidad    721  14.97093               2"
      ]
     },
     "execution_count": 76,
     "metadata": {},
     "output_type": "execute_result"
    }
   ],
   "source": [
    "tabla_nulos(df_bmw).loc[['alerta_lim_velocidad']]"
   ]
  },
  {
   "cell_type": "code",
   "execution_count": 77,
   "id": "4560763a",
   "metadata": {},
   "outputs": [
    {
     "data": {
      "text/plain": [
       "alerta_lim_velocidad\n",
       "True     0.462529\n",
       "False    0.387586\n",
       "NaN      0.149886\n",
       "Name: proportion, dtype: float64"
      ]
     },
     "execution_count": 77,
     "metadata": {},
     "output_type": "execute_result"
    }
   ],
   "source": [
    "distribuciones['alerta_lim_velocidad']"
   ]
  },
  {
   "cell_type": "code",
   "execution_count": 78,
   "id": "72c09919",
   "metadata": {},
   "outputs": [],
   "source": [
    "COLUMNS_1 = ['potencia', 'km']\n",
    "df_nulls_1 = df_bmw.groupby(COLUMNS_1)['alerta_lim_velocidad'].agg(lambda x: pd.Series.mode(x).iloc[0] if not pd.Series.mode(x).empty else np.nan).reset_index()\n",
    "df_nulls_1 = df_nulls_1.dropna(subset=['alerta_lim_velocidad'])\n",
    "df_nulls_1.rename(columns={\"alerta_lim_velocidad\":\"alerta_lim_velocidad_1\"},inplace=True)\n",
    "\n",
    "COLUMNS_2 = ['modelo', 'potencia']\n",
    "df_nulls_2 = df_bmw.groupby(COLUMNS_2)['alerta_lim_velocidad'].agg(lambda x: pd.Series.mode(x).iloc[0] if not pd.Series.mode(x).empty else np.nan).reset_index()\n",
    "df_nulls_2 = df_nulls_2.dropna(subset=['alerta_lim_velocidad'])\n",
    "df_nulls_2.rename(columns={\"alerta_lim_velocidad\":\"alerta_lim_velocidad_2\"},inplace=True)\n",
    "\n",
    "COLUMNS_3 = ['tipo_coche']\n",
    "moda_global = df_bmw['alerta_lim_velocidad'].mode().iloc[0]\n",
    "df_nulls_3 = df_bmw[df_bmw['alerta_lim_velocidad'].isna()][['tipo_coche']].dropna().drop_duplicates()\n",
    "df_nulls_3['alerta_lim_velocidad_3'] = moda_global"
   ]
  },
  {
   "cell_type": "code",
   "execution_count": 79,
   "id": "cc4eeb73",
   "metadata": {},
   "outputs": [],
   "source": [
    "df_bmw = df_bmw.merge(df_nulls_1,how='left',left_on=COLUMNS_1,right_on=COLUMNS_1)\n",
    "df_bmw = df_bmw.merge(df_nulls_2,how='left',left_on=COLUMNS_2,right_on=COLUMNS_2)\n",
    "df_bmw = df_bmw.merge(df_nulls_3,how='left',left_on=COLUMNS_3,right_on=COLUMNS_3)\n",
    "\n",
    "df_bmw['alerta_lim_velocidad'] = df_bmw[['alerta_lim_velocidad','alerta_lim_velocidad_1','alerta_lim_velocidad_2','alerta_lim_velocidad_3']].bfill(axis=1).iloc[:, 0]\n",
    "\n",
    "df_bmw.drop(columns=['alerta_lim_velocidad_1','alerta_lim_velocidad_2','alerta_lim_velocidad_3'],inplace=True)"
   ]
  },
  {
   "cell_type": "code",
   "execution_count": 80,
   "id": "0bfb6009",
   "metadata": {},
   "outputs": [
    {
     "data": {
      "text/html": [
       "<div>\n",
       "<style scoped>\n",
       "    .dataframe tbody tr th:only-of-type {\n",
       "        vertical-align: middle;\n",
       "    }\n",
       "\n",
       "    .dataframe tbody tr th {\n",
       "        vertical-align: top;\n",
       "    }\n",
       "\n",
       "    .dataframe thead th {\n",
       "        text-align: right;\n",
       "    }\n",
       "</style>\n",
       "<table border=\"1\" class=\"dataframe\">\n",
       "  <thead>\n",
       "    <tr style=\"text-align: right;\">\n",
       "      <th></th>\n",
       "      <th>NULOS</th>\n",
       "      <th>% NULOS</th>\n",
       "      <th>VALORES UNICOS</th>\n",
       "    </tr>\n",
       "  </thead>\n",
       "  <tbody>\n",
       "    <tr>\n",
       "      <th>alerta_lim_velocidad</th>\n",
       "      <td>0</td>\n",
       "      <td>0.0</td>\n",
       "      <td>2</td>\n",
       "    </tr>\n",
       "  </tbody>\n",
       "</table>\n",
       "</div>"
      ],
      "text/plain": [
       "                      NULOS  % NULOS  VALORES UNICOS\n",
       "alerta_lim_velocidad      0      0.0               2"
      ]
     },
     "execution_count": 80,
     "metadata": {},
     "output_type": "execute_result"
    }
   ],
   "source": [
    "tabla_nulos(df_bmw).loc[['alerta_lim_velocidad']]"
   ]
  },
  {
   "cell_type": "code",
   "execution_count": 81,
   "id": "b23b0064",
   "metadata": {},
   "outputs": [
    {
     "data": {
      "application/vnd.plotly.v1+json": {
       "config": {
        "plotlyServerURL": "https://plot.ly"
       },
       "data": [
        {
         "marker": {
          "color": "#373485"
         },
         "name": "Antes",
         "opacity": 1,
         "text": {
          "bdata": "AAAAAABMnUAAAAAAAIChQA==",
          "dtype": "f8"
         },
         "textposition": "outside",
         "type": "bar",
         "x": [
          "No",
          "Sí"
         ],
         "y": {
          "bdata": "UwfACA==",
          "dtype": "i2"
         }
        },
        {
         "marker": {
          "color": "#c52b30"
         },
         "name": "Después",
         "opacity": 1,
         "text": {
          "bdata": "AAAAAABkoUAAAAAAADykQA==",
          "dtype": "f8"
         },
         "textposition": "outside",
         "type": "bar",
         "x": [
          "No",
          "Sí"
         ],
         "y": {
          "bdata": "sggeCg==",
          "dtype": "i2"
         }
        }
       ],
       "layout": {
        "barmode": "group",
        "height": 470,
        "paper_bgcolor": "#e6e6e7",
        "plot_bgcolor": "#e6e6e7",
        "template": {
         "data": {
          "bar": [
           {
            "error_x": {
             "color": "#2a3f5f"
            },
            "error_y": {
             "color": "#2a3f5f"
            },
            "marker": {
             "line": {
              "color": "white",
              "width": 0.5
             },
             "pattern": {
              "fillmode": "overlay",
              "size": 10,
              "solidity": 0.2
             }
            },
            "type": "bar"
           }
          ],
          "barpolar": [
           {
            "marker": {
             "line": {
              "color": "white",
              "width": 0.5
             },
             "pattern": {
              "fillmode": "overlay",
              "size": 10,
              "solidity": 0.2
             }
            },
            "type": "barpolar"
           }
          ],
          "carpet": [
           {
            "aaxis": {
             "endlinecolor": "#2a3f5f",
             "gridcolor": "#C8D4E3",
             "linecolor": "#C8D4E3",
             "minorgridcolor": "#C8D4E3",
             "startlinecolor": "#2a3f5f"
            },
            "baxis": {
             "endlinecolor": "#2a3f5f",
             "gridcolor": "#C8D4E3",
             "linecolor": "#C8D4E3",
             "minorgridcolor": "#C8D4E3",
             "startlinecolor": "#2a3f5f"
            },
            "type": "carpet"
           }
          ],
          "choropleth": [
           {
            "colorbar": {
             "outlinewidth": 0,
             "ticks": ""
            },
            "type": "choropleth"
           }
          ],
          "contour": [
           {
            "colorbar": {
             "outlinewidth": 0,
             "ticks": ""
            },
            "colorscale": [
             [
              0,
              "#0d0887"
             ],
             [
              0.1111111111111111,
              "#46039f"
             ],
             [
              0.2222222222222222,
              "#7201a8"
             ],
             [
              0.3333333333333333,
              "#9c179e"
             ],
             [
              0.4444444444444444,
              "#bd3786"
             ],
             [
              0.5555555555555556,
              "#d8576b"
             ],
             [
              0.6666666666666666,
              "#ed7953"
             ],
             [
              0.7777777777777778,
              "#fb9f3a"
             ],
             [
              0.8888888888888888,
              "#fdca26"
             ],
             [
              1,
              "#f0f921"
             ]
            ],
            "type": "contour"
           }
          ],
          "contourcarpet": [
           {
            "colorbar": {
             "outlinewidth": 0,
             "ticks": ""
            },
            "type": "contourcarpet"
           }
          ],
          "heatmap": [
           {
            "colorbar": {
             "outlinewidth": 0,
             "ticks": ""
            },
            "colorscale": [
             [
              0,
              "#0d0887"
             ],
             [
              0.1111111111111111,
              "#46039f"
             ],
             [
              0.2222222222222222,
              "#7201a8"
             ],
             [
              0.3333333333333333,
              "#9c179e"
             ],
             [
              0.4444444444444444,
              "#bd3786"
             ],
             [
              0.5555555555555556,
              "#d8576b"
             ],
             [
              0.6666666666666666,
              "#ed7953"
             ],
             [
              0.7777777777777778,
              "#fb9f3a"
             ],
             [
              0.8888888888888888,
              "#fdca26"
             ],
             [
              1,
              "#f0f921"
             ]
            ],
            "type": "heatmap"
           }
          ],
          "histogram": [
           {
            "marker": {
             "pattern": {
              "fillmode": "overlay",
              "size": 10,
              "solidity": 0.2
             }
            },
            "type": "histogram"
           }
          ],
          "histogram2d": [
           {
            "colorbar": {
             "outlinewidth": 0,
             "ticks": ""
            },
            "colorscale": [
             [
              0,
              "#0d0887"
             ],
             [
              0.1111111111111111,
              "#46039f"
             ],
             [
              0.2222222222222222,
              "#7201a8"
             ],
             [
              0.3333333333333333,
              "#9c179e"
             ],
             [
              0.4444444444444444,
              "#bd3786"
             ],
             [
              0.5555555555555556,
              "#d8576b"
             ],
             [
              0.6666666666666666,
              "#ed7953"
             ],
             [
              0.7777777777777778,
              "#fb9f3a"
             ],
             [
              0.8888888888888888,
              "#fdca26"
             ],
             [
              1,
              "#f0f921"
             ]
            ],
            "type": "histogram2d"
           }
          ],
          "histogram2dcontour": [
           {
            "colorbar": {
             "outlinewidth": 0,
             "ticks": ""
            },
            "colorscale": [
             [
              0,
              "#0d0887"
             ],
             [
              0.1111111111111111,
              "#46039f"
             ],
             [
              0.2222222222222222,
              "#7201a8"
             ],
             [
              0.3333333333333333,
              "#9c179e"
             ],
             [
              0.4444444444444444,
              "#bd3786"
             ],
             [
              0.5555555555555556,
              "#d8576b"
             ],
             [
              0.6666666666666666,
              "#ed7953"
             ],
             [
              0.7777777777777778,
              "#fb9f3a"
             ],
             [
              0.8888888888888888,
              "#fdca26"
             ],
             [
              1,
              "#f0f921"
             ]
            ],
            "type": "histogram2dcontour"
           }
          ],
          "mesh3d": [
           {
            "colorbar": {
             "outlinewidth": 0,
             "ticks": ""
            },
            "type": "mesh3d"
           }
          ],
          "parcoords": [
           {
            "line": {
             "colorbar": {
              "outlinewidth": 0,
              "ticks": ""
             }
            },
            "type": "parcoords"
           }
          ],
          "pie": [
           {
            "automargin": true,
            "type": "pie"
           }
          ],
          "scatter": [
           {
            "fillpattern": {
             "fillmode": "overlay",
             "size": 10,
             "solidity": 0.2
            },
            "type": "scatter"
           }
          ],
          "scatter3d": [
           {
            "line": {
             "colorbar": {
              "outlinewidth": 0,
              "ticks": ""
             }
            },
            "marker": {
             "colorbar": {
              "outlinewidth": 0,
              "ticks": ""
             }
            },
            "type": "scatter3d"
           }
          ],
          "scattercarpet": [
           {
            "marker": {
             "colorbar": {
              "outlinewidth": 0,
              "ticks": ""
             }
            },
            "type": "scattercarpet"
           }
          ],
          "scattergeo": [
           {
            "marker": {
             "colorbar": {
              "outlinewidth": 0,
              "ticks": ""
             }
            },
            "type": "scattergeo"
           }
          ],
          "scattergl": [
           {
            "marker": {
             "colorbar": {
              "outlinewidth": 0,
              "ticks": ""
             }
            },
            "type": "scattergl"
           }
          ],
          "scattermap": [
           {
            "marker": {
             "colorbar": {
              "outlinewidth": 0,
              "ticks": ""
             }
            },
            "type": "scattermap"
           }
          ],
          "scattermapbox": [
           {
            "marker": {
             "colorbar": {
              "outlinewidth": 0,
              "ticks": ""
             }
            },
            "type": "scattermapbox"
           }
          ],
          "scatterpolar": [
           {
            "marker": {
             "colorbar": {
              "outlinewidth": 0,
              "ticks": ""
             }
            },
            "type": "scatterpolar"
           }
          ],
          "scatterpolargl": [
           {
            "marker": {
             "colorbar": {
              "outlinewidth": 0,
              "ticks": ""
             }
            },
            "type": "scatterpolargl"
           }
          ],
          "scatterternary": [
           {
            "marker": {
             "colorbar": {
              "outlinewidth": 0,
              "ticks": ""
             }
            },
            "type": "scatterternary"
           }
          ],
          "surface": [
           {
            "colorbar": {
             "outlinewidth": 0,
             "ticks": ""
            },
            "colorscale": [
             [
              0,
              "#0d0887"
             ],
             [
              0.1111111111111111,
              "#46039f"
             ],
             [
              0.2222222222222222,
              "#7201a8"
             ],
             [
              0.3333333333333333,
              "#9c179e"
             ],
             [
              0.4444444444444444,
              "#bd3786"
             ],
             [
              0.5555555555555556,
              "#d8576b"
             ],
             [
              0.6666666666666666,
              "#ed7953"
             ],
             [
              0.7777777777777778,
              "#fb9f3a"
             ],
             [
              0.8888888888888888,
              "#fdca26"
             ],
             [
              1,
              "#f0f921"
             ]
            ],
            "type": "surface"
           }
          ],
          "table": [
           {
            "cells": {
             "fill": {
              "color": "#EBF0F8"
             },
             "line": {
              "color": "white"
             }
            },
            "header": {
             "fill": {
              "color": "#C8D4E3"
             },
             "line": {
              "color": "white"
             }
            },
            "type": "table"
           }
          ]
         },
         "layout": {
          "annotationdefaults": {
           "arrowcolor": "#2a3f5f",
           "arrowhead": 0,
           "arrowwidth": 1
          },
          "autotypenumbers": "strict",
          "coloraxis": {
           "colorbar": {
            "outlinewidth": 0,
            "ticks": ""
           }
          },
          "colorscale": {
           "diverging": [
            [
             0,
             "#8e0152"
            ],
            [
             0.1,
             "#c51b7d"
            ],
            [
             0.2,
             "#de77ae"
            ],
            [
             0.3,
             "#f1b6da"
            ],
            [
             0.4,
             "#fde0ef"
            ],
            [
             0.5,
             "#f7f7f7"
            ],
            [
             0.6,
             "#e6f5d0"
            ],
            [
             0.7,
             "#b8e186"
            ],
            [
             0.8,
             "#7fbc41"
            ],
            [
             0.9,
             "#4d9221"
            ],
            [
             1,
             "#276419"
            ]
           ],
           "sequential": [
            [
             0,
             "#0d0887"
            ],
            [
             0.1111111111111111,
             "#46039f"
            ],
            [
             0.2222222222222222,
             "#7201a8"
            ],
            [
             0.3333333333333333,
             "#9c179e"
            ],
            [
             0.4444444444444444,
             "#bd3786"
            ],
            [
             0.5555555555555556,
             "#d8576b"
            ],
            [
             0.6666666666666666,
             "#ed7953"
            ],
            [
             0.7777777777777778,
             "#fb9f3a"
            ],
            [
             0.8888888888888888,
             "#fdca26"
            ],
            [
             1,
             "#f0f921"
            ]
           ],
           "sequentialminus": [
            [
             0,
             "#0d0887"
            ],
            [
             0.1111111111111111,
             "#46039f"
            ],
            [
             0.2222222222222222,
             "#7201a8"
            ],
            [
             0.3333333333333333,
             "#9c179e"
            ],
            [
             0.4444444444444444,
             "#bd3786"
            ],
            [
             0.5555555555555556,
             "#d8576b"
            ],
            [
             0.6666666666666666,
             "#ed7953"
            ],
            [
             0.7777777777777778,
             "#fb9f3a"
            ],
            [
             0.8888888888888888,
             "#fdca26"
            ],
            [
             1,
             "#f0f921"
            ]
           ]
          },
          "colorway": [
           "#636efa",
           "#EF553B",
           "#00cc96",
           "#ab63fa",
           "#FFA15A",
           "#19d3f3",
           "#FF6692",
           "#B6E880",
           "#FF97FF",
           "#FECB52"
          ],
          "font": {
           "color": "#2a3f5f"
          },
          "geo": {
           "bgcolor": "white",
           "lakecolor": "white",
           "landcolor": "white",
           "showlakes": true,
           "showland": true,
           "subunitcolor": "#C8D4E3"
          },
          "hoverlabel": {
           "align": "left"
          },
          "hovermode": "closest",
          "mapbox": {
           "style": "light"
          },
          "paper_bgcolor": "white",
          "plot_bgcolor": "white",
          "polar": {
           "angularaxis": {
            "gridcolor": "#EBF0F8",
            "linecolor": "#EBF0F8",
            "ticks": ""
           },
           "bgcolor": "white",
           "radialaxis": {
            "gridcolor": "#EBF0F8",
            "linecolor": "#EBF0F8",
            "ticks": ""
           }
          },
          "scene": {
           "xaxis": {
            "backgroundcolor": "white",
            "gridcolor": "#DFE8F3",
            "gridwidth": 2,
            "linecolor": "#EBF0F8",
            "showbackground": true,
            "ticks": "",
            "zerolinecolor": "#EBF0F8"
           },
           "yaxis": {
            "backgroundcolor": "white",
            "gridcolor": "#DFE8F3",
            "gridwidth": 2,
            "linecolor": "#EBF0F8",
            "showbackground": true,
            "ticks": "",
            "zerolinecolor": "#EBF0F8"
           },
           "zaxis": {
            "backgroundcolor": "white",
            "gridcolor": "#DFE8F3",
            "gridwidth": 2,
            "linecolor": "#EBF0F8",
            "showbackground": true,
            "ticks": "",
            "zerolinecolor": "#EBF0F8"
           }
          },
          "shapedefaults": {
           "line": {
            "color": "#2a3f5f"
           }
          },
          "ternary": {
           "aaxis": {
            "gridcolor": "#DFE8F3",
            "linecolor": "#A2B1C6",
            "ticks": ""
           },
           "baxis": {
            "gridcolor": "#DFE8F3",
            "linecolor": "#A2B1C6",
            "ticks": ""
           },
           "bgcolor": "white",
           "caxis": {
            "gridcolor": "#DFE8F3",
            "linecolor": "#A2B1C6",
            "ticks": ""
           }
          },
          "title": {
           "x": 0.05
          },
          "xaxis": {
           "automargin": true,
           "gridcolor": "#EBF0F8",
           "linecolor": "#EBF0F8",
           "ticks": "",
           "title": {
            "standoff": 15
           },
           "zerolinecolor": "#EBF0F8",
           "zerolinewidth": 2
          },
          "yaxis": {
           "automargin": true,
           "gridcolor": "#EBF0F8",
           "linecolor": "#EBF0F8",
           "ticks": "",
           "title": {
            "standoff": 15
           },
           "zerolinecolor": "#EBF0F8",
           "zerolinewidth": 2
          }
         }
        },
        "title": {
         "text": "Distribución de ALERTA LÍMITE DE VELOCIDAD antes y después de la imputación"
        },
        "width": 800,
        "xaxis": {
         "title": {
          "text": "Alerta límite velocidad"
         }
        }
       }
      }
     },
     "metadata": {},
     "output_type": "display_data"
    }
   ],
   "source": [
    "# Conteo antes y después\n",
    "antes_alerta = df_antes['alerta_lim_velocidad'].value_counts().sort_index()\n",
    "despues_alerta = df_bmw['alerta_lim_velocidad'].value_counts().sort_index()\n",
    "\n",
    "# Diccionario para etiquetas personalizadas\n",
    "etiquetas = {False: 'No', True: 'Sí'}\n",
    "\n",
    "# Convertir índices a etiquetas personalizadas\n",
    "x_labels_antes = [etiquetas.get(i, str(i)) for i in antes_alerta.index]\n",
    "x_labels_despues = [etiquetas.get(i, str(i)) for i in despues_alerta.index]\n",
    "\n",
    "fig = go.Figure()\n",
    "\n",
    "fig.add_trace(go.Bar(\n",
    "    x=x_labels_antes,\n",
    "    y=antes_alerta.values,\n",
    "    name='Antes',\n",
    "    marker_color='#373485',\n",
    "    opacity=1,\n",
    "    text=antes_alerta.values,\n",
    "    textposition='outside'\n",
    "))\n",
    "\n",
    "fig.add_trace(go.Bar(\n",
    "    x=x_labels_despues,\n",
    "    y=despues_alerta.values,\n",
    "    name='Después',\n",
    "    marker_color='#c52b30',\n",
    "    opacity=1,\n",
    "    text=despues_alerta.values,\n",
    "    textposition='outside'\n",
    "))\n",
    "\n",
    "fig.update_layout(\n",
    "    title=\"Distribución de ALERTA LÍMITE DE VELOCIDAD antes y después de la imputación\",\n",
    "    xaxis_title=\"Alerta límite velocidad\",\n",
    "    barmode='group',\n",
    "    template='plotly_white',\n",
    "    width=800,\n",
    "    height=470,\n",
    "    plot_bgcolor='#e6e6e7', \n",
    "    paper_bgcolor='#e6e6e7'\n",
    ")\n",
    "\n",
    "fig.show()"
   ]
  },
  {
   "cell_type": "markdown",
   "id": "e60ff6ae",
   "metadata": {},
   "source": [
    "### **COLUMNA ASIENTOS TRASEROS PLEGABLES**"
   ]
  },
  {
   "cell_type": "markdown",
   "id": "9224dfaf",
   "metadata": {},
   "source": [
    "La columna **asientos traseros plegables** presenta un alto porcentaje de valores nulos, aproximadamente un **70 %**, lo que disminuye la fiabilidad de esta variable. Además, si imputásemos los valores ausentes utilizando la moda (teniendo en cuenta que el **80 %** de los valores no nulos son `False`), la distribución resultante quedaría muy desbalanceada, con más del **90 %** de un único valor. Esto haría que la variable aportase poca o ninguna información relevante para el modelo.\n",
    "\n",
    "Por este motivo, decidimos eliminar la columna para evitar introducir ruido o sesgos en el análisis.\n",
    "\n",
    "El proceso que hemos seguido es el siguiente:\n",
    "\n",
    "1. Revisamos el porcentaje de valores ausentes en la columna y su distribución para evaluar su calidad.\n",
    "\n",
    "2. Analizamos la distribución tras una posible imputación con la moda y observamos que la variable perdería su capacidad informativa.\n",
    "\n",
    "3. Decidimos eliminar la columna para mantener la calidad del dataset.\n",
    "\n",
    "4. Verificamos que la columna se haya eliminado correctamente del dataframe."
   ]
  },
  {
   "cell_type": "code",
   "execution_count": 82,
   "id": "f1d7da92",
   "metadata": {},
   "outputs": [
    {
     "data": {
      "text/html": [
       "<div>\n",
       "<style scoped>\n",
       "    .dataframe tbody tr th:only-of-type {\n",
       "        vertical-align: middle;\n",
       "    }\n",
       "\n",
       "    .dataframe tbody tr th {\n",
       "        vertical-align: top;\n",
       "    }\n",
       "\n",
       "    .dataframe thead th {\n",
       "        text-align: right;\n",
       "    }\n",
       "</style>\n",
       "<table border=\"1\" class=\"dataframe\">\n",
       "  <thead>\n",
       "    <tr style=\"text-align: right;\">\n",
       "      <th></th>\n",
       "      <th>NULOS</th>\n",
       "      <th>% NULOS</th>\n",
       "      <th>VALORES UNICOS</th>\n",
       "    </tr>\n",
       "  </thead>\n",
       "  <tbody>\n",
       "    <tr>\n",
       "      <th>asientos_traseros_plegables</th>\n",
       "      <td>3372</td>\n",
       "      <td>70.016611</td>\n",
       "      <td>2</td>\n",
       "    </tr>\n",
       "  </tbody>\n",
       "</table>\n",
       "</div>"
      ],
      "text/plain": [
       "                             NULOS    % NULOS  VALORES UNICOS\n",
       "asientos_traseros_plegables   3372  70.016611               2"
      ]
     },
     "execution_count": 82,
     "metadata": {},
     "output_type": "execute_result"
    }
   ],
   "source": [
    "tabla_nulos(df_bmw).loc[['asientos_traseros_plegables']]"
   ]
  },
  {
   "cell_type": "code",
   "execution_count": 83,
   "id": "19000c2b",
   "metadata": {},
   "outputs": [
    {
     "data": {
      "text/plain": [
       "asientos_traseros_plegables\n",
       "NaN      0.700228\n",
       "False    0.237285\n",
       "True     0.062487\n",
       "Name: proportion, dtype: float64"
      ]
     },
     "execution_count": 83,
     "metadata": {},
     "output_type": "execute_result"
    }
   ],
   "source": [
    "distribuciones['asientos_traseros_plegables']"
   ]
  },
  {
   "cell_type": "code",
   "execution_count": 84,
   "id": "f0525842",
   "metadata": {},
   "outputs": [
    {
     "name": "stdout",
     "output_type": "stream",
     "text": [
      "<class 'pandas.core.frame.DataFrame'>\n",
      "RangeIndex: 4816 entries, 0 to 4815\n",
      "Data columns (total 13 columns):\n",
      " #   Column                Non-Null Count  Dtype   \n",
      "---  ------                --------------  -----   \n",
      " 0   modelo                4816 non-null   object  \n",
      " 1   km                    4816 non-null   float64 \n",
      " 2   potencia              4816 non-null   float64 \n",
      " 3   tipo_coche            4816 non-null   object  \n",
      " 4   volante_regulable     4816 non-null   object  \n",
      " 5   aire_acondicionado    4816 non-null   bool    \n",
      " 6   camara_trasera        4816 non-null   object  \n",
      " 7   elevalunas_electrico  4816 non-null   object  \n",
      " 8   bluetooth             4816 non-null   bool    \n",
      " 9   alerta_lim_velocidad  4816 non-null   bool    \n",
      " 10  precio                4816 non-null   float64 \n",
      " 11  años_coche            4816 non-null   category\n",
      " 12  color_estandar        4816 non-null   float64 \n",
      "dtypes: bool(3), category(1), float64(4), object(5)\n",
      "memory usage: 357.9+ KB\n"
     ]
    }
   ],
   "source": [
    "# Borramos la columna 'asientos_traseros_plegables'\n",
    "df_bmw.drop(columns='asientos_traseros_plegables', inplace=True)\n",
    "\n",
    "# Comprobamos que se han eliminado correctamente\n",
    "df_bmw.info()"
   ]
  },
  {
   "cell_type": "code",
   "execution_count": 85,
   "id": "eb5f9c9f",
   "metadata": {},
   "outputs": [
    {
     "data": {
      "text/html": [
       "<div>\n",
       "<style scoped>\n",
       "    .dataframe tbody tr th:only-of-type {\n",
       "        vertical-align: middle;\n",
       "    }\n",
       "\n",
       "    .dataframe tbody tr th {\n",
       "        vertical-align: top;\n",
       "    }\n",
       "\n",
       "    .dataframe thead th {\n",
       "        text-align: right;\n",
       "    }\n",
       "</style>\n",
       "<table border=\"1\" class=\"dataframe\">\n",
       "  <thead>\n",
       "    <tr style=\"text-align: right;\">\n",
       "      <th></th>\n",
       "      <th>NULOS</th>\n",
       "      <th>% NULOS</th>\n",
       "      <th>VALORES UNICOS</th>\n",
       "    </tr>\n",
       "  </thead>\n",
       "  <tbody>\n",
       "    <tr>\n",
       "      <th>modelo</th>\n",
       "      <td>0</td>\n",
       "      <td>0.0</td>\n",
       "      <td>76</td>\n",
       "    </tr>\n",
       "    <tr>\n",
       "      <th>km</th>\n",
       "      <td>0</td>\n",
       "      <td>0.0</td>\n",
       "      <td>4759</td>\n",
       "    </tr>\n",
       "    <tr>\n",
       "      <th>potencia</th>\n",
       "      <td>0</td>\n",
       "      <td>0.0</td>\n",
       "      <td>59</td>\n",
       "    </tr>\n",
       "    <tr>\n",
       "      <th>tipo_coche</th>\n",
       "      <td>0</td>\n",
       "      <td>0.0</td>\n",
       "      <td>8</td>\n",
       "    </tr>\n",
       "    <tr>\n",
       "      <th>volante_regulable</th>\n",
       "      <td>0</td>\n",
       "      <td>0.0</td>\n",
       "      <td>2</td>\n",
       "    </tr>\n",
       "    <tr>\n",
       "      <th>aire_acondicionado</th>\n",
       "      <td>0</td>\n",
       "      <td>0.0</td>\n",
       "      <td>2</td>\n",
       "    </tr>\n",
       "    <tr>\n",
       "      <th>camara_trasera</th>\n",
       "      <td>0</td>\n",
       "      <td>0.0</td>\n",
       "      <td>2</td>\n",
       "    </tr>\n",
       "    <tr>\n",
       "      <th>elevalunas_electrico</th>\n",
       "      <td>0</td>\n",
       "      <td>0.0</td>\n",
       "      <td>2</td>\n",
       "    </tr>\n",
       "    <tr>\n",
       "      <th>bluetooth</th>\n",
       "      <td>0</td>\n",
       "      <td>0.0</td>\n",
       "      <td>2</td>\n",
       "    </tr>\n",
       "    <tr>\n",
       "      <th>alerta_lim_velocidad</th>\n",
       "      <td>0</td>\n",
       "      <td>0.0</td>\n",
       "      <td>2</td>\n",
       "    </tr>\n",
       "    <tr>\n",
       "      <th>precio</th>\n",
       "      <td>0</td>\n",
       "      <td>0.0</td>\n",
       "      <td>436</td>\n",
       "    </tr>\n",
       "    <tr>\n",
       "      <th>años_coche</th>\n",
       "      <td>0</td>\n",
       "      <td>0.0</td>\n",
       "      <td>7</td>\n",
       "    </tr>\n",
       "    <tr>\n",
       "      <th>color_estandar</th>\n",
       "      <td>0</td>\n",
       "      <td>0.0</td>\n",
       "      <td>2</td>\n",
       "    </tr>\n",
       "  </tbody>\n",
       "</table>\n",
       "</div>"
      ],
      "text/plain": [
       "                      NULOS  % NULOS  VALORES UNICOS\n",
       "modelo                    0      0.0              76\n",
       "km                        0      0.0            4759\n",
       "potencia                  0      0.0              59\n",
       "tipo_coche                0      0.0               8\n",
       "volante_regulable         0      0.0               2\n",
       "aire_acondicionado        0      0.0               2\n",
       "camara_trasera            0      0.0               2\n",
       "elevalunas_electrico      0      0.0               2\n",
       "bluetooth                 0      0.0               2\n",
       "alerta_lim_velocidad      0      0.0               2\n",
       "precio                    0      0.0             436\n",
       "años_coche                0      0.0               7\n",
       "color_estandar            0      0.0               2"
      ]
     },
     "execution_count": 85,
     "metadata": {},
     "output_type": "execute_result"
    }
   ],
   "source": [
    "tabla_nulos(df_bmw)"
   ]
  },
  {
   "cell_type": "markdown",
   "id": "8126b061",
   "metadata": {},
   "source": [
    "## **05 - ANÁLISIS EXPLORATORIO (EDA)**"
   ]
  },
  {
   "cell_type": "code",
   "execution_count": 86,
   "id": "5194c0bf",
   "metadata": {},
   "outputs": [
    {
     "data": {
      "text/html": [
       "<div>\n",
       "<style scoped>\n",
       "    .dataframe tbody tr th:only-of-type {\n",
       "        vertical-align: middle;\n",
       "    }\n",
       "\n",
       "    .dataframe tbody tr th {\n",
       "        vertical-align: top;\n",
       "    }\n",
       "\n",
       "    .dataframe thead th {\n",
       "        text-align: right;\n",
       "    }\n",
       "</style>\n",
       "<table border=\"1\" class=\"dataframe\">\n",
       "  <thead>\n",
       "    <tr style=\"text-align: right;\">\n",
       "      <th></th>\n",
       "      <th>modelo</th>\n",
       "      <th>km</th>\n",
       "      <th>potencia</th>\n",
       "      <th>tipo_coche</th>\n",
       "      <th>volante_regulable</th>\n",
       "      <th>aire_acondicionado</th>\n",
       "      <th>camara_trasera</th>\n",
       "      <th>elevalunas_electrico</th>\n",
       "      <th>bluetooth</th>\n",
       "      <th>alerta_lim_velocidad</th>\n",
       "      <th>precio</th>\n",
       "      <th>años_coche</th>\n",
       "      <th>color_estandar</th>\n",
       "    </tr>\n",
       "  </thead>\n",
       "  <tbody>\n",
       "    <tr>\n",
       "      <th>0</th>\n",
       "      <td>118</td>\n",
       "      <td>140411.0</td>\n",
       "      <td>100.0</td>\n",
       "      <td>coupe</td>\n",
       "      <td>True</td>\n",
       "      <td>True</td>\n",
       "      <td>False</td>\n",
       "      <td>True</td>\n",
       "      <td>True</td>\n",
       "      <td>False</td>\n",
       "      <td>11300.0</td>\n",
       "      <td>4-6</td>\n",
       "      <td>1.0</td>\n",
       "    </tr>\n",
       "    <tr>\n",
       "      <th>1</th>\n",
       "      <td>M4</td>\n",
       "      <td>13929.0</td>\n",
       "      <td>317.0</td>\n",
       "      <td>convertible</td>\n",
       "      <td>True</td>\n",
       "      <td>True</td>\n",
       "      <td>False</td>\n",
       "      <td>False</td>\n",
       "      <td>True</td>\n",
       "      <td>True</td>\n",
       "      <td>69700.0</td>\n",
       "      <td>1-3</td>\n",
       "      <td>1.0</td>\n",
       "    </tr>\n",
       "    <tr>\n",
       "      <th>2</th>\n",
       "      <td>320</td>\n",
       "      <td>183297.0</td>\n",
       "      <td>120.0</td>\n",
       "      <td>sedan</td>\n",
       "      <td>False</td>\n",
       "      <td>False</td>\n",
       "      <td>False</td>\n",
       "      <td>True</td>\n",
       "      <td>False</td>\n",
       "      <td>False</td>\n",
       "      <td>10200.0</td>\n",
       "      <td>4-6</td>\n",
       "      <td>1.0</td>\n",
       "    </tr>\n",
       "    <tr>\n",
       "      <th>3</th>\n",
       "      <td>420</td>\n",
       "      <td>128035.0</td>\n",
       "      <td>135.0</td>\n",
       "      <td>convertible</td>\n",
       "      <td>True</td>\n",
       "      <td>True</td>\n",
       "      <td>False</td>\n",
       "      <td>True</td>\n",
       "      <td>True</td>\n",
       "      <td>False</td>\n",
       "      <td>25100.0</td>\n",
       "      <td>4-6</td>\n",
       "      <td>0.0</td>\n",
       "    </tr>\n",
       "    <tr>\n",
       "      <th>4</th>\n",
       "      <td>425</td>\n",
       "      <td>97097.0</td>\n",
       "      <td>160.0</td>\n",
       "      <td>coupe</td>\n",
       "      <td>True</td>\n",
       "      <td>True</td>\n",
       "      <td>False</td>\n",
       "      <td>False</td>\n",
       "      <td>True</td>\n",
       "      <td>True</td>\n",
       "      <td>33400.0</td>\n",
       "      <td>4-6</td>\n",
       "      <td>0.0</td>\n",
       "    </tr>\n",
       "  </tbody>\n",
       "</table>\n",
       "</div>"
      ],
      "text/plain": [
       "  modelo        km  potencia   tipo_coche volante_regulable  \\\n",
       "0    118  140411.0     100.0        coupe              True   \n",
       "1     M4   13929.0     317.0  convertible              True   \n",
       "2    320  183297.0     120.0        sedan             False   \n",
       "3    420  128035.0     135.0  convertible              True   \n",
       "4    425   97097.0     160.0        coupe              True   \n",
       "\n",
       "   aire_acondicionado camara_trasera elevalunas_electrico  bluetooth  \\\n",
       "0                True          False                 True       True   \n",
       "1                True          False                False       True   \n",
       "2               False          False                 True      False   \n",
       "3                True          False                 True       True   \n",
       "4                True          False                False       True   \n",
       "\n",
       "   alerta_lim_velocidad   precio años_coche  color_estandar  \n",
       "0                 False  11300.0        4-6             1.0  \n",
       "1                  True  69700.0        1-3             1.0  \n",
       "2                 False  10200.0        4-6             1.0  \n",
       "3                 False  25100.0        4-6             0.0  \n",
       "4                  True  33400.0        4-6             0.0  "
      ]
     },
     "execution_count": 86,
     "metadata": {},
     "output_type": "execute_result"
    }
   ],
   "source": [
    "df_bmw.head()"
   ]
  },
  {
   "cell_type": "markdown",
   "id": "22eef609",
   "metadata": {},
   "source": [
    "### **5.1 - ANÁLISIS UNIVARIABLE**"
   ]
  },
  {
   "cell_type": "markdown",
   "id": "7cc79955",
   "metadata": {},
   "source": [
    "#### **VARIABLES NÚMERICAS**\n"
   ]
  },
  {
   "cell_type": "markdown",
   "id": "696b6419",
   "metadata": {},
   "source": [
    "##### **KM**"
   ]
  },
  {
   "cell_type": "markdown",
   "id": "41b39e40",
   "metadata": {},
   "source": [
    "<p align=\"center\" style=\"font-size:16px;\">\n",
    "  <b>Media:</b> <span style=\"color:#e76f51;\">140,931 km</span> &nbsp;&nbsp;|&nbsp;&nbsp; \n",
    "  <b>Mediana:</b> <span style=\"color:#e76f51;\">140,948 km</span> &nbsp;&nbsp;|&nbsp;&nbsp; \n",
    "  <b>Rango:</b> <span style=\"color:#e76f51;\">476 km – 1,000,376 km</span>\n",
    "</p>\n",
    "\n",
    "---\n",
    "\n",
    "<p style=\"max-width:1200px; margin:auto; line-height:1.5; text-align: justify;\">\n",
    "La variable kilometraje (km) representa la distancia total recorrida por cada vehículo registrado. En nuestro análisis, el kilometraje tiene una media de aproximadamente 140,931 km y una mediana muy cercana, 140,948 km, lo que indica una distribución bastante equilibrada y sin sesgos fuertes.<br><br>\n",
    "El rango de valores va desde un mínimo de 476 km hasta un máximo excepcional de más de 1,000,000 km, aunque este último se consideró un valor atípico extremo y se eliminó para preservar la calidad del análisis. La mayoría de los vehículos (75%) tienen menos de 175,239 km, lo que sugiere que el dataset contiene principalmente coches con un kilometraje moderado.<br><br>\n",
    "Los valores muy altos (superiores a 400,000 km) son poco frecuentes y fueron revisados para asegurar que reflejan datos coherentes, manteniendo así la fiabilidad del estudio.\n",
    "</p>"
   ]
  },
  {
   "cell_type": "code",
   "execution_count": 87,
   "id": "dbfab7b3",
   "metadata": {},
   "outputs": [
    {
     "data": {
      "text/plain": [
       "count       4816.0\n",
       "mean      140931.0\n",
       "std        60178.0\n",
       "min          476.0\n",
       "25%       102832.0\n",
       "50%       140948.0\n",
       "75%       175239.0\n",
       "max      1000376.0\n",
       "Name: km, dtype: float64"
      ]
     },
     "execution_count": 87,
     "metadata": {},
     "output_type": "execute_result"
    }
   ],
   "source": [
    "df_bmw['km'].describe().round()"
   ]
  },
  {
   "cell_type": "code",
   "execution_count": 88,
   "id": "c9388fe6",
   "metadata": {},
   "outputs": [
    {
     "data": {
      "text/html": [
       "<div>\n",
       "<style scoped>\n",
       "    .dataframe tbody tr th:only-of-type {\n",
       "        vertical-align: middle;\n",
       "    }\n",
       "\n",
       "    .dataframe tbody tr th {\n",
       "        vertical-align: top;\n",
       "    }\n",
       "\n",
       "    .dataframe thead th {\n",
       "        text-align: right;\n",
       "    }\n",
       "</style>\n",
       "<table border=\"1\" class=\"dataframe\">\n",
       "  <thead>\n",
       "    <tr style=\"text-align: right;\">\n",
       "      <th></th>\n",
       "      <th>modelo</th>\n",
       "      <th>km</th>\n",
       "      <th>potencia</th>\n",
       "      <th>tipo_coche</th>\n",
       "      <th>volante_regulable</th>\n",
       "      <th>aire_acondicionado</th>\n",
       "      <th>camara_trasera</th>\n",
       "      <th>elevalunas_electrico</th>\n",
       "      <th>bluetooth</th>\n",
       "      <th>alerta_lim_velocidad</th>\n",
       "      <th>precio</th>\n",
       "      <th>años_coche</th>\n",
       "      <th>color_estandar</th>\n",
       "    </tr>\n",
       "  </thead>\n",
       "  <tbody>\n",
       "    <tr>\n",
       "      <th>541</th>\n",
       "      <td>520</td>\n",
       "      <td>484615.0</td>\n",
       "      <td>120.0</td>\n",
       "      <td>estate</td>\n",
       "      <td>True</td>\n",
       "      <td>True</td>\n",
       "      <td>False</td>\n",
       "      <td>False</td>\n",
       "      <td>False</td>\n",
       "      <td>False</td>\n",
       "      <td>8300.0</td>\n",
       "      <td>7-10</td>\n",
       "      <td>1.0</td>\n",
       "    </tr>\n",
       "    <tr>\n",
       "      <th>1553</th>\n",
       "      <td>320</td>\n",
       "      <td>400654.0</td>\n",
       "      <td>110.0</td>\n",
       "      <td>estate</td>\n",
       "      <td>False</td>\n",
       "      <td>False</td>\n",
       "      <td>True</td>\n",
       "      <td>False</td>\n",
       "      <td>False</td>\n",
       "      <td>False</td>\n",
       "      <td>1800.0</td>\n",
       "      <td>11-15</td>\n",
       "      <td>1.0</td>\n",
       "    </tr>\n",
       "    <tr>\n",
       "      <th>2328</th>\n",
       "      <td>318</td>\n",
       "      <td>477571.0</td>\n",
       "      <td>85.0</td>\n",
       "      <td>sedan</td>\n",
       "      <td>False</td>\n",
       "      <td>True</td>\n",
       "      <td>False</td>\n",
       "      <td>False</td>\n",
       "      <td>True</td>\n",
       "      <td>False</td>\n",
       "      <td>1200.0</td>\n",
       "      <td>16-20</td>\n",
       "      <td>1.0</td>\n",
       "    </tr>\n",
       "    <tr>\n",
       "      <th>2807</th>\n",
       "      <td>525</td>\n",
       "      <td>439060.0</td>\n",
       "      <td>105.0</td>\n",
       "      <td>estate</td>\n",
       "      <td>False</td>\n",
       "      <td>False</td>\n",
       "      <td>True</td>\n",
       "      <td>False</td>\n",
       "      <td>False</td>\n",
       "      <td>False</td>\n",
       "      <td>100.0</td>\n",
       "      <td>21-25</td>\n",
       "      <td>0.0</td>\n",
       "    </tr>\n",
       "    <tr>\n",
       "      <th>3175</th>\n",
       "      <td>320</td>\n",
       "      <td>405816.0</td>\n",
       "      <td>100.0</td>\n",
       "      <td>sedan</td>\n",
       "      <td>False</td>\n",
       "      <td>False</td>\n",
       "      <td>False</td>\n",
       "      <td>False</td>\n",
       "      <td>False</td>\n",
       "      <td>False</td>\n",
       "      <td>500.0</td>\n",
       "      <td>16-20</td>\n",
       "      <td>1.0</td>\n",
       "    </tr>\n",
       "    <tr>\n",
       "      <th>3709</th>\n",
       "      <td>118</td>\n",
       "      <td>1000376.0</td>\n",
       "      <td>90.0</td>\n",
       "      <td>hatchback</td>\n",
       "      <td>True</td>\n",
       "      <td>False</td>\n",
       "      <td>False</td>\n",
       "      <td>False</td>\n",
       "      <td>False</td>\n",
       "      <td>False</td>\n",
       "      <td>1400.0</td>\n",
       "      <td>11-15</td>\n",
       "      <td>1.0</td>\n",
       "    </tr>\n",
       "  </tbody>\n",
       "</table>\n",
       "</div>"
      ],
      "text/plain": [
       "     modelo         km  potencia tipo_coche volante_regulable  \\\n",
       "541     520   484615.0     120.0     estate              True   \n",
       "1553    320   400654.0     110.0     estate             False   \n",
       "2328    318   477571.0      85.0      sedan             False   \n",
       "2807    525   439060.0     105.0     estate             False   \n",
       "3175    320   405816.0     100.0      sedan             False   \n",
       "3709    118  1000376.0      90.0  hatchback              True   \n",
       "\n",
       "      aire_acondicionado camara_trasera elevalunas_electrico  bluetooth  \\\n",
       "541                 True          False                False      False   \n",
       "1553               False           True                False      False   \n",
       "2328                True          False                False       True   \n",
       "2807               False           True                False      False   \n",
       "3175               False          False                False      False   \n",
       "3709               False          False                False      False   \n",
       "\n",
       "      alerta_lim_velocidad  precio años_coche  color_estandar  \n",
       "541                  False  8300.0       7-10             1.0  \n",
       "1553                 False  1800.0      11-15             1.0  \n",
       "2328                 False  1200.0      16-20             1.0  \n",
       "2807                 False   100.0      21-25             0.0  \n",
       "3175                 False   500.0      16-20             1.0  \n",
       "3709                 False  1400.0      11-15             1.0  "
      ]
     },
     "execution_count": 88,
     "metadata": {},
     "output_type": "execute_result"
    }
   ],
   "source": [
    "# Comprobamos cuantos coches tienen más de 400.000 km\n",
    "df_bmw[df_bmw['km'] > 400000]"
   ]
  },
  {
   "cell_type": "code",
   "execution_count": null,
   "id": "a841a2eb",
   "metadata": {},
   "outputs": [
    {
     "name": "stdout",
     "output_type": "stream",
     "text": [
      "El limite inferior es -5780.125 y el limite superior es 283850.875\n",
      "Número de outliers en km: 96\n"
     ]
    }
   ],
   "source": [
    "# Calculamos los límites para detectar outliers en la columna 'km' utilizando el método del rango intercuartílico (IQR)\n",
    "Q1 = df_bmw['km'].quantile(0.25)\n",
    "Q3 = df_bmw['km'].quantile(0.75)\n",
    "IQR = Q3 - Q1\n",
    "\n",
    "limite_inferior = Q1 - 1.5 * IQR\n",
    "limite_superior = Q3 + 1.5 * IQR\n",
    "\n",
    "outliers_km = df_bmw[(df_bmw['km'] < limite_inferior) | (df_bmw['km'] > limite_superior)]\n",
    "\n",
    "print(f\"El limite inferior es {limite_inferior} y el limite superior es {limite_superior}\")\n",
    "print(f\"Número de outliers en km: {len(outliers_km)}\")"
   ]
  },
  {
   "cell_type": "code",
   "execution_count": 152,
   "id": "7b9cb3f1",
   "metadata": {},
   "outputs": [
    {
     "data": {
      "image/png": "[encoded data removed]",
      "text/plain": [
       "<Figure size 1600x500 with 1 Axes>"
      ]
     },
     "metadata": {},
     "output_type": "display_data"
    }
   ],
   "source": [
    "# Visualización de boxplot para visualizar los outliers en la columna 'km'\n",
    "plt.figure(figsize=(16,5))\n",
    "\n",
    "plt.subplot(1,2,1)\n",
    "sns.boxplot(x=df_bmw['km'], color='lightgreen')\n",
    "plt.title('Kilómetros')\n",
    "plt.gca().xaxis.set_major_formatter(mticker.FuncFormatter(lambda x, _: f'{int(x):,}'))\n",
    "\n",
    "plt.show()"
   ]
  },
  {
   "cell_type": "code",
   "execution_count": null,
   "id": "c2e50838",
   "metadata": {},
   "outputs": [
    {
     "data": {
      "text/plain": [
       "143"
      ]
     },
     "execution_count": 91,
     "metadata": {},
     "output_type": "execute_result"
    }
   ],
   "source": [
    "# Comprobamos el número de registros de BMW que tienen el modelo '118', para deidir si borrar el outlier\n",
    "len(df_bmw[df_bmw[\"modelo\"]==\"118\"])"
   ]
  },
  {
   "cell_type": "code",
   "execution_count": 92,
   "id": "3d97e012",
   "metadata": {},
   "outputs": [],
   "source": [
    "# Buscamos el indice del registro con más de 1.000.000 km\n",
    "indice_outlier_km = df_bmw[df_bmw['km'] > 1000000].index\n",
    "# Eliminamos el registro con más de 1.000.000 km\n",
    "df_bmw = df_bmw.drop(index=indice_outlier_km)"
   ]
  },
  {
   "cell_type": "code",
   "execution_count": 93,
   "id": "47f909c0",
   "metadata": {},
   "outputs": [
    {
     "data": {
      "image/png": "[encoded data removed]",
      "text/plain": [
       "<Figure size 1600x500 with 1 Axes>"
      ]
     },
     "metadata": {},
     "output_type": "display_data"
    }
   ],
   "source": [
    "# Visualización para comparar antes y después\n",
    "plt.figure(figsize=(16,5))\n",
    "\n",
    "plt.subplot(1,2,1)\n",
    "sns.boxplot(x=df_bmw['km'], color='lightgreen')\n",
    "plt.title('Kilómetros Originales')\n",
    "plt.gca().xaxis.set_major_formatter(mticker.FuncFormatter(lambda x, _: f'{int(x):,}'))\n",
    "\n",
    "plt.show()"
   ]
  },
  {
   "cell_type": "code",
   "execution_count": 151,
   "id": "ac6746d7",
   "metadata": {},
   "outputs": [
    {
     "data": {
      "image/png": "[encoded data removed]",
      "text/plain": [
       "<Figure size 1400x600 with 1 Axes>"
      ]
     },
     "metadata": {},
     "output_type": "display_data"
    }
   ],
   "source": [
    "plt.figure(figsize=(14, 6))\n",
    "sns.histplot(df_bmw['km'], bins=30, kde=True, color='skyblue')\n",
    "\n",
    "# Título y etiquetas\n",
    "plt.title('Distribución del kilometraje')\n",
    "plt.xlabel('Kilómetros')\n",
    "plt.legend()\n",
    "plt.grid(True)\n",
    "\n",
    "# Formato del eje X con separador de miles\n",
    "plt.gca().xaxis.set_major_formatter(mticker.FuncFormatter(lambda x, _: f'{int(x):,}'))\n",
    "\n",
    "plt.tight_layout()\n",
    "plt.show()"
   ]
  },
  {
   "cell_type": "markdown",
   "id": "3c8860a3",
   "metadata": {},
   "source": [
    "##### ****"
   ]
  },
  {
   "cell_type": "code",
   "execution_count": 95,
   "id": "559761d1",
   "metadata": {},
   "outputs": [],
   "source": [
    "target = 'precio'\n",
    "features = df_bmw.columns[df_bmw.columns != target]"
   ]
  },
  {
   "cell_type": "code",
   "execution_count": 96,
   "id": "ef039b6d",
   "metadata": {},
   "outputs": [],
   "source": [
    "def obtener_lista_variables(dataset):\n",
    "    lista_numericas=[]\n",
    "    lista_boolean=[]\n",
    "    lista_categoricas=[]\n",
    "\n",
    "    for i in dataset:\n",
    "        if    (dataset[i].dtype.kind in (\"f\",\"i\")) and len(dataset[i].unique())!= 2  and i not in target:\n",
    "              lista_numericas.append(i)\n",
    "        elif  (dataset[i].dtype.kind in (\"f\",\"i\")) and len(dataset[i].unique())== 2  and i not in target:\n",
    "              lista_boolean.append(i)\n",
    "        elif  (dataset[i].dtype.kind == \"O\")  and i not in target:\n",
    "              lista_categoricas.append(i)\n",
    "                \n",
    "    return lista_numericas, lista_boolean, lista_categoricas"
   ]
  },
  {
   "cell_type": "code",
   "execution_count": 97,
   "id": "67733ecf",
   "metadata": {},
   "outputs": [],
   "source": [
    "lista_numericas, lista_boolean, lista_categoricas= obtener_lista_variables(df_bmw)"
   ]
  },
  {
   "cell_type": "code",
   "execution_count": 98,
   "id": "89ff56ae",
   "metadata": {},
   "outputs": [
    {
     "name": "stdout",
     "output_type": "stream",
     "text": [
      "La variables numericas son:  ['km', 'potencia']\n",
      "La variables booleanas son:  ['color_estandar']\n",
      "La variables categoricas son:  ['modelo', 'tipo_coche', 'volante_regulable', 'camara_trasera', 'elevalunas_electrico', 'años_coche']\n"
     ]
    }
   ],
   "source": [
    "print(\"La variables numericas son: \", lista_numericas)\n",
    "print(\"La variables booleanas son: \", lista_boolean)\n",
    "print(\"La variables categoricas son: \", lista_categoricas)"
   ]
  },
  {
   "cell_type": "code",
   "execution_count": 99,
   "id": "47abcb5c",
   "metadata": {},
   "outputs": [
    {
     "name": "stdout",
     "output_type": "stream",
     "text": [
      "######################################## \n",
      " modelo\n",
      "320                747\n",
      "520                629\n",
      "318                565\n",
      "X3                 437\n",
      "116                358\n",
      "                  ... \n",
      "M135                 1\n",
      "225                  1\n",
      "i8                   1\n",
      "630                  1\n",
      "214 Gran Tourer      1\n",
      "Name: count, Length: 76, dtype: int64\n",
      "######################################## \n",
      " tipo_coche\n",
      "estate         1730\n",
      "suv            1058\n",
      "sedan          1033\n",
      "hatchback       732\n",
      "coupe           101\n",
      "subcompact       80\n",
      "van              41\n",
      "convertible      40\n",
      "Name: count, dtype: int64\n",
      "######################################## \n",
      " volante_regulable\n",
      "True     2649\n",
      "False    2166\n",
      "Name: count, dtype: int64\n",
      "######################################## \n",
      " camara_trasera\n",
      "False    3844\n",
      "True      971\n",
      "Name: count, dtype: int64\n",
      "######################################## \n",
      " elevalunas_electrico\n",
      "False    2597\n",
      "True     2218\n",
      "Name: count, dtype: int64\n",
      "######################################## \n",
      " años_coche\n",
      "4-6      3892\n",
      "1-3       348\n",
      "7-10      335\n",
      "11-15     192\n",
      "16-20      40\n",
      "21-25       7\n",
      ">25         1\n",
      "Name: count, dtype: int64\n"
     ]
    }
   ],
   "source": [
    "# Hacemos print del total de cada uno de los valores únicos de cada columna\n",
    "for column in lista_categoricas:\n",
    "    print(\"#\" * 40,'\\n',df_bmw[column].value_counts())\n",
    "    "
   ]
  },
  {
   "cell_type": "code",
   "execution_count": 100,
   "id": "6b5484ab",
   "metadata": {},
   "outputs": [],
   "source": [
    "def dist_box(df_bmw):\n",
    "    Name=df_bmw.name.upper()\n",
    "    fig,(ax_box,ax_dis)  =plt.subplots(nrows=2,sharex=True,gridspec_kw = {\"height_ratios\": (.25, .75)},figsize=(8, 5))\n",
    "    mean=df_bmw.mean()\n",
    "    median=df_bmw.median()\n",
    "    mode=df_bmw.mode().tolist()[0]\n",
    "    sns.set_theme(style=\"white\")\n",
    "    sns.set_palette(sns.color_palette(\"Set1\", 8))\n",
    "    fig.suptitle(\"DISPERSIÓN DE DATOS PARA \"+ Name  , fontsize=18, fontweight='bold')\n",
    "    sns.boxplot(x=df_bmw,showmeans=True, orient='h',ax=ax_box)\n",
    "    ax_box.set(xlabel='')\n",
    "    sns.set_palette(sns.color_palette(\"Set1\", 8))\n",
    "    sns.histplot(df_bmw,kde=False,ax=ax_dis)\n",
    "    ax_dis.axvline(mean, color='r', linestyle='--',linewidth=2)\n",
    "    ax_dis.axvline(median, color='g', linestyle='-',linewidth=2)\n",
    "    ax_dis.axvline(mode, color='y', linestyle='-',linewidth=2)\n",
    "    plt.legend({'Media':mean,'Mediana':median,'Moda':mode})\n",
    "list_col= df_bmw.select_dtypes(include='number').columns.to_list()"
   ]
  },
  {
   "cell_type": "code",
   "execution_count": 101,
   "id": "54e117ed",
   "metadata": {},
   "outputs": [
    {
     "data": {
      "image/png": "[encoded data removed]",
      "text/plain": [
       "<Figure size 800x500 with 2 Axes>"
      ]
     },
     "metadata": {},
     "output_type": "display_data"
    },
    {
     "data": {
      "image/png": "[encoded data removed]",
      "text/plain": [
       "<Figure size 800x500 with 2 Axes>"
      ]
     },
     "metadata": {},
     "output_type": "display_data"
    },
    {
     "data": {
      "image/png": "[encoded data removed]",
      "text/plain": [
       "<Figure size 800x500 with 2 Axes>"
      ]
     },
     "metadata": {},
     "output_type": "display_data"
    },
    {
     "data": {
      "image/png": "[encoded data removed]",
      "text/plain": [
       "<Figure size 800x500 with 2 Axes>"
      ]
     },
     "metadata": {},
     "output_type": "display_data"
    }
   ],
   "source": [
    "for i in range(len(list_col)):\n",
    "    dist_box(df_bmw[list_col[i]])"
   ]
  },
  {
   "cell_type": "code",
   "execution_count": 102,
   "id": "f3e91878",
   "metadata": {},
   "outputs": [
    {
     "data": {
      "image/png": "[encoded data removed]",
      "text/plain": [
       "<Figure size 1500x600 with 1 Axes>"
      ]
     },
     "metadata": {},
     "output_type": "display_data"
    }
   ],
   "source": [
    "fig, ax = plt.subplots(figsize=(15,6))\n",
    "ax.set_facecolor('#f6f5f5')\n",
    "fig.patch.set_facecolor('#f6f5f5')\n",
    "\n",
    "# Seleccionar los 10 modelos más comunes\n",
    "a = df_bmw['modelo'].value_counts().head(10)\n",
    "\n",
    "colors = ['#b20710'] + ['grey']*(len(a)-1)\n",
    "ax.bar(x=a.index, height=a.values, color=colors, alpha=0.9)\n",
    "\n",
    "# Añadir texto con el valor encima de cada barra\n",
    "for i, v in enumerate(a.values):\n",
    "    ax.text(i, v + 5, str(v), ha='center', fontdict={'font': 'serif', 'weight': 'normal', 'color': 'black', 'fontsize': 10}, alpha=0.8)\n",
    "\n",
    "ax.text(-1, max(a.values) + max(a.values)*0.1, 'Distribución de Modelo', \n",
    "        fontdict={'font': 'serif', 'color': 'black', 'fontsize': 18, 'weight':'bold'}, alpha=0.9)\n",
    "ax.text(-1, max(a.values) + max(a.values)*0.05, 'La mayoría de los coches son modelo 320.', \n",
    "        fontdict={'font': 'serif', 'color': 'black', 'fontsize': 12}, alpha=0.8)\n",
    "\n",
    "for loc in ['left','right','top','bottom']:\n",
    "    ax.spines[loc].set_visible(False)\n",
    "\n",
    "ax.set_xticklabels(a.index, fontdict={'font': 'serif', 'color': 'black', 'fontsize': 8, 'weight':'bold'}, alpha=0.8)\n",
    "ax.axes.get_yaxis().set_visible(False)\n",
    "\n",
    "plt.show()"
   ]
  },
  {
   "cell_type": "markdown",
   "id": "43297f31",
   "metadata": {},
   "source": [
    "### **5.2 CORRELACIÓN INCIAL**"
   ]
  },
  {
   "cell_type": "code",
   "execution_count": 103,
   "id": "239650bb",
   "metadata": {},
   "outputs": [
    {
     "data": {
      "text/html": [
       "<div>\n",
       "<style scoped>\n",
       "    .dataframe tbody tr th:only-of-type {\n",
       "        vertical-align: middle;\n",
       "    }\n",
       "\n",
       "    .dataframe tbody tr th {\n",
       "        vertical-align: top;\n",
       "    }\n",
       "\n",
       "    .dataframe thead th {\n",
       "        text-align: right;\n",
       "    }\n",
       "</style>\n",
       "<table border=\"1\" class=\"dataframe\">\n",
       "  <thead>\n",
       "    <tr style=\"text-align: right;\">\n",
       "      <th></th>\n",
       "      <th>modelo</th>\n",
       "      <th>km</th>\n",
       "      <th>potencia</th>\n",
       "      <th>tipo_coche</th>\n",
       "      <th>volante_regulable</th>\n",
       "      <th>aire_acondicionado</th>\n",
       "      <th>camara_trasera</th>\n",
       "      <th>elevalunas_electrico</th>\n",
       "      <th>bluetooth</th>\n",
       "      <th>alerta_lim_velocidad</th>\n",
       "      <th>precio</th>\n",
       "      <th>años_coche</th>\n",
       "      <th>color_estandar</th>\n",
       "    </tr>\n",
       "  </thead>\n",
       "  <tbody>\n",
       "    <tr>\n",
       "      <th>0</th>\n",
       "      <td>118</td>\n",
       "      <td>140411.0</td>\n",
       "      <td>100.0</td>\n",
       "      <td>coupe</td>\n",
       "      <td>True</td>\n",
       "      <td>True</td>\n",
       "      <td>False</td>\n",
       "      <td>True</td>\n",
       "      <td>True</td>\n",
       "      <td>False</td>\n",
       "      <td>11300.0</td>\n",
       "      <td>4-6</td>\n",
       "      <td>1.0</td>\n",
       "    </tr>\n",
       "    <tr>\n",
       "      <th>1</th>\n",
       "      <td>M4</td>\n",
       "      <td>13929.0</td>\n",
       "      <td>317.0</td>\n",
       "      <td>convertible</td>\n",
       "      <td>True</td>\n",
       "      <td>True</td>\n",
       "      <td>False</td>\n",
       "      <td>False</td>\n",
       "      <td>True</td>\n",
       "      <td>True</td>\n",
       "      <td>69700.0</td>\n",
       "      <td>1-3</td>\n",
       "      <td>1.0</td>\n",
       "    </tr>\n",
       "    <tr>\n",
       "      <th>2</th>\n",
       "      <td>320</td>\n",
       "      <td>183297.0</td>\n",
       "      <td>120.0</td>\n",
       "      <td>sedan</td>\n",
       "      <td>False</td>\n",
       "      <td>False</td>\n",
       "      <td>False</td>\n",
       "      <td>True</td>\n",
       "      <td>False</td>\n",
       "      <td>False</td>\n",
       "      <td>10200.0</td>\n",
       "      <td>4-6</td>\n",
       "      <td>1.0</td>\n",
       "    </tr>\n",
       "    <tr>\n",
       "      <th>3</th>\n",
       "      <td>420</td>\n",
       "      <td>128035.0</td>\n",
       "      <td>135.0</td>\n",
       "      <td>convertible</td>\n",
       "      <td>True</td>\n",
       "      <td>True</td>\n",
       "      <td>False</td>\n",
       "      <td>True</td>\n",
       "      <td>True</td>\n",
       "      <td>False</td>\n",
       "      <td>25100.0</td>\n",
       "      <td>4-6</td>\n",
       "      <td>0.0</td>\n",
       "    </tr>\n",
       "    <tr>\n",
       "      <th>4</th>\n",
       "      <td>425</td>\n",
       "      <td>97097.0</td>\n",
       "      <td>160.0</td>\n",
       "      <td>coupe</td>\n",
       "      <td>True</td>\n",
       "      <td>True</td>\n",
       "      <td>False</td>\n",
       "      <td>False</td>\n",
       "      <td>True</td>\n",
       "      <td>True</td>\n",
       "      <td>33400.0</td>\n",
       "      <td>4-6</td>\n",
       "      <td>0.0</td>\n",
       "    </tr>\n",
       "    <tr>\n",
       "      <th>...</th>\n",
       "      <td>...</td>\n",
       "      <td>...</td>\n",
       "      <td>...</td>\n",
       "      <td>...</td>\n",
       "      <td>...</td>\n",
       "      <td>...</td>\n",
       "      <td>...</td>\n",
       "      <td>...</td>\n",
       "      <td>...</td>\n",
       "      <td>...</td>\n",
       "      <td>...</td>\n",
       "      <td>...</td>\n",
       "      <td>...</td>\n",
       "    </tr>\n",
       "    <tr>\n",
       "      <th>4811</th>\n",
       "      <td>218 Gran Tourer</td>\n",
       "      <td>39743.0</td>\n",
       "      <td>110.0</td>\n",
       "      <td>van</td>\n",
       "      <td>False</td>\n",
       "      <td>True</td>\n",
       "      <td>False</td>\n",
       "      <td>False</td>\n",
       "      <td>False</td>\n",
       "      <td>False</td>\n",
       "      <td>14600.0</td>\n",
       "      <td>1-3</td>\n",
       "      <td>1.0</td>\n",
       "    </tr>\n",
       "    <tr>\n",
       "      <th>4812</th>\n",
       "      <td>218 Active Tourer</td>\n",
       "      <td>49832.0</td>\n",
       "      <td>100.0</td>\n",
       "      <td>van</td>\n",
       "      <td>False</td>\n",
       "      <td>True</td>\n",
       "      <td>False</td>\n",
       "      <td>False</td>\n",
       "      <td>False</td>\n",
       "      <td>True</td>\n",
       "      <td>17500.0</td>\n",
       "      <td>1-3</td>\n",
       "      <td>1.0</td>\n",
       "    </tr>\n",
       "    <tr>\n",
       "      <th>4813</th>\n",
       "      <td>218 Gran Tourer</td>\n",
       "      <td>19633.0</td>\n",
       "      <td>110.0</td>\n",
       "      <td>van</td>\n",
       "      <td>False</td>\n",
       "      <td>True</td>\n",
       "      <td>False</td>\n",
       "      <td>False</td>\n",
       "      <td>False</td>\n",
       "      <td>True</td>\n",
       "      <td>17000.0</td>\n",
       "      <td>1-3</td>\n",
       "      <td>1.0</td>\n",
       "    </tr>\n",
       "    <tr>\n",
       "      <th>4814</th>\n",
       "      <td>218 Active Tourer</td>\n",
       "      <td>27920.0</td>\n",
       "      <td>110.0</td>\n",
       "      <td>van</td>\n",
       "      <td>True</td>\n",
       "      <td>True</td>\n",
       "      <td>False</td>\n",
       "      <td>False</td>\n",
       "      <td>False</td>\n",
       "      <td>True</td>\n",
       "      <td>22700.0</td>\n",
       "      <td>1-3</td>\n",
       "      <td>0.0</td>\n",
       "    </tr>\n",
       "    <tr>\n",
       "      <th>4815</th>\n",
       "      <td>525</td>\n",
       "      <td>195840.0</td>\n",
       "      <td>160.0</td>\n",
       "      <td>estate</td>\n",
       "      <td>True</td>\n",
       "      <td>True</td>\n",
       "      <td>False</td>\n",
       "      <td>True</td>\n",
       "      <td>False</td>\n",
       "      <td>True</td>\n",
       "      <td>15500.0</td>\n",
       "      <td>4-6</td>\n",
       "      <td>1.0</td>\n",
       "    </tr>\n",
       "  </tbody>\n",
       "</table>\n",
       "<p>4815 rows × 13 columns</p>\n",
       "</div>"
      ],
      "text/plain": [
       "                 modelo        km  potencia   tipo_coche volante_regulable  \\\n",
       "0                   118  140411.0     100.0        coupe              True   \n",
       "1                    M4   13929.0     317.0  convertible              True   \n",
       "2                   320  183297.0     120.0        sedan             False   \n",
       "3                   420  128035.0     135.0  convertible              True   \n",
       "4                   425   97097.0     160.0        coupe              True   \n",
       "...                 ...       ...       ...          ...               ...   \n",
       "4811    218 Gran Tourer   39743.0     110.0          van             False   \n",
       "4812  218 Active Tourer   49832.0     100.0          van             False   \n",
       "4813    218 Gran Tourer   19633.0     110.0          van             False   \n",
       "4814  218 Active Tourer   27920.0     110.0          van              True   \n",
       "4815                525  195840.0     160.0       estate              True   \n",
       "\n",
       "      aire_acondicionado camara_trasera elevalunas_electrico  bluetooth  \\\n",
       "0                   True          False                 True       True   \n",
       "1                   True          False                False       True   \n",
       "2                  False          False                 True      False   \n",
       "3                   True          False                 True       True   \n",
       "4                   True          False                False       True   \n",
       "...                  ...            ...                  ...        ...   \n",
       "4811                True          False                False      False   \n",
       "4812                True          False                False      False   \n",
       "4813                True          False                False      False   \n",
       "4814                True          False                False      False   \n",
       "4815                True          False                 True      False   \n",
       "\n",
       "      alerta_lim_velocidad   precio años_coche  color_estandar  \n",
       "0                    False  11300.0        4-6             1.0  \n",
       "1                     True  69700.0        1-3             1.0  \n",
       "2                    False  10200.0        4-6             1.0  \n",
       "3                    False  25100.0        4-6             0.0  \n",
       "4                     True  33400.0        4-6             0.0  \n",
       "...                    ...      ...        ...             ...  \n",
       "4811                 False  14600.0        1-3             1.0  \n",
       "4812                  True  17500.0        1-3             1.0  \n",
       "4813                  True  17000.0        1-3             1.0  \n",
       "4814                  True  22700.0        1-3             0.0  \n",
       "4815                  True  15500.0        4-6             1.0  \n",
       "\n",
       "[4815 rows x 13 columns]"
      ]
     },
     "execution_count": 103,
     "metadata": {},
     "output_type": "execute_result"
    }
   ],
   "source": [
    "df_bmw"
   ]
  },
  {
   "cell_type": "code",
   "execution_count": 104,
   "id": "84f0fd13",
   "metadata": {},
   "outputs": [
    {
     "data": {
      "text/html": [
       "<style type=\"text/css\">\n",
       "#T_e082d_row0_col0, #T_e082d_row1_col1, #T_e082d_row2_col2, #T_e082d_row3_col3, #T_e082d_row4_col4, #T_e082d_row5_col5, #T_e082d_row6_col6 {\n",
       "  background-color: #b40426;\n",
       "  color: #f1f1f1;\n",
       "}\n",
       "#T_e082d_row0_col1, #T_e082d_row0_col2, #T_e082d_row0_col3, #T_e082d_row0_col4, #T_e082d_row0_col5, #T_e082d_row0_col6, #T_e082d_row5_col0, #T_e082d_row6_col2 {\n",
       "  background-color: #3b4cc0;\n",
       "  color: #f1f1f1;\n",
       "}\n",
       "#T_e082d_row1_col0, #T_e082d_row3_col1 {\n",
       "  background-color: #90b2fe;\n",
       "  color: #000000;\n",
       "}\n",
       "#T_e082d_row1_col2 {\n",
       "  background-color: #7597f6;\n",
       "  color: #f1f1f1;\n",
       "}\n",
       "#T_e082d_row1_col3 {\n",
       "  background-color: #8db0fe;\n",
       "  color: #000000;\n",
       "}\n",
       "#T_e082d_row1_col4 {\n",
       "  background-color: #e4d9d2;\n",
       "  color: #000000;\n",
       "}\n",
       "#T_e082d_row1_col5 {\n",
       "  background-color: #f59c7d;\n",
       "  color: #000000;\n",
       "}\n",
       "#T_e082d_row1_col6 {\n",
       "  background-color: #455cce;\n",
       "  color: #f1f1f1;\n",
       "}\n",
       "#T_e082d_row2_col0 {\n",
       "  background-color: #9dbdff;\n",
       "  color: #000000;\n",
       "}\n",
       "#T_e082d_row2_col1 {\n",
       "  background-color: #84a7fc;\n",
       "  color: #f1f1f1;\n",
       "}\n",
       "#T_e082d_row2_col3 {\n",
       "  background-color: #6687ed;\n",
       "  color: #f1f1f1;\n",
       "}\n",
       "#T_e082d_row2_col4 {\n",
       "  background-color: #8caffe;\n",
       "  color: #000000;\n",
       "}\n",
       "#T_e082d_row2_col5 {\n",
       "  background-color: #d3dbe7;\n",
       "  color: #000000;\n",
       "}\n",
       "#T_e082d_row2_col6 {\n",
       "  background-color: #3c4ec2;\n",
       "  color: #f1f1f1;\n",
       "}\n",
       "#T_e082d_row3_col0 {\n",
       "  background-color: #93b5fe;\n",
       "  color: #000000;\n",
       "}\n",
       "#T_e082d_row3_col2 {\n",
       "  background-color: #5a78e4;\n",
       "  color: #f1f1f1;\n",
       "}\n",
       "#T_e082d_row3_col4, #T_e082d_row4_col3 {\n",
       "  background-color: #6384eb;\n",
       "  color: #f1f1f1;\n",
       "}\n",
       "#T_e082d_row3_col5 {\n",
       "  background-color: #cad8ef;\n",
       "  color: #000000;\n",
       "}\n",
       "#T_e082d_row3_col6 {\n",
       "  background-color: #465ecf;\n",
       "  color: #f1f1f1;\n",
       "}\n",
       "#T_e082d_row4_col0 {\n",
       "  background-color: #92b4fe;\n",
       "  color: #000000;\n",
       "}\n",
       "#T_e082d_row4_col1 {\n",
       "  background-color: #e5d8d1;\n",
       "  color: #000000;\n",
       "}\n",
       "#T_e082d_row4_col2 {\n",
       "  background-color: #81a4fb;\n",
       "  color: #f1f1f1;\n",
       "}\n",
       "#T_e082d_row4_col5 {\n",
       "  background-color: #f3c8b2;\n",
       "  color: #000000;\n",
       "}\n",
       "#T_e082d_row4_col6 {\n",
       "  background-color: #4257c9;\n",
       "  color: #f1f1f1;\n",
       "}\n",
       "#T_e082d_row5_col1 {\n",
       "  background-color: #f7ba9f;\n",
       "  color: #000000;\n",
       "}\n",
       "#T_e082d_row5_col2 {\n",
       "  background-color: #88abfd;\n",
       "  color: #000000;\n",
       "}\n",
       "#T_e082d_row5_col3 {\n",
       "  background-color: #85a8fc;\n",
       "  color: #f1f1f1;\n",
       "}\n",
       "#T_e082d_row5_col4 {\n",
       "  background-color: #d5dbe5;\n",
       "  color: #000000;\n",
       "}\n",
       "#T_e082d_row5_col6 {\n",
       "  background-color: #445acc;\n",
       "  color: #f1f1f1;\n",
       "}\n",
       "#T_e082d_row6_col0 {\n",
       "  background-color: #9bbcff;\n",
       "  color: #000000;\n",
       "}\n",
       "#T_e082d_row6_col1 {\n",
       "  background-color: #536edd;\n",
       "  color: #f1f1f1;\n",
       "}\n",
       "#T_e082d_row6_col3 {\n",
       "  background-color: #516ddb;\n",
       "  color: #f1f1f1;\n",
       "}\n",
       "#T_e082d_row6_col4 {\n",
       "  background-color: #4c66d6;\n",
       "  color: #f1f1f1;\n",
       "}\n",
       "#T_e082d_row6_col5 {\n",
       "  background-color: #a3c2fe;\n",
       "  color: #000000;\n",
       "}\n",
       "</style>\n",
       "<table id=\"T_e082d\">\n",
       "  <thead>\n",
       "    <tr>\n",
       "      <th class=\"blank level0\" >&nbsp;</th>\n",
       "      <th id=\"T_e082d_level0_col0\" class=\"col_heading level0 col0\" >km</th>\n",
       "      <th id=\"T_e082d_level0_col1\" class=\"col_heading level0 col1\" >potencia</th>\n",
       "      <th id=\"T_e082d_level0_col2\" class=\"col_heading level0 col2\" >aire_acondicionado</th>\n",
       "      <th id=\"T_e082d_level0_col3\" class=\"col_heading level0 col3\" >bluetooth</th>\n",
       "      <th id=\"T_e082d_level0_col4\" class=\"col_heading level0 col4\" >alerta_lim_velocidad</th>\n",
       "      <th id=\"T_e082d_level0_col5\" class=\"col_heading level0 col5\" >precio</th>\n",
       "      <th id=\"T_e082d_level0_col6\" class=\"col_heading level0 col6\" >color_estandar</th>\n",
       "    </tr>\n",
       "  </thead>\n",
       "  <tbody>\n",
       "    <tr>\n",
       "      <th id=\"T_e082d_level0_row0\" class=\"row_heading level0 row0\" >km</th>\n",
       "      <td id=\"T_e082d_row0_col0\" class=\"data row0 col0\" >1.000000</td>\n",
       "      <td id=\"T_e082d_row0_col1\" class=\"data row0 col1\" >-0.047223</td>\n",
       "      <td id=\"T_e082d_row0_col2\" class=\"data row0 col2\" >0.004084</td>\n",
       "      <td id=\"T_e082d_row0_col3\" class=\"data row0 col3\" >-0.037176</td>\n",
       "      <td id=\"T_e082d_row0_col4\" class=\"data row0 col4\" >-0.038748</td>\n",
       "      <td id=\"T_e082d_row0_col5\" class=\"data row0 col5\" >-0.413304</td>\n",
       "      <td id=\"T_e082d_row0_col6\" class=\"data row0 col6\" >-0.000655</td>\n",
       "    </tr>\n",
       "    <tr>\n",
       "      <th id=\"T_e082d_level0_row1\" class=\"row_heading level0 row1\" >potencia</th>\n",
       "      <td id=\"T_e082d_row1_col0\" class=\"data row1 col0\" >-0.047223</td>\n",
       "      <td id=\"T_e082d_row1_col1\" class=\"data row1 col1\" >1.000000</td>\n",
       "      <td id=\"T_e082d_row1_col2\" class=\"data row1 col2\" >0.186468</td>\n",
       "      <td id=\"T_e082d_row1_col3\" class=\"data row1 col3\" >0.224750</td>\n",
       "      <td id=\"T_e082d_row1_col4\" class=\"data row1 col4\" >0.511987</td>\n",
       "      <td id=\"T_e082d_row1_col5\" class=\"data row1 col5\" >0.640025</td>\n",
       "      <td id=\"T_e082d_row1_col6\" class=\"data row1 col6\" >0.036545</td>\n",
       "    </tr>\n",
       "    <tr>\n",
       "      <th id=\"T_e082d_level0_row2\" class=\"row_heading level0 row2\" >aire_acondicionado</th>\n",
       "      <td id=\"T_e082d_row2_col0\" class=\"data row2 col0\" >0.004084</td>\n",
       "      <td id=\"T_e082d_row2_col1\" class=\"data row2 col1\" >0.186468</td>\n",
       "      <td id=\"T_e082d_row2_col2\" class=\"data row2 col2\" >1.000000</td>\n",
       "      <td id=\"T_e082d_row2_col3\" class=\"data row2 col3\" >0.105972</td>\n",
       "      <td id=\"T_e082d_row2_col4\" class=\"data row2 col4\" >0.218136</td>\n",
       "      <td id=\"T_e082d_row2_col5\" class=\"data row2 col5\" >0.240172</td>\n",
       "      <td id=\"T_e082d_row2_col6\" class=\"data row2 col6\" >0.004007</td>\n",
       "    </tr>\n",
       "    <tr>\n",
       "      <th id=\"T_e082d_level0_row3\" class=\"row_heading level0 row3\" >bluetooth</th>\n",
       "      <td id=\"T_e082d_row3_col0\" class=\"data row3 col0\" >-0.037176</td>\n",
       "      <td id=\"T_e082d_row3_col1\" class=\"data row3 col1\" >0.224750</td>\n",
       "      <td id=\"T_e082d_row3_col2\" class=\"data row3 col2\" >0.105972</td>\n",
       "      <td id=\"T_e082d_row3_col3\" class=\"data row3 col3\" >1.000000</td>\n",
       "      <td id=\"T_e082d_row3_col4\" class=\"data row3 col4\" >0.097335</td>\n",
       "      <td id=\"T_e082d_row3_col5\" class=\"data row3 col5\" >0.198586</td>\n",
       "      <td id=\"T_e082d_row3_col6\" class=\"data row3 col6\" >0.041029</td>\n",
       "    </tr>\n",
       "    <tr>\n",
       "      <th id=\"T_e082d_level0_row4\" class=\"row_heading level0 row4\" >alerta_lim_velocidad</th>\n",
       "      <td id=\"T_e082d_row4_col0\" class=\"data row4 col0\" >-0.038748</td>\n",
       "      <td id=\"T_e082d_row4_col1\" class=\"data row4 col1\" >0.511987</td>\n",
       "      <td id=\"T_e082d_row4_col2\" class=\"data row4 col2\" >0.218136</td>\n",
       "      <td id=\"T_e082d_row4_col3\" class=\"data row4 col3\" >0.097335</td>\n",
       "      <td id=\"T_e082d_row4_col4\" class=\"data row4 col4\" >1.000000</td>\n",
       "      <td id=\"T_e082d_row4_col5\" class=\"data row4 col5\" >0.449126</td>\n",
       "      <td id=\"T_e082d_row4_col6\" class=\"data row4 col6\" >0.024946</td>\n",
       "    </tr>\n",
       "    <tr>\n",
       "      <th id=\"T_e082d_level0_row5\" class=\"row_heading level0 row5\" >precio</th>\n",
       "      <td id=\"T_e082d_row5_col0\" class=\"data row5 col0\" >-0.413304</td>\n",
       "      <td id=\"T_e082d_row5_col1\" class=\"data row5 col1\" >0.640025</td>\n",
       "      <td id=\"T_e082d_row5_col2\" class=\"data row5 col2\" >0.240172</td>\n",
       "      <td id=\"T_e082d_row5_col3\" class=\"data row5 col3\" >0.198586</td>\n",
       "      <td id=\"T_e082d_row5_col4\" class=\"data row5 col4\" >0.449126</td>\n",
       "      <td id=\"T_e082d_row5_col5\" class=\"data row5 col5\" >1.000000</td>\n",
       "      <td id=\"T_e082d_row5_col6\" class=\"data row5 col6\" >0.031485</td>\n",
       "    </tr>\n",
       "    <tr>\n",
       "      <th id=\"T_e082d_level0_row6\" class=\"row_heading level0 row6\" >color_estandar</th>\n",
       "      <td id=\"T_e082d_row6_col0\" class=\"data row6 col0\" >-0.000655</td>\n",
       "      <td id=\"T_e082d_row6_col1\" class=\"data row6 col1\" >0.036545</td>\n",
       "      <td id=\"T_e082d_row6_col2\" class=\"data row6 col2\" >0.004007</td>\n",
       "      <td id=\"T_e082d_row6_col3\" class=\"data row6 col3\" >0.041029</td>\n",
       "      <td id=\"T_e082d_row6_col4\" class=\"data row6 col4\" >0.024946</td>\n",
       "      <td id=\"T_e082d_row6_col5\" class=\"data row6 col5\" >0.031485</td>\n",
       "      <td id=\"T_e082d_row6_col6\" class=\"data row6 col6\" >1.000000</td>\n",
       "    </tr>\n",
       "  </tbody>\n",
       "</table>\n"
      ],
      "text/plain": [
       "<pandas.io.formats.style.Styler at 0x14f4aa8e0>"
      ]
     },
     "execution_count": 104,
     "metadata": {},
     "output_type": "execute_result"
    }
   ],
   "source": [
    "corr = df_bmw.corr(numeric_only=True)  \n",
    "corr.style.background_gradient(cmap='coolwarm')"
   ]
  },
  {
   "cell_type": "markdown",
   "id": "d6a7109d",
   "metadata": {},
   "source": [
    "### **5.3 VARIABLES VS TARGET (`PRECIO`)** "
   ]
  },
  {
   "cell_type": "code",
   "execution_count": null,
   "id": "af2c4c44",
   "metadata": {},
   "outputs": [],
   "source": []
  },
  {
   "cell_type": "markdown",
   "id": "f698895f",
   "metadata": {},
   "source": [
    "## **06 - TRANSFORMACIÓN DE VARIABLES**"
   ]
  },
  {
   "cell_type": "markdown",
   "id": "bd8a9f1f",
   "metadata": {},
   "source": [
    "### **6.1 - CODIFICACIÓN DE VARIABLES**"
   ]
  },
  {
   "cell_type": "code",
   "execution_count": null,
   "id": "f246d462",
   "metadata": {},
   "outputs": [],
   "source": []
  },
  {
   "cell_type": "markdown",
   "id": "8749ed39",
   "metadata": {},
   "source": [
    "### **6.2 - ESCALADO (MINMAXSCALER)**"
   ]
  },
  {
   "cell_type": "code",
   "execution_count": null,
   "id": "26a8cdcb",
   "metadata": {},
   "outputs": [],
   "source": []
  },
  {
   "cell_type": "markdown",
   "id": "f39dfa53",
   "metadata": {},
   "source": [
    "### **6.3 - CORRELACIÓN FINAL**"
   ]
  },
  {
   "cell_type": "code",
   "execution_count": null,
   "id": "05481b2a",
   "metadata": {},
   "outputs": [],
   "source": []
  },
  {
   "cell_type": "markdown",
   "id": "aee8e356",
   "metadata": {},
   "source": [
    "## **07 - DATASET FINAL**"
   ]
  },
  {
   "cell_type": "markdown",
   "id": "89bb29a9",
   "metadata": {},
   "source": [
    "### **7.1 - INFO()**"
   ]
  },
  {
   "cell_type": "code",
   "execution_count": null,
   "id": "ca5683fc",
   "metadata": {},
   "outputs": [],
   "source": []
  },
  {
   "cell_type": "markdown",
   "id": "fd207945",
   "metadata": {},
   "source": [
    "### **7.2 - EXPORTACIÓN DE PRIMERAS 50 FILAS A EXCEL**"
   ]
  },
  {
   "cell_type": "code",
   "execution_count": null,
   "id": "543c0728",
   "metadata": {},
   "outputs": [],
   "source": []
  }
 ],
 "metadata": {
  "kernelspec": {
   "display_name": "Python 3",
   "language": "python",
   "name": "python3"
  },
  "language_info": {
   "codemirror_mode": {
    "name": "ipython",
    "version": 3
   },
   "file_extension": ".py",
   "mimetype": "text/x-python",
   "name": "python",
   "nbconvert_exporter": "python",
   "pygments_lexer": "ipython3",
   "version": "3.9.6"
  }
 },
 "nbformat": 4,
 "nbformat_minor": 5
}
