{
 "cells": [
  {
   "cell_type": "markdown",
   "id": "c3ddeba7",
   "metadata": {},
   "source": [
    "![Nuclio logo](https://nuclio.school/wp-content/uploads/2018/12/nucleoDS-newBlack.png)"
   ]
  },
  {
   "cell_type": "markdown",
   "id": "f79a249b",
   "metadata": {},
   "source": [
    "## **ENTREGABLE 1:** Data Preparation - BMW Pricing\n",
    "## **INTEGRANTES DEL GRUPO:** Lluís Miarnau, Ariadna Rubió, Sergio Vásquez y David Larré\n",
    "\n",
    "____"
   ]
  },
  {
   "cell_type": "markdown",
   "id": "5bd81ac3",
   "metadata": {},
   "source": [
    "## **INTRODUCCIÓN**\n",
    "\n",
    "En este proyecto se trabajará con un dataset de vehículos BMW, el objetivo final es predecir el precio de los coches en función de diversas variables disponibles.\n",
    "\n",
    "Se realizará una exploración, limpieza y transformación completa de los datos para prepararlos adecuadamente para el modelo predictivo.\n",
    "\n",
    "## **COLUMNAS**\n",
    "\n",
    " Columna                          | Descripción |\n",
    "|----------------------------------|-------------|\n",
    "| **marca**                        | Marca del vehículo (en este caso, `BMW` o vacíos). |\n",
    "| **modelo**                       | Modelo específico del coche (por ejemplo, `118`, `M4`, `320`...). |\n",
    "| **km**                           | Kilómetros recorridos por el vehículo (indicador del uso). |\n",
    "| **potencia**                     | Potencia del motor en caballos (CV). |\n",
    "| **fecha_registro**               | Fecha en que se matriculó por primera vez el coche. |\n",
    "| **tipo_gasolina**                | Tipo de combustible que utiliza el vehículo (`diesel`, `petrol`, etc.). |\n",
    "| **color**                        | Color del coche (`black`, `white`, etc.). |\n",
    "| **tipo_coche**                   | Tipo de carrocería (`convertible`, `coupe`, etc.). |\n",
    "| **volante_regulable**            | Indica si el coche tiene volante ajustable (`True` / `False`). |\n",
    "| **aire_acondicionado**           | Indica si el coche tiene aire acondicionado (`True` / `False`). |\n",
    "| **camara_trasera**               | Indica si el coche tiene cámara de marcha atrás (`True` / `False`). |\n",
    "| **asientos_traseros_plegables**  | Indica si los asientos traseros pueden plegarse (`True` / `False`). |\n",
    "| **elevalunas_electrico**         | Indica si los elevalunas son eléctricos (`True` / `False`). |\n",
    "| **bluetooth**                    | Indica si el vehículo dispone de conexión Bluetooth (`True` / `False`). |\n",
    "| **gps**                          | Indica si el vehículo incluye sistema de navegación GPS (`True` / `False`). |\n",
    "| **alerta_lim_velocidad**         | Indica si tiene alerta de límite de velocidad (`True` / `False`). |\n",
    "| **precio**                       | Precio de venta en euros (€). Es la variable objetivo (**target**). |\n",
    "| **fecha_venta**                  | Fecha en la que se vendió el coche. |"
   ]
  },
  {
   "cell_type": "markdown",
   "id": "a66a37cd",
   "metadata": {},
   "source": [
    "## **00 - IMPORTACIÓN DE LIBRERÍAS**"
   ]
  },
  {
   "cell_type": "markdown",
   "id": "5cff7c68",
   "metadata": {},
   "source": [
    "Hacemos la importación de las librerías pandas, numpy, matplotlib.pyplot, plotly,graph_objects, seaborn, sklearn y warnings."
   ]
  },
  {
   "cell_type": "code",
   "execution_count": 1,
   "id": "5e980eab",
   "metadata": {},
   "outputs": [
    {
     "name": "stdout",
     "output_type": "stream",
     "text": [
      "Librerías importadas correctamente\n"
     ]
    }
   ],
   "source": [
    "import pandas as pd\n",
    "import numpy as np\n",
    "import matplotlib.pyplot as plt\n",
    "import plotly.graph_objects as go\n",
    "import seaborn as sns\n",
    "from sklearn.preprocessing import LabelEncoder, OrdinalEncoder, MinMaxScaler\n",
    "\n",
    "import warnings\n",
    "warnings.filterwarnings('ignore')\n",
    "\n",
    "print('Librerías importadas correctamente')"
   ]
  },
  {
   "cell_type": "markdown",
   "id": "ca4d914f",
   "metadata": {},
   "source": [
    "## **01 - IMPORTACIÓN DE DATOS**\n"
   ]
  },
  {
   "cell_type": "markdown",
   "id": "cd0e4cc4",
   "metadata": {},
   "source": [
    " Importamos los datos, realizamos una copia para guardar una versión original de los datos y mostramos el número de filas y columnas."
   ]
  },
  {
   "cell_type": "code",
   "execution_count": 2,
   "id": "8aaf880b",
   "metadata": {},
   "outputs": [
    {
     "name": "stdout",
     "output_type": "stream",
     "text": [
      "Hay 4843 filas y 18 columnas\n"
     ]
    }
   ],
   "source": [
    "bmw = pd.read_csv('/Users/davidlarre/Desktop/PROYECTOS/ENTREGABLE 1/data/bmw_pricing.csv')\n",
    "df_bmw = bmw.copy()\n",
    "\n",
    "print(f'Hay {df_bmw.shape[0]} filas y {df_bmw.shape[1]} columnas') "
   ]
  },
  {
   "cell_type": "markdown",
   "id": "c127de47",
   "metadata": {},
   "source": [
    "## **02 - OBSERVACIÓN DE LOS DATOS**"
   ]
  },
  {
   "cell_type": "markdown",
   "id": "0824a673",
   "metadata": {},
   "source": [
    "Realizamos una exploración preliminar de los datos  con el objetivo de comprender su estructura y detectar posibles inconsistencias."
   ]
  },
  {
   "cell_type": "code",
   "execution_count": 3,
   "id": "461e23c4",
   "metadata": {},
   "outputs": [
    {
     "name": "stdout",
     "output_type": "stream",
     "text": [
      "<class 'pandas.core.frame.DataFrame'>\n",
      "RangeIndex: 4843 entries, 0 to 4842\n",
      "Data columns (total 18 columns):\n",
      " #   Column                       Non-Null Count  Dtype  \n",
      "---  ------                       --------------  -----  \n",
      " 0   marca                        3873 non-null   object \n",
      " 1   modelo                       4840 non-null   object \n",
      " 2   km                           4841 non-null   float64\n",
      " 3   potencia                     4842 non-null   float64\n",
      " 4   fecha_registro               2420 non-null   object \n",
      " 5   tipo_gasolina                4838 non-null   object \n",
      " 6   color                        4398 non-null   object \n",
      " 7   tipo_coche                   3383 non-null   object \n",
      " 8   volante_regulable            4839 non-null   object \n",
      " 9   aire_acondicionado           4357 non-null   object \n",
      " 10  camara_trasera               4841 non-null   object \n",
      " 11  asientos_traseros_plegables  1452 non-null   object \n",
      " 12  elevalunas_electrico         4841 non-null   object \n",
      " 13  bluetooth                    4115 non-null   object \n",
      " 14  gps                          4843 non-null   bool   \n",
      " 15  alerta_lim_velocidad         4115 non-null   object \n",
      " 16  precio                       4837 non-null   float64\n",
      " 17  fecha_venta                  4842 non-null   object \n",
      "dtypes: bool(1), float64(3), object(14)\n",
      "memory usage: 648.1+ KB\n"
     ]
    }
   ],
   "source": [
    "df_bmw.info()"
   ]
  },
  {
   "cell_type": "code",
   "execution_count": 4,
   "id": "b6350b79",
   "metadata": {},
   "outputs": [
    {
     "data": {
      "text/html": [
       "<div>\n",
       "<style scoped>\n",
       "    .dataframe tbody tr th:only-of-type {\n",
       "        vertical-align: middle;\n",
       "    }\n",
       "\n",
       "    .dataframe tbody tr th {\n",
       "        vertical-align: top;\n",
       "    }\n",
       "\n",
       "    .dataframe thead th {\n",
       "        text-align: right;\n",
       "    }\n",
       "</style>\n",
       "<table border=\"1\" class=\"dataframe\">\n",
       "  <thead>\n",
       "    <tr style=\"text-align: right;\">\n",
       "      <th></th>\n",
       "      <th>marca</th>\n",
       "      <th>modelo</th>\n",
       "      <th>km</th>\n",
       "      <th>potencia</th>\n",
       "      <th>fecha_registro</th>\n",
       "      <th>tipo_gasolina</th>\n",
       "      <th>color</th>\n",
       "      <th>tipo_coche</th>\n",
       "      <th>volante_regulable</th>\n",
       "      <th>aire_acondicionado</th>\n",
       "      <th>camara_trasera</th>\n",
       "      <th>asientos_traseros_plegables</th>\n",
       "      <th>elevalunas_electrico</th>\n",
       "      <th>bluetooth</th>\n",
       "      <th>gps</th>\n",
       "      <th>alerta_lim_velocidad</th>\n",
       "      <th>precio</th>\n",
       "      <th>fecha_venta</th>\n",
       "    </tr>\n",
       "  </thead>\n",
       "  <tbody>\n",
       "    <tr>\n",
       "      <th>0</th>\n",
       "      <td>NaN</td>\n",
       "      <td>118</td>\n",
       "      <td>140411.0</td>\n",
       "      <td>100.0</td>\n",
       "      <td>2012-02-01</td>\n",
       "      <td>diesel</td>\n",
       "      <td>black</td>\n",
       "      <td>NaN</td>\n",
       "      <td>True</td>\n",
       "      <td>True</td>\n",
       "      <td>False</td>\n",
       "      <td>NaN</td>\n",
       "      <td>True</td>\n",
       "      <td>NaN</td>\n",
       "      <td>True</td>\n",
       "      <td>NaN</td>\n",
       "      <td>11300.0</td>\n",
       "      <td>2018-01-01</td>\n",
       "    </tr>\n",
       "    <tr>\n",
       "      <th>1</th>\n",
       "      <td>BMW</td>\n",
       "      <td>M4</td>\n",
       "      <td>13929.0</td>\n",
       "      <td>317.0</td>\n",
       "      <td>NaN</td>\n",
       "      <td>petrol</td>\n",
       "      <td>grey</td>\n",
       "      <td>convertible</td>\n",
       "      <td>True</td>\n",
       "      <td>True</td>\n",
       "      <td>False</td>\n",
       "      <td>NaN</td>\n",
       "      <td>False</td>\n",
       "      <td>True</td>\n",
       "      <td>True</td>\n",
       "      <td>True</td>\n",
       "      <td>69700.0</td>\n",
       "      <td>2018-02-01</td>\n",
       "    </tr>\n",
       "    <tr>\n",
       "      <th>2</th>\n",
       "      <td>BMW</td>\n",
       "      <td>320</td>\n",
       "      <td>183297.0</td>\n",
       "      <td>120.0</td>\n",
       "      <td>2012-04-01</td>\n",
       "      <td>diesel</td>\n",
       "      <td>white</td>\n",
       "      <td>NaN</td>\n",
       "      <td>False</td>\n",
       "      <td>False</td>\n",
       "      <td>False</td>\n",
       "      <td>NaN</td>\n",
       "      <td>True</td>\n",
       "      <td>False</td>\n",
       "      <td>True</td>\n",
       "      <td>False</td>\n",
       "      <td>10200.0</td>\n",
       "      <td>2018-02-01</td>\n",
       "    </tr>\n",
       "    <tr>\n",
       "      <th>3</th>\n",
       "      <td>BMW</td>\n",
       "      <td>420</td>\n",
       "      <td>128035.0</td>\n",
       "      <td>135.0</td>\n",
       "      <td>NaN</td>\n",
       "      <td>diesel</td>\n",
       "      <td>red</td>\n",
       "      <td>convertible</td>\n",
       "      <td>True</td>\n",
       "      <td>True</td>\n",
       "      <td>False</td>\n",
       "      <td>NaN</td>\n",
       "      <td>True</td>\n",
       "      <td>True</td>\n",
       "      <td>True</td>\n",
       "      <td>NaN</td>\n",
       "      <td>25100.0</td>\n",
       "      <td>2018-02-01</td>\n",
       "    </tr>\n",
       "    <tr>\n",
       "      <th>4</th>\n",
       "      <td>BMW</td>\n",
       "      <td>425</td>\n",
       "      <td>97097.0</td>\n",
       "      <td>160.0</td>\n",
       "      <td>NaN</td>\n",
       "      <td>diesel</td>\n",
       "      <td>silver</td>\n",
       "      <td>NaN</td>\n",
       "      <td>True</td>\n",
       "      <td>True</td>\n",
       "      <td>False</td>\n",
       "      <td>False</td>\n",
       "      <td>False</td>\n",
       "      <td>True</td>\n",
       "      <td>True</td>\n",
       "      <td>True</td>\n",
       "      <td>33400.0</td>\n",
       "      <td>2018-04-01</td>\n",
       "    </tr>\n",
       "    <tr>\n",
       "      <th>5</th>\n",
       "      <td>BMW</td>\n",
       "      <td>335</td>\n",
       "      <td>152352.0</td>\n",
       "      <td>225.0</td>\n",
       "      <td>2011-05-01</td>\n",
       "      <td>petrol</td>\n",
       "      <td>black</td>\n",
       "      <td>NaN</td>\n",
       "      <td>True</td>\n",
       "      <td>True</td>\n",
       "      <td>False</td>\n",
       "      <td>False</td>\n",
       "      <td>True</td>\n",
       "      <td>True</td>\n",
       "      <td>True</td>\n",
       "      <td>True</td>\n",
       "      <td>17100.0</td>\n",
       "      <td>2018-02-01</td>\n",
       "    </tr>\n",
       "    <tr>\n",
       "      <th>6</th>\n",
       "      <td>BMW</td>\n",
       "      <td>325</td>\n",
       "      <td>205219.0</td>\n",
       "      <td>145.0</td>\n",
       "      <td>NaN</td>\n",
       "      <td>diesel</td>\n",
       "      <td>grey</td>\n",
       "      <td>convertible</td>\n",
       "      <td>True</td>\n",
       "      <td>True</td>\n",
       "      <td>False</td>\n",
       "      <td>NaN</td>\n",
       "      <td>True</td>\n",
       "      <td>True</td>\n",
       "      <td>True</td>\n",
       "      <td>True</td>\n",
       "      <td>12400.0</td>\n",
       "      <td>2018-02-01</td>\n",
       "    </tr>\n",
       "    <tr>\n",
       "      <th>7</th>\n",
       "      <td>BMW</td>\n",
       "      <td>118</td>\n",
       "      <td>115560.0</td>\n",
       "      <td>105.0</td>\n",
       "      <td>2009-08-01</td>\n",
       "      <td>petrol</td>\n",
       "      <td>white</td>\n",
       "      <td>convertible</td>\n",
       "      <td>True</td>\n",
       "      <td>True</td>\n",
       "      <td>False</td>\n",
       "      <td>NaN</td>\n",
       "      <td>False</td>\n",
       "      <td>True</td>\n",
       "      <td>True</td>\n",
       "      <td>False</td>\n",
       "      <td>6100.0</td>\n",
       "      <td>2018-02-01</td>\n",
       "    </tr>\n",
       "    <tr>\n",
       "      <th>8</th>\n",
       "      <td>NaN</td>\n",
       "      <td>Z4</td>\n",
       "      <td>123886.0</td>\n",
       "      <td>125.0</td>\n",
       "      <td>NaN</td>\n",
       "      <td>petrol</td>\n",
       "      <td>black</td>\n",
       "      <td>convertible</td>\n",
       "      <td>True</td>\n",
       "      <td>False</td>\n",
       "      <td>False</td>\n",
       "      <td>False</td>\n",
       "      <td>False</td>\n",
       "      <td>NaN</td>\n",
       "      <td>True</td>\n",
       "      <td>False</td>\n",
       "      <td>6200.0</td>\n",
       "      <td>2018-03-01</td>\n",
       "    </tr>\n",
       "    <tr>\n",
       "      <th>9</th>\n",
       "      <td>BMW</td>\n",
       "      <td>320</td>\n",
       "      <td>139541.0</td>\n",
       "      <td>135.0</td>\n",
       "      <td>NaN</td>\n",
       "      <td>diesel</td>\n",
       "      <td>white</td>\n",
       "      <td>convertible</td>\n",
       "      <td>False</td>\n",
       "      <td>False</td>\n",
       "      <td>False</td>\n",
       "      <td>NaN</td>\n",
       "      <td>True</td>\n",
       "      <td>False</td>\n",
       "      <td>True</td>\n",
       "      <td>False</td>\n",
       "      <td>17300.0</td>\n",
       "      <td>2018-03-01</td>\n",
       "    </tr>\n",
       "  </tbody>\n",
       "</table>\n",
       "</div>"
      ],
      "text/plain": [
       "  marca modelo        km  potencia fecha_registro tipo_gasolina   color  \\\n",
       "0   NaN    118  140411.0     100.0     2012-02-01        diesel   black   \n",
       "1   BMW     M4   13929.0     317.0            NaN        petrol    grey   \n",
       "2   BMW    320  183297.0     120.0     2012-04-01        diesel   white   \n",
       "3   BMW    420  128035.0     135.0            NaN        diesel     red   \n",
       "4   BMW    425   97097.0     160.0            NaN        diesel  silver   \n",
       "5   BMW    335  152352.0     225.0     2011-05-01        petrol   black   \n",
       "6   BMW    325  205219.0     145.0            NaN        diesel    grey   \n",
       "7   BMW    118  115560.0     105.0     2009-08-01        petrol   white   \n",
       "8   NaN     Z4  123886.0     125.0            NaN        petrol   black   \n",
       "9   BMW    320  139541.0     135.0            NaN        diesel   white   \n",
       "\n",
       "    tipo_coche volante_regulable aire_acondicionado camara_trasera  \\\n",
       "0          NaN              True               True          False   \n",
       "1  convertible              True               True          False   \n",
       "2          NaN             False              False          False   \n",
       "3  convertible              True               True          False   \n",
       "4          NaN              True               True          False   \n",
       "5          NaN              True               True          False   \n",
       "6  convertible              True               True          False   \n",
       "7  convertible              True               True          False   \n",
       "8  convertible              True              False          False   \n",
       "9  convertible             False              False          False   \n",
       "\n",
       "  asientos_traseros_plegables elevalunas_electrico bluetooth   gps  \\\n",
       "0                         NaN                 True       NaN  True   \n",
       "1                         NaN                False      True  True   \n",
       "2                         NaN                 True     False  True   \n",
       "3                         NaN                 True      True  True   \n",
       "4                       False                False      True  True   \n",
       "5                       False                 True      True  True   \n",
       "6                         NaN                 True      True  True   \n",
       "7                         NaN                False      True  True   \n",
       "8                       False                False       NaN  True   \n",
       "9                         NaN                 True     False  True   \n",
       "\n",
       "  alerta_lim_velocidad   precio fecha_venta  \n",
       "0                  NaN  11300.0  2018-01-01  \n",
       "1                 True  69700.0  2018-02-01  \n",
       "2                False  10200.0  2018-02-01  \n",
       "3                  NaN  25100.0  2018-02-01  \n",
       "4                 True  33400.0  2018-04-01  \n",
       "5                 True  17100.0  2018-02-01  \n",
       "6                 True  12400.0  2018-02-01  \n",
       "7                False   6100.0  2018-02-01  \n",
       "8                False   6200.0  2018-03-01  \n",
       "9                False  17300.0  2018-03-01  "
      ]
     },
     "execution_count": 4,
     "metadata": {},
     "output_type": "execute_result"
    }
   ],
   "source": [
    "df_bmw.head(10)"
   ]
  },
  {
   "cell_type": "code",
   "execution_count": 5,
   "id": "c8d7e7ae",
   "metadata": {},
   "outputs": [
    {
     "data": {
      "text/html": [
       "<div>\n",
       "<style scoped>\n",
       "    .dataframe tbody tr th:only-of-type {\n",
       "        vertical-align: middle;\n",
       "    }\n",
       "\n",
       "    .dataframe tbody tr th {\n",
       "        vertical-align: top;\n",
       "    }\n",
       "\n",
       "    .dataframe thead th {\n",
       "        text-align: right;\n",
       "    }\n",
       "</style>\n",
       "<table border=\"1\" class=\"dataframe\">\n",
       "  <thead>\n",
       "    <tr style=\"text-align: right;\">\n",
       "      <th></th>\n",
       "      <th>count</th>\n",
       "      <th>mean</th>\n",
       "      <th>std</th>\n",
       "      <th>min</th>\n",
       "      <th>25%</th>\n",
       "      <th>50%</th>\n",
       "      <th>75%</th>\n",
       "      <th>max</th>\n",
       "    </tr>\n",
       "  </thead>\n",
       "  <tbody>\n",
       "    <tr>\n",
       "      <th>km</th>\n",
       "      <td>4841.0</td>\n",
       "      <td>140959.347862</td>\n",
       "      <td>60208.534313</td>\n",
       "      <td>-64.0</td>\n",
       "      <td>102884.0</td>\n",
       "      <td>141080.0</td>\n",
       "      <td>175217.0</td>\n",
       "      <td>1000376.0</td>\n",
       "    </tr>\n",
       "    <tr>\n",
       "      <th>potencia</th>\n",
       "      <td>4842.0</td>\n",
       "      <td>128.981826</td>\n",
       "      <td>38.994839</td>\n",
       "      <td>0.0</td>\n",
       "      <td>100.0</td>\n",
       "      <td>120.0</td>\n",
       "      <td>135.0</td>\n",
       "      <td>423.0</td>\n",
       "    </tr>\n",
       "    <tr>\n",
       "      <th>precio</th>\n",
       "      <td>4837.0</td>\n",
       "      <td>15831.920612</td>\n",
       "      <td>9222.630708</td>\n",
       "      <td>100.0</td>\n",
       "      <td>10800.0</td>\n",
       "      <td>14200.0</td>\n",
       "      <td>18600.0</td>\n",
       "      <td>178500.0</td>\n",
       "    </tr>\n",
       "  </tbody>\n",
       "</table>\n",
       "</div>"
      ],
      "text/plain": [
       "           count           mean           std    min       25%       50%  \\\n",
       "km        4841.0  140959.347862  60208.534313  -64.0  102884.0  141080.0   \n",
       "potencia  4842.0     128.981826     38.994839    0.0     100.0     120.0   \n",
       "precio    4837.0   15831.920612   9222.630708  100.0   10800.0   14200.0   \n",
       "\n",
       "               75%        max  \n",
       "km        175217.0  1000376.0  \n",
       "potencia     135.0      423.0  \n",
       "precio     18600.0   178500.0  "
      ]
     },
     "execution_count": 5,
     "metadata": {},
     "output_type": "execute_result"
    }
   ],
   "source": [
    "df_bmw.describe().T"
   ]
  },
  {
   "cell_type": "code",
   "execution_count": 6,
   "id": "46a2be87",
   "metadata": {},
   "outputs": [
    {
     "name": "stdout",
     "output_type": "stream",
     "text": [
      "Columnas : ['marca', 'modelo', 'km', 'potencia', 'fecha_registro', 'tipo_gasolina', 'color', 'tipo_coche', 'volante_regulable', 'aire_acondicionado', 'camara_trasera', 'asientos_traseros_plegables', 'elevalunas_electrico', 'bluetooth', 'gps', 'alerta_lim_velocidad', 'precio', 'fecha_venta']\n"
     ]
    }
   ],
   "source": [
    "# Listamos el nombre de todas las columnas\n",
    "print(\"Columnas :\", df_bmw.columns.tolist())"
   ]
  },
  {
   "cell_type": "code",
   "execution_count": 7,
   "id": "6446c9cd",
   "metadata": {},
   "outputs": [
    {
     "data": {
      "text/html": [
       "<div>\n",
       "<style scoped>\n",
       "    .dataframe tbody tr th:only-of-type {\n",
       "        vertical-align: middle;\n",
       "    }\n",
       "\n",
       "    .dataframe tbody tr th {\n",
       "        vertical-align: top;\n",
       "    }\n",
       "\n",
       "    .dataframe thead th {\n",
       "        text-align: right;\n",
       "    }\n",
       "</style>\n",
       "<table border=\"1\" class=\"dataframe\">\n",
       "  <thead>\n",
       "    <tr style=\"text-align: right;\">\n",
       "      <th></th>\n",
       "      <th>NULOS</th>\n",
       "      <th>% NULOS</th>\n",
       "      <th>VALORES UNICOS</th>\n",
       "    </tr>\n",
       "  </thead>\n",
       "  <tbody>\n",
       "    <tr>\n",
       "      <th>asientos_traseros_plegables</th>\n",
       "      <td>3391</td>\n",
       "      <td>70.018584</td>\n",
       "      <td>2</td>\n",
       "    </tr>\n",
       "    <tr>\n",
       "      <th>fecha_registro</th>\n",
       "      <td>2423</td>\n",
       "      <td>50.030973</td>\n",
       "      <td>180</td>\n",
       "    </tr>\n",
       "    <tr>\n",
       "      <th>tipo_coche</th>\n",
       "      <td>1460</td>\n",
       "      <td>30.146603</td>\n",
       "      <td>8</td>\n",
       "    </tr>\n",
       "    <tr>\n",
       "      <th>marca</th>\n",
       "      <td>970</td>\n",
       "      <td>20.028908</td>\n",
       "      <td>1</td>\n",
       "    </tr>\n",
       "    <tr>\n",
       "      <th>alerta_lim_velocidad</th>\n",
       "      <td>728</td>\n",
       "      <td>15.032005</td>\n",
       "      <td>2</td>\n",
       "    </tr>\n",
       "    <tr>\n",
       "      <th>bluetooth</th>\n",
       "      <td>728</td>\n",
       "      <td>15.032005</td>\n",
       "      <td>2</td>\n",
       "    </tr>\n",
       "    <tr>\n",
       "      <th>aire_acondicionado</th>\n",
       "      <td>486</td>\n",
       "      <td>10.035102</td>\n",
       "      <td>2</td>\n",
       "    </tr>\n",
       "    <tr>\n",
       "      <th>color</th>\n",
       "      <td>445</td>\n",
       "      <td>9.188520</td>\n",
       "      <td>10</td>\n",
       "    </tr>\n",
       "    <tr>\n",
       "      <th>precio</th>\n",
       "      <td>6</td>\n",
       "      <td>0.123890</td>\n",
       "      <td>437</td>\n",
       "    </tr>\n",
       "    <tr>\n",
       "      <th>tipo_gasolina</th>\n",
       "      <td>5</td>\n",
       "      <td>0.103242</td>\n",
       "      <td>5</td>\n",
       "    </tr>\n",
       "    <tr>\n",
       "      <th>volante_regulable</th>\n",
       "      <td>4</td>\n",
       "      <td>0.082593</td>\n",
       "      <td>2</td>\n",
       "    </tr>\n",
       "    <tr>\n",
       "      <th>modelo</th>\n",
       "      <td>3</td>\n",
       "      <td>0.061945</td>\n",
       "      <td>76</td>\n",
       "    </tr>\n",
       "    <tr>\n",
       "      <th>camara_trasera</th>\n",
       "      <td>2</td>\n",
       "      <td>0.041297</td>\n",
       "      <td>2</td>\n",
       "    </tr>\n",
       "    <tr>\n",
       "      <th>elevalunas_electrico</th>\n",
       "      <td>2</td>\n",
       "      <td>0.041297</td>\n",
       "      <td>2</td>\n",
       "    </tr>\n",
       "    <tr>\n",
       "      <th>km</th>\n",
       "      <td>2</td>\n",
       "      <td>0.041297</td>\n",
       "      <td>4784</td>\n",
       "    </tr>\n",
       "    <tr>\n",
       "      <th>potencia</th>\n",
       "      <td>1</td>\n",
       "      <td>0.020648</td>\n",
       "      <td>61</td>\n",
       "    </tr>\n",
       "    <tr>\n",
       "      <th>fecha_venta</th>\n",
       "      <td>1</td>\n",
       "      <td>0.020648</td>\n",
       "      <td>13</td>\n",
       "    </tr>\n",
       "    <tr>\n",
       "      <th>gps</th>\n",
       "      <td>0</td>\n",
       "      <td>0.000000</td>\n",
       "      <td>2</td>\n",
       "    </tr>\n",
       "  </tbody>\n",
       "</table>\n",
       "</div>"
      ],
      "text/plain": [
       "                             NULOS    % NULOS  VALORES UNICOS\n",
       "asientos_traseros_plegables   3391  70.018584               2\n",
       "fecha_registro                2423  50.030973             180\n",
       "tipo_coche                    1460  30.146603               8\n",
       "marca                          970  20.028908               1\n",
       "alerta_lim_velocidad           728  15.032005               2\n",
       "bluetooth                      728  15.032005               2\n",
       "aire_acondicionado             486  10.035102               2\n",
       "color                          445   9.188520              10\n",
       "precio                           6   0.123890             437\n",
       "tipo_gasolina                    5   0.103242               5\n",
       "volante_regulable                4   0.082593               2\n",
       "modelo                           3   0.061945              76\n",
       "camara_trasera                   2   0.041297               2\n",
       "elevalunas_electrico             2   0.041297               2\n",
       "km                               2   0.041297            4784\n",
       "potencia                         1   0.020648              61\n",
       "fecha_venta                      1   0.020648              13\n",
       "gps                              0   0.000000               2"
      ]
     },
     "execution_count": 7,
     "metadata": {},
     "output_type": "execute_result"
    }
   ],
   "source": [
    "# Creamos una función para crear un DataFrame con la cantidad de nulos, el porcentaje de nulos y los valores únicos de cada columna. Ordenaremos el df por el porcentaje de nulos.\n",
    "\n",
    "def tabla_nulos(dataset):\n",
    "    nulos = dataset.isnull().sum()\n",
    "    porcentaje = dataset.isnull().mean() * 100\n",
    "    unicos = dataset.nunique()\n",
    "    \n",
    "    df_nulos = pd.DataFrame({\n",
    "        'NULOS': nulos,\n",
    "        '% NULOS': porcentaje,\n",
    "        'VALORES UNICOS': unicos\n",
    "        }).sort_values(by='% NULOS', ascending=False)\n",
    "    return df_nulos\n",
    "    \n",
    "tabla_nulos(df_bmw)"
   ]
  },
  {
   "cell_type": "markdown",
   "id": "7e22ea0d",
   "metadata": {},
   "source": [
    "### **OBSERVACIONES**\n",
    "\n",
    "- `fecha_registro` y `fecha_venta` no tienen formato de fecha.\n",
    "\n",
    "- `marca` solo tiene **1** valor único.\n",
    "\n",
    "- `asientos_traseros_plegables`, `alerta_lim_velocidad`, `bluetooth`, `aire_acondicionado`, `volante_regulable`, `camara_trasera`, `elevalunas_electrico`, `gps` sus valores son True/False y no tienen formato boolean.\n",
    "\n",
    "- `precio` presenta valores nulos, al ser la variable target podría afectar al modelo predictivo. si no los tratamos adecuadamente.\n"
   ]
  },
  {
   "cell_type": "markdown",
   "id": "350e25d4",
   "metadata": {},
   "source": [
    "## **03 - PREPROCESAMIENTO DE DATOS**"
   ]
  },
  {
   "cell_type": "markdown",
   "id": "209c2a9c",
   "metadata": {},
   "source": [
    "\n",
    "### **CAMBIO DE COLUMNAS OBJECT POR FECHA**"
   ]
  },
  {
   "cell_type": "code",
   "execution_count": 8,
   "id": "8f2fb4ff",
   "metadata": {},
   "outputs": [
    {
     "name": "stdout",
     "output_type": "stream",
     "text": [
      "fecha_registro    datetime64[ns]\n",
      "fecha_venta       datetime64[ns]\n",
      "dtype: object\n"
     ]
    }
   ],
   "source": [
    "# Se modifica el dtype de las columnas 'fecha_registro' y 'fecha_venta' a datetime\n",
    "for i in ['fecha_registro','fecha_venta']:\n",
    "    df_bmw[i]=pd.to_datetime(df_bmw[i])\n",
    "# Comprobamos el cambio de dtype.\n",
    "print(df_bmw[['fecha_registro','fecha_venta']].dtypes)"
   ]
  },
  {
   "cell_type": "markdown",
   "id": "179edba0",
   "metadata": {},
   "source": [
    "### **COMPROBACIÓN DE VALORES DUPLICADOS**"
   ]
  },
  {
   "cell_type": "code",
   "execution_count": 9,
   "id": "90e99094",
   "metadata": {},
   "outputs": [
    {
     "name": "stdout",
     "output_type": "stream",
     "text": [
      "Duplicados : 0 valores duplicados\n"
     ]
    }
   ],
   "source": [
    "# Comprobamos si hay duplicados\n",
    "print(\"Duplicados :\", df_bmw.duplicated().sum(), \"valores duplicados\")"
   ]
  },
  {
   "cell_type": "markdown",
   "id": "ab1a84a7",
   "metadata": {},
   "source": [
    "### **CREACIÓN FUNCIÓN DISTRIBUCIONES**"
   ]
  },
  {
   "cell_type": "code",
   "execution_count": 10,
   "id": "353db13c",
   "metadata": {},
   "outputs": [],
   "source": [
    "# Creamos una función que devuelve el diccionario 'distribuciones' con el porcentaje de distribución de los valores de cada columna respecto al total\n",
    "\n",
    "def diccionario_distribuciones(dataset):\n",
    "    distribuciones = {}  # Lo creas dentro\n",
    "    for i in dataset:\n",
    "        distribuciones[i] = dataset[i].value_counts(normalize=True, dropna=False)\n",
    "    return distribuciones\n",
    "\n",
    "distribuciones = diccionario_distribuciones(df_bmw)"
   ]
  },
  {
   "cell_type": "markdown",
   "id": "192e5e77",
   "metadata": {},
   "source": [
    "### **CREACIÓN DE NUEVAS COLUMNAS**"
   ]
  },
  {
   "cell_type": "code",
   "execution_count": 11,
   "id": "eb218bc4",
   "metadata": {},
   "outputs": [
    {
     "data": {
      "text/html": [
       "<div>\n",
       "<style scoped>\n",
       "    .dataframe tbody tr th:only-of-type {\n",
       "        vertical-align: middle;\n",
       "    }\n",
       "\n",
       "    .dataframe tbody tr th {\n",
       "        vertical-align: top;\n",
       "    }\n",
       "\n",
       "    .dataframe thead th {\n",
       "        text-align: right;\n",
       "    }\n",
       "</style>\n",
       "<table border=\"1\" class=\"dataframe\">\n",
       "  <thead>\n",
       "    <tr style=\"text-align: right;\">\n",
       "      <th></th>\n",
       "      <th>año_registro</th>\n",
       "      <th>año_venta</th>\n",
       "      <th>años_coche</th>\n",
       "    </tr>\n",
       "  </thead>\n",
       "  <tbody>\n",
       "    <tr>\n",
       "      <th>0</th>\n",
       "      <td>2012.0</td>\n",
       "      <td>2018.0</td>\n",
       "      <td>6.0</td>\n",
       "    </tr>\n",
       "    <tr>\n",
       "      <th>1</th>\n",
       "      <td>NaN</td>\n",
       "      <td>2018.0</td>\n",
       "      <td>NaN</td>\n",
       "    </tr>\n",
       "    <tr>\n",
       "      <th>2</th>\n",
       "      <td>2012.0</td>\n",
       "      <td>2018.0</td>\n",
       "      <td>6.0</td>\n",
       "    </tr>\n",
       "    <tr>\n",
       "      <th>3</th>\n",
       "      <td>NaN</td>\n",
       "      <td>2018.0</td>\n",
       "      <td>NaN</td>\n",
       "    </tr>\n",
       "    <tr>\n",
       "      <th>4</th>\n",
       "      <td>NaN</td>\n",
       "      <td>2018.0</td>\n",
       "      <td>NaN</td>\n",
       "    </tr>\n",
       "    <tr>\n",
       "      <th>5</th>\n",
       "      <td>2011.0</td>\n",
       "      <td>2018.0</td>\n",
       "      <td>7.0</td>\n",
       "    </tr>\n",
       "    <tr>\n",
       "      <th>6</th>\n",
       "      <td>NaN</td>\n",
       "      <td>2018.0</td>\n",
       "      <td>NaN</td>\n",
       "    </tr>\n",
       "    <tr>\n",
       "      <th>7</th>\n",
       "      <td>2009.0</td>\n",
       "      <td>2018.0</td>\n",
       "      <td>9.0</td>\n",
       "    </tr>\n",
       "    <tr>\n",
       "      <th>8</th>\n",
       "      <td>NaN</td>\n",
       "      <td>2018.0</td>\n",
       "      <td>NaN</td>\n",
       "    </tr>\n",
       "    <tr>\n",
       "      <th>9</th>\n",
       "      <td>NaN</td>\n",
       "      <td>2018.0</td>\n",
       "      <td>NaN</td>\n",
       "    </tr>\n",
       "  </tbody>\n",
       "</table>\n",
       "</div>"
      ],
      "text/plain": [
       "   año_registro  año_venta  años_coche\n",
       "0        2012.0     2018.0         6.0\n",
       "1           NaN     2018.0         NaN\n",
       "2        2012.0     2018.0         6.0\n",
       "3           NaN     2018.0         NaN\n",
       "4           NaN     2018.0         NaN\n",
       "5        2011.0     2018.0         7.0\n",
       "6           NaN     2018.0         NaN\n",
       "7        2009.0     2018.0         9.0\n",
       "8           NaN     2018.0         NaN\n",
       "9           NaN     2018.0         NaN"
      ]
     },
     "execution_count": 11,
     "metadata": {},
     "output_type": "execute_result"
    }
   ],
   "source": [
    "# Consideramos que las fechas completas no aportan información relevante, por lo que vamos a crear nuevas columnas solo con el año\n",
    "df_bmw['año_registro'] = df_bmw['fecha_registro'].dt.year\n",
    "df_bmw['año_venta'] = df_bmw['fecha_venta'].dt.year\n",
    "\n",
    "# Creamos una columna para identificar los años de antigüedad del coche\n",
    "df_bmw['años_coche'] = df_bmw['año_venta'] - df_bmw['año_registro']\n",
    "\n",
    "# Comprobamos que se han creado correctamente\n",
    "df_bmw[['año_registro','año_venta','años_coche']].head(10)"
   ]
  },
  {
   "cell_type": "markdown",
   "id": "c3d57afe",
   "metadata": {},
   "source": [
    "### **CREACIÓN DATAFRAME PARA COMPARACIÓN DE DISTRIBUCIONES**"
   ]
  },
  {
   "cell_type": "code",
   "execution_count": 12,
   "id": "9ca2a2b5",
   "metadata": {},
   "outputs": [],
   "source": [
    "# Creamos una cópia del df para posteriormente hacer comparaciones de las distribuciones de las variables antes de imputar los nulos y después\n",
    "df_antes = df_bmw.copy()"
   ]
  },
  {
   "cell_type": "markdown",
   "id": "2163c4ed",
   "metadata": {},
   "source": [
    "### **ELMINACIÓN DE FILAS/COLUMNAS NO ÚTILES PARA EL MODELO**"
   ]
  },
  {
   "cell_type": "markdown",
   "id": "1be07839",
   "metadata": {},
   "source": [
    "#### **FILAS**"
   ]
  },
  {
   "cell_type": "markdown",
   "id": "76838068",
   "metadata": {},
   "source": [
    "##### **FILAS FECHAS**"
   ]
  },
  {
   "cell_type": "code",
   "execution_count": 13,
   "id": "1f65d1f9",
   "metadata": {},
   "outputs": [
    {
     "data": {
      "text/html": [
       "<div>\n",
       "<style scoped>\n",
       "    .dataframe tbody tr th:only-of-type {\n",
       "        vertical-align: middle;\n",
       "    }\n",
       "\n",
       "    .dataframe tbody tr th {\n",
       "        vertical-align: top;\n",
       "    }\n",
       "\n",
       "    .dataframe thead th {\n",
       "        text-align: right;\n",
       "    }\n",
       "</style>\n",
       "<table border=\"1\" class=\"dataframe\">\n",
       "  <thead>\n",
       "    <tr style=\"text-align: right;\">\n",
       "      <th></th>\n",
       "      <th>marca</th>\n",
       "      <th>modelo</th>\n",
       "      <th>km</th>\n",
       "      <th>potencia</th>\n",
       "      <th>fecha_registro</th>\n",
       "      <th>tipo_gasolina</th>\n",
       "      <th>color</th>\n",
       "      <th>tipo_coche</th>\n",
       "      <th>volante_regulable</th>\n",
       "      <th>aire_acondicionado</th>\n",
       "      <th>...</th>\n",
       "      <th>asientos_traseros_plegables</th>\n",
       "      <th>elevalunas_electrico</th>\n",
       "      <th>bluetooth</th>\n",
       "      <th>gps</th>\n",
       "      <th>alerta_lim_velocidad</th>\n",
       "      <th>precio</th>\n",
       "      <th>fecha_venta</th>\n",
       "      <th>año_registro</th>\n",
       "      <th>año_venta</th>\n",
       "      <th>años_coche</th>\n",
       "    </tr>\n",
       "  </thead>\n",
       "  <tbody>\n",
       "    <tr>\n",
       "      <th>100</th>\n",
       "      <td>BMW</td>\n",
       "      <td>320</td>\n",
       "      <td>342768.0</td>\n",
       "      <td>135.0</td>\n",
       "      <td>2011-12-01</td>\n",
       "      <td>diesel</td>\n",
       "      <td>black</td>\n",
       "      <td>NaN</td>\n",
       "      <td>False</td>\n",
       "      <td>True</td>\n",
       "      <td>...</td>\n",
       "      <td>NaN</td>\n",
       "      <td>True</td>\n",
       "      <td>False</td>\n",
       "      <td>True</td>\n",
       "      <td>NaN</td>\n",
       "      <td>8200.0</td>\n",
       "      <td>2010-04-01</td>\n",
       "      <td>2011.0</td>\n",
       "      <td>2010.0</td>\n",
       "      <td>-1.0</td>\n",
       "    </tr>\n",
       "    <tr>\n",
       "      <th>256</th>\n",
       "      <td>BMW</td>\n",
       "      <td>316</td>\n",
       "      <td>201102.0</td>\n",
       "      <td>85.0</td>\n",
       "      <td>2013-12-01</td>\n",
       "      <td>diesel</td>\n",
       "      <td>black</td>\n",
       "      <td>estate</td>\n",
       "      <td>True</td>\n",
       "      <td>NaN</td>\n",
       "      <td>...</td>\n",
       "      <td>NaN</td>\n",
       "      <td>False</td>\n",
       "      <td>False</td>\n",
       "      <td>True</td>\n",
       "      <td>False</td>\n",
       "      <td>8800.0</td>\n",
       "      <td>2008-06-01</td>\n",
       "      <td>2013.0</td>\n",
       "      <td>2008.0</td>\n",
       "      <td>-5.0</td>\n",
       "    </tr>\n",
       "  </tbody>\n",
       "</table>\n",
       "<p>2 rows × 21 columns</p>\n",
       "</div>"
      ],
      "text/plain": [
       "    marca modelo        km  potencia fecha_registro tipo_gasolina  color  \\\n",
       "100   BMW    320  342768.0     135.0     2011-12-01        diesel  black   \n",
       "256   BMW    316  201102.0      85.0     2013-12-01        diesel  black   \n",
       "\n",
       "    tipo_coche volante_regulable aire_acondicionado  ...  \\\n",
       "100        NaN             False               True  ...   \n",
       "256     estate              True                NaN  ...   \n",
       "\n",
       "    asientos_traseros_plegables elevalunas_electrico bluetooth   gps  \\\n",
       "100                         NaN                 True     False  True   \n",
       "256                         NaN                False     False  True   \n",
       "\n",
       "     alerta_lim_velocidad  precio  fecha_venta año_registro  año_venta  \\\n",
       "100                   NaN  8200.0   2010-04-01       2011.0     2010.0   \n",
       "256                 False  8800.0   2008-06-01       2013.0     2008.0   \n",
       "\n",
       "     años_coche  \n",
       "100        -1.0  \n",
       "256        -5.0  \n",
       "\n",
       "[2 rows x 21 columns]"
      ]
     },
     "execution_count": 13,
     "metadata": {},
     "output_type": "execute_result"
    }
   ],
   "source": [
    "# Buscamos si hay fechas registro que son posteriores a la fecha de venta\n",
    "df_bmw[df_bmw['fecha_registro'] > df_bmw['fecha_venta']]"
   ]
  },
  {
   "cell_type": "code",
   "execution_count": 14,
   "id": "7977814c",
   "metadata": {},
   "outputs": [
    {
     "data": {
      "text/html": [
       "<div>\n",
       "<style scoped>\n",
       "    .dataframe tbody tr th:only-of-type {\n",
       "        vertical-align: middle;\n",
       "    }\n",
       "\n",
       "    .dataframe tbody tr th {\n",
       "        vertical-align: top;\n",
       "    }\n",
       "\n",
       "    .dataframe thead th {\n",
       "        text-align: right;\n",
       "    }\n",
       "</style>\n",
       "<table border=\"1\" class=\"dataframe\">\n",
       "  <thead>\n",
       "    <tr style=\"text-align: right;\">\n",
       "      <th></th>\n",
       "      <th>marca</th>\n",
       "      <th>modelo</th>\n",
       "      <th>km</th>\n",
       "      <th>potencia</th>\n",
       "      <th>fecha_registro</th>\n",
       "      <th>tipo_gasolina</th>\n",
       "      <th>color</th>\n",
       "      <th>tipo_coche</th>\n",
       "      <th>volante_regulable</th>\n",
       "      <th>aire_acondicionado</th>\n",
       "      <th>...</th>\n",
       "      <th>asientos_traseros_plegables</th>\n",
       "      <th>elevalunas_electrico</th>\n",
       "      <th>bluetooth</th>\n",
       "      <th>gps</th>\n",
       "      <th>alerta_lim_velocidad</th>\n",
       "      <th>precio</th>\n",
       "      <th>fecha_venta</th>\n",
       "      <th>año_registro</th>\n",
       "      <th>año_venta</th>\n",
       "      <th>años_coche</th>\n",
       "    </tr>\n",
       "  </thead>\n",
       "  <tbody>\n",
       "  </tbody>\n",
       "</table>\n",
       "<p>0 rows × 21 columns</p>\n",
       "</div>"
      ],
      "text/plain": [
       "Empty DataFrame\n",
       "Columns: [marca, modelo, km, potencia, fecha_registro, tipo_gasolina, color, tipo_coche, volante_regulable, aire_acondicionado, camara_trasera, asientos_traseros_plegables, elevalunas_electrico, bluetooth, gps, alerta_lim_velocidad, precio, fecha_venta, año_registro, año_venta, años_coche]\n",
       "Index: []\n",
       "\n",
       "[0 rows x 21 columns]"
      ]
     },
     "execution_count": 14,
     "metadata": {},
     "output_type": "execute_result"
    }
   ],
   "source": [
    "# Hemos encontrado dos registros con fechas de registro posteriores a la fecha de venta, lo cual no es posible. Guardamos sus índices y eliminamos las filas del dataset\n",
    "indice_fechas = df_bmw[df_bmw['fecha_registro'] > df_bmw['fecha_venta']].index\n",
    "df_bmw = df_bmw.drop(index=indice_fechas)\n",
    "\n",
    "# Comprobamos que hemos eliminado las filas\n",
    "df_bmw[df_bmw['fecha_registro'] > df_bmw['fecha_venta']]"
   ]
  },
  {
   "cell_type": "markdown",
   "id": "af982ad4",
   "metadata": {},
   "source": [
    "##### **FILA KM**"
   ]
  },
  {
   "cell_type": "code",
   "execution_count": 15,
   "id": "d97ef242",
   "metadata": {},
   "outputs": [
    {
     "data": {
      "text/html": [
       "<div>\n",
       "<style scoped>\n",
       "    .dataframe tbody tr th:only-of-type {\n",
       "        vertical-align: middle;\n",
       "    }\n",
       "\n",
       "    .dataframe tbody tr th {\n",
       "        vertical-align: top;\n",
       "    }\n",
       "\n",
       "    .dataframe thead th {\n",
       "        text-align: right;\n",
       "    }\n",
       "</style>\n",
       "<table border=\"1\" class=\"dataframe\">\n",
       "  <thead>\n",
       "    <tr style=\"text-align: right;\">\n",
       "      <th></th>\n",
       "      <th>marca</th>\n",
       "      <th>modelo</th>\n",
       "      <th>km</th>\n",
       "      <th>potencia</th>\n",
       "      <th>fecha_registro</th>\n",
       "      <th>tipo_gasolina</th>\n",
       "      <th>color</th>\n",
       "      <th>tipo_coche</th>\n",
       "      <th>volante_regulable</th>\n",
       "      <th>aire_acondicionado</th>\n",
       "      <th>...</th>\n",
       "      <th>asientos_traseros_plegables</th>\n",
       "      <th>elevalunas_electrico</th>\n",
       "      <th>bluetooth</th>\n",
       "      <th>gps</th>\n",
       "      <th>alerta_lim_velocidad</th>\n",
       "      <th>precio</th>\n",
       "      <th>fecha_venta</th>\n",
       "      <th>año_registro</th>\n",
       "      <th>año_venta</th>\n",
       "      <th>años_coche</th>\n",
       "    </tr>\n",
       "  </thead>\n",
       "  <tbody>\n",
       "    <tr>\n",
       "      <th>2938</th>\n",
       "      <td>NaN</td>\n",
       "      <td>640 Gran Coupé</td>\n",
       "      <td>-64.0</td>\n",
       "      <td>230.0</td>\n",
       "      <td>NaT</td>\n",
       "      <td>diesel</td>\n",
       "      <td>black</td>\n",
       "      <td>sedan</td>\n",
       "      <td>True</td>\n",
       "      <td>True</td>\n",
       "      <td>...</td>\n",
       "      <td>NaN</td>\n",
       "      <td>False</td>\n",
       "      <td>False</td>\n",
       "      <td>True</td>\n",
       "      <td>True</td>\n",
       "      <td>75000.0</td>\n",
       "      <td>2018-04-01</td>\n",
       "      <td>NaN</td>\n",
       "      <td>2018.0</td>\n",
       "      <td>NaN</td>\n",
       "    </tr>\n",
       "  </tbody>\n",
       "</table>\n",
       "<p>1 rows × 21 columns</p>\n",
       "</div>"
      ],
      "text/plain": [
       "     marca          modelo    km  potencia fecha_registro tipo_gasolina  \\\n",
       "2938   NaN  640 Gran Coupé -64.0     230.0            NaT        diesel   \n",
       "\n",
       "      color tipo_coche volante_regulable aire_acondicionado  ...  \\\n",
       "2938  black      sedan              True               True  ...   \n",
       "\n",
       "     asientos_traseros_plegables elevalunas_electrico bluetooth   gps  \\\n",
       "2938                         NaN                False     False  True   \n",
       "\n",
       "      alerta_lim_velocidad   precio  fecha_venta año_registro  año_venta  \\\n",
       "2938                  True  75000.0   2018-04-01          NaN     2018.0   \n",
       "\n",
       "      años_coche  \n",
       "2938         NaN  \n",
       "\n",
       "[1 rows x 21 columns]"
      ]
     },
     "execution_count": 15,
     "metadata": {},
     "output_type": "execute_result"
    }
   ],
   "source": [
    "# Hemos visto con .describe valores negativos en la columna 'km'\n",
    "df_bmw[df_bmw['km'] < 0]"
   ]
  },
  {
   "cell_type": "code",
   "execution_count": 16,
   "id": "1d725062",
   "metadata": {},
   "outputs": [
    {
     "data": {
      "text/html": [
       "<div>\n",
       "<style scoped>\n",
       "    .dataframe tbody tr th:only-of-type {\n",
       "        vertical-align: middle;\n",
       "    }\n",
       "\n",
       "    .dataframe tbody tr th {\n",
       "        vertical-align: top;\n",
       "    }\n",
       "\n",
       "    .dataframe thead th {\n",
       "        text-align: right;\n",
       "    }\n",
       "</style>\n",
       "<table border=\"1\" class=\"dataframe\">\n",
       "  <thead>\n",
       "    <tr style=\"text-align: right;\">\n",
       "      <th></th>\n",
       "      <th>marca</th>\n",
       "      <th>modelo</th>\n",
       "      <th>km</th>\n",
       "      <th>potencia</th>\n",
       "      <th>fecha_registro</th>\n",
       "      <th>tipo_gasolina</th>\n",
       "      <th>color</th>\n",
       "      <th>tipo_coche</th>\n",
       "      <th>volante_regulable</th>\n",
       "      <th>aire_acondicionado</th>\n",
       "      <th>...</th>\n",
       "      <th>asientos_traseros_plegables</th>\n",
       "      <th>elevalunas_electrico</th>\n",
       "      <th>bluetooth</th>\n",
       "      <th>gps</th>\n",
       "      <th>alerta_lim_velocidad</th>\n",
       "      <th>precio</th>\n",
       "      <th>fecha_venta</th>\n",
       "      <th>año_registro</th>\n",
       "      <th>año_venta</th>\n",
       "      <th>años_coche</th>\n",
       "    </tr>\n",
       "  </thead>\n",
       "  <tbody>\n",
       "  </tbody>\n",
       "</table>\n",
       "<p>0 rows × 21 columns</p>\n",
       "</div>"
      ],
      "text/plain": [
       "Empty DataFrame\n",
       "Columns: [marca, modelo, km, potencia, fecha_registro, tipo_gasolina, color, tipo_coche, volante_regulable, aire_acondicionado, camara_trasera, asientos_traseros_plegables, elevalunas_electrico, bluetooth, gps, alerta_lim_velocidad, precio, fecha_venta, año_registro, año_venta, años_coche]\n",
       "Index: []\n",
       "\n",
       "[0 rows x 21 columns]"
      ]
     },
     "execution_count": 16,
     "metadata": {},
     "output_type": "execute_result"
    }
   ],
   "source": [
    "# Hay un registro con km negativos, lo cual no es posible. Guardamos su índice y eliminamos la fila del dataset.\n",
    "indice_negativos = df_bmw[df_bmw['km'] < 0].index\n",
    "df_bmw = df_bmw.drop(index=indice_negativos)\n",
    "\n",
    "# Comprobamos que hemos eliminado las filas\n",
    "df_bmw[df_bmw['km'] < 0]"
   ]
  },
  {
   "cell_type": "markdown",
   "id": "5c29704c",
   "metadata": {},
   "source": [
    "##### **FILAS POTENCIA**"
   ]
  },
  {
   "cell_type": "code",
   "execution_count": 17,
   "id": "352369b0",
   "metadata": {},
   "outputs": [
    {
     "data": {
      "text/html": [
       "<div>\n",
       "<style scoped>\n",
       "    .dataframe tbody tr th:only-of-type {\n",
       "        vertical-align: middle;\n",
       "    }\n",
       "\n",
       "    .dataframe tbody tr th {\n",
       "        vertical-align: top;\n",
       "    }\n",
       "\n",
       "    .dataframe thead th {\n",
       "        text-align: right;\n",
       "    }\n",
       "</style>\n",
       "<table border=\"1\" class=\"dataframe\">\n",
       "  <thead>\n",
       "    <tr style=\"text-align: right;\">\n",
       "      <th></th>\n",
       "      <th>marca</th>\n",
       "      <th>modelo</th>\n",
       "      <th>km</th>\n",
       "      <th>potencia</th>\n",
       "      <th>fecha_registro</th>\n",
       "      <th>tipo_gasolina</th>\n",
       "      <th>color</th>\n",
       "      <th>tipo_coche</th>\n",
       "      <th>volante_regulable</th>\n",
       "      <th>aire_acondicionado</th>\n",
       "      <th>...</th>\n",
       "      <th>asientos_traseros_plegables</th>\n",
       "      <th>elevalunas_electrico</th>\n",
       "      <th>bluetooth</th>\n",
       "      <th>gps</th>\n",
       "      <th>alerta_lim_velocidad</th>\n",
       "      <th>precio</th>\n",
       "      <th>fecha_venta</th>\n",
       "      <th>año_registro</th>\n",
       "      <th>año_venta</th>\n",
       "      <th>años_coche</th>\n",
       "    </tr>\n",
       "  </thead>\n",
       "  <tbody>\n",
       "    <tr>\n",
       "      <th>1796</th>\n",
       "      <td>BMW</td>\n",
       "      <td>i3</td>\n",
       "      <td>152328.0</td>\n",
       "      <td>25.0</td>\n",
       "      <td>NaT</td>\n",
       "      <td>hybrid_petrol</td>\n",
       "      <td>black</td>\n",
       "      <td>NaN</td>\n",
       "      <td>False</td>\n",
       "      <td>True</td>\n",
       "      <td>...</td>\n",
       "      <td>NaN</td>\n",
       "      <td>False</td>\n",
       "      <td>False</td>\n",
       "      <td>True</td>\n",
       "      <td>NaN</td>\n",
       "      <td>20300.0</td>\n",
       "      <td>2018-04-01</td>\n",
       "      <td>NaN</td>\n",
       "      <td>2018.0</td>\n",
       "      <td>NaN</td>\n",
       "    </tr>\n",
       "    <tr>\n",
       "      <th>1925</th>\n",
       "      <td>BMW</td>\n",
       "      <td>i3</td>\n",
       "      <td>152470.0</td>\n",
       "      <td>25.0</td>\n",
       "      <td>NaT</td>\n",
       "      <td>hybrid_petrol</td>\n",
       "      <td>black</td>\n",
       "      <td>hatchback</td>\n",
       "      <td>False</td>\n",
       "      <td>True</td>\n",
       "      <td>...</td>\n",
       "      <td>NaN</td>\n",
       "      <td>False</td>\n",
       "      <td>False</td>\n",
       "      <td>True</td>\n",
       "      <td>True</td>\n",
       "      <td>15500.0</td>\n",
       "      <td>2018-03-01</td>\n",
       "      <td>NaN</td>\n",
       "      <td>2018.0</td>\n",
       "      <td>NaN</td>\n",
       "    </tr>\n",
       "    <tr>\n",
       "      <th>3765</th>\n",
       "      <td>BMW</td>\n",
       "      <td>X1</td>\n",
       "      <td>81770.0</td>\n",
       "      <td>0.0</td>\n",
       "      <td>2014-10-01</td>\n",
       "      <td>diesel</td>\n",
       "      <td>white</td>\n",
       "      <td>suv</td>\n",
       "      <td>False</td>\n",
       "      <td>False</td>\n",
       "      <td>...</td>\n",
       "      <td>False</td>\n",
       "      <td>False</td>\n",
       "      <td>False</td>\n",
       "      <td>False</td>\n",
       "      <td>NaN</td>\n",
       "      <td>11700.0</td>\n",
       "      <td>2018-03-01</td>\n",
       "      <td>2014.0</td>\n",
       "      <td>2018.0</td>\n",
       "      <td>4.0</td>\n",
       "    </tr>\n",
       "  </tbody>\n",
       "</table>\n",
       "<p>3 rows × 21 columns</p>\n",
       "</div>"
      ],
      "text/plain": [
       "     marca modelo        km  potencia fecha_registro  tipo_gasolina  color  \\\n",
       "1796   BMW     i3  152328.0      25.0            NaT  hybrid_petrol  black   \n",
       "1925   BMW     i3  152470.0      25.0            NaT  hybrid_petrol  black   \n",
       "3765   BMW     X1   81770.0       0.0     2014-10-01         diesel  white   \n",
       "\n",
       "     tipo_coche volante_regulable aire_acondicionado  ...  \\\n",
       "1796        NaN             False               True  ...   \n",
       "1925  hatchback             False               True  ...   \n",
       "3765        suv             False              False  ...   \n",
       "\n",
       "     asientos_traseros_plegables elevalunas_electrico bluetooth    gps  \\\n",
       "1796                         NaN                False     False   True   \n",
       "1925                         NaN                False     False   True   \n",
       "3765                       False                False     False  False   \n",
       "\n",
       "      alerta_lim_velocidad   precio  fecha_venta año_registro  año_venta  \\\n",
       "1796                   NaN  20300.0   2018-04-01          NaN     2018.0   \n",
       "1925                  True  15500.0   2018-03-01          NaN     2018.0   \n",
       "3765                   NaN  11700.0   2018-03-01       2014.0     2018.0   \n",
       "\n",
       "      años_coche  \n",
       "1796         NaN  \n",
       "1925         NaN  \n",
       "3765         4.0  \n",
       "\n",
       "[3 rows x 21 columns]"
      ]
     },
     "execution_count": 17,
     "metadata": {},
     "output_type": "execute_result"
    }
   ],
   "source": [
    "# Hemos visto con .describe valores a 0, también buscamos potencias inferiores a 50 cv en la columna 'potencia\n",
    "df_bmw[df_bmw['potencia'] < 50]"
   ]
  },
  {
   "cell_type": "code",
   "execution_count": 18,
   "id": "e7890616",
   "metadata": {},
   "outputs": [
    {
     "data": {
      "text/html": [
       "<div>\n",
       "<style scoped>\n",
       "    .dataframe tbody tr th:only-of-type {\n",
       "        vertical-align: middle;\n",
       "    }\n",
       "\n",
       "    .dataframe tbody tr th {\n",
       "        vertical-align: top;\n",
       "    }\n",
       "\n",
       "    .dataframe thead th {\n",
       "        text-align: right;\n",
       "    }\n",
       "</style>\n",
       "<table border=\"1\" class=\"dataframe\">\n",
       "  <thead>\n",
       "    <tr style=\"text-align: right;\">\n",
       "      <th></th>\n",
       "      <th>marca</th>\n",
       "      <th>modelo</th>\n",
       "      <th>km</th>\n",
       "      <th>potencia</th>\n",
       "      <th>fecha_registro</th>\n",
       "      <th>tipo_gasolina</th>\n",
       "      <th>color</th>\n",
       "      <th>tipo_coche</th>\n",
       "      <th>volante_regulable</th>\n",
       "      <th>aire_acondicionado</th>\n",
       "      <th>...</th>\n",
       "      <th>asientos_traseros_plegables</th>\n",
       "      <th>elevalunas_electrico</th>\n",
       "      <th>bluetooth</th>\n",
       "      <th>gps</th>\n",
       "      <th>alerta_lim_velocidad</th>\n",
       "      <th>precio</th>\n",
       "      <th>fecha_venta</th>\n",
       "      <th>año_registro</th>\n",
       "      <th>año_venta</th>\n",
       "      <th>años_coche</th>\n",
       "    </tr>\n",
       "  </thead>\n",
       "  <tbody>\n",
       "  </tbody>\n",
       "</table>\n",
       "<p>0 rows × 21 columns</p>\n",
       "</div>"
      ],
      "text/plain": [
       "Empty DataFrame\n",
       "Columns: [marca, modelo, km, potencia, fecha_registro, tipo_gasolina, color, tipo_coche, volante_regulable, aire_acondicionado, camara_trasera, asientos_traseros_plegables, elevalunas_electrico, bluetooth, gps, alerta_lim_velocidad, precio, fecha_venta, año_registro, año_venta, años_coche]\n",
       "Index: []\n",
       "\n",
       "[0 rows x 21 columns]"
      ]
     },
     "execution_count": 18,
     "metadata": {},
     "output_type": "execute_result"
    }
   ],
   "source": [
    "# Hay tres registros con potencia 0 o con valores erroneos (comprobado a nivel negocio que no existe el modelo i3 con 25 de potencia como el total de su potencia). \n",
    "# Guardamos sus índices y eliminamos las filas del dataset.\n",
    "indice_potencia = df_bmw[df_bmw['potencia'] < 50].index\n",
    "df_bmw = df_bmw.drop(index=indice_potencia)\n",
    "\n",
    "# Comprobamos que hemos eliminado las filas\n",
    "df_bmw[df_bmw['potencia'] < 50]"
   ]
  },
  {
   "cell_type": "markdown",
   "id": "e3cbfdfd",
   "metadata": {},
   "source": [
    "#### **PRECIOS - MIRAR SI HAY QUE HACER ALGO**"
   ]
  },
  {
   "cell_type": "code",
   "execution_count": 19,
   "id": "da75755a",
   "metadata": {},
   "outputs": [
    {
     "name": "stdout",
     "output_type": "stream",
     "text": [
      "PRECIOS INFERIORES A 300: 10\n"
     ]
    },
    {
     "data": {
      "text/html": [
       "<div>\n",
       "<style scoped>\n",
       "    .dataframe tbody tr th:only-of-type {\n",
       "        vertical-align: middle;\n",
       "    }\n",
       "\n",
       "    .dataframe tbody tr th {\n",
       "        vertical-align: top;\n",
       "    }\n",
       "\n",
       "    .dataframe thead th {\n",
       "        text-align: right;\n",
       "    }\n",
       "</style>\n",
       "<table border=\"1\" class=\"dataframe\">\n",
       "  <thead>\n",
       "    <tr style=\"text-align: right;\">\n",
       "      <th></th>\n",
       "      <th>marca</th>\n",
       "      <th>modelo</th>\n",
       "      <th>km</th>\n",
       "      <th>potencia</th>\n",
       "      <th>fecha_registro</th>\n",
       "      <th>tipo_gasolina</th>\n",
       "      <th>color</th>\n",
       "      <th>tipo_coche</th>\n",
       "      <th>volante_regulable</th>\n",
       "      <th>aire_acondicionado</th>\n",
       "      <th>...</th>\n",
       "      <th>asientos_traseros_plegables</th>\n",
       "      <th>elevalunas_electrico</th>\n",
       "      <th>bluetooth</th>\n",
       "      <th>gps</th>\n",
       "      <th>alerta_lim_velocidad</th>\n",
       "      <th>precio</th>\n",
       "      <th>fecha_venta</th>\n",
       "      <th>año_registro</th>\n",
       "      <th>año_venta</th>\n",
       "      <th>años_coche</th>\n",
       "    </tr>\n",
       "  </thead>\n",
       "  <tbody>\n",
       "    <tr>\n",
       "      <th>565</th>\n",
       "      <td>NaN</td>\n",
       "      <td>320</td>\n",
       "      <td>179358.0</td>\n",
       "      <td>120.0</td>\n",
       "      <td>2013-06-01</td>\n",
       "      <td>diesel</td>\n",
       "      <td>black</td>\n",
       "      <td>NaN</td>\n",
       "      <td>False</td>\n",
       "      <td>True</td>\n",
       "      <td>...</td>\n",
       "      <td>NaN</td>\n",
       "      <td>False</td>\n",
       "      <td>False</td>\n",
       "      <td>True</td>\n",
       "      <td>True</td>\n",
       "      <td>100.0</td>\n",
       "      <td>2018-03-01</td>\n",
       "      <td>2013.0</td>\n",
       "      <td>2018.0</td>\n",
       "      <td>5.0</td>\n",
       "    </tr>\n",
       "    <tr>\n",
       "      <th>630</th>\n",
       "      <td>BMW</td>\n",
       "      <td>318</td>\n",
       "      <td>147558.0</td>\n",
       "      <td>105.0</td>\n",
       "      <td>2014-11-01</td>\n",
       "      <td>NaN</td>\n",
       "      <td>white</td>\n",
       "      <td>estate</td>\n",
       "      <td>False</td>\n",
       "      <td>NaN</td>\n",
       "      <td>...</td>\n",
       "      <td>NaN</td>\n",
       "      <td>False</td>\n",
       "      <td>False</td>\n",
       "      <td>False</td>\n",
       "      <td>True</td>\n",
       "      <td>100.0</td>\n",
       "      <td>2018-03-01</td>\n",
       "      <td>2014.0</td>\n",
       "      <td>2018.0</td>\n",
       "      <td>4.0</td>\n",
       "    </tr>\n",
       "    <tr>\n",
       "      <th>879</th>\n",
       "      <td>BMW</td>\n",
       "      <td>318</td>\n",
       "      <td>134156.0</td>\n",
       "      <td>105.0</td>\n",
       "      <td>2014-06-01</td>\n",
       "      <td>diesel</td>\n",
       "      <td>grey</td>\n",
       "      <td>estate</td>\n",
       "      <td>False</td>\n",
       "      <td>True</td>\n",
       "      <td>...</td>\n",
       "      <td>NaN</td>\n",
       "      <td>False</td>\n",
       "      <td>False</td>\n",
       "      <td>False</td>\n",
       "      <td>True</td>\n",
       "      <td>100.0</td>\n",
       "      <td>2018-04-01</td>\n",
       "      <td>2014.0</td>\n",
       "      <td>2018.0</td>\n",
       "      <td>4.0</td>\n",
       "    </tr>\n",
       "    <tr>\n",
       "      <th>1255</th>\n",
       "      <td>BMW</td>\n",
       "      <td>320</td>\n",
       "      <td>170381.0</td>\n",
       "      <td>135.0</td>\n",
       "      <td>NaT</td>\n",
       "      <td>diesel</td>\n",
       "      <td>silver</td>\n",
       "      <td>NaN</td>\n",
       "      <td>True</td>\n",
       "      <td>True</td>\n",
       "      <td>...</td>\n",
       "      <td>NaN</td>\n",
       "      <td>False</td>\n",
       "      <td>False</td>\n",
       "      <td>True</td>\n",
       "      <td>False</td>\n",
       "      <td>100.0</td>\n",
       "      <td>2018-05-01</td>\n",
       "      <td>NaN</td>\n",
       "      <td>2018.0</td>\n",
       "      <td>NaN</td>\n",
       "    </tr>\n",
       "    <tr>\n",
       "      <th>1832</th>\n",
       "      <td>BMW</td>\n",
       "      <td>116</td>\n",
       "      <td>174524.0</td>\n",
       "      <td>85.0</td>\n",
       "      <td>2014-07-01</td>\n",
       "      <td>diesel</td>\n",
       "      <td>blue</td>\n",
       "      <td>hatchback</td>\n",
       "      <td>False</td>\n",
       "      <td>True</td>\n",
       "      <td>...</td>\n",
       "      <td>NaN</td>\n",
       "      <td>False</td>\n",
       "      <td>False</td>\n",
       "      <td>True</td>\n",
       "      <td>NaN</td>\n",
       "      <td>100.0</td>\n",
       "      <td>2018-03-01</td>\n",
       "      <td>2014.0</td>\n",
       "      <td>2018.0</td>\n",
       "      <td>4.0</td>\n",
       "    </tr>\n",
       "    <tr>\n",
       "      <th>2473</th>\n",
       "      <td>BMW</td>\n",
       "      <td>525</td>\n",
       "      <td>230578.0</td>\n",
       "      <td>85.0</td>\n",
       "      <td>1997-07-01</td>\n",
       "      <td>diesel</td>\n",
       "      <td>NaN</td>\n",
       "      <td>sedan</td>\n",
       "      <td>False</td>\n",
       "      <td>NaN</td>\n",
       "      <td>...</td>\n",
       "      <td>False</td>\n",
       "      <td>False</td>\n",
       "      <td>False</td>\n",
       "      <td>True</td>\n",
       "      <td>NaN</td>\n",
       "      <td>200.0</td>\n",
       "      <td>2018-08-01</td>\n",
       "      <td>1997.0</td>\n",
       "      <td>2018.0</td>\n",
       "      <td>21.0</td>\n",
       "    </tr>\n",
       "    <tr>\n",
       "      <th>2574</th>\n",
       "      <td>BMW</td>\n",
       "      <td>525</td>\n",
       "      <td>229880.0</td>\n",
       "      <td>85.0</td>\n",
       "      <td>1997-07-01</td>\n",
       "      <td>diesel</td>\n",
       "      <td>black</td>\n",
       "      <td>sedan</td>\n",
       "      <td>False</td>\n",
       "      <td>NaN</td>\n",
       "      <td>...</td>\n",
       "      <td>False</td>\n",
       "      <td>False</td>\n",
       "      <td>NaN</td>\n",
       "      <td>True</td>\n",
       "      <td>False</td>\n",
       "      <td>200.0</td>\n",
       "      <td>2018-08-01</td>\n",
       "      <td>1997.0</td>\n",
       "      <td>2018.0</td>\n",
       "      <td>21.0</td>\n",
       "    </tr>\n",
       "    <tr>\n",
       "      <th>2611</th>\n",
       "      <td>BMW</td>\n",
       "      <td>525</td>\n",
       "      <td>230264.0</td>\n",
       "      <td>85.0</td>\n",
       "      <td>1997-07-01</td>\n",
       "      <td>diesel</td>\n",
       "      <td>black</td>\n",
       "      <td>sedan</td>\n",
       "      <td>False</td>\n",
       "      <td>False</td>\n",
       "      <td>...</td>\n",
       "      <td>False</td>\n",
       "      <td>False</td>\n",
       "      <td>False</td>\n",
       "      <td>True</td>\n",
       "      <td>False</td>\n",
       "      <td>200.0</td>\n",
       "      <td>2018-08-01</td>\n",
       "      <td>1997.0</td>\n",
       "      <td>2018.0</td>\n",
       "      <td>21.0</td>\n",
       "    </tr>\n",
       "    <tr>\n",
       "      <th>2829</th>\n",
       "      <td>BMW</td>\n",
       "      <td>525</td>\n",
       "      <td>439060.0</td>\n",
       "      <td>105.0</td>\n",
       "      <td>NaT</td>\n",
       "      <td>diesel</td>\n",
       "      <td>silver</td>\n",
       "      <td>NaN</td>\n",
       "      <td>False</td>\n",
       "      <td>False</td>\n",
       "      <td>...</td>\n",
       "      <td>NaN</td>\n",
       "      <td>False</td>\n",
       "      <td>False</td>\n",
       "      <td>True</td>\n",
       "      <td>False</td>\n",
       "      <td>100.0</td>\n",
       "      <td>2018-03-01</td>\n",
       "      <td>NaN</td>\n",
       "      <td>2018.0</td>\n",
       "      <td>NaN</td>\n",
       "    </tr>\n",
       "    <tr>\n",
       "      <th>4356</th>\n",
       "      <td>BMW</td>\n",
       "      <td>X3</td>\n",
       "      <td>79685.0</td>\n",
       "      <td>190.0</td>\n",
       "      <td>2014-02-01</td>\n",
       "      <td>diesel</td>\n",
       "      <td>black</td>\n",
       "      <td>suv</td>\n",
       "      <td>False</td>\n",
       "      <td>False</td>\n",
       "      <td>...</td>\n",
       "      <td>NaN</td>\n",
       "      <td>False</td>\n",
       "      <td>False</td>\n",
       "      <td>False</td>\n",
       "      <td>NaN</td>\n",
       "      <td>100.0</td>\n",
       "      <td>2018-05-01</td>\n",
       "      <td>2014.0</td>\n",
       "      <td>2018.0</td>\n",
       "      <td>4.0</td>\n",
       "    </tr>\n",
       "  </tbody>\n",
       "</table>\n",
       "<p>10 rows × 21 columns</p>\n",
       "</div>"
      ],
      "text/plain": [
       "     marca modelo        km  potencia fecha_registro tipo_gasolina   color  \\\n",
       "565    NaN    320  179358.0     120.0     2013-06-01        diesel   black   \n",
       "630    BMW    318  147558.0     105.0     2014-11-01           NaN   white   \n",
       "879    BMW    318  134156.0     105.0     2014-06-01        diesel    grey   \n",
       "1255   BMW    320  170381.0     135.0            NaT        diesel  silver   \n",
       "1832   BMW    116  174524.0      85.0     2014-07-01        diesel    blue   \n",
       "2473   BMW    525  230578.0      85.0     1997-07-01        diesel     NaN   \n",
       "2574   BMW    525  229880.0      85.0     1997-07-01        diesel   black   \n",
       "2611   BMW    525  230264.0      85.0     1997-07-01        diesel   black   \n",
       "2829   BMW    525  439060.0     105.0            NaT        diesel  silver   \n",
       "4356   BMW     X3   79685.0     190.0     2014-02-01        diesel   black   \n",
       "\n",
       "     tipo_coche volante_regulable aire_acondicionado  ...  \\\n",
       "565         NaN             False               True  ...   \n",
       "630      estate             False                NaN  ...   \n",
       "879      estate             False               True  ...   \n",
       "1255        NaN              True               True  ...   \n",
       "1832  hatchback             False               True  ...   \n",
       "2473      sedan             False                NaN  ...   \n",
       "2574      sedan             False                NaN  ...   \n",
       "2611      sedan             False              False  ...   \n",
       "2829        NaN             False              False  ...   \n",
       "4356        suv             False              False  ...   \n",
       "\n",
       "     asientos_traseros_plegables elevalunas_electrico bluetooth    gps  \\\n",
       "565                          NaN                False     False   True   \n",
       "630                          NaN                False     False  False   \n",
       "879                          NaN                False     False  False   \n",
       "1255                         NaN                False     False   True   \n",
       "1832                         NaN                False     False   True   \n",
       "2473                       False                False     False   True   \n",
       "2574                       False                False       NaN   True   \n",
       "2611                       False                False     False   True   \n",
       "2829                         NaN                False     False   True   \n",
       "4356                         NaN                False     False  False   \n",
       "\n",
       "      alerta_lim_velocidad precio  fecha_venta año_registro  año_venta  \\\n",
       "565                   True  100.0   2018-03-01       2013.0     2018.0   \n",
       "630                   True  100.0   2018-03-01       2014.0     2018.0   \n",
       "879                   True  100.0   2018-04-01       2014.0     2018.0   \n",
       "1255                 False  100.0   2018-05-01          NaN     2018.0   \n",
       "1832                   NaN  100.0   2018-03-01       2014.0     2018.0   \n",
       "2473                   NaN  200.0   2018-08-01       1997.0     2018.0   \n",
       "2574                 False  200.0   2018-08-01       1997.0     2018.0   \n",
       "2611                 False  200.0   2018-08-01       1997.0     2018.0   \n",
       "2829                 False  100.0   2018-03-01          NaN     2018.0   \n",
       "4356                   NaN  100.0   2018-05-01       2014.0     2018.0   \n",
       "\n",
       "      años_coche  \n",
       "565          5.0  \n",
       "630          4.0  \n",
       "879          4.0  \n",
       "1255         NaN  \n",
       "1832         4.0  \n",
       "2473        21.0  \n",
       "2574        21.0  \n",
       "2611        21.0  \n",
       "2829         NaN  \n",
       "4356         4.0  \n",
       "\n",
       "[10 rows x 21 columns]"
      ]
     },
     "execution_count": 19,
     "metadata": {},
     "output_type": "execute_result"
    }
   ],
   "source": [
    "# Buscamos precios que sean inferiores a 300\n",
    "print(\"PRECIOS INFERIORES A 300:\", (df_bmw['precio'] < 300).sum())\n",
    "df_bmw[df_bmw['precio'] < 300]"
   ]
  },
  {
   "cell_type": "code",
   "execution_count": 20,
   "id": "90fbf338",
   "metadata": {},
   "outputs": [
    {
     "name": "stdout",
     "output_type": "stream",
     "text": [
      "PRECIOS SUPERIORES A 150000: 1\n"
     ]
    },
    {
     "data": {
      "text/html": [
       "<div>\n",
       "<style scoped>\n",
       "    .dataframe tbody tr th:only-of-type {\n",
       "        vertical-align: middle;\n",
       "    }\n",
       "\n",
       "    .dataframe tbody tr th {\n",
       "        vertical-align: top;\n",
       "    }\n",
       "\n",
       "    .dataframe thead th {\n",
       "        text-align: right;\n",
       "    }\n",
       "</style>\n",
       "<table border=\"1\" class=\"dataframe\">\n",
       "  <thead>\n",
       "    <tr style=\"text-align: right;\">\n",
       "      <th></th>\n",
       "      <th>marca</th>\n",
       "      <th>modelo</th>\n",
       "      <th>km</th>\n",
       "      <th>potencia</th>\n",
       "      <th>fecha_registro</th>\n",
       "      <th>tipo_gasolina</th>\n",
       "      <th>color</th>\n",
       "      <th>tipo_coche</th>\n",
       "      <th>volante_regulable</th>\n",
       "      <th>aire_acondicionado</th>\n",
       "      <th>...</th>\n",
       "      <th>asientos_traseros_plegables</th>\n",
       "      <th>elevalunas_electrico</th>\n",
       "      <th>bluetooth</th>\n",
       "      <th>gps</th>\n",
       "      <th>alerta_lim_velocidad</th>\n",
       "      <th>precio</th>\n",
       "      <th>fecha_venta</th>\n",
       "      <th>año_registro</th>\n",
       "      <th>año_venta</th>\n",
       "      <th>años_coche</th>\n",
       "    </tr>\n",
       "  </thead>\n",
       "  <tbody>\n",
       "    <tr>\n",
       "      <th>4753</th>\n",
       "      <td>BMW</td>\n",
       "      <td>X3</td>\n",
       "      <td>72515.0</td>\n",
       "      <td>135.0</td>\n",
       "      <td>2013-03-01</td>\n",
       "      <td>diesel</td>\n",
       "      <td>blue</td>\n",
       "      <td>suv</td>\n",
       "      <td>False</td>\n",
       "      <td>False</td>\n",
       "      <td>...</td>\n",
       "      <td>NaN</td>\n",
       "      <td>False</td>\n",
       "      <td>NaN</td>\n",
       "      <td>False</td>\n",
       "      <td>True</td>\n",
       "      <td>178500.0</td>\n",
       "      <td>2018-08-01</td>\n",
       "      <td>2013.0</td>\n",
       "      <td>2018.0</td>\n",
       "      <td>5.0</td>\n",
       "    </tr>\n",
       "  </tbody>\n",
       "</table>\n",
       "<p>1 rows × 21 columns</p>\n",
       "</div>"
      ],
      "text/plain": [
       "     marca modelo       km  potencia fecha_registro tipo_gasolina color  \\\n",
       "4753   BMW     X3  72515.0     135.0     2013-03-01        diesel  blue   \n",
       "\n",
       "     tipo_coche volante_regulable aire_acondicionado  ...  \\\n",
       "4753        suv             False              False  ...   \n",
       "\n",
       "     asientos_traseros_plegables elevalunas_electrico bluetooth    gps  \\\n",
       "4753                         NaN                False       NaN  False   \n",
       "\n",
       "      alerta_lim_velocidad    precio  fecha_venta año_registro  año_venta  \\\n",
       "4753                  True  178500.0   2018-08-01       2013.0     2018.0   \n",
       "\n",
       "      años_coche  \n",
       "4753         5.0  \n",
       "\n",
       "[1 rows x 21 columns]"
      ]
     },
     "execution_count": 20,
     "metadata": {},
     "output_type": "execute_result"
    }
   ],
   "source": [
    "# Buscamos precios que sean superiores a 150000\n",
    "print(\"PRECIOS SUPERIORES A 150000:\", (df_bmw['precio'] > 150000).sum())\n",
    "df_bmw[df_bmw['precio'] > 150000]"
   ]
  },
  {
   "cell_type": "markdown",
   "id": "34922f65",
   "metadata": {},
   "source": [
    "#### **COLUMNAS**"
   ]
  },
  {
   "cell_type": "code",
   "execution_count": 21,
   "id": "e1588d66",
   "metadata": {},
   "outputs": [
    {
     "name": "stdout",
     "output_type": "stream",
     "text": [
      "tipo_gasolina\n",
      "diesel    0.956225\n",
      "Name: proportion, dtype: float64 \n",
      "\n",
      "gps\n",
      "True    0.932067\n",
      "Name: proportion, dtype: float64 \n",
      "\n"
     ]
    }
   ],
   "source": [
    "# Hacemos un print para mostrar las distribuciones que tienen más del 90% de un mismo valor respecto al total, para valorar si eliminarlas\n",
    "\n",
    "for i in distribuciones:\n",
    "    if (distribuciones[i] > 0.9).any():\n",
    "        print(distribuciones[i][distribuciones[i] > 0.9],\"\\n\")"
   ]
  },
  {
   "cell_type": "markdown",
   "id": "2737cdc6",
   "metadata": {},
   "source": [
    "##### **COLUMNA MARCA**"
   ]
  },
  {
   "cell_type": "markdown",
   "id": "1a767e3a",
   "metadata": {},
   "source": [
    "El dataset se presenta bajo el nombre bmw_pricing, lo que sugiere que todos los registros corresponden a vehículos de la marca BMW, es importante confirmar esta suposición en lugar de asumirla. Por eso, realizaremos un breve análisis para verificar si los modelos que aparecen con la columna de marca vacía también están asociados a la marca BMW en otras filas del dataset."
   ]
  },
  {
   "cell_type": "code",
   "execution_count": 22,
   "id": "8091b005",
   "metadata": {},
   "outputs": [
    {
     "data": {
      "text/html": [
       "<div>\n",
       "<style scoped>\n",
       "    .dataframe tbody tr th:only-of-type {\n",
       "        vertical-align: middle;\n",
       "    }\n",
       "\n",
       "    .dataframe tbody tr th {\n",
       "        vertical-align: top;\n",
       "    }\n",
       "\n",
       "    .dataframe thead th {\n",
       "        text-align: right;\n",
       "    }\n",
       "</style>\n",
       "<table border=\"1\" class=\"dataframe\">\n",
       "  <thead>\n",
       "    <tr style=\"text-align: right;\">\n",
       "      <th></th>\n",
       "      <th>marca</th>\n",
       "      <th>modelo</th>\n",
       "      <th>km</th>\n",
       "      <th>potencia</th>\n",
       "      <th>fecha_registro</th>\n",
       "      <th>tipo_gasolina</th>\n",
       "      <th>color</th>\n",
       "      <th>tipo_coche</th>\n",
       "      <th>volante_regulable</th>\n",
       "      <th>aire_acondicionado</th>\n",
       "      <th>...</th>\n",
       "      <th>asientos_traseros_plegables</th>\n",
       "      <th>elevalunas_electrico</th>\n",
       "      <th>bluetooth</th>\n",
       "      <th>gps</th>\n",
       "      <th>alerta_lim_velocidad</th>\n",
       "      <th>precio</th>\n",
       "      <th>fecha_venta</th>\n",
       "      <th>año_registro</th>\n",
       "      <th>año_venta</th>\n",
       "      <th>años_coche</th>\n",
       "    </tr>\n",
       "  </thead>\n",
       "  <tbody>\n",
       "    <tr>\n",
       "      <th>57</th>\n",
       "      <td>NaN</td>\n",
       "      <td>M235</td>\n",
       "      <td>34082.0</td>\n",
       "      <td>240.0</td>\n",
       "      <td>NaT</td>\n",
       "      <td>petrol</td>\n",
       "      <td>grey</td>\n",
       "      <td>coupe</td>\n",
       "      <td>False</td>\n",
       "      <td>True</td>\n",
       "      <td>...</td>\n",
       "      <td>False</td>\n",
       "      <td>True</td>\n",
       "      <td>True</td>\n",
       "      <td>True</td>\n",
       "      <td>NaN</td>\n",
       "      <td>30200.0</td>\n",
       "      <td>2018-01-01</td>\n",
       "      <td>NaN</td>\n",
       "      <td>2018.0</td>\n",
       "      <td>NaN</td>\n",
       "    </tr>\n",
       "    <tr>\n",
       "      <th>84</th>\n",
       "      <td>NaN</td>\n",
       "      <td>M235</td>\n",
       "      <td>69736.0</td>\n",
       "      <td>240.0</td>\n",
       "      <td>NaT</td>\n",
       "      <td>petrol</td>\n",
       "      <td>grey</td>\n",
       "      <td>NaN</td>\n",
       "      <td>True</td>\n",
       "      <td>True</td>\n",
       "      <td>...</td>\n",
       "      <td>False</td>\n",
       "      <td>True</td>\n",
       "      <td>True</td>\n",
       "      <td>True</td>\n",
       "      <td>False</td>\n",
       "      <td>30000.0</td>\n",
       "      <td>2018-05-01</td>\n",
       "      <td>NaN</td>\n",
       "      <td>2018.0</td>\n",
       "      <td>NaN</td>\n",
       "    </tr>\n",
       "    <tr>\n",
       "      <th>102</th>\n",
       "      <td>NaN</td>\n",
       "      <td>M235</td>\n",
       "      <td>37619.0</td>\n",
       "      <td>240.0</td>\n",
       "      <td>NaT</td>\n",
       "      <td>petrol</td>\n",
       "      <td>black</td>\n",
       "      <td>NaN</td>\n",
       "      <td>True</td>\n",
       "      <td>False</td>\n",
       "      <td>...</td>\n",
       "      <td>NaN</td>\n",
       "      <td>True</td>\n",
       "      <td>True</td>\n",
       "      <td>True</td>\n",
       "      <td>True</td>\n",
       "      <td>27700.0</td>\n",
       "      <td>2018-05-01</td>\n",
       "      <td>NaN</td>\n",
       "      <td>2018.0</td>\n",
       "      <td>NaN</td>\n",
       "    </tr>\n",
       "    <tr>\n",
       "      <th>107</th>\n",
       "      <td>NaN</td>\n",
       "      <td>630</td>\n",
       "      <td>149943.0</td>\n",
       "      <td>190.0</td>\n",
       "      <td>NaT</td>\n",
       "      <td>petrol</td>\n",
       "      <td>black</td>\n",
       "      <td>coupe</td>\n",
       "      <td>True</td>\n",
       "      <td>True</td>\n",
       "      <td>...</td>\n",
       "      <td>False</td>\n",
       "      <td>True</td>\n",
       "      <td>True</td>\n",
       "      <td>True</td>\n",
       "      <td>True</td>\n",
       "      <td>10500.0</td>\n",
       "      <td>2018-05-01</td>\n",
       "      <td>NaN</td>\n",
       "      <td>2018.0</td>\n",
       "      <td>NaN</td>\n",
       "    </tr>\n",
       "    <tr>\n",
       "      <th>4804</th>\n",
       "      <td>NaN</td>\n",
       "      <td>220 Active Tourer</td>\n",
       "      <td>153358.0</td>\n",
       "      <td>140.0</td>\n",
       "      <td>2015-06-01</td>\n",
       "      <td>diesel</td>\n",
       "      <td>grey</td>\n",
       "      <td>van</td>\n",
       "      <td>False</td>\n",
       "      <td>NaN</td>\n",
       "      <td>...</td>\n",
       "      <td>NaN</td>\n",
       "      <td>False</td>\n",
       "      <td>False</td>\n",
       "      <td>True</td>\n",
       "      <td>True</td>\n",
       "      <td>11700.0</td>\n",
       "      <td>2018-02-01</td>\n",
       "      <td>2015.0</td>\n",
       "      <td>2018.0</td>\n",
       "      <td>3.0</td>\n",
       "    </tr>\n",
       "    <tr>\n",
       "      <th>4825</th>\n",
       "      <td>NaN</td>\n",
       "      <td>225 Active Tourer</td>\n",
       "      <td>33300.0</td>\n",
       "      <td>170.0</td>\n",
       "      <td>NaT</td>\n",
       "      <td>petrol</td>\n",
       "      <td>NaN</td>\n",
       "      <td>van</td>\n",
       "      <td>True</td>\n",
       "      <td>True</td>\n",
       "      <td>...</td>\n",
       "      <td>NaN</td>\n",
       "      <td>False</td>\n",
       "      <td>False</td>\n",
       "      <td>False</td>\n",
       "      <td>True</td>\n",
       "      <td>19200.0</td>\n",
       "      <td>2018-05-01</td>\n",
       "      <td>NaN</td>\n",
       "      <td>2018.0</td>\n",
       "      <td>NaN</td>\n",
       "    </tr>\n",
       "  </tbody>\n",
       "</table>\n",
       "<p>6 rows × 21 columns</p>\n",
       "</div>"
      ],
      "text/plain": [
       "     marca             modelo        km  potencia fecha_registro  \\\n",
       "57     NaN               M235   34082.0     240.0            NaT   \n",
       "84     NaN               M235   69736.0     240.0            NaT   \n",
       "102    NaN               M235   37619.0     240.0            NaT   \n",
       "107    NaN                630  149943.0     190.0            NaT   \n",
       "4804   NaN  220 Active Tourer  153358.0     140.0     2015-06-01   \n",
       "4825   NaN  225 Active Tourer   33300.0     170.0            NaT   \n",
       "\n",
       "     tipo_gasolina  color tipo_coche volante_regulable aire_acondicionado  \\\n",
       "57          petrol   grey      coupe             False               True   \n",
       "84          petrol   grey        NaN              True               True   \n",
       "102         petrol  black        NaN              True              False   \n",
       "107         petrol  black      coupe              True               True   \n",
       "4804        diesel   grey        van             False                NaN   \n",
       "4825        petrol    NaN        van              True               True   \n",
       "\n",
       "      ... asientos_traseros_plegables elevalunas_electrico bluetooth    gps  \\\n",
       "57    ...                       False                 True      True   True   \n",
       "84    ...                       False                 True      True   True   \n",
       "102   ...                         NaN                 True      True   True   \n",
       "107   ...                       False                 True      True   True   \n",
       "4804  ...                         NaN                False     False   True   \n",
       "4825  ...                         NaN                False     False  False   \n",
       "\n",
       "      alerta_lim_velocidad   precio  fecha_venta año_registro  año_venta  \\\n",
       "57                     NaN  30200.0   2018-01-01          NaN     2018.0   \n",
       "84                   False  30000.0   2018-05-01          NaN     2018.0   \n",
       "102                   True  27700.0   2018-05-01          NaN     2018.0   \n",
       "107                   True  10500.0   2018-05-01          NaN     2018.0   \n",
       "4804                  True  11700.0   2018-02-01       2015.0     2018.0   \n",
       "4825                  True  19200.0   2018-05-01          NaN     2018.0   \n",
       "\n",
       "      años_coche  \n",
       "57           NaN  \n",
       "84           NaN  \n",
       "102          NaN  \n",
       "107          NaN  \n",
       "4804         3.0  \n",
       "4825         NaN  \n",
       "\n",
       "[6 rows x 21 columns]"
      ]
     },
     "execution_count": 22,
     "metadata": {},
     "output_type": "execute_result"
    }
   ],
   "source": [
    "# Filtramos las filas donde la columna marca está vacía\n",
    "modelos_nulos = df_bmw[df_bmw['marca'].isna()]\n",
    "\n",
    "# Filtramos las filas donde la columna marca no está vacía \n",
    "modelos_nonulos = df_bmw[df_bmw['marca'].notna()]\n",
    "\n",
    "# Comprobamos todos los modelos con marca nula que NO aparecen en los registros con marca no nula\n",
    "modelos_a_comprobar = modelos_nulos[~modelos_nulos['modelo'].isin(modelos_nonulos['modelo'])]\n",
    "\n",
    "modelos_a_comprobar"
   ]
  },
  {
   "cell_type": "code",
   "execution_count": 23,
   "id": "8d92e9bd",
   "metadata": {},
   "outputs": [
    {
     "data": {
      "text/plain": [
       "array(['M235', '630', '220 Active Tourer', '225 Active Tourer'],\n",
       "      dtype=object)"
      ]
     },
     "execution_count": 23,
     "metadata": {},
     "output_type": "execute_result"
    }
   ],
   "source": [
    "# Tenemos 6 registros que no hemos podido comprobar, vamos a observar los modelos únicos\n",
    "modelos_a_comprobar['modelo'].unique()"
   ]
  },
  {
   "cell_type": "markdown",
   "id": "025a16f3",
   "metadata": {},
   "source": [
    "De los 6 registros, se identifican 4 modelos diferentes. Hemos comprobado que estos 4 modelos existen, los hemos encontrado en la página web de la marca. Como todos los registros son BMW, procederemos a eliminar la columna."
   ]
  },
  {
   "cell_type": "code",
   "execution_count": 24,
   "id": "9304fd31",
   "metadata": {},
   "outputs": [
    {
     "name": "stdout",
     "output_type": "stream",
     "text": [
      "<class 'pandas.core.frame.DataFrame'>\n",
      "Index: 4837 entries, 0 to 4842\n",
      "Data columns (total 20 columns):\n",
      " #   Column                       Non-Null Count  Dtype         \n",
      "---  ------                       --------------  -----         \n",
      " 0   modelo                       4834 non-null   object        \n",
      " 1   km                           4835 non-null   float64       \n",
      " 2   potencia                     4836 non-null   float64       \n",
      " 3   fecha_registro               2417 non-null   datetime64[ns]\n",
      " 4   tipo_gasolina                4832 non-null   object        \n",
      " 5   color                        4392 non-null   object        \n",
      " 6   tipo_coche                   3379 non-null   object        \n",
      " 7   volante_regulable            4833 non-null   object        \n",
      " 8   aire_acondicionado           4352 non-null   object        \n",
      " 9   camara_trasera               4835 non-null   object        \n",
      " 10  asientos_traseros_plegables  1451 non-null   object        \n",
      " 11  elevalunas_electrico         4835 non-null   object        \n",
      " 12  bluetooth                    4109 non-null   object        \n",
      " 13  gps                          4837 non-null   bool          \n",
      " 14  alerta_lim_velocidad         4112 non-null   object        \n",
      " 15  precio                       4831 non-null   float64       \n",
      " 16  fecha_venta                  4836 non-null   datetime64[ns]\n",
      " 17  año_registro                 2417 non-null   float64       \n",
      " 18  año_venta                    4836 non-null   float64       \n",
      " 19  años_coche                   2417 non-null   float64       \n",
      "dtypes: bool(1), datetime64[ns](2), float64(6), object(11)\n",
      "memory usage: 760.5+ KB\n"
     ]
    }
   ],
   "source": [
    "# Eliminamos la columna 'marca' ya que no aporta información relevante\n",
    "df_bmw.drop(columns='marca',inplace=True)\n",
    "\n",
    "# Comprobamos que hemos eliminado la columna\n",
    "df_bmw.info()"
   ]
  },
  {
   "cell_type": "markdown",
   "id": "f7a9084a",
   "metadata": {},
   "source": [
    "##### **COLUMNAS FECHAS**"
   ]
  },
  {
   "cell_type": "code",
   "execution_count": 25,
   "id": "772e0a41",
   "metadata": {},
   "outputs": [
    {
     "name": "stdout",
     "output_type": "stream",
     "text": [
      "<class 'pandas.core.frame.DataFrame'>\n",
      "Index: 4837 entries, 0 to 4842\n",
      "Data columns (total 16 columns):\n",
      " #   Column                       Non-Null Count  Dtype  \n",
      "---  ------                       --------------  -----  \n",
      " 0   modelo                       4834 non-null   object \n",
      " 1   km                           4835 non-null   float64\n",
      " 2   potencia                     4836 non-null   float64\n",
      " 3   tipo_gasolina                4832 non-null   object \n",
      " 4   color                        4392 non-null   object \n",
      " 5   tipo_coche                   3379 non-null   object \n",
      " 6   volante_regulable            4833 non-null   object \n",
      " 7   aire_acondicionado           4352 non-null   object \n",
      " 8   camara_trasera               4835 non-null   object \n",
      " 9   asientos_traseros_plegables  1451 non-null   object \n",
      " 10  elevalunas_electrico         4835 non-null   object \n",
      " 11  bluetooth                    4109 non-null   object \n",
      " 12  gps                          4837 non-null   bool   \n",
      " 13  alerta_lim_velocidad         4112 non-null   object \n",
      " 14  precio                       4831 non-null   float64\n",
      " 15  años_coche                   2417 non-null   float64\n",
      "dtypes: bool(1), float64(4), object(11)\n",
      "memory usage: 609.3+ KB\n"
     ]
    }
   ],
   "source": [
    "# Eliminamos las siguiente columnas con fecha, las nueva columna edad consideramos que las engloba a todas\n",
    "df_bmw.drop(columns=['fecha_registro','fecha_venta','año_registro','año_venta'], inplace=True)\n",
    "\n",
    "# Comprobamos que se han eliminado\n",
    "df_bmw.info()"
   ]
  },
  {
   "cell_type": "markdown",
   "id": "c618abe3",
   "metadata": {},
   "source": [
    "##### **COLUMNA TIPO GASOLINA**"
   ]
  },
  {
   "cell_type": "code",
   "execution_count": 26,
   "id": "1383808a",
   "metadata": {},
   "outputs": [
    {
     "data": {
      "text/plain": [
       "tipo_gasolina\n",
       "diesel           0.956225\n",
       "petrol           0.039438\n",
       "hybrid_petrol    0.001652\n",
       "NaN              0.001032\n",
       "Diesel           0.001032\n",
       "electro          0.000619\n",
       "Name: proportion, dtype: float64"
      ]
     },
     "execution_count": 26,
     "metadata": {},
     "output_type": "execute_result"
    }
   ],
   "source": [
    "# Observamos la distribución de 'tipo_gasolina'\n",
    "distribuciones['tipo_gasolina']"
   ]
  },
  {
   "cell_type": "markdown",
   "id": "f79725de",
   "metadata": {},
   "source": [
    "Observamos que la columna `tipo_gasolina` no aporta información relevante, ya que el **96%** de los coches utilizan `diésel`. Podemos asumir que prácticamente todos los vehículos del dataset son diésel. Por lo tanto, eliminamos la columna."
   ]
  },
  {
   "cell_type": "code",
   "execution_count": 27,
   "id": "ec1bdb26",
   "metadata": {},
   "outputs": [
    {
     "data": {
      "text/html": [
       "<div>\n",
       "<style scoped>\n",
       "    .dataframe tbody tr th:only-of-type {\n",
       "        vertical-align: middle;\n",
       "    }\n",
       "\n",
       "    .dataframe tbody tr th {\n",
       "        vertical-align: top;\n",
       "    }\n",
       "\n",
       "    .dataframe thead th {\n",
       "        text-align: right;\n",
       "    }\n",
       "</style>\n",
       "<table border=\"1\" class=\"dataframe\">\n",
       "  <thead>\n",
       "    <tr style=\"text-align: right;\">\n",
       "      <th></th>\n",
       "      <th>modelo</th>\n",
       "      <th>km</th>\n",
       "      <th>potencia</th>\n",
       "      <th>color</th>\n",
       "      <th>tipo_coche</th>\n",
       "      <th>volante_regulable</th>\n",
       "      <th>aire_acondicionado</th>\n",
       "      <th>camara_trasera</th>\n",
       "      <th>asientos_traseros_plegables</th>\n",
       "      <th>elevalunas_electrico</th>\n",
       "      <th>bluetooth</th>\n",
       "      <th>gps</th>\n",
       "      <th>alerta_lim_velocidad</th>\n",
       "      <th>precio</th>\n",
       "      <th>años_coche</th>\n",
       "    </tr>\n",
       "  </thead>\n",
       "  <tbody>\n",
       "    <tr>\n",
       "      <th>0</th>\n",
       "      <td>118</td>\n",
       "      <td>140411.0</td>\n",
       "      <td>100.0</td>\n",
       "      <td>black</td>\n",
       "      <td>NaN</td>\n",
       "      <td>True</td>\n",
       "      <td>True</td>\n",
       "      <td>False</td>\n",
       "      <td>NaN</td>\n",
       "      <td>True</td>\n",
       "      <td>NaN</td>\n",
       "      <td>True</td>\n",
       "      <td>NaN</td>\n",
       "      <td>11300.0</td>\n",
       "      <td>6.0</td>\n",
       "    </tr>\n",
       "    <tr>\n",
       "      <th>1</th>\n",
       "      <td>M4</td>\n",
       "      <td>13929.0</td>\n",
       "      <td>317.0</td>\n",
       "      <td>grey</td>\n",
       "      <td>convertible</td>\n",
       "      <td>True</td>\n",
       "      <td>True</td>\n",
       "      <td>False</td>\n",
       "      <td>NaN</td>\n",
       "      <td>False</td>\n",
       "      <td>True</td>\n",
       "      <td>True</td>\n",
       "      <td>True</td>\n",
       "      <td>69700.0</td>\n",
       "      <td>NaN</td>\n",
       "    </tr>\n",
       "    <tr>\n",
       "      <th>2</th>\n",
       "      <td>320</td>\n",
       "      <td>183297.0</td>\n",
       "      <td>120.0</td>\n",
       "      <td>white</td>\n",
       "      <td>NaN</td>\n",
       "      <td>False</td>\n",
       "      <td>False</td>\n",
       "      <td>False</td>\n",
       "      <td>NaN</td>\n",
       "      <td>True</td>\n",
       "      <td>False</td>\n",
       "      <td>True</td>\n",
       "      <td>False</td>\n",
       "      <td>10200.0</td>\n",
       "      <td>6.0</td>\n",
       "    </tr>\n",
       "    <tr>\n",
       "      <th>3</th>\n",
       "      <td>420</td>\n",
       "      <td>128035.0</td>\n",
       "      <td>135.0</td>\n",
       "      <td>red</td>\n",
       "      <td>convertible</td>\n",
       "      <td>True</td>\n",
       "      <td>True</td>\n",
       "      <td>False</td>\n",
       "      <td>NaN</td>\n",
       "      <td>True</td>\n",
       "      <td>True</td>\n",
       "      <td>True</td>\n",
       "      <td>NaN</td>\n",
       "      <td>25100.0</td>\n",
       "      <td>NaN</td>\n",
       "    </tr>\n",
       "    <tr>\n",
       "      <th>4</th>\n",
       "      <td>425</td>\n",
       "      <td>97097.0</td>\n",
       "      <td>160.0</td>\n",
       "      <td>silver</td>\n",
       "      <td>NaN</td>\n",
       "      <td>True</td>\n",
       "      <td>True</td>\n",
       "      <td>False</td>\n",
       "      <td>False</td>\n",
       "      <td>False</td>\n",
       "      <td>True</td>\n",
       "      <td>True</td>\n",
       "      <td>True</td>\n",
       "      <td>33400.0</td>\n",
       "      <td>NaN</td>\n",
       "    </tr>\n",
       "  </tbody>\n",
       "</table>\n",
       "</div>"
      ],
      "text/plain": [
       "  modelo        km  potencia   color   tipo_coche volante_regulable  \\\n",
       "0    118  140411.0     100.0   black          NaN              True   \n",
       "1     M4   13929.0     317.0    grey  convertible              True   \n",
       "2    320  183297.0     120.0   white          NaN             False   \n",
       "3    420  128035.0     135.0     red  convertible              True   \n",
       "4    425   97097.0     160.0  silver          NaN              True   \n",
       "\n",
       "  aire_acondicionado camara_trasera asientos_traseros_plegables  \\\n",
       "0               True          False                         NaN   \n",
       "1               True          False                         NaN   \n",
       "2              False          False                         NaN   \n",
       "3               True          False                         NaN   \n",
       "4               True          False                       False   \n",
       "\n",
       "  elevalunas_electrico bluetooth   gps alerta_lim_velocidad   precio  \\\n",
       "0                 True       NaN  True                  NaN  11300.0   \n",
       "1                False      True  True                 True  69700.0   \n",
       "2                 True     False  True                False  10200.0   \n",
       "3                 True      True  True                  NaN  25100.0   \n",
       "4                False      True  True                 True  33400.0   \n",
       "\n",
       "   años_coche  \n",
       "0         6.0  \n",
       "1         NaN  \n",
       "2         6.0  \n",
       "3         NaN  \n",
       "4         NaN  "
      ]
     },
     "execution_count": 27,
     "metadata": {},
     "output_type": "execute_result"
    }
   ],
   "source": [
    "# Eliminamos la columna 'tipo_gasolina'\n",
    "df_bmw.drop(columns='tipo_gasolina', inplace= True)\n",
    "\n",
    "# Comprobamos que hemos eliminado la columna\n",
    "df_bmw.head()"
   ]
  },
  {
   "cell_type": "markdown",
   "id": "827caa77",
   "metadata": {},
   "source": [
    "##### **COLUMNA GPS**"
   ]
  },
  {
   "cell_type": "code",
   "execution_count": 28,
   "id": "eff51b09",
   "metadata": {},
   "outputs": [
    {
     "data": {
      "text/plain": [
       "gps\n",
       "True     0.932067\n",
       "False    0.067933\n",
       "Name: proportion, dtype: float64"
      ]
     },
     "execution_count": 28,
     "metadata": {},
     "output_type": "execute_result"
    }
   ],
   "source": [
    "# Observamos la distribución de 'gps'\n",
    "distribuciones['gps']"
   ]
  },
  {
   "cell_type": "markdown",
   "id": "e8dc8763",
   "metadata": {},
   "source": [
    "También observamos que la columna `gps` tiene un **93%** de valores `True`. Como estamos buscando atributos que aporten información útil para predecir el precio, eliminamos la columna."
   ]
  },
  {
   "cell_type": "code",
   "execution_count": 29,
   "id": "57bb39a2",
   "metadata": {},
   "outputs": [
    {
     "name": "stdout",
     "output_type": "stream",
     "text": [
      "<class 'pandas.core.frame.DataFrame'>\n",
      "Index: 4837 entries, 0 to 4842\n",
      "Data columns (total 14 columns):\n",
      " #   Column                       Non-Null Count  Dtype  \n",
      "---  ------                       --------------  -----  \n",
      " 0   modelo                       4834 non-null   object \n",
      " 1   km                           4835 non-null   float64\n",
      " 2   potencia                     4836 non-null   float64\n",
      " 3   color                        4392 non-null   object \n",
      " 4   tipo_coche                   3379 non-null   object \n",
      " 5   volante_regulable            4833 non-null   object \n",
      " 6   aire_acondicionado           4352 non-null   object \n",
      " 7   camara_trasera               4835 non-null   object \n",
      " 8   asientos_traseros_plegables  1451 non-null   object \n",
      " 9   elevalunas_electrico         4835 non-null   object \n",
      " 10  bluetooth                    4109 non-null   object \n",
      " 11  alerta_lim_velocidad         4112 non-null   object \n",
      " 12  precio                       4831 non-null   float64\n",
      " 13  años_coche                   2417 non-null   float64\n",
      "dtypes: float64(4), object(10)\n",
      "memory usage: 566.8+ KB\n"
     ]
    }
   ],
   "source": [
    "# Eliminamos la columna 'gps'\n",
    "df_bmw.drop(columns='gps', inplace= True)\n",
    "\n",
    "# Comprobamos que hemos eliminado la columna\n",
    "df_bmw.info()"
   ]
  },
  {
   "cell_type": "markdown",
   "id": "8b5d232d",
   "metadata": {},
   "source": [
    "## **04 - TRATAMIENTO DE NULOS**"
   ]
  },
  {
   "cell_type": "markdown",
   "id": "c0123201",
   "metadata": {},
   "source": [
    "### **GENÉRICO**"
   ]
  },
  {
   "cell_type": "code",
   "execution_count": 30,
   "id": "08805208",
   "metadata": {},
   "outputs": [
    {
     "data": {
      "text/html": [
       "<div>\n",
       "<style scoped>\n",
       "    .dataframe tbody tr th:only-of-type {\n",
       "        vertical-align: middle;\n",
       "    }\n",
       "\n",
       "    .dataframe tbody tr th {\n",
       "        vertical-align: top;\n",
       "    }\n",
       "\n",
       "    .dataframe thead th {\n",
       "        text-align: right;\n",
       "    }\n",
       "</style>\n",
       "<table border=\"1\" class=\"dataframe\">\n",
       "  <thead>\n",
       "    <tr style=\"text-align: right;\">\n",
       "      <th></th>\n",
       "      <th>NULOS</th>\n",
       "      <th>% NULOS</th>\n",
       "      <th>VALORES UNICOS</th>\n",
       "    </tr>\n",
       "  </thead>\n",
       "  <tbody>\n",
       "    <tr>\n",
       "      <th>asientos_traseros_plegables</th>\n",
       "      <td>3386</td>\n",
       "      <td>70.002067</td>\n",
       "      <td>2</td>\n",
       "    </tr>\n",
       "    <tr>\n",
       "      <th>años_coche</th>\n",
       "      <td>2420</td>\n",
       "      <td>50.031011</td>\n",
       "      <td>23</td>\n",
       "    </tr>\n",
       "    <tr>\n",
       "      <th>tipo_coche</th>\n",
       "      <td>1458</td>\n",
       "      <td>30.142650</td>\n",
       "      <td>8</td>\n",
       "    </tr>\n",
       "    <tr>\n",
       "      <th>bluetooth</th>\n",
       "      <td>728</td>\n",
       "      <td>15.050651</td>\n",
       "      <td>2</td>\n",
       "    </tr>\n",
       "    <tr>\n",
       "      <th>alerta_lim_velocidad</th>\n",
       "      <td>725</td>\n",
       "      <td>14.988629</td>\n",
       "      <td>2</td>\n",
       "    </tr>\n",
       "    <tr>\n",
       "      <th>aire_acondicionado</th>\n",
       "      <td>485</td>\n",
       "      <td>10.026876</td>\n",
       "      <td>2</td>\n",
       "    </tr>\n",
       "    <tr>\n",
       "      <th>color</th>\n",
       "      <td>445</td>\n",
       "      <td>9.199917</td>\n",
       "      <td>10</td>\n",
       "    </tr>\n",
       "    <tr>\n",
       "      <th>precio</th>\n",
       "      <td>6</td>\n",
       "      <td>0.124044</td>\n",
       "      <td>436</td>\n",
       "    </tr>\n",
       "    <tr>\n",
       "      <th>volante_regulable</th>\n",
       "      <td>4</td>\n",
       "      <td>0.082696</td>\n",
       "      <td>2</td>\n",
       "    </tr>\n",
       "    <tr>\n",
       "      <th>modelo</th>\n",
       "      <td>3</td>\n",
       "      <td>0.062022</td>\n",
       "      <td>76</td>\n",
       "    </tr>\n",
       "    <tr>\n",
       "      <th>km</th>\n",
       "      <td>2</td>\n",
       "      <td>0.041348</td>\n",
       "      <td>4778</td>\n",
       "    </tr>\n",
       "    <tr>\n",
       "      <th>camara_trasera</th>\n",
       "      <td>2</td>\n",
       "      <td>0.041348</td>\n",
       "      <td>2</td>\n",
       "    </tr>\n",
       "    <tr>\n",
       "      <th>elevalunas_electrico</th>\n",
       "      <td>2</td>\n",
       "      <td>0.041348</td>\n",
       "      <td>2</td>\n",
       "    </tr>\n",
       "    <tr>\n",
       "      <th>potencia</th>\n",
       "      <td>1</td>\n",
       "      <td>0.020674</td>\n",
       "      <td>59</td>\n",
       "    </tr>\n",
       "  </tbody>\n",
       "</table>\n",
       "</div>"
      ],
      "text/plain": [
       "                             NULOS    % NULOS  VALORES UNICOS\n",
       "asientos_traseros_plegables   3386  70.002067               2\n",
       "años_coche                    2420  50.031011              23\n",
       "tipo_coche                    1458  30.142650               8\n",
       "bluetooth                      728  15.050651               2\n",
       "alerta_lim_velocidad           725  14.988629               2\n",
       "aire_acondicionado             485  10.026876               2\n",
       "color                          445   9.199917              10\n",
       "precio                           6   0.124044             436\n",
       "volante_regulable                4   0.082696               2\n",
       "modelo                           3   0.062022              76\n",
       "km                               2   0.041348            4778\n",
       "camara_trasera                   2   0.041348               2\n",
       "elevalunas_electrico             2   0.041348               2\n",
       "potencia                         1   0.020674              59"
      ]
     },
     "execution_count": 30,
     "metadata": {},
     "output_type": "execute_result"
    }
   ],
   "source": [
    "tabla_nulos(df_bmw)"
   ]
  },
  {
   "cell_type": "code",
   "execution_count": 31,
   "id": "e4f54879",
   "metadata": {},
   "outputs": [],
   "source": [
    "# Creamos una función para eliminar columnas que tengan un umbral de nulos inferior a un valor\n",
    "\n",
    "def elimina_nulos(dataset, umbral):\n",
    "    lista_nulos = tabla_nulos(dataset)\n",
    "    for i in lista_nulos.index:\n",
    "        if lista_nulos['% NULOS'][i] < umbral:\n",
    "            dataset.dropna(subset=[i], inplace=True)\n",
    "    return dataset"
   ]
  },
  {
   "cell_type": "code",
   "execution_count": 32,
   "id": "cb16b48c",
   "metadata": {},
   "outputs": [
    {
     "data": {
      "text/html": [
       "<div>\n",
       "<style scoped>\n",
       "    .dataframe tbody tr th:only-of-type {\n",
       "        vertical-align: middle;\n",
       "    }\n",
       "\n",
       "    .dataframe tbody tr th {\n",
       "        vertical-align: top;\n",
       "    }\n",
       "\n",
       "    .dataframe thead th {\n",
       "        text-align: right;\n",
       "    }\n",
       "</style>\n",
       "<table border=\"1\" class=\"dataframe\">\n",
       "  <thead>\n",
       "    <tr style=\"text-align: right;\">\n",
       "      <th></th>\n",
       "      <th>modelo</th>\n",
       "      <th>km</th>\n",
       "      <th>potencia</th>\n",
       "      <th>color</th>\n",
       "      <th>tipo_coche</th>\n",
       "      <th>volante_regulable</th>\n",
       "      <th>aire_acondicionado</th>\n",
       "      <th>camara_trasera</th>\n",
       "      <th>asientos_traseros_plegables</th>\n",
       "      <th>elevalunas_electrico</th>\n",
       "      <th>bluetooth</th>\n",
       "      <th>alerta_lim_velocidad</th>\n",
       "      <th>precio</th>\n",
       "      <th>años_coche</th>\n",
       "    </tr>\n",
       "  </thead>\n",
       "  <tbody>\n",
       "    <tr>\n",
       "      <th>0</th>\n",
       "      <td>118</td>\n",
       "      <td>140411.0</td>\n",
       "      <td>100.0</td>\n",
       "      <td>black</td>\n",
       "      <td>NaN</td>\n",
       "      <td>True</td>\n",
       "      <td>True</td>\n",
       "      <td>False</td>\n",
       "      <td>NaN</td>\n",
       "      <td>True</td>\n",
       "      <td>NaN</td>\n",
       "      <td>NaN</td>\n",
       "      <td>11300.0</td>\n",
       "      <td>6.0</td>\n",
       "    </tr>\n",
       "    <tr>\n",
       "      <th>1</th>\n",
       "      <td>M4</td>\n",
       "      <td>13929.0</td>\n",
       "      <td>317.0</td>\n",
       "      <td>grey</td>\n",
       "      <td>convertible</td>\n",
       "      <td>True</td>\n",
       "      <td>True</td>\n",
       "      <td>False</td>\n",
       "      <td>NaN</td>\n",
       "      <td>False</td>\n",
       "      <td>True</td>\n",
       "      <td>True</td>\n",
       "      <td>69700.0</td>\n",
       "      <td>NaN</td>\n",
       "    </tr>\n",
       "    <tr>\n",
       "      <th>2</th>\n",
       "      <td>320</td>\n",
       "      <td>183297.0</td>\n",
       "      <td>120.0</td>\n",
       "      <td>white</td>\n",
       "      <td>NaN</td>\n",
       "      <td>False</td>\n",
       "      <td>False</td>\n",
       "      <td>False</td>\n",
       "      <td>NaN</td>\n",
       "      <td>True</td>\n",
       "      <td>False</td>\n",
       "      <td>False</td>\n",
       "      <td>10200.0</td>\n",
       "      <td>6.0</td>\n",
       "    </tr>\n",
       "    <tr>\n",
       "      <th>3</th>\n",
       "      <td>420</td>\n",
       "      <td>128035.0</td>\n",
       "      <td>135.0</td>\n",
       "      <td>red</td>\n",
       "      <td>convertible</td>\n",
       "      <td>True</td>\n",
       "      <td>True</td>\n",
       "      <td>False</td>\n",
       "      <td>NaN</td>\n",
       "      <td>True</td>\n",
       "      <td>True</td>\n",
       "      <td>NaN</td>\n",
       "      <td>25100.0</td>\n",
       "      <td>NaN</td>\n",
       "    </tr>\n",
       "    <tr>\n",
       "      <th>4</th>\n",
       "      <td>425</td>\n",
       "      <td>97097.0</td>\n",
       "      <td>160.0</td>\n",
       "      <td>silver</td>\n",
       "      <td>NaN</td>\n",
       "      <td>True</td>\n",
       "      <td>True</td>\n",
       "      <td>False</td>\n",
       "      <td>False</td>\n",
       "      <td>False</td>\n",
       "      <td>True</td>\n",
       "      <td>True</td>\n",
       "      <td>33400.0</td>\n",
       "      <td>NaN</td>\n",
       "    </tr>\n",
       "    <tr>\n",
       "      <th>...</th>\n",
       "      <td>...</td>\n",
       "      <td>...</td>\n",
       "      <td>...</td>\n",
       "      <td>...</td>\n",
       "      <td>...</td>\n",
       "      <td>...</td>\n",
       "      <td>...</td>\n",
       "      <td>...</td>\n",
       "      <td>...</td>\n",
       "      <td>...</td>\n",
       "      <td>...</td>\n",
       "      <td>...</td>\n",
       "      <td>...</td>\n",
       "      <td>...</td>\n",
       "    </tr>\n",
       "    <tr>\n",
       "      <th>4838</th>\n",
       "      <td>218 Gran Tourer</td>\n",
       "      <td>39743.0</td>\n",
       "      <td>110.0</td>\n",
       "      <td>black</td>\n",
       "      <td>NaN</td>\n",
       "      <td>False</td>\n",
       "      <td>True</td>\n",
       "      <td>False</td>\n",
       "      <td>NaN</td>\n",
       "      <td>False</td>\n",
       "      <td>False</td>\n",
       "      <td>False</td>\n",
       "      <td>14600.0</td>\n",
       "      <td>NaN</td>\n",
       "    </tr>\n",
       "    <tr>\n",
       "      <th>4839</th>\n",
       "      <td>218 Active Tourer</td>\n",
       "      <td>49832.0</td>\n",
       "      <td>100.0</td>\n",
       "      <td>grey</td>\n",
       "      <td>NaN</td>\n",
       "      <td>False</td>\n",
       "      <td>True</td>\n",
       "      <td>False</td>\n",
       "      <td>NaN</td>\n",
       "      <td>False</td>\n",
       "      <td>False</td>\n",
       "      <td>True</td>\n",
       "      <td>17500.0</td>\n",
       "      <td>3.0</td>\n",
       "    </tr>\n",
       "    <tr>\n",
       "      <th>4840</th>\n",
       "      <td>218 Gran Tourer</td>\n",
       "      <td>19633.0</td>\n",
       "      <td>110.0</td>\n",
       "      <td>grey</td>\n",
       "      <td>van</td>\n",
       "      <td>False</td>\n",
       "      <td>True</td>\n",
       "      <td>False</td>\n",
       "      <td>NaN</td>\n",
       "      <td>False</td>\n",
       "      <td>False</td>\n",
       "      <td>True</td>\n",
       "      <td>17000.0</td>\n",
       "      <td>3.0</td>\n",
       "    </tr>\n",
       "    <tr>\n",
       "      <th>4841</th>\n",
       "      <td>218 Active Tourer</td>\n",
       "      <td>27920.0</td>\n",
       "      <td>110.0</td>\n",
       "      <td>brown</td>\n",
       "      <td>van</td>\n",
       "      <td>True</td>\n",
       "      <td>True</td>\n",
       "      <td>False</td>\n",
       "      <td>False</td>\n",
       "      <td>False</td>\n",
       "      <td>False</td>\n",
       "      <td>True</td>\n",
       "      <td>22700.0</td>\n",
       "      <td>2.0</td>\n",
       "    </tr>\n",
       "    <tr>\n",
       "      <th>4842</th>\n",
       "      <td>525</td>\n",
       "      <td>195840.0</td>\n",
       "      <td>160.0</td>\n",
       "      <td>grey</td>\n",
       "      <td>NaN</td>\n",
       "      <td>True</td>\n",
       "      <td>NaN</td>\n",
       "      <td>False</td>\n",
       "      <td>NaN</td>\n",
       "      <td>True</td>\n",
       "      <td>False</td>\n",
       "      <td>True</td>\n",
       "      <td>15500.0</td>\n",
       "      <td>NaN</td>\n",
       "    </tr>\n",
       "  </tbody>\n",
       "</table>\n",
       "<p>4817 rows × 14 columns</p>\n",
       "</div>"
      ],
      "text/plain": [
       "                 modelo        km  potencia   color   tipo_coche  \\\n",
       "0                   118  140411.0     100.0   black          NaN   \n",
       "1                    M4   13929.0     317.0    grey  convertible   \n",
       "2                   320  183297.0     120.0   white          NaN   \n",
       "3                   420  128035.0     135.0     red  convertible   \n",
       "4                   425   97097.0     160.0  silver          NaN   \n",
       "...                 ...       ...       ...     ...          ...   \n",
       "4838    218 Gran Tourer   39743.0     110.0   black          NaN   \n",
       "4839  218 Active Tourer   49832.0     100.0    grey          NaN   \n",
       "4840    218 Gran Tourer   19633.0     110.0    grey          van   \n",
       "4841  218 Active Tourer   27920.0     110.0   brown          van   \n",
       "4842                525  195840.0     160.0    grey          NaN   \n",
       "\n",
       "     volante_regulable aire_acondicionado camara_trasera  \\\n",
       "0                 True               True          False   \n",
       "1                 True               True          False   \n",
       "2                False              False          False   \n",
       "3                 True               True          False   \n",
       "4                 True               True          False   \n",
       "...                ...                ...            ...   \n",
       "4838             False               True          False   \n",
       "4839             False               True          False   \n",
       "4840             False               True          False   \n",
       "4841              True               True          False   \n",
       "4842              True                NaN          False   \n",
       "\n",
       "     asientos_traseros_plegables elevalunas_electrico bluetooth  \\\n",
       "0                            NaN                 True       NaN   \n",
       "1                            NaN                False      True   \n",
       "2                            NaN                 True     False   \n",
       "3                            NaN                 True      True   \n",
       "4                          False                False      True   \n",
       "...                          ...                  ...       ...   \n",
       "4838                         NaN                False     False   \n",
       "4839                         NaN                False     False   \n",
       "4840                         NaN                False     False   \n",
       "4841                       False                False     False   \n",
       "4842                         NaN                 True     False   \n",
       "\n",
       "     alerta_lim_velocidad   precio  años_coche  \n",
       "0                     NaN  11300.0         6.0  \n",
       "1                    True  69700.0         NaN  \n",
       "2                   False  10200.0         6.0  \n",
       "3                     NaN  25100.0         NaN  \n",
       "4                    True  33400.0         NaN  \n",
       "...                   ...      ...         ...  \n",
       "4838                False  14600.0         NaN  \n",
       "4839                 True  17500.0         3.0  \n",
       "4840                 True  17000.0         3.0  \n",
       "4841                 True  22700.0         2.0  \n",
       "4842                 True  15500.0         NaN  \n",
       "\n",
       "[4817 rows x 14 columns]"
      ]
     },
     "execution_count": 32,
     "metadata": {},
     "output_type": "execute_result"
    }
   ],
   "source": [
    "# Ejecutamos la función para eliminar las columnas que tengan un porcentaje de nulos inferior al 1%\n",
    "elimina_nulos(df_bmw, 1)"
   ]
  },
  {
   "cell_type": "code",
   "execution_count": 33,
   "id": "1fd433a7",
   "metadata": {},
   "outputs": [
    {
     "data": {
      "text/html": [
       "<div>\n",
       "<style scoped>\n",
       "    .dataframe tbody tr th:only-of-type {\n",
       "        vertical-align: middle;\n",
       "    }\n",
       "\n",
       "    .dataframe tbody tr th {\n",
       "        vertical-align: top;\n",
       "    }\n",
       "\n",
       "    .dataframe thead th {\n",
       "        text-align: right;\n",
       "    }\n",
       "</style>\n",
       "<table border=\"1\" class=\"dataframe\">\n",
       "  <thead>\n",
       "    <tr style=\"text-align: right;\">\n",
       "      <th></th>\n",
       "      <th>NULOS</th>\n",
       "      <th>% NULOS</th>\n",
       "      <th>VALORES UNICOS</th>\n",
       "    </tr>\n",
       "  </thead>\n",
       "  <tbody>\n",
       "    <tr>\n",
       "      <th>asientos_traseros_plegables</th>\n",
       "      <td>3373</td>\n",
       "      <td>70.022836</td>\n",
       "      <td>2</td>\n",
       "    </tr>\n",
       "    <tr>\n",
       "      <th>años_coche</th>\n",
       "      <td>2409</td>\n",
       "      <td>50.010380</td>\n",
       "      <td>23</td>\n",
       "    </tr>\n",
       "    <tr>\n",
       "      <th>tipo_coche</th>\n",
       "      <td>1450</td>\n",
       "      <td>30.101723</td>\n",
       "      <td>8</td>\n",
       "    </tr>\n",
       "    <tr>\n",
       "      <th>bluetooth</th>\n",
       "      <td>725</td>\n",
       "      <td>15.050862</td>\n",
       "      <td>2</td>\n",
       "    </tr>\n",
       "    <tr>\n",
       "      <th>alerta_lim_velocidad</th>\n",
       "      <td>722</td>\n",
       "      <td>14.988582</td>\n",
       "      <td>2</td>\n",
       "    </tr>\n",
       "    <tr>\n",
       "      <th>aire_acondicionado</th>\n",
       "      <td>482</td>\n",
       "      <td>10.006228</td>\n",
       "      <td>2</td>\n",
       "    </tr>\n",
       "    <tr>\n",
       "      <th>color</th>\n",
       "      <td>442</td>\n",
       "      <td>9.175836</td>\n",
       "      <td>10</td>\n",
       "    </tr>\n",
       "    <tr>\n",
       "      <th>modelo</th>\n",
       "      <td>0</td>\n",
       "      <td>0.000000</td>\n",
       "      <td>76</td>\n",
       "    </tr>\n",
       "    <tr>\n",
       "      <th>km</th>\n",
       "      <td>0</td>\n",
       "      <td>0.000000</td>\n",
       "      <td>4760</td>\n",
       "    </tr>\n",
       "    <tr>\n",
       "      <th>potencia</th>\n",
       "      <td>0</td>\n",
       "      <td>0.000000</td>\n",
       "      <td>59</td>\n",
       "    </tr>\n",
       "    <tr>\n",
       "      <th>volante_regulable</th>\n",
       "      <td>0</td>\n",
       "      <td>0.000000</td>\n",
       "      <td>2</td>\n",
       "    </tr>\n",
       "    <tr>\n",
       "      <th>camara_trasera</th>\n",
       "      <td>0</td>\n",
       "      <td>0.000000</td>\n",
       "      <td>2</td>\n",
       "    </tr>\n",
       "    <tr>\n",
       "      <th>elevalunas_electrico</th>\n",
       "      <td>0</td>\n",
       "      <td>0.000000</td>\n",
       "      <td>2</td>\n",
       "    </tr>\n",
       "    <tr>\n",
       "      <th>precio</th>\n",
       "      <td>0</td>\n",
       "      <td>0.000000</td>\n",
       "      <td>436</td>\n",
       "    </tr>\n",
       "  </tbody>\n",
       "</table>\n",
       "</div>"
      ],
      "text/plain": [
       "                             NULOS    % NULOS  VALORES UNICOS\n",
       "asientos_traseros_plegables   3373  70.022836               2\n",
       "años_coche                    2409  50.010380              23\n",
       "tipo_coche                    1450  30.101723               8\n",
       "bluetooth                      725  15.050862               2\n",
       "alerta_lim_velocidad           722  14.988582               2\n",
       "aire_acondicionado             482  10.006228               2\n",
       "color                          442   9.175836              10\n",
       "modelo                           0   0.000000              76\n",
       "km                               0   0.000000            4760\n",
       "potencia                         0   0.000000              59\n",
       "volante_regulable                0   0.000000               2\n",
       "camara_trasera                   0   0.000000               2\n",
       "elevalunas_electrico             0   0.000000               2\n",
       "precio                           0   0.000000             436"
      ]
     },
     "execution_count": 33,
     "metadata": {},
     "output_type": "execute_result"
    }
   ],
   "source": [
    "tabla_nulos(df_bmw)"
   ]
  },
  {
   "cell_type": "code",
   "execution_count": 34,
   "id": "9468cf7f",
   "metadata": {},
   "outputs": [],
   "source": [
    "# Volvemos a ejectur la función diccionario_distribuciones para obtener las nuevas distribuciones\n",
    "distribuciones = diccionario_distribuciones(df_bmw)"
   ]
  },
  {
   "cell_type": "code",
   "execution_count": 35,
   "id": "b3e7a456",
   "metadata": {},
   "outputs": [
    {
     "data": {
      "text/plain": [
       "2    1852\n",
       "1    1236\n",
       "3    1080\n",
       "4     313\n",
       "0     302\n",
       "5      33\n",
       "6       1\n",
       "Name: count, dtype: int64"
      ]
     },
     "execution_count": 35,
     "metadata": {},
     "output_type": "execute_result"
    }
   ],
   "source": [
    "# Contamos el número de nulos por fila\n",
    "num_nulos = df_bmw.isnull().sum(axis=1)\n",
    "num_nulos.value_counts()"
   ]
  },
  {
   "cell_type": "code",
   "execution_count": 36,
   "id": "77067d49",
   "metadata": {},
   "outputs": [],
   "source": [
    "def obtener_moda(x):\n",
    "    moda = x.mode()\n",
    "    if not moda.empty:\n",
    "        return moda.iloc[0]\n",
    "    else:\n",
    "        return np.nan"
   ]
  },
  {
   "cell_type": "markdown",
   "id": "20ffc445",
   "metadata": {},
   "source": [
    "### **COLUMNA TIPO COCHE**"
   ]
  },
  {
   "cell_type": "code",
   "execution_count": 37,
   "id": "b1e7b7e6",
   "metadata": {},
   "outputs": [
    {
     "data": {
      "text/html": [
       "<div>\n",
       "<style scoped>\n",
       "    .dataframe tbody tr th:only-of-type {\n",
       "        vertical-align: middle;\n",
       "    }\n",
       "\n",
       "    .dataframe tbody tr th {\n",
       "        vertical-align: top;\n",
       "    }\n",
       "\n",
       "    .dataframe thead th {\n",
       "        text-align: right;\n",
       "    }\n",
       "</style>\n",
       "<table border=\"1\" class=\"dataframe\">\n",
       "  <thead>\n",
       "    <tr style=\"text-align: right;\">\n",
       "      <th></th>\n",
       "      <th>NULOS</th>\n",
       "      <th>% NULOS</th>\n",
       "      <th>VALORES UNICOS</th>\n",
       "    </tr>\n",
       "  </thead>\n",
       "  <tbody>\n",
       "    <tr>\n",
       "      <th>tipo_coche</th>\n",
       "      <td>1450</td>\n",
       "      <td>30.101723</td>\n",
       "      <td>8</td>\n",
       "    </tr>\n",
       "  </tbody>\n",
       "</table>\n",
       "</div>"
      ],
      "text/plain": [
       "            NULOS    % NULOS  VALORES UNICOS\n",
       "tipo_coche   1450  30.101723               8"
      ]
     },
     "execution_count": 37,
     "metadata": {},
     "output_type": "execute_result"
    }
   ],
   "source": [
    "tabla_nulos(df_bmw).loc[['tipo_coche']]"
   ]
  },
  {
   "cell_type": "code",
   "execution_count": 38,
   "id": "d52f2749",
   "metadata": {},
   "outputs": [
    {
     "data": {
      "text/plain": [
       "tipo_coche\n",
       "NaN            0.301017\n",
       "estate         0.228150\n",
       "sedan          0.170230\n",
       "suv            0.156321\n",
       "hatchback      0.101100\n",
       "subcompact     0.015985\n",
       "coupe          0.015155\n",
       "convertible    0.006228\n",
       "van            0.005813\n",
       "Name: proportion, dtype: float64"
      ]
     },
     "execution_count": 38,
     "metadata": {},
     "output_type": "execute_result"
    }
   ],
   "source": [
    "distribuciones['tipo_coche']"
   ]
  },
  {
   "cell_type": "code",
   "execution_count": 39,
   "id": "a2f0c05e",
   "metadata": {},
   "outputs": [],
   "source": [
    "COLUMNS_1 = ['modelo', 'potencia', 'años_coche']\n",
    "df_nulls_1 = df_bmw.groupby(COLUMNS_1)['tipo_coche'].agg(lambda x: pd.Series.mode(x).iloc[0] if not pd.Series.mode(x).empty else np.nan).to_frame().reset_index()\n",
    "df_nulls_1 = df_nulls_1.dropna(subset=['tipo_coche'])\n",
    "df_nulls_1.rename(columns={\"tipo_coche\":\"tipo_coche_1\"},inplace=True)\n",
    "\n",
    "COLUMNS_2 = ['modelo', 'potencia']\n",
    "df_nulls_2 = df_bmw.groupby(COLUMNS_2)['tipo_coche'].agg(lambda x: pd.Series.mode(x).iloc[0] if not pd.Series.mode(x).empty else np.nan).to_frame().reset_index()\n",
    "df_nulls_2 = df_nulls_2.dropna(subset=['tipo_coche'])\n",
    "df_nulls_2.rename(columns={\"tipo_coche\":\"tipo_coche_2\"},inplace=True)\n",
    "\n",
    "COLUMNS_3 = ['modelo']\n",
    "df_nulls_3 = df_bmw.groupby(COLUMNS_3)['tipo_coche'].agg(lambda x: pd.Series.mode(x).iloc[0] if not pd.Series.mode(x).empty else np.nan).to_frame().reset_index()\n",
    "df_nulls_3 = df_nulls_3.dropna(subset=['tipo_coche'])\n",
    "df_nulls_3.rename(columns={\"tipo_coche\":\"tipo_coche_3\"},inplace=True)"
   ]
  },
  {
   "cell_type": "code",
   "execution_count": 40,
   "id": "07e4565a",
   "metadata": {},
   "outputs": [],
   "source": [
    "df_bmw = df_bmw.merge(df_nulls_1,how='left',left_on=COLUMNS_1,right_on=COLUMNS_1)\n",
    "df_bmw = df_bmw.merge(df_nulls_2,how='left',left_on=COLUMNS_2,right_on=COLUMNS_2)\n",
    "df_bmw = df_bmw.merge(df_nulls_3,how='left',left_on=COLUMNS_3,right_on=COLUMNS_3)\n",
    "\n",
    "df_bmw['tipo_coche'] = df_bmw[['tipo_coche','tipo_coche_1','tipo_coche_2','tipo_coche_3']].bfill(axis=1).iloc[:, 0]\n",
    "\n",
    "df_bmw.drop(columns=['tipo_coche_1','tipo_coche_2','tipo_coche_3'],inplace=True)"
   ]
  },
  {
   "cell_type": "code",
   "execution_count": 41,
   "id": "be2499f7",
   "metadata": {},
   "outputs": [
    {
     "data": {
      "text/html": [
       "<div>\n",
       "<style scoped>\n",
       "    .dataframe tbody tr th:only-of-type {\n",
       "        vertical-align: middle;\n",
       "    }\n",
       "\n",
       "    .dataframe tbody tr th {\n",
       "        vertical-align: top;\n",
       "    }\n",
       "\n",
       "    .dataframe thead th {\n",
       "        text-align: right;\n",
       "    }\n",
       "</style>\n",
       "<table border=\"1\" class=\"dataframe\">\n",
       "  <thead>\n",
       "    <tr style=\"text-align: right;\">\n",
       "      <th></th>\n",
       "      <th>NULOS</th>\n",
       "      <th>% NULOS</th>\n",
       "      <th>VALORES UNICOS</th>\n",
       "    </tr>\n",
       "  </thead>\n",
       "  <tbody>\n",
       "    <tr>\n",
       "      <th>tipo_coche</th>\n",
       "      <td>0</td>\n",
       "      <td>0.0</td>\n",
       "      <td>8</td>\n",
       "    </tr>\n",
       "  </tbody>\n",
       "</table>\n",
       "</div>"
      ],
      "text/plain": [
       "            NULOS  % NULOS  VALORES UNICOS\n",
       "tipo_coche      0      0.0               8"
      ]
     },
     "execution_count": 41,
     "metadata": {},
     "output_type": "execute_result"
    }
   ],
   "source": [
    "tabla_nulos(df_bmw).loc[['tipo_coche']]"
   ]
  },
  {
   "cell_type": "code",
   "execution_count": 42,
   "id": "b4e2ef19",
   "metadata": {},
   "outputs": [
    {
     "data": {
      "application/vnd.plotly.v1+json": {
       "config": {
        "plotlyServerURL": "https://plot.ly"
       },
       "data": [
        {
         "marker": {
          "color": "#373485"
         },
         "name": "Antes",
         "opacity": 1,
         "text": {
          "bdata": "AAAAAAAAPkAAAAAAAABTQAAAAAAATJFAAAAAAACAfkAAAAAAAKiJQAAAAAAAQFNAAAAAAACYh0AAAAAAAAA9QA==",
          "dtype": "f8"
         },
         "textposition": "outside",
         "type": "bar",
         "x": [
          "convertible",
          "coupe",
          "estate",
          "hatchback",
          "sedan",
          "subcompact",
          "suv",
          "van"
         ],
         "y": {
          "bdata": "HgBMAFME6AE1A00A8wIdAA==",
          "dtype": "i2"
         }
        },
        {
         "marker": {
          "color": "#c52b30"
         },
         "name": "Después",
         "opacity": 1,
         "text": {
          "bdata": "AAAAAAAAREAAAAAAAEBZQAAAAAAACJtAAAAAAADohkAAAAAAACiQQAAAAAAAAFRAAAAAAACIkEAAAAAAAIBEQA==",
          "dtype": "f8"
         },
         "textposition": "outside",
         "type": "bar",
         "x": [
          "convertible",
          "coupe",
          "estate",
          "hatchback",
          "sedan",
          "subcompact",
          "suv",
          "van"
         ],
         "y": {
          "bdata": "KABlAMIG3QIKBFAAIgQpAA==",
          "dtype": "i2"
         }
        }
       ],
       "layout": {
        "barmode": "group",
        "height": 470,
        "paper_bgcolor": "#e6e6e7",
        "plot_bgcolor": "#e6e6e7",
        "template": {
         "data": {
          "bar": [
           {
            "error_x": {
             "color": "#2a3f5f"
            },
            "error_y": {
             "color": "#2a3f5f"
            },
            "marker": {
             "line": {
              "color": "white",
              "width": 0.5
             },
             "pattern": {
              "fillmode": "overlay",
              "size": 10,
              "solidity": 0.2
             }
            },
            "type": "bar"
           }
          ],
          "barpolar": [
           {
            "marker": {
             "line": {
              "color": "white",
              "width": 0.5
             },
             "pattern": {
              "fillmode": "overlay",
              "size": 10,
              "solidity": 0.2
             }
            },
            "type": "barpolar"
           }
          ],
          "carpet": [
           {
            "aaxis": {
             "endlinecolor": "#2a3f5f",
             "gridcolor": "#C8D4E3",
             "linecolor": "#C8D4E3",
             "minorgridcolor": "#C8D4E3",
             "startlinecolor": "#2a3f5f"
            },
            "baxis": {
             "endlinecolor": "#2a3f5f",
             "gridcolor": "#C8D4E3",
             "linecolor": "#C8D4E3",
             "minorgridcolor": "#C8D4E3",
             "startlinecolor": "#2a3f5f"
            },
            "type": "carpet"
           }
          ],
          "choropleth": [
           {
            "colorbar": {
             "outlinewidth": 0,
             "ticks": ""
            },
            "type": "choropleth"
           }
          ],
          "contour": [
           {
            "colorbar": {
             "outlinewidth": 0,
             "ticks": ""
            },
            "colorscale": [
             [
              0,
              "#0d0887"
             ],
             [
              0.1111111111111111,
              "#46039f"
             ],
             [
              0.2222222222222222,
              "#7201a8"
             ],
             [
              0.3333333333333333,
              "#9c179e"
             ],
             [
              0.4444444444444444,
              "#bd3786"
             ],
             [
              0.5555555555555556,
              "#d8576b"
             ],
             [
              0.6666666666666666,
              "#ed7953"
             ],
             [
              0.7777777777777778,
              "#fb9f3a"
             ],
             [
              0.8888888888888888,
              "#fdca26"
             ],
             [
              1,
              "#f0f921"
             ]
            ],
            "type": "contour"
           }
          ],
          "contourcarpet": [
           {
            "colorbar": {
             "outlinewidth": 0,
             "ticks": ""
            },
            "type": "contourcarpet"
           }
          ],
          "heatmap": [
           {
            "colorbar": {
             "outlinewidth": 0,
             "ticks": ""
            },
            "colorscale": [
             [
              0,
              "#0d0887"
             ],
             [
              0.1111111111111111,
              "#46039f"
             ],
             [
              0.2222222222222222,
              "#7201a8"
             ],
             [
              0.3333333333333333,
              "#9c179e"
             ],
             [
              0.4444444444444444,
              "#bd3786"
             ],
             [
              0.5555555555555556,
              "#d8576b"
             ],
             [
              0.6666666666666666,
              "#ed7953"
             ],
             [
              0.7777777777777778,
              "#fb9f3a"
             ],
             [
              0.8888888888888888,
              "#fdca26"
             ],
             [
              1,
              "#f0f921"
             ]
            ],
            "type": "heatmap"
           }
          ],
          "histogram": [
           {
            "marker": {
             "pattern": {
              "fillmode": "overlay",
              "size": 10,
              "solidity": 0.2
             }
            },
            "type": "histogram"
           }
          ],
          "histogram2d": [
           {
            "colorbar": {
             "outlinewidth": 0,
             "ticks": ""
            },
            "colorscale": [
             [
              0,
              "#0d0887"
             ],
             [
              0.1111111111111111,
              "#46039f"
             ],
             [
              0.2222222222222222,
              "#7201a8"
             ],
             [
              0.3333333333333333,
              "#9c179e"
             ],
             [
              0.4444444444444444,
              "#bd3786"
             ],
             [
              0.5555555555555556,
              "#d8576b"
             ],
             [
              0.6666666666666666,
              "#ed7953"
             ],
             [
              0.7777777777777778,
              "#fb9f3a"
             ],
             [
              0.8888888888888888,
              "#fdca26"
             ],
             [
              1,
              "#f0f921"
             ]
            ],
            "type": "histogram2d"
           }
          ],
          "histogram2dcontour": [
           {
            "colorbar": {
             "outlinewidth": 0,
             "ticks": ""
            },
            "colorscale": [
             [
              0,
              "#0d0887"
             ],
             [
              0.1111111111111111,
              "#46039f"
             ],
             [
              0.2222222222222222,
              "#7201a8"
             ],
             [
              0.3333333333333333,
              "#9c179e"
             ],
             [
              0.4444444444444444,
              "#bd3786"
             ],
             [
              0.5555555555555556,
              "#d8576b"
             ],
             [
              0.6666666666666666,
              "#ed7953"
             ],
             [
              0.7777777777777778,
              "#fb9f3a"
             ],
             [
              0.8888888888888888,
              "#fdca26"
             ],
             [
              1,
              "#f0f921"
             ]
            ],
            "type": "histogram2dcontour"
           }
          ],
          "mesh3d": [
           {
            "colorbar": {
             "outlinewidth": 0,
             "ticks": ""
            },
            "type": "mesh3d"
           }
          ],
          "parcoords": [
           {
            "line": {
             "colorbar": {
              "outlinewidth": 0,
              "ticks": ""
             }
            },
            "type": "parcoords"
           }
          ],
          "pie": [
           {
            "automargin": true,
            "type": "pie"
           }
          ],
          "scatter": [
           {
            "fillpattern": {
             "fillmode": "overlay",
             "size": 10,
             "solidity": 0.2
            },
            "type": "scatter"
           }
          ],
          "scatter3d": [
           {
            "line": {
             "colorbar": {
              "outlinewidth": 0,
              "ticks": ""
             }
            },
            "marker": {
             "colorbar": {
              "outlinewidth": 0,
              "ticks": ""
             }
            },
            "type": "scatter3d"
           }
          ],
          "scattercarpet": [
           {
            "marker": {
             "colorbar": {
              "outlinewidth": 0,
              "ticks": ""
             }
            },
            "type": "scattercarpet"
           }
          ],
          "scattergeo": [
           {
            "marker": {
             "colorbar": {
              "outlinewidth": 0,
              "ticks": ""
             }
            },
            "type": "scattergeo"
           }
          ],
          "scattergl": [
           {
            "marker": {
             "colorbar": {
              "outlinewidth": 0,
              "ticks": ""
             }
            },
            "type": "scattergl"
           }
          ],
          "scattermap": [
           {
            "marker": {
             "colorbar": {
              "outlinewidth": 0,
              "ticks": ""
             }
            },
            "type": "scattermap"
           }
          ],
          "scattermapbox": [
           {
            "marker": {
             "colorbar": {
              "outlinewidth": 0,
              "ticks": ""
             }
            },
            "type": "scattermapbox"
           }
          ],
          "scatterpolar": [
           {
            "marker": {
             "colorbar": {
              "outlinewidth": 0,
              "ticks": ""
             }
            },
            "type": "scatterpolar"
           }
          ],
          "scatterpolargl": [
           {
            "marker": {
             "colorbar": {
              "outlinewidth": 0,
              "ticks": ""
             }
            },
            "type": "scatterpolargl"
           }
          ],
          "scatterternary": [
           {
            "marker": {
             "colorbar": {
              "outlinewidth": 0,
              "ticks": ""
             }
            },
            "type": "scatterternary"
           }
          ],
          "surface": [
           {
            "colorbar": {
             "outlinewidth": 0,
             "ticks": ""
            },
            "colorscale": [
             [
              0,
              "#0d0887"
             ],
             [
              0.1111111111111111,
              "#46039f"
             ],
             [
              0.2222222222222222,
              "#7201a8"
             ],
             [
              0.3333333333333333,
              "#9c179e"
             ],
             [
              0.4444444444444444,
              "#bd3786"
             ],
             [
              0.5555555555555556,
              "#d8576b"
             ],
             [
              0.6666666666666666,
              "#ed7953"
             ],
             [
              0.7777777777777778,
              "#fb9f3a"
             ],
             [
              0.8888888888888888,
              "#fdca26"
             ],
             [
              1,
              "#f0f921"
             ]
            ],
            "type": "surface"
           }
          ],
          "table": [
           {
            "cells": {
             "fill": {
              "color": "#EBF0F8"
             },
             "line": {
              "color": "white"
             }
            },
            "header": {
             "fill": {
              "color": "#C8D4E3"
             },
             "line": {
              "color": "white"
             }
            },
            "type": "table"
           }
          ]
         },
         "layout": {
          "annotationdefaults": {
           "arrowcolor": "#2a3f5f",
           "arrowhead": 0,
           "arrowwidth": 1
          },
          "autotypenumbers": "strict",
          "coloraxis": {
           "colorbar": {
            "outlinewidth": 0,
            "ticks": ""
           }
          },
          "colorscale": {
           "diverging": [
            [
             0,
             "#8e0152"
            ],
            [
             0.1,
             "#c51b7d"
            ],
            [
             0.2,
             "#de77ae"
            ],
            [
             0.3,
             "#f1b6da"
            ],
            [
             0.4,
             "#fde0ef"
            ],
            [
             0.5,
             "#f7f7f7"
            ],
            [
             0.6,
             "#e6f5d0"
            ],
            [
             0.7,
             "#b8e186"
            ],
            [
             0.8,
             "#7fbc41"
            ],
            [
             0.9,
             "#4d9221"
            ],
            [
             1,
             "#276419"
            ]
           ],
           "sequential": [
            [
             0,
             "#0d0887"
            ],
            [
             0.1111111111111111,
             "#46039f"
            ],
            [
             0.2222222222222222,
             "#7201a8"
            ],
            [
             0.3333333333333333,
             "#9c179e"
            ],
            [
             0.4444444444444444,
             "#bd3786"
            ],
            [
             0.5555555555555556,
             "#d8576b"
            ],
            [
             0.6666666666666666,
             "#ed7953"
            ],
            [
             0.7777777777777778,
             "#fb9f3a"
            ],
            [
             0.8888888888888888,
             "#fdca26"
            ],
            [
             1,
             "#f0f921"
            ]
           ],
           "sequentialminus": [
            [
             0,
             "#0d0887"
            ],
            [
             0.1111111111111111,
             "#46039f"
            ],
            [
             0.2222222222222222,
             "#7201a8"
            ],
            [
             0.3333333333333333,
             "#9c179e"
            ],
            [
             0.4444444444444444,
             "#bd3786"
            ],
            [
             0.5555555555555556,
             "#d8576b"
            ],
            [
             0.6666666666666666,
             "#ed7953"
            ],
            [
             0.7777777777777778,
             "#fb9f3a"
            ],
            [
             0.8888888888888888,
             "#fdca26"
            ],
            [
             1,
             "#f0f921"
            ]
           ]
          },
          "colorway": [
           "#636efa",
           "#EF553B",
           "#00cc96",
           "#ab63fa",
           "#FFA15A",
           "#19d3f3",
           "#FF6692",
           "#B6E880",
           "#FF97FF",
           "#FECB52"
          ],
          "font": {
           "color": "#2a3f5f"
          },
          "geo": {
           "bgcolor": "white",
           "lakecolor": "white",
           "landcolor": "white",
           "showlakes": true,
           "showland": true,
           "subunitcolor": "#C8D4E3"
          },
          "hoverlabel": {
           "align": "left"
          },
          "hovermode": "closest",
          "mapbox": {
           "style": "light"
          },
          "paper_bgcolor": "white",
          "plot_bgcolor": "white",
          "polar": {
           "angularaxis": {
            "gridcolor": "#EBF0F8",
            "linecolor": "#EBF0F8",
            "ticks": ""
           },
           "bgcolor": "white",
           "radialaxis": {
            "gridcolor": "#EBF0F8",
            "linecolor": "#EBF0F8",
            "ticks": ""
           }
          },
          "scene": {
           "xaxis": {
            "backgroundcolor": "white",
            "gridcolor": "#DFE8F3",
            "gridwidth": 2,
            "linecolor": "#EBF0F8",
            "showbackground": true,
            "ticks": "",
            "zerolinecolor": "#EBF0F8"
           },
           "yaxis": {
            "backgroundcolor": "white",
            "gridcolor": "#DFE8F3",
            "gridwidth": 2,
            "linecolor": "#EBF0F8",
            "showbackground": true,
            "ticks": "",
            "zerolinecolor": "#EBF0F8"
           },
           "zaxis": {
            "backgroundcolor": "white",
            "gridcolor": "#DFE8F3",
            "gridwidth": 2,
            "linecolor": "#EBF0F8",
            "showbackground": true,
            "ticks": "",
            "zerolinecolor": "#EBF0F8"
           }
          },
          "shapedefaults": {
           "line": {
            "color": "#2a3f5f"
           }
          },
          "ternary": {
           "aaxis": {
            "gridcolor": "#DFE8F3",
            "linecolor": "#A2B1C6",
            "ticks": ""
           },
           "baxis": {
            "gridcolor": "#DFE8F3",
            "linecolor": "#A2B1C6",
            "ticks": ""
           },
           "bgcolor": "white",
           "caxis": {
            "gridcolor": "#DFE8F3",
            "linecolor": "#A2B1C6",
            "ticks": ""
           }
          },
          "title": {
           "x": 0.05
          },
          "xaxis": {
           "automargin": true,
           "gridcolor": "#EBF0F8",
           "linecolor": "#EBF0F8",
           "ticks": "",
           "title": {
            "standoff": 15
           },
           "zerolinecolor": "#EBF0F8",
           "zerolinewidth": 2
          },
          "yaxis": {
           "automargin": true,
           "gridcolor": "#EBF0F8",
           "linecolor": "#EBF0F8",
           "ticks": "",
           "title": {
            "standoff": 15
           },
           "zerolinecolor": "#EBF0F8",
           "zerolinewidth": 2
          }
         }
        },
        "title": {
         "text": "Distribución TIPO_COCHE antes y después de la imputación"
        },
        "width": 1200,
        "xaxis": {
         "tickfont": {
          "color": "black"
         },
         "title": {
          "standoff": 20,
          "text": "Tipo de coche"
         }
        }
       }
      }
     },
     "metadata": {},
     "output_type": "display_data"
    }
   ],
   "source": [
    "# Conteos por tipo de coche (ordenados)\n",
    "antes_counts = df_antes['tipo_coche'].value_counts().sort_index()\n",
    "despues_counts = df_bmw['tipo_coche'].value_counts().sort_index()\n",
    "\n",
    "# Etiquetas combinadas para X: antes y después (intercalado)\n",
    "x_vals = list(antes_counts.index) + list(despues_counts.index)\n",
    "y_vals = list(antes_counts.values) + list(despues_counts.values)\n",
    "\n",
    "# Colores: ejemplo con un color para antes y otro para después\n",
    "colors = ['#373485'] * len(antes_counts) + ['#c52b30'] * len(despues_counts)\n",
    "\n",
    "fig = go.Figure()\n",
    "\n",
    "# Añadimos barras para antes\n",
    "fig.add_trace(go.Bar(\n",
    "    x=[str(i) for i in antes_counts.index],\n",
    "    y=antes_counts.values,\n",
    "    marker_color='#373485',\n",
    "    name='Antes',\n",
    "    text=antes_counts.values,\n",
    "    textposition='outside',\n",
    "    opacity=1,\n",
    "))\n",
    "\n",
    "# Añadimos barras para después\n",
    "fig.add_trace(go.Bar(\n",
    "    x=[str(i) for i in despues_counts.index],\n",
    "    y=despues_counts.values,\n",
    "    marker_color='#c52b30',\n",
    "    name='Después',\n",
    "    text=despues_counts.values,\n",
    "    textposition='outside',\n",
    "    opacity=1,\n",
    "))\n",
    "\n",
    "# Configuramos el layout para que sea similar\n",
    "fig.update_layout(\n",
    "    title=\"Distribución TIPO_COCHE antes y después de la imputación\",\n",
    "    xaxis_title=\"Tipo de coche\",\n",
    "    barmode='group',\n",
    "    template='plotly_white',\n",
    "    width=1200,\n",
    "    height=470,\n",
    "    plot_bgcolor='#e6e6e7',\n",
    "    paper_bgcolor='#e6e6e7',\n",
    "    xaxis=dict(\n",
    "        tickfont=dict(color='black'),\n",
    "        title_standoff=20\n",
    "    )\n",
    ")\n",
    "\n",
    "fig.show()"
   ]
  },
  {
   "cell_type": "markdown",
   "id": "502ae21b",
   "metadata": {},
   "source": [
    "### **COLUMNA COLOR -------- (CONSIDERAR SI BORRAR YA QUE NO APORTA NADA AL PRECIO)** "
   ]
  },
  {
   "cell_type": "code",
   "execution_count": 43,
   "id": "0af052e0",
   "metadata": {},
   "outputs": [
    {
     "data": {
      "text/html": [
       "<div>\n",
       "<style scoped>\n",
       "    .dataframe tbody tr th:only-of-type {\n",
       "        vertical-align: middle;\n",
       "    }\n",
       "\n",
       "    .dataframe tbody tr th {\n",
       "        vertical-align: top;\n",
       "    }\n",
       "\n",
       "    .dataframe thead th {\n",
       "        text-align: right;\n",
       "    }\n",
       "</style>\n",
       "<table border=\"1\" class=\"dataframe\">\n",
       "  <thead>\n",
       "    <tr style=\"text-align: right;\">\n",
       "      <th></th>\n",
       "      <th>NULOS</th>\n",
       "      <th>% NULOS</th>\n",
       "      <th>VALORES UNICOS</th>\n",
       "    </tr>\n",
       "  </thead>\n",
       "  <tbody>\n",
       "    <tr>\n",
       "      <th>color</th>\n",
       "      <td>442</td>\n",
       "      <td>9.175836</td>\n",
       "      <td>10</td>\n",
       "    </tr>\n",
       "  </tbody>\n",
       "</table>\n",
       "</div>"
      ],
      "text/plain": [
       "       NULOS   % NULOS  VALORES UNICOS\n",
       "color    442  9.175836              10"
      ]
     },
     "execution_count": 43,
     "metadata": {},
     "output_type": "execute_result"
    }
   ],
   "source": [
    "tabla_nulos(df_bmw).loc[['color']]"
   ]
  },
  {
   "cell_type": "code",
   "execution_count": 44,
   "id": "b9c608e1",
   "metadata": {},
   "outputs": [
    {
     "data": {
      "text/plain": [
       "color\n",
       "black     0.308491\n",
       "grey      0.221507\n",
       "blue      0.133486\n",
       "white     0.100062\n",
       "NaN       0.091758\n",
       "brown     0.062695\n",
       "silver    0.060411\n",
       "red       0.009757\n",
       "beige     0.007681\n",
       "green     0.002906\n",
       "orange    0.001246\n",
       "Name: proportion, dtype: float64"
      ]
     },
     "execution_count": 44,
     "metadata": {},
     "output_type": "execute_result"
    }
   ],
   "source": [
    "distribuciones['color']"
   ]
  },
  {
   "cell_type": "code",
   "execution_count": 45,
   "id": "1ce5e466",
   "metadata": {},
   "outputs": [],
   "source": [
    "def get_color_estandar_bool(x):\n",
    "  if str(x) == 'nan':\n",
    "    return np.nan\n",
    "  elif x in ['black','grey','blue','white']:\n",
    "    return 1\n",
    "  else:\n",
    "    return 0"
   ]
  },
  {
   "cell_type": "code",
   "execution_count": 46,
   "id": "222d6c7d",
   "metadata": {},
   "outputs": [],
   "source": [
    "df_bmw['color_estandar'] = df_bmw['color'].map(get_color_estandar_bool)\n",
    "df_antes['color_estandar'] = df_antes['color'].map(get_color_estandar_bool)"
   ]
  },
  {
   "cell_type": "code",
   "execution_count": 47,
   "id": "c2a4c4a4",
   "metadata": {},
   "outputs": [],
   "source": [
    "COLUMNS_1 = ['modelo', 'tipo_coche', 'potencia']\n",
    "df_nulls_1 = df_bmw.groupby(COLUMNS_1)['color_estandar'].agg(lambda x: pd.Series.mode(x).iloc[0] if not pd.Series.mode(x).empty else np.nan).to_frame().reset_index()\n",
    "df_nulls_1 = df_nulls_1.dropna(subset=['color_estandar'])\n",
    "df_nulls_1.rename(columns={\"color_estandar\":\"color_estandar_1\"},inplace=True)\n",
    "\n",
    "COLUMNS_2 = ['modelo', 'tipo_coche']\n",
    "df_nulls_2 = df_bmw.groupby(COLUMNS_2)['color_estandar'].agg(lambda x: pd.Series.mode(x).iloc[0] if not pd.Series.mode(x).empty else np.nan).to_frame().reset_index()\n",
    "df_nulls_2 = df_nulls_2.dropna(subset=['color_estandar'])\n",
    "df_nulls_2.rename(columns={\"color_estandar\":\"color_estandar_2\"},inplace=True)\n",
    "\n",
    "COLUMNS_3 = ['modelo']\n",
    "df_nulls_3 = df_bmw.groupby(COLUMNS_3)['color_estandar'].agg(lambda x: pd.Series.mode(x).iloc[0] if not pd.Series.mode(x).empty else np.nan).to_frame().reset_index()\n",
    "df_nulls_3 = df_nulls_3.dropna(subset=['color_estandar'])\n",
    "df_nulls_3.rename(columns={\"color_estandar\":\"color_estandar_3\"},inplace=True)\n",
    "\n",
    "COLUMNS_4 = ['tipo_coche']\n",
    "df_nulls_4 = df_bmw.groupby(COLUMNS_4)['color_estandar'].agg(lambda x: pd.Series.mode(x).iloc[0] if not pd.Series.mode(x).empty else np.nan).to_frame().reset_index()\n",
    "df_nulls_4 = df_nulls_4.dropna(subset=['color_estandar'])\n",
    "df_nulls_4.rename(columns={\"color_estandar\":\"color_estandar_4\"},inplace=True)\n"
   ]
  },
  {
   "cell_type": "code",
   "execution_count": 48,
   "id": "f6d87812",
   "metadata": {},
   "outputs": [],
   "source": [
    "df_bmw = df_bmw.merge(df_nulls_1,how='left',left_on=COLUMNS_1,right_on=COLUMNS_1)\n",
    "df_bmw = df_bmw.merge(df_nulls_2,how='left',left_on=COLUMNS_2,right_on=COLUMNS_2)\n",
    "df_bmw = df_bmw.merge(df_nulls_3,how='left',left_on=COLUMNS_3,right_on=COLUMNS_3)\n",
    "df_bmw = df_bmw.merge(df_nulls_4,how='left',left_on=COLUMNS_4,right_on=COLUMNS_4)\n",
    "\n",
    "df_bmw['color_estandar'] = df_bmw[['color_estandar','color_estandar_1','color_estandar_2','color_estandar_3','color_estandar_4']].bfill(axis=1).iloc[:, 0]\n",
    "\n",
    "df_bmw.drop(columns=['color_estandar_1','color_estandar_2','color_estandar_3','color_estandar_4'],inplace=True)"
   ]
  },
  {
   "cell_type": "code",
   "execution_count": 49,
   "id": "4a426d74",
   "metadata": {},
   "outputs": [
    {
     "data": {
      "text/html": [
       "<div>\n",
       "<style scoped>\n",
       "    .dataframe tbody tr th:only-of-type {\n",
       "        vertical-align: middle;\n",
       "    }\n",
       "\n",
       "    .dataframe tbody tr th {\n",
       "        vertical-align: top;\n",
       "    }\n",
       "\n",
       "    .dataframe thead th {\n",
       "        text-align: right;\n",
       "    }\n",
       "</style>\n",
       "<table border=\"1\" class=\"dataframe\">\n",
       "  <thead>\n",
       "    <tr style=\"text-align: right;\">\n",
       "      <th></th>\n",
       "      <th>NULOS</th>\n",
       "      <th>% NULOS</th>\n",
       "      <th>VALORES UNICOS</th>\n",
       "    </tr>\n",
       "  </thead>\n",
       "  <tbody>\n",
       "    <tr>\n",
       "      <th>color_estandar</th>\n",
       "      <td>0</td>\n",
       "      <td>0.0</td>\n",
       "      <td>2</td>\n",
       "    </tr>\n",
       "  </tbody>\n",
       "</table>\n",
       "</div>"
      ],
      "text/plain": [
       "                NULOS  % NULOS  VALORES UNICOS\n",
       "color_estandar      0      0.0               2"
      ]
     },
     "execution_count": 49,
     "metadata": {},
     "output_type": "execute_result"
    }
   ],
   "source": [
    "tabla_nulos(df_bmw).loc[['color_estandar']]"
   ]
  },
  {
   "cell_type": "code",
   "execution_count": 50,
   "id": "598f8797",
   "metadata": {},
   "outputs": [
    {
     "name": "stdout",
     "output_type": "stream",
     "text": [
      "<class 'pandas.core.frame.DataFrame'>\n",
      "RangeIndex: 4817 entries, 0 to 4816\n",
      "Data columns (total 14 columns):\n",
      " #   Column                       Non-Null Count  Dtype  \n",
      "---  ------                       --------------  -----  \n",
      " 0   modelo                       4817 non-null   object \n",
      " 1   km                           4817 non-null   float64\n",
      " 2   potencia                     4817 non-null   float64\n",
      " 3   tipo_coche                   4817 non-null   object \n",
      " 4   volante_regulable            4817 non-null   object \n",
      " 5   aire_acondicionado           4335 non-null   object \n",
      " 6   camara_trasera               4817 non-null   object \n",
      " 7   asientos_traseros_plegables  1444 non-null   object \n",
      " 8   elevalunas_electrico         4817 non-null   object \n",
      " 9   bluetooth                    4092 non-null   object \n",
      " 10  alerta_lim_velocidad         4095 non-null   object \n",
      " 11  precio                       4817 non-null   float64\n",
      " 12  años_coche                   2408 non-null   float64\n",
      " 13  color_estandar               4817 non-null   float64\n",
      "dtypes: float64(5), object(9)\n",
      "memory usage: 527.0+ KB\n"
     ]
    }
   ],
   "source": [
    "# Una vez imputados los nulos en la nueva variable, borramos la columna color\n",
    "df_bmw.drop(columns='color', inplace=True)\n",
    "\n",
    "# Comprobamos que la hemos eliminado\n",
    "df_bmw.info()"
   ]
  },
  {
   "cell_type": "code",
   "execution_count": 51,
   "id": "50738409",
   "metadata": {},
   "outputs": [
    {
     "data": {
      "application/vnd.plotly.v1+json": {
       "config": {
        "plotlyServerURL": "https://plot.ly"
       },
       "data": [
        {
         "marker": {
          "color": "#373485"
         },
         "name": "Antes",
         "opacity": 1,
         "text": {
          "bdata": "AAAAAADQhUAAAAAAAOisQA==",
          "dtype": "f8"
         },
         "textposition": "outside",
         "type": "bar",
         "x": [
          "0: Otros",
          "1: Black / Grey / Blue / White"
         ],
         "y": {
          "bdata": "ugJ0Dg==",
          "dtype": "i2"
         }
        },
        {
         "marker": {
          "color": "#c52b30"
         },
         "name": "Después",
         "opacity": 1,
         "text": {
          "bdata": "AAAAAAD4hUAAAAAAABKwQA==",
          "dtype": "f8"
         },
         "textposition": "outside",
         "type": "bar",
         "x": [
          "0: Otros",
          "1: Black / Grey / Blue / White"
         ],
         "y": {
          "bdata": "vwISEA==",
          "dtype": "i2"
         }
        }
       ],
       "layout": {
        "barmode": "group",
        "height": 470,
        "paper_bgcolor": "#e6e6e7",
        "plot_bgcolor": "#e6e6e7",
        "template": {
         "data": {
          "bar": [
           {
            "error_x": {
             "color": "#2a3f5f"
            },
            "error_y": {
             "color": "#2a3f5f"
            },
            "marker": {
             "line": {
              "color": "white",
              "width": 0.5
             },
             "pattern": {
              "fillmode": "overlay",
              "size": 10,
              "solidity": 0.2
             }
            },
            "type": "bar"
           }
          ],
          "barpolar": [
           {
            "marker": {
             "line": {
              "color": "white",
              "width": 0.5
             },
             "pattern": {
              "fillmode": "overlay",
              "size": 10,
              "solidity": 0.2
             }
            },
            "type": "barpolar"
           }
          ],
          "carpet": [
           {
            "aaxis": {
             "endlinecolor": "#2a3f5f",
             "gridcolor": "#C8D4E3",
             "linecolor": "#C8D4E3",
             "minorgridcolor": "#C8D4E3",
             "startlinecolor": "#2a3f5f"
            },
            "baxis": {
             "endlinecolor": "#2a3f5f",
             "gridcolor": "#C8D4E3",
             "linecolor": "#C8D4E3",
             "minorgridcolor": "#C8D4E3",
             "startlinecolor": "#2a3f5f"
            },
            "type": "carpet"
           }
          ],
          "choropleth": [
           {
            "colorbar": {
             "outlinewidth": 0,
             "ticks": ""
            },
            "type": "choropleth"
           }
          ],
          "contour": [
           {
            "colorbar": {
             "outlinewidth": 0,
             "ticks": ""
            },
            "colorscale": [
             [
              0,
              "#0d0887"
             ],
             [
              0.1111111111111111,
              "#46039f"
             ],
             [
              0.2222222222222222,
              "#7201a8"
             ],
             [
              0.3333333333333333,
              "#9c179e"
             ],
             [
              0.4444444444444444,
              "#bd3786"
             ],
             [
              0.5555555555555556,
              "#d8576b"
             ],
             [
              0.6666666666666666,
              "#ed7953"
             ],
             [
              0.7777777777777778,
              "#fb9f3a"
             ],
             [
              0.8888888888888888,
              "#fdca26"
             ],
             [
              1,
              "#f0f921"
             ]
            ],
            "type": "contour"
           }
          ],
          "contourcarpet": [
           {
            "colorbar": {
             "outlinewidth": 0,
             "ticks": ""
            },
            "type": "contourcarpet"
           }
          ],
          "heatmap": [
           {
            "colorbar": {
             "outlinewidth": 0,
             "ticks": ""
            },
            "colorscale": [
             [
              0,
              "#0d0887"
             ],
             [
              0.1111111111111111,
              "#46039f"
             ],
             [
              0.2222222222222222,
              "#7201a8"
             ],
             [
              0.3333333333333333,
              "#9c179e"
             ],
             [
              0.4444444444444444,
              "#bd3786"
             ],
             [
              0.5555555555555556,
              "#d8576b"
             ],
             [
              0.6666666666666666,
              "#ed7953"
             ],
             [
              0.7777777777777778,
              "#fb9f3a"
             ],
             [
              0.8888888888888888,
              "#fdca26"
             ],
             [
              1,
              "#f0f921"
             ]
            ],
            "type": "heatmap"
           }
          ],
          "histogram": [
           {
            "marker": {
             "pattern": {
              "fillmode": "overlay",
              "size": 10,
              "solidity": 0.2
             }
            },
            "type": "histogram"
           }
          ],
          "histogram2d": [
           {
            "colorbar": {
             "outlinewidth": 0,
             "ticks": ""
            },
            "colorscale": [
             [
              0,
              "#0d0887"
             ],
             [
              0.1111111111111111,
              "#46039f"
             ],
             [
              0.2222222222222222,
              "#7201a8"
             ],
             [
              0.3333333333333333,
              "#9c179e"
             ],
             [
              0.4444444444444444,
              "#bd3786"
             ],
             [
              0.5555555555555556,
              "#d8576b"
             ],
             [
              0.6666666666666666,
              "#ed7953"
             ],
             [
              0.7777777777777778,
              "#fb9f3a"
             ],
             [
              0.8888888888888888,
              "#fdca26"
             ],
             [
              1,
              "#f0f921"
             ]
            ],
            "type": "histogram2d"
           }
          ],
          "histogram2dcontour": [
           {
            "colorbar": {
             "outlinewidth": 0,
             "ticks": ""
            },
            "colorscale": [
             [
              0,
              "#0d0887"
             ],
             [
              0.1111111111111111,
              "#46039f"
             ],
             [
              0.2222222222222222,
              "#7201a8"
             ],
             [
              0.3333333333333333,
              "#9c179e"
             ],
             [
              0.4444444444444444,
              "#bd3786"
             ],
             [
              0.5555555555555556,
              "#d8576b"
             ],
             [
              0.6666666666666666,
              "#ed7953"
             ],
             [
              0.7777777777777778,
              "#fb9f3a"
             ],
             [
              0.8888888888888888,
              "#fdca26"
             ],
             [
              1,
              "#f0f921"
             ]
            ],
            "type": "histogram2dcontour"
           }
          ],
          "mesh3d": [
           {
            "colorbar": {
             "outlinewidth": 0,
             "ticks": ""
            },
            "type": "mesh3d"
           }
          ],
          "parcoords": [
           {
            "line": {
             "colorbar": {
              "outlinewidth": 0,
              "ticks": ""
             }
            },
            "type": "parcoords"
           }
          ],
          "pie": [
           {
            "automargin": true,
            "type": "pie"
           }
          ],
          "scatter": [
           {
            "fillpattern": {
             "fillmode": "overlay",
             "size": 10,
             "solidity": 0.2
            },
            "type": "scatter"
           }
          ],
          "scatter3d": [
           {
            "line": {
             "colorbar": {
              "outlinewidth": 0,
              "ticks": ""
             }
            },
            "marker": {
             "colorbar": {
              "outlinewidth": 0,
              "ticks": ""
             }
            },
            "type": "scatter3d"
           }
          ],
          "scattercarpet": [
           {
            "marker": {
             "colorbar": {
              "outlinewidth": 0,
              "ticks": ""
             }
            },
            "type": "scattercarpet"
           }
          ],
          "scattergeo": [
           {
            "marker": {
             "colorbar": {
              "outlinewidth": 0,
              "ticks": ""
             }
            },
            "type": "scattergeo"
           }
          ],
          "scattergl": [
           {
            "marker": {
             "colorbar": {
              "outlinewidth": 0,
              "ticks": ""
             }
            },
            "type": "scattergl"
           }
          ],
          "scattermap": [
           {
            "marker": {
             "colorbar": {
              "outlinewidth": 0,
              "ticks": ""
             }
            },
            "type": "scattermap"
           }
          ],
          "scattermapbox": [
           {
            "marker": {
             "colorbar": {
              "outlinewidth": 0,
              "ticks": ""
             }
            },
            "type": "scattermapbox"
           }
          ],
          "scatterpolar": [
           {
            "marker": {
             "colorbar": {
              "outlinewidth": 0,
              "ticks": ""
             }
            },
            "type": "scatterpolar"
           }
          ],
          "scatterpolargl": [
           {
            "marker": {
             "colorbar": {
              "outlinewidth": 0,
              "ticks": ""
             }
            },
            "type": "scatterpolargl"
           }
          ],
          "scatterternary": [
           {
            "marker": {
             "colorbar": {
              "outlinewidth": 0,
              "ticks": ""
             }
            },
            "type": "scatterternary"
           }
          ],
          "surface": [
           {
            "colorbar": {
             "outlinewidth": 0,
             "ticks": ""
            },
            "colorscale": [
             [
              0,
              "#0d0887"
             ],
             [
              0.1111111111111111,
              "#46039f"
             ],
             [
              0.2222222222222222,
              "#7201a8"
             ],
             [
              0.3333333333333333,
              "#9c179e"
             ],
             [
              0.4444444444444444,
              "#bd3786"
             ],
             [
              0.5555555555555556,
              "#d8576b"
             ],
             [
              0.6666666666666666,
              "#ed7953"
             ],
             [
              0.7777777777777778,
              "#fb9f3a"
             ],
             [
              0.8888888888888888,
              "#fdca26"
             ],
             [
              1,
              "#f0f921"
             ]
            ],
            "type": "surface"
           }
          ],
          "table": [
           {
            "cells": {
             "fill": {
              "color": "#EBF0F8"
             },
             "line": {
              "color": "white"
             }
            },
            "header": {
             "fill": {
              "color": "#C8D4E3"
             },
             "line": {
              "color": "white"
             }
            },
            "type": "table"
           }
          ]
         },
         "layout": {
          "annotationdefaults": {
           "arrowcolor": "#2a3f5f",
           "arrowhead": 0,
           "arrowwidth": 1
          },
          "autotypenumbers": "strict",
          "coloraxis": {
           "colorbar": {
            "outlinewidth": 0,
            "ticks": ""
           }
          },
          "colorscale": {
           "diverging": [
            [
             0,
             "#8e0152"
            ],
            [
             0.1,
             "#c51b7d"
            ],
            [
             0.2,
             "#de77ae"
            ],
            [
             0.3,
             "#f1b6da"
            ],
            [
             0.4,
             "#fde0ef"
            ],
            [
             0.5,
             "#f7f7f7"
            ],
            [
             0.6,
             "#e6f5d0"
            ],
            [
             0.7,
             "#b8e186"
            ],
            [
             0.8,
             "#7fbc41"
            ],
            [
             0.9,
             "#4d9221"
            ],
            [
             1,
             "#276419"
            ]
           ],
           "sequential": [
            [
             0,
             "#0d0887"
            ],
            [
             0.1111111111111111,
             "#46039f"
            ],
            [
             0.2222222222222222,
             "#7201a8"
            ],
            [
             0.3333333333333333,
             "#9c179e"
            ],
            [
             0.4444444444444444,
             "#bd3786"
            ],
            [
             0.5555555555555556,
             "#d8576b"
            ],
            [
             0.6666666666666666,
             "#ed7953"
            ],
            [
             0.7777777777777778,
             "#fb9f3a"
            ],
            [
             0.8888888888888888,
             "#fdca26"
            ],
            [
             1,
             "#f0f921"
            ]
           ],
           "sequentialminus": [
            [
             0,
             "#0d0887"
            ],
            [
             0.1111111111111111,
             "#46039f"
            ],
            [
             0.2222222222222222,
             "#7201a8"
            ],
            [
             0.3333333333333333,
             "#9c179e"
            ],
            [
             0.4444444444444444,
             "#bd3786"
            ],
            [
             0.5555555555555556,
             "#d8576b"
            ],
            [
             0.6666666666666666,
             "#ed7953"
            ],
            [
             0.7777777777777778,
             "#fb9f3a"
            ],
            [
             0.8888888888888888,
             "#fdca26"
            ],
            [
             1,
             "#f0f921"
            ]
           ]
          },
          "colorway": [
           "#636efa",
           "#EF553B",
           "#00cc96",
           "#ab63fa",
           "#FFA15A",
           "#19d3f3",
           "#FF6692",
           "#B6E880",
           "#FF97FF",
           "#FECB52"
          ],
          "font": {
           "color": "#2a3f5f"
          },
          "geo": {
           "bgcolor": "white",
           "lakecolor": "white",
           "landcolor": "white",
           "showlakes": true,
           "showland": true,
           "subunitcolor": "#C8D4E3"
          },
          "hoverlabel": {
           "align": "left"
          },
          "hovermode": "closest",
          "mapbox": {
           "style": "light"
          },
          "paper_bgcolor": "white",
          "plot_bgcolor": "white",
          "polar": {
           "angularaxis": {
            "gridcolor": "#EBF0F8",
            "linecolor": "#EBF0F8",
            "ticks": ""
           },
           "bgcolor": "white",
           "radialaxis": {
            "gridcolor": "#EBF0F8",
            "linecolor": "#EBF0F8",
            "ticks": ""
           }
          },
          "scene": {
           "xaxis": {
            "backgroundcolor": "white",
            "gridcolor": "#DFE8F3",
            "gridwidth": 2,
            "linecolor": "#EBF0F8",
            "showbackground": true,
            "ticks": "",
            "zerolinecolor": "#EBF0F8"
           },
           "yaxis": {
            "backgroundcolor": "white",
            "gridcolor": "#DFE8F3",
            "gridwidth": 2,
            "linecolor": "#EBF0F8",
            "showbackground": true,
            "ticks": "",
            "zerolinecolor": "#EBF0F8"
           },
           "zaxis": {
            "backgroundcolor": "white",
            "gridcolor": "#DFE8F3",
            "gridwidth": 2,
            "linecolor": "#EBF0F8",
            "showbackground": true,
            "ticks": "",
            "zerolinecolor": "#EBF0F8"
           }
          },
          "shapedefaults": {
           "line": {
            "color": "#2a3f5f"
           }
          },
          "ternary": {
           "aaxis": {
            "gridcolor": "#DFE8F3",
            "linecolor": "#A2B1C6",
            "ticks": ""
           },
           "baxis": {
            "gridcolor": "#DFE8F3",
            "linecolor": "#A2B1C6",
            "ticks": ""
           },
           "bgcolor": "white",
           "caxis": {
            "gridcolor": "#DFE8F3",
            "linecolor": "#A2B1C6",
            "ticks": ""
           }
          },
          "title": {
           "x": 0.05
          },
          "xaxis": {
           "automargin": true,
           "gridcolor": "#EBF0F8",
           "linecolor": "#EBF0F8",
           "ticks": "",
           "title": {
            "standoff": 15
           },
           "zerolinecolor": "#EBF0F8",
           "zerolinewidth": 2
          },
          "yaxis": {
           "automargin": true,
           "gridcolor": "#EBF0F8",
           "linecolor": "#EBF0F8",
           "ticks": "",
           "title": {
            "standoff": 15
           },
           "zerolinecolor": "#EBF0F8",
           "zerolinewidth": 2
          }
         }
        },
        "title": {
         "text": "Distribución de COLOR antes y después de la imputación"
        },
        "width": 1200,
        "xaxis": {
         "tickfont": {
          "color": "black"
         },
         "title": {
          "standoff": 20,
          "text": "Tipo de color"
         }
        }
       }
      }
     },
     "metadata": {},
     "output_type": "display_data"
    }
   ],
   "source": [
    "import plotly.graph_objects as go\n",
    "\n",
    "# Conteos por color (ordenados)\n",
    "antes_color = df_antes['color_estandar'].value_counts().sort_index()\n",
    "despues_color = df_bmw['color_estandar'].value_counts().sort_index()\n",
    "\n",
    "# Etiquetas personalizadas para el eje X\n",
    "etiquetas = {0: '0: Otros', 1: '1: Black / Grey / Blue / White'}\n",
    "x_labels = [etiquetas.get(i, str(i)) for i in antes_color.index]\n",
    "\n",
    "fig = go.Figure()\n",
    "\n",
    "# Añadimos barras para antes\n",
    "fig.add_trace(go.Bar(\n",
    "    x=x_labels,\n",
    "    y=antes_color.values,\n",
    "    marker_color='#373485',\n",
    "    name='Antes',\n",
    "    text=antes_color.values,\n",
    "    textposition='outside',\n",
    "    opacity=1,\n",
    "))\n",
    "\n",
    "# Añadimos barras para después\n",
    "fig.add_trace(go.Bar(\n",
    "    x=x_labels,\n",
    "    y=despues_color.reindex(antes_color.index, fill_value=0).values,\n",
    "    marker_color='#c52b30',\n",
    "    name='Después',\n",
    "    text=despues_color.reindex(antes_color.index, fill_value=0).values,\n",
    "    textposition='outside',\n",
    "    opacity=1,\n",
    "))\n",
    "\n",
    "# Configuramos el layout\n",
    "fig.update_layout(\n",
    "    title=\"Distribución de COLOR antes y después de la imputación\",\n",
    "    xaxis_title=\"Tipo de color\",\n",
    "    barmode='group',  # Barras en paralelo\n",
    "    template='plotly_white',\n",
    "    width=1200,\n",
    "    height=470,\n",
    "    plot_bgcolor='#e6e6e7',\n",
    "    paper_bgcolor='#e6e6e7',\n",
    "    xaxis=dict(\n",
    "        tickfont=dict(color='black'),\n",
    "        title_standoff=20\n",
    "    )\n",
    ")\n",
    "\n",
    "fig.show()"
   ]
  },
  {
   "cell_type": "markdown",
   "id": "4f868aae",
   "metadata": {},
   "source": [
    "### **COLUMNA AÑOS COCHE -------- (PROBAR A HACER POR MEDIA Y LUEGO IMPUTAR LOS RANGOS)**"
   ]
  },
  {
   "cell_type": "code",
   "execution_count": 52,
   "id": "19d71ca3",
   "metadata": {},
   "outputs": [
    {
     "data": {
      "text/html": [
       "<div>\n",
       "<style scoped>\n",
       "    .dataframe tbody tr th:only-of-type {\n",
       "        vertical-align: middle;\n",
       "    }\n",
       "\n",
       "    .dataframe tbody tr th {\n",
       "        vertical-align: top;\n",
       "    }\n",
       "\n",
       "    .dataframe thead th {\n",
       "        text-align: right;\n",
       "    }\n",
       "</style>\n",
       "<table border=\"1\" class=\"dataframe\">\n",
       "  <thead>\n",
       "    <tr style=\"text-align: right;\">\n",
       "      <th></th>\n",
       "      <th>NULOS</th>\n",
       "      <th>% NULOS</th>\n",
       "      <th>VALORES UNICOS</th>\n",
       "    </tr>\n",
       "  </thead>\n",
       "  <tbody>\n",
       "    <tr>\n",
       "      <th>años_coche</th>\n",
       "      <td>2409</td>\n",
       "      <td>50.01038</td>\n",
       "      <td>23</td>\n",
       "    </tr>\n",
       "  </tbody>\n",
       "</table>\n",
       "</div>"
      ],
      "text/plain": [
       "            NULOS   % NULOS  VALORES UNICOS\n",
       "años_coche   2409  50.01038              23"
      ]
     },
     "execution_count": 52,
     "metadata": {},
     "output_type": "execute_result"
    }
   ],
   "source": [
    "tabla_nulos(df_bmw).loc[['años_coche']]"
   ]
  },
  {
   "cell_type": "code",
   "execution_count": 53,
   "id": "9f2ba080",
   "metadata": {},
   "outputs": [
    {
     "data": {
      "text/plain": [
       "años_coche\n",
       "1.0     0.001038\n",
       "2.0     0.009550\n",
       "3.0     0.033631\n",
       "4.0     0.131202\n",
       "5.0     0.156529\n",
       "6.0     0.089890\n",
       "7.0     0.023874\n",
       "8.0     0.010588\n",
       "9.0     0.008096\n",
       "10.0    0.008719\n",
       "11.0    0.006020\n",
       "12.0    0.006020\n",
       "13.0    0.005813\n",
       "14.0    0.002076\n",
       "15.0    0.001661\n",
       "16.0    0.000830\n",
       "17.0    0.001661\n",
       "18.0    0.000623\n",
       "19.0    0.000623\n",
       "21.0    0.000830\n",
       "23.0    0.000208\n",
       "24.0    0.000208\n",
       "28.0    0.000208\n",
       "NaN     0.500104\n",
       "Name: proportion, dtype: float64"
      ]
     },
     "execution_count": 53,
     "metadata": {},
     "output_type": "execute_result"
    }
   ],
   "source": [
    "distribuciones['años_coche'].sort_index()"
   ]
  },
  {
   "cell_type": "code",
   "execution_count": 54,
   "id": "a5807801",
   "metadata": {},
   "outputs": [],
   "source": [
    "# Definir los rangos de edad y los nuevos valores\n",
    "rangos = [0, 3, 6, 10, 15, 20, 25, 30]\n",
    "nuevos_valores = ['1-3', '4-6', '7-10', '11-15', '16-20', '21-25', '>25']\n",
    "\n",
    "# Aplicar la transformación con pd.cut\n",
    "df_bmw['años_coche'] = pd.cut(df_bmw['años_coche'], bins=rangos, labels=nuevos_valores, right=True)\n",
    "df_antes['edad_agrupada'] = pd.cut(df_antes['años_coche'], bins=rangos, labels=nuevos_valores, right=True)"
   ]
  },
  {
   "cell_type": "code",
   "execution_count": 55,
   "id": "b0a24cac",
   "metadata": {},
   "outputs": [],
   "source": [
    "COLUMNS_1 = ['modelo', 'tipo_coche', 'potencia']\n",
    "df_nulls_1 = df_bmw.groupby(COLUMNS_1)['años_coche'].agg(lambda x: pd.Series.mode(x).iloc[0] if not pd.Series.mode(x).empty else np.nan).to_frame().reset_index()\n",
    "df_nulls_1 = df_nulls_1.dropna(subset=['años_coche'])\n",
    "df_nulls_1.rename(columns={\"años_coche\":\"años_coche_1\"},inplace=True)\n",
    "\n",
    "COLUMNS_2 = ['modelo', 'tipo_coche']\n",
    "df_nulls_2 = df_bmw.groupby(COLUMNS_2)['años_coche'].agg(lambda x: pd.Series.mode(x).iloc[0] if not pd.Series.mode(x).empty else np.nan).to_frame().reset_index()\n",
    "df_nulls_2 = df_nulls_2.dropna(subset=['años_coche'])\n",
    "df_nulls_2.rename(columns={\"años_coche\":\"años_coche_2\"},inplace=True)\n",
    "\n",
    "COLUMNS_3 = ['modelo']\n",
    "df_nulls_3 = df_bmw.groupby(COLUMNS_3)['años_coche'].agg(lambda x: pd.Series.mode(x).iloc[0] if not pd.Series.mode(x).empty else np.nan).to_frame().reset_index()\n",
    "df_nulls_3 = df_nulls_3.dropna(subset=['años_coche'])\n",
    "df_nulls_3.rename(columns={\"años_coche\":\"años_coche_3\"},inplace=True)\n",
    "\n",
    "COLUMNS_4 = ['tipo_coche']\n",
    "df_nulls_4 = df_bmw.groupby(COLUMNS_4)['años_coche'].agg(lambda x: pd.Series.mode(x).iloc[0] if not pd.Series.mode(x).empty else np.nan).to_frame().reset_index()\n",
    "df_nulls_4 = df_nulls_4.dropna(subset=['años_coche'])\n",
    "df_nulls_4.rename(columns={\"años_coche\":\"años_coche_4\"},inplace=True)"
   ]
  },
  {
   "cell_type": "code",
   "execution_count": 56,
   "id": "3d5d5f93",
   "metadata": {},
   "outputs": [],
   "source": [
    "df_bmw = df_bmw.merge(df_nulls_1,how='left',left_on=COLUMNS_1,right_on=COLUMNS_1)\n",
    "df_bmw = df_bmw.merge(df_nulls_2,how='left',left_on=COLUMNS_2,right_on=COLUMNS_2)\n",
    "df_bmw = df_bmw.merge(df_nulls_3,how='left',left_on=COLUMNS_3,right_on=COLUMNS_3)\n",
    "df_bmw = df_bmw.merge(df_nulls_4,how='left',left_on=COLUMNS_4,right_on=COLUMNS_4)\n",
    "\n",
    "df_bmw['años_coche'] = df_bmw[['años_coche','años_coche_1','años_coche_2','años_coche_3','años_coche_4']].bfill(axis=1).iloc[:, 0]\n",
    "\n",
    "df_bmw.drop(columns=['años_coche_1','años_coche_2','años_coche_3','años_coche_4'],inplace=True)"
   ]
  },
  {
   "cell_type": "code",
   "execution_count": 57,
   "id": "f02c9f76",
   "metadata": {},
   "outputs": [
    {
     "data": {
      "text/html": [
       "<div>\n",
       "<style scoped>\n",
       "    .dataframe tbody tr th:only-of-type {\n",
       "        vertical-align: middle;\n",
       "    }\n",
       "\n",
       "    .dataframe tbody tr th {\n",
       "        vertical-align: top;\n",
       "    }\n",
       "\n",
       "    .dataframe thead th {\n",
       "        text-align: right;\n",
       "    }\n",
       "</style>\n",
       "<table border=\"1\" class=\"dataframe\">\n",
       "  <thead>\n",
       "    <tr style=\"text-align: right;\">\n",
       "      <th></th>\n",
       "      <th>NULOS</th>\n",
       "      <th>% NULOS</th>\n",
       "      <th>VALORES UNICOS</th>\n",
       "    </tr>\n",
       "  </thead>\n",
       "  <tbody>\n",
       "    <tr>\n",
       "      <th>años_coche</th>\n",
       "      <td>0</td>\n",
       "      <td>0.0</td>\n",
       "      <td>7</td>\n",
       "    </tr>\n",
       "  </tbody>\n",
       "</table>\n",
       "</div>"
      ],
      "text/plain": [
       "            NULOS  % NULOS  VALORES UNICOS\n",
       "años_coche      0      0.0               7"
      ]
     },
     "execution_count": 57,
     "metadata": {},
     "output_type": "execute_result"
    }
   ],
   "source": [
    "tabla_nulos(df_bmw).loc[['años_coche']]"
   ]
  },
  {
   "cell_type": "code",
   "execution_count": 58,
   "id": "f020c03f",
   "metadata": {},
   "outputs": [
    {
     "data": {
      "application/vnd.plotly.v1+json": {
       "config": {
        "plotlyServerURL": "https://plot.ly"
       },
       "data": [
        {
         "marker": {
          "color": "#373485"
         },
         "name": "Antes",
         "opacity": 1,
         "text": {
          "bdata": "AAAAAACgakAAAAAAAIycQAAAAAAAIG9AAAAAAAAAWkAAAAAAAAAyQAAAAAAAABhAAAAAAAAA8D8=",
          "dtype": "f8"
         },
         "textposition": "outside",
         "type": "bar",
         "x": [
          "1-3",
          "4-6",
          "7-10",
          "11-15",
          "16-20",
          "21-25",
          ">25"
         ],
         "y": {
          "bdata": "1QAjB/kAaAASAAYAAQA=",
          "dtype": "i2"
         }
        },
        {
         "marker": {
          "color": "#c52b30"
         },
         "name": "Después",
         "opacity": 1,
         "text": {
          "bdata": "AAAAAADAdUAAAAAAAGquQAAAAAAA8HRAAAAAAAAgaEAAAAAAAABEQAAAAAAAABxAAAAAAAAA8D8=",
          "dtype": "f8"
         },
         "textposition": "outside",
         "type": "bar",
         "x": [
          "1-3",
          "4-6",
          "7-10",
          "11-15",
          "16-20",
          "21-25",
          ">25"
         ],
         "y": {
          "bdata": "XAE1D08BwQAoAAcAAQA=",
          "dtype": "i2"
         }
        }
       ],
       "layout": {
        "barmode": "group",
        "height": 470,
        "paper_bgcolor": "#e6e6e7",
        "plot_bgcolor": "#e6e6e7",
        "template": {
         "data": {
          "bar": [
           {
            "error_x": {
             "color": "#2a3f5f"
            },
            "error_y": {
             "color": "#2a3f5f"
            },
            "marker": {
             "line": {
              "color": "white",
              "width": 0.5
             },
             "pattern": {
              "fillmode": "overlay",
              "size": 10,
              "solidity": 0.2
             }
            },
            "type": "bar"
           }
          ],
          "barpolar": [
           {
            "marker": {
             "line": {
              "color": "white",
              "width": 0.5
             },
             "pattern": {
              "fillmode": "overlay",
              "size": 10,
              "solidity": 0.2
             }
            },
            "type": "barpolar"
           }
          ],
          "carpet": [
           {
            "aaxis": {
             "endlinecolor": "#2a3f5f",
             "gridcolor": "#C8D4E3",
             "linecolor": "#C8D4E3",
             "minorgridcolor": "#C8D4E3",
             "startlinecolor": "#2a3f5f"
            },
            "baxis": {
             "endlinecolor": "#2a3f5f",
             "gridcolor": "#C8D4E3",
             "linecolor": "#C8D4E3",
             "minorgridcolor": "#C8D4E3",
             "startlinecolor": "#2a3f5f"
            },
            "type": "carpet"
           }
          ],
          "choropleth": [
           {
            "colorbar": {
             "outlinewidth": 0,
             "ticks": ""
            },
            "type": "choropleth"
           }
          ],
          "contour": [
           {
            "colorbar": {
             "outlinewidth": 0,
             "ticks": ""
            },
            "colorscale": [
             [
              0,
              "#0d0887"
             ],
             [
              0.1111111111111111,
              "#46039f"
             ],
             [
              0.2222222222222222,
              "#7201a8"
             ],
             [
              0.3333333333333333,
              "#9c179e"
             ],
             [
              0.4444444444444444,
              "#bd3786"
             ],
             [
              0.5555555555555556,
              "#d8576b"
             ],
             [
              0.6666666666666666,
              "#ed7953"
             ],
             [
              0.7777777777777778,
              "#fb9f3a"
             ],
             [
              0.8888888888888888,
              "#fdca26"
             ],
             [
              1,
              "#f0f921"
             ]
            ],
            "type": "contour"
           }
          ],
          "contourcarpet": [
           {
            "colorbar": {
             "outlinewidth": 0,
             "ticks": ""
            },
            "type": "contourcarpet"
           }
          ],
          "heatmap": [
           {
            "colorbar": {
             "outlinewidth": 0,
             "ticks": ""
            },
            "colorscale": [
             [
              0,
              "#0d0887"
             ],
             [
              0.1111111111111111,
              "#46039f"
             ],
             [
              0.2222222222222222,
              "#7201a8"
             ],
             [
              0.3333333333333333,
              "#9c179e"
             ],
             [
              0.4444444444444444,
              "#bd3786"
             ],
             [
              0.5555555555555556,
              "#d8576b"
             ],
             [
              0.6666666666666666,
              "#ed7953"
             ],
             [
              0.7777777777777778,
              "#fb9f3a"
             ],
             [
              0.8888888888888888,
              "#fdca26"
             ],
             [
              1,
              "#f0f921"
             ]
            ],
            "type": "heatmap"
           }
          ],
          "histogram": [
           {
            "marker": {
             "pattern": {
              "fillmode": "overlay",
              "size": 10,
              "solidity": 0.2
             }
            },
            "type": "histogram"
           }
          ],
          "histogram2d": [
           {
            "colorbar": {
             "outlinewidth": 0,
             "ticks": ""
            },
            "colorscale": [
             [
              0,
              "#0d0887"
             ],
             [
              0.1111111111111111,
              "#46039f"
             ],
             [
              0.2222222222222222,
              "#7201a8"
             ],
             [
              0.3333333333333333,
              "#9c179e"
             ],
             [
              0.4444444444444444,
              "#bd3786"
             ],
             [
              0.5555555555555556,
              "#d8576b"
             ],
             [
              0.6666666666666666,
              "#ed7953"
             ],
             [
              0.7777777777777778,
              "#fb9f3a"
             ],
             [
              0.8888888888888888,
              "#fdca26"
             ],
             [
              1,
              "#f0f921"
             ]
            ],
            "type": "histogram2d"
           }
          ],
          "histogram2dcontour": [
           {
            "colorbar": {
             "outlinewidth": 0,
             "ticks": ""
            },
            "colorscale": [
             [
              0,
              "#0d0887"
             ],
             [
              0.1111111111111111,
              "#46039f"
             ],
             [
              0.2222222222222222,
              "#7201a8"
             ],
             [
              0.3333333333333333,
              "#9c179e"
             ],
             [
              0.4444444444444444,
              "#bd3786"
             ],
             [
              0.5555555555555556,
              "#d8576b"
             ],
             [
              0.6666666666666666,
              "#ed7953"
             ],
             [
              0.7777777777777778,
              "#fb9f3a"
             ],
             [
              0.8888888888888888,
              "#fdca26"
             ],
             [
              1,
              "#f0f921"
             ]
            ],
            "type": "histogram2dcontour"
           }
          ],
          "mesh3d": [
           {
            "colorbar": {
             "outlinewidth": 0,
             "ticks": ""
            },
            "type": "mesh3d"
           }
          ],
          "parcoords": [
           {
            "line": {
             "colorbar": {
              "outlinewidth": 0,
              "ticks": ""
             }
            },
            "type": "parcoords"
           }
          ],
          "pie": [
           {
            "automargin": true,
            "type": "pie"
           }
          ],
          "scatter": [
           {
            "fillpattern": {
             "fillmode": "overlay",
             "size": 10,
             "solidity": 0.2
            },
            "type": "scatter"
           }
          ],
          "scatter3d": [
           {
            "line": {
             "colorbar": {
              "outlinewidth": 0,
              "ticks": ""
             }
            },
            "marker": {
             "colorbar": {
              "outlinewidth": 0,
              "ticks": ""
             }
            },
            "type": "scatter3d"
           }
          ],
          "scattercarpet": [
           {
            "marker": {
             "colorbar": {
              "outlinewidth": 0,
              "ticks": ""
             }
            },
            "type": "scattercarpet"
           }
          ],
          "scattergeo": [
           {
            "marker": {
             "colorbar": {
              "outlinewidth": 0,
              "ticks": ""
             }
            },
            "type": "scattergeo"
           }
          ],
          "scattergl": [
           {
            "marker": {
             "colorbar": {
              "outlinewidth": 0,
              "ticks": ""
             }
            },
            "type": "scattergl"
           }
          ],
          "scattermap": [
           {
            "marker": {
             "colorbar": {
              "outlinewidth": 0,
              "ticks": ""
             }
            },
            "type": "scattermap"
           }
          ],
          "scattermapbox": [
           {
            "marker": {
             "colorbar": {
              "outlinewidth": 0,
              "ticks": ""
             }
            },
            "type": "scattermapbox"
           }
          ],
          "scatterpolar": [
           {
            "marker": {
             "colorbar": {
              "outlinewidth": 0,
              "ticks": ""
             }
            },
            "type": "scatterpolar"
           }
          ],
          "scatterpolargl": [
           {
            "marker": {
             "colorbar": {
              "outlinewidth": 0,
              "ticks": ""
             }
            },
            "type": "scatterpolargl"
           }
          ],
          "scatterternary": [
           {
            "marker": {
             "colorbar": {
              "outlinewidth": 0,
              "ticks": ""
             }
            },
            "type": "scatterternary"
           }
          ],
          "surface": [
           {
            "colorbar": {
             "outlinewidth": 0,
             "ticks": ""
            },
            "colorscale": [
             [
              0,
              "#0d0887"
             ],
             [
              0.1111111111111111,
              "#46039f"
             ],
             [
              0.2222222222222222,
              "#7201a8"
             ],
             [
              0.3333333333333333,
              "#9c179e"
             ],
             [
              0.4444444444444444,
              "#bd3786"
             ],
             [
              0.5555555555555556,
              "#d8576b"
             ],
             [
              0.6666666666666666,
              "#ed7953"
             ],
             [
              0.7777777777777778,
              "#fb9f3a"
             ],
             [
              0.8888888888888888,
              "#fdca26"
             ],
             [
              1,
              "#f0f921"
             ]
            ],
            "type": "surface"
           }
          ],
          "table": [
           {
            "cells": {
             "fill": {
              "color": "#EBF0F8"
             },
             "line": {
              "color": "white"
             }
            },
            "header": {
             "fill": {
              "color": "#C8D4E3"
             },
             "line": {
              "color": "white"
             }
            },
            "type": "table"
           }
          ]
         },
         "layout": {
          "annotationdefaults": {
           "arrowcolor": "#2a3f5f",
           "arrowhead": 0,
           "arrowwidth": 1
          },
          "autotypenumbers": "strict",
          "coloraxis": {
           "colorbar": {
            "outlinewidth": 0,
            "ticks": ""
           }
          },
          "colorscale": {
           "diverging": [
            [
             0,
             "#8e0152"
            ],
            [
             0.1,
             "#c51b7d"
            ],
            [
             0.2,
             "#de77ae"
            ],
            [
             0.3,
             "#f1b6da"
            ],
            [
             0.4,
             "#fde0ef"
            ],
            [
             0.5,
             "#f7f7f7"
            ],
            [
             0.6,
             "#e6f5d0"
            ],
            [
             0.7,
             "#b8e186"
            ],
            [
             0.8,
             "#7fbc41"
            ],
            [
             0.9,
             "#4d9221"
            ],
            [
             1,
             "#276419"
            ]
           ],
           "sequential": [
            [
             0,
             "#0d0887"
            ],
            [
             0.1111111111111111,
             "#46039f"
            ],
            [
             0.2222222222222222,
             "#7201a8"
            ],
            [
             0.3333333333333333,
             "#9c179e"
            ],
            [
             0.4444444444444444,
             "#bd3786"
            ],
            [
             0.5555555555555556,
             "#d8576b"
            ],
            [
             0.6666666666666666,
             "#ed7953"
            ],
            [
             0.7777777777777778,
             "#fb9f3a"
            ],
            [
             0.8888888888888888,
             "#fdca26"
            ],
            [
             1,
             "#f0f921"
            ]
           ],
           "sequentialminus": [
            [
             0,
             "#0d0887"
            ],
            [
             0.1111111111111111,
             "#46039f"
            ],
            [
             0.2222222222222222,
             "#7201a8"
            ],
            [
             0.3333333333333333,
             "#9c179e"
            ],
            [
             0.4444444444444444,
             "#bd3786"
            ],
            [
             0.5555555555555556,
             "#d8576b"
            ],
            [
             0.6666666666666666,
             "#ed7953"
            ],
            [
             0.7777777777777778,
             "#fb9f3a"
            ],
            [
             0.8888888888888888,
             "#fdca26"
            ],
            [
             1,
             "#f0f921"
            ]
           ]
          },
          "colorway": [
           "#636efa",
           "#EF553B",
           "#00cc96",
           "#ab63fa",
           "#FFA15A",
           "#19d3f3",
           "#FF6692",
           "#B6E880",
           "#FF97FF",
           "#FECB52"
          ],
          "font": {
           "color": "#2a3f5f"
          },
          "geo": {
           "bgcolor": "white",
           "lakecolor": "white",
           "landcolor": "white",
           "showlakes": true,
           "showland": true,
           "subunitcolor": "#C8D4E3"
          },
          "hoverlabel": {
           "align": "left"
          },
          "hovermode": "closest",
          "mapbox": {
           "style": "light"
          },
          "paper_bgcolor": "white",
          "plot_bgcolor": "white",
          "polar": {
           "angularaxis": {
            "gridcolor": "#EBF0F8",
            "linecolor": "#EBF0F8",
            "ticks": ""
           },
           "bgcolor": "white",
           "radialaxis": {
            "gridcolor": "#EBF0F8",
            "linecolor": "#EBF0F8",
            "ticks": ""
           }
          },
          "scene": {
           "xaxis": {
            "backgroundcolor": "white",
            "gridcolor": "#DFE8F3",
            "gridwidth": 2,
            "linecolor": "#EBF0F8",
            "showbackground": true,
            "ticks": "",
            "zerolinecolor": "#EBF0F8"
           },
           "yaxis": {
            "backgroundcolor": "white",
            "gridcolor": "#DFE8F3",
            "gridwidth": 2,
            "linecolor": "#EBF0F8",
            "showbackground": true,
            "ticks": "",
            "zerolinecolor": "#EBF0F8"
           },
           "zaxis": {
            "backgroundcolor": "white",
            "gridcolor": "#DFE8F3",
            "gridwidth": 2,
            "linecolor": "#EBF0F8",
            "showbackground": true,
            "ticks": "",
            "zerolinecolor": "#EBF0F8"
           }
          },
          "shapedefaults": {
           "line": {
            "color": "#2a3f5f"
           }
          },
          "ternary": {
           "aaxis": {
            "gridcolor": "#DFE8F3",
            "linecolor": "#A2B1C6",
            "ticks": ""
           },
           "baxis": {
            "gridcolor": "#DFE8F3",
            "linecolor": "#A2B1C6",
            "ticks": ""
           },
           "bgcolor": "white",
           "caxis": {
            "gridcolor": "#DFE8F3",
            "linecolor": "#A2B1C6",
            "ticks": ""
           }
          },
          "title": {
           "x": 0.05
          },
          "xaxis": {
           "automargin": true,
           "gridcolor": "#EBF0F8",
           "linecolor": "#EBF0F8",
           "ticks": "",
           "title": {
            "standoff": 15
           },
           "zerolinecolor": "#EBF0F8",
           "zerolinewidth": 2
          },
          "yaxis": {
           "automargin": true,
           "gridcolor": "#EBF0F8",
           "linecolor": "#EBF0F8",
           "ticks": "",
           "title": {
            "standoff": 15
           },
           "zerolinecolor": "#EBF0F8",
           "zerolinewidth": 2
          }
         }
        },
        "title": {
         "text": "Distribución de AÑOS DE COCHE antes y después de la imputación"
        },
        "width": 1000,
        "xaxis": {
         "tickfont": {
          "color": "black"
         },
         "title": {
          "standoff": 20,
          "text": "Categorías de edad del coche"
         }
        },
        "yaxis": {
         "title": {
          "text": "Frecuencia"
         }
        }
       }
      }
     },
     "metadata": {},
     "output_type": "display_data"
    }
   ],
   "source": [
    "# Valores agrupados por edad/años de coche (ordenados)\n",
    "antes_vals = df_antes['edad_agrupada'].value_counts().sort_index()\n",
    "despues_vals = df_bmw['años_coche'].value_counts().sort_index()\n",
    "\n",
    "# Convertir índices en cadenas si es necesario (para evitar problemas en el eje X)\n",
    "x_labels = [str(i) for i in antes_vals.index]\n",
    "\n",
    "fig = go.Figure()\n",
    "\n",
    "# Añadir barras para Antes\n",
    "fig.add_trace(go.Bar(\n",
    "    x=x_labels,\n",
    "    y=antes_vals.values,\n",
    "    name='Antes',\n",
    "    marker_color='#373485',\n",
    "    text=antes_vals.values,\n",
    "    textposition='outside',\n",
    "    opacity=1,\n",
    "))\n",
    "\n",
    "# Añadir barras para Después\n",
    "fig.add_trace(go.Bar(\n",
    "    x=x_labels,\n",
    "    y=despues_vals.reindex(antes_vals.index, fill_value=0).values,\n",
    "    name='Después',\n",
    "    marker_color='#c52b30',\n",
    "    text=despues_vals.reindex(antes_vals.index, fill_value=0).values,\n",
    "    textposition='outside',\n",
    "    opacity=1,\n",
    "))\n",
    "\n",
    "# Layout\n",
    "fig.update_layout(\n",
    "    title=\"Distribución de AÑOS DE COCHE antes y después de la imputación\",\n",
    "    xaxis_title=\"Categorías de edad del coche\",\n",
    "    yaxis_title=\"Frecuencia\",\n",
    "    barmode='group',\n",
    "    template='plotly_white',\n",
    "    width=1000,\n",
    "    height=470,\n",
    "    plot_bgcolor='#e6e6e7',\n",
    "    paper_bgcolor='#e6e6e7',\n",
    "    xaxis=dict(\n",
    "        tickfont=dict(color='black'),\n",
    "        title_standoff=20\n",
    "    )\n",
    ")\n",
    "\n",
    "fig.show()"
   ]
  },
  {
   "cell_type": "markdown",
   "id": "bafe1601",
   "metadata": {},
   "source": [
    "### **COLUMNA AIRE ACONDICIONADO**"
   ]
  },
  {
   "cell_type": "code",
   "execution_count": 59,
   "id": "a6436f8d",
   "metadata": {},
   "outputs": [
    {
     "data": {
      "text/html": [
       "<div>\n",
       "<style scoped>\n",
       "    .dataframe tbody tr th:only-of-type {\n",
       "        vertical-align: middle;\n",
       "    }\n",
       "\n",
       "    .dataframe tbody tr th {\n",
       "        vertical-align: top;\n",
       "    }\n",
       "\n",
       "    .dataframe thead th {\n",
       "        text-align: right;\n",
       "    }\n",
       "</style>\n",
       "<table border=\"1\" class=\"dataframe\">\n",
       "  <thead>\n",
       "    <tr style=\"text-align: right;\">\n",
       "      <th></th>\n",
       "      <th>NULOS</th>\n",
       "      <th>% NULOS</th>\n",
       "      <th>VALORES UNICOS</th>\n",
       "    </tr>\n",
       "  </thead>\n",
       "  <tbody>\n",
       "    <tr>\n",
       "      <th>aire_acondicionado</th>\n",
       "      <td>482</td>\n",
       "      <td>10.006228</td>\n",
       "      <td>2</td>\n",
       "    </tr>\n",
       "  </tbody>\n",
       "</table>\n",
       "</div>"
      ],
      "text/plain": [
       "                    NULOS    % NULOS  VALORES UNICOS\n",
       "aire_acondicionado    482  10.006228               2"
      ]
     },
     "execution_count": 59,
     "metadata": {},
     "output_type": "execute_result"
    }
   ],
   "source": [
    "tabla_nulos(df_bmw).loc[['aire_acondicionado']]"
   ]
  },
  {
   "cell_type": "code",
   "execution_count": 60,
   "id": "b1df5d91",
   "metadata": {},
   "outputs": [
    {
     "data": {
      "text/plain": [
       "aire_acondicionado\n",
       "True     0.715591\n",
       "False    0.184347\n",
       "NaN      0.100062\n",
       "Name: proportion, dtype: float64"
      ]
     },
     "execution_count": 60,
     "metadata": {},
     "output_type": "execute_result"
    }
   ],
   "source": [
    "distribuciones['aire_acondicionado']"
   ]
  },
  {
   "cell_type": "code",
   "execution_count": 61,
   "id": "7a160280",
   "metadata": {},
   "outputs": [],
   "source": [
    "COLUMNS_1 = ['modelo','años_coche']\n",
    "df_nulls_1 = df_bmw.groupby(COLUMNS_1)['aire_acondicionado'].agg(lambda x: pd.Series.mode(x).iloc[0] if not pd.Series.mode(x).empty else np.nan).to_frame().reset_index()\n",
    "df_nulls_1 = df_nulls_1.dropna(subset=['aire_acondicionado'])\n",
    "df_nulls_1.rename(columns={\"aire_acondicionado\":\"aire_acondicionado_1\"},inplace=True)\n",
    "\n",
    "COLUMNS_2 = ['modelo','potencia']\n",
    "df_nulls_2 = df_bmw.groupby(COLUMNS_2)['aire_acondicionado'].agg(lambda x: pd.Series.mode(x).iloc[0] if not pd.Series.mode(x).empty else np.nan).to_frame().reset_index()\n",
    "df_nulls_2 = df_nulls_2.dropna(subset=['aire_acondicionado'])\n",
    "df_nulls_2.rename(columns={\"aire_acondicionado\":\"aire_acondicionado_2\"},inplace=True)\n",
    "\n",
    "COLUMNS_3 = ['modelo']\n",
    "df_nulls_3 = df_bmw.groupby(COLUMNS_3)['aire_acondicionado'].agg(lambda x: pd.Series.mode(x).iloc[0] if not pd.Series.mode(x).empty else np.nan).to_frame().reset_index()\n",
    "df_nulls_3 = df_nulls_3.dropna(subset=['aire_acondicionado'])\n",
    "df_nulls_3.rename(columns={\"aire_acondicionado\":\"aire_acondicionado_3\"},inplace=True)\n",
    "\n",
    "COLUMNS_4 = ['tipo_coche']\n",
    "moda_global = df_bmw['aire_acondicionado'].mode().iloc[0]\n",
    "df_nulls_4 = df_bmw[df_bmw['aire_acondicionado'].isna()][['tipo_coche']].dropna().drop_duplicates()\n",
    "df_nulls_4['aire_acondicionado_4'] = moda_global"
   ]
  },
  {
   "cell_type": "code",
   "execution_count": 62,
   "id": "eb1f70f7",
   "metadata": {},
   "outputs": [],
   "source": [
    "df_bmw = df_bmw.merge(df_nulls_1,how='left',left_on=COLUMNS_1,right_on=COLUMNS_1)\n",
    "df_bmw = df_bmw.merge(df_nulls_2,how='left',left_on=COLUMNS_2,right_on=COLUMNS_2)\n",
    "df_bmw = df_bmw.merge(df_nulls_3,how='left',left_on=COLUMNS_3,right_on=COLUMNS_3)\n",
    "df_bmw = df_bmw.merge(df_nulls_4,how='left',left_on=COLUMNS_4,right_on=COLUMNS_4)\n",
    "\n",
    "df_bmw['aire_acondicionado'] = df_bmw[['aire_acondicionado','aire_acondicionado_1','aire_acondicionado_2','aire_acondicionado_3','aire_acondicionado_4']].bfill(axis=1).iloc[:, 0]\n",
    "\n",
    "df_bmw.drop(columns=['aire_acondicionado_1','aire_acondicionado_2','aire_acondicionado_3','aire_acondicionado_4'],inplace=True)"
   ]
  },
  {
   "cell_type": "code",
   "execution_count": 63,
   "id": "1dd9d250",
   "metadata": {},
   "outputs": [
    {
     "data": {
      "text/html": [
       "<div>\n",
       "<style scoped>\n",
       "    .dataframe tbody tr th:only-of-type {\n",
       "        vertical-align: middle;\n",
       "    }\n",
       "\n",
       "    .dataframe tbody tr th {\n",
       "        vertical-align: top;\n",
       "    }\n",
       "\n",
       "    .dataframe thead th {\n",
       "        text-align: right;\n",
       "    }\n",
       "</style>\n",
       "<table border=\"1\" class=\"dataframe\">\n",
       "  <thead>\n",
       "    <tr style=\"text-align: right;\">\n",
       "      <th></th>\n",
       "      <th>NULOS</th>\n",
       "      <th>% NULOS</th>\n",
       "      <th>VALORES UNICOS</th>\n",
       "    </tr>\n",
       "  </thead>\n",
       "  <tbody>\n",
       "    <tr>\n",
       "      <th>aire_acondicionado</th>\n",
       "      <td>0</td>\n",
       "      <td>0.0</td>\n",
       "      <td>2</td>\n",
       "    </tr>\n",
       "  </tbody>\n",
       "</table>\n",
       "</div>"
      ],
      "text/plain": [
       "                    NULOS  % NULOS  VALORES UNICOS\n",
       "aire_acondicionado      0      0.0               2"
      ]
     },
     "execution_count": 63,
     "metadata": {},
     "output_type": "execute_result"
    }
   ],
   "source": [
    "tabla_nulos(df_bmw).loc[['aire_acondicionado']]"
   ]
  },
  {
   "cell_type": "code",
   "execution_count": 64,
   "id": "c1a0c4d6",
   "metadata": {},
   "outputs": [
    {
     "data": {
      "application/vnd.plotly.v1+json": {
       "config": {
        "plotlyServerURL": "https://plot.ly"
       },
       "data": [
        {
         "marker": {
          "color": "#373485"
         },
         "name": "Antes",
         "opacity": 1,
         "text": {
          "bdata": "AAAAAADgi0AAAAAAABKrQA==",
          "dtype": "f8"
         },
         "textposition": "outside",
         "type": "bar",
         "x": [
          "No",
          "Sí"
         ],
         "y": {
          "bdata": "fAOJDQ==",
          "dtype": "i2"
         }
        },
        {
         "marker": {
          "color": "#c52b30"
         },
         "name": "Después",
         "opacity": 1,
         "text": {
          "bdata": "AAAAAADIjEAAAAAAAHCuQA==",
          "dtype": "f8"
         },
         "textposition": "outside",
         "type": "bar",
         "x": [
          "No",
          "Sí"
         ],
         "y": {
          "bdata": "mQM4Dw==",
          "dtype": "i2"
         }
        }
       ],
       "layout": {
        "barmode": "group",
        "height": 470,
        "paper_bgcolor": "#e6e6e7",
        "plot_bgcolor": "#e6e6e7",
        "template": {
         "data": {
          "bar": [
           {
            "error_x": {
             "color": "#2a3f5f"
            },
            "error_y": {
             "color": "#2a3f5f"
            },
            "marker": {
             "line": {
              "color": "white",
              "width": 0.5
             },
             "pattern": {
              "fillmode": "overlay",
              "size": 10,
              "solidity": 0.2
             }
            },
            "type": "bar"
           }
          ],
          "barpolar": [
           {
            "marker": {
             "line": {
              "color": "white",
              "width": 0.5
             },
             "pattern": {
              "fillmode": "overlay",
              "size": 10,
              "solidity": 0.2
             }
            },
            "type": "barpolar"
           }
          ],
          "carpet": [
           {
            "aaxis": {
             "endlinecolor": "#2a3f5f",
             "gridcolor": "#C8D4E3",
             "linecolor": "#C8D4E3",
             "minorgridcolor": "#C8D4E3",
             "startlinecolor": "#2a3f5f"
            },
            "baxis": {
             "endlinecolor": "#2a3f5f",
             "gridcolor": "#C8D4E3",
             "linecolor": "#C8D4E3",
             "minorgridcolor": "#C8D4E3",
             "startlinecolor": "#2a3f5f"
            },
            "type": "carpet"
           }
          ],
          "choropleth": [
           {
            "colorbar": {
             "outlinewidth": 0,
             "ticks": ""
            },
            "type": "choropleth"
           }
          ],
          "contour": [
           {
            "colorbar": {
             "outlinewidth": 0,
             "ticks": ""
            },
            "colorscale": [
             [
              0,
              "#0d0887"
             ],
             [
              0.1111111111111111,
              "#46039f"
             ],
             [
              0.2222222222222222,
              "#7201a8"
             ],
             [
              0.3333333333333333,
              "#9c179e"
             ],
             [
              0.4444444444444444,
              "#bd3786"
             ],
             [
              0.5555555555555556,
              "#d8576b"
             ],
             [
              0.6666666666666666,
              "#ed7953"
             ],
             [
              0.7777777777777778,
              "#fb9f3a"
             ],
             [
              0.8888888888888888,
              "#fdca26"
             ],
             [
              1,
              "#f0f921"
             ]
            ],
            "type": "contour"
           }
          ],
          "contourcarpet": [
           {
            "colorbar": {
             "outlinewidth": 0,
             "ticks": ""
            },
            "type": "contourcarpet"
           }
          ],
          "heatmap": [
           {
            "colorbar": {
             "outlinewidth": 0,
             "ticks": ""
            },
            "colorscale": [
             [
              0,
              "#0d0887"
             ],
             [
              0.1111111111111111,
              "#46039f"
             ],
             [
              0.2222222222222222,
              "#7201a8"
             ],
             [
              0.3333333333333333,
              "#9c179e"
             ],
             [
              0.4444444444444444,
              "#bd3786"
             ],
             [
              0.5555555555555556,
              "#d8576b"
             ],
             [
              0.6666666666666666,
              "#ed7953"
             ],
             [
              0.7777777777777778,
              "#fb9f3a"
             ],
             [
              0.8888888888888888,
              "#fdca26"
             ],
             [
              1,
              "#f0f921"
             ]
            ],
            "type": "heatmap"
           }
          ],
          "histogram": [
           {
            "marker": {
             "pattern": {
              "fillmode": "overlay",
              "size": 10,
              "solidity": 0.2
             }
            },
            "type": "histogram"
           }
          ],
          "histogram2d": [
           {
            "colorbar": {
             "outlinewidth": 0,
             "ticks": ""
            },
            "colorscale": [
             [
              0,
              "#0d0887"
             ],
             [
              0.1111111111111111,
              "#46039f"
             ],
             [
              0.2222222222222222,
              "#7201a8"
             ],
             [
              0.3333333333333333,
              "#9c179e"
             ],
             [
              0.4444444444444444,
              "#bd3786"
             ],
             [
              0.5555555555555556,
              "#d8576b"
             ],
             [
              0.6666666666666666,
              "#ed7953"
             ],
             [
              0.7777777777777778,
              "#fb9f3a"
             ],
             [
              0.8888888888888888,
              "#fdca26"
             ],
             [
              1,
              "#f0f921"
             ]
            ],
            "type": "histogram2d"
           }
          ],
          "histogram2dcontour": [
           {
            "colorbar": {
             "outlinewidth": 0,
             "ticks": ""
            },
            "colorscale": [
             [
              0,
              "#0d0887"
             ],
             [
              0.1111111111111111,
              "#46039f"
             ],
             [
              0.2222222222222222,
              "#7201a8"
             ],
             [
              0.3333333333333333,
              "#9c179e"
             ],
             [
              0.4444444444444444,
              "#bd3786"
             ],
             [
              0.5555555555555556,
              "#d8576b"
             ],
             [
              0.6666666666666666,
              "#ed7953"
             ],
             [
              0.7777777777777778,
              "#fb9f3a"
             ],
             [
              0.8888888888888888,
              "#fdca26"
             ],
             [
              1,
              "#f0f921"
             ]
            ],
            "type": "histogram2dcontour"
           }
          ],
          "mesh3d": [
           {
            "colorbar": {
             "outlinewidth": 0,
             "ticks": ""
            },
            "type": "mesh3d"
           }
          ],
          "parcoords": [
           {
            "line": {
             "colorbar": {
              "outlinewidth": 0,
              "ticks": ""
             }
            },
            "type": "parcoords"
           }
          ],
          "pie": [
           {
            "automargin": true,
            "type": "pie"
           }
          ],
          "scatter": [
           {
            "fillpattern": {
             "fillmode": "overlay",
             "size": 10,
             "solidity": 0.2
            },
            "type": "scatter"
           }
          ],
          "scatter3d": [
           {
            "line": {
             "colorbar": {
              "outlinewidth": 0,
              "ticks": ""
             }
            },
            "marker": {
             "colorbar": {
              "outlinewidth": 0,
              "ticks": ""
             }
            },
            "type": "scatter3d"
           }
          ],
          "scattercarpet": [
           {
            "marker": {
             "colorbar": {
              "outlinewidth": 0,
              "ticks": ""
             }
            },
            "type": "scattercarpet"
           }
          ],
          "scattergeo": [
           {
            "marker": {
             "colorbar": {
              "outlinewidth": 0,
              "ticks": ""
             }
            },
            "type": "scattergeo"
           }
          ],
          "scattergl": [
           {
            "marker": {
             "colorbar": {
              "outlinewidth": 0,
              "ticks": ""
             }
            },
            "type": "scattergl"
           }
          ],
          "scattermap": [
           {
            "marker": {
             "colorbar": {
              "outlinewidth": 0,
              "ticks": ""
             }
            },
            "type": "scattermap"
           }
          ],
          "scattermapbox": [
           {
            "marker": {
             "colorbar": {
              "outlinewidth": 0,
              "ticks": ""
             }
            },
            "type": "scattermapbox"
           }
          ],
          "scatterpolar": [
           {
            "marker": {
             "colorbar": {
              "outlinewidth": 0,
              "ticks": ""
             }
            },
            "type": "scatterpolar"
           }
          ],
          "scatterpolargl": [
           {
            "marker": {
             "colorbar": {
              "outlinewidth": 0,
              "ticks": ""
             }
            },
            "type": "scatterpolargl"
           }
          ],
          "scatterternary": [
           {
            "marker": {
             "colorbar": {
              "outlinewidth": 0,
              "ticks": ""
             }
            },
            "type": "scatterternary"
           }
          ],
          "surface": [
           {
            "colorbar": {
             "outlinewidth": 0,
             "ticks": ""
            },
            "colorscale": [
             [
              0,
              "#0d0887"
             ],
             [
              0.1111111111111111,
              "#46039f"
             ],
             [
              0.2222222222222222,
              "#7201a8"
             ],
             [
              0.3333333333333333,
              "#9c179e"
             ],
             [
              0.4444444444444444,
              "#bd3786"
             ],
             [
              0.5555555555555556,
              "#d8576b"
             ],
             [
              0.6666666666666666,
              "#ed7953"
             ],
             [
              0.7777777777777778,
              "#fb9f3a"
             ],
             [
              0.8888888888888888,
              "#fdca26"
             ],
             [
              1,
              "#f0f921"
             ]
            ],
            "type": "surface"
           }
          ],
          "table": [
           {
            "cells": {
             "fill": {
              "color": "#EBF0F8"
             },
             "line": {
              "color": "white"
             }
            },
            "header": {
             "fill": {
              "color": "#C8D4E3"
             },
             "line": {
              "color": "white"
             }
            },
            "type": "table"
           }
          ]
         },
         "layout": {
          "annotationdefaults": {
           "arrowcolor": "#2a3f5f",
           "arrowhead": 0,
           "arrowwidth": 1
          },
          "autotypenumbers": "strict",
          "coloraxis": {
           "colorbar": {
            "outlinewidth": 0,
            "ticks": ""
           }
          },
          "colorscale": {
           "diverging": [
            [
             0,
             "#8e0152"
            ],
            [
             0.1,
             "#c51b7d"
            ],
            [
             0.2,
             "#de77ae"
            ],
            [
             0.3,
             "#f1b6da"
            ],
            [
             0.4,
             "#fde0ef"
            ],
            [
             0.5,
             "#f7f7f7"
            ],
            [
             0.6,
             "#e6f5d0"
            ],
            [
             0.7,
             "#b8e186"
            ],
            [
             0.8,
             "#7fbc41"
            ],
            [
             0.9,
             "#4d9221"
            ],
            [
             1,
             "#276419"
            ]
           ],
           "sequential": [
            [
             0,
             "#0d0887"
            ],
            [
             0.1111111111111111,
             "#46039f"
            ],
            [
             0.2222222222222222,
             "#7201a8"
            ],
            [
             0.3333333333333333,
             "#9c179e"
            ],
            [
             0.4444444444444444,
             "#bd3786"
            ],
            [
             0.5555555555555556,
             "#d8576b"
            ],
            [
             0.6666666666666666,
             "#ed7953"
            ],
            [
             0.7777777777777778,
             "#fb9f3a"
            ],
            [
             0.8888888888888888,
             "#fdca26"
            ],
            [
             1,
             "#f0f921"
            ]
           ],
           "sequentialminus": [
            [
             0,
             "#0d0887"
            ],
            [
             0.1111111111111111,
             "#46039f"
            ],
            [
             0.2222222222222222,
             "#7201a8"
            ],
            [
             0.3333333333333333,
             "#9c179e"
            ],
            [
             0.4444444444444444,
             "#bd3786"
            ],
            [
             0.5555555555555556,
             "#d8576b"
            ],
            [
             0.6666666666666666,
             "#ed7953"
            ],
            [
             0.7777777777777778,
             "#fb9f3a"
            ],
            [
             0.8888888888888888,
             "#fdca26"
            ],
            [
             1,
             "#f0f921"
            ]
           ]
          },
          "colorway": [
           "#636efa",
           "#EF553B",
           "#00cc96",
           "#ab63fa",
           "#FFA15A",
           "#19d3f3",
           "#FF6692",
           "#B6E880",
           "#FF97FF",
           "#FECB52"
          ],
          "font": {
           "color": "#2a3f5f"
          },
          "geo": {
           "bgcolor": "white",
           "lakecolor": "white",
           "landcolor": "white",
           "showlakes": true,
           "showland": true,
           "subunitcolor": "#C8D4E3"
          },
          "hoverlabel": {
           "align": "left"
          },
          "hovermode": "closest",
          "mapbox": {
           "style": "light"
          },
          "paper_bgcolor": "white",
          "plot_bgcolor": "white",
          "polar": {
           "angularaxis": {
            "gridcolor": "#EBF0F8",
            "linecolor": "#EBF0F8",
            "ticks": ""
           },
           "bgcolor": "white",
           "radialaxis": {
            "gridcolor": "#EBF0F8",
            "linecolor": "#EBF0F8",
            "ticks": ""
           }
          },
          "scene": {
           "xaxis": {
            "backgroundcolor": "white",
            "gridcolor": "#DFE8F3",
            "gridwidth": 2,
            "linecolor": "#EBF0F8",
            "showbackground": true,
            "ticks": "",
            "zerolinecolor": "#EBF0F8"
           },
           "yaxis": {
            "backgroundcolor": "white",
            "gridcolor": "#DFE8F3",
            "gridwidth": 2,
            "linecolor": "#EBF0F8",
            "showbackground": true,
            "ticks": "",
            "zerolinecolor": "#EBF0F8"
           },
           "zaxis": {
            "backgroundcolor": "white",
            "gridcolor": "#DFE8F3",
            "gridwidth": 2,
            "linecolor": "#EBF0F8",
            "showbackground": true,
            "ticks": "",
            "zerolinecolor": "#EBF0F8"
           }
          },
          "shapedefaults": {
           "line": {
            "color": "#2a3f5f"
           }
          },
          "ternary": {
           "aaxis": {
            "gridcolor": "#DFE8F3",
            "linecolor": "#A2B1C6",
            "ticks": ""
           },
           "baxis": {
            "gridcolor": "#DFE8F3",
            "linecolor": "#A2B1C6",
            "ticks": ""
           },
           "bgcolor": "white",
           "caxis": {
            "gridcolor": "#DFE8F3",
            "linecolor": "#A2B1C6",
            "ticks": ""
           }
          },
          "title": {
           "x": 0.05
          },
          "xaxis": {
           "automargin": true,
           "gridcolor": "#EBF0F8",
           "linecolor": "#EBF0F8",
           "ticks": "",
           "title": {
            "standoff": 15
           },
           "zerolinecolor": "#EBF0F8",
           "zerolinewidth": 2
          },
          "yaxis": {
           "automargin": true,
           "gridcolor": "#EBF0F8",
           "linecolor": "#EBF0F8",
           "ticks": "",
           "title": {
            "standoff": 15
           },
           "zerolinecolor": "#EBF0F8",
           "zerolinewidth": 2
          }
         }
        },
        "title": {
         "text": "Distribución de AIRE ACONDICIONADO antes y después de la imputación"
        },
        "width": 1200,
        "xaxis": {
         "tickfont": {
          "color": "black"
         },
         "title": {
          "standoff": 20,
          "text": "Aire acondicionado"
         }
        },
        "yaxis": {
         "title": {
          "text": "Frecuencia"
         }
        }
       }
      }
     },
     "metadata": {},
     "output_type": "display_data"
    }
   ],
   "source": [
    "# Conteo antes y después\n",
    "antes_ac = df_antes['aire_acondicionado'].value_counts().sort_index()\n",
    "despues_ac = df_bmw['aire_acondicionado'].value_counts().sort_index()\n",
    "\n",
    "# Diccionario para etiquetas personalizadas\n",
    "etiquetas = {False: 'No', True: 'Sí'}\n",
    "\n",
    "# Etiquetas del eje X ordenadas como en 'antes_ac'\n",
    "x_labels = [etiquetas.get(i, str(i)) for i in antes_ac.index]\n",
    "\n",
    "# Asegurar que los valores de después están en el mismo orden\n",
    "despues_vals = despues_ac.reindex(antes_ac.index, fill_value=0).values\n",
    "\n",
    "fig = go.Figure()\n",
    "\n",
    "# Antes\n",
    "fig.add_trace(go.Bar(\n",
    "    x=x_labels,\n",
    "    y=antes_ac.values,\n",
    "    name='Antes',\n",
    "    marker_color='#373485',\n",
    "    text=antes_ac.values,\n",
    "    textposition='outside',\n",
    "    opacity=1\n",
    "))\n",
    "\n",
    "# Después\n",
    "fig.add_trace(go.Bar(\n",
    "    x=x_labels,\n",
    "    y=despues_vals,\n",
    "    name='Después',\n",
    "    marker_color='#c52b30',\n",
    "    text=despues_vals,\n",
    "    textposition='outside',\n",
    "    opacity=1\n",
    "))\n",
    "\n",
    "fig.update_layout(\n",
    "    title=\"Distribución de AIRE ACONDICIONADO antes y después de la imputación\",\n",
    "    xaxis_title=\"Aire acondicionado\",\n",
    "    yaxis_title=\"Frecuencia\",\n",
    "    barmode='group',\n",
    "    template='plotly_white',\n",
    "    width=1200,\n",
    "    height=470,\n",
    "    plot_bgcolor='#e6e6e7',\n",
    "    paper_bgcolor='#e6e6e7',\n",
    "    xaxis=dict(\n",
    "        tickfont=dict(color='black'),\n",
    "        title_standoff=20\n",
    "    )\n",
    ")\n",
    "\n",
    "fig.show()"
   ]
  },
  {
   "cell_type": "code",
   "execution_count": 65,
   "id": "06e26765",
   "metadata": {},
   "outputs": [
    {
     "data": {
      "application/vnd.plotly.v1+json": {
       "config": {
        "plotlyServerURL": "https://plot.ly"
       },
       "data": [
        {
         "marker": {
          "color": [
           "#373485",
           "#373485",
           "#c52b30",
           "#c52b30"
          ]
         },
         "name": "Aire acondicionado",
         "opacity": 1,
         "text": [
          "3465",
          "892",
          "3896",
          "921"
         ],
         "textposition": "outside",
         "type": "bar",
         "x": [
          "Antes - Sí",
          "Antes - No",
          "Después - Sí",
          "Después - No"
         ],
         "y": [
          3465,
          892,
          3896,
          921
         ]
        }
       ],
       "layout": {
        "annotations": [
         {
          "font": {
           "color": "black",
           "size": 14
          },
          "showarrow": false,
          "text": "Sí",
          "x": 0,
          "xref": "x",
          "y": -0.08,
          "yref": "paper"
         },
         {
          "font": {
           "color": "black",
           "size": 14
          },
          "showarrow": false,
          "text": "No",
          "x": 1,
          "xref": "x",
          "y": -0.08,
          "yref": "paper"
         },
         {
          "font": {
           "color": "black",
           "size": 14
          },
          "showarrow": false,
          "text": "Sí",
          "x": 2,
          "xref": "x",
          "y": -0.08,
          "yref": "paper"
         },
         {
          "font": {
           "color": "black",
           "size": 14
          },
          "showarrow": false,
          "text": "No",
          "x": 3,
          "xref": "x",
          "y": -0.08,
          "yref": "paper"
         },
         {
          "font": {
           "color": "black",
           "size": 14
          },
          "showarrow": false,
          "text": "Antes",
          "x": 0.5,
          "xref": "x",
          "y": -0.13,
          "yref": "paper"
         },
         {
          "font": {
           "color": "black",
           "size": 14
          },
          "showarrow": false,
          "text": "Después",
          "x": 2.5,
          "xref": "x",
          "y": -0.13,
          "yref": "paper"
         }
        ],
        "height": 470,
        "paper_bgcolor": "#e6e6e7",
        "plot_bgcolor": "#e6e6e7",
        "template": {
         "data": {
          "bar": [
           {
            "error_x": {
             "color": "#2a3f5f"
            },
            "error_y": {
             "color": "#2a3f5f"
            },
            "marker": {
             "line": {
              "color": "white",
              "width": 0.5
             },
             "pattern": {
              "fillmode": "overlay",
              "size": 10,
              "solidity": 0.2
             }
            },
            "type": "bar"
           }
          ],
          "barpolar": [
           {
            "marker": {
             "line": {
              "color": "white",
              "width": 0.5
             },
             "pattern": {
              "fillmode": "overlay",
              "size": 10,
              "solidity": 0.2
             }
            },
            "type": "barpolar"
           }
          ],
          "carpet": [
           {
            "aaxis": {
             "endlinecolor": "#2a3f5f",
             "gridcolor": "#C8D4E3",
             "linecolor": "#C8D4E3",
             "minorgridcolor": "#C8D4E3",
             "startlinecolor": "#2a3f5f"
            },
            "baxis": {
             "endlinecolor": "#2a3f5f",
             "gridcolor": "#C8D4E3",
             "linecolor": "#C8D4E3",
             "minorgridcolor": "#C8D4E3",
             "startlinecolor": "#2a3f5f"
            },
            "type": "carpet"
           }
          ],
          "choropleth": [
           {
            "colorbar": {
             "outlinewidth": 0,
             "ticks": ""
            },
            "type": "choropleth"
           }
          ],
          "contour": [
           {
            "colorbar": {
             "outlinewidth": 0,
             "ticks": ""
            },
            "colorscale": [
             [
              0,
              "#0d0887"
             ],
             [
              0.1111111111111111,
              "#46039f"
             ],
             [
              0.2222222222222222,
              "#7201a8"
             ],
             [
              0.3333333333333333,
              "#9c179e"
             ],
             [
              0.4444444444444444,
              "#bd3786"
             ],
             [
              0.5555555555555556,
              "#d8576b"
             ],
             [
              0.6666666666666666,
              "#ed7953"
             ],
             [
              0.7777777777777778,
              "#fb9f3a"
             ],
             [
              0.8888888888888888,
              "#fdca26"
             ],
             [
              1,
              "#f0f921"
             ]
            ],
            "type": "contour"
           }
          ],
          "contourcarpet": [
           {
            "colorbar": {
             "outlinewidth": 0,
             "ticks": ""
            },
            "type": "contourcarpet"
           }
          ],
          "heatmap": [
           {
            "colorbar": {
             "outlinewidth": 0,
             "ticks": ""
            },
            "colorscale": [
             [
              0,
              "#0d0887"
             ],
             [
              0.1111111111111111,
              "#46039f"
             ],
             [
              0.2222222222222222,
              "#7201a8"
             ],
             [
              0.3333333333333333,
              "#9c179e"
             ],
             [
              0.4444444444444444,
              "#bd3786"
             ],
             [
              0.5555555555555556,
              "#d8576b"
             ],
             [
              0.6666666666666666,
              "#ed7953"
             ],
             [
              0.7777777777777778,
              "#fb9f3a"
             ],
             [
              0.8888888888888888,
              "#fdca26"
             ],
             [
              1,
              "#f0f921"
             ]
            ],
            "type": "heatmap"
           }
          ],
          "histogram": [
           {
            "marker": {
             "pattern": {
              "fillmode": "overlay",
              "size": 10,
              "solidity": 0.2
             }
            },
            "type": "histogram"
           }
          ],
          "histogram2d": [
           {
            "colorbar": {
             "outlinewidth": 0,
             "ticks": ""
            },
            "colorscale": [
             [
              0,
              "#0d0887"
             ],
             [
              0.1111111111111111,
              "#46039f"
             ],
             [
              0.2222222222222222,
              "#7201a8"
             ],
             [
              0.3333333333333333,
              "#9c179e"
             ],
             [
              0.4444444444444444,
              "#bd3786"
             ],
             [
              0.5555555555555556,
              "#d8576b"
             ],
             [
              0.6666666666666666,
              "#ed7953"
             ],
             [
              0.7777777777777778,
              "#fb9f3a"
             ],
             [
              0.8888888888888888,
              "#fdca26"
             ],
             [
              1,
              "#f0f921"
             ]
            ],
            "type": "histogram2d"
           }
          ],
          "histogram2dcontour": [
           {
            "colorbar": {
             "outlinewidth": 0,
             "ticks": ""
            },
            "colorscale": [
             [
              0,
              "#0d0887"
             ],
             [
              0.1111111111111111,
              "#46039f"
             ],
             [
              0.2222222222222222,
              "#7201a8"
             ],
             [
              0.3333333333333333,
              "#9c179e"
             ],
             [
              0.4444444444444444,
              "#bd3786"
             ],
             [
              0.5555555555555556,
              "#d8576b"
             ],
             [
              0.6666666666666666,
              "#ed7953"
             ],
             [
              0.7777777777777778,
              "#fb9f3a"
             ],
             [
              0.8888888888888888,
              "#fdca26"
             ],
             [
              1,
              "#f0f921"
             ]
            ],
            "type": "histogram2dcontour"
           }
          ],
          "mesh3d": [
           {
            "colorbar": {
             "outlinewidth": 0,
             "ticks": ""
            },
            "type": "mesh3d"
           }
          ],
          "parcoords": [
           {
            "line": {
             "colorbar": {
              "outlinewidth": 0,
              "ticks": ""
             }
            },
            "type": "parcoords"
           }
          ],
          "pie": [
           {
            "automargin": true,
            "type": "pie"
           }
          ],
          "scatter": [
           {
            "fillpattern": {
             "fillmode": "overlay",
             "size": 10,
             "solidity": 0.2
            },
            "type": "scatter"
           }
          ],
          "scatter3d": [
           {
            "line": {
             "colorbar": {
              "outlinewidth": 0,
              "ticks": ""
             }
            },
            "marker": {
             "colorbar": {
              "outlinewidth": 0,
              "ticks": ""
             }
            },
            "type": "scatter3d"
           }
          ],
          "scattercarpet": [
           {
            "marker": {
             "colorbar": {
              "outlinewidth": 0,
              "ticks": ""
             }
            },
            "type": "scattercarpet"
           }
          ],
          "scattergeo": [
           {
            "marker": {
             "colorbar": {
              "outlinewidth": 0,
              "ticks": ""
             }
            },
            "type": "scattergeo"
           }
          ],
          "scattergl": [
           {
            "marker": {
             "colorbar": {
              "outlinewidth": 0,
              "ticks": ""
             }
            },
            "type": "scattergl"
           }
          ],
          "scattermap": [
           {
            "marker": {
             "colorbar": {
              "outlinewidth": 0,
              "ticks": ""
             }
            },
            "type": "scattermap"
           }
          ],
          "scattermapbox": [
           {
            "marker": {
             "colorbar": {
              "outlinewidth": 0,
              "ticks": ""
             }
            },
            "type": "scattermapbox"
           }
          ],
          "scatterpolar": [
           {
            "marker": {
             "colorbar": {
              "outlinewidth": 0,
              "ticks": ""
             }
            },
            "type": "scatterpolar"
           }
          ],
          "scatterpolargl": [
           {
            "marker": {
             "colorbar": {
              "outlinewidth": 0,
              "ticks": ""
             }
            },
            "type": "scatterpolargl"
           }
          ],
          "scatterternary": [
           {
            "marker": {
             "colorbar": {
              "outlinewidth": 0,
              "ticks": ""
             }
            },
            "type": "scatterternary"
           }
          ],
          "surface": [
           {
            "colorbar": {
             "outlinewidth": 0,
             "ticks": ""
            },
            "colorscale": [
             [
              0,
              "#0d0887"
             ],
             [
              0.1111111111111111,
              "#46039f"
             ],
             [
              0.2222222222222222,
              "#7201a8"
             ],
             [
              0.3333333333333333,
              "#9c179e"
             ],
             [
              0.4444444444444444,
              "#bd3786"
             ],
             [
              0.5555555555555556,
              "#d8576b"
             ],
             [
              0.6666666666666666,
              "#ed7953"
             ],
             [
              0.7777777777777778,
              "#fb9f3a"
             ],
             [
              0.8888888888888888,
              "#fdca26"
             ],
             [
              1,
              "#f0f921"
             ]
            ],
            "type": "surface"
           }
          ],
          "table": [
           {
            "cells": {
             "fill": {
              "color": "#EBF0F8"
             },
             "line": {
              "color": "white"
             }
            },
            "header": {
             "fill": {
              "color": "#C8D4E3"
             },
             "line": {
              "color": "white"
             }
            },
            "type": "table"
           }
          ]
         },
         "layout": {
          "annotationdefaults": {
           "arrowcolor": "#2a3f5f",
           "arrowhead": 0,
           "arrowwidth": 1
          },
          "autotypenumbers": "strict",
          "coloraxis": {
           "colorbar": {
            "outlinewidth": 0,
            "ticks": ""
           }
          },
          "colorscale": {
           "diverging": [
            [
             0,
             "#8e0152"
            ],
            [
             0.1,
             "#c51b7d"
            ],
            [
             0.2,
             "#de77ae"
            ],
            [
             0.3,
             "#f1b6da"
            ],
            [
             0.4,
             "#fde0ef"
            ],
            [
             0.5,
             "#f7f7f7"
            ],
            [
             0.6,
             "#e6f5d0"
            ],
            [
             0.7,
             "#b8e186"
            ],
            [
             0.8,
             "#7fbc41"
            ],
            [
             0.9,
             "#4d9221"
            ],
            [
             1,
             "#276419"
            ]
           ],
           "sequential": [
            [
             0,
             "#0d0887"
            ],
            [
             0.1111111111111111,
             "#46039f"
            ],
            [
             0.2222222222222222,
             "#7201a8"
            ],
            [
             0.3333333333333333,
             "#9c179e"
            ],
            [
             0.4444444444444444,
             "#bd3786"
            ],
            [
             0.5555555555555556,
             "#d8576b"
            ],
            [
             0.6666666666666666,
             "#ed7953"
            ],
            [
             0.7777777777777778,
             "#fb9f3a"
            ],
            [
             0.8888888888888888,
             "#fdca26"
            ],
            [
             1,
             "#f0f921"
            ]
           ],
           "sequentialminus": [
            [
             0,
             "#0d0887"
            ],
            [
             0.1111111111111111,
             "#46039f"
            ],
            [
             0.2222222222222222,
             "#7201a8"
            ],
            [
             0.3333333333333333,
             "#9c179e"
            ],
            [
             0.4444444444444444,
             "#bd3786"
            ],
            [
             0.5555555555555556,
             "#d8576b"
            ],
            [
             0.6666666666666666,
             "#ed7953"
            ],
            [
             0.7777777777777778,
             "#fb9f3a"
            ],
            [
             0.8888888888888888,
             "#fdca26"
            ],
            [
             1,
             "#f0f921"
            ]
           ]
          },
          "colorway": [
           "#636efa",
           "#EF553B",
           "#00cc96",
           "#ab63fa",
           "#FFA15A",
           "#19d3f3",
           "#FF6692",
           "#B6E880",
           "#FF97FF",
           "#FECB52"
          ],
          "font": {
           "color": "#2a3f5f"
          },
          "geo": {
           "bgcolor": "white",
           "lakecolor": "white",
           "landcolor": "white",
           "showlakes": true,
           "showland": true,
           "subunitcolor": "#C8D4E3"
          },
          "hoverlabel": {
           "align": "left"
          },
          "hovermode": "closest",
          "mapbox": {
           "style": "light"
          },
          "paper_bgcolor": "white",
          "plot_bgcolor": "white",
          "polar": {
           "angularaxis": {
            "gridcolor": "#EBF0F8",
            "linecolor": "#EBF0F8",
            "ticks": ""
           },
           "bgcolor": "white",
           "radialaxis": {
            "gridcolor": "#EBF0F8",
            "linecolor": "#EBF0F8",
            "ticks": ""
           }
          },
          "scene": {
           "xaxis": {
            "backgroundcolor": "white",
            "gridcolor": "#DFE8F3",
            "gridwidth": 2,
            "linecolor": "#EBF0F8",
            "showbackground": true,
            "ticks": "",
            "zerolinecolor": "#EBF0F8"
           },
           "yaxis": {
            "backgroundcolor": "white",
            "gridcolor": "#DFE8F3",
            "gridwidth": 2,
            "linecolor": "#EBF0F8",
            "showbackground": true,
            "ticks": "",
            "zerolinecolor": "#EBF0F8"
           },
           "zaxis": {
            "backgroundcolor": "white",
            "gridcolor": "#DFE8F3",
            "gridwidth": 2,
            "linecolor": "#EBF0F8",
            "showbackground": true,
            "ticks": "",
            "zerolinecolor": "#EBF0F8"
           }
          },
          "shapedefaults": {
           "line": {
            "color": "#2a3f5f"
           }
          },
          "ternary": {
           "aaxis": {
            "gridcolor": "#DFE8F3",
            "linecolor": "#A2B1C6",
            "ticks": ""
           },
           "baxis": {
            "gridcolor": "#DFE8F3",
            "linecolor": "#A2B1C6",
            "ticks": ""
           },
           "bgcolor": "white",
           "caxis": {
            "gridcolor": "#DFE8F3",
            "linecolor": "#A2B1C6",
            "ticks": ""
           }
          },
          "title": {
           "x": 0.05
          },
          "xaxis": {
           "automargin": true,
           "gridcolor": "#EBF0F8",
           "linecolor": "#EBF0F8",
           "ticks": "",
           "title": {
            "standoff": 15
           },
           "zerolinecolor": "#EBF0F8",
           "zerolinewidth": 2
          },
          "yaxis": {
           "automargin": true,
           "gridcolor": "#EBF0F8",
           "linecolor": "#EBF0F8",
           "ticks": "",
           "title": {
            "standoff": 15
           },
           "zerolinecolor": "#EBF0F8",
           "zerolinewidth": 2
          }
         }
        },
        "title": {
         "text": "Distribución de AIRE ACONDICIONADO antes y después de la imputación"
        },
        "width": 1200,
        "xaxis": {
         "tickfont": {
          "color": "#e6e6e7"
         },
         "title": {
          "standoff": 40,
          "text": "Aire acondicionado"
         }
        }
       }
      }
     },
     "metadata": {},
     "output_type": "display_data"
    }
   ],
   "source": [
    "# Conteo antes y después\n",
    "antes_ac = df_antes['aire_acondicionado'].value_counts()\n",
    "despues_ac = df_bmw['aire_acondicionado'].value_counts()\n",
    "\n",
    "# Obtener valores para Sí y No (True y False)\n",
    "antes_si = antes_ac.get(True, 0)\n",
    "antes_no = antes_ac.get(False, 0)\n",
    "despues_si = despues_ac.get(True, 0)\n",
    "despues_no = despues_ac.get(False, 0)\n",
    "\n",
    "# Etiquetas para eje X (no visibles, se ocultan con color de fondo)\n",
    "x_vals = ['Antes - Sí', 'Antes - No', 'Después - Sí', 'Después - No']\n",
    "y_vals = [antes_si, antes_no, despues_si, despues_no]\n",
    "colors = ['#373485', '#373485', '#c52b30', '#c52b30']\n",
    "\n",
    "fig = go.Figure()\n",
    "\n",
    "fig.add_trace(go.Bar(\n",
    "    x=x_vals,\n",
    "    y=y_vals,\n",
    "    marker_color=colors,\n",
    "    text=y_vals,\n",
    "    textposition='outside',\n",
    "    opacity=1,\n",
    "    name='Aire acondicionado'\n",
    "))\n",
    "\n",
    "fig.update_layout(\n",
    "    title=\"Distribución de AIRE ACONDICIONADO antes y después de la imputación\",\n",
    "    xaxis_title=\"Aire acondicionado\",\n",
    "    template='plotly_white',\n",
    "    width=1200,\n",
    "    height=470,\n",
    "    plot_bgcolor='#e6e6e7',\n",
    "    paper_bgcolor='#e6e6e7',\n",
    "    xaxis=dict(\n",
    "        tickfont=dict(color='#e6e6e7'),  # Oculta etiquetas eje X\n",
    "        title_standoff=40\n",
    "    )\n",
    ")\n",
    "\n",
    "# Anotaciones para cada barra: 'Sí' o 'No'\n",
    "anotaciones = [\n",
    "    {'x': 0, 'text': 'Sí'},\n",
    "    {'x': 1, 'text': 'No'},\n",
    "    {'x': 2, 'text': 'Sí'},\n",
    "    {'x': 3, 'text': 'No'},\n",
    "]\n",
    "\n",
    "for a in anotaciones:\n",
    "    fig.add_annotation(\n",
    "        x=a['x'],\n",
    "        y=-0.08,\n",
    "        text=a['text'],\n",
    "        showarrow=False,\n",
    "        xref=\"x\",\n",
    "        yref=\"paper\",\n",
    "        font=dict(size=14, color=\"black\")\n",
    "    )\n",
    "\n",
    "# Anotaciones para 'Antes' y 'Después' centradas\n",
    "fig.add_annotation(x=0.5, y=-0.13, text=\"Antes\", showarrow=False,\n",
    "                   xref=\"x\", yref=\"paper\", font=dict(size=14, color=\"black\"))\n",
    "fig.add_annotation(x=2.5, y=-0.13, text=\"Después\", showarrow=False,\n",
    "                   xref=\"x\", yref=\"paper\", font=dict(size=14, color=\"black\"))\n",
    "\n",
    "fig.show()"
   ]
  },
  {
   "cell_type": "markdown",
   "id": "87812116",
   "metadata": {},
   "source": [
    "### **COLUMNA BLUETOOTH**"
   ]
  },
  {
   "cell_type": "code",
   "execution_count": 66,
   "id": "fdec678d",
   "metadata": {},
   "outputs": [
    {
     "data": {
      "text/html": [
       "<div>\n",
       "<style scoped>\n",
       "    .dataframe tbody tr th:only-of-type {\n",
       "        vertical-align: middle;\n",
       "    }\n",
       "\n",
       "    .dataframe tbody tr th {\n",
       "        vertical-align: top;\n",
       "    }\n",
       "\n",
       "    .dataframe thead th {\n",
       "        text-align: right;\n",
       "    }\n",
       "</style>\n",
       "<table border=\"1\" class=\"dataframe\">\n",
       "  <thead>\n",
       "    <tr style=\"text-align: right;\">\n",
       "      <th></th>\n",
       "      <th>NULOS</th>\n",
       "      <th>% NULOS</th>\n",
       "      <th>VALORES UNICOS</th>\n",
       "    </tr>\n",
       "  </thead>\n",
       "  <tbody>\n",
       "    <tr>\n",
       "      <th>bluetooth</th>\n",
       "      <td>725</td>\n",
       "      <td>15.050862</td>\n",
       "      <td>2</td>\n",
       "    </tr>\n",
       "  </tbody>\n",
       "</table>\n",
       "</div>"
      ],
      "text/plain": [
       "           NULOS    % NULOS  VALORES UNICOS\n",
       "bluetooth    725  15.050862               2"
      ]
     },
     "execution_count": 66,
     "metadata": {},
     "output_type": "execute_result"
    }
   ],
   "source": [
    "tabla_nulos(df_bmw).loc[['bluetooth']]"
   ]
  },
  {
   "cell_type": "code",
   "execution_count": 67,
   "id": "1af35570",
   "metadata": {},
   "outputs": [
    {
     "data": {
      "text/plain": [
       "bluetooth\n",
       "False    0.643762\n",
       "True     0.205730\n",
       "NaN      0.150509\n",
       "Name: proportion, dtype: float64"
      ]
     },
     "execution_count": 67,
     "metadata": {},
     "output_type": "execute_result"
    }
   ],
   "source": [
    "distribuciones['bluetooth']"
   ]
  },
  {
   "cell_type": "code",
   "execution_count": 68,
   "id": "81a34809",
   "metadata": {},
   "outputs": [],
   "source": [
    "COLUMNS_1 = ['años_coche','tipo_coche','modelo','potencia', 'asientos_traseros_plegables', 'aire_acondicionado']\n",
    "df_nulls_1 = df_bmw.groupby(COLUMNS_1)['bluetooth'].agg(lambda x: pd.Series.mode(x).iloc[0] if not pd.Series.mode(x).empty else np.nan).to_frame().reset_index()\n",
    "df_nulls_1 = df_nulls_1.dropna(subset=['bluetooth'])\n",
    "df_nulls_1.rename(columns={\"bluetooth\":\"bluetooth_1\"},inplace=True)\n",
    "\n",
    "COLUMNS_2 = ['modelo', 'asientos_traseros_plegables', 'aire_acondicionado']\n",
    "df_nulls_2 = df_bmw.groupby(COLUMNS_2)['bluetooth'].agg(lambda x: pd.Series.mode(x).iloc[0] if not pd.Series.mode(x).empty else np.nan).to_frame().reset_index()\n",
    "df_nulls_2 = df_nulls_2.dropna(subset=['bluetooth'])\n",
    "df_nulls_2.rename(columns={\"bluetooth\":\"bluetooth_2\"},inplace=True)\n",
    "\n",
    "COLUMNS_3 = ['modelo','elevalunas_electrico']\n",
    "df_nulls_3 = df_bmw.groupby(COLUMNS_3)['bluetooth'].agg(lambda x: pd.Series.mode(x).iloc[0] if not pd.Series.mode(x).empty else np.nan).to_frame().reset_index()\n",
    "df_nulls_3 = df_nulls_3.dropna(subset=['bluetooth'])\n",
    "df_nulls_3.rename(columns={\"bluetooth\":\"bluetooth_3\"},inplace=True)\n",
    "\n",
    "COLUMNS_4 = ['modelo']\n",
    "df_nulls_4 = df_bmw.groupby(COLUMNS_4)['bluetooth'].agg(lambda x: pd.Series.mode(x).iloc[0] if not pd.Series.mode(x).empty else np.nan).to_frame().reset_index()\n",
    "df_nulls_4 = df_nulls_4.dropna(subset=['bluetooth'])\n",
    "df_nulls_4.rename(columns={\"bluetooth\":\"bluetooth_4\"},inplace=True)\n",
    "\n",
    "COLUMNS_5 = ['tipo_coche']\n",
    "moda_global = df_bmw['bluetooth'].mode().iloc[0]\n",
    "df_nulls_5 = df_bmw[df_bmw['bluetooth'].isna()][['tipo_coche']].dropna().drop_duplicates()\n",
    "df_nulls_5['bluetooth_5'] = moda_global"
   ]
  },
  {
   "cell_type": "code",
   "execution_count": 69,
   "id": "bc19a172",
   "metadata": {},
   "outputs": [],
   "source": [
    "assert not df_nulls_1.duplicated(subset=COLUMNS_1).any(), \"Duplicados en df_nulls_1\"\n",
    "assert not df_nulls_2.duplicated(subset=COLUMNS_2).any(), \"Duplicados en df_nulls_2\"\n",
    "assert not df_nulls_3.duplicated(subset=COLUMNS_3).any(), \"Duplicados en df_nulls_3\"\n",
    "assert not df_nulls_4.duplicated(subset=COLUMNS_4).any(), \"Duplicados en df_nulls_4\"\n",
    "assert not df_nulls_5.duplicated(subset=COLUMNS_5).any(), \"Duplicados en df_nulls_5\""
   ]
  },
  {
   "cell_type": "code",
   "execution_count": 70,
   "id": "d2f6e5e9",
   "metadata": {},
   "outputs": [],
   "source": [
    "df_bmw = df_bmw.merge(df_nulls_1,how='left',left_on=COLUMNS_1,right_on=COLUMNS_1)\n",
    "df_bmw = df_bmw.merge(df_nulls_2,how='left',left_on=COLUMNS_2,right_on=COLUMNS_2)\n",
    "df_bmw = df_bmw.merge(df_nulls_3,how='left',left_on=COLUMNS_3,right_on=COLUMNS_3)\n",
    "df_bmw = df_bmw.merge(df_nulls_4,how='left',left_on=COLUMNS_4,right_on=COLUMNS_4)\n",
    "df_bmw = df_bmw.merge(df_nulls_5,how='left',left_on=COLUMNS_5,right_on=COLUMNS_5)\n",
    "\n",
    "df_bmw['bluetooth'] = df_bmw[['bluetooth','bluetooth_1','bluetooth_2','bluetooth_3','bluetooth_4','bluetooth_5']].bfill(axis=1).iloc[:, 0]\n",
    "\n",
    "df_bmw.drop(columns=['bluetooth_1','bluetooth_2','bluetooth_3','bluetooth_4','bluetooth_5'],inplace=True)"
   ]
  },
  {
   "cell_type": "code",
   "execution_count": 71,
   "id": "aee9b39e",
   "metadata": {},
   "outputs": [
    {
     "data": {
      "text/html": [
       "<div>\n",
       "<style scoped>\n",
       "    .dataframe tbody tr th:only-of-type {\n",
       "        vertical-align: middle;\n",
       "    }\n",
       "\n",
       "    .dataframe tbody tr th {\n",
       "        vertical-align: top;\n",
       "    }\n",
       "\n",
       "    .dataframe thead th {\n",
       "        text-align: right;\n",
       "    }\n",
       "</style>\n",
       "<table border=\"1\" class=\"dataframe\">\n",
       "  <thead>\n",
       "    <tr style=\"text-align: right;\">\n",
       "      <th></th>\n",
       "      <th>NULOS</th>\n",
       "      <th>% NULOS</th>\n",
       "      <th>VALORES UNICOS</th>\n",
       "    </tr>\n",
       "  </thead>\n",
       "  <tbody>\n",
       "    <tr>\n",
       "      <th>bluetooth</th>\n",
       "      <td>0</td>\n",
       "      <td>0.0</td>\n",
       "      <td>2</td>\n",
       "    </tr>\n",
       "  </tbody>\n",
       "</table>\n",
       "</div>"
      ],
      "text/plain": [
       "           NULOS  % NULOS  VALORES UNICOS\n",
       "bluetooth      0      0.0               2"
      ]
     },
     "execution_count": 71,
     "metadata": {},
     "output_type": "execute_result"
    }
   ],
   "source": [
    "tabla_nulos(df_bmw).loc[['bluetooth']]"
   ]
  },
  {
   "cell_type": "code",
   "execution_count": 72,
   "id": "f4b3cd07",
   "metadata": {},
   "outputs": [
    {
     "data": {
      "application/vnd.plotly.v1+json": {
       "config": {
        "plotlyServerURL": "https://plot.ly"
       },
       "data": [
        {
         "marker": {
          "color": "#373485"
         },
         "name": "Antes",
         "opacity": 1,
         "text": {
          "bdata": "AAAAAABeqEAAAAAAACCPQA==",
          "dtype": "f8"
         },
         "textposition": "outside",
         "type": "bar",
         "x": [
          "No",
          "Sí"
         ],
         "y": {
          "bdata": "LwzkAw==",
          "dtype": "i2"
         }
        },
        {
         "marker": {
          "color": "#c52b30"
         },
         "name": "Después",
         "opacity": 1,
         "text": {
          "bdata": "AAAAAACErUAAAAAAADyQQA==",
          "dtype": "f8"
         },
         "textposition": "outside",
         "type": "bar",
         "x": [
          "No",
          "Sí"
         ],
         "y": {
          "bdata": "wg4PBA==",
          "dtype": "i2"
         }
        }
       ],
       "layout": {
        "barmode": "group",
        "height": 470,
        "paper_bgcolor": "#e6e6e7",
        "plot_bgcolor": "#e6e6e7",
        "template": {
         "data": {
          "bar": [
           {
            "error_x": {
             "color": "#2a3f5f"
            },
            "error_y": {
             "color": "#2a3f5f"
            },
            "marker": {
             "line": {
              "color": "white",
              "width": 0.5
             },
             "pattern": {
              "fillmode": "overlay",
              "size": 10,
              "solidity": 0.2
             }
            },
            "type": "bar"
           }
          ],
          "barpolar": [
           {
            "marker": {
             "line": {
              "color": "white",
              "width": 0.5
             },
             "pattern": {
              "fillmode": "overlay",
              "size": 10,
              "solidity": 0.2
             }
            },
            "type": "barpolar"
           }
          ],
          "carpet": [
           {
            "aaxis": {
             "endlinecolor": "#2a3f5f",
             "gridcolor": "#C8D4E3",
             "linecolor": "#C8D4E3",
             "minorgridcolor": "#C8D4E3",
             "startlinecolor": "#2a3f5f"
            },
            "baxis": {
             "endlinecolor": "#2a3f5f",
             "gridcolor": "#C8D4E3",
             "linecolor": "#C8D4E3",
             "minorgridcolor": "#C8D4E3",
             "startlinecolor": "#2a3f5f"
            },
            "type": "carpet"
           }
          ],
          "choropleth": [
           {
            "colorbar": {
             "outlinewidth": 0,
             "ticks": ""
            },
            "type": "choropleth"
           }
          ],
          "contour": [
           {
            "colorbar": {
             "outlinewidth": 0,
             "ticks": ""
            },
            "colorscale": [
             [
              0,
              "#0d0887"
             ],
             [
              0.1111111111111111,
              "#46039f"
             ],
             [
              0.2222222222222222,
              "#7201a8"
             ],
             [
              0.3333333333333333,
              "#9c179e"
             ],
             [
              0.4444444444444444,
              "#bd3786"
             ],
             [
              0.5555555555555556,
              "#d8576b"
             ],
             [
              0.6666666666666666,
              "#ed7953"
             ],
             [
              0.7777777777777778,
              "#fb9f3a"
             ],
             [
              0.8888888888888888,
              "#fdca26"
             ],
             [
              1,
              "#f0f921"
             ]
            ],
            "type": "contour"
           }
          ],
          "contourcarpet": [
           {
            "colorbar": {
             "outlinewidth": 0,
             "ticks": ""
            },
            "type": "contourcarpet"
           }
          ],
          "heatmap": [
           {
            "colorbar": {
             "outlinewidth": 0,
             "ticks": ""
            },
            "colorscale": [
             [
              0,
              "#0d0887"
             ],
             [
              0.1111111111111111,
              "#46039f"
             ],
             [
              0.2222222222222222,
              "#7201a8"
             ],
             [
              0.3333333333333333,
              "#9c179e"
             ],
             [
              0.4444444444444444,
              "#bd3786"
             ],
             [
              0.5555555555555556,
              "#d8576b"
             ],
             [
              0.6666666666666666,
              "#ed7953"
             ],
             [
              0.7777777777777778,
              "#fb9f3a"
             ],
             [
              0.8888888888888888,
              "#fdca26"
             ],
             [
              1,
              "#f0f921"
             ]
            ],
            "type": "heatmap"
           }
          ],
          "histogram": [
           {
            "marker": {
             "pattern": {
              "fillmode": "overlay",
              "size": 10,
              "solidity": 0.2
             }
            },
            "type": "histogram"
           }
          ],
          "histogram2d": [
           {
            "colorbar": {
             "outlinewidth": 0,
             "ticks": ""
            },
            "colorscale": [
             [
              0,
              "#0d0887"
             ],
             [
              0.1111111111111111,
              "#46039f"
             ],
             [
              0.2222222222222222,
              "#7201a8"
             ],
             [
              0.3333333333333333,
              "#9c179e"
             ],
             [
              0.4444444444444444,
              "#bd3786"
             ],
             [
              0.5555555555555556,
              "#d8576b"
             ],
             [
              0.6666666666666666,
              "#ed7953"
             ],
             [
              0.7777777777777778,
              "#fb9f3a"
             ],
             [
              0.8888888888888888,
              "#fdca26"
             ],
             [
              1,
              "#f0f921"
             ]
            ],
            "type": "histogram2d"
           }
          ],
          "histogram2dcontour": [
           {
            "colorbar": {
             "outlinewidth": 0,
             "ticks": ""
            },
            "colorscale": [
             [
              0,
              "#0d0887"
             ],
             [
              0.1111111111111111,
              "#46039f"
             ],
             [
              0.2222222222222222,
              "#7201a8"
             ],
             [
              0.3333333333333333,
              "#9c179e"
             ],
             [
              0.4444444444444444,
              "#bd3786"
             ],
             [
              0.5555555555555556,
              "#d8576b"
             ],
             [
              0.6666666666666666,
              "#ed7953"
             ],
             [
              0.7777777777777778,
              "#fb9f3a"
             ],
             [
              0.8888888888888888,
              "#fdca26"
             ],
             [
              1,
              "#f0f921"
             ]
            ],
            "type": "histogram2dcontour"
           }
          ],
          "mesh3d": [
           {
            "colorbar": {
             "outlinewidth": 0,
             "ticks": ""
            },
            "type": "mesh3d"
           }
          ],
          "parcoords": [
           {
            "line": {
             "colorbar": {
              "outlinewidth": 0,
              "ticks": ""
             }
            },
            "type": "parcoords"
           }
          ],
          "pie": [
           {
            "automargin": true,
            "type": "pie"
           }
          ],
          "scatter": [
           {
            "fillpattern": {
             "fillmode": "overlay",
             "size": 10,
             "solidity": 0.2
            },
            "type": "scatter"
           }
          ],
          "scatter3d": [
           {
            "line": {
             "colorbar": {
              "outlinewidth": 0,
              "ticks": ""
             }
            },
            "marker": {
             "colorbar": {
              "outlinewidth": 0,
              "ticks": ""
             }
            },
            "type": "scatter3d"
           }
          ],
          "scattercarpet": [
           {
            "marker": {
             "colorbar": {
              "outlinewidth": 0,
              "ticks": ""
             }
            },
            "type": "scattercarpet"
           }
          ],
          "scattergeo": [
           {
            "marker": {
             "colorbar": {
              "outlinewidth": 0,
              "ticks": ""
             }
            },
            "type": "scattergeo"
           }
          ],
          "scattergl": [
           {
            "marker": {
             "colorbar": {
              "outlinewidth": 0,
              "ticks": ""
             }
            },
            "type": "scattergl"
           }
          ],
          "scattermap": [
           {
            "marker": {
             "colorbar": {
              "outlinewidth": 0,
              "ticks": ""
             }
            },
            "type": "scattermap"
           }
          ],
          "scattermapbox": [
           {
            "marker": {
             "colorbar": {
              "outlinewidth": 0,
              "ticks": ""
             }
            },
            "type": "scattermapbox"
           }
          ],
          "scatterpolar": [
           {
            "marker": {
             "colorbar": {
              "outlinewidth": 0,
              "ticks": ""
             }
            },
            "type": "scatterpolar"
           }
          ],
          "scatterpolargl": [
           {
            "marker": {
             "colorbar": {
              "outlinewidth": 0,
              "ticks": ""
             }
            },
            "type": "scatterpolargl"
           }
          ],
          "scatterternary": [
           {
            "marker": {
             "colorbar": {
              "outlinewidth": 0,
              "ticks": ""
             }
            },
            "type": "scatterternary"
           }
          ],
          "surface": [
           {
            "colorbar": {
             "outlinewidth": 0,
             "ticks": ""
            },
            "colorscale": [
             [
              0,
              "#0d0887"
             ],
             [
              0.1111111111111111,
              "#46039f"
             ],
             [
              0.2222222222222222,
              "#7201a8"
             ],
             [
              0.3333333333333333,
              "#9c179e"
             ],
             [
              0.4444444444444444,
              "#bd3786"
             ],
             [
              0.5555555555555556,
              "#d8576b"
             ],
             [
              0.6666666666666666,
              "#ed7953"
             ],
             [
              0.7777777777777778,
              "#fb9f3a"
             ],
             [
              0.8888888888888888,
              "#fdca26"
             ],
             [
              1,
              "#f0f921"
             ]
            ],
            "type": "surface"
           }
          ],
          "table": [
           {
            "cells": {
             "fill": {
              "color": "#EBF0F8"
             },
             "line": {
              "color": "white"
             }
            },
            "header": {
             "fill": {
              "color": "#C8D4E3"
             },
             "line": {
              "color": "white"
             }
            },
            "type": "table"
           }
          ]
         },
         "layout": {
          "annotationdefaults": {
           "arrowcolor": "#2a3f5f",
           "arrowhead": 0,
           "arrowwidth": 1
          },
          "autotypenumbers": "strict",
          "coloraxis": {
           "colorbar": {
            "outlinewidth": 0,
            "ticks": ""
           }
          },
          "colorscale": {
           "diverging": [
            [
             0,
             "#8e0152"
            ],
            [
             0.1,
             "#c51b7d"
            ],
            [
             0.2,
             "#de77ae"
            ],
            [
             0.3,
             "#f1b6da"
            ],
            [
             0.4,
             "#fde0ef"
            ],
            [
             0.5,
             "#f7f7f7"
            ],
            [
             0.6,
             "#e6f5d0"
            ],
            [
             0.7,
             "#b8e186"
            ],
            [
             0.8,
             "#7fbc41"
            ],
            [
             0.9,
             "#4d9221"
            ],
            [
             1,
             "#276419"
            ]
           ],
           "sequential": [
            [
             0,
             "#0d0887"
            ],
            [
             0.1111111111111111,
             "#46039f"
            ],
            [
             0.2222222222222222,
             "#7201a8"
            ],
            [
             0.3333333333333333,
             "#9c179e"
            ],
            [
             0.4444444444444444,
             "#bd3786"
            ],
            [
             0.5555555555555556,
             "#d8576b"
            ],
            [
             0.6666666666666666,
             "#ed7953"
            ],
            [
             0.7777777777777778,
             "#fb9f3a"
            ],
            [
             0.8888888888888888,
             "#fdca26"
            ],
            [
             1,
             "#f0f921"
            ]
           ],
           "sequentialminus": [
            [
             0,
             "#0d0887"
            ],
            [
             0.1111111111111111,
             "#46039f"
            ],
            [
             0.2222222222222222,
             "#7201a8"
            ],
            [
             0.3333333333333333,
             "#9c179e"
            ],
            [
             0.4444444444444444,
             "#bd3786"
            ],
            [
             0.5555555555555556,
             "#d8576b"
            ],
            [
             0.6666666666666666,
             "#ed7953"
            ],
            [
             0.7777777777777778,
             "#fb9f3a"
            ],
            [
             0.8888888888888888,
             "#fdca26"
            ],
            [
             1,
             "#f0f921"
            ]
           ]
          },
          "colorway": [
           "#636efa",
           "#EF553B",
           "#00cc96",
           "#ab63fa",
           "#FFA15A",
           "#19d3f3",
           "#FF6692",
           "#B6E880",
           "#FF97FF",
           "#FECB52"
          ],
          "font": {
           "color": "#2a3f5f"
          },
          "geo": {
           "bgcolor": "white",
           "lakecolor": "white",
           "landcolor": "white",
           "showlakes": true,
           "showland": true,
           "subunitcolor": "#C8D4E3"
          },
          "hoverlabel": {
           "align": "left"
          },
          "hovermode": "closest",
          "mapbox": {
           "style": "light"
          },
          "paper_bgcolor": "white",
          "plot_bgcolor": "white",
          "polar": {
           "angularaxis": {
            "gridcolor": "#EBF0F8",
            "linecolor": "#EBF0F8",
            "ticks": ""
           },
           "bgcolor": "white",
           "radialaxis": {
            "gridcolor": "#EBF0F8",
            "linecolor": "#EBF0F8",
            "ticks": ""
           }
          },
          "scene": {
           "xaxis": {
            "backgroundcolor": "white",
            "gridcolor": "#DFE8F3",
            "gridwidth": 2,
            "linecolor": "#EBF0F8",
            "showbackground": true,
            "ticks": "",
            "zerolinecolor": "#EBF0F8"
           },
           "yaxis": {
            "backgroundcolor": "white",
            "gridcolor": "#DFE8F3",
            "gridwidth": 2,
            "linecolor": "#EBF0F8",
            "showbackground": true,
            "ticks": "",
            "zerolinecolor": "#EBF0F8"
           },
           "zaxis": {
            "backgroundcolor": "white",
            "gridcolor": "#DFE8F3",
            "gridwidth": 2,
            "linecolor": "#EBF0F8",
            "showbackground": true,
            "ticks": "",
            "zerolinecolor": "#EBF0F8"
           }
          },
          "shapedefaults": {
           "line": {
            "color": "#2a3f5f"
           }
          },
          "ternary": {
           "aaxis": {
            "gridcolor": "#DFE8F3",
            "linecolor": "#A2B1C6",
            "ticks": ""
           },
           "baxis": {
            "gridcolor": "#DFE8F3",
            "linecolor": "#A2B1C6",
            "ticks": ""
           },
           "bgcolor": "white",
           "caxis": {
            "gridcolor": "#DFE8F3",
            "linecolor": "#A2B1C6",
            "ticks": ""
           }
          },
          "title": {
           "x": 0.05
          },
          "xaxis": {
           "automargin": true,
           "gridcolor": "#EBF0F8",
           "linecolor": "#EBF0F8",
           "ticks": "",
           "title": {
            "standoff": 15
           },
           "zerolinecolor": "#EBF0F8",
           "zerolinewidth": 2
          },
          "yaxis": {
           "automargin": true,
           "gridcolor": "#EBF0F8",
           "linecolor": "#EBF0F8",
           "ticks": "",
           "title": {
            "standoff": 15
           },
           "zerolinecolor": "#EBF0F8",
           "zerolinewidth": 2
          }
         }
        },
        "title": {
         "text": "Distribución de BLUETOOTH antes y después de la imputación"
        },
        "width": 1200,
        "xaxis": {
         "tickfont": {
          "color": "black"
         },
         "title": {
          "standoff": 20,
          "text": "Bluetooth"
         }
        },
        "yaxis": {
         "title": {
          "text": "Frecuencia"
         }
        }
       }
      }
     },
     "metadata": {},
     "output_type": "display_data"
    }
   ],
   "source": [
    "import plotly.graph_objects as go\n",
    "\n",
    "# Conteo antes y después\n",
    "antes_bt = df_antes['bluetooth'].value_counts().sort_index()\n",
    "despues_bt = df_bmw['bluetooth'].value_counts().sort_index()\n",
    "\n",
    "# Diccionario para etiquetas personalizadas\n",
    "etiquetas = {False: 'No', True: 'Sí'}\n",
    "\n",
    "# Etiquetas del eje X ordenadas igual que en antes_bt\n",
    "x_labels = [etiquetas.get(i, str(i)) for i in antes_bt.index]\n",
    "\n",
    "# Valores de después en el mismo orden que antes\n",
    "despues_vals = despues_bt.reindex(antes_bt.index, fill_value=0).values\n",
    "\n",
    "fig = go.Figure()\n",
    "\n",
    "# Antes\n",
    "fig.add_trace(go.Bar(\n",
    "    x=x_labels,\n",
    "    y=antes_bt.values,\n",
    "    name='Antes',\n",
    "    marker_color='#373485',\n",
    "    text=antes_bt.values,\n",
    "    textposition='outside',\n",
    "    opacity=1\n",
    "))\n",
    "\n",
    "# Después\n",
    "fig.add_trace(go.Bar(\n",
    "    x=x_labels,\n",
    "    y=despues_vals,\n",
    "    name='Después',\n",
    "    marker_color='#c52b30',\n",
    "    text=despues_vals,\n",
    "    textposition='outside',\n",
    "    opacity=1\n",
    "))\n",
    "\n",
    "fig.update_layout(\n",
    "    title=\"Distribución de BLUETOOTH antes y después de la imputación\",\n",
    "    xaxis_title=\"Bluetooth\",\n",
    "    yaxis_title=\"Frecuencia\",\n",
    "    barmode='group',\n",
    "    template='plotly_white',\n",
    "    width=1200,\n",
    "    height=470,\n",
    "    plot_bgcolor='#e6e6e7',\n",
    "    paper_bgcolor='#e6e6e7',\n",
    "    xaxis=dict(\n",
    "        tickfont=dict(color='black'),\n",
    "        title_standoff=20\n",
    "    )\n",
    ")\n",
    "\n",
    "fig.show()"
   ]
  },
  {
   "cell_type": "code",
   "execution_count": 73,
   "id": "fe292c74",
   "metadata": {},
   "outputs": [
    {
     "data": {
      "application/vnd.plotly.v1+json": {
       "config": {
        "plotlyServerURL": "https://plot.ly"
       },
       "data": [
        {
         "marker": {
          "color": [
           "#373485",
           "#373485",
           "#c52b30",
           "#c52b30"
          ]
         },
         "name": "Bluetooth",
         "opacity": 1,
         "text": [
          "996",
          "3119",
          "1039",
          "3778"
         ],
         "textposition": "outside",
         "type": "bar",
         "x": [
          "Antes - Sí",
          "Antes - No",
          "Después - Sí",
          "Después - No"
         ],
         "y": [
          996,
          3119,
          1039,
          3778
         ]
        }
       ],
       "layout": {
        "annotations": [
         {
          "font": {
           "color": "black",
           "size": 14
          },
          "showarrow": false,
          "text": "Sí",
          "x": 0,
          "xref": "x",
          "y": -0.08,
          "yref": "paper"
         },
         {
          "font": {
           "color": "black",
           "size": 14
          },
          "showarrow": false,
          "text": "No",
          "x": 1,
          "xref": "x",
          "y": -0.08,
          "yref": "paper"
         },
         {
          "font": {
           "color": "black",
           "size": 14
          },
          "showarrow": false,
          "text": "Sí",
          "x": 2,
          "xref": "x",
          "y": -0.08,
          "yref": "paper"
         },
         {
          "font": {
           "color": "black",
           "size": 14
          },
          "showarrow": false,
          "text": "No",
          "x": 3,
          "xref": "x",
          "y": -0.08,
          "yref": "paper"
         },
         {
          "font": {
           "color": "black",
           "size": 14
          },
          "showarrow": false,
          "text": "Antes",
          "x": 0.5,
          "xref": "x",
          "y": -0.13,
          "yref": "paper"
         },
         {
          "font": {
           "color": "black",
           "size": 14
          },
          "showarrow": false,
          "text": "Después",
          "x": 2.5,
          "xref": "x",
          "y": -0.13,
          "yref": "paper"
         }
        ],
        "height": 470,
        "paper_bgcolor": "#e6e6e7",
        "plot_bgcolor": "#e6e6e7",
        "template": {
         "data": {
          "bar": [
           {
            "error_x": {
             "color": "#2a3f5f"
            },
            "error_y": {
             "color": "#2a3f5f"
            },
            "marker": {
             "line": {
              "color": "white",
              "width": 0.5
             },
             "pattern": {
              "fillmode": "overlay",
              "size": 10,
              "solidity": 0.2
             }
            },
            "type": "bar"
           }
          ],
          "barpolar": [
           {
            "marker": {
             "line": {
              "color": "white",
              "width": 0.5
             },
             "pattern": {
              "fillmode": "overlay",
              "size": 10,
              "solidity": 0.2
             }
            },
            "type": "barpolar"
           }
          ],
          "carpet": [
           {
            "aaxis": {
             "endlinecolor": "#2a3f5f",
             "gridcolor": "#C8D4E3",
             "linecolor": "#C8D4E3",
             "minorgridcolor": "#C8D4E3",
             "startlinecolor": "#2a3f5f"
            },
            "baxis": {
             "endlinecolor": "#2a3f5f",
             "gridcolor": "#C8D4E3",
             "linecolor": "#C8D4E3",
             "minorgridcolor": "#C8D4E3",
             "startlinecolor": "#2a3f5f"
            },
            "type": "carpet"
           }
          ],
          "choropleth": [
           {
            "colorbar": {
             "outlinewidth": 0,
             "ticks": ""
            },
            "type": "choropleth"
           }
          ],
          "contour": [
           {
            "colorbar": {
             "outlinewidth": 0,
             "ticks": ""
            },
            "colorscale": [
             [
              0,
              "#0d0887"
             ],
             [
              0.1111111111111111,
              "#46039f"
             ],
             [
              0.2222222222222222,
              "#7201a8"
             ],
             [
              0.3333333333333333,
              "#9c179e"
             ],
             [
              0.4444444444444444,
              "#bd3786"
             ],
             [
              0.5555555555555556,
              "#d8576b"
             ],
             [
              0.6666666666666666,
              "#ed7953"
             ],
             [
              0.7777777777777778,
              "#fb9f3a"
             ],
             [
              0.8888888888888888,
              "#fdca26"
             ],
             [
              1,
              "#f0f921"
             ]
            ],
            "type": "contour"
           }
          ],
          "contourcarpet": [
           {
            "colorbar": {
             "outlinewidth": 0,
             "ticks": ""
            },
            "type": "contourcarpet"
           }
          ],
          "heatmap": [
           {
            "colorbar": {
             "outlinewidth": 0,
             "ticks": ""
            },
            "colorscale": [
             [
              0,
              "#0d0887"
             ],
             [
              0.1111111111111111,
              "#46039f"
             ],
             [
              0.2222222222222222,
              "#7201a8"
             ],
             [
              0.3333333333333333,
              "#9c179e"
             ],
             [
              0.4444444444444444,
              "#bd3786"
             ],
             [
              0.5555555555555556,
              "#d8576b"
             ],
             [
              0.6666666666666666,
              "#ed7953"
             ],
             [
              0.7777777777777778,
              "#fb9f3a"
             ],
             [
              0.8888888888888888,
              "#fdca26"
             ],
             [
              1,
              "#f0f921"
             ]
            ],
            "type": "heatmap"
           }
          ],
          "histogram": [
           {
            "marker": {
             "pattern": {
              "fillmode": "overlay",
              "size": 10,
              "solidity": 0.2
             }
            },
            "type": "histogram"
           }
          ],
          "histogram2d": [
           {
            "colorbar": {
             "outlinewidth": 0,
             "ticks": ""
            },
            "colorscale": [
             [
              0,
              "#0d0887"
             ],
             [
              0.1111111111111111,
              "#46039f"
             ],
             [
              0.2222222222222222,
              "#7201a8"
             ],
             [
              0.3333333333333333,
              "#9c179e"
             ],
             [
              0.4444444444444444,
              "#bd3786"
             ],
             [
              0.5555555555555556,
              "#d8576b"
             ],
             [
              0.6666666666666666,
              "#ed7953"
             ],
             [
              0.7777777777777778,
              "#fb9f3a"
             ],
             [
              0.8888888888888888,
              "#fdca26"
             ],
             [
              1,
              "#f0f921"
             ]
            ],
            "type": "histogram2d"
           }
          ],
          "histogram2dcontour": [
           {
            "colorbar": {
             "outlinewidth": 0,
             "ticks": ""
            },
            "colorscale": [
             [
              0,
              "#0d0887"
             ],
             [
              0.1111111111111111,
              "#46039f"
             ],
             [
              0.2222222222222222,
              "#7201a8"
             ],
             [
              0.3333333333333333,
              "#9c179e"
             ],
             [
              0.4444444444444444,
              "#bd3786"
             ],
             [
              0.5555555555555556,
              "#d8576b"
             ],
             [
              0.6666666666666666,
              "#ed7953"
             ],
             [
              0.7777777777777778,
              "#fb9f3a"
             ],
             [
              0.8888888888888888,
              "#fdca26"
             ],
             [
              1,
              "#f0f921"
             ]
            ],
            "type": "histogram2dcontour"
           }
          ],
          "mesh3d": [
           {
            "colorbar": {
             "outlinewidth": 0,
             "ticks": ""
            },
            "type": "mesh3d"
           }
          ],
          "parcoords": [
           {
            "line": {
             "colorbar": {
              "outlinewidth": 0,
              "ticks": ""
             }
            },
            "type": "parcoords"
           }
          ],
          "pie": [
           {
            "automargin": true,
            "type": "pie"
           }
          ],
          "scatter": [
           {
            "fillpattern": {
             "fillmode": "overlay",
             "size": 10,
             "solidity": 0.2
            },
            "type": "scatter"
           }
          ],
          "scatter3d": [
           {
            "line": {
             "colorbar": {
              "outlinewidth": 0,
              "ticks": ""
             }
            },
            "marker": {
             "colorbar": {
              "outlinewidth": 0,
              "ticks": ""
             }
            },
            "type": "scatter3d"
           }
          ],
          "scattercarpet": [
           {
            "marker": {
             "colorbar": {
              "outlinewidth": 0,
              "ticks": ""
             }
            },
            "type": "scattercarpet"
           }
          ],
          "scattergeo": [
           {
            "marker": {
             "colorbar": {
              "outlinewidth": 0,
              "ticks": ""
             }
            },
            "type": "scattergeo"
           }
          ],
          "scattergl": [
           {
            "marker": {
             "colorbar": {
              "outlinewidth": 0,
              "ticks": ""
             }
            },
            "type": "scattergl"
           }
          ],
          "scattermap": [
           {
            "marker": {
             "colorbar": {
              "outlinewidth": 0,
              "ticks": ""
             }
            },
            "type": "scattermap"
           }
          ],
          "scattermapbox": [
           {
            "marker": {
             "colorbar": {
              "outlinewidth": 0,
              "ticks": ""
             }
            },
            "type": "scattermapbox"
           }
          ],
          "scatterpolar": [
           {
            "marker": {
             "colorbar": {
              "outlinewidth": 0,
              "ticks": ""
             }
            },
            "type": "scatterpolar"
           }
          ],
          "scatterpolargl": [
           {
            "marker": {
             "colorbar": {
              "outlinewidth": 0,
              "ticks": ""
             }
            },
            "type": "scatterpolargl"
           }
          ],
          "scatterternary": [
           {
            "marker": {
             "colorbar": {
              "outlinewidth": 0,
              "ticks": ""
             }
            },
            "type": "scatterternary"
           }
          ],
          "surface": [
           {
            "colorbar": {
             "outlinewidth": 0,
             "ticks": ""
            },
            "colorscale": [
             [
              0,
              "#0d0887"
             ],
             [
              0.1111111111111111,
              "#46039f"
             ],
             [
              0.2222222222222222,
              "#7201a8"
             ],
             [
              0.3333333333333333,
              "#9c179e"
             ],
             [
              0.4444444444444444,
              "#bd3786"
             ],
             [
              0.5555555555555556,
              "#d8576b"
             ],
             [
              0.6666666666666666,
              "#ed7953"
             ],
             [
              0.7777777777777778,
              "#fb9f3a"
             ],
             [
              0.8888888888888888,
              "#fdca26"
             ],
             [
              1,
              "#f0f921"
             ]
            ],
            "type": "surface"
           }
          ],
          "table": [
           {
            "cells": {
             "fill": {
              "color": "#EBF0F8"
             },
             "line": {
              "color": "white"
             }
            },
            "header": {
             "fill": {
              "color": "#C8D4E3"
             },
             "line": {
              "color": "white"
             }
            },
            "type": "table"
           }
          ]
         },
         "layout": {
          "annotationdefaults": {
           "arrowcolor": "#2a3f5f",
           "arrowhead": 0,
           "arrowwidth": 1
          },
          "autotypenumbers": "strict",
          "coloraxis": {
           "colorbar": {
            "outlinewidth": 0,
            "ticks": ""
           }
          },
          "colorscale": {
           "diverging": [
            [
             0,
             "#8e0152"
            ],
            [
             0.1,
             "#c51b7d"
            ],
            [
             0.2,
             "#de77ae"
            ],
            [
             0.3,
             "#f1b6da"
            ],
            [
             0.4,
             "#fde0ef"
            ],
            [
             0.5,
             "#f7f7f7"
            ],
            [
             0.6,
             "#e6f5d0"
            ],
            [
             0.7,
             "#b8e186"
            ],
            [
             0.8,
             "#7fbc41"
            ],
            [
             0.9,
             "#4d9221"
            ],
            [
             1,
             "#276419"
            ]
           ],
           "sequential": [
            [
             0,
             "#0d0887"
            ],
            [
             0.1111111111111111,
             "#46039f"
            ],
            [
             0.2222222222222222,
             "#7201a8"
            ],
            [
             0.3333333333333333,
             "#9c179e"
            ],
            [
             0.4444444444444444,
             "#bd3786"
            ],
            [
             0.5555555555555556,
             "#d8576b"
            ],
            [
             0.6666666666666666,
             "#ed7953"
            ],
            [
             0.7777777777777778,
             "#fb9f3a"
            ],
            [
             0.8888888888888888,
             "#fdca26"
            ],
            [
             1,
             "#f0f921"
            ]
           ],
           "sequentialminus": [
            [
             0,
             "#0d0887"
            ],
            [
             0.1111111111111111,
             "#46039f"
            ],
            [
             0.2222222222222222,
             "#7201a8"
            ],
            [
             0.3333333333333333,
             "#9c179e"
            ],
            [
             0.4444444444444444,
             "#bd3786"
            ],
            [
             0.5555555555555556,
             "#d8576b"
            ],
            [
             0.6666666666666666,
             "#ed7953"
            ],
            [
             0.7777777777777778,
             "#fb9f3a"
            ],
            [
             0.8888888888888888,
             "#fdca26"
            ],
            [
             1,
             "#f0f921"
            ]
           ]
          },
          "colorway": [
           "#636efa",
           "#EF553B",
           "#00cc96",
           "#ab63fa",
           "#FFA15A",
           "#19d3f3",
           "#FF6692",
           "#B6E880",
           "#FF97FF",
           "#FECB52"
          ],
          "font": {
           "color": "#2a3f5f"
          },
          "geo": {
           "bgcolor": "white",
           "lakecolor": "white",
           "landcolor": "white",
           "showlakes": true,
           "showland": true,
           "subunitcolor": "#C8D4E3"
          },
          "hoverlabel": {
           "align": "left"
          },
          "hovermode": "closest",
          "mapbox": {
           "style": "light"
          },
          "paper_bgcolor": "white",
          "plot_bgcolor": "white",
          "polar": {
           "angularaxis": {
            "gridcolor": "#EBF0F8",
            "linecolor": "#EBF0F8",
            "ticks": ""
           },
           "bgcolor": "white",
           "radialaxis": {
            "gridcolor": "#EBF0F8",
            "linecolor": "#EBF0F8",
            "ticks": ""
           }
          },
          "scene": {
           "xaxis": {
            "backgroundcolor": "white",
            "gridcolor": "#DFE8F3",
            "gridwidth": 2,
            "linecolor": "#EBF0F8",
            "showbackground": true,
            "ticks": "",
            "zerolinecolor": "#EBF0F8"
           },
           "yaxis": {
            "backgroundcolor": "white",
            "gridcolor": "#DFE8F3",
            "gridwidth": 2,
            "linecolor": "#EBF0F8",
            "showbackground": true,
            "ticks": "",
            "zerolinecolor": "#EBF0F8"
           },
           "zaxis": {
            "backgroundcolor": "white",
            "gridcolor": "#DFE8F3",
            "gridwidth": 2,
            "linecolor": "#EBF0F8",
            "showbackground": true,
            "ticks": "",
            "zerolinecolor": "#EBF0F8"
           }
          },
          "shapedefaults": {
           "line": {
            "color": "#2a3f5f"
           }
          },
          "ternary": {
           "aaxis": {
            "gridcolor": "#DFE8F3",
            "linecolor": "#A2B1C6",
            "ticks": ""
           },
           "baxis": {
            "gridcolor": "#DFE8F3",
            "linecolor": "#A2B1C6",
            "ticks": ""
           },
           "bgcolor": "white",
           "caxis": {
            "gridcolor": "#DFE8F3",
            "linecolor": "#A2B1C6",
            "ticks": ""
           }
          },
          "title": {
           "x": 0.05
          },
          "xaxis": {
           "automargin": true,
           "gridcolor": "#EBF0F8",
           "linecolor": "#EBF0F8",
           "ticks": "",
           "title": {
            "standoff": 15
           },
           "zerolinecolor": "#EBF0F8",
           "zerolinewidth": 2
          },
          "yaxis": {
           "automargin": true,
           "gridcolor": "#EBF0F8",
           "linecolor": "#EBF0F8",
           "ticks": "",
           "title": {
            "standoff": 15
           },
           "zerolinecolor": "#EBF0F8",
           "zerolinewidth": 2
          }
         }
        },
        "title": {
         "text": "Distribución de BLUETOOTH antes y después de la imputación"
        },
        "width": 1200,
        "xaxis": {
         "tickfont": {
          "color": "#e6e6e7"
         },
         "title": {
          "standoff": 40,
          "text": "Bluetooth"
         }
        }
       }
      }
     },
     "metadata": {},
     "output_type": "display_data"
    }
   ],
   "source": [
    "# Conteo antes y después\n",
    "antes_bt = df_antes['bluetooth'].value_counts()\n",
    "despues_bt = df_bmw['bluetooth'].value_counts()\n",
    "\n",
    "# Obtener valores para Sí y No (True y False)\n",
    "antes_si = antes_bt.get(True, 0)\n",
    "antes_no = antes_bt.get(False, 0)\n",
    "despues_si = despues_bt.get(True, 0)\n",
    "despues_no = despues_bt.get(False, 0)\n",
    "\n",
    "# Etiquetas para eje X (no visibles, se ocultan con color de fondo)\n",
    "x_vals = ['Antes - Sí', 'Antes - No', 'Después - Sí', 'Después - No']\n",
    "y_vals = [antes_si, antes_no, despues_si, despues_no]\n",
    "colors = ['#373485', '#373485', '#c52b30', '#c52b30']\n",
    "\n",
    "fig = go.Figure()\n",
    "\n",
    "fig.add_trace(go.Bar(\n",
    "    x=x_vals,\n",
    "    y=y_vals,\n",
    "    marker_color=colors,\n",
    "    text=y_vals,\n",
    "    textposition='outside',\n",
    "    opacity=1,\n",
    "    name='Bluetooth'\n",
    "))\n",
    "\n",
    "fig.update_layout(\n",
    "    title=\"Distribución de BLUETOOTH antes y después de la imputación\",\n",
    "    xaxis_title=\"Bluetooth\",\n",
    "    template='plotly_white',\n",
    "    width=1200,\n",
    "    height=470,\n",
    "    plot_bgcolor='#e6e6e7',\n",
    "    paper_bgcolor='#e6e6e7',\n",
    "    xaxis=dict(\n",
    "        tickfont=dict(color='#e6e6e7'),  # Oculta etiquetas eje X\n",
    "        title_standoff=40\n",
    "    )\n",
    ")\n",
    "\n",
    "# Anotaciones para cada barra: 'Sí' o 'No'\n",
    "anotaciones = [\n",
    "    {'x': 0, 'text': 'Sí'},\n",
    "    {'x': 1, 'text': 'No'},\n",
    "    {'x': 2, 'text': 'Sí'},\n",
    "    {'x': 3, 'text': 'No'},\n",
    "]\n",
    "\n",
    "for a in anotaciones:\n",
    "    fig.add_annotation(\n",
    "        x=a['x'],\n",
    "        y=-0.08,\n",
    "        text=a['text'],\n",
    "        showarrow=False,\n",
    "        xref=\"x\",\n",
    "        yref=\"paper\",\n",
    "        font=dict(size=14, color=\"black\")\n",
    "    )\n",
    "\n",
    "# Anotaciones para 'Antes' y 'Después' centradas\n",
    "fig.add_annotation(x=0.5, y=-0.13, text=\"Antes\", showarrow=False,\n",
    "                   xref=\"x\", yref=\"paper\", font=dict(size=14, color=\"black\"))\n",
    "fig.add_annotation(x=2.5, y=-0.13, text=\"Después\", showarrow=False,\n",
    "                   xref=\"x\", yref=\"paper\", font=dict(size=14, color=\"black\"))\n",
    "\n",
    "fig.show()"
   ]
  },
  {
   "cell_type": "markdown",
   "id": "87aa0305",
   "metadata": {},
   "source": [
    "### **COLUMNA ALERTA LIMITE VELOCIDAD**"
   ]
  },
  {
   "cell_type": "code",
   "execution_count": 74,
   "id": "ab6df65a",
   "metadata": {},
   "outputs": [
    {
     "data": {
      "text/html": [
       "<div>\n",
       "<style scoped>\n",
       "    .dataframe tbody tr th:only-of-type {\n",
       "        vertical-align: middle;\n",
       "    }\n",
       "\n",
       "    .dataframe tbody tr th {\n",
       "        vertical-align: top;\n",
       "    }\n",
       "\n",
       "    .dataframe thead th {\n",
       "        text-align: right;\n",
       "    }\n",
       "</style>\n",
       "<table border=\"1\" class=\"dataframe\">\n",
       "  <thead>\n",
       "    <tr style=\"text-align: right;\">\n",
       "      <th></th>\n",
       "      <th>NULOS</th>\n",
       "      <th>% NULOS</th>\n",
       "      <th>VALORES UNICOS</th>\n",
       "    </tr>\n",
       "  </thead>\n",
       "  <tbody>\n",
       "    <tr>\n",
       "      <th>alerta_lim_velocidad</th>\n",
       "      <td>722</td>\n",
       "      <td>14.988582</td>\n",
       "      <td>2</td>\n",
       "    </tr>\n",
       "  </tbody>\n",
       "</table>\n",
       "</div>"
      ],
      "text/plain": [
       "                      NULOS    % NULOS  VALORES UNICOS\n",
       "alerta_lim_velocidad    722  14.988582               2"
      ]
     },
     "execution_count": 74,
     "metadata": {},
     "output_type": "execute_result"
    }
   ],
   "source": [
    "tabla_nulos(df_bmw).loc[['alerta_lim_velocidad']]"
   ]
  },
  {
   "cell_type": "code",
   "execution_count": 75,
   "id": "4560763a",
   "metadata": {},
   "outputs": [
    {
     "data": {
      "text/plain": [
       "alerta_lim_velocidad\n",
       "True     0.462529\n",
       "False    0.387586\n",
       "NaN      0.149886\n",
       "Name: proportion, dtype: float64"
      ]
     },
     "execution_count": 75,
     "metadata": {},
     "output_type": "execute_result"
    }
   ],
   "source": [
    "distribuciones['alerta_lim_velocidad']"
   ]
  },
  {
   "cell_type": "code",
   "execution_count": 76,
   "id": "72c09919",
   "metadata": {},
   "outputs": [],
   "source": [
    "COLUMNS_1 = ['potencia', 'km']\n",
    "df_nulls_1 = df_bmw.groupby(COLUMNS_1)['alerta_lim_velocidad'].agg(lambda x: pd.Series.mode(x).iloc[0] if not pd.Series.mode(x).empty else np.nan).to_frame().reset_index()\n",
    "df_nulls_1 = df_nulls_1.dropna(subset=['alerta_lim_velocidad'])\n",
    "df_nulls_1.rename(columns={\"alerta_lim_velocidad\":\"alerta_lim_velocidad_1\"},inplace=True)\n",
    "\n",
    "COLUMNS_2 = ['modelo', 'potencia']\n",
    "df_nulls_2 = df_bmw.groupby(COLUMNS_2)['alerta_lim_velocidad'].agg(lambda x: pd.Series.mode(x).iloc[0] if not pd.Series.mode(x).empty else np.nan).to_frame().reset_index()\n",
    "df_nulls_2 = df_nulls_2.dropna(subset=['alerta_lim_velocidad'])\n",
    "df_nulls_2.rename(columns={\"alerta_lim_velocidad\":\"alerta_lim_velocidad_2\"},inplace=True)\n",
    "\n",
    "COLUMNS_3 = ['tipo_coche']\n",
    "moda_global = df_bmw['alerta_lim_velocidad'].mode().iloc[0]\n",
    "df_nulls_3 = df_bmw[df_bmw['alerta_lim_velocidad'].isna()][['tipo_coche']].dropna().drop_duplicates()\n",
    "df_nulls_3['alerta_lim_velocidad_3'] = moda_global"
   ]
  },
  {
   "cell_type": "code",
   "execution_count": 77,
   "id": "cc4eeb73",
   "metadata": {},
   "outputs": [],
   "source": [
    "df_bmw = df_bmw.merge(df_nulls_1,how='left',left_on=COLUMNS_1,right_on=COLUMNS_1)\n",
    "df_bmw = df_bmw.merge(df_nulls_2,how='left',left_on=COLUMNS_2,right_on=COLUMNS_2)\n",
    "df_bmw = df_bmw.merge(df_nulls_3,how='left',left_on=COLUMNS_3,right_on=COLUMNS_3)\n",
    "\n",
    "df_bmw['alerta_lim_velocidad'] = df_bmw[['alerta_lim_velocidad','alerta_lim_velocidad_1','alerta_lim_velocidad_2','alerta_lim_velocidad_3']].bfill(axis=1).iloc[:, 0]\n",
    "\n",
    "df_bmw.drop(columns=['alerta_lim_velocidad_1','alerta_lim_velocidad_2','alerta_lim_velocidad_3'],inplace=True)"
   ]
  },
  {
   "cell_type": "code",
   "execution_count": 78,
   "id": "0bfb6009",
   "metadata": {},
   "outputs": [
    {
     "data": {
      "text/html": [
       "<div>\n",
       "<style scoped>\n",
       "    .dataframe tbody tr th:only-of-type {\n",
       "        vertical-align: middle;\n",
       "    }\n",
       "\n",
       "    .dataframe tbody tr th {\n",
       "        vertical-align: top;\n",
       "    }\n",
       "\n",
       "    .dataframe thead th {\n",
       "        text-align: right;\n",
       "    }\n",
       "</style>\n",
       "<table border=\"1\" class=\"dataframe\">\n",
       "  <thead>\n",
       "    <tr style=\"text-align: right;\">\n",
       "      <th></th>\n",
       "      <th>NULOS</th>\n",
       "      <th>% NULOS</th>\n",
       "      <th>VALORES UNICOS</th>\n",
       "    </tr>\n",
       "  </thead>\n",
       "  <tbody>\n",
       "    <tr>\n",
       "      <th>alerta_lim_velocidad</th>\n",
       "      <td>0</td>\n",
       "      <td>0.0</td>\n",
       "      <td>2</td>\n",
       "    </tr>\n",
       "  </tbody>\n",
       "</table>\n",
       "</div>"
      ],
      "text/plain": [
       "                      NULOS  % NULOS  VALORES UNICOS\n",
       "alerta_lim_velocidad      0      0.0               2"
      ]
     },
     "execution_count": 78,
     "metadata": {},
     "output_type": "execute_result"
    }
   ],
   "source": [
    "tabla_nulos(df_bmw).loc[['alerta_lim_velocidad']]"
   ]
  },
  {
   "cell_type": "code",
   "execution_count": 79,
   "id": "b23b0064",
   "metadata": {},
   "outputs": [
    {
     "data": {
      "application/vnd.plotly.v1+json": {
       "config": {
        "plotlyServerURL": "https://plot.ly"
       },
       "data": [
        {
         "marker": {
          "color": "#373485"
         },
         "name": "Antes",
         "opacity": 1,
         "text": {
          "bdata": "AAAAAABMnUAAAAAAAIChQA==",
          "dtype": "f8"
         },
         "textposition": "outside",
         "type": "bar",
         "x": [
          "No",
          "Sí"
         ],
         "y": {
          "bdata": "UwfACA==",
          "dtype": "i2"
         }
        },
        {
         "marker": {
          "color": "#c52b30"
         },
         "name": "Después",
         "opacity": 1,
         "text": {
          "bdata": "AAAAAABkoUAAAAAAAD6kQA==",
          "dtype": "f8"
         },
         "textposition": "outside",
         "type": "bar",
         "x": [
          "No",
          "Sí"
         ],
         "y": {
          "bdata": "sggfCg==",
          "dtype": "i2"
         }
        }
       ],
       "layout": {
        "barmode": "group",
        "height": 470,
        "paper_bgcolor": "#e6e6e7",
        "plot_bgcolor": "#e6e6e7",
        "template": {
         "data": {
          "bar": [
           {
            "error_x": {
             "color": "#2a3f5f"
            },
            "error_y": {
             "color": "#2a3f5f"
            },
            "marker": {
             "line": {
              "color": "white",
              "width": 0.5
             },
             "pattern": {
              "fillmode": "overlay",
              "size": 10,
              "solidity": 0.2
             }
            },
            "type": "bar"
           }
          ],
          "barpolar": [
           {
            "marker": {
             "line": {
              "color": "white",
              "width": 0.5
             },
             "pattern": {
              "fillmode": "overlay",
              "size": 10,
              "solidity": 0.2
             }
            },
            "type": "barpolar"
           }
          ],
          "carpet": [
           {
            "aaxis": {
             "endlinecolor": "#2a3f5f",
             "gridcolor": "#C8D4E3",
             "linecolor": "#C8D4E3",
             "minorgridcolor": "#C8D4E3",
             "startlinecolor": "#2a3f5f"
            },
            "baxis": {
             "endlinecolor": "#2a3f5f",
             "gridcolor": "#C8D4E3",
             "linecolor": "#C8D4E3",
             "minorgridcolor": "#C8D4E3",
             "startlinecolor": "#2a3f5f"
            },
            "type": "carpet"
           }
          ],
          "choropleth": [
           {
            "colorbar": {
             "outlinewidth": 0,
             "ticks": ""
            },
            "type": "choropleth"
           }
          ],
          "contour": [
           {
            "colorbar": {
             "outlinewidth": 0,
             "ticks": ""
            },
            "colorscale": [
             [
              0,
              "#0d0887"
             ],
             [
              0.1111111111111111,
              "#46039f"
             ],
             [
              0.2222222222222222,
              "#7201a8"
             ],
             [
              0.3333333333333333,
              "#9c179e"
             ],
             [
              0.4444444444444444,
              "#bd3786"
             ],
             [
              0.5555555555555556,
              "#d8576b"
             ],
             [
              0.6666666666666666,
              "#ed7953"
             ],
             [
              0.7777777777777778,
              "#fb9f3a"
             ],
             [
              0.8888888888888888,
              "#fdca26"
             ],
             [
              1,
              "#f0f921"
             ]
            ],
            "type": "contour"
           }
          ],
          "contourcarpet": [
           {
            "colorbar": {
             "outlinewidth": 0,
             "ticks": ""
            },
            "type": "contourcarpet"
           }
          ],
          "heatmap": [
           {
            "colorbar": {
             "outlinewidth": 0,
             "ticks": ""
            },
            "colorscale": [
             [
              0,
              "#0d0887"
             ],
             [
              0.1111111111111111,
              "#46039f"
             ],
             [
              0.2222222222222222,
              "#7201a8"
             ],
             [
              0.3333333333333333,
              "#9c179e"
             ],
             [
              0.4444444444444444,
              "#bd3786"
             ],
             [
              0.5555555555555556,
              "#d8576b"
             ],
             [
              0.6666666666666666,
              "#ed7953"
             ],
             [
              0.7777777777777778,
              "#fb9f3a"
             ],
             [
              0.8888888888888888,
              "#fdca26"
             ],
             [
              1,
              "#f0f921"
             ]
            ],
            "type": "heatmap"
           }
          ],
          "histogram": [
           {
            "marker": {
             "pattern": {
              "fillmode": "overlay",
              "size": 10,
              "solidity": 0.2
             }
            },
            "type": "histogram"
           }
          ],
          "histogram2d": [
           {
            "colorbar": {
             "outlinewidth": 0,
             "ticks": ""
            },
            "colorscale": [
             [
              0,
              "#0d0887"
             ],
             [
              0.1111111111111111,
              "#46039f"
             ],
             [
              0.2222222222222222,
              "#7201a8"
             ],
             [
              0.3333333333333333,
              "#9c179e"
             ],
             [
              0.4444444444444444,
              "#bd3786"
             ],
             [
              0.5555555555555556,
              "#d8576b"
             ],
             [
              0.6666666666666666,
              "#ed7953"
             ],
             [
              0.7777777777777778,
              "#fb9f3a"
             ],
             [
              0.8888888888888888,
              "#fdca26"
             ],
             [
              1,
              "#f0f921"
             ]
            ],
            "type": "histogram2d"
           }
          ],
          "histogram2dcontour": [
           {
            "colorbar": {
             "outlinewidth": 0,
             "ticks": ""
            },
            "colorscale": [
             [
              0,
              "#0d0887"
             ],
             [
              0.1111111111111111,
              "#46039f"
             ],
             [
              0.2222222222222222,
              "#7201a8"
             ],
             [
              0.3333333333333333,
              "#9c179e"
             ],
             [
              0.4444444444444444,
              "#bd3786"
             ],
             [
              0.5555555555555556,
              "#d8576b"
             ],
             [
              0.6666666666666666,
              "#ed7953"
             ],
             [
              0.7777777777777778,
              "#fb9f3a"
             ],
             [
              0.8888888888888888,
              "#fdca26"
             ],
             [
              1,
              "#f0f921"
             ]
            ],
            "type": "histogram2dcontour"
           }
          ],
          "mesh3d": [
           {
            "colorbar": {
             "outlinewidth": 0,
             "ticks": ""
            },
            "type": "mesh3d"
           }
          ],
          "parcoords": [
           {
            "line": {
             "colorbar": {
              "outlinewidth": 0,
              "ticks": ""
             }
            },
            "type": "parcoords"
           }
          ],
          "pie": [
           {
            "automargin": true,
            "type": "pie"
           }
          ],
          "scatter": [
           {
            "fillpattern": {
             "fillmode": "overlay",
             "size": 10,
             "solidity": 0.2
            },
            "type": "scatter"
           }
          ],
          "scatter3d": [
           {
            "line": {
             "colorbar": {
              "outlinewidth": 0,
              "ticks": ""
             }
            },
            "marker": {
             "colorbar": {
              "outlinewidth": 0,
              "ticks": ""
             }
            },
            "type": "scatter3d"
           }
          ],
          "scattercarpet": [
           {
            "marker": {
             "colorbar": {
              "outlinewidth": 0,
              "ticks": ""
             }
            },
            "type": "scattercarpet"
           }
          ],
          "scattergeo": [
           {
            "marker": {
             "colorbar": {
              "outlinewidth": 0,
              "ticks": ""
             }
            },
            "type": "scattergeo"
           }
          ],
          "scattergl": [
           {
            "marker": {
             "colorbar": {
              "outlinewidth": 0,
              "ticks": ""
             }
            },
            "type": "scattergl"
           }
          ],
          "scattermap": [
           {
            "marker": {
             "colorbar": {
              "outlinewidth": 0,
              "ticks": ""
             }
            },
            "type": "scattermap"
           }
          ],
          "scattermapbox": [
           {
            "marker": {
             "colorbar": {
              "outlinewidth": 0,
              "ticks": ""
             }
            },
            "type": "scattermapbox"
           }
          ],
          "scatterpolar": [
           {
            "marker": {
             "colorbar": {
              "outlinewidth": 0,
              "ticks": ""
             }
            },
            "type": "scatterpolar"
           }
          ],
          "scatterpolargl": [
           {
            "marker": {
             "colorbar": {
              "outlinewidth": 0,
              "ticks": ""
             }
            },
            "type": "scatterpolargl"
           }
          ],
          "scatterternary": [
           {
            "marker": {
             "colorbar": {
              "outlinewidth": 0,
              "ticks": ""
             }
            },
            "type": "scatterternary"
           }
          ],
          "surface": [
           {
            "colorbar": {
             "outlinewidth": 0,
             "ticks": ""
            },
            "colorscale": [
             [
              0,
              "#0d0887"
             ],
             [
              0.1111111111111111,
              "#46039f"
             ],
             [
              0.2222222222222222,
              "#7201a8"
             ],
             [
              0.3333333333333333,
              "#9c179e"
             ],
             [
              0.4444444444444444,
              "#bd3786"
             ],
             [
              0.5555555555555556,
              "#d8576b"
             ],
             [
              0.6666666666666666,
              "#ed7953"
             ],
             [
              0.7777777777777778,
              "#fb9f3a"
             ],
             [
              0.8888888888888888,
              "#fdca26"
             ],
             [
              1,
              "#f0f921"
             ]
            ],
            "type": "surface"
           }
          ],
          "table": [
           {
            "cells": {
             "fill": {
              "color": "#EBF0F8"
             },
             "line": {
              "color": "white"
             }
            },
            "header": {
             "fill": {
              "color": "#C8D4E3"
             },
             "line": {
              "color": "white"
             }
            },
            "type": "table"
           }
          ]
         },
         "layout": {
          "annotationdefaults": {
           "arrowcolor": "#2a3f5f",
           "arrowhead": 0,
           "arrowwidth": 1
          },
          "autotypenumbers": "strict",
          "coloraxis": {
           "colorbar": {
            "outlinewidth": 0,
            "ticks": ""
           }
          },
          "colorscale": {
           "diverging": [
            [
             0,
             "#8e0152"
            ],
            [
             0.1,
             "#c51b7d"
            ],
            [
             0.2,
             "#de77ae"
            ],
            [
             0.3,
             "#f1b6da"
            ],
            [
             0.4,
             "#fde0ef"
            ],
            [
             0.5,
             "#f7f7f7"
            ],
            [
             0.6,
             "#e6f5d0"
            ],
            [
             0.7,
             "#b8e186"
            ],
            [
             0.8,
             "#7fbc41"
            ],
            [
             0.9,
             "#4d9221"
            ],
            [
             1,
             "#276419"
            ]
           ],
           "sequential": [
            [
             0,
             "#0d0887"
            ],
            [
             0.1111111111111111,
             "#46039f"
            ],
            [
             0.2222222222222222,
             "#7201a8"
            ],
            [
             0.3333333333333333,
             "#9c179e"
            ],
            [
             0.4444444444444444,
             "#bd3786"
            ],
            [
             0.5555555555555556,
             "#d8576b"
            ],
            [
             0.6666666666666666,
             "#ed7953"
            ],
            [
             0.7777777777777778,
             "#fb9f3a"
            ],
            [
             0.8888888888888888,
             "#fdca26"
            ],
            [
             1,
             "#f0f921"
            ]
           ],
           "sequentialminus": [
            [
             0,
             "#0d0887"
            ],
            [
             0.1111111111111111,
             "#46039f"
            ],
            [
             0.2222222222222222,
             "#7201a8"
            ],
            [
             0.3333333333333333,
             "#9c179e"
            ],
            [
             0.4444444444444444,
             "#bd3786"
            ],
            [
             0.5555555555555556,
             "#d8576b"
            ],
            [
             0.6666666666666666,
             "#ed7953"
            ],
            [
             0.7777777777777778,
             "#fb9f3a"
            ],
            [
             0.8888888888888888,
             "#fdca26"
            ],
            [
             1,
             "#f0f921"
            ]
           ]
          },
          "colorway": [
           "#636efa",
           "#EF553B",
           "#00cc96",
           "#ab63fa",
           "#FFA15A",
           "#19d3f3",
           "#FF6692",
           "#B6E880",
           "#FF97FF",
           "#FECB52"
          ],
          "font": {
           "color": "#2a3f5f"
          },
          "geo": {
           "bgcolor": "white",
           "lakecolor": "white",
           "landcolor": "white",
           "showlakes": true,
           "showland": true,
           "subunitcolor": "#C8D4E3"
          },
          "hoverlabel": {
           "align": "left"
          },
          "hovermode": "closest",
          "mapbox": {
           "style": "light"
          },
          "paper_bgcolor": "white",
          "plot_bgcolor": "white",
          "polar": {
           "angularaxis": {
            "gridcolor": "#EBF0F8",
            "linecolor": "#EBF0F8",
            "ticks": ""
           },
           "bgcolor": "white",
           "radialaxis": {
            "gridcolor": "#EBF0F8",
            "linecolor": "#EBF0F8",
            "ticks": ""
           }
          },
          "scene": {
           "xaxis": {
            "backgroundcolor": "white",
            "gridcolor": "#DFE8F3",
            "gridwidth": 2,
            "linecolor": "#EBF0F8",
            "showbackground": true,
            "ticks": "",
            "zerolinecolor": "#EBF0F8"
           },
           "yaxis": {
            "backgroundcolor": "white",
            "gridcolor": "#DFE8F3",
            "gridwidth": 2,
            "linecolor": "#EBF0F8",
            "showbackground": true,
            "ticks": "",
            "zerolinecolor": "#EBF0F8"
           },
           "zaxis": {
            "backgroundcolor": "white",
            "gridcolor": "#DFE8F3",
            "gridwidth": 2,
            "linecolor": "#EBF0F8",
            "showbackground": true,
            "ticks": "",
            "zerolinecolor": "#EBF0F8"
           }
          },
          "shapedefaults": {
           "line": {
            "color": "#2a3f5f"
           }
          },
          "ternary": {
           "aaxis": {
            "gridcolor": "#DFE8F3",
            "linecolor": "#A2B1C6",
            "ticks": ""
           },
           "baxis": {
            "gridcolor": "#DFE8F3",
            "linecolor": "#A2B1C6",
            "ticks": ""
           },
           "bgcolor": "white",
           "caxis": {
            "gridcolor": "#DFE8F3",
            "linecolor": "#A2B1C6",
            "ticks": ""
           }
          },
          "title": {
           "x": 0.05
          },
          "xaxis": {
           "automargin": true,
           "gridcolor": "#EBF0F8",
           "linecolor": "#EBF0F8",
           "ticks": "",
           "title": {
            "standoff": 15
           },
           "zerolinecolor": "#EBF0F8",
           "zerolinewidth": 2
          },
          "yaxis": {
           "automargin": true,
           "gridcolor": "#EBF0F8",
           "linecolor": "#EBF0F8",
           "ticks": "",
           "title": {
            "standoff": 15
           },
           "zerolinecolor": "#EBF0F8",
           "zerolinewidth": 2
          }
         }
        },
        "title": {
         "text": "Distribución de ALERTA LÍMITE DE VELOCIDAD antes y después de la imputación"
        },
        "width": 800,
        "xaxis": {
         "title": {
          "text": "Alerta límite velocidad"
         }
        }
       }
      }
     },
     "metadata": {},
     "output_type": "display_data"
    }
   ],
   "source": [
    "# Conteo antes y después\n",
    "antes_alerta = df_antes['alerta_lim_velocidad'].value_counts().sort_index()\n",
    "despues_alerta = df_bmw['alerta_lim_velocidad'].value_counts().sort_index()\n",
    "\n",
    "# Diccionario para etiquetas personalizadas\n",
    "etiquetas = {False: 'No', True: 'Sí'}\n",
    "\n",
    "# Convertir índices a etiquetas personalizadas\n",
    "x_labels_antes = [etiquetas.get(i, str(i)) for i in antes_alerta.index]\n",
    "x_labels_despues = [etiquetas.get(i, str(i)) for i in despues_alerta.index]\n",
    "\n",
    "fig = go.Figure()\n",
    "\n",
    "fig.add_trace(go.Bar(\n",
    "    x=x_labels_antes,\n",
    "    y=antes_alerta.values,\n",
    "    name='Antes',\n",
    "    marker_color='#373485',\n",
    "    opacity=1,\n",
    "    text=antes_alerta.values,\n",
    "    textposition='outside'\n",
    "))\n",
    "\n",
    "fig.add_trace(go.Bar(\n",
    "    x=x_labels_despues,\n",
    "    y=despues_alerta.values,\n",
    "    name='Después',\n",
    "    marker_color='#c52b30',\n",
    "    opacity=1,\n",
    "    text=despues_alerta.values,\n",
    "    textposition='outside'\n",
    "))\n",
    "\n",
    "fig.update_layout(\n",
    "    title=\"Distribución de ALERTA LÍMITE DE VELOCIDAD antes y después de la imputación\",\n",
    "    xaxis_title=\"Alerta límite velocidad\",\n",
    "    barmode='group',\n",
    "    template='plotly_white',\n",
    "    width=800,\n",
    "    height=470,\n",
    "    plot_bgcolor='#e6e6e7', \n",
    "    paper_bgcolor='#e6e6e7'\n",
    ")\n",
    "\n",
    "fig.show()"
   ]
  },
  {
   "cell_type": "code",
   "execution_count": 80,
   "id": "37408b83",
   "metadata": {},
   "outputs": [
    {
     "data": {
      "application/vnd.plotly.v1+json": {
       "config": {
        "plotlyServerURL": "https://plot.ly"
       },
       "data": [
        {
         "marker": {
          "color": [
           "#373485",
           "#373485",
           "#c52b30",
           "#c52b30"
          ]
         },
         "name": "Alerta límite velocidad",
         "opacity": 1,
         "text": [
          "2240",
          "1875",
          "2591",
          "2226"
         ],
         "textposition": "outside",
         "type": "bar",
         "x": [
          "Antes - Sí",
          "Antes - No",
          "Después - Sí",
          "Después - No"
         ],
         "y": [
          2240,
          1875,
          2591,
          2226
         ]
        }
       ],
       "layout": {
        "annotations": [
         {
          "font": {
           "color": "black",
           "size": 14
          },
          "showarrow": false,
          "text": "Sí",
          "x": 0,
          "xref": "x",
          "y": -0.08,
          "yref": "paper"
         },
         {
          "font": {
           "color": "black",
           "size": 14
          },
          "showarrow": false,
          "text": "No",
          "x": 1,
          "xref": "x",
          "y": -0.08,
          "yref": "paper"
         },
         {
          "font": {
           "color": "black",
           "size": 14
          },
          "showarrow": false,
          "text": "Sí",
          "x": 2,
          "xref": "x",
          "y": -0.08,
          "yref": "paper"
         },
         {
          "font": {
           "color": "black",
           "size": 14
          },
          "showarrow": false,
          "text": "No",
          "x": 3,
          "xref": "x",
          "y": -0.08,
          "yref": "paper"
         },
         {
          "font": {
           "color": "black",
           "size": 14
          },
          "showarrow": false,
          "text": "Antes",
          "x": 0.5,
          "xref": "x",
          "y": -0.13,
          "yref": "paper"
         },
         {
          "font": {
           "color": "black",
           "size": 14
          },
          "showarrow": false,
          "text": "Después",
          "x": 2.5,
          "xref": "x",
          "y": -0.13,
          "yref": "paper"
         }
        ],
        "height": 470,
        "paper_bgcolor": "#e6e6e7",
        "plot_bgcolor": "#e6e6e7",
        "template": {
         "data": {
          "bar": [
           {
            "error_x": {
             "color": "#2a3f5f"
            },
            "error_y": {
             "color": "#2a3f5f"
            },
            "marker": {
             "line": {
              "color": "white",
              "width": 0.5
             },
             "pattern": {
              "fillmode": "overlay",
              "size": 10,
              "solidity": 0.2
             }
            },
            "type": "bar"
           }
          ],
          "barpolar": [
           {
            "marker": {
             "line": {
              "color": "white",
              "width": 0.5
             },
             "pattern": {
              "fillmode": "overlay",
              "size": 10,
              "solidity": 0.2
             }
            },
            "type": "barpolar"
           }
          ],
          "carpet": [
           {
            "aaxis": {
             "endlinecolor": "#2a3f5f",
             "gridcolor": "#C8D4E3",
             "linecolor": "#C8D4E3",
             "minorgridcolor": "#C8D4E3",
             "startlinecolor": "#2a3f5f"
            },
            "baxis": {
             "endlinecolor": "#2a3f5f",
             "gridcolor": "#C8D4E3",
             "linecolor": "#C8D4E3",
             "minorgridcolor": "#C8D4E3",
             "startlinecolor": "#2a3f5f"
            },
            "type": "carpet"
           }
          ],
          "choropleth": [
           {
            "colorbar": {
             "outlinewidth": 0,
             "ticks": ""
            },
            "type": "choropleth"
           }
          ],
          "contour": [
           {
            "colorbar": {
             "outlinewidth": 0,
             "ticks": ""
            },
            "colorscale": [
             [
              0,
              "#0d0887"
             ],
             [
              0.1111111111111111,
              "#46039f"
             ],
             [
              0.2222222222222222,
              "#7201a8"
             ],
             [
              0.3333333333333333,
              "#9c179e"
             ],
             [
              0.4444444444444444,
              "#bd3786"
             ],
             [
              0.5555555555555556,
              "#d8576b"
             ],
             [
              0.6666666666666666,
              "#ed7953"
             ],
             [
              0.7777777777777778,
              "#fb9f3a"
             ],
             [
              0.8888888888888888,
              "#fdca26"
             ],
             [
              1,
              "#f0f921"
             ]
            ],
            "type": "contour"
           }
          ],
          "contourcarpet": [
           {
            "colorbar": {
             "outlinewidth": 0,
             "ticks": ""
            },
            "type": "contourcarpet"
           }
          ],
          "heatmap": [
           {
            "colorbar": {
             "outlinewidth": 0,
             "ticks": ""
            },
            "colorscale": [
             [
              0,
              "#0d0887"
             ],
             [
              0.1111111111111111,
              "#46039f"
             ],
             [
              0.2222222222222222,
              "#7201a8"
             ],
             [
              0.3333333333333333,
              "#9c179e"
             ],
             [
              0.4444444444444444,
              "#bd3786"
             ],
             [
              0.5555555555555556,
              "#d8576b"
             ],
             [
              0.6666666666666666,
              "#ed7953"
             ],
             [
              0.7777777777777778,
              "#fb9f3a"
             ],
             [
              0.8888888888888888,
              "#fdca26"
             ],
             [
              1,
              "#f0f921"
             ]
            ],
            "type": "heatmap"
           }
          ],
          "histogram": [
           {
            "marker": {
             "pattern": {
              "fillmode": "overlay",
              "size": 10,
              "solidity": 0.2
             }
            },
            "type": "histogram"
           }
          ],
          "histogram2d": [
           {
            "colorbar": {
             "outlinewidth": 0,
             "ticks": ""
            },
            "colorscale": [
             [
              0,
              "#0d0887"
             ],
             [
              0.1111111111111111,
              "#46039f"
             ],
             [
              0.2222222222222222,
              "#7201a8"
             ],
             [
              0.3333333333333333,
              "#9c179e"
             ],
             [
              0.4444444444444444,
              "#bd3786"
             ],
             [
              0.5555555555555556,
              "#d8576b"
             ],
             [
              0.6666666666666666,
              "#ed7953"
             ],
             [
              0.7777777777777778,
              "#fb9f3a"
             ],
             [
              0.8888888888888888,
              "#fdca26"
             ],
             [
              1,
              "#f0f921"
             ]
            ],
            "type": "histogram2d"
           }
          ],
          "histogram2dcontour": [
           {
            "colorbar": {
             "outlinewidth": 0,
             "ticks": ""
            },
            "colorscale": [
             [
              0,
              "#0d0887"
             ],
             [
              0.1111111111111111,
              "#46039f"
             ],
             [
              0.2222222222222222,
              "#7201a8"
             ],
             [
              0.3333333333333333,
              "#9c179e"
             ],
             [
              0.4444444444444444,
              "#bd3786"
             ],
             [
              0.5555555555555556,
              "#d8576b"
             ],
             [
              0.6666666666666666,
              "#ed7953"
             ],
             [
              0.7777777777777778,
              "#fb9f3a"
             ],
             [
              0.8888888888888888,
              "#fdca26"
             ],
             [
              1,
              "#f0f921"
             ]
            ],
            "type": "histogram2dcontour"
           }
          ],
          "mesh3d": [
           {
            "colorbar": {
             "outlinewidth": 0,
             "ticks": ""
            },
            "type": "mesh3d"
           }
          ],
          "parcoords": [
           {
            "line": {
             "colorbar": {
              "outlinewidth": 0,
              "ticks": ""
             }
            },
            "type": "parcoords"
           }
          ],
          "pie": [
           {
            "automargin": true,
            "type": "pie"
           }
          ],
          "scatter": [
           {
            "fillpattern": {
             "fillmode": "overlay",
             "size": 10,
             "solidity": 0.2
            },
            "type": "scatter"
           }
          ],
          "scatter3d": [
           {
            "line": {
             "colorbar": {
              "outlinewidth": 0,
              "ticks": ""
             }
            },
            "marker": {
             "colorbar": {
              "outlinewidth": 0,
              "ticks": ""
             }
            },
            "type": "scatter3d"
           }
          ],
          "scattercarpet": [
           {
            "marker": {
             "colorbar": {
              "outlinewidth": 0,
              "ticks": ""
             }
            },
            "type": "scattercarpet"
           }
          ],
          "scattergeo": [
           {
            "marker": {
             "colorbar": {
              "outlinewidth": 0,
              "ticks": ""
             }
            },
            "type": "scattergeo"
           }
          ],
          "scattergl": [
           {
            "marker": {
             "colorbar": {
              "outlinewidth": 0,
              "ticks": ""
             }
            },
            "type": "scattergl"
           }
          ],
          "scattermap": [
           {
            "marker": {
             "colorbar": {
              "outlinewidth": 0,
              "ticks": ""
             }
            },
            "type": "scattermap"
           }
          ],
          "scattermapbox": [
           {
            "marker": {
             "colorbar": {
              "outlinewidth": 0,
              "ticks": ""
             }
            },
            "type": "scattermapbox"
           }
          ],
          "scatterpolar": [
           {
            "marker": {
             "colorbar": {
              "outlinewidth": 0,
              "ticks": ""
             }
            },
            "type": "scatterpolar"
           }
          ],
          "scatterpolargl": [
           {
            "marker": {
             "colorbar": {
              "outlinewidth": 0,
              "ticks": ""
             }
            },
            "type": "scatterpolargl"
           }
          ],
          "scatterternary": [
           {
            "marker": {
             "colorbar": {
              "outlinewidth": 0,
              "ticks": ""
             }
            },
            "type": "scatterternary"
           }
          ],
          "surface": [
           {
            "colorbar": {
             "outlinewidth": 0,
             "ticks": ""
            },
            "colorscale": [
             [
              0,
              "#0d0887"
             ],
             [
              0.1111111111111111,
              "#46039f"
             ],
             [
              0.2222222222222222,
              "#7201a8"
             ],
             [
              0.3333333333333333,
              "#9c179e"
             ],
             [
              0.4444444444444444,
              "#bd3786"
             ],
             [
              0.5555555555555556,
              "#d8576b"
             ],
             [
              0.6666666666666666,
              "#ed7953"
             ],
             [
              0.7777777777777778,
              "#fb9f3a"
             ],
             [
              0.8888888888888888,
              "#fdca26"
             ],
             [
              1,
              "#f0f921"
             ]
            ],
            "type": "surface"
           }
          ],
          "table": [
           {
            "cells": {
             "fill": {
              "color": "#EBF0F8"
             },
             "line": {
              "color": "white"
             }
            },
            "header": {
             "fill": {
              "color": "#C8D4E3"
             },
             "line": {
              "color": "white"
             }
            },
            "type": "table"
           }
          ]
         },
         "layout": {
          "annotationdefaults": {
           "arrowcolor": "#2a3f5f",
           "arrowhead": 0,
           "arrowwidth": 1
          },
          "autotypenumbers": "strict",
          "coloraxis": {
           "colorbar": {
            "outlinewidth": 0,
            "ticks": ""
           }
          },
          "colorscale": {
           "diverging": [
            [
             0,
             "#8e0152"
            ],
            [
             0.1,
             "#c51b7d"
            ],
            [
             0.2,
             "#de77ae"
            ],
            [
             0.3,
             "#f1b6da"
            ],
            [
             0.4,
             "#fde0ef"
            ],
            [
             0.5,
             "#f7f7f7"
            ],
            [
             0.6,
             "#e6f5d0"
            ],
            [
             0.7,
             "#b8e186"
            ],
            [
             0.8,
             "#7fbc41"
            ],
            [
             0.9,
             "#4d9221"
            ],
            [
             1,
             "#276419"
            ]
           ],
           "sequential": [
            [
             0,
             "#0d0887"
            ],
            [
             0.1111111111111111,
             "#46039f"
            ],
            [
             0.2222222222222222,
             "#7201a8"
            ],
            [
             0.3333333333333333,
             "#9c179e"
            ],
            [
             0.4444444444444444,
             "#bd3786"
            ],
            [
             0.5555555555555556,
             "#d8576b"
            ],
            [
             0.6666666666666666,
             "#ed7953"
            ],
            [
             0.7777777777777778,
             "#fb9f3a"
            ],
            [
             0.8888888888888888,
             "#fdca26"
            ],
            [
             1,
             "#f0f921"
            ]
           ],
           "sequentialminus": [
            [
             0,
             "#0d0887"
            ],
            [
             0.1111111111111111,
             "#46039f"
            ],
            [
             0.2222222222222222,
             "#7201a8"
            ],
            [
             0.3333333333333333,
             "#9c179e"
            ],
            [
             0.4444444444444444,
             "#bd3786"
            ],
            [
             0.5555555555555556,
             "#d8576b"
            ],
            [
             0.6666666666666666,
             "#ed7953"
            ],
            [
             0.7777777777777778,
             "#fb9f3a"
            ],
            [
             0.8888888888888888,
             "#fdca26"
            ],
            [
             1,
             "#f0f921"
            ]
           ]
          },
          "colorway": [
           "#636efa",
           "#EF553B",
           "#00cc96",
           "#ab63fa",
           "#FFA15A",
           "#19d3f3",
           "#FF6692",
           "#B6E880",
           "#FF97FF",
           "#FECB52"
          ],
          "font": {
           "color": "#2a3f5f"
          },
          "geo": {
           "bgcolor": "white",
           "lakecolor": "white",
           "landcolor": "white",
           "showlakes": true,
           "showland": true,
           "subunitcolor": "#C8D4E3"
          },
          "hoverlabel": {
           "align": "left"
          },
          "hovermode": "closest",
          "mapbox": {
           "style": "light"
          },
          "paper_bgcolor": "white",
          "plot_bgcolor": "white",
          "polar": {
           "angularaxis": {
            "gridcolor": "#EBF0F8",
            "linecolor": "#EBF0F8",
            "ticks": ""
           },
           "bgcolor": "white",
           "radialaxis": {
            "gridcolor": "#EBF0F8",
            "linecolor": "#EBF0F8",
            "ticks": ""
           }
          },
          "scene": {
           "xaxis": {
            "backgroundcolor": "white",
            "gridcolor": "#DFE8F3",
            "gridwidth": 2,
            "linecolor": "#EBF0F8",
            "showbackground": true,
            "ticks": "",
            "zerolinecolor": "#EBF0F8"
           },
           "yaxis": {
            "backgroundcolor": "white",
            "gridcolor": "#DFE8F3",
            "gridwidth": 2,
            "linecolor": "#EBF0F8",
            "showbackground": true,
            "ticks": "",
            "zerolinecolor": "#EBF0F8"
           },
           "zaxis": {
            "backgroundcolor": "white",
            "gridcolor": "#DFE8F3",
            "gridwidth": 2,
            "linecolor": "#EBF0F8",
            "showbackground": true,
            "ticks": "",
            "zerolinecolor": "#EBF0F8"
           }
          },
          "shapedefaults": {
           "line": {
            "color": "#2a3f5f"
           }
          },
          "ternary": {
           "aaxis": {
            "gridcolor": "#DFE8F3",
            "linecolor": "#A2B1C6",
            "ticks": ""
           },
           "baxis": {
            "gridcolor": "#DFE8F3",
            "linecolor": "#A2B1C6",
            "ticks": ""
           },
           "bgcolor": "white",
           "caxis": {
            "gridcolor": "#DFE8F3",
            "linecolor": "#A2B1C6",
            "ticks": ""
           }
          },
          "title": {
           "x": 0.05
          },
          "xaxis": {
           "automargin": true,
           "gridcolor": "#EBF0F8",
           "linecolor": "#EBF0F8",
           "ticks": "",
           "title": {
            "standoff": 15
           },
           "zerolinecolor": "#EBF0F8",
           "zerolinewidth": 2
          },
          "yaxis": {
           "automargin": true,
           "gridcolor": "#EBF0F8",
           "linecolor": "#EBF0F8",
           "ticks": "",
           "title": {
            "standoff": 15
           },
           "zerolinecolor": "#EBF0F8",
           "zerolinewidth": 2
          }
         }
        },
        "title": {
         "text": "Distribución de ALERTA LÍMITE DE VELOCIDAD antes y después de la imputación"
        },
        "width": 800,
        "xaxis": {
         "tickfont": {
          "color": "#e6e6e7"
         },
         "title": {
          "standoff": 40,
          "text": "Alerta límite velocidad"
         }
        }
       }
      }
     },
     "metadata": {},
     "output_type": "display_data"
    }
   ],
   "source": [
    "import plotly.graph_objects as go\n",
    "\n",
    "# Valores\n",
    "antes_si = antes_alerta.get(True, 0)\n",
    "antes_no = antes_alerta.get(False, 0)\n",
    "despues_si = despues_alerta.get(True, 0)\n",
    "despues_no = despues_alerta.get(False, 0)\n",
    "\n",
    "# Etiquetas para el eje X (no se verán porque las ocultamos visualmente)\n",
    "x_vals = ['Antes - Sí', 'Antes - No', 'Después - Sí', 'Después - No']\n",
    "y_vals = [ antes_si, antes_no, despues_si, despues_no,]\n",
    "colors = ['#373485', '#373485', '#c52b30', '#c52b30']\n",
    "\n",
    "fig = go.Figure()\n",
    "\n",
    "fig.add_trace(go.Bar(\n",
    "    x=x_vals,\n",
    "    y=y_vals,\n",
    "    marker_color=colors,\n",
    "    text=y_vals,\n",
    "    textposition='outside',\n",
    "    opacity=1,\n",
    "    name='Alerta límite velocidad'\n",
    "))\n",
    "\n",
    "fig.update_layout(\n",
    "    title=\"Distribución de ALERTA LÍMITE DE VELOCIDAD antes y después de la imputación\",\n",
    "    xaxis_title=\"Alerta límite velocidad\",\n",
    "    template='plotly_white',\n",
    "    width=800,\n",
    "    height=470,\n",
    "    plot_bgcolor='#e6e6e7',\n",
    "    paper_bgcolor='#e6e6e7',\n",
    "    xaxis=dict(\n",
    "        tickfont=dict(color='#e6e6e7'),  # Oculta los ticks del eje X con color igual al fondo\n",
    "        title_standoff=40\n",
    "    )\n",
    ")\n",
    "\n",
    "# Añadir anotaciones para cada barra: 'Sí' o 'No'\n",
    "anotaciones = [\n",
    "    {'x': 0, 'text': 'Sí'},\n",
    "    {'x': 1, 'text': 'No'},\n",
    "    {'x': 2, 'text': 'Sí'},\n",
    "    {'x': 3, 'text': 'No'},\n",
    "]\n",
    "\n",
    "for a in anotaciones:\n",
    "    fig.add_annotation(\n",
    "        x=a['x'],\n",
    "        y=-0.08,\n",
    "        text=a['text'],\n",
    "        showarrow=False,\n",
    "        xref=\"x\",\n",
    "        yref=\"paper\",\n",
    "        font=dict(size=14, color=\"black\")\n",
    "    )\n",
    "\n",
    "# Añadir anotaciones para 'Antes' y 'Después' centradas\n",
    "fig.add_annotation(x=0.5, y=-0.13, text=\"Antes\", showarrow=False,\n",
    "                   xref=\"x\", yref=\"paper\", font=dict(size=14, color=\"black\"))\n",
    "fig.add_annotation(x=2.5, y=-0.13, text=\"Después\", showarrow=False,\n",
    "                   xref=\"x\", yref=\"paper\", font=dict(size=14, color=\"black\"))\n",
    "\n",
    "fig.show()"
   ]
  },
  {
   "cell_type": "markdown",
   "id": "e60ff6ae",
   "metadata": {},
   "source": [
    "### **COLUMNA ASIENTOS TRASEROS PLEGABLES**"
   ]
  },
  {
   "cell_type": "code",
   "execution_count": 81,
   "id": "f1d7da92",
   "metadata": {},
   "outputs": [
    {
     "data": {
      "text/html": [
       "<div>\n",
       "<style scoped>\n",
       "    .dataframe tbody tr th:only-of-type {\n",
       "        vertical-align: middle;\n",
       "    }\n",
       "\n",
       "    .dataframe tbody tr th {\n",
       "        vertical-align: top;\n",
       "    }\n",
       "\n",
       "    .dataframe thead th {\n",
       "        text-align: right;\n",
       "    }\n",
       "</style>\n",
       "<table border=\"1\" class=\"dataframe\">\n",
       "  <thead>\n",
       "    <tr style=\"text-align: right;\">\n",
       "      <th></th>\n",
       "      <th>NULOS</th>\n",
       "      <th>% NULOS</th>\n",
       "      <th>VALORES UNICOS</th>\n",
       "    </tr>\n",
       "  </thead>\n",
       "  <tbody>\n",
       "    <tr>\n",
       "      <th>asientos_traseros_plegables</th>\n",
       "      <td>3373</td>\n",
       "      <td>70.022836</td>\n",
       "      <td>2</td>\n",
       "    </tr>\n",
       "  </tbody>\n",
       "</table>\n",
       "</div>"
      ],
      "text/plain": [
       "                             NULOS    % NULOS  VALORES UNICOS\n",
       "asientos_traseros_plegables   3373  70.022836               2"
      ]
     },
     "execution_count": 81,
     "metadata": {},
     "output_type": "execute_result"
    }
   ],
   "source": [
    "tabla_nulos(df_bmw).loc[['asientos_traseros_plegables']]"
   ]
  },
  {
   "cell_type": "code",
   "execution_count": 82,
   "id": "19000c2b",
   "metadata": {},
   "outputs": [
    {
     "data": {
      "text/plain": [
       "asientos_traseros_plegables\n",
       "NaN      0.700228\n",
       "False    0.237285\n",
       "True     0.062487\n",
       "Name: proportion, dtype: float64"
      ]
     },
     "execution_count": 82,
     "metadata": {},
     "output_type": "execute_result"
    }
   ],
   "source": [
    "distribuciones['asientos_traseros_plegables']"
   ]
  },
  {
   "cell_type": "markdown",
   "id": "bfb90e47",
   "metadata": {},
   "source": [
    "El **70 %** de los registros de esta columna presenta valores nulos, lo que reduce significativamente la fiabilidad de la variable. Además, si imputáramos los nulos utilizando la moda (teniendo en cuenta que el **80 %** de los valores no nulos son `False`), obtendríamos una distribución con más del **90 %** del mismo valor. La variable dejaría de aportar información relevante al modelo. Por este motivo, decidimos eliminar la columna. "
   ]
  },
  {
   "cell_type": "code",
   "execution_count": 83,
   "id": "f0525842",
   "metadata": {},
   "outputs": [
    {
     "name": "stdout",
     "output_type": "stream",
     "text": [
      "<class 'pandas.core.frame.DataFrame'>\n",
      "RangeIndex: 4817 entries, 0 to 4816\n",
      "Data columns (total 13 columns):\n",
      " #   Column                Non-Null Count  Dtype   \n",
      "---  ------                --------------  -----   \n",
      " 0   modelo                4817 non-null   object  \n",
      " 1   km                    4817 non-null   float64 \n",
      " 2   potencia              4817 non-null   float64 \n",
      " 3   tipo_coche            4817 non-null   object  \n",
      " 4   volante_regulable     4817 non-null   object  \n",
      " 5   aire_acondicionado    4817 non-null   bool    \n",
      " 6   camara_trasera        4817 non-null   object  \n",
      " 7   elevalunas_electrico  4817 non-null   object  \n",
      " 8   bluetooth             4817 non-null   bool    \n",
      " 9   alerta_lim_velocidad  4817 non-null   bool    \n",
      " 10  precio                4817 non-null   float64 \n",
      " 11  años_coche            4817 non-null   category\n",
      " 12  color_estandar        4817 non-null   float64 \n",
      "dtypes: bool(3), category(1), float64(4), object(5)\n",
      "memory usage: 358.0+ KB\n"
     ]
    }
   ],
   "source": [
    "# Borramos la columna 'asientos_traseros_plegables'\n",
    "df_bmw.drop(columns='asientos_traseros_plegables', inplace=True)\n",
    "\n",
    "# Comprobamos que se han eliminado correctamente\n",
    "df_bmw.info()"
   ]
  },
  {
   "cell_type": "markdown",
   "id": "8126b061",
   "metadata": {},
   "source": [
    "## **05 - ANÁLISIS EXPLORATORIO (EDA)**"
   ]
  },
  {
   "cell_type": "markdown",
   "id": "22eef609",
   "metadata": {},
   "source": [
    "### **5.1 - ANÁLISIS UNIVARIABLE**"
   ]
  },
  {
   "cell_type": "markdown",
   "id": "7cc79955",
   "metadata": {},
   "source": [
    "#### **OBSERVACIONES**\n",
    "\n",
    "- \n",
    "\n",
    "- \n",
    "\n",
    "- \n",
    "\n",
    "- \n"
   ]
  },
  {
   "cell_type": "code",
   "execution_count": 84,
   "id": "559761d1",
   "metadata": {},
   "outputs": [],
   "source": [
    "target = 'precio'\n",
    "features = df_bmw.columns[df_bmw.columns != target]"
   ]
  },
  {
   "cell_type": "code",
   "execution_count": 85,
   "id": "ef039b6d",
   "metadata": {},
   "outputs": [],
   "source": [
    "def obtener_lista_variables(dataset):\n",
    "    lista_numericas=[]\n",
    "    lista_boolean=[]\n",
    "    lista_categoricas=[]\n",
    "\n",
    "    for i in dataset:\n",
    "        if    (dataset[i].dtype.kind in (\"f\",\"i\")) and len(dataset[i].unique())!= 2  and i not in target:\n",
    "              lista_numericas.append(i)\n",
    "        elif  (dataset[i].dtype.kind in (\"f\",\"i\")) and len(dataset[i].unique())== 2  and i not in target:\n",
    "              lista_boolean.append(i)\n",
    "        elif  (dataset[i].dtype.kind == \"O\")  and i not in target:\n",
    "              lista_categoricas.append(i)\n",
    "                \n",
    "    return lista_numericas, lista_boolean, lista_categoricas"
   ]
  },
  {
   "cell_type": "code",
   "execution_count": 86,
   "id": "67733ecf",
   "metadata": {},
   "outputs": [],
   "source": [
    "lista_numericas, lista_boolean, lista_categoricas= obtener_lista_variables(df_bmw)"
   ]
  },
  {
   "cell_type": "code",
   "execution_count": 87,
   "id": "89ff56ae",
   "metadata": {},
   "outputs": [
    {
     "name": "stdout",
     "output_type": "stream",
     "text": [
      "La variables numericas son:  ['km', 'potencia']\n",
      "La variables booleanas son:  ['color_estandar']\n",
      "La variables categoricas son:  ['modelo', 'tipo_coche', 'volante_regulable', 'camara_trasera', 'elevalunas_electrico', 'años_coche']\n"
     ]
    }
   ],
   "source": [
    "print(\"La variables numericas son: \", lista_numericas)\n",
    "print(\"La variables booleanas son: \", lista_boolean)\n",
    "print(\"La variables categoricas son: \", lista_categoricas)"
   ]
  },
  {
   "cell_type": "code",
   "execution_count": 88,
   "id": "47abcb5c",
   "metadata": {},
   "outputs": [
    {
     "name": "stdout",
     "output_type": "stream",
     "text": [
      "######################################## \n",
      " modelo\n",
      "320                747\n",
      "520                630\n",
      "318                565\n",
      "X3                 437\n",
      "116                358\n",
      "                  ... \n",
      "M135                 1\n",
      "225                  1\n",
      "i8                   1\n",
      "630                  1\n",
      "214 Gran Tourer      1\n",
      "Name: count, Length: 76, dtype: int64\n",
      "######################################## \n",
      " tipo_coche\n",
      "estate         1730\n",
      "suv            1058\n",
      "sedan          1034\n",
      "hatchback       733\n",
      "coupe           101\n",
      "subcompact       80\n",
      "van              41\n",
      "convertible      40\n",
      "Name: count, dtype: int64\n",
      "######################################## \n",
      " volante_regulable\n",
      "True     2651\n",
      "False    2166\n",
      "Name: count, dtype: int64\n",
      "######################################## \n",
      " camara_trasera\n",
      "False    3846\n",
      "True      971\n",
      "Name: count, dtype: int64\n",
      "######################################## \n",
      " elevalunas_electrico\n",
      "False    2599\n",
      "True     2218\n",
      "Name: count, dtype: int64\n",
      "######################################## \n",
      " años_coche\n",
      "4-6      3893\n",
      "1-3       348\n",
      "7-10      335\n",
      "11-15     193\n",
      "16-20      40\n",
      "21-25       7\n",
      ">25         1\n",
      "Name: count, dtype: int64\n"
     ]
    }
   ],
   "source": [
    "# Hacemos print del total de cada uno de los valores únicos de cada columna\n",
    "for column in lista_categoricas:\n",
    "    print(\"#\" * 40,'\\n',df_bmw[column].value_counts())\n",
    "    "
   ]
  },
  {
   "cell_type": "code",
   "execution_count": 89,
   "id": "6b5484ab",
   "metadata": {},
   "outputs": [],
   "source": [
    "def dist_box(df_bmw):\n",
    "    Name=df_bmw.name.upper()\n",
    "    fig,(ax_box,ax_dis)  =plt.subplots(nrows=2,sharex=True,gridspec_kw = {\"height_ratios\": (.25, .75)},figsize=(8, 5))\n",
    "    mean=df_bmw.mean()\n",
    "    median=df_bmw.median()\n",
    "    mode=df_bmw.mode().tolist()[0]\n",
    "    sns.set_theme(style=\"white\")\n",
    "    sns.set_palette(sns.color_palette(\"Set1\", 8))\n",
    "    fig.suptitle(\"DISPERSIÓN DE DATOS PARA \"+ Name  , fontsize=18, fontweight='bold')\n",
    "    sns.boxplot(x=df_bmw,showmeans=True, orient='h',ax=ax_box)\n",
    "    ax_box.set(xlabel='')\n",
    "    sns.set_palette(sns.color_palette(\"Set1\", 8))\n",
    "    sns.histplot(df_bmw,kde=False,ax=ax_dis)\n",
    "    ax_dis.axvline(mean, color='r', linestyle='--',linewidth=2)\n",
    "    ax_dis.axvline(median, color='g', linestyle='-',linewidth=2)\n",
    "    ax_dis.axvline(mode, color='y', linestyle='-',linewidth=2)\n",
    "    plt.legend({'Media':mean,'Mediana':median,'Moda':mode})\n",
    "list_col= df_bmw.select_dtypes(include='number').columns.to_list()"
   ]
  },
  {
   "cell_type": "code",
   "execution_count": 90,
   "id": "54e117ed",
   "metadata": {},
   "outputs": [
    {
     "data": {
      "image/png": "[encoded data removed]",
      "text/plain": [
       "<Figure size 800x500 with 2 Axes>"
      ]
     },
     "metadata": {},
     "output_type": "display_data"
    },
    {
     "data": {
      "image/png": "[encoded data removed]",
      "text/plain": [
       "<Figure size 800x500 with 2 Axes>"
      ]
     },
     "metadata": {},
     "output_type": "display_data"
    },
    {
     "data": {
      "image/png": "[encoded data removed]",
      "text/plain": [
       "<Figure size 800x500 with 2 Axes>"
      ]
     },
     "metadata": {},
     "output_type": "display_data"
    },
    {
     "data": {
      "image/png": "[encoded data removed]",
      "text/plain": [
       "<Figure size 800x500 with 2 Axes>"
      ]
     },
     "metadata": {},
     "output_type": "display_data"
    }
   ],
   "source": [
    "for i in range(len(list_col)):\n",
    "    dist_box(df_bmw[list_col[i]])"
   ]
  },
  {
   "cell_type": "code",
   "execution_count": 91,
   "id": "f3e91878",
   "metadata": {},
   "outputs": [
    {
     "data": {
      "image/png": "[encoded data removed]",
      "text/plain": [
       "<Figure size 1500x600 with 1 Axes>"
      ]
     },
     "metadata": {},
     "output_type": "display_data"
    }
   ],
   "source": [
    "fig, ax = plt.subplots(figsize=(15,6))\n",
    "ax.set_facecolor('#f6f5f5')\n",
    "fig.patch.set_facecolor('#f6f5f5')\n",
    "\n",
    "# Seleccionar los 10 modelos más comunes\n",
    "a = df_bmw['modelo'].value_counts().head(10)\n",
    "\n",
    "colors = ['#b20710'] + ['grey']*(len(a)-1)\n",
    "ax.bar(x=a.index, height=a.values, color=colors, alpha=0.9)\n",
    "\n",
    "# Añadir texto con el valor encima de cada barra\n",
    "for i, v in enumerate(a.values):\n",
    "    ax.text(i, v + 5, str(v), ha='center', fontdict={'font': 'serif', 'weight': 'normal', 'color': 'black', 'fontsize': 10}, alpha=0.8)\n",
    "\n",
    "ax.text(-1, max(a.values) + max(a.values)*0.1, 'Distribución de Modelo', \n",
    "        fontdict={'font': 'serif', 'color': 'black', 'fontsize': 18, 'weight':'bold'}, alpha=0.9)\n",
    "ax.text(-1, max(a.values) + max(a.values)*0.05, 'La mayoría de los coches son modelo 320.', \n",
    "        fontdict={'font': 'serif', 'color': 'black', 'fontsize': 12}, alpha=0.8)\n",
    "\n",
    "for loc in ['left','right','top','bottom']:\n",
    "    ax.spines[loc].set_visible(False)\n",
    "\n",
    "ax.set_xticklabels(a.index, fontdict={'font': 'serif', 'color': 'black', 'fontsize': 8, 'weight':'bold'}, alpha=0.8)\n",
    "ax.axes.get_yaxis().set_visible(False)\n",
    "\n",
    "plt.show()"
   ]
  },
  {
   "cell_type": "markdown",
   "id": "43297f31",
   "metadata": {},
   "source": [
    "### **5.2 CORRELACIÓN INCIAL**"
   ]
  },
  {
   "cell_type": "code",
   "execution_count": 92,
   "id": "239650bb",
   "metadata": {},
   "outputs": [
    {
     "data": {
      "text/html": [
       "<div>\n",
       "<style scoped>\n",
       "    .dataframe tbody tr th:only-of-type {\n",
       "        vertical-align: middle;\n",
       "    }\n",
       "\n",
       "    .dataframe tbody tr th {\n",
       "        vertical-align: top;\n",
       "    }\n",
       "\n",
       "    .dataframe thead th {\n",
       "        text-align: right;\n",
       "    }\n",
       "</style>\n",
       "<table border=\"1\" class=\"dataframe\">\n",
       "  <thead>\n",
       "    <tr style=\"text-align: right;\">\n",
       "      <th></th>\n",
       "      <th>modelo</th>\n",
       "      <th>km</th>\n",
       "      <th>potencia</th>\n",
       "      <th>tipo_coche</th>\n",
       "      <th>volante_regulable</th>\n",
       "      <th>aire_acondicionado</th>\n",
       "      <th>camara_trasera</th>\n",
       "      <th>elevalunas_electrico</th>\n",
       "      <th>bluetooth</th>\n",
       "      <th>alerta_lim_velocidad</th>\n",
       "      <th>precio</th>\n",
       "      <th>años_coche</th>\n",
       "      <th>color_estandar</th>\n",
       "    </tr>\n",
       "  </thead>\n",
       "  <tbody>\n",
       "    <tr>\n",
       "      <th>0</th>\n",
       "      <td>118</td>\n",
       "      <td>140411.0</td>\n",
       "      <td>100.0</td>\n",
       "      <td>coupe</td>\n",
       "      <td>True</td>\n",
       "      <td>True</td>\n",
       "      <td>False</td>\n",
       "      <td>True</td>\n",
       "      <td>True</td>\n",
       "      <td>False</td>\n",
       "      <td>11300.0</td>\n",
       "      <td>4-6</td>\n",
       "      <td>1.0</td>\n",
       "    </tr>\n",
       "    <tr>\n",
       "      <th>1</th>\n",
       "      <td>M4</td>\n",
       "      <td>13929.0</td>\n",
       "      <td>317.0</td>\n",
       "      <td>convertible</td>\n",
       "      <td>True</td>\n",
       "      <td>True</td>\n",
       "      <td>False</td>\n",
       "      <td>False</td>\n",
       "      <td>True</td>\n",
       "      <td>True</td>\n",
       "      <td>69700.0</td>\n",
       "      <td>1-3</td>\n",
       "      <td>1.0</td>\n",
       "    </tr>\n",
       "    <tr>\n",
       "      <th>2</th>\n",
       "      <td>320</td>\n",
       "      <td>183297.0</td>\n",
       "      <td>120.0</td>\n",
       "      <td>sedan</td>\n",
       "      <td>False</td>\n",
       "      <td>False</td>\n",
       "      <td>False</td>\n",
       "      <td>True</td>\n",
       "      <td>False</td>\n",
       "      <td>False</td>\n",
       "      <td>10200.0</td>\n",
       "      <td>4-6</td>\n",
       "      <td>1.0</td>\n",
       "    </tr>\n",
       "    <tr>\n",
       "      <th>3</th>\n",
       "      <td>420</td>\n",
       "      <td>128035.0</td>\n",
       "      <td>135.0</td>\n",
       "      <td>convertible</td>\n",
       "      <td>True</td>\n",
       "      <td>True</td>\n",
       "      <td>False</td>\n",
       "      <td>True</td>\n",
       "      <td>True</td>\n",
       "      <td>False</td>\n",
       "      <td>25100.0</td>\n",
       "      <td>4-6</td>\n",
       "      <td>0.0</td>\n",
       "    </tr>\n",
       "    <tr>\n",
       "      <th>4</th>\n",
       "      <td>425</td>\n",
       "      <td>97097.0</td>\n",
       "      <td>160.0</td>\n",
       "      <td>coupe</td>\n",
       "      <td>True</td>\n",
       "      <td>True</td>\n",
       "      <td>False</td>\n",
       "      <td>False</td>\n",
       "      <td>True</td>\n",
       "      <td>True</td>\n",
       "      <td>33400.0</td>\n",
       "      <td>4-6</td>\n",
       "      <td>0.0</td>\n",
       "    </tr>\n",
       "    <tr>\n",
       "      <th>...</th>\n",
       "      <td>...</td>\n",
       "      <td>...</td>\n",
       "      <td>...</td>\n",
       "      <td>...</td>\n",
       "      <td>...</td>\n",
       "      <td>...</td>\n",
       "      <td>...</td>\n",
       "      <td>...</td>\n",
       "      <td>...</td>\n",
       "      <td>...</td>\n",
       "      <td>...</td>\n",
       "      <td>...</td>\n",
       "      <td>...</td>\n",
       "    </tr>\n",
       "    <tr>\n",
       "      <th>4812</th>\n",
       "      <td>218 Gran Tourer</td>\n",
       "      <td>39743.0</td>\n",
       "      <td>110.0</td>\n",
       "      <td>van</td>\n",
       "      <td>False</td>\n",
       "      <td>True</td>\n",
       "      <td>False</td>\n",
       "      <td>False</td>\n",
       "      <td>False</td>\n",
       "      <td>False</td>\n",
       "      <td>14600.0</td>\n",
       "      <td>1-3</td>\n",
       "      <td>1.0</td>\n",
       "    </tr>\n",
       "    <tr>\n",
       "      <th>4813</th>\n",
       "      <td>218 Active Tourer</td>\n",
       "      <td>49832.0</td>\n",
       "      <td>100.0</td>\n",
       "      <td>van</td>\n",
       "      <td>False</td>\n",
       "      <td>True</td>\n",
       "      <td>False</td>\n",
       "      <td>False</td>\n",
       "      <td>False</td>\n",
       "      <td>True</td>\n",
       "      <td>17500.0</td>\n",
       "      <td>1-3</td>\n",
       "      <td>1.0</td>\n",
       "    </tr>\n",
       "    <tr>\n",
       "      <th>4814</th>\n",
       "      <td>218 Gran Tourer</td>\n",
       "      <td>19633.0</td>\n",
       "      <td>110.0</td>\n",
       "      <td>van</td>\n",
       "      <td>False</td>\n",
       "      <td>True</td>\n",
       "      <td>False</td>\n",
       "      <td>False</td>\n",
       "      <td>False</td>\n",
       "      <td>True</td>\n",
       "      <td>17000.0</td>\n",
       "      <td>1-3</td>\n",
       "      <td>1.0</td>\n",
       "    </tr>\n",
       "    <tr>\n",
       "      <th>4815</th>\n",
       "      <td>218 Active Tourer</td>\n",
       "      <td>27920.0</td>\n",
       "      <td>110.0</td>\n",
       "      <td>van</td>\n",
       "      <td>True</td>\n",
       "      <td>True</td>\n",
       "      <td>False</td>\n",
       "      <td>False</td>\n",
       "      <td>False</td>\n",
       "      <td>True</td>\n",
       "      <td>22700.0</td>\n",
       "      <td>1-3</td>\n",
       "      <td>0.0</td>\n",
       "    </tr>\n",
       "    <tr>\n",
       "      <th>4816</th>\n",
       "      <td>525</td>\n",
       "      <td>195840.0</td>\n",
       "      <td>160.0</td>\n",
       "      <td>estate</td>\n",
       "      <td>True</td>\n",
       "      <td>True</td>\n",
       "      <td>False</td>\n",
       "      <td>True</td>\n",
       "      <td>False</td>\n",
       "      <td>True</td>\n",
       "      <td>15500.0</td>\n",
       "      <td>4-6</td>\n",
       "      <td>1.0</td>\n",
       "    </tr>\n",
       "  </tbody>\n",
       "</table>\n",
       "<p>4817 rows × 13 columns</p>\n",
       "</div>"
      ],
      "text/plain": [
       "                 modelo        km  potencia   tipo_coche volante_regulable  \\\n",
       "0                   118  140411.0     100.0        coupe              True   \n",
       "1                    M4   13929.0     317.0  convertible              True   \n",
       "2                   320  183297.0     120.0        sedan             False   \n",
       "3                   420  128035.0     135.0  convertible              True   \n",
       "4                   425   97097.0     160.0        coupe              True   \n",
       "...                 ...       ...       ...          ...               ...   \n",
       "4812    218 Gran Tourer   39743.0     110.0          van             False   \n",
       "4813  218 Active Tourer   49832.0     100.0          van             False   \n",
       "4814    218 Gran Tourer   19633.0     110.0          van             False   \n",
       "4815  218 Active Tourer   27920.0     110.0          van              True   \n",
       "4816                525  195840.0     160.0       estate              True   \n",
       "\n",
       "      aire_acondicionado camara_trasera elevalunas_electrico  bluetooth  \\\n",
       "0                   True          False                 True       True   \n",
       "1                   True          False                False       True   \n",
       "2                  False          False                 True      False   \n",
       "3                   True          False                 True       True   \n",
       "4                   True          False                False       True   \n",
       "...                  ...            ...                  ...        ...   \n",
       "4812                True          False                False      False   \n",
       "4813                True          False                False      False   \n",
       "4814                True          False                False      False   \n",
       "4815                True          False                False      False   \n",
       "4816                True          False                 True      False   \n",
       "\n",
       "      alerta_lim_velocidad   precio años_coche  color_estandar  \n",
       "0                    False  11300.0        4-6             1.0  \n",
       "1                     True  69700.0        1-3             1.0  \n",
       "2                    False  10200.0        4-6             1.0  \n",
       "3                    False  25100.0        4-6             0.0  \n",
       "4                     True  33400.0        4-6             0.0  \n",
       "...                    ...      ...        ...             ...  \n",
       "4812                 False  14600.0        1-3             1.0  \n",
       "4813                  True  17500.0        1-3             1.0  \n",
       "4814                  True  17000.0        1-3             1.0  \n",
       "4815                  True  22700.0        1-3             0.0  \n",
       "4816                  True  15500.0        4-6             1.0  \n",
       "\n",
       "[4817 rows x 13 columns]"
      ]
     },
     "execution_count": 92,
     "metadata": {},
     "output_type": "execute_result"
    }
   ],
   "source": [
    "df_bmw"
   ]
  },
  {
   "cell_type": "code",
   "execution_count": 93,
   "id": "84f0fd13",
   "metadata": {},
   "outputs": [
    {
     "data": {
      "text/html": [
       "<style type=\"text/css\">\n",
       "#T_8ff40_row0_col0, #T_8ff40_row1_col1, #T_8ff40_row2_col2, #T_8ff40_row3_col3, #T_8ff40_row4_col4, #T_8ff40_row5_col5, #T_8ff40_row6_col6 {\n",
       "  background-color: #b40426;\n",
       "  color: #f1f1f1;\n",
       "}\n",
       "#T_8ff40_row0_col1, #T_8ff40_row0_col2, #T_8ff40_row0_col3, #T_8ff40_row0_col4, #T_8ff40_row0_col5, #T_8ff40_row0_col6, #T_8ff40_row2_col6, #T_8ff40_row5_col0 {\n",
       "  background-color: #3b4cc0;\n",
       "  color: #f1f1f1;\n",
       "}\n",
       "#T_8ff40_row1_col0 {\n",
       "  background-color: #8fb1fe;\n",
       "  color: #000000;\n",
       "}\n",
       "#T_8ff40_row1_col2 {\n",
       "  background-color: #779af7;\n",
       "  color: #f1f1f1;\n",
       "}\n",
       "#T_8ff40_row1_col3 {\n",
       "  background-color: #8db0fe;\n",
       "  color: #000000;\n",
       "}\n",
       "#T_8ff40_row1_col4 {\n",
       "  background-color: #e4d9d2;\n",
       "  color: #000000;\n",
       "}\n",
       "#T_8ff40_row1_col5 {\n",
       "  background-color: #f59c7d;\n",
       "  color: #000000;\n",
       "}\n",
       "#T_8ff40_row1_col6 {\n",
       "  background-color: #455cce;\n",
       "  color: #f1f1f1;\n",
       "}\n",
       "#T_8ff40_row2_col0 {\n",
       "  background-color: #9abbff;\n",
       "  color: #000000;\n",
       "}\n",
       "#T_8ff40_row2_col1 {\n",
       "  background-color: #84a7fc;\n",
       "  color: #f1f1f1;\n",
       "}\n",
       "#T_8ff40_row2_col3 {\n",
       "  background-color: #6687ed;\n",
       "  color: #f1f1f1;\n",
       "}\n",
       "#T_8ff40_row2_col4 {\n",
       "  background-color: #8caffe;\n",
       "  color: #000000;\n",
       "}\n",
       "#T_8ff40_row2_col5 {\n",
       "  background-color: #d3dbe7;\n",
       "  color: #000000;\n",
       "}\n",
       "#T_8ff40_row3_col0 {\n",
       "  background-color: #92b4fe;\n",
       "  color: #000000;\n",
       "}\n",
       "#T_8ff40_row3_col1, #T_8ff40_row4_col0 {\n",
       "  background-color: #90b2fe;\n",
       "  color: #000000;\n",
       "}\n",
       "#T_8ff40_row3_col2 {\n",
       "  background-color: #5b7ae5;\n",
       "  color: #f1f1f1;\n",
       "}\n",
       "#T_8ff40_row3_col4 {\n",
       "  background-color: #6485ec;\n",
       "  color: #f1f1f1;\n",
       "}\n",
       "#T_8ff40_row3_col5 {\n",
       "  background-color: #cad8ef;\n",
       "  color: #000000;\n",
       "}\n",
       "#T_8ff40_row3_col6 {\n",
       "  background-color: #465ecf;\n",
       "  color: #f1f1f1;\n",
       "}\n",
       "#T_8ff40_row4_col1 {\n",
       "  background-color: #e5d8d1;\n",
       "  color: #000000;\n",
       "}\n",
       "#T_8ff40_row4_col2 {\n",
       "  background-color: #82a6fb;\n",
       "  color: #f1f1f1;\n",
       "}\n",
       "#T_8ff40_row4_col3 {\n",
       "  background-color: #6384eb;\n",
       "  color: #f1f1f1;\n",
       "}\n",
       "#T_8ff40_row4_col5 {\n",
       "  background-color: #f2c9b4;\n",
       "  color: #000000;\n",
       "}\n",
       "#T_8ff40_row4_col6 {\n",
       "  background-color: #4257c9;\n",
       "  color: #f1f1f1;\n",
       "}\n",
       "#T_8ff40_row5_col1 {\n",
       "  background-color: #f7ba9f;\n",
       "  color: #000000;\n",
       "}\n",
       "#T_8ff40_row5_col2 {\n",
       "  background-color: #8badfd;\n",
       "  color: #000000;\n",
       "}\n",
       "#T_8ff40_row5_col3 {\n",
       "  background-color: #85a8fc;\n",
       "  color: #f1f1f1;\n",
       "}\n",
       "#T_8ff40_row5_col4 {\n",
       "  background-color: #d5dbe5;\n",
       "  color: #000000;\n",
       "}\n",
       "#T_8ff40_row5_col6 {\n",
       "  background-color: #4358cb;\n",
       "  color: #f1f1f1;\n",
       "}\n",
       "#T_8ff40_row6_col0 {\n",
       "  background-color: #9bbcff;\n",
       "  color: #000000;\n",
       "}\n",
       "#T_8ff40_row6_col1 {\n",
       "  background-color: #536edd;\n",
       "  color: #f1f1f1;\n",
       "}\n",
       "#T_8ff40_row6_col2 {\n",
       "  background-color: #3c4ec2;\n",
       "  color: #f1f1f1;\n",
       "}\n",
       "#T_8ff40_row6_col3 {\n",
       "  background-color: #516ddb;\n",
       "  color: #f1f1f1;\n",
       "}\n",
       "#T_8ff40_row6_col4 {\n",
       "  background-color: #4e68d8;\n",
       "  color: #f1f1f1;\n",
       "}\n",
       "#T_8ff40_row6_col5 {\n",
       "  background-color: #a3c2fe;\n",
       "  color: #000000;\n",
       "}\n",
       "</style>\n",
       "<table id=\"T_8ff40\">\n",
       "  <thead>\n",
       "    <tr>\n",
       "      <th class=\"blank level0\" >&nbsp;</th>\n",
       "      <th id=\"T_8ff40_level0_col0\" class=\"col_heading level0 col0\" >km</th>\n",
       "      <th id=\"T_8ff40_level0_col1\" class=\"col_heading level0 col1\" >potencia</th>\n",
       "      <th id=\"T_8ff40_level0_col2\" class=\"col_heading level0 col2\" >aire_acondicionado</th>\n",
       "      <th id=\"T_8ff40_level0_col3\" class=\"col_heading level0 col3\" >bluetooth</th>\n",
       "      <th id=\"T_8ff40_level0_col4\" class=\"col_heading level0 col4\" >alerta_lim_velocidad</th>\n",
       "      <th id=\"T_8ff40_level0_col5\" class=\"col_heading level0 col5\" >precio</th>\n",
       "      <th id=\"T_8ff40_level0_col6\" class=\"col_heading level0 col6\" >color_estandar</th>\n",
       "    </tr>\n",
       "  </thead>\n",
       "  <tbody>\n",
       "    <tr>\n",
       "      <th id=\"T_8ff40_level0_row0\" class=\"row_heading level0 row0\" >km</th>\n",
       "      <td id=\"T_8ff40_row0_col0\" class=\"data row0 col0\" >1.000000</td>\n",
       "      <td id=\"T_8ff40_row0_col1\" class=\"data row0 col1\" >-0.049208</td>\n",
       "      <td id=\"T_8ff40_row0_col2\" class=\"data row0 col2\" >-0.002052</td>\n",
       "      <td id=\"T_8ff40_row0_col3\" class=\"data row0 col3\" >-0.037989</td>\n",
       "      <td id=\"T_8ff40_row0_col4\" class=\"data row0 col4\" >-0.041008</td>\n",
       "      <td id=\"T_8ff40_row0_col5\" class=\"data row0 col5\" >-0.409000</td>\n",
       "      <td id=\"T_8ff40_row0_col6\" class=\"data row0 col6\" >0.000631</td>\n",
       "    </tr>\n",
       "    <tr>\n",
       "      <th id=\"T_8ff40_level0_row1\" class=\"row_heading level0 row1\" >potencia</th>\n",
       "      <td id=\"T_8ff40_row1_col0\" class=\"data row1 col0\" >-0.049208</td>\n",
       "      <td id=\"T_8ff40_row1_col1\" class=\"data row1 col1\" >1.000000</td>\n",
       "      <td id=\"T_8ff40_row1_col2\" class=\"data row1 col2\" >0.186766</td>\n",
       "      <td id=\"T_8ff40_row1_col3\" class=\"data row1 col3\" >0.224847</td>\n",
       "      <td id=\"T_8ff40_row1_col4\" class=\"data row1 col4\" >0.512004</td>\n",
       "      <td id=\"T_8ff40_row1_col5\" class=\"data row1 col5\" >0.640120</td>\n",
       "      <td id=\"T_8ff40_row1_col6\" class=\"data row1 col6\" >0.036434</td>\n",
       "    </tr>\n",
       "    <tr>\n",
       "      <th id=\"T_8ff40_level0_row2\" class=\"row_heading level0 row2\" >aire_acondicionado</th>\n",
       "      <td id=\"T_8ff40_row2_col0\" class=\"data row2 col0\" >-0.002052</td>\n",
       "      <td id=\"T_8ff40_row2_col1\" class=\"data row2 col1\" >0.186766</td>\n",
       "      <td id=\"T_8ff40_row2_col2\" class=\"data row2 col2\" >1.000000</td>\n",
       "      <td id=\"T_8ff40_row2_col3\" class=\"data row2 col3\" >0.106088</td>\n",
       "      <td id=\"T_8ff40_row2_col4\" class=\"data row2 col4\" >0.218543</td>\n",
       "      <td id=\"T_8ff40_row2_col5\" class=\"data row2 col5\" >0.240665</td>\n",
       "      <td id=\"T_8ff40_row2_col6\" class=\"data row2 col6\" >0.003870</td>\n",
       "    </tr>\n",
       "    <tr>\n",
       "      <th id=\"T_8ff40_level0_row3\" class=\"row_heading level0 row3\" >bluetooth</th>\n",
       "      <td id=\"T_8ff40_row3_col0\" class=\"data row3 col0\" >-0.037989</td>\n",
       "      <td id=\"T_8ff40_row3_col1\" class=\"data row3 col1\" >0.224847</td>\n",
       "      <td id=\"T_8ff40_row3_col2\" class=\"data row3 col2\" >0.106088</td>\n",
       "      <td id=\"T_8ff40_row3_col3\" class=\"data row3 col3\" >1.000000</td>\n",
       "      <td id=\"T_8ff40_row3_col4\" class=\"data row3 col4\" >0.097325</td>\n",
       "      <td id=\"T_8ff40_row3_col5\" class=\"data row3 col5\" >0.198700</td>\n",
       "      <td id=\"T_8ff40_row3_col6\" class=\"data row3 col6\" >0.040935</td>\n",
       "    </tr>\n",
       "    <tr>\n",
       "      <th id=\"T_8ff40_level0_row4\" class=\"row_heading level0 row4\" >alerta_lim_velocidad</th>\n",
       "      <td id=\"T_8ff40_row4_col0\" class=\"data row4 col0\" >-0.041008</td>\n",
       "      <td id=\"T_8ff40_row4_col1\" class=\"data row4 col1\" >0.512004</td>\n",
       "      <td id=\"T_8ff40_row4_col2\" class=\"data row4 col2\" >0.218543</td>\n",
       "      <td id=\"T_8ff40_row4_col3\" class=\"data row4 col3\" >0.097325</td>\n",
       "      <td id=\"T_8ff40_row4_col4\" class=\"data row4 col4\" >1.000000</td>\n",
       "      <td id=\"T_8ff40_row4_col5\" class=\"data row4 col5\" >0.449259</td>\n",
       "      <td id=\"T_8ff40_row4_col6\" class=\"data row4 col6\" >0.024926</td>\n",
       "    </tr>\n",
       "    <tr>\n",
       "      <th id=\"T_8ff40_level0_row5\" class=\"row_heading level0 row5\" >precio</th>\n",
       "      <td id=\"T_8ff40_row5_col0\" class=\"data row5 col0\" >-0.409000</td>\n",
       "      <td id=\"T_8ff40_row5_col1\" class=\"data row5 col1\" >0.640120</td>\n",
       "      <td id=\"T_8ff40_row5_col2\" class=\"data row5 col2\" >0.240665</td>\n",
       "      <td id=\"T_8ff40_row5_col3\" class=\"data row5 col3\" >0.198700</td>\n",
       "      <td id=\"T_8ff40_row5_col4\" class=\"data row5 col4\" >0.449259</td>\n",
       "      <td id=\"T_8ff40_row5_col5\" class=\"data row5 col5\" >1.000000</td>\n",
       "      <td id=\"T_8ff40_row5_col6\" class=\"data row5 col6\" >0.031337</td>\n",
       "    </tr>\n",
       "    <tr>\n",
       "      <th id=\"T_8ff40_level0_row6\" class=\"row_heading level0 row6\" >color_estandar</th>\n",
       "      <td id=\"T_8ff40_row6_col0\" class=\"data row6 col0\" >0.000631</td>\n",
       "      <td id=\"T_8ff40_row6_col1\" class=\"data row6 col1\" >0.036434</td>\n",
       "      <td id=\"T_8ff40_row6_col2\" class=\"data row6 col2\" >0.003870</td>\n",
       "      <td id=\"T_8ff40_row6_col3\" class=\"data row6 col3\" >0.040935</td>\n",
       "      <td id=\"T_8ff40_row6_col4\" class=\"data row6 col4\" >0.024926</td>\n",
       "      <td id=\"T_8ff40_row6_col5\" class=\"data row6 col5\" >0.031337</td>\n",
       "      <td id=\"T_8ff40_row6_col6\" class=\"data row6 col6\" >1.000000</td>\n",
       "    </tr>\n",
       "  </tbody>\n",
       "</table>\n"
      ],
      "text/plain": [
       "<pandas.io.formats.style.Styler at 0x177f9b8b0>"
      ]
     },
     "execution_count": 93,
     "metadata": {},
     "output_type": "execute_result"
    }
   ],
   "source": [
    "corr = df_bmw.corr(numeric_only=True)  \n",
    "corr.style.background_gradient(cmap='coolwarm')"
   ]
  },
  {
   "cell_type": "markdown",
   "id": "d6a7109d",
   "metadata": {},
   "source": [
    "### **5.3 VARIABLES VS TARGET (`PRECIO`)** "
   ]
  },
  {
   "cell_type": "code",
   "execution_count": null,
   "id": "af2c4c44",
   "metadata": {},
   "outputs": [],
   "source": []
  },
  {
   "cell_type": "markdown",
   "id": "f698895f",
   "metadata": {},
   "source": [
    "## **06 - TRANSFORMACIÓN DE VARIABLES**"
   ]
  },
  {
   "cell_type": "markdown",
   "id": "bd8a9f1f",
   "metadata": {},
   "source": [
    "### **6.1 - CODIFICACIÓN DE VARIABLES**"
   ]
  },
  {
   "cell_type": "code",
   "execution_count": null,
   "id": "f246d462",
   "metadata": {},
   "outputs": [],
   "source": []
  },
  {
   "cell_type": "markdown",
   "id": "8749ed39",
   "metadata": {},
   "source": [
    "### **6.2 - ESCALADO (MINMAXSCALER)**"
   ]
  },
  {
   "cell_type": "code",
   "execution_count": null,
   "id": "26a8cdcb",
   "metadata": {},
   "outputs": [],
   "source": []
  },
  {
   "cell_type": "markdown",
   "id": "f39dfa53",
   "metadata": {},
   "source": [
    "### **6.3 - CORRELACIÓN FINAL**"
   ]
  },
  {
   "cell_type": "code",
   "execution_count": null,
   "id": "05481b2a",
   "metadata": {},
   "outputs": [],
   "source": []
  },
  {
   "cell_type": "markdown",
   "id": "aee8e356",
   "metadata": {},
   "source": [
    "## **07 - DATASET FINAL**"
   ]
  },
  {
   "cell_type": "markdown",
   "id": "89bb29a9",
   "metadata": {},
   "source": [
    "### **7.1 - INFO()**"
   ]
  },
  {
   "cell_type": "code",
   "execution_count": null,
   "id": "ca5683fc",
   "metadata": {},
   "outputs": [],
   "source": []
  },
  {
   "cell_type": "markdown",
   "id": "fd207945",
   "metadata": {},
   "source": [
    "### **7.2 - EXPORTACIÓN DE PRIMERAS 50 FILAS A EXCEL**"
   ]
  },
  {
   "cell_type": "code",
   "execution_count": 94,
   "id": "8b04ec08",
   "metadata": {},
   "outputs": [],
   "source": [
    "#vamos a estudiar la correlacion entre precio y el color del coche para las filas que no tienen nulos\n",
    "media_precio_color = df_bmw.groupby('color_estandar')['precio'].mean().sort_values(ascending=False)"
   ]
  },
  {
   "cell_type": "code",
   "execution_count": 95,
   "id": "2e941202",
   "metadata": {},
   "outputs": [
    {
     "data": {
      "image/png": "[encoded data removed]",
      "text/plain": [
       "<Figure size 1200x600 with 1 Axes>"
      ]
     },
     "metadata": {},
     "output_type": "display_data"
    }
   ],
   "source": [
    "# Precio medio por color (sin nulos)\n",
    "media_precio_color = (\n",
    "    bmw.groupby('color')['precio']\n",
    "    .mean()\n",
    "    .sort_values(ascending=False)\n",
    ")\n",
    "\n",
    "# Conteo de coches por color\n",
    "conteo_color = bmw['color'].value_counts()\n",
    "conteo_color = conteo_color.reindex(media_precio_color.index)\n",
    "\n",
    "# Lista de colores: 'lightgrey' para 'desconocido'\n",
    "colores_barras = [\n",
    "    'lightgrey' if c.lower() == 'desconocido' else c.lower()\n",
    "    for c in media_precio_color.index\n",
    "]\n",
    "\n",
    "# Gráfico\n",
    "plt.figure(figsize=(12,6))\n",
    "ax = sns.barplot(\n",
    "    x=media_precio_color.index,\n",
    "    y=media_precio_color.values,\n",
    "    palette=colores_barras,\n",
    "    edgecolor='black',   # Borde negro\n",
    "    linewidth=0.8         # Grosor del borde\n",
    ")\n",
    "\n",
    "# Etiquetas con el número de coches\n",
    "for i, (y_barra, n_coches) in enumerate(zip(media_precio_color.values, conteo_color.values)):\n",
    "    ax.text(\n",
    "        i, y_barra + 300,\n",
    "        f'{n_coches}',\n",
    "        ha='center', va='bottom',\n",
    "        fontsize=9, weight='bold'\n",
    "    )\n",
    "\n",
    "plt.xticks(rotation=45)\n",
    "plt.title('Precio medio por color del coche', fontsize=14)\n",
    "plt.xlabel('Color')\n",
    "plt.ylabel('Precio medio (€)')\n",
    "plt.grid(axis='y', linestyle='--', alpha=0.5)\n",
    "plt.tight_layout()\n",
    "plt.show()"
   ]
  },
  {
   "cell_type": "code",
   "execution_count": null,
   "id": "543c0728",
   "metadata": {},
   "outputs": [],
   "source": []
  }
 ],
 "metadata": {
  "kernelspec": {
   "display_name": "Python 3",
   "language": "python",
   "name": "python3"
  },
  "language_info": {
   "codemirror_mode": {
    "name": "ipython",
    "version": 3
   },
   "file_extension": ".py",
   "mimetype": "text/x-python",
   "name": "python",
   "nbconvert_exporter": "python",
   "pygments_lexer": "ipython3",
   "version": "3.9.6"
  }
 },
 "nbformat": 4,
 "nbformat_minor": 5
}
